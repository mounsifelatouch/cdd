{
  "cells": [
    {
      "cell_type": "markdown",
      "metadata": {
        "id": "view-in-github",
        "colab_type": "text"
      },
      "source": [
        "<a href=\"https://colab.research.google.com/github/mounsifelatouch/cdd/blob/master/notebooks/4_cdd_ml_part_4_model_building%20-%20RandomOverSampling.ipynb\" target=\"_parent\"><img src=\"https://colab.research.google.com/assets/colab-badge.svg\" alt=\"Open In Colab\"/></a>"
      ]
    },
    {
      "cell_type": "markdown",
      "metadata": {
        "id": "7AAfh_j7hSwQ"
      },
      "source": [
        "# **Bioinformatics Project - Computational Drug Discovery [Part 4] Classification Models Building**\n",
        "\n",
        "**MOUNSIF EL ATOUCH**\n",
        "\n",
        "In this Jupyter notebook, we will be building a machine learning model using the ChEMBL bioactivity data.\n",
        "\n",
        "In **Part 4**, we will be building classification models\n",
        "\n",
        "---"
      ]
    },
    {
      "cell_type": "markdown",
      "metadata": {
        "id": "SsPbzowRSvzc"
      },
      "source": [
        "## **1. Installing librairies**"
      ]
    },
    {
      "cell_type": "markdown",
      "metadata": {
        "id": "jw7MqTMphSwR"
      },
      "source": [
        "## **2. Importing libraries**"
      ]
    },
    {
      "cell_type": "code",
      "execution_count": 1,
      "metadata": {
        "id": "D3rFTNAIhSwS"
      },
      "outputs": [],
      "source": [
        "import os\n",
        "import pandas as pd\n",
        "\n",
        "from scipy.spatial.distance import *\n",
        "import numpy as np\n",
        "\n",
        "import matplotlib.pyplot as plt\n",
        "%matplotlib inline\n",
        "import seaborn as sns\n",
        "\n",
        "seed = 123\n",
        "\n",
        "from sklearn.model_selection import *\n",
        "from sklearn.feature_selection import VarianceThreshold\n",
        "from sklearn.metrics import *\n",
        "\n",
        "from scipy.stats import randint, uniform\n",
        "\n",
        "from scipy import interp\n",
        "from sklearn.metrics import RocCurveDisplay\n",
        "\n",
        "import warnings\n",
        "warnings.filterwarnings('ignore')"
      ]
    },
    {
      "cell_type": "code",
      "execution_count": 2,
      "metadata": {
        "id": "klD3UIiw0iOC"
      },
      "outputs": [],
      "source": [
        "from sklearn.ensemble import ExtraTreesClassifier\n",
        "import xgboost as xgb\n",
        "from sklearn.ensemble import AdaBoostClassifier\n",
        "from sklearn.tree import DecisionTreeClassifier\n",
        "from sklearn.naive_bayes import GaussianNB\n",
        "import lightgbm as lgb\n",
        "from sklearn.neighbors import KNeighborsClassifier\n",
        "from sklearn.ensemble import RandomForestClassifier\n",
        "\n",
        "from sklearn.svm import SVC  \n",
        "from sklearn.neural_network import MLPClassifier\n",
        "from sklearn.linear_model import LogisticRegression\n",
        "from sklearn.ensemble import GradientBoostingClassifier"
      ]
    },
    {
      "cell_type": "code",
      "execution_count": 3,
      "metadata": {
        "id": "TWF2oygoUIEX"
      },
      "outputs": [],
      "source": [
        "def print_score(clf, X_train, y_train, X_test, y_test, train=True):\n",
        "    if train:\n",
        "        pred = clf.predict(X_train)\n",
        "        clf_report = pd.DataFrame(classification_report(y_train, pred, output_dict=True))\n",
        "        print(\"Train Result:\\n================================================\")\n",
        "        print(f\"Accuracy Score: {accuracy_score(y_train, pred) * 100:.2f}%\")\n",
        "        print(\"_______________________________________________\")\n",
        "        print(f\"CLASSIFICATION REPORT:\\n{clf_report}\")\n",
        "        print(\"_______________________________________________\")\n",
        "        print(f\"Confusion Matrix: \\n {confusion_matrix(y_train, pred)}\\n\")\n",
        "        \n",
        "    elif train==False:\n",
        "        pred = clf.predict(X_test)\n",
        "        clf_report = pd.DataFrame(classification_report(y_test, pred, output_dict=True))\n",
        "        print(\"Test Result:\\n================================================\")        \n",
        "        print(f\"Accuracy Score: {accuracy_score(y_test, pred) * 100:.2f}%\")\n",
        "        print(\"_______________________________________________\")\n",
        "        print(f\"CLASSIFICATION REPORT:\\n{clf_report}\")\n",
        "        print(\"_______________________________________________\")\n",
        "        print(f\"Confusion Matrix: \\n {confusion_matrix(y_test, pred)}\\n\")"
      ]
    },
    {
      "cell_type": "code",
      "execution_count": 4,
      "metadata": {
        "id": "-ts7qg-SnfZ4"
      },
      "outputs": [],
      "source": [
        "def print_auc(clf, X_train, y_train, X_test, y_test, model_name) :\n",
        "    \n",
        "    clf = clf.fit(X_train, y_train)\n",
        "    y_pred_proba = clf.predict_proba(X_test)[::,1]\n",
        "    fpr, tpr, thr = roc_curve(y_test,  y_pred_proba)\n",
        "    roc_auc = roc_auc_score(y_test, y_pred_proba)\n",
        "    #plt.plot(fpr, tpr, label=model_name+\" auc=\"+str(roc_auc))\n",
        "    #plt.legend(loc=4)\n",
        "    #plt.title(\"ROC curve\")\n",
        "\n",
        "    #plt.show()\n",
        "    # Data to plot precision - recall curve\n",
        "    precision, recall, thresholds_log = precision_recall_curve(y_test, y_pred_proba)\n",
        "    # Use AUC function to calculate the area under the curve of precision recall curve\n",
        "    auc_precision_recall = auc(recall, precision)\n",
        "    \n",
        "    #plt.plot(recall, precision, label=model_name+\" auc_prc=\"+str(auc_precision_recall))\n",
        "    #plt.xlabel(\"Recall\")\n",
        "    #plt.ylabel(\"Precision\")\n",
        "    #plt.legend(loc=4)\n",
        "    #plt.title(\"Precision-Recall Curve\")\n",
        "\n",
        "    #plt.show()\n",
        "    precision_sc=precision_score(y_test, clf.predict(X_test), average=None)\n",
        "    recall_sc = recall_score(y_test, clf.predict(X_test), average=None)\n",
        "    test_score = accuracy_score(y_test, clf.predict(X_test)) * 100\n",
        "    train_score = accuracy_score(y_train, clf.predict(X_train)) * 100\n",
        "    f1 = f1_score(y_test, clf.predict(X_test))\n",
        "    #print_score(clf, X_train, y_train, X_test, y_test, train=True)\n",
        "    #print_score(clf, X_train, y_train, X_test, y_test, train=False)\n",
        "    metriques = {\"fpr\" : fpr, \"recall_sc\" : recall_sc, \"precision_sc\" : precision_sc, \"tpr\" : tpr,\n",
        "                 \"test_score\" : test_score, \"train_score\" : train_score, \"f1\" : f1,\n",
        "                 \"auc_pr\" : auc_precision_recall, \"auc\": roc_auc}\n",
        "    return metriques"
      ]
    },
    {
      "cell_type": "code",
      "execution_count": 5,
      "metadata": {
        "id": "5E4phmZn-u_n"
      },
      "outputs": [],
      "source": [
        "def metrics(X_train, X_test, y_train, y_test, model):\n",
        "    y_pred = model.predict(X_test)\n",
        "    y_proba = model.predict_proba(X_test)[:, 1]\n",
        "    print(\"Training set accuracy: {:.2f}\".format(model.score(X_train, y_train)))\n",
        "    print(\"Test set accuracy: {:.2f}\".format(model.score(X_test, y_test)))\n",
        "    print(\"Precision: {:.2f}\".format(precision_score(y_test, y_pred)))\n",
        "    print(\"Recall: {:.2f}\".format(recall_score(y_test, y_pred)))\n",
        "    print(\"F1 score: {:.2f}\".format(f1_score(y_test, y_pred)))\n",
        "    print(\"ROC AUC score: {:.2f}\".format(roc_auc_score(y_test, y_proba)))\n",
        "    print(\"Confusion matrix:\\n\", confusion_matrix(y_test, y_pred))\n",
        "    tn, fp, fn, tp = confusion_matrix(y_test, y_pred).ravel()\n",
        "    print(\"True Negatives: {:.0f}\".format(tn))\n",
        "    print(\"False Positives: {:.0f}\".format(fp))\n",
        "    print(\"False Negatives: {:.0f}\".format(fn))\n",
        "    print(\"TruePositives: {:.0f}\".format(tp))\n",
        "    print(\"-------------------------------------\")\n",
        "    return"
      ]
    },
    {
      "cell_type": "markdown",
      "metadata": {
        "id": "0GvT3PArhSwX"
      },
      "source": [
        "## **4. Load the data set**"
      ]
    },
    {
      "cell_type": "code",
      "execution_count": 6,
      "metadata": {
        "colab": {
          "base_uri": "https://localhost:8080/"
        },
        "id": "stvhigCCaSgS",
        "outputId": "68988f29-1aea-4eb2-b6e7-7df58a8a423b"
      },
      "outputs": [
        {
          "output_type": "stream",
          "name": "stdout",
          "text": [
            "--2023-06-06 13:09:29--  https://raw.githubusercontent.com/mounsifelatouch/cdd/master/data/bioactivity_data_PubchemFingerprinter.csv\n",
            "Resolving raw.githubusercontent.com (raw.githubusercontent.com)... 185.199.108.133, 185.199.109.133, 185.199.110.133, ...\n",
            "Connecting to raw.githubusercontent.com (raw.githubusercontent.com)|185.199.108.133|:443... connected.\n",
            "HTTP request sent, awaiting response... 200 OK\n",
            "Length: 1090920 (1.0M) [text/plain]\n",
            "Saving to: ‘bioactivity_data_PubchemFingerprinter.csv’\n",
            "\n",
            "\r          bioactivi   0%[                    ]       0  --.-KB/s               \rbioactivity_data_Pu 100%[===================>]   1.04M  --.-KB/s    in 0.009s  \n",
            "\n",
            "2023-06-06 13:09:29 (110 MB/s) - ‘bioactivity_data_PubchemFingerprinter.csv’ saved [1090920/1090920]\n",
            "\n"
          ]
        }
      ],
      "source": [
        "! wget https://raw.githubusercontent.com/mounsifelatouch/cdd/master/data/bioactivity_data_PubchemFingerprinter.csv"
      ]
    },
    {
      "cell_type": "code",
      "execution_count": 7,
      "metadata": {
        "id": "cSgppzqPiR0G"
      },
      "outputs": [],
      "source": [
        "df = pd.read_csv('bioactivity_data_PubchemFingerprinter.csv')"
      ]
    },
    {
      "cell_type": "markdown",
      "metadata": {
        "id": "kuiiC0xthSwb"
      },
      "source": [
        "## **5. Input features**"
      ]
    },
    {
      "cell_type": "markdown",
      "metadata": {
        "id": "iCeQQn0uhSwb"
      },
      "source": [
        "### **5.1. Input features**"
      ]
    },
    {
      "cell_type": "code",
      "execution_count": 8,
      "metadata": {
        "id": "li32nAPohSwc",
        "scrolled": true
      },
      "outputs": [],
      "source": [
        "X = df.drop('activity', axis=1)"
      ]
    },
    {
      "cell_type": "markdown",
      "metadata": {
        "id": "sGQjCQtfhSwg"
      },
      "source": [
        "### **5.2. Output features**"
      ]
    },
    {
      "cell_type": "code",
      "execution_count": 9,
      "metadata": {
        "id": "OWylAtAVhSwh"
      },
      "outputs": [],
      "source": [
        "y = df['activity']"
      ]
    },
    {
      "cell_type": "code",
      "execution_count": 10,
      "metadata": {
        "id": "7nRIG2ts9gnf"
      },
      "outputs": [],
      "source": [
        "# count the number of instances in each class\n",
        "counts = y.value_counts()\n",
        "\n",
        "# calculate the ratio of the negative class to the positive class\n",
        "imbalance_ratio = counts[0] / counts[1]"
      ]
    },
    {
      "cell_type": "markdown",
      "metadata": {
        "id": "E-zGSqXohSwx"
      },
      "source": [
        "### **5.3. Let's examine the data dimension**"
      ]
    },
    {
      "cell_type": "code",
      "execution_count": 11,
      "metadata": {
        "colab": {
          "base_uri": "https://localhost:8080/"
        },
        "id": "nhT04XtLhSwx",
        "outputId": "3f681be5-9fcf-466e-f7fd-b2f93ab145d0"
      },
      "outputs": [
        {
          "output_type": "execute_result",
          "data": {
            "text/plain": [
              "((612, 881), (612,))"
            ]
          },
          "metadata": {},
          "execution_count": 11
        }
      ],
      "source": [
        "X.shape, y.shape"
      ]
    },
    {
      "cell_type": "markdown",
      "metadata": {
        "id": "AtaFgHI9aSgX"
      },
      "source": [
        "### **5.4. Remove low variance features**"
      ]
    },
    {
      "cell_type": "code",
      "execution_count": 12,
      "metadata": {
        "id": "wHh6_KoBaSgX"
      },
      "outputs": [],
      "source": [
        "# Create a VarianceThreshold object\n",
        "selector = VarianceThreshold(threshold=.01)\n",
        "\n",
        "# Fit the selector to the data and transform the data\n",
        "selector.fit_transform(X)\n",
        "\n",
        "# Get the indices of the selected features\n",
        "selected_indices = selector.get_support(indices=True)\n",
        "\n",
        "# Get the names of the selected features\n",
        "selected_features = X.columns[selected_indices]\n",
        "\n",
        "X_reduced = X[selected_features]"
      ]
    },
    {
      "cell_type": "code",
      "execution_count": 13,
      "metadata": {
        "colab": {
          "base_uri": "https://localhost:8080/"
        },
        "id": "7A_sKkiiaSgY",
        "outputId": "1f97f975-f4c9-43f1-8dd7-8a8ffa23868a"
      },
      "outputs": [
        {
          "output_type": "execute_result",
          "data": {
            "text/plain": [
              "((612, 881), (612, 428))"
            ]
          },
          "metadata": {},
          "execution_count": 13
        }
      ],
      "source": [
        "X.shape, X_reduced.shape"
      ]
    },
    {
      "cell_type": "markdown",
      "metadata": {
        "id": "AjhOlkOVhSxR"
      },
      "source": [
        "## **6. Data split (80/20 ratio)**"
      ]
    },
    {
      "cell_type": "code",
      "execution_count": 14,
      "metadata": {
        "id": "Be-1xtR_aSgZ"
      },
      "outputs": [],
      "source": [
        "n = np.arange(len(X_reduced))\n",
        "idx_train, idx_test = train_test_split(n, stratify=y, test_size=.2, random_state=seed)"
      ]
    },
    {
      "cell_type": "code",
      "execution_count": 15,
      "metadata": {
        "id": "yO0-rdxraSga"
      },
      "outputs": [],
      "source": [
        "X1_train, y1_train = X_reduced.loc[idx_train], y.loc[idx_train]\n",
        "X1_test, y1_test = X_reduced.loc[idx_test], y.loc[idx_test]"
      ]
    },
    {
      "cell_type": "code",
      "execution_count": 16,
      "metadata": {
        "colab": {
          "base_uri": "https://localhost:8080/"
        },
        "id": "-mTBEdJzaSga",
        "outputId": "cedd3e07-2ffc-4999-b87f-0a5d0371a7d1"
      },
      "outputs": [
        {
          "output_type": "execute_result",
          "data": {
            "text/plain": [
              "((489, 428), (489,))"
            ]
          },
          "metadata": {},
          "execution_count": 16
        }
      ],
      "source": [
        "X1_train.shape, y1_train.shape"
      ]
    },
    {
      "cell_type": "code",
      "execution_count": 17,
      "metadata": {
        "colab": {
          "base_uri": "https://localhost:8080/"
        },
        "id": "LJnMW1a-aSgb",
        "outputId": "1d684805-6606-48cd-b3ee-2a7fc923c70f"
      },
      "outputs": [
        {
          "output_type": "execute_result",
          "data": {
            "text/plain": [
              "((123, 428), (123,))"
            ]
          },
          "metadata": {},
          "execution_count": 17
        }
      ],
      "source": [
        "X1_test.shape, y1_test.shape"
      ]
    },
    {
      "cell_type": "markdown",
      "metadata": {
        "id": "LKDG3FL2aSgb"
      },
      "source": [
        "\n",
        "\n",
        "---\n",
        "\n"
      ]
    },
    {
      "cell_type": "markdown",
      "metadata": {
        "id": "EOzM6ShK0iOU"
      },
      "source": [
        "### **Random Oversampling**"
      ]
    },
    {
      "cell_type": "code",
      "execution_count": 18,
      "metadata": {
        "id": "jiZYMbG90iOU"
      },
      "outputs": [],
      "source": [
        "from imblearn.over_sampling import RandomOverSampler\n",
        "\n",
        "# create an oversampler object with a 1:1 ratio of positive to negative samples\n",
        "ros = RandomOverSampler(sampling_strategy='minority', random_state=seed)\n",
        "\n",
        "# fit and apply the oversampler to the training data\n",
        "X1_train_ros, y1_train_ros = ros.fit_resample(X1_train, y1_train)"
      ]
    },
    {
      "cell_type": "code",
      "execution_count": 19,
      "metadata": {
        "id": "nuAqsIWUaSgb"
      },
      "outputs": [],
      "source": [
        "X = X1_train_ros.reset_index(drop=True)\n",
        "y = y1_train_ros.reset_index(drop=True)\n",
        "X1_test = X1_test.reset_index(drop=True)\n",
        "y1_test = y1_test.reset_index(drop=True)"
      ]
    },
    {
      "cell_type": "code",
      "execution_count": 20,
      "metadata": {
        "id": "xq6n06GjaSgc"
      },
      "outputs": [],
      "source": [
        "n_samples, n_classes = X.shape[0], 2\n",
        "class_weights = dict(zip(np.unique(y), n_samples / (n_classes * np.bincount(y))))"
      ]
    },
    {
      "cell_type": "markdown",
      "metadata": {
        "id": "6oC9LSpsD9HN"
      },
      "source": [
        "## **7. Modeling**"
      ]
    },
    {
      "cell_type": "markdown",
      "metadata": {
        "id": "qNMPvtib-8aN"
      },
      "source": [
        "## **Logistic Regression**"
      ]
    },
    {
      "cell_type": "code",
      "execution_count": 21,
      "metadata": {
        "id": "8UnaANLsK6YJ"
      },
      "outputs": [],
      "source": [
        "model1 = LogisticRegression(random_state=seed).fit(X1_train, y1_train)"
      ]
    },
    {
      "cell_type": "code",
      "execution_count": 22,
      "metadata": {
        "colab": {
          "base_uri": "https://localhost:8080/",
          "height": 81
        },
        "id": "gcNsQMtYK3KK",
        "outputId": "6ebb694f-f39f-474d-dbcf-0a76fe36da38"
      },
      "outputs": [
        {
          "output_type": "execute_result",
          "data": {
            "text/plain": [
              "<pandas.io.formats.style.Styler at 0x7fee0d307430>"
            ],
            "text/html": [
              "<style type=\"text/css\">\n",
              "</style>\n",
              "<table id=\"T_e1204\" class=\"dataframe\">\n",
              "  <thead>\n",
              "    <tr>\n",
              "      <th id=\"T_e1204_level0_col0\" class=\"col_heading level0 col0\" >Model</th>\n",
              "      <th id=\"T_e1204_level0_col1\" class=\"col_heading level0 col1\" >f1_score</th>\n",
              "      <th id=\"T_e1204_level0_col2\" class=\"col_heading level0 col2\" >auc</th>\n",
              "      <th id=\"T_e1204_level0_col3\" class=\"col_heading level0 col3\" >auc_pr</th>\n",
              "      <th id=\"T_e1204_level0_col4\" class=\"col_heading level0 col4\" >recall_classe(0)</th>\n",
              "      <th id=\"T_e1204_level0_col5\" class=\"col_heading level0 col5\" >recall_classe(1)</th>\n",
              "      <th id=\"T_e1204_level0_col6\" class=\"col_heading level0 col6\" >precision_classe(0)</th>\n",
              "      <th id=\"T_e1204_level0_col7\" class=\"col_heading level0 col7\" >precision_classe(1)</th>\n",
              "    </tr>\n",
              "  </thead>\n",
              "  <tbody>\n",
              "    <tr>\n",
              "      <td id=\"T_e1204_row0_col0\" class=\"data row0 col0\" >Logistic Regression</td>\n",
              "      <td id=\"T_e1204_row0_col1\" class=\"data row0 col1\" >0.888889</td>\n",
              "      <td id=\"T_e1204_row0_col2\" class=\"data row0 col2\" >0.953297</td>\n",
              "      <td id=\"T_e1204_row0_col3\" class=\"data row0 col3\" >0.932885</td>\n",
              "      <td id=\"T_e1204_row0_col4\" class=\"data row0 col4\" >0.967033</td>\n",
              "      <td id=\"T_e1204_row0_col5\" class=\"data row0 col5\" >0.875000</td>\n",
              "      <td id=\"T_e1204_row0_col6\" class=\"data row0 col6\" >0.956522</td>\n",
              "      <td id=\"T_e1204_row0_col7\" class=\"data row0 col7\" >0.903226</td>\n",
              "    </tr>\n",
              "  </tbody>\n",
              "</table>\n"
            ]
          },
          "metadata": {},
          "execution_count": 22
        }
      ],
      "source": [
        "clf = print_auc(model1, X1_train, y1_train, X1_test, y1_test, 'Logistic Regression')\n",
        "results_df = pd.DataFrame(data=[['Logistic Regression', clf['f1'], clf['auc'], clf['auc_pr'], clf['recall_sc'][0], clf['recall_sc'][1], clf['precision_sc'][0], clf['precision_sc'][1]]], \n",
        "                          columns=['Model', 'f1_score', 'auc', 'auc_pr', 'recall_classe(0)', 'recall_classe(1)', 'precision_classe(0)', 'precision_classe(1)'])\n",
        "\n",
        "results_df.style.hide_index()"
      ]
    },
    {
      "cell_type": "markdown",
      "metadata": {
        "id": "zLKEYo31Y18n"
      },
      "source": [
        "## **SVC**"
      ]
    },
    {
      "cell_type": "code",
      "execution_count": 23,
      "metadata": {
        "id": "S-keDIf0c1rY"
      },
      "outputs": [],
      "source": [
        "model2 = SVC(random_state=seed, probability=True).fit(X1_train, y1_train)"
      ]
    },
    {
      "cell_type": "code",
      "execution_count": 24,
      "metadata": {
        "colab": {
          "base_uri": "https://localhost:8080/",
          "height": 112
        },
        "id": "NoGvPg8-dMci",
        "outputId": "09593e4f-a9dd-4357-bb0b-602582940fde"
      },
      "outputs": [
        {
          "output_type": "execute_result",
          "data": {
            "text/plain": [
              "<pandas.io.formats.style.Styler at 0x7fee0ca418d0>"
            ],
            "text/html": [
              "<style type=\"text/css\">\n",
              "</style>\n",
              "<table id=\"T_34843\" class=\"dataframe\">\n",
              "  <thead>\n",
              "    <tr>\n",
              "      <th id=\"T_34843_level0_col0\" class=\"col_heading level0 col0\" >Model</th>\n",
              "      <th id=\"T_34843_level0_col1\" class=\"col_heading level0 col1\" >f1_score</th>\n",
              "      <th id=\"T_34843_level0_col2\" class=\"col_heading level0 col2\" >auc</th>\n",
              "      <th id=\"T_34843_level0_col3\" class=\"col_heading level0 col3\" >auc_pr</th>\n",
              "      <th id=\"T_34843_level0_col4\" class=\"col_heading level0 col4\" >recall_classe(0)</th>\n",
              "      <th id=\"T_34843_level0_col5\" class=\"col_heading level0 col5\" >recall_classe(1)</th>\n",
              "      <th id=\"T_34843_level0_col6\" class=\"col_heading level0 col6\" >precision_classe(0)</th>\n",
              "      <th id=\"T_34843_level0_col7\" class=\"col_heading level0 col7\" >precision_classe(1)</th>\n",
              "    </tr>\n",
              "  </thead>\n",
              "  <tbody>\n",
              "    <tr>\n",
              "      <td id=\"T_34843_row0_col0\" class=\"data row0 col0\" >Logistic Regression</td>\n",
              "      <td id=\"T_34843_row0_col1\" class=\"data row0 col1\" >0.888889</td>\n",
              "      <td id=\"T_34843_row0_col2\" class=\"data row0 col2\" >0.953297</td>\n",
              "      <td id=\"T_34843_row0_col3\" class=\"data row0 col3\" >0.932885</td>\n",
              "      <td id=\"T_34843_row0_col4\" class=\"data row0 col4\" >0.967033</td>\n",
              "      <td id=\"T_34843_row0_col5\" class=\"data row0 col5\" >0.875000</td>\n",
              "      <td id=\"T_34843_row0_col6\" class=\"data row0 col6\" >0.956522</td>\n",
              "      <td id=\"T_34843_row0_col7\" class=\"data row0 col7\" >0.903226</td>\n",
              "    </tr>\n",
              "    <tr>\n",
              "      <td id=\"T_34843_row1_col0\" class=\"data row1 col0\" >SVM</td>\n",
              "      <td id=\"T_34843_row1_col1\" class=\"data row1 col1\" >0.847458</td>\n",
              "      <td id=\"T_34843_row1_col2\" class=\"data row1 col2\" >0.966346</td>\n",
              "      <td id=\"T_34843_row1_col3\" class=\"data row1 col3\" >0.927824</td>\n",
              "      <td id=\"T_34843_row1_col4\" class=\"data row1 col4\" >0.978022</td>\n",
              "      <td id=\"T_34843_row1_col5\" class=\"data row1 col5\" >0.781250</td>\n",
              "      <td id=\"T_34843_row1_col6\" class=\"data row1 col6\" >0.927083</td>\n",
              "      <td id=\"T_34843_row1_col7\" class=\"data row1 col7\" >0.925926</td>\n",
              "    </tr>\n",
              "  </tbody>\n",
              "</table>\n"
            ]
          },
          "metadata": {},
          "execution_count": 24
        }
      ],
      "source": [
        "clf = print_auc(model2, X1_train, y1_train, X1_test, y1_test, 'SVM')\n",
        "results_df2 = pd.DataFrame(data=[['SVM', clf['f1'], clf['auc'], clf['auc_pr'], clf['recall_sc'][0], clf['recall_sc'][1], clf['precision_sc'][0], clf['precision_sc'][1]]],  \n",
        "                          columns=['Model', 'f1_score', 'auc','auc_pr','recall_classe(0)','recall_classe(1)','precision_classe(0)','precision_classe(1)'])\n",
        "results_df = results_df.append(results_df2)\n",
        "\n",
        "results_df.style.hide_index()"
      ]
    },
    {
      "cell_type": "markdown",
      "metadata": {
        "id": "5r0M0flGeNgv"
      },
      "source": [
        "## **Gradient Boosting Classifier**"
      ]
    },
    {
      "cell_type": "code",
      "execution_count": 25,
      "metadata": {
        "id": "1UI7zesRgAl2"
      },
      "outputs": [],
      "source": [
        "model3 = GradientBoostingClassifier(random_state=seed).fit(X1_train, y1_train)"
      ]
    },
    {
      "cell_type": "code",
      "execution_count": 26,
      "metadata": {
        "id": "Mbpk8XlwhKQP",
        "outputId": "d7239ad8-037e-4101-f098-df88936cef2a",
        "colab": {
          "base_uri": "https://localhost:8080/",
          "height": 143
        }
      },
      "outputs": [
        {
          "output_type": "execute_result",
          "data": {
            "text/plain": [
              "<pandas.io.formats.style.Styler at 0x7fee0c7163b0>"
            ],
            "text/html": [
              "<style type=\"text/css\">\n",
              "</style>\n",
              "<table id=\"T_8c8dc\" class=\"dataframe\">\n",
              "  <thead>\n",
              "    <tr>\n",
              "      <th id=\"T_8c8dc_level0_col0\" class=\"col_heading level0 col0\" >Model</th>\n",
              "      <th id=\"T_8c8dc_level0_col1\" class=\"col_heading level0 col1\" >f1_score</th>\n",
              "      <th id=\"T_8c8dc_level0_col2\" class=\"col_heading level0 col2\" >auc</th>\n",
              "      <th id=\"T_8c8dc_level0_col3\" class=\"col_heading level0 col3\" >auc_pr</th>\n",
              "      <th id=\"T_8c8dc_level0_col4\" class=\"col_heading level0 col4\" >recall_classe(0)</th>\n",
              "      <th id=\"T_8c8dc_level0_col5\" class=\"col_heading level0 col5\" >recall_classe(1)</th>\n",
              "      <th id=\"T_8c8dc_level0_col6\" class=\"col_heading level0 col6\" >precision_classe(0)</th>\n",
              "      <th id=\"T_8c8dc_level0_col7\" class=\"col_heading level0 col7\" >precision_classe(1)</th>\n",
              "    </tr>\n",
              "  </thead>\n",
              "  <tbody>\n",
              "    <tr>\n",
              "      <td id=\"T_8c8dc_row0_col0\" class=\"data row0 col0\" >Logistic Regression</td>\n",
              "      <td id=\"T_8c8dc_row0_col1\" class=\"data row0 col1\" >0.888889</td>\n",
              "      <td id=\"T_8c8dc_row0_col2\" class=\"data row0 col2\" >0.953297</td>\n",
              "      <td id=\"T_8c8dc_row0_col3\" class=\"data row0 col3\" >0.932885</td>\n",
              "      <td id=\"T_8c8dc_row0_col4\" class=\"data row0 col4\" >0.967033</td>\n",
              "      <td id=\"T_8c8dc_row0_col5\" class=\"data row0 col5\" >0.875000</td>\n",
              "      <td id=\"T_8c8dc_row0_col6\" class=\"data row0 col6\" >0.956522</td>\n",
              "      <td id=\"T_8c8dc_row0_col7\" class=\"data row0 col7\" >0.903226</td>\n",
              "    </tr>\n",
              "    <tr>\n",
              "      <td id=\"T_8c8dc_row1_col0\" class=\"data row1 col0\" >SVM</td>\n",
              "      <td id=\"T_8c8dc_row1_col1\" class=\"data row1 col1\" >0.847458</td>\n",
              "      <td id=\"T_8c8dc_row1_col2\" class=\"data row1 col2\" >0.966346</td>\n",
              "      <td id=\"T_8c8dc_row1_col3\" class=\"data row1 col3\" >0.927824</td>\n",
              "      <td id=\"T_8c8dc_row1_col4\" class=\"data row1 col4\" >0.978022</td>\n",
              "      <td id=\"T_8c8dc_row1_col5\" class=\"data row1 col5\" >0.781250</td>\n",
              "      <td id=\"T_8c8dc_row1_col6\" class=\"data row1 col6\" >0.927083</td>\n",
              "      <td id=\"T_8c8dc_row1_col7\" class=\"data row1 col7\" >0.925926</td>\n",
              "    </tr>\n",
              "    <tr>\n",
              "      <td id=\"T_8c8dc_row2_col0\" class=\"data row2 col0\" >Gradient Boosting</td>\n",
              "      <td id=\"T_8c8dc_row2_col1\" class=\"data row2 col1\" >0.875000</td>\n",
              "      <td id=\"T_8c8dc_row2_col2\" class=\"data row2 col2\" >0.959478</td>\n",
              "      <td id=\"T_8c8dc_row2_col3\" class=\"data row2 col3\" >0.938167</td>\n",
              "      <td id=\"T_8c8dc_row2_col4\" class=\"data row2 col4\" >0.956044</td>\n",
              "      <td id=\"T_8c8dc_row2_col5\" class=\"data row2 col5\" >0.875000</td>\n",
              "      <td id=\"T_8c8dc_row2_col6\" class=\"data row2 col6\" >0.956044</td>\n",
              "      <td id=\"T_8c8dc_row2_col7\" class=\"data row2 col7\" >0.875000</td>\n",
              "    </tr>\n",
              "  </tbody>\n",
              "</table>\n"
            ]
          },
          "metadata": {},
          "execution_count": 26
        }
      ],
      "source": [
        "clf = print_auc(model3, X1_train, y1_train, X1_test, y1_test, 'Gradient Boosting')\n",
        "results_df3 = pd.DataFrame(data=[['Gradient Boosting', clf['f1'], clf['auc'], clf['auc_pr'], clf['recall_sc'][0], clf['recall_sc'][1], clf['precision_sc'][0], clf['precision_sc'][1]]], \n",
        "                          columns=['Model', 'f1_score', 'auc','auc_pr','recall_classe(0)','recall_classe(1)','precision_classe(0)','precision_classe(1)'])\n",
        "results_df = results_df.append(results_df3)\n",
        "\n",
        "results_df.style.hide_index()"
      ]
    },
    {
      "cell_type": "markdown",
      "metadata": {
        "id": "XFeYmV1Xp236"
      },
      "source": [
        "## **Random Forest**"
      ]
    },
    {
      "cell_type": "code",
      "execution_count": 27,
      "metadata": {
        "id": "o_rGjseAqi5S"
      },
      "outputs": [],
      "source": [
        "model4 = RandomForestClassifier(random_state=seed).fit(X1_train, y1_train)"
      ]
    },
    {
      "cell_type": "code",
      "execution_count": 28,
      "metadata": {
        "id": "IjAjmpdyqpll",
        "outputId": "56e9aac6-ecfc-4931-b40a-3e790368a52c",
        "colab": {
          "base_uri": "https://localhost:8080/",
          "height": 175
        }
      },
      "outputs": [
        {
          "output_type": "execute_result",
          "data": {
            "text/plain": [
              "<pandas.io.formats.style.Styler at 0x7fee1fd83be0>"
            ],
            "text/html": [
              "<style type=\"text/css\">\n",
              "</style>\n",
              "<table id=\"T_b3879\" class=\"dataframe\">\n",
              "  <thead>\n",
              "    <tr>\n",
              "      <th id=\"T_b3879_level0_col0\" class=\"col_heading level0 col0\" >Model</th>\n",
              "      <th id=\"T_b3879_level0_col1\" class=\"col_heading level0 col1\" >f1_score</th>\n",
              "      <th id=\"T_b3879_level0_col2\" class=\"col_heading level0 col2\" >auc</th>\n",
              "      <th id=\"T_b3879_level0_col3\" class=\"col_heading level0 col3\" >auc_pr</th>\n",
              "      <th id=\"T_b3879_level0_col4\" class=\"col_heading level0 col4\" >recall_classe(0)</th>\n",
              "      <th id=\"T_b3879_level0_col5\" class=\"col_heading level0 col5\" >recall_classe(1)</th>\n",
              "      <th id=\"T_b3879_level0_col6\" class=\"col_heading level0 col6\" >precision_classe(0)</th>\n",
              "      <th id=\"T_b3879_level0_col7\" class=\"col_heading level0 col7\" >precision_classe(1)</th>\n",
              "    </tr>\n",
              "  </thead>\n",
              "  <tbody>\n",
              "    <tr>\n",
              "      <td id=\"T_b3879_row0_col0\" class=\"data row0 col0\" >Logistic Regression</td>\n",
              "      <td id=\"T_b3879_row0_col1\" class=\"data row0 col1\" >0.888889</td>\n",
              "      <td id=\"T_b3879_row0_col2\" class=\"data row0 col2\" >0.953297</td>\n",
              "      <td id=\"T_b3879_row0_col3\" class=\"data row0 col3\" >0.932885</td>\n",
              "      <td id=\"T_b3879_row0_col4\" class=\"data row0 col4\" >0.967033</td>\n",
              "      <td id=\"T_b3879_row0_col5\" class=\"data row0 col5\" >0.875000</td>\n",
              "      <td id=\"T_b3879_row0_col6\" class=\"data row0 col6\" >0.956522</td>\n",
              "      <td id=\"T_b3879_row0_col7\" class=\"data row0 col7\" >0.903226</td>\n",
              "    </tr>\n",
              "    <tr>\n",
              "      <td id=\"T_b3879_row1_col0\" class=\"data row1 col0\" >SVM</td>\n",
              "      <td id=\"T_b3879_row1_col1\" class=\"data row1 col1\" >0.847458</td>\n",
              "      <td id=\"T_b3879_row1_col2\" class=\"data row1 col2\" >0.966346</td>\n",
              "      <td id=\"T_b3879_row1_col3\" class=\"data row1 col3\" >0.927824</td>\n",
              "      <td id=\"T_b3879_row1_col4\" class=\"data row1 col4\" >0.978022</td>\n",
              "      <td id=\"T_b3879_row1_col5\" class=\"data row1 col5\" >0.781250</td>\n",
              "      <td id=\"T_b3879_row1_col6\" class=\"data row1 col6\" >0.927083</td>\n",
              "      <td id=\"T_b3879_row1_col7\" class=\"data row1 col7\" >0.925926</td>\n",
              "    </tr>\n",
              "    <tr>\n",
              "      <td id=\"T_b3879_row2_col0\" class=\"data row2 col0\" >Gradient Boosting</td>\n",
              "      <td id=\"T_b3879_row2_col1\" class=\"data row2 col1\" >0.875000</td>\n",
              "      <td id=\"T_b3879_row2_col2\" class=\"data row2 col2\" >0.959478</td>\n",
              "      <td id=\"T_b3879_row2_col3\" class=\"data row2 col3\" >0.938167</td>\n",
              "      <td id=\"T_b3879_row2_col4\" class=\"data row2 col4\" >0.956044</td>\n",
              "      <td id=\"T_b3879_row2_col5\" class=\"data row2 col5\" >0.875000</td>\n",
              "      <td id=\"T_b3879_row2_col6\" class=\"data row2 col6\" >0.956044</td>\n",
              "      <td id=\"T_b3879_row2_col7\" class=\"data row2 col7\" >0.875000</td>\n",
              "    </tr>\n",
              "    <tr>\n",
              "      <td id=\"T_b3879_row3_col0\" class=\"data row3 col0\" >Random Forest</td>\n",
              "      <td id=\"T_b3879_row3_col1\" class=\"data row3 col1\" >0.852459</td>\n",
              "      <td id=\"T_b3879_row3_col2\" class=\"data row3 col2\" >0.965659</td>\n",
              "      <td id=\"T_b3879_row3_col3\" class=\"data row3 col3\" >0.927233</td>\n",
              "      <td id=\"T_b3879_row3_col4\" class=\"data row3 col4\" >0.967033</td>\n",
              "      <td id=\"T_b3879_row3_col5\" class=\"data row3 col5\" >0.812500</td>\n",
              "      <td id=\"T_b3879_row3_col6\" class=\"data row3 col6\" >0.936170</td>\n",
              "      <td id=\"T_b3879_row3_col7\" class=\"data row3 col7\" >0.896552</td>\n",
              "    </tr>\n",
              "  </tbody>\n",
              "</table>\n"
            ]
          },
          "metadata": {},
          "execution_count": 28
        }
      ],
      "source": [
        "clf = print_auc(model4, X1_train, y1_train, X1_test, y1_test, 'Random Forest')\n",
        "results_df3 = pd.DataFrame(data=[['Random Forest', clf['f1'], clf['auc'], clf['auc_pr'], clf['recall_sc'][0], clf['recall_sc'][1], clf['precision_sc'][0], clf['precision_sc'][1]]], \n",
        "                          columns=['Model', 'f1_score', 'auc', 'auc_pr', 'recall_classe(0)', 'recall_classe(1)', 'precision_classe(0)', 'precision_classe(1)'])\n",
        "results_df = results_df.append(results_df3, ignore_index=True)\n",
        "\n",
        "results_df.style.hide_index()"
      ]
    },
    {
      "cell_type": "markdown",
      "metadata": {
        "id": "A5xG9U11q_xU"
      },
      "source": [
        "## **KNN**"
      ]
    },
    {
      "cell_type": "code",
      "execution_count": 29,
      "metadata": {
        "id": "GqEMiUaBraUs"
      },
      "outputs": [],
      "source": [
        "model5 = KNeighborsClassifier().fit(X1_train, y1_train)"
      ]
    },
    {
      "cell_type": "code",
      "execution_count": 30,
      "metadata": {
        "id": "wSJWhF2zrvcU",
        "outputId": "8015d832-55c5-4c43-b65c-ebd4cc4d2b0d",
        "colab": {
          "base_uri": "https://localhost:8080/",
          "height": 206
        }
      },
      "outputs": [
        {
          "output_type": "execute_result",
          "data": {
            "text/plain": [
              "<pandas.io.formats.style.Styler at 0x7fee0c715c90>"
            ],
            "text/html": [
              "<style type=\"text/css\">\n",
              "</style>\n",
              "<table id=\"T_c5bcf\" class=\"dataframe\">\n",
              "  <thead>\n",
              "    <tr>\n",
              "      <th id=\"T_c5bcf_level0_col0\" class=\"col_heading level0 col0\" >Model</th>\n",
              "      <th id=\"T_c5bcf_level0_col1\" class=\"col_heading level0 col1\" >f1_score</th>\n",
              "      <th id=\"T_c5bcf_level0_col2\" class=\"col_heading level0 col2\" >auc</th>\n",
              "      <th id=\"T_c5bcf_level0_col3\" class=\"col_heading level0 col3\" >auc_pr</th>\n",
              "      <th id=\"T_c5bcf_level0_col4\" class=\"col_heading level0 col4\" >recall_classe(0)</th>\n",
              "      <th id=\"T_c5bcf_level0_col5\" class=\"col_heading level0 col5\" >recall_classe(1)</th>\n",
              "      <th id=\"T_c5bcf_level0_col6\" class=\"col_heading level0 col6\" >precision_classe(0)</th>\n",
              "      <th id=\"T_c5bcf_level0_col7\" class=\"col_heading level0 col7\" >precision_classe(1)</th>\n",
              "    </tr>\n",
              "  </thead>\n",
              "  <tbody>\n",
              "    <tr>\n",
              "      <td id=\"T_c5bcf_row0_col0\" class=\"data row0 col0\" >Logistic Regression</td>\n",
              "      <td id=\"T_c5bcf_row0_col1\" class=\"data row0 col1\" >0.888889</td>\n",
              "      <td id=\"T_c5bcf_row0_col2\" class=\"data row0 col2\" >0.953297</td>\n",
              "      <td id=\"T_c5bcf_row0_col3\" class=\"data row0 col3\" >0.932885</td>\n",
              "      <td id=\"T_c5bcf_row0_col4\" class=\"data row0 col4\" >0.967033</td>\n",
              "      <td id=\"T_c5bcf_row0_col5\" class=\"data row0 col5\" >0.875000</td>\n",
              "      <td id=\"T_c5bcf_row0_col6\" class=\"data row0 col6\" >0.956522</td>\n",
              "      <td id=\"T_c5bcf_row0_col7\" class=\"data row0 col7\" >0.903226</td>\n",
              "    </tr>\n",
              "    <tr>\n",
              "      <td id=\"T_c5bcf_row1_col0\" class=\"data row1 col0\" >SVM</td>\n",
              "      <td id=\"T_c5bcf_row1_col1\" class=\"data row1 col1\" >0.847458</td>\n",
              "      <td id=\"T_c5bcf_row1_col2\" class=\"data row1 col2\" >0.966346</td>\n",
              "      <td id=\"T_c5bcf_row1_col3\" class=\"data row1 col3\" >0.927824</td>\n",
              "      <td id=\"T_c5bcf_row1_col4\" class=\"data row1 col4\" >0.978022</td>\n",
              "      <td id=\"T_c5bcf_row1_col5\" class=\"data row1 col5\" >0.781250</td>\n",
              "      <td id=\"T_c5bcf_row1_col6\" class=\"data row1 col6\" >0.927083</td>\n",
              "      <td id=\"T_c5bcf_row1_col7\" class=\"data row1 col7\" >0.925926</td>\n",
              "    </tr>\n",
              "    <tr>\n",
              "      <td id=\"T_c5bcf_row2_col0\" class=\"data row2 col0\" >Gradient Boosting</td>\n",
              "      <td id=\"T_c5bcf_row2_col1\" class=\"data row2 col1\" >0.875000</td>\n",
              "      <td id=\"T_c5bcf_row2_col2\" class=\"data row2 col2\" >0.959478</td>\n",
              "      <td id=\"T_c5bcf_row2_col3\" class=\"data row2 col3\" >0.938167</td>\n",
              "      <td id=\"T_c5bcf_row2_col4\" class=\"data row2 col4\" >0.956044</td>\n",
              "      <td id=\"T_c5bcf_row2_col5\" class=\"data row2 col5\" >0.875000</td>\n",
              "      <td id=\"T_c5bcf_row2_col6\" class=\"data row2 col6\" >0.956044</td>\n",
              "      <td id=\"T_c5bcf_row2_col7\" class=\"data row2 col7\" >0.875000</td>\n",
              "    </tr>\n",
              "    <tr>\n",
              "      <td id=\"T_c5bcf_row3_col0\" class=\"data row3 col0\" >Random Forest</td>\n",
              "      <td id=\"T_c5bcf_row3_col1\" class=\"data row3 col1\" >0.852459</td>\n",
              "      <td id=\"T_c5bcf_row3_col2\" class=\"data row3 col2\" >0.965659</td>\n",
              "      <td id=\"T_c5bcf_row3_col3\" class=\"data row3 col3\" >0.927233</td>\n",
              "      <td id=\"T_c5bcf_row3_col4\" class=\"data row3 col4\" >0.967033</td>\n",
              "      <td id=\"T_c5bcf_row3_col5\" class=\"data row3 col5\" >0.812500</td>\n",
              "      <td id=\"T_c5bcf_row3_col6\" class=\"data row3 col6\" >0.936170</td>\n",
              "      <td id=\"T_c5bcf_row3_col7\" class=\"data row3 col7\" >0.896552</td>\n",
              "    </tr>\n",
              "    <tr>\n",
              "      <td id=\"T_c5bcf_row4_col0\" class=\"data row4 col0\" >KNeibors Classifier</td>\n",
              "      <td id=\"T_c5bcf_row4_col1\" class=\"data row4 col1\" >0.833333</td>\n",
              "      <td id=\"T_c5bcf_row4_col2\" class=\"data row4 col2\" >0.955357</td>\n",
              "      <td id=\"T_c5bcf_row4_col3\" class=\"data row4 col3\" >0.917124</td>\n",
              "      <td id=\"T_c5bcf_row4_col4\" class=\"data row4 col4\" >0.967033</td>\n",
              "      <td id=\"T_c5bcf_row4_col5\" class=\"data row4 col5\" >0.781250</td>\n",
              "      <td id=\"T_c5bcf_row4_col6\" class=\"data row4 col6\" >0.926316</td>\n",
              "      <td id=\"T_c5bcf_row4_col7\" class=\"data row4 col7\" >0.892857</td>\n",
              "    </tr>\n",
              "  </tbody>\n",
              "</table>\n"
            ]
          },
          "metadata": {},
          "execution_count": 30
        }
      ],
      "source": [
        "clf = print_auc(model5, X1_train, y1_train, X1_test, y1_test, 'KNeibors Classifier')\n",
        "results_df4 = pd.DataFrame(data=[['KNeibors Classifier', clf['f1'], clf['auc'], clf['auc_pr'], clf['recall_sc'][0], clf['recall_sc'][1], clf['precision_sc'][0], clf['precision_sc'][1]]], \n",
        "                          columns=['Model', 'f1_score', 'auc', 'auc_pr', 'recall_classe(0)', 'recall_classe(1)', 'precision_classe(0)', 'precision_classe(1)'])\n",
        "results_df = results_df.append(results_df4, ignore_index=True)\n",
        "\n",
        "results_df.style.hide_index()"
      ]
    },
    {
      "cell_type": "markdown",
      "metadata": {
        "id": "Syq3lk7pr8ge"
      },
      "source": [
        "## **ExtraTrees**"
      ]
    },
    {
      "cell_type": "code",
      "execution_count": 31,
      "metadata": {
        "id": "B_Sw0d2Wsll-"
      },
      "outputs": [],
      "source": [
        "model6 = ExtraTreesClassifier(random_state=seed).fit(X1_train, y1_train)"
      ]
    },
    {
      "cell_type": "code",
      "execution_count": 32,
      "metadata": {
        "id": "Bv68O4tJsZaR",
        "outputId": "aa96353a-f20d-47ae-e663-c237344a4893",
        "colab": {
          "base_uri": "https://localhost:8080/",
          "height": 237
        }
      },
      "outputs": [
        {
          "output_type": "execute_result",
          "data": {
            "text/plain": [
              "<pandas.io.formats.style.Styler at 0x7fee0c7149a0>"
            ],
            "text/html": [
              "<style type=\"text/css\">\n",
              "</style>\n",
              "<table id=\"T_55b29\" class=\"dataframe\">\n",
              "  <thead>\n",
              "    <tr>\n",
              "      <th id=\"T_55b29_level0_col0\" class=\"col_heading level0 col0\" >Model</th>\n",
              "      <th id=\"T_55b29_level0_col1\" class=\"col_heading level0 col1\" >f1_score</th>\n",
              "      <th id=\"T_55b29_level0_col2\" class=\"col_heading level0 col2\" >auc</th>\n",
              "      <th id=\"T_55b29_level0_col3\" class=\"col_heading level0 col3\" >auc_pr</th>\n",
              "      <th id=\"T_55b29_level0_col4\" class=\"col_heading level0 col4\" >recall_classe(0)</th>\n",
              "      <th id=\"T_55b29_level0_col5\" class=\"col_heading level0 col5\" >recall_classe(1)</th>\n",
              "      <th id=\"T_55b29_level0_col6\" class=\"col_heading level0 col6\" >precision_classe(0)</th>\n",
              "      <th id=\"T_55b29_level0_col7\" class=\"col_heading level0 col7\" >precision_classe(1)</th>\n",
              "    </tr>\n",
              "  </thead>\n",
              "  <tbody>\n",
              "    <tr>\n",
              "      <td id=\"T_55b29_row0_col0\" class=\"data row0 col0\" >Logistic Regression</td>\n",
              "      <td id=\"T_55b29_row0_col1\" class=\"data row0 col1\" >0.888889</td>\n",
              "      <td id=\"T_55b29_row0_col2\" class=\"data row0 col2\" >0.953297</td>\n",
              "      <td id=\"T_55b29_row0_col3\" class=\"data row0 col3\" >0.932885</td>\n",
              "      <td id=\"T_55b29_row0_col4\" class=\"data row0 col4\" >0.967033</td>\n",
              "      <td id=\"T_55b29_row0_col5\" class=\"data row0 col5\" >0.875000</td>\n",
              "      <td id=\"T_55b29_row0_col6\" class=\"data row0 col6\" >0.956522</td>\n",
              "      <td id=\"T_55b29_row0_col7\" class=\"data row0 col7\" >0.903226</td>\n",
              "    </tr>\n",
              "    <tr>\n",
              "      <td id=\"T_55b29_row1_col0\" class=\"data row1 col0\" >SVM</td>\n",
              "      <td id=\"T_55b29_row1_col1\" class=\"data row1 col1\" >0.847458</td>\n",
              "      <td id=\"T_55b29_row1_col2\" class=\"data row1 col2\" >0.966346</td>\n",
              "      <td id=\"T_55b29_row1_col3\" class=\"data row1 col3\" >0.927824</td>\n",
              "      <td id=\"T_55b29_row1_col4\" class=\"data row1 col4\" >0.978022</td>\n",
              "      <td id=\"T_55b29_row1_col5\" class=\"data row1 col5\" >0.781250</td>\n",
              "      <td id=\"T_55b29_row1_col6\" class=\"data row1 col6\" >0.927083</td>\n",
              "      <td id=\"T_55b29_row1_col7\" class=\"data row1 col7\" >0.925926</td>\n",
              "    </tr>\n",
              "    <tr>\n",
              "      <td id=\"T_55b29_row2_col0\" class=\"data row2 col0\" >Gradient Boosting</td>\n",
              "      <td id=\"T_55b29_row2_col1\" class=\"data row2 col1\" >0.875000</td>\n",
              "      <td id=\"T_55b29_row2_col2\" class=\"data row2 col2\" >0.959478</td>\n",
              "      <td id=\"T_55b29_row2_col3\" class=\"data row2 col3\" >0.938167</td>\n",
              "      <td id=\"T_55b29_row2_col4\" class=\"data row2 col4\" >0.956044</td>\n",
              "      <td id=\"T_55b29_row2_col5\" class=\"data row2 col5\" >0.875000</td>\n",
              "      <td id=\"T_55b29_row2_col6\" class=\"data row2 col6\" >0.956044</td>\n",
              "      <td id=\"T_55b29_row2_col7\" class=\"data row2 col7\" >0.875000</td>\n",
              "    </tr>\n",
              "    <tr>\n",
              "      <td id=\"T_55b29_row3_col0\" class=\"data row3 col0\" >Random Forest</td>\n",
              "      <td id=\"T_55b29_row3_col1\" class=\"data row3 col1\" >0.852459</td>\n",
              "      <td id=\"T_55b29_row3_col2\" class=\"data row3 col2\" >0.965659</td>\n",
              "      <td id=\"T_55b29_row3_col3\" class=\"data row3 col3\" >0.927233</td>\n",
              "      <td id=\"T_55b29_row3_col4\" class=\"data row3 col4\" >0.967033</td>\n",
              "      <td id=\"T_55b29_row3_col5\" class=\"data row3 col5\" >0.812500</td>\n",
              "      <td id=\"T_55b29_row3_col6\" class=\"data row3 col6\" >0.936170</td>\n",
              "      <td id=\"T_55b29_row3_col7\" class=\"data row3 col7\" >0.896552</td>\n",
              "    </tr>\n",
              "    <tr>\n",
              "      <td id=\"T_55b29_row4_col0\" class=\"data row4 col0\" >KNeibors Classifier</td>\n",
              "      <td id=\"T_55b29_row4_col1\" class=\"data row4 col1\" >0.833333</td>\n",
              "      <td id=\"T_55b29_row4_col2\" class=\"data row4 col2\" >0.955357</td>\n",
              "      <td id=\"T_55b29_row4_col3\" class=\"data row4 col3\" >0.917124</td>\n",
              "      <td id=\"T_55b29_row4_col4\" class=\"data row4 col4\" >0.967033</td>\n",
              "      <td id=\"T_55b29_row4_col5\" class=\"data row4 col5\" >0.781250</td>\n",
              "      <td id=\"T_55b29_row4_col6\" class=\"data row4 col6\" >0.926316</td>\n",
              "      <td id=\"T_55b29_row4_col7\" class=\"data row4 col7\" >0.892857</td>\n",
              "    </tr>\n",
              "    <tr>\n",
              "      <td id=\"T_55b29_row5_col0\" class=\"data row5 col0\" >ExtraTrees Classifier</td>\n",
              "      <td id=\"T_55b29_row5_col1\" class=\"data row5 col1\" >0.852459</td>\n",
              "      <td id=\"T_55b29_row5_col2\" class=\"data row5 col2\" >0.963942</td>\n",
              "      <td id=\"T_55b29_row5_col3\" class=\"data row5 col3\" >0.901118</td>\n",
              "      <td id=\"T_55b29_row5_col4\" class=\"data row5 col4\" >0.967033</td>\n",
              "      <td id=\"T_55b29_row5_col5\" class=\"data row5 col5\" >0.812500</td>\n",
              "      <td id=\"T_55b29_row5_col6\" class=\"data row5 col6\" >0.936170</td>\n",
              "      <td id=\"T_55b29_row5_col7\" class=\"data row5 col7\" >0.896552</td>\n",
              "    </tr>\n",
              "  </tbody>\n",
              "</table>\n"
            ]
          },
          "metadata": {},
          "execution_count": 32
        }
      ],
      "source": [
        "clf = print_auc(model6, X1_train, y1_train, X1_test, y1_test, 'ExtraTrees Classifier')\n",
        "results_df5 = pd.DataFrame(data=[['ExtraTrees Classifier', clf['f1'], clf['auc'], clf['auc_pr'], clf['recall_sc'][0], clf['recall_sc'][1], clf['precision_sc'][0], clf['precision_sc'][1]]], \n",
        "                          columns=['Model', 'f1_score', 'auc', 'auc_pr', 'recall_classe(0)', 'recall_classe(1)', 'precision_classe(0)', 'precision_classe(1)'])\n",
        "results_df = results_df.append(results_df5, ignore_index=True)\n",
        "\n",
        "results_df.style.hide_index()"
      ]
    },
    {
      "cell_type": "markdown",
      "metadata": {
        "id": "tDVKw76Isvpd"
      },
      "source": [
        "## **AdaBoost**"
      ]
    },
    {
      "cell_type": "code",
      "execution_count": 33,
      "metadata": {
        "id": "I2P3wCJDtMrU"
      },
      "outputs": [],
      "source": [
        "model7 = AdaBoostClassifier(random_state=seed).fit(X1_train, y1_train)"
      ]
    },
    {
      "cell_type": "code",
      "execution_count": 34,
      "metadata": {
        "id": "XnUmGgS2tNUh",
        "outputId": "a4509b7e-0a8a-4309-f901-691009949565",
        "colab": {
          "base_uri": "https://localhost:8080/",
          "height": 269
        }
      },
      "outputs": [
        {
          "output_type": "execute_result",
          "data": {
            "text/plain": [
              "<pandas.io.formats.style.Styler at 0x7fee0ca33520>"
            ],
            "text/html": [
              "<style type=\"text/css\">\n",
              "</style>\n",
              "<table id=\"T_adc0b\" class=\"dataframe\">\n",
              "  <thead>\n",
              "    <tr>\n",
              "      <th id=\"T_adc0b_level0_col0\" class=\"col_heading level0 col0\" >Model</th>\n",
              "      <th id=\"T_adc0b_level0_col1\" class=\"col_heading level0 col1\" >f1_score</th>\n",
              "      <th id=\"T_adc0b_level0_col2\" class=\"col_heading level0 col2\" >auc</th>\n",
              "      <th id=\"T_adc0b_level0_col3\" class=\"col_heading level0 col3\" >auc_pr</th>\n",
              "      <th id=\"T_adc0b_level0_col4\" class=\"col_heading level0 col4\" >recall_classe(0)</th>\n",
              "      <th id=\"T_adc0b_level0_col5\" class=\"col_heading level0 col5\" >recall_classe(1)</th>\n",
              "      <th id=\"T_adc0b_level0_col6\" class=\"col_heading level0 col6\" >precision_classe(0)</th>\n",
              "      <th id=\"T_adc0b_level0_col7\" class=\"col_heading level0 col7\" >precision_classe(1)</th>\n",
              "    </tr>\n",
              "  </thead>\n",
              "  <tbody>\n",
              "    <tr>\n",
              "      <td id=\"T_adc0b_row0_col0\" class=\"data row0 col0\" >Logistic Regression</td>\n",
              "      <td id=\"T_adc0b_row0_col1\" class=\"data row0 col1\" >0.888889</td>\n",
              "      <td id=\"T_adc0b_row0_col2\" class=\"data row0 col2\" >0.953297</td>\n",
              "      <td id=\"T_adc0b_row0_col3\" class=\"data row0 col3\" >0.932885</td>\n",
              "      <td id=\"T_adc0b_row0_col4\" class=\"data row0 col4\" >0.967033</td>\n",
              "      <td id=\"T_adc0b_row0_col5\" class=\"data row0 col5\" >0.875000</td>\n",
              "      <td id=\"T_adc0b_row0_col6\" class=\"data row0 col6\" >0.956522</td>\n",
              "      <td id=\"T_adc0b_row0_col7\" class=\"data row0 col7\" >0.903226</td>\n",
              "    </tr>\n",
              "    <tr>\n",
              "      <td id=\"T_adc0b_row1_col0\" class=\"data row1 col0\" >SVM</td>\n",
              "      <td id=\"T_adc0b_row1_col1\" class=\"data row1 col1\" >0.847458</td>\n",
              "      <td id=\"T_adc0b_row1_col2\" class=\"data row1 col2\" >0.966346</td>\n",
              "      <td id=\"T_adc0b_row1_col3\" class=\"data row1 col3\" >0.927824</td>\n",
              "      <td id=\"T_adc0b_row1_col4\" class=\"data row1 col4\" >0.978022</td>\n",
              "      <td id=\"T_adc0b_row1_col5\" class=\"data row1 col5\" >0.781250</td>\n",
              "      <td id=\"T_adc0b_row1_col6\" class=\"data row1 col6\" >0.927083</td>\n",
              "      <td id=\"T_adc0b_row1_col7\" class=\"data row1 col7\" >0.925926</td>\n",
              "    </tr>\n",
              "    <tr>\n",
              "      <td id=\"T_adc0b_row2_col0\" class=\"data row2 col0\" >Gradient Boosting</td>\n",
              "      <td id=\"T_adc0b_row2_col1\" class=\"data row2 col1\" >0.875000</td>\n",
              "      <td id=\"T_adc0b_row2_col2\" class=\"data row2 col2\" >0.959478</td>\n",
              "      <td id=\"T_adc0b_row2_col3\" class=\"data row2 col3\" >0.938167</td>\n",
              "      <td id=\"T_adc0b_row2_col4\" class=\"data row2 col4\" >0.956044</td>\n",
              "      <td id=\"T_adc0b_row2_col5\" class=\"data row2 col5\" >0.875000</td>\n",
              "      <td id=\"T_adc0b_row2_col6\" class=\"data row2 col6\" >0.956044</td>\n",
              "      <td id=\"T_adc0b_row2_col7\" class=\"data row2 col7\" >0.875000</td>\n",
              "    </tr>\n",
              "    <tr>\n",
              "      <td id=\"T_adc0b_row3_col0\" class=\"data row3 col0\" >Random Forest</td>\n",
              "      <td id=\"T_adc0b_row3_col1\" class=\"data row3 col1\" >0.852459</td>\n",
              "      <td id=\"T_adc0b_row3_col2\" class=\"data row3 col2\" >0.965659</td>\n",
              "      <td id=\"T_adc0b_row3_col3\" class=\"data row3 col3\" >0.927233</td>\n",
              "      <td id=\"T_adc0b_row3_col4\" class=\"data row3 col4\" >0.967033</td>\n",
              "      <td id=\"T_adc0b_row3_col5\" class=\"data row3 col5\" >0.812500</td>\n",
              "      <td id=\"T_adc0b_row3_col6\" class=\"data row3 col6\" >0.936170</td>\n",
              "      <td id=\"T_adc0b_row3_col7\" class=\"data row3 col7\" >0.896552</td>\n",
              "    </tr>\n",
              "    <tr>\n",
              "      <td id=\"T_adc0b_row4_col0\" class=\"data row4 col0\" >KNeibors Classifier</td>\n",
              "      <td id=\"T_adc0b_row4_col1\" class=\"data row4 col1\" >0.833333</td>\n",
              "      <td id=\"T_adc0b_row4_col2\" class=\"data row4 col2\" >0.955357</td>\n",
              "      <td id=\"T_adc0b_row4_col3\" class=\"data row4 col3\" >0.917124</td>\n",
              "      <td id=\"T_adc0b_row4_col4\" class=\"data row4 col4\" >0.967033</td>\n",
              "      <td id=\"T_adc0b_row4_col5\" class=\"data row4 col5\" >0.781250</td>\n",
              "      <td id=\"T_adc0b_row4_col6\" class=\"data row4 col6\" >0.926316</td>\n",
              "      <td id=\"T_adc0b_row4_col7\" class=\"data row4 col7\" >0.892857</td>\n",
              "    </tr>\n",
              "    <tr>\n",
              "      <td id=\"T_adc0b_row5_col0\" class=\"data row5 col0\" >ExtraTrees Classifier</td>\n",
              "      <td id=\"T_adc0b_row5_col1\" class=\"data row5 col1\" >0.852459</td>\n",
              "      <td id=\"T_adc0b_row5_col2\" class=\"data row5 col2\" >0.963942</td>\n",
              "      <td id=\"T_adc0b_row5_col3\" class=\"data row5 col3\" >0.901118</td>\n",
              "      <td id=\"T_adc0b_row5_col4\" class=\"data row5 col4\" >0.967033</td>\n",
              "      <td id=\"T_adc0b_row5_col5\" class=\"data row5 col5\" >0.812500</td>\n",
              "      <td id=\"T_adc0b_row5_col6\" class=\"data row5 col6\" >0.936170</td>\n",
              "      <td id=\"T_adc0b_row5_col7\" class=\"data row5 col7\" >0.896552</td>\n",
              "    </tr>\n",
              "    <tr>\n",
              "      <td id=\"T_adc0b_row6_col0\" class=\"data row6 col0\" >AdaBoost Classifier</td>\n",
              "      <td id=\"T_adc0b_row6_col1\" class=\"data row6 col1\" >0.800000</td>\n",
              "      <td id=\"T_adc0b_row6_col2\" class=\"data row6 col2\" >0.932521</td>\n",
              "      <td id=\"T_adc0b_row6_col3\" class=\"data row6 col3\" >0.875056</td>\n",
              "      <td id=\"T_adc0b_row6_col4\" class=\"data row6 col4\" >0.923077</td>\n",
              "      <td id=\"T_adc0b_row6_col5\" class=\"data row6 col5\" >0.812500</td>\n",
              "      <td id=\"T_adc0b_row6_col6\" class=\"data row6 col6\" >0.933333</td>\n",
              "      <td id=\"T_adc0b_row6_col7\" class=\"data row6 col7\" >0.787879</td>\n",
              "    </tr>\n",
              "  </tbody>\n",
              "</table>\n"
            ]
          },
          "metadata": {},
          "execution_count": 34
        }
      ],
      "source": [
        "clf = print_auc(model7, X1_train, y1_train, X1_test, y1_test, 'AdaBoost Classifier')\n",
        "results_df6 = pd.DataFrame(data=[['AdaBoost Classifier', clf['f1'], clf['auc'], clf['auc_pr'], clf['recall_sc'][0], clf['recall_sc'][1], clf['precision_sc'][0], clf['precision_sc'][1]]], \n",
        "                          columns=['Model', 'f1_score', 'auc', 'auc_pr', 'recall_classe(0)', 'recall_classe(1)', 'precision_classe(0)', 'precision_classe(1)'])\n",
        "results_df = results_df.append(results_df6, ignore_index=True)\n",
        "\n",
        "results_df.style.hide_index()"
      ]
    },
    {
      "cell_type": "markdown",
      "metadata": {
        "id": "efDjm1dBtfZz"
      },
      "source": [
        "## **Decision Tree**"
      ]
    },
    {
      "cell_type": "code",
      "execution_count": 35,
      "metadata": {
        "id": "veO8tTDJuJR9"
      },
      "outputs": [],
      "source": [
        "model8 = DecisionTreeClassifier(random_state=seed).fit(X1_train, y1_train)"
      ]
    },
    {
      "cell_type": "code",
      "execution_count": 36,
      "metadata": {
        "id": "5GaUvPJ4t7Xd",
        "outputId": "427caba5-68d0-4280-dc57-adb43cc5440a",
        "colab": {
          "base_uri": "https://localhost:8080/",
          "height": 300
        }
      },
      "outputs": [
        {
          "output_type": "execute_result",
          "data": {
            "text/plain": [
              "<pandas.io.formats.style.Styler at 0x7fee0ca308e0>"
            ],
            "text/html": [
              "<style type=\"text/css\">\n",
              "</style>\n",
              "<table id=\"T_97804\" class=\"dataframe\">\n",
              "  <thead>\n",
              "    <tr>\n",
              "      <th id=\"T_97804_level0_col0\" class=\"col_heading level0 col0\" >Model</th>\n",
              "      <th id=\"T_97804_level0_col1\" class=\"col_heading level0 col1\" >f1_score</th>\n",
              "      <th id=\"T_97804_level0_col2\" class=\"col_heading level0 col2\" >auc</th>\n",
              "      <th id=\"T_97804_level0_col3\" class=\"col_heading level0 col3\" >auc_pr</th>\n",
              "      <th id=\"T_97804_level0_col4\" class=\"col_heading level0 col4\" >recall_classe(0)</th>\n",
              "      <th id=\"T_97804_level0_col5\" class=\"col_heading level0 col5\" >recall_classe(1)</th>\n",
              "      <th id=\"T_97804_level0_col6\" class=\"col_heading level0 col6\" >precision_classe(0)</th>\n",
              "      <th id=\"T_97804_level0_col7\" class=\"col_heading level0 col7\" >precision_classe(1)</th>\n",
              "    </tr>\n",
              "  </thead>\n",
              "  <tbody>\n",
              "    <tr>\n",
              "      <td id=\"T_97804_row0_col0\" class=\"data row0 col0\" >Logistic Regression</td>\n",
              "      <td id=\"T_97804_row0_col1\" class=\"data row0 col1\" >0.888889</td>\n",
              "      <td id=\"T_97804_row0_col2\" class=\"data row0 col2\" >0.953297</td>\n",
              "      <td id=\"T_97804_row0_col3\" class=\"data row0 col3\" >0.932885</td>\n",
              "      <td id=\"T_97804_row0_col4\" class=\"data row0 col4\" >0.967033</td>\n",
              "      <td id=\"T_97804_row0_col5\" class=\"data row0 col5\" >0.875000</td>\n",
              "      <td id=\"T_97804_row0_col6\" class=\"data row0 col6\" >0.956522</td>\n",
              "      <td id=\"T_97804_row0_col7\" class=\"data row0 col7\" >0.903226</td>\n",
              "    </tr>\n",
              "    <tr>\n",
              "      <td id=\"T_97804_row1_col0\" class=\"data row1 col0\" >SVM</td>\n",
              "      <td id=\"T_97804_row1_col1\" class=\"data row1 col1\" >0.847458</td>\n",
              "      <td id=\"T_97804_row1_col2\" class=\"data row1 col2\" >0.966346</td>\n",
              "      <td id=\"T_97804_row1_col3\" class=\"data row1 col3\" >0.927824</td>\n",
              "      <td id=\"T_97804_row1_col4\" class=\"data row1 col4\" >0.978022</td>\n",
              "      <td id=\"T_97804_row1_col5\" class=\"data row1 col5\" >0.781250</td>\n",
              "      <td id=\"T_97804_row1_col6\" class=\"data row1 col6\" >0.927083</td>\n",
              "      <td id=\"T_97804_row1_col7\" class=\"data row1 col7\" >0.925926</td>\n",
              "    </tr>\n",
              "    <tr>\n",
              "      <td id=\"T_97804_row2_col0\" class=\"data row2 col0\" >Gradient Boosting</td>\n",
              "      <td id=\"T_97804_row2_col1\" class=\"data row2 col1\" >0.875000</td>\n",
              "      <td id=\"T_97804_row2_col2\" class=\"data row2 col2\" >0.959478</td>\n",
              "      <td id=\"T_97804_row2_col3\" class=\"data row2 col3\" >0.938167</td>\n",
              "      <td id=\"T_97804_row2_col4\" class=\"data row2 col4\" >0.956044</td>\n",
              "      <td id=\"T_97804_row2_col5\" class=\"data row2 col5\" >0.875000</td>\n",
              "      <td id=\"T_97804_row2_col6\" class=\"data row2 col6\" >0.956044</td>\n",
              "      <td id=\"T_97804_row2_col7\" class=\"data row2 col7\" >0.875000</td>\n",
              "    </tr>\n",
              "    <tr>\n",
              "      <td id=\"T_97804_row3_col0\" class=\"data row3 col0\" >Random Forest</td>\n",
              "      <td id=\"T_97804_row3_col1\" class=\"data row3 col1\" >0.852459</td>\n",
              "      <td id=\"T_97804_row3_col2\" class=\"data row3 col2\" >0.965659</td>\n",
              "      <td id=\"T_97804_row3_col3\" class=\"data row3 col3\" >0.927233</td>\n",
              "      <td id=\"T_97804_row3_col4\" class=\"data row3 col4\" >0.967033</td>\n",
              "      <td id=\"T_97804_row3_col5\" class=\"data row3 col5\" >0.812500</td>\n",
              "      <td id=\"T_97804_row3_col6\" class=\"data row3 col6\" >0.936170</td>\n",
              "      <td id=\"T_97804_row3_col7\" class=\"data row3 col7\" >0.896552</td>\n",
              "    </tr>\n",
              "    <tr>\n",
              "      <td id=\"T_97804_row4_col0\" class=\"data row4 col0\" >KNeibors Classifier</td>\n",
              "      <td id=\"T_97804_row4_col1\" class=\"data row4 col1\" >0.833333</td>\n",
              "      <td id=\"T_97804_row4_col2\" class=\"data row4 col2\" >0.955357</td>\n",
              "      <td id=\"T_97804_row4_col3\" class=\"data row4 col3\" >0.917124</td>\n",
              "      <td id=\"T_97804_row4_col4\" class=\"data row4 col4\" >0.967033</td>\n",
              "      <td id=\"T_97804_row4_col5\" class=\"data row4 col5\" >0.781250</td>\n",
              "      <td id=\"T_97804_row4_col6\" class=\"data row4 col6\" >0.926316</td>\n",
              "      <td id=\"T_97804_row4_col7\" class=\"data row4 col7\" >0.892857</td>\n",
              "    </tr>\n",
              "    <tr>\n",
              "      <td id=\"T_97804_row5_col0\" class=\"data row5 col0\" >ExtraTrees Classifier</td>\n",
              "      <td id=\"T_97804_row5_col1\" class=\"data row5 col1\" >0.852459</td>\n",
              "      <td id=\"T_97804_row5_col2\" class=\"data row5 col2\" >0.963942</td>\n",
              "      <td id=\"T_97804_row5_col3\" class=\"data row5 col3\" >0.901118</td>\n",
              "      <td id=\"T_97804_row5_col4\" class=\"data row5 col4\" >0.967033</td>\n",
              "      <td id=\"T_97804_row5_col5\" class=\"data row5 col5\" >0.812500</td>\n",
              "      <td id=\"T_97804_row5_col6\" class=\"data row5 col6\" >0.936170</td>\n",
              "      <td id=\"T_97804_row5_col7\" class=\"data row5 col7\" >0.896552</td>\n",
              "    </tr>\n",
              "    <tr>\n",
              "      <td id=\"T_97804_row6_col0\" class=\"data row6 col0\" >AdaBoost Classifier</td>\n",
              "      <td id=\"T_97804_row6_col1\" class=\"data row6 col1\" >0.800000</td>\n",
              "      <td id=\"T_97804_row6_col2\" class=\"data row6 col2\" >0.932521</td>\n",
              "      <td id=\"T_97804_row6_col3\" class=\"data row6 col3\" >0.875056</td>\n",
              "      <td id=\"T_97804_row6_col4\" class=\"data row6 col4\" >0.923077</td>\n",
              "      <td id=\"T_97804_row6_col5\" class=\"data row6 col5\" >0.812500</td>\n",
              "      <td id=\"T_97804_row6_col6\" class=\"data row6 col6\" >0.933333</td>\n",
              "      <td id=\"T_97804_row6_col7\" class=\"data row6 col7\" >0.787879</td>\n",
              "    </tr>\n",
              "    <tr>\n",
              "      <td id=\"T_97804_row7_col0\" class=\"data row7 col0\" >DecisionTree Classifier</td>\n",
              "      <td id=\"T_97804_row7_col1\" class=\"data row7 col1\" >0.818182</td>\n",
              "      <td id=\"T_97804_row7_col2\" class=\"data row7 col2\" >0.883413</td>\n",
              "      <td id=\"T_97804_row7_col3\" class=\"data row7 col3\" >0.839259</td>\n",
              "      <td id=\"T_97804_row7_col4\" class=\"data row7 col4\" >0.923077</td>\n",
              "      <td id=\"T_97804_row7_col5\" class=\"data row7 col5\" >0.843750</td>\n",
              "      <td id=\"T_97804_row7_col6\" class=\"data row7 col6\" >0.943820</td>\n",
              "      <td id=\"T_97804_row7_col7\" class=\"data row7 col7\" >0.794118</td>\n",
              "    </tr>\n",
              "  </tbody>\n",
              "</table>\n"
            ]
          },
          "metadata": {},
          "execution_count": 36
        }
      ],
      "source": [
        "clf = print_auc(model8, X1_train, y1_train, X1_test, y1_test, 'DecisionTree Classifier')\n",
        "results_df7 = pd.DataFrame(data=[['DecisionTree Classifier', clf['f1'], clf['auc'], clf['auc_pr'], clf['recall_sc'][0], clf['recall_sc'][1], clf['precision_sc'][0], clf['precision_sc'][1]]], \n",
        "                          columns=['Model', 'f1_score', 'auc', 'auc_pr', 'recall_classe(0)', 'recall_classe(1)', 'precision_classe(0)', 'precision_classe(1)'])\n",
        "results_df = results_df.append(results_df7, ignore_index=True)\n",
        "\n",
        "results_df.style.hide_index()"
      ]
    },
    {
      "cell_type": "markdown",
      "metadata": {
        "id": "uVPPzb2fu3Vx"
      },
      "source": [
        "## **LGBM**"
      ]
    },
    {
      "cell_type": "code",
      "execution_count": 37,
      "metadata": {
        "id": "Bw-Qi6uavE0t"
      },
      "outputs": [],
      "source": [
        "model10 = lgb.LGBMClassifier(random_state=seed).fit(X1_train, y1_train)"
      ]
    },
    {
      "cell_type": "code",
      "execution_count": 38,
      "metadata": {
        "id": "NyGbhmrEu7Lr",
        "outputId": "d3b75946-6599-43cd-d02e-136106b2aace",
        "colab": {
          "base_uri": "https://localhost:8080/",
          "height": 331
        }
      },
      "outputs": [
        {
          "output_type": "execute_result",
          "data": {
            "text/plain": [
              "<pandas.io.formats.style.Styler at 0x7fee0ca327a0>"
            ],
            "text/html": [
              "<style type=\"text/css\">\n",
              "</style>\n",
              "<table id=\"T_cab50\" class=\"dataframe\">\n",
              "  <thead>\n",
              "    <tr>\n",
              "      <th id=\"T_cab50_level0_col0\" class=\"col_heading level0 col0\" >Model</th>\n",
              "      <th id=\"T_cab50_level0_col1\" class=\"col_heading level0 col1\" >f1_score</th>\n",
              "      <th id=\"T_cab50_level0_col2\" class=\"col_heading level0 col2\" >auc</th>\n",
              "      <th id=\"T_cab50_level0_col3\" class=\"col_heading level0 col3\" >auc_pr</th>\n",
              "      <th id=\"T_cab50_level0_col4\" class=\"col_heading level0 col4\" >recall_classe(0)</th>\n",
              "      <th id=\"T_cab50_level0_col5\" class=\"col_heading level0 col5\" >recall_classe(1)</th>\n",
              "      <th id=\"T_cab50_level0_col6\" class=\"col_heading level0 col6\" >precision_classe(0)</th>\n",
              "      <th id=\"T_cab50_level0_col7\" class=\"col_heading level0 col7\" >precision_classe(1)</th>\n",
              "    </tr>\n",
              "  </thead>\n",
              "  <tbody>\n",
              "    <tr>\n",
              "      <td id=\"T_cab50_row0_col0\" class=\"data row0 col0\" >Logistic Regression</td>\n",
              "      <td id=\"T_cab50_row0_col1\" class=\"data row0 col1\" >0.888889</td>\n",
              "      <td id=\"T_cab50_row0_col2\" class=\"data row0 col2\" >0.953297</td>\n",
              "      <td id=\"T_cab50_row0_col3\" class=\"data row0 col3\" >0.932885</td>\n",
              "      <td id=\"T_cab50_row0_col4\" class=\"data row0 col4\" >0.967033</td>\n",
              "      <td id=\"T_cab50_row0_col5\" class=\"data row0 col5\" >0.875000</td>\n",
              "      <td id=\"T_cab50_row0_col6\" class=\"data row0 col6\" >0.956522</td>\n",
              "      <td id=\"T_cab50_row0_col7\" class=\"data row0 col7\" >0.903226</td>\n",
              "    </tr>\n",
              "    <tr>\n",
              "      <td id=\"T_cab50_row1_col0\" class=\"data row1 col0\" >SVM</td>\n",
              "      <td id=\"T_cab50_row1_col1\" class=\"data row1 col1\" >0.847458</td>\n",
              "      <td id=\"T_cab50_row1_col2\" class=\"data row1 col2\" >0.966346</td>\n",
              "      <td id=\"T_cab50_row1_col3\" class=\"data row1 col3\" >0.927824</td>\n",
              "      <td id=\"T_cab50_row1_col4\" class=\"data row1 col4\" >0.978022</td>\n",
              "      <td id=\"T_cab50_row1_col5\" class=\"data row1 col5\" >0.781250</td>\n",
              "      <td id=\"T_cab50_row1_col6\" class=\"data row1 col6\" >0.927083</td>\n",
              "      <td id=\"T_cab50_row1_col7\" class=\"data row1 col7\" >0.925926</td>\n",
              "    </tr>\n",
              "    <tr>\n",
              "      <td id=\"T_cab50_row2_col0\" class=\"data row2 col0\" >Gradient Boosting</td>\n",
              "      <td id=\"T_cab50_row2_col1\" class=\"data row2 col1\" >0.875000</td>\n",
              "      <td id=\"T_cab50_row2_col2\" class=\"data row2 col2\" >0.959478</td>\n",
              "      <td id=\"T_cab50_row2_col3\" class=\"data row2 col3\" >0.938167</td>\n",
              "      <td id=\"T_cab50_row2_col4\" class=\"data row2 col4\" >0.956044</td>\n",
              "      <td id=\"T_cab50_row2_col5\" class=\"data row2 col5\" >0.875000</td>\n",
              "      <td id=\"T_cab50_row2_col6\" class=\"data row2 col6\" >0.956044</td>\n",
              "      <td id=\"T_cab50_row2_col7\" class=\"data row2 col7\" >0.875000</td>\n",
              "    </tr>\n",
              "    <tr>\n",
              "      <td id=\"T_cab50_row3_col0\" class=\"data row3 col0\" >Random Forest</td>\n",
              "      <td id=\"T_cab50_row3_col1\" class=\"data row3 col1\" >0.852459</td>\n",
              "      <td id=\"T_cab50_row3_col2\" class=\"data row3 col2\" >0.965659</td>\n",
              "      <td id=\"T_cab50_row3_col3\" class=\"data row3 col3\" >0.927233</td>\n",
              "      <td id=\"T_cab50_row3_col4\" class=\"data row3 col4\" >0.967033</td>\n",
              "      <td id=\"T_cab50_row3_col5\" class=\"data row3 col5\" >0.812500</td>\n",
              "      <td id=\"T_cab50_row3_col6\" class=\"data row3 col6\" >0.936170</td>\n",
              "      <td id=\"T_cab50_row3_col7\" class=\"data row3 col7\" >0.896552</td>\n",
              "    </tr>\n",
              "    <tr>\n",
              "      <td id=\"T_cab50_row4_col0\" class=\"data row4 col0\" >KNeibors Classifier</td>\n",
              "      <td id=\"T_cab50_row4_col1\" class=\"data row4 col1\" >0.833333</td>\n",
              "      <td id=\"T_cab50_row4_col2\" class=\"data row4 col2\" >0.955357</td>\n",
              "      <td id=\"T_cab50_row4_col3\" class=\"data row4 col3\" >0.917124</td>\n",
              "      <td id=\"T_cab50_row4_col4\" class=\"data row4 col4\" >0.967033</td>\n",
              "      <td id=\"T_cab50_row4_col5\" class=\"data row4 col5\" >0.781250</td>\n",
              "      <td id=\"T_cab50_row4_col6\" class=\"data row4 col6\" >0.926316</td>\n",
              "      <td id=\"T_cab50_row4_col7\" class=\"data row4 col7\" >0.892857</td>\n",
              "    </tr>\n",
              "    <tr>\n",
              "      <td id=\"T_cab50_row5_col0\" class=\"data row5 col0\" >ExtraTrees Classifier</td>\n",
              "      <td id=\"T_cab50_row5_col1\" class=\"data row5 col1\" >0.852459</td>\n",
              "      <td id=\"T_cab50_row5_col2\" class=\"data row5 col2\" >0.963942</td>\n",
              "      <td id=\"T_cab50_row5_col3\" class=\"data row5 col3\" >0.901118</td>\n",
              "      <td id=\"T_cab50_row5_col4\" class=\"data row5 col4\" >0.967033</td>\n",
              "      <td id=\"T_cab50_row5_col5\" class=\"data row5 col5\" >0.812500</td>\n",
              "      <td id=\"T_cab50_row5_col6\" class=\"data row5 col6\" >0.936170</td>\n",
              "      <td id=\"T_cab50_row5_col7\" class=\"data row5 col7\" >0.896552</td>\n",
              "    </tr>\n",
              "    <tr>\n",
              "      <td id=\"T_cab50_row6_col0\" class=\"data row6 col0\" >AdaBoost Classifier</td>\n",
              "      <td id=\"T_cab50_row6_col1\" class=\"data row6 col1\" >0.800000</td>\n",
              "      <td id=\"T_cab50_row6_col2\" class=\"data row6 col2\" >0.932521</td>\n",
              "      <td id=\"T_cab50_row6_col3\" class=\"data row6 col3\" >0.875056</td>\n",
              "      <td id=\"T_cab50_row6_col4\" class=\"data row6 col4\" >0.923077</td>\n",
              "      <td id=\"T_cab50_row6_col5\" class=\"data row6 col5\" >0.812500</td>\n",
              "      <td id=\"T_cab50_row6_col6\" class=\"data row6 col6\" >0.933333</td>\n",
              "      <td id=\"T_cab50_row6_col7\" class=\"data row6 col7\" >0.787879</td>\n",
              "    </tr>\n",
              "    <tr>\n",
              "      <td id=\"T_cab50_row7_col0\" class=\"data row7 col0\" >DecisionTree Classifier</td>\n",
              "      <td id=\"T_cab50_row7_col1\" class=\"data row7 col1\" >0.818182</td>\n",
              "      <td id=\"T_cab50_row7_col2\" class=\"data row7 col2\" >0.883413</td>\n",
              "      <td id=\"T_cab50_row7_col3\" class=\"data row7 col3\" >0.839259</td>\n",
              "      <td id=\"T_cab50_row7_col4\" class=\"data row7 col4\" >0.923077</td>\n",
              "      <td id=\"T_cab50_row7_col5\" class=\"data row7 col5\" >0.843750</td>\n",
              "      <td id=\"T_cab50_row7_col6\" class=\"data row7 col6\" >0.943820</td>\n",
              "      <td id=\"T_cab50_row7_col7\" class=\"data row7 col7\" >0.794118</td>\n",
              "    </tr>\n",
              "    <tr>\n",
              "      <td id=\"T_cab50_row8_col0\" class=\"data row8 col0\" >LGBM</td>\n",
              "      <td id=\"T_cab50_row8_col1\" class=\"data row8 col1\" >0.830769</td>\n",
              "      <td id=\"T_cab50_row8_col2\" class=\"data row8 col2\" >0.958791</td>\n",
              "      <td id=\"T_cab50_row8_col3\" class=\"data row8 col3\" >0.933096</td>\n",
              "      <td id=\"T_cab50_row8_col4\" class=\"data row8 col4\" >0.934066</td>\n",
              "      <td id=\"T_cab50_row8_col5\" class=\"data row8 col5\" >0.843750</td>\n",
              "      <td id=\"T_cab50_row8_col6\" class=\"data row8 col6\" >0.944444</td>\n",
              "      <td id=\"T_cab50_row8_col7\" class=\"data row8 col7\" >0.818182</td>\n",
              "    </tr>\n",
              "  </tbody>\n",
              "</table>\n"
            ]
          },
          "metadata": {},
          "execution_count": 38
        }
      ],
      "source": [
        "clf = print_auc(model10, X1_train, y1_train, X1_test, y1_test, 'LGBN')\n",
        "results_df9 = pd.DataFrame(data=[['LGBM', clf['f1'], clf['auc'], clf['auc_pr'], clf['recall_sc'][0], clf['recall_sc'][1], clf['precision_sc'][0], clf['precision_sc'][1]]], \n",
        "                          columns=['Model', 'f1_score', 'auc', 'auc_pr', 'recall_classe(0)', 'recall_classe(1)', 'precision_classe(0)', 'precision_classe(1)'])\n",
        "results_df = results_df.append(results_df9, ignore_index=True)\n",
        "\n",
        "results_df.style.hide_index()"
      ]
    },
    {
      "cell_type": "markdown",
      "metadata": {
        "id": "zABwFvKFvgno"
      },
      "source": [
        "## **XGB**"
      ]
    },
    {
      "cell_type": "code",
      "execution_count": 39,
      "metadata": {
        "id": "h_PxjO01wyaa"
      },
      "outputs": [],
      "source": [
        "model11 = xgb.XGBClassifier(objective='binary:logistic', random_state=seed).fit(X1_train, y1_train)"
      ]
    },
    {
      "cell_type": "code",
      "execution_count": 40,
      "metadata": {
        "id": "ljLl5Wiswmn_",
        "outputId": "0454d607-b17c-413a-d172-722e69888562",
        "colab": {
          "base_uri": "https://localhost:8080/",
          "height": 363
        }
      },
      "outputs": [
        {
          "output_type": "execute_result",
          "data": {
            "text/plain": [
              "<pandas.io.formats.style.Styler at 0x7fee0ca31d50>"
            ],
            "text/html": [
              "<style type=\"text/css\">\n",
              "</style>\n",
              "<table id=\"T_e41d8\" class=\"dataframe\">\n",
              "  <thead>\n",
              "    <tr>\n",
              "      <th id=\"T_e41d8_level0_col0\" class=\"col_heading level0 col0\" >Model</th>\n",
              "      <th id=\"T_e41d8_level0_col1\" class=\"col_heading level0 col1\" >f1_score</th>\n",
              "      <th id=\"T_e41d8_level0_col2\" class=\"col_heading level0 col2\" >auc</th>\n",
              "      <th id=\"T_e41d8_level0_col3\" class=\"col_heading level0 col3\" >auc_pr</th>\n",
              "      <th id=\"T_e41d8_level0_col4\" class=\"col_heading level0 col4\" >recall_classe(0)</th>\n",
              "      <th id=\"T_e41d8_level0_col5\" class=\"col_heading level0 col5\" >recall_classe(1)</th>\n",
              "      <th id=\"T_e41d8_level0_col6\" class=\"col_heading level0 col6\" >precision_classe(0)</th>\n",
              "      <th id=\"T_e41d8_level0_col7\" class=\"col_heading level0 col7\" >precision_classe(1)</th>\n",
              "    </tr>\n",
              "  </thead>\n",
              "  <tbody>\n",
              "    <tr>\n",
              "      <td id=\"T_e41d8_row0_col0\" class=\"data row0 col0\" >Logistic Regression</td>\n",
              "      <td id=\"T_e41d8_row0_col1\" class=\"data row0 col1\" >0.888889</td>\n",
              "      <td id=\"T_e41d8_row0_col2\" class=\"data row0 col2\" >0.953297</td>\n",
              "      <td id=\"T_e41d8_row0_col3\" class=\"data row0 col3\" >0.932885</td>\n",
              "      <td id=\"T_e41d8_row0_col4\" class=\"data row0 col4\" >0.967033</td>\n",
              "      <td id=\"T_e41d8_row0_col5\" class=\"data row0 col5\" >0.875000</td>\n",
              "      <td id=\"T_e41d8_row0_col6\" class=\"data row0 col6\" >0.956522</td>\n",
              "      <td id=\"T_e41d8_row0_col7\" class=\"data row0 col7\" >0.903226</td>\n",
              "    </tr>\n",
              "    <tr>\n",
              "      <td id=\"T_e41d8_row1_col0\" class=\"data row1 col0\" >SVM</td>\n",
              "      <td id=\"T_e41d8_row1_col1\" class=\"data row1 col1\" >0.847458</td>\n",
              "      <td id=\"T_e41d8_row1_col2\" class=\"data row1 col2\" >0.966346</td>\n",
              "      <td id=\"T_e41d8_row1_col3\" class=\"data row1 col3\" >0.927824</td>\n",
              "      <td id=\"T_e41d8_row1_col4\" class=\"data row1 col4\" >0.978022</td>\n",
              "      <td id=\"T_e41d8_row1_col5\" class=\"data row1 col5\" >0.781250</td>\n",
              "      <td id=\"T_e41d8_row1_col6\" class=\"data row1 col6\" >0.927083</td>\n",
              "      <td id=\"T_e41d8_row1_col7\" class=\"data row1 col7\" >0.925926</td>\n",
              "    </tr>\n",
              "    <tr>\n",
              "      <td id=\"T_e41d8_row2_col0\" class=\"data row2 col0\" >Gradient Boosting</td>\n",
              "      <td id=\"T_e41d8_row2_col1\" class=\"data row2 col1\" >0.875000</td>\n",
              "      <td id=\"T_e41d8_row2_col2\" class=\"data row2 col2\" >0.959478</td>\n",
              "      <td id=\"T_e41d8_row2_col3\" class=\"data row2 col3\" >0.938167</td>\n",
              "      <td id=\"T_e41d8_row2_col4\" class=\"data row2 col4\" >0.956044</td>\n",
              "      <td id=\"T_e41d8_row2_col5\" class=\"data row2 col5\" >0.875000</td>\n",
              "      <td id=\"T_e41d8_row2_col6\" class=\"data row2 col6\" >0.956044</td>\n",
              "      <td id=\"T_e41d8_row2_col7\" class=\"data row2 col7\" >0.875000</td>\n",
              "    </tr>\n",
              "    <tr>\n",
              "      <td id=\"T_e41d8_row3_col0\" class=\"data row3 col0\" >Random Forest</td>\n",
              "      <td id=\"T_e41d8_row3_col1\" class=\"data row3 col1\" >0.852459</td>\n",
              "      <td id=\"T_e41d8_row3_col2\" class=\"data row3 col2\" >0.965659</td>\n",
              "      <td id=\"T_e41d8_row3_col3\" class=\"data row3 col3\" >0.927233</td>\n",
              "      <td id=\"T_e41d8_row3_col4\" class=\"data row3 col4\" >0.967033</td>\n",
              "      <td id=\"T_e41d8_row3_col5\" class=\"data row3 col5\" >0.812500</td>\n",
              "      <td id=\"T_e41d8_row3_col6\" class=\"data row3 col6\" >0.936170</td>\n",
              "      <td id=\"T_e41d8_row3_col7\" class=\"data row3 col7\" >0.896552</td>\n",
              "    </tr>\n",
              "    <tr>\n",
              "      <td id=\"T_e41d8_row4_col0\" class=\"data row4 col0\" >KNeibors Classifier</td>\n",
              "      <td id=\"T_e41d8_row4_col1\" class=\"data row4 col1\" >0.833333</td>\n",
              "      <td id=\"T_e41d8_row4_col2\" class=\"data row4 col2\" >0.955357</td>\n",
              "      <td id=\"T_e41d8_row4_col3\" class=\"data row4 col3\" >0.917124</td>\n",
              "      <td id=\"T_e41d8_row4_col4\" class=\"data row4 col4\" >0.967033</td>\n",
              "      <td id=\"T_e41d8_row4_col5\" class=\"data row4 col5\" >0.781250</td>\n",
              "      <td id=\"T_e41d8_row4_col6\" class=\"data row4 col6\" >0.926316</td>\n",
              "      <td id=\"T_e41d8_row4_col7\" class=\"data row4 col7\" >0.892857</td>\n",
              "    </tr>\n",
              "    <tr>\n",
              "      <td id=\"T_e41d8_row5_col0\" class=\"data row5 col0\" >ExtraTrees Classifier</td>\n",
              "      <td id=\"T_e41d8_row5_col1\" class=\"data row5 col1\" >0.852459</td>\n",
              "      <td id=\"T_e41d8_row5_col2\" class=\"data row5 col2\" >0.963942</td>\n",
              "      <td id=\"T_e41d8_row5_col3\" class=\"data row5 col3\" >0.901118</td>\n",
              "      <td id=\"T_e41d8_row5_col4\" class=\"data row5 col4\" >0.967033</td>\n",
              "      <td id=\"T_e41d8_row5_col5\" class=\"data row5 col5\" >0.812500</td>\n",
              "      <td id=\"T_e41d8_row5_col6\" class=\"data row5 col6\" >0.936170</td>\n",
              "      <td id=\"T_e41d8_row5_col7\" class=\"data row5 col7\" >0.896552</td>\n",
              "    </tr>\n",
              "    <tr>\n",
              "      <td id=\"T_e41d8_row6_col0\" class=\"data row6 col0\" >AdaBoost Classifier</td>\n",
              "      <td id=\"T_e41d8_row6_col1\" class=\"data row6 col1\" >0.800000</td>\n",
              "      <td id=\"T_e41d8_row6_col2\" class=\"data row6 col2\" >0.932521</td>\n",
              "      <td id=\"T_e41d8_row6_col3\" class=\"data row6 col3\" >0.875056</td>\n",
              "      <td id=\"T_e41d8_row6_col4\" class=\"data row6 col4\" >0.923077</td>\n",
              "      <td id=\"T_e41d8_row6_col5\" class=\"data row6 col5\" >0.812500</td>\n",
              "      <td id=\"T_e41d8_row6_col6\" class=\"data row6 col6\" >0.933333</td>\n",
              "      <td id=\"T_e41d8_row6_col7\" class=\"data row6 col7\" >0.787879</td>\n",
              "    </tr>\n",
              "    <tr>\n",
              "      <td id=\"T_e41d8_row7_col0\" class=\"data row7 col0\" >DecisionTree Classifier</td>\n",
              "      <td id=\"T_e41d8_row7_col1\" class=\"data row7 col1\" >0.818182</td>\n",
              "      <td id=\"T_e41d8_row7_col2\" class=\"data row7 col2\" >0.883413</td>\n",
              "      <td id=\"T_e41d8_row7_col3\" class=\"data row7 col3\" >0.839259</td>\n",
              "      <td id=\"T_e41d8_row7_col4\" class=\"data row7 col4\" >0.923077</td>\n",
              "      <td id=\"T_e41d8_row7_col5\" class=\"data row7 col5\" >0.843750</td>\n",
              "      <td id=\"T_e41d8_row7_col6\" class=\"data row7 col6\" >0.943820</td>\n",
              "      <td id=\"T_e41d8_row7_col7\" class=\"data row7 col7\" >0.794118</td>\n",
              "    </tr>\n",
              "    <tr>\n",
              "      <td id=\"T_e41d8_row8_col0\" class=\"data row8 col0\" >LGBM</td>\n",
              "      <td id=\"T_e41d8_row8_col1\" class=\"data row8 col1\" >0.830769</td>\n",
              "      <td id=\"T_e41d8_row8_col2\" class=\"data row8 col2\" >0.958791</td>\n",
              "      <td id=\"T_e41d8_row8_col3\" class=\"data row8 col3\" >0.933096</td>\n",
              "      <td id=\"T_e41d8_row8_col4\" class=\"data row8 col4\" >0.934066</td>\n",
              "      <td id=\"T_e41d8_row8_col5\" class=\"data row8 col5\" >0.843750</td>\n",
              "      <td id=\"T_e41d8_row8_col6\" class=\"data row8 col6\" >0.944444</td>\n",
              "      <td id=\"T_e41d8_row8_col7\" class=\"data row8 col7\" >0.818182</td>\n",
              "    </tr>\n",
              "    <tr>\n",
              "      <td id=\"T_e41d8_row9_col0\" class=\"data row9 col0\" >XGB Classifer</td>\n",
              "      <td id=\"T_e41d8_row9_col1\" class=\"data row9 col1\" >0.857143</td>\n",
              "      <td id=\"T_e41d8_row9_col2\" class=\"data row9 col2\" >0.959135</td>\n",
              "      <td id=\"T_e41d8_row9_col3\" class=\"data row9 col3\" >0.926096</td>\n",
              "      <td id=\"T_e41d8_row9_col4\" class=\"data row9 col4\" >0.956044</td>\n",
              "      <td id=\"T_e41d8_row9_col5\" class=\"data row9 col5\" >0.843750</td>\n",
              "      <td id=\"T_e41d8_row9_col6\" class=\"data row9 col6\" >0.945652</td>\n",
              "      <td id=\"T_e41d8_row9_col7\" class=\"data row9 col7\" >0.870968</td>\n",
              "    </tr>\n",
              "  </tbody>\n",
              "</table>\n"
            ]
          },
          "metadata": {},
          "execution_count": 40
        }
      ],
      "source": [
        "clf = print_auc(model11, X1_train, y1_train, X1_test, y1_test, 'XGB Classifer')\n",
        "results_df10 = pd.DataFrame(data=[['XGB Classifer', clf['f1'], clf['auc'], clf['auc_pr'], clf['recall_sc'][0], clf['recall_sc'][1], clf['precision_sc'][0], clf['precision_sc'][1]]], \n",
        "                          columns=['Model', 'f1_score', 'auc', 'auc_pr', 'recall_classe(0)', 'recall_classe(1)', 'precision_classe(0)', 'precision_classe(1)'])\n",
        "results_df = results_df.append(results_df10, ignore_index=True)\n",
        "\n",
        "results_df.style.hide_index()"
      ]
    },
    {
      "cell_type": "code",
      "execution_count": 41,
      "metadata": {
        "id": "Y-hc30eB0iO9"
      },
      "outputs": [],
      "source": [
        "results_df.to_csv('results_dfROS.csv', index=False)"
      ]
    }
  ],
  "metadata": {
    "colab": {
      "provenance": [],
      "include_colab_link": true
    },
    "kernelspec": {
      "display_name": "Python 3",
      "language": "python",
      "name": "python3"
    },
    "language_info": {
      "codemirror_mode": {
        "name": "ipython",
        "version": 3
      },
      "file_extension": ".py",
      "mimetype": "text/x-python",
      "name": "python",
      "nbconvert_exporter": "python",
      "pygments_lexer": "ipython3",
      "version": "3.11.3"
    }
  },
  "nbformat": 4,
  "nbformat_minor": 0
}