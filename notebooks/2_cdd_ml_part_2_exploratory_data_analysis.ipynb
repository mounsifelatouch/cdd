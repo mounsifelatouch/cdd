{
  "cells": [
    {
      "cell_type": "markdown",
      "metadata": {
        "id": "view-in-github",
        "colab_type": "text"
      },
      "source": [
        "<a href=\"https://colab.research.google.com/github/mounsifelatouch/cdd/blob/master/notebooks/2_cdd_ml_part_2_exploratory_data_analysis.ipynb\" target=\"_parent\"><img src=\"https://colab.research.google.com/assets/colab-badge.svg\" alt=\"Open In Colab\"/></a>"
      ]
    },
    {
      "cell_type": "markdown",
      "metadata": {
        "id": "l0Y7_lgN4jzM"
      },
      "source": [
        "# **Bioinformatics Project - Computational Drug Discovery [Part 2] Exploratory Data Analysis**\n",
        "\n",
        "**MOUNSIF EL ATOUCH**\n",
        "\n",
        "\n",
        "In this Jupyter notebook, we will be building a machine learning model using the ChEMBL bioactivity data.\n",
        "\n",
        "In **Part 2**, we will be performing Descriptor Calculation and Exploratory Data Analysis.\n",
        "\n",
        "---"
      ]
    },
    {
      "cell_type": "markdown",
      "metadata": {
        "id": "o-4IOizard4P"
      },
      "source": [
        "## **Installing libraries**"
      ]
    },
    {
      "cell_type": "code",
      "source": [
        "! pip install rdkit"
      ],
      "metadata": {
        "id": "p1wliSFCxfjD"
      },
      "execution_count": null,
      "outputs": []
    },
    {
      "cell_type": "markdown",
      "source": [
        "## **Importing libraries**"
      ],
      "metadata": {
        "id": "AJPM6ZKFyJIZ"
      }
    },
    {
      "cell_type": "code",
      "execution_count": null,
      "metadata": {
        "id": "LN6xx6c6vr1e"
      },
      "outputs": [],
      "source": [
        "import pandas as pd #data processing, CSV file I/O (e.g. pd.read_csv)\n",
        "import warnings #ignore warnings\n",
        "warnings.filterwarnings('ignore')\n",
        "import numpy as np #linear algebra\n",
        "from rdkit import Chem #working with molecular structures\n",
        "from rdkit.Chem import Descriptors, Lipinski\n",
        "import seaborn as sns\n",
        "sns.set(style='ticks')\n",
        "import matplotlib.pyplot as plt"
      ]
    },
    {
      "cell_type": "markdown",
      "metadata": {
        "id": "QmxXXFa4wTNG"
      },
      "source": [
        "## **Load bioactivity data**"
      ]
    },
    {
      "cell_type": "code",
      "source": [
        "! wget https://raw.githubusercontent.com/mounsifelatouch/cdd/master/data/bioactivity_data_curated.csv"
      ],
      "metadata": {
        "id": "pcXCVDKqVVgT"
      },
      "execution_count": null,
      "outputs": []
    },
    {
      "cell_type": "code",
      "execution_count": null,
      "metadata": {
        "id": "Fpu5C7HlwV9s"
      },
      "outputs": [],
      "source": [
        "df = pd.read_csv('bioactivity_data_curated.csv')"
      ]
    },
    {
      "cell_type": "code",
      "execution_count": null,
      "metadata": {
        "id": "7AMm19NW0bJR"
      },
      "outputs": [],
      "source": [
        "df_no_smiles = df.drop(columns='canonical_smiles')"
      ]
    },
    {
      "cell_type": "code",
      "execution_count": null,
      "metadata": {
        "id": "aymiQsfdr5sY"
      },
      "outputs": [],
      "source": [
        "smiles = []\n",
        "\n",
        "for i in df.canonical_smiles.tolist():\n",
        "  cpd = str(i).split('.')\n",
        "  cpd_longest = max(cpd, key = len)\n",
        "  smiles.append(cpd_longest)\n",
        "\n",
        "smiles = pd.Series(smiles, name = 'canonical_smiles')"
      ]
    },
    {
      "cell_type": "code",
      "execution_count": null,
      "metadata": {
        "id": "l7a8qW_U85ZK"
      },
      "outputs": [],
      "source": [
        "df_clean_smiles = pd.concat([df_no_smiles, smiles], axis=1)"
      ]
    },
    {
      "cell_type": "markdown",
      "metadata": {
        "id": "YzN_S4Quro5S"
      },
      "source": [
        "## **Calculate Lipinski descriptors**\n",
        "Christopher Lipinski, a scientist at Pfizer, came up with a set of rule-of-thumb for evaluating the **druglikeness** of compounds. Such druglikeness is based on the Absorption, Distribution, Metabolism and Excretion (ADME) that is also known as the pharmacokinetic profile. Lipinski analyzed all orally active FDA-approved drugs in the formulation of what is to be known as the **Rule-of-Five** or **Lipinski's Rule**.\n",
        "\n",
        "The Lipinski's Rule stated the following:\n",
        "* Molecular weight < 500 Dalton\n",
        "* Octanol-water partition coefficient (LogP) < 5\n",
        "* Hydrogen bond donors < 5\n",
        "* Hydrogen bond acceptors < 10"
      ]
    },
    {
      "cell_type": "markdown",
      "metadata": {
        "id": "JsgTV-ByxdMa"
      },
      "source": [
        "### **Calculate descriptors**"
      ]
    },
    {
      "cell_type": "code",
      "execution_count": null,
      "metadata": {
        "id": "bCXEY7a9ugO_"
      },
      "outputs": [],
      "source": [
        "def lipinski(smiles, verbose=False):\n",
        "\n",
        "    moldata= []\n",
        "    for elem in smiles:\n",
        "        mol=Chem.MolFromSmiles(elem)\n",
        "        moldata.append(mol)\n",
        "\n",
        "    baseData= np.arange(1,1)\n",
        "    i=0\n",
        "    for mol in moldata:\n",
        "\n",
        "        desc_MolWt = Descriptors.MolWt(mol)\n",
        "        desc_MolLogP = Descriptors.MolLogP(mol)\n",
        "        desc_NumHDonors = Lipinski.NumHDonors(mol)\n",
        "        desc_NumHAcceptors = Lipinski.NumHAcceptors(mol)\n",
        "\n",
        "        row = np.array([desc_MolWt,\n",
        "                        desc_MolLogP,\n",
        "                        desc_NumHDonors,\n",
        "                        desc_NumHAcceptors])\n",
        "\n",
        "        if(i==0):\n",
        "            baseData=row\n",
        "        else:\n",
        "            baseData=np.vstack([baseData, row])\n",
        "        i=i+1\n",
        "\n",
        "    columnNames=[\"MW\",\"LogP\",\"nHBDon\",\"nHBAcc\"]\n",
        "    descriptors = pd.DataFrame(data=baseData,columns=columnNames)\n",
        "\n",
        "    return descriptors"
      ]
    },
    {
      "cell_type": "code",
      "execution_count": null,
      "metadata": {
        "id": "ThFIFw8IukMY"
      },
      "outputs": [],
      "source": [
        "df_lipinski = lipinski(df_clean_smiles.canonical_smiles)"
      ]
    },
    {
      "cell_type": "markdown",
      "metadata": {
        "id": "gUMlPfFrxicj"
      },
      "source": [
        "### **Combine DataFrames**\n",
        "Now, let's combine the 2 DataFrame"
      ]
    },
    {
      "cell_type": "code",
      "execution_count": null,
      "metadata": {
        "id": "L9nUZC0Ww3gp"
      },
      "outputs": [],
      "source": [
        "df_combined = pd.concat([df, df_lipinski], axis=1)"
      ]
    },
    {
      "cell_type": "code",
      "execution_count": null,
      "metadata": {
        "id": "XIiYdeL5ghCo"
      },
      "outputs": [],
      "source": [
        "df_combined.to_csv('bioactivity_combined_data.csv', index=False)"
      ]
    },
    {
      "cell_type": "markdown",
      "metadata": {
        "id": "p9vA4-hQQ8sA"
      },
      "source": [
        "---"
      ]
    },
    {
      "cell_type": "markdown",
      "metadata": {
        "id": "x0vqbQWfxsZu"
      },
      "source": [
        "## **Exploratory Data Analysis (Chemical Space Analysis) via Lipinski descriptors**"
      ]
    },
    {
      "cell_type": "code",
      "source": [
        "data = df_combined.copy()"
      ],
      "metadata": {
        "id": "aDt3noMZ0A_R"
      },
      "execution_count": null,
      "outputs": []
    },
    {
      "cell_type": "markdown",
      "source": [
        "### **Target distribution**"
      ],
      "metadata": {
        "id": "NdbSjr7owtwb"
      }
    },
    {
      "cell_type": "code",
      "source": [
        "plt.figure(figsize=(5.5, 5.5))\n",
        "\n",
        "labels = 'inactive', 'active'\n",
        "colors = ['#FF6666', '#69E279']\n",
        "myexplode = [0.2, 0]\n",
        "plt.pie(data['activity'].value_counts(), labels=labels, colors=colors, autopct='%1.2f%%', explode=myexplode)\n",
        "plt.title('Target Distribution', fontsize=10, fontweight='bold')\n",
        "plt.legend(title=\"Label:\")\n",
        "plt.savefig('target_distribution.png', dpi=300)\n",
        "plt.show()"
      ],
      "metadata": {
        "id": "QBVadamLz3bG"
      },
      "execution_count": null,
      "outputs": []
    },
    {
      "cell_type": "markdown",
      "metadata": {
        "id": "NiarmFbOdG3H"
      },
      "source": [
        "### **Frequency plot of the 2 bioactivity classes**"
      ]
    },
    {
      "cell_type": "code",
      "execution_count": null,
      "metadata": {
        "id": "w2Ia0iycdMO2"
      },
      "outputs": [],
      "source": [
        "plt.figure(figsize=(5.5, 5.5))\n",
        "\n",
        "colors = ['#FF6666', '#69E279']\n",
        "sns.countplot(x='activity', data=data, edgecolor='black', palette=colors)\n",
        "\n",
        "plt.xlabel('Bioactivity Class', fontsize=10, fontweight='bold')\n",
        "plt.ylabel('Frequency', fontsize=10, fontweight='bold')\n",
        "\n",
        "plt.savefig('plot_bioactivity_class.png', dpi=300)"
      ]
    },
    {
      "cell_type": "markdown",
      "metadata": {
        "id": "wB68NKVG0j68"
      },
      "source": [
        "### **Scatter plot of MW versus LogP**\n",
        "\n",
        "It can be seen that the 2 bioactivity classes are spanning similar chemical spaces as evident by the scatter plot of MW vs LogP."
      ]
    },
    {
      "cell_type": "code",
      "execution_count": null,
      "metadata": {
        "id": "F79BNwjF0nub"
      },
      "outputs": [],
      "source": [
        "plt.figure(figsize=(5.5, 5.5))\n",
        "\n",
        "colors = ['#FF6666', '#69E279']\n",
        "sns.scatterplot(x='MW', y='LogP', data=data, hue='activity', size='pIC50', edgecolor='black', alpha=0.7, legend=False, palette=colors)\n",
        "\n",
        "plt.xlabel('MW', fontsize=10, fontweight='bold')\n",
        "plt.ylabel('LogP', fontsize=10, fontweight='bold')\n",
        "\n",
        "plt.savefig('plot_MW_vs_LogP.png', dpi=300)"
      ]
    },
    {
      "cell_type": "markdown",
      "metadata": {
        "id": "_CAr_lSbvr1y"
      },
      "source": [
        "Most of the compounds have a molecular weight of between 200 and 500 Da and logP values between 1 and 6. This is reasonable as drugs with MW>500 and logP>5 tend to lead to poor absorption. Good absorption is needed for orally administered drugs."
      ]
    },
    {
      "cell_type": "markdown",
      "metadata": {
        "id": "oLAfyRwHyJfX"
      },
      "source": [
        "### **Box plots**"
      ]
    },
    {
      "cell_type": "markdown",
      "metadata": {
        "id": "1n1uIAivyOkY"
      },
      "source": [
        "#### **pIC50 value**"
      ]
    },
    {
      "cell_type": "code",
      "execution_count": null,
      "metadata": {
        "id": "EpPviw0hxue6"
      },
      "outputs": [],
      "source": [
        "plt.figure(figsize=(5.5, 5.5))\n",
        "\n",
        "colors = ['#FF6666', '#69E279']\n",
        "sns.boxplot(x='activity', y='pIC50', data=data, palette=colors)\n",
        "plt.xlabel('', fontsize=10, fontweight='bold')\n",
        "plt.ylabel('pIC50 value', fontsize=10, fontweight='bold')\n",
        "\n",
        "plt.savefig('plot_pIC50.png', dpi=300)"
      ]
    },
    {
      "cell_type": "markdown",
      "metadata": {
        "id": "PsOqKyysCZCv"
      },
      "source": [
        "**Statistical analysis | Mann-Whitney U Test**"
      ]
    },
    {
      "cell_type": "code",
      "execution_count": null,
      "metadata": {
        "id": "LPdV1vDnWBsh"
      },
      "outputs": [],
      "source": [
        "def mannwhitney(descriptor, verbose=False):\n",
        "  # https://machinelearningmastery.com/nonparametric-statistical-significance-tests-in-python/\n",
        "  from numpy.random import seed\n",
        "  from numpy.random import randn\n",
        "  from scipy.stats import mannwhitneyu\n",
        "\n",
        "# seed the random number generator\n",
        "  seed(1)\n",
        "\n",
        "# actives and inactives\n",
        "  selection = [descriptor, 'activity']\n",
        "  df = data[selection]\n",
        "  active = df[df['activity'] == 'active']\n",
        "  active = active[descriptor]\n",
        "\n",
        "  selection = [descriptor, 'activity']\n",
        "  df = data[selection]\n",
        "  inactive = df[df['activity'] == 'inactive']\n",
        "  inactive = inactive[descriptor]\n",
        "\n",
        "# compare samples\n",
        "  stat, p = mannwhitneyu(active, inactive)\n",
        "\n",
        "# interpret\n",
        "  alpha = 0.05\n",
        "  if p > alpha:\n",
        "    interpretation = 'Same distribution (fail to reject H0)'\n",
        "  else:\n",
        "    interpretation = 'Different distribution (reject H0)'\n",
        "\n",
        "  results = pd.DataFrame({'Descriptor':descriptor,\n",
        "                          'Statistics':stat,\n",
        "                          'p':p,\n",
        "                          'alpha':alpha,\n",
        "                          'Interpretation':interpretation}, index=[0])\n",
        "  filename = 'mannwhitneyu_' + descriptor + '.csv'\n",
        "  results.to_csv(filename)\n",
        "\n",
        "  return results"
      ]
    },
    {
      "cell_type": "markdown",
      "metadata": {
        "id": "PgWP2SIe5o8F"
      },
      "source": [
        "**Statistical analysis | Mann-Whitney U Test**"
      ]
    },
    {
      "cell_type": "code",
      "execution_count": null,
      "metadata": {
        "id": "HZmUgOmdYVm5"
      },
      "outputs": [],
      "source": [
        "mannwhitney('pIC50')"
      ]
    },
    {
      "cell_type": "markdown",
      "source": [
        "As expected, the pIC50 values for active compounds are lower than for inactive compounds."
      ],
      "metadata": {
        "id": "qwyn1UE99pmc"
      }
    },
    {
      "cell_type": "markdown",
      "metadata": {
        "id": "o2UlCwPmyTBq"
      },
      "source": [
        "#### **MW**"
      ]
    },
    {
      "cell_type": "code",
      "execution_count": null,
      "metadata": {
        "id": "ZNlEEsDEx3m6"
      },
      "outputs": [],
      "source": [
        "plt.figure(figsize=(5.5, 5.5))\n",
        "\n",
        "colors = ['#FF6666', '#69E279']\n",
        "sns.boxplot(x='activity', y='MW', data=data, palette=colors)\n",
        "plt.xlabel('', fontsize=10, fontweight='bold')\n",
        "plt.ylabel('MW', fontsize=10, fontweight='bold')\n",
        "\n",
        "plt.savefig('plot_MW.png', dpi=300)"
      ]
    },
    {
      "cell_type": "markdown",
      "metadata": {
        "id": "9W0ioOxy52-l"
      },
      "source": [
        "**Statistical analysis | Mann-Whitney U Test**"
      ]
    },
    {
      "cell_type": "code",
      "execution_count": null,
      "metadata": {
        "id": "wRl2FvgHYqaG"
      },
      "outputs": [],
      "source": [
        "mannwhitney('MW')"
      ]
    },
    {
      "cell_type": "markdown",
      "metadata": {
        "id": "z5hyBhGqyc6J"
      },
      "source": [
        "#### **LogP**"
      ]
    },
    {
      "cell_type": "code",
      "execution_count": null,
      "metadata": {
        "id": "liEtkpI4yX9t"
      },
      "outputs": [],
      "source": [
        "plt.figure(figsize=(5.5, 5.5))\n",
        "\n",
        "colors = ['#FF6666', '#69E279']\n",
        "sns.boxplot(x='activity', y='LogP', data=data, palette=colors)\n",
        "plt.xlabel('', fontsize=10, fontweight='bold')\n",
        "plt.ylabel('LogP', fontsize=10, fontweight='bold')\n",
        "\n",
        "plt.savefig('plot_LogP.png', dpi=300)"
      ]
    },
    {
      "cell_type": "markdown",
      "metadata": {
        "id": "2KgV5v_oFLXh"
      },
      "source": [
        "**Statistical analysis | Mann-Whitney U Test**"
      ]
    },
    {
      "cell_type": "code",
      "execution_count": null,
      "metadata": {
        "id": "B61UsGMIFLuE"
      },
      "outputs": [],
      "source": [
        "mannwhitney('LogP')"
      ]
    },
    {
      "cell_type": "markdown",
      "metadata": {
        "id": "4db7LZLRym2k"
      },
      "source": [
        "#### **NumHDonors**"
      ]
    },
    {
      "cell_type": "code",
      "execution_count": null,
      "metadata": {
        "id": "iru1JPM1yg5A"
      },
      "outputs": [],
      "source": [
        "plt.figure(figsize=(5.5, 5.5))\n",
        "\n",
        "colors = ['#FF6666', '#69E279']\n",
        "sns.boxplot(x='activity', y='nHBDon', data=data, palette=colors)\n",
        "plt.xlabel('', fontsize=10, fontweight='bold')\n",
        "plt.ylabel('nHBDon', fontsize=10, fontweight='bold')\n",
        "\n",
        "plt.savefig('plot_NumHDonors.png', dpi=300)"
      ]
    },
    {
      "cell_type": "markdown",
      "metadata": {
        "id": "vM5vZWanFe3c"
      },
      "source": [
        "**Statistical analysis | Mann-Whitney U Test**"
      ]
    },
    {
      "cell_type": "code",
      "execution_count": null,
      "metadata": {
        "id": "mS-rOqq7Fd1E"
      },
      "outputs": [],
      "source": [
        "mannwhitney('nHBDon')"
      ]
    },
    {
      "cell_type": "markdown",
      "metadata": {
        "id": "yOYQ3QiSyu7-"
      },
      "source": [
        "#### **NumHAcceptors**"
      ]
    },
    {
      "cell_type": "code",
      "execution_count": null,
      "metadata": {
        "id": "yCw6tgNCyxHf"
      },
      "outputs": [],
      "source": [
        "plt.figure(figsize=(5.5, 5.5))\n",
        "\n",
        "colors = ['#FF6666', '#69E279']\n",
        "sns.boxplot(x='activity', y='nHBAcc', data=data, palette=colors)\n",
        "plt.xlabel('', fontsize=10, fontweight='bold')\n",
        "plt.ylabel('nHBAcc', fontsize=10, fontweight='bold')\n",
        "\n",
        "plt.savefig('plot_NumHAcceptors.png', dpi=300)"
      ]
    },
    {
      "cell_type": "markdown",
      "metadata": {
        "id": "-vKJlssLvr13"
      },
      "source": [
        "**Statistical analysis | Mann-Whitney U Test**"
      ]
    },
    {
      "cell_type": "code",
      "execution_count": null,
      "metadata": {
        "id": "NEQoDZctFtGG"
      },
      "outputs": [],
      "source": [
        "mannwhitney('nHBAcc')"
      ]
    },
    {
      "cell_type": "markdown",
      "metadata": {
        "id": "p4QjdHVjKYum"
      },
      "source": [
        "#### **Interpretation of Statistical Results**"
      ]
    },
    {
      "cell_type": "markdown",
      "metadata": {
        "id": "mSoOBIqfLbDs"
      },
      "source": [
        "##### **Box Plots**\n",
        "\n",
        "###### **pIC50 values**\n",
        "\n",
        "Taking a look at pIC50 values, the **actives** and **inactives** displayed ***statistically significant difference***, which is to be expected since threshold values (``IC50 <= 1000 nM = Actives while IC50 >= 10000 nM = Inactives``, corresponding to ``pIC50 >= 6 = Actives and pIC50 <=5 = Inactives``) were used to define actives and inactives.\n",
        "\n",
        "###### **Lipinski's descriptors**\n",
        "\n",
        "Based on the boundaries of the boxes, there are no differences between the two bioactivity classes for MW, LogP, nHBDon and nHBAcc.\n",
        "\n",
        "---\n",
        "\n"
      ]
    },
    {
      "cell_type": "code",
      "source": [
        "# create four sample plots\n",
        "fig, axs = plt.subplots(2, 2, figsize=(8, 8))\n",
        "colors = ['#FF6666', '#69E279']\n",
        "\n",
        "sns.boxplot(x='activity', y='MW', data=data, palette=colors, ax=axs[0, 0])\n",
        "axs[0, 0].set_xlabel('', fontsize=10, fontweight='bold')\n",
        "axs[0, 0].set_ylabel('MW', fontsize=10, fontweight='bold')\n",
        "\n",
        "sns.boxplot(x='activity', y='LogP', data=data, palette=colors, ax=axs[0, 1])\n",
        "axs[0, 1].set_xlabel('', fontsize=10, fontweight='bold')\n",
        "axs[0, 1].set_ylabel('LogP', fontsize=10, fontweight='bold')\n",
        "\n",
        "sns.boxplot(x='activity', y='nHBDon', data=data, palette=colors, ax=axs[1, 0])\n",
        "axs[1, 0].set_xlabel('', fontsize=10, fontweight='bold')\n",
        "axs[1, 0].set_ylabel('nHBDon', fontsize=10, fontweight='bold')\n",
        "\n",
        "sns.boxplot(x='activity', y='nHBAcc', data=data, palette=colors, ax=axs[1, 1])\n",
        "axs[1, 1].set_xlabel('', fontsize=10, fontweight='bold')\n",
        "axs[1, 1].set_ylabel('nHBAcc', fontsize=10, fontweight='bold')\n",
        "\n",
        "# adjust spacing between subplots\n",
        "plt.subplots_adjust(wspace=0.3, hspace=0.2)\n",
        "\n",
        "sns.set_style(\"whitegrid\", {'axes.grid': False})\n",
        "\n",
        "plt.savefig('plot_4_boxplots.png', dpi=300)"
      ],
      "metadata": {
        "id": "R6xNuYZr2p_J"
      },
      "execution_count": null,
      "outputs": []
    },
    {
      "cell_type": "code",
      "source": [
        "! zip lab2.zip *"
      ],
      "metadata": {
        "id": "-RW23pCZVp0a"
      },
      "execution_count": null,
      "outputs": []
    }
  ],
  "metadata": {
    "colab": {
      "provenance": [],
      "include_colab_link": true
    },
    "kernelspec": {
      "display_name": "Python 3 (ipykernel)",
      "language": "python",
      "name": "python3"
    },
    "language_info": {
      "codemirror_mode": {
        "name": "ipython",
        "version": 3
      },
      "file_extension": ".py",
      "mimetype": "text/x-python",
      "name": "python",
      "nbconvert_exporter": "python",
      "pygments_lexer": "ipython3",
      "version": "3.11.3"
    }
  },
  "nbformat": 4,
  "nbformat_minor": 0
}