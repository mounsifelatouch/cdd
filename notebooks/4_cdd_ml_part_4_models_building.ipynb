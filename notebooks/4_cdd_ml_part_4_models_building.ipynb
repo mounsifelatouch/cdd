{
 "cells": [
  {
   "cell_type": "markdown",
   "metadata": {
    "id": "JQMyebI0OLqv"
   },
   "source": [
    "# **Bioinformatics Project - Computational Drug Discovery [Part 4] Classification Models Building**\n",
    "\n",
    "**MOUNSIF EL ATOUCH**\n",
    "\n",
    "In this Jupyter notebook, we will be building a machine learning model using the ChEMBL bioactivity data.\n",
    "\n",
    "In **Part 4**, we will be building classification models\n",
    "\n",
    "---"
   ]
  },
  {
   "cell_type": "markdown",
   "metadata": {
    "id": "bMhHx_CmOTPD"
   },
   "source": [
    "## **Importing libraries**"
   ]
  },
  {
   "cell_type": "code",
   "execution_count": 1,
   "metadata": {
    "id": "o-MeyPj2tsrb"
   },
   "outputs": [],
   "source": [
    "import os\n",
    "import pandas as pd\n",
    "\n",
    "from scipy.spatial.distance import *\n",
    "import numpy as np\n",
    "\n",
    "import matplotlib.pyplot as plt\n",
    "%matplotlib inline\n",
    "import seaborn as sns\n",
    "\n",
    "seed = 42\n",
    "\n",
    "from sklearn.model_selection import *\n",
    "from sklearn.preprocessing import StandardScaler\n",
    "from sklearn.feature_selection import VarianceThreshold\n",
    "from sklearn.metrics import *\n",
    "\n",
    "from scipy import interp\n",
    "from math import *\n",
    "from sklearn.metrics import RocCurveDisplay\n",
    "\n",
    "import warnings\n",
    "warnings.filterwarnings('ignore')"
   ]
  },
  {
   "cell_type": "code",
   "execution_count": 2,
   "metadata": {
    "id": "UqPr6idQPgiF"
   },
   "outputs": [],
   "source": [
    "from sklearn.ensemble import ExtraTreesClassifier\n",
    "import xgboost as xgb\n",
    "from sklearn.ensemble import AdaBoostClassifier\n",
    "from sklearn.tree import DecisionTreeClassifier\n",
    "from sklearn.naive_bayes import GaussianNB\n",
    "import lightgbm as lgb\n",
    "from sklearn.neighbors import KNeighborsClassifier\n",
    "from sklearn.ensemble import RandomForestClassifier\n",
    "\n",
    "from sklearn.svm import SVC  \n",
    "from sklearn.neural_network import MLPClassifier\n",
    "from sklearn.linear_model import LogisticRegression"
   ]
  },
  {
   "cell_type": "code",
   "execution_count": 3,
   "metadata": {
    "id": "pyKg-HQhtsre"
   },
   "outputs": [],
   "source": [
    "def print_score(clf, X_train, y_train, X_test, y_test, train=True):\n",
    "    if train:\n",
    "        pred = clf.predict(X_train)\n",
    "        clf_report = pd.DataFrame(classification_report(y_train, pred, output_dict=True))\n",
    "        print(\"Train Result:\\n================================================\")\n",
    "        print(f\"Accuracy Score: {accuracy_score(y_train, pred) * 100:.2f}%\")\n",
    "        print(\"_______________________________________________\")\n",
    "        print(f\"CLASSIFICATION REPORT:\\n{clf_report}\")\n",
    "        print(\"_______________________________________________\")\n",
    "        print(f\"Confusion Matrix: \\n {confusion_matrix(y_train, pred)}\\n\")\n",
    "        \n",
    "    elif train==False:\n",
    "        pred = clf.predict(X_test)\n",
    "        clf_report = pd.DataFrame(classification_report(y_test, pred, output_dict=True))\n",
    "        print(\"Test Result:\\n================================================\")        \n",
    "        print(f\"Accuracy Score: {accuracy_score(y_test, pred) * 100:.2f}%\")\n",
    "        print(\"_______________________________________________\")\n",
    "        print(f\"CLASSIFICATION REPORT:\\n{clf_report}\")\n",
    "        print(\"_______________________________________________\")\n",
    "        print(f\"Confusion Matrix: \\n {confusion_matrix(y_test, pred)}\\n\")"
   ]
  },
  {
   "cell_type": "code",
   "execution_count": 4,
   "metadata": {
    "id": "KW7CP2Hwtsre"
   },
   "outputs": [],
   "source": [
    "def print_auc(clf, X_train, y_train, X_test, y_test, model_name) :\n",
    "    \n",
    "    clf = clf.fit(X_train, y_train)\n",
    "    y_pred_proba = clf.predict_proba(X_test)[::,1]\n",
    "    fpr, tpr, thr = roc_curve(y_test,  y_pred_proba)\n",
    "    roc_auc = roc_auc_score(y_test, y_pred_proba)\n",
    "    #plt.plot(fpr, tpr, label=model_name+\" auc=\"+str(roc_auc))\n",
    "    #plt.legend(loc=4)\n",
    "    #plt.title(\"ROC curve\")\n",
    "\n",
    "    #plt.show()\n",
    "    # Data to plot precision - recall curve\n",
    "    precision, recall, thresholds_log = precision_recall_curve(y_test, y_pred_proba)\n",
    "    # Use AUC function to calculate the area under the curve of precision recall curve\n",
    "    auc_precision_recall = auc(recall, precision)\n",
    "    \n",
    "    #plt.plot(recall, precision, label=model_name+\" auc_prc=\"+str(auc_precision_recall))\n",
    "    #plt.xlabel(\"Recall\")\n",
    "    #plt.ylabel(\"Precision\")\n",
    "    #plt.legend(loc=4)\n",
    "    #plt.title(\"Precision-Recall Curve\")\n",
    "\n",
    "    #plt.show()\n",
    "    precision_sc=precision_score(y_test, clf.predict(X_test), average=None)\n",
    "    recall_sc = recall_score(y_test, clf.predict(X_test), average=None)\n",
    "    test_score = accuracy_score(y_test, clf.predict(X_test)) * 100\n",
    "    train_score = accuracy_score(y_train, clf.predict(X_train)) * 100\n",
    "    f1 = f1_score(y_test, clf.predict(X_test))\n",
    "    print_score(clf, X_train, y_train, X_test, y_test, train=True)\n",
    "    print_score(clf, X_train, y_train, X_test, y_test, train=False)\n",
    "    metriques = {\"fpr\" : fpr, \"recall_sc\" : recall_sc, \"precision_sc\" : precision_sc, \"tpr\" : tpr,\n",
    "                 \"test_score\" : test_score, \"train_score\" : train_score, \"f1\" : f1,\n",
    "                 \"auc_pr\" : auc_precision_recall, \"auc\": roc_auc}\n",
    "    return metriques"
   ]
  },
  {
   "cell_type": "markdown",
   "metadata": {
    "id": "nLtPCIKXtsrf"
   },
   "source": [
    "## **Load the data set**"
   ]
  },
  {
   "cell_type": "code",
   "execution_count": 5,
   "metadata": {
    "id": "absK-NcdwMa9",
    "scrolled": true
   },
   "outputs": [
    {
     "name": "stderr",
     "output_type": "stream",
     "text": [
      "--2023-06-02 01:18:48--  https://raw.githubusercontent.com/mounsifelatouch/cdd/master/data/bioactivity_data_PubchemFingerprinter.csv\n",
      "Resolving raw.githubusercontent.com (raw.githubusercontent.com)... 185.199.110.133, 185.199.111.133, 185.199.108.133, ...\n",
      "Connecting to raw.githubusercontent.com (raw.githubusercontent.com)|185.199.110.133|:443... connected.\n",
      "HTTP request sent, awaiting response... 200 OK\n",
      "Length: 1154424 (1.1M) [text/plain]\n",
      "Saving to: 'bioactivity_data_PubchemFingerprinter.csv'\n",
      "\n",
      "     0K .......... .......... .......... .......... ..........  4%  167K 6s\n",
      "    50K .......... .......... .......... .......... ..........  8%  572K 4s\n",
      "   100K .......... .......... .......... .......... .......... 13%  231K 4s\n",
      "   150K .......... .......... .......... .......... .......... 17%  429K 3s\n",
      "   200K .......... .......... .......... .......... .......... 22%  305K 3s\n",
      "   250K .......... .......... .......... .......... .......... 26%  266K 3s\n",
      "   300K .......... .......... .......... .......... .......... 31%  346K 3s\n",
      "   350K .......... .......... .......... .......... .......... 35%  353K 2s\n",
      "   400K .......... .......... .......... .......... .......... 39%  244K 2s\n",
      "   450K .......... .......... .......... .......... .......... 44%  597K 2s\n",
      "   500K .......... .......... .......... .......... .......... 48%  268K 2s\n",
      "   550K .......... .......... .......... .......... .......... 53%  464K 2s\n",
      "   600K .......... .......... .......... .......... .......... 57%  243K 2s\n",
      "   650K .......... .......... .......... .......... .......... 62%  281K 1s\n",
      "   700K .......... .......... .......... .......... .......... 66%  385K 1s\n",
      "   750K .......... .......... .......... .......... .......... 70%  373K 1s\n",
      "   800K .......... .......... .......... .......... .......... 75%  275K 1s\n",
      "   850K .......... .......... .......... .......... .......... 79%  406K 1s\n",
      "   900K .......... .......... .......... .......... .......... 84%  348K 1s\n",
      "   950K .......... .......... .......... .......... .......... 88%  358K 0s\n",
      "  1000K .......... .......... .......... .......... .......... 93%  366K 0s\n",
      "  1050K .......... .......... .......... .......... .......... 97%  336K 0s\n",
      "  1100K .......... .......... .......                         100%  835K=3.5s\n",
      "\n",
      "2023-06-02 01:18:53 (323 KB/s) - 'bioactivity_data_PubchemFingerprinter.csv' saved [1154424/1154424]\n",
      "\n"
     ]
    }
   ],
   "source": [
    "! wget https://raw.githubusercontent.com/mounsifelatouch/cdd/master/data/bioactivity_data_PubchemFingerprinter.csv"
   ]
  },
  {
   "cell_type": "code",
   "execution_count": 6,
   "metadata": {
    "id": "VqaS8i8ytsrh"
   },
   "outputs": [
    {
     "data": {
      "text/html": [
       "<div>\n",
       "<style scoped>\n",
       "    .dataframe tbody tr th:only-of-type {\n",
       "        vertical-align: middle;\n",
       "    }\n",
       "\n",
       "    .dataframe tbody tr th {\n",
       "        vertical-align: top;\n",
       "    }\n",
       "\n",
       "    .dataframe thead th {\n",
       "        text-align: right;\n",
       "    }\n",
       "</style>\n",
       "<table border=\"1\" class=\"dataframe\">\n",
       "  <thead>\n",
       "    <tr style=\"text-align: right;\">\n",
       "      <th></th>\n",
       "      <th>PubchemFP0</th>\n",
       "      <th>PubchemFP1</th>\n",
       "      <th>PubchemFP2</th>\n",
       "      <th>PubchemFP3</th>\n",
       "      <th>PubchemFP4</th>\n",
       "      <th>PubchemFP5</th>\n",
       "      <th>PubchemFP6</th>\n",
       "      <th>PubchemFP7</th>\n",
       "      <th>PubchemFP8</th>\n",
       "      <th>PubchemFP9</th>\n",
       "      <th>...</th>\n",
       "      <th>PubchemFP872</th>\n",
       "      <th>PubchemFP873</th>\n",
       "      <th>PubchemFP874</th>\n",
       "      <th>PubchemFP875</th>\n",
       "      <th>PubchemFP876</th>\n",
       "      <th>PubchemFP877</th>\n",
       "      <th>PubchemFP878</th>\n",
       "      <th>PubchemFP879</th>\n",
       "      <th>PubchemFP880</th>\n",
       "      <th>Activity</th>\n",
       "    </tr>\n",
       "  </thead>\n",
       "  <tbody>\n",
       "    <tr>\n",
       "      <th>0</th>\n",
       "      <td>1</td>\n",
       "      <td>1</td>\n",
       "      <td>0</td>\n",
       "      <td>0</td>\n",
       "      <td>0</td>\n",
       "      <td>0</td>\n",
       "      <td>0</td>\n",
       "      <td>0</td>\n",
       "      <td>0</td>\n",
       "      <td>1</td>\n",
       "      <td>...</td>\n",
       "      <td>0</td>\n",
       "      <td>0</td>\n",
       "      <td>0</td>\n",
       "      <td>0</td>\n",
       "      <td>0</td>\n",
       "      <td>0</td>\n",
       "      <td>0</td>\n",
       "      <td>0</td>\n",
       "      <td>0</td>\n",
       "      <td>0</td>\n",
       "    </tr>\n",
       "    <tr>\n",
       "      <th>1</th>\n",
       "      <td>1</td>\n",
       "      <td>1</td>\n",
       "      <td>0</td>\n",
       "      <td>0</td>\n",
       "      <td>0</td>\n",
       "      <td>0</td>\n",
       "      <td>0</td>\n",
       "      <td>0</td>\n",
       "      <td>0</td>\n",
       "      <td>1</td>\n",
       "      <td>...</td>\n",
       "      <td>0</td>\n",
       "      <td>0</td>\n",
       "      <td>0</td>\n",
       "      <td>0</td>\n",
       "      <td>0</td>\n",
       "      <td>0</td>\n",
       "      <td>0</td>\n",
       "      <td>0</td>\n",
       "      <td>0</td>\n",
       "      <td>0</td>\n",
       "    </tr>\n",
       "    <tr>\n",
       "      <th>2</th>\n",
       "      <td>1</td>\n",
       "      <td>1</td>\n",
       "      <td>1</td>\n",
       "      <td>0</td>\n",
       "      <td>0</td>\n",
       "      <td>0</td>\n",
       "      <td>0</td>\n",
       "      <td>0</td>\n",
       "      <td>0</td>\n",
       "      <td>1</td>\n",
       "      <td>...</td>\n",
       "      <td>0</td>\n",
       "      <td>0</td>\n",
       "      <td>0</td>\n",
       "      <td>0</td>\n",
       "      <td>0</td>\n",
       "      <td>0</td>\n",
       "      <td>0</td>\n",
       "      <td>0</td>\n",
       "      <td>0</td>\n",
       "      <td>0</td>\n",
       "    </tr>\n",
       "    <tr>\n",
       "      <th>3</th>\n",
       "      <td>1</td>\n",
       "      <td>1</td>\n",
       "      <td>1</td>\n",
       "      <td>0</td>\n",
       "      <td>0</td>\n",
       "      <td>0</td>\n",
       "      <td>0</td>\n",
       "      <td>0</td>\n",
       "      <td>0</td>\n",
       "      <td>1</td>\n",
       "      <td>...</td>\n",
       "      <td>0</td>\n",
       "      <td>0</td>\n",
       "      <td>0</td>\n",
       "      <td>0</td>\n",
       "      <td>0</td>\n",
       "      <td>0</td>\n",
       "      <td>0</td>\n",
       "      <td>0</td>\n",
       "      <td>0</td>\n",
       "      <td>0</td>\n",
       "    </tr>\n",
       "    <tr>\n",
       "      <th>4</th>\n",
       "      <td>1</td>\n",
       "      <td>1</td>\n",
       "      <td>0</td>\n",
       "      <td>0</td>\n",
       "      <td>0</td>\n",
       "      <td>0</td>\n",
       "      <td>0</td>\n",
       "      <td>0</td>\n",
       "      <td>0</td>\n",
       "      <td>1</td>\n",
       "      <td>...</td>\n",
       "      <td>0</td>\n",
       "      <td>0</td>\n",
       "      <td>0</td>\n",
       "      <td>0</td>\n",
       "      <td>0</td>\n",
       "      <td>0</td>\n",
       "      <td>0</td>\n",
       "      <td>0</td>\n",
       "      <td>0</td>\n",
       "      <td>0</td>\n",
       "    </tr>\n",
       "    <tr>\n",
       "      <th>...</th>\n",
       "      <td>...</td>\n",
       "      <td>...</td>\n",
       "      <td>...</td>\n",
       "      <td>...</td>\n",
       "      <td>...</td>\n",
       "      <td>...</td>\n",
       "      <td>...</td>\n",
       "      <td>...</td>\n",
       "      <td>...</td>\n",
       "      <td>...</td>\n",
       "      <td>...</td>\n",
       "      <td>...</td>\n",
       "      <td>...</td>\n",
       "      <td>...</td>\n",
       "      <td>...</td>\n",
       "      <td>...</td>\n",
       "      <td>...</td>\n",
       "      <td>...</td>\n",
       "      <td>...</td>\n",
       "      <td>...</td>\n",
       "      <td>...</td>\n",
       "    </tr>\n",
       "    <tr>\n",
       "      <th>643</th>\n",
       "      <td>1</td>\n",
       "      <td>1</td>\n",
       "      <td>1</td>\n",
       "      <td>0</td>\n",
       "      <td>0</td>\n",
       "      <td>0</td>\n",
       "      <td>0</td>\n",
       "      <td>0</td>\n",
       "      <td>0</td>\n",
       "      <td>1</td>\n",
       "      <td>...</td>\n",
       "      <td>0</td>\n",
       "      <td>0</td>\n",
       "      <td>0</td>\n",
       "      <td>0</td>\n",
       "      <td>0</td>\n",
       "      <td>0</td>\n",
       "      <td>0</td>\n",
       "      <td>0</td>\n",
       "      <td>0</td>\n",
       "      <td>0</td>\n",
       "    </tr>\n",
       "    <tr>\n",
       "      <th>644</th>\n",
       "      <td>1</td>\n",
       "      <td>1</td>\n",
       "      <td>1</td>\n",
       "      <td>0</td>\n",
       "      <td>0</td>\n",
       "      <td>0</td>\n",
       "      <td>0</td>\n",
       "      <td>0</td>\n",
       "      <td>0</td>\n",
       "      <td>1</td>\n",
       "      <td>...</td>\n",
       "      <td>0</td>\n",
       "      <td>0</td>\n",
       "      <td>0</td>\n",
       "      <td>0</td>\n",
       "      <td>0</td>\n",
       "      <td>0</td>\n",
       "      <td>0</td>\n",
       "      <td>0</td>\n",
       "      <td>0</td>\n",
       "      <td>0</td>\n",
       "    </tr>\n",
       "    <tr>\n",
       "      <th>645</th>\n",
       "      <td>1</td>\n",
       "      <td>1</td>\n",
       "      <td>1</td>\n",
       "      <td>0</td>\n",
       "      <td>0</td>\n",
       "      <td>0</td>\n",
       "      <td>0</td>\n",
       "      <td>0</td>\n",
       "      <td>0</td>\n",
       "      <td>1</td>\n",
       "      <td>...</td>\n",
       "      <td>0</td>\n",
       "      <td>0</td>\n",
       "      <td>0</td>\n",
       "      <td>0</td>\n",
       "      <td>0</td>\n",
       "      <td>0</td>\n",
       "      <td>0</td>\n",
       "      <td>0</td>\n",
       "      <td>0</td>\n",
       "      <td>0</td>\n",
       "    </tr>\n",
       "    <tr>\n",
       "      <th>646</th>\n",
       "      <td>1</td>\n",
       "      <td>1</td>\n",
       "      <td>1</td>\n",
       "      <td>0</td>\n",
       "      <td>0</td>\n",
       "      <td>0</td>\n",
       "      <td>0</td>\n",
       "      <td>0</td>\n",
       "      <td>0</td>\n",
       "      <td>1</td>\n",
       "      <td>...</td>\n",
       "      <td>0</td>\n",
       "      <td>0</td>\n",
       "      <td>0</td>\n",
       "      <td>0</td>\n",
       "      <td>0</td>\n",
       "      <td>0</td>\n",
       "      <td>0</td>\n",
       "      <td>0</td>\n",
       "      <td>0</td>\n",
       "      <td>0</td>\n",
       "    </tr>\n",
       "    <tr>\n",
       "      <th>647</th>\n",
       "      <td>1</td>\n",
       "      <td>1</td>\n",
       "      <td>0</td>\n",
       "      <td>0</td>\n",
       "      <td>0</td>\n",
       "      <td>0</td>\n",
       "      <td>0</td>\n",
       "      <td>0</td>\n",
       "      <td>0</td>\n",
       "      <td>1</td>\n",
       "      <td>...</td>\n",
       "      <td>0</td>\n",
       "      <td>0</td>\n",
       "      <td>0</td>\n",
       "      <td>0</td>\n",
       "      <td>0</td>\n",
       "      <td>0</td>\n",
       "      <td>0</td>\n",
       "      <td>0</td>\n",
       "      <td>0</td>\n",
       "      <td>0</td>\n",
       "    </tr>\n",
       "  </tbody>\n",
       "</table>\n",
       "<p>648 rows × 882 columns</p>\n",
       "</div>"
      ],
      "text/plain": [
       "     PubchemFP0  PubchemFP1  PubchemFP2  PubchemFP3  PubchemFP4  PubchemFP5  \\\n",
       "0             1           1           0           0           0           0   \n",
       "1             1           1           0           0           0           0   \n",
       "2             1           1           1           0           0           0   \n",
       "3             1           1           1           0           0           0   \n",
       "4             1           1           0           0           0           0   \n",
       "..          ...         ...         ...         ...         ...         ...   \n",
       "643           1           1           1           0           0           0   \n",
       "644           1           1           1           0           0           0   \n",
       "645           1           1           1           0           0           0   \n",
       "646           1           1           1           0           0           0   \n",
       "647           1           1           0           0           0           0   \n",
       "\n",
       "     PubchemFP6  PubchemFP7  PubchemFP8  PubchemFP9  ...  PubchemFP872  \\\n",
       "0             0           0           0           1  ...             0   \n",
       "1             0           0           0           1  ...             0   \n",
       "2             0           0           0           1  ...             0   \n",
       "3             0           0           0           1  ...             0   \n",
       "4             0           0           0           1  ...             0   \n",
       "..          ...         ...         ...         ...  ...           ...   \n",
       "643           0           0           0           1  ...             0   \n",
       "644           0           0           0           1  ...             0   \n",
       "645           0           0           0           1  ...             0   \n",
       "646           0           0           0           1  ...             0   \n",
       "647           0           0           0           1  ...             0   \n",
       "\n",
       "     PubchemFP873  PubchemFP874  PubchemFP875  PubchemFP876  PubchemFP877  \\\n",
       "0               0             0             0             0             0   \n",
       "1               0             0             0             0             0   \n",
       "2               0             0             0             0             0   \n",
       "3               0             0             0             0             0   \n",
       "4               0             0             0             0             0   \n",
       "..            ...           ...           ...           ...           ...   \n",
       "643             0             0             0             0             0   \n",
       "644             0             0             0             0             0   \n",
       "645             0             0             0             0             0   \n",
       "646             0             0             0             0             0   \n",
       "647             0             0             0             0             0   \n",
       "\n",
       "     PubchemFP878  PubchemFP879  PubchemFP880  Activity  \n",
       "0               0             0             0         0  \n",
       "1               0             0             0         0  \n",
       "2               0             0             0         0  \n",
       "3               0             0             0         0  \n",
       "4               0             0             0         0  \n",
       "..            ...           ...           ...       ...  \n",
       "643             0             0             0         0  \n",
       "644             0             0             0         0  \n",
       "645             0             0             0         0  \n",
       "646             0             0             0         0  \n",
       "647             0             0             0         0  \n",
       "\n",
       "[648 rows x 882 columns]"
      ]
     },
     "execution_count": 6,
     "metadata": {},
     "output_type": "execute_result"
    }
   ],
   "source": [
    "df = pd.read_csv('bioactivity_data_PubchemFingerprinter.csv')\n",
    "df"
   ]
  },
  {
   "cell_type": "markdown",
   "metadata": {
    "id": "dYZ6-KJNtsrh"
   },
   "source": [
    "## **Input features**"
   ]
  },
  {
   "cell_type": "markdown",
   "metadata": {
    "id": "gQVFKOCetsri"
   },
   "source": [
    "### **Input features**"
   ]
  },
  {
   "cell_type": "code",
   "execution_count": 7,
   "metadata": {
    "id": "rPa_Zev-tsri"
   },
   "outputs": [],
   "source": [
    "X = df.drop('Activity', axis=1)"
   ]
  },
  {
   "cell_type": "markdown",
   "metadata": {
    "id": "9fJkeKehtsri"
   },
   "source": [
    "### **Output features**"
   ]
  },
  {
   "cell_type": "code",
   "execution_count": 8,
   "metadata": {
    "id": "JlkQHZzKtsri"
   },
   "outputs": [],
   "source": [
    "y = df['Activity']"
   ]
  },
  {
   "cell_type": "code",
   "execution_count": 9,
   "metadata": {
    "id": "EHo7xgLmtsrj"
   },
   "outputs": [],
   "source": [
    "# count the number of instances in each class\n",
    "counts = y.value_counts()\n",
    "\n",
    "# calculate the ratio of the negative class to the positive class\n",
    "imbalance_ratio = counts[0] / counts[1]"
   ]
  },
  {
   "cell_type": "markdown",
   "metadata": {
    "id": "_fdRGAIltsrj"
   },
   "source": [
    "### **Let's examine the data dimension**"
   ]
  },
  {
   "cell_type": "code",
   "execution_count": 10,
   "metadata": {
    "id": "GZFGmQwRtsrj"
   },
   "outputs": [
    {
     "data": {
      "text/plain": [
       "((648, 881), (648,))"
      ]
     },
     "execution_count": 10,
     "metadata": {},
     "output_type": "execute_result"
    }
   ],
   "source": [
    "X.shape, y.shape"
   ]
  },
  {
   "cell_type": "markdown",
   "metadata": {
    "id": "-svjbOfutsrk"
   },
   "source": [
    "## **Data split (80/20 ratio)**"
   ]
  },
  {
   "cell_type": "code",
   "execution_count": 11,
   "metadata": {
    "id": "jF52tbMYw1z5"
   },
   "outputs": [],
   "source": [
    "n = np.arange(len(X))\n",
    "idx_train, idx_test = train_test_split(n, test_size=.2, random_state=seed)"
   ]
  },
  {
   "cell_type": "code",
   "execution_count": 12,
   "metadata": {
    "id": "nMw13QDQtsrk"
   },
   "outputs": [],
   "source": [
    "X_train, y_train = X.loc[idx_train], y.loc[idx_train]\n",
    "X_test, y_test = X.loc[idx_test], y.loc[idx_test]"
   ]
  },
  {
   "cell_type": "code",
   "execution_count": 13,
   "metadata": {
    "id": "vej1D8zrtsrk"
   },
   "outputs": [
    {
     "data": {
      "text/plain": [
       "((518, 881), (518,))"
      ]
     },
     "execution_count": 13,
     "metadata": {},
     "output_type": "execute_result"
    }
   ],
   "source": [
    "X_train.shape, y_train.shape"
   ]
  },
  {
   "cell_type": "code",
   "execution_count": 14,
   "metadata": {},
   "outputs": [
    {
     "data": {
      "text/plain": [
       "0    118\n",
       "1     12\n",
       "Name: Activity, dtype: int64"
      ]
     },
     "execution_count": 14,
     "metadata": {},
     "output_type": "execute_result"
    }
   ],
   "source": [
    "y_test.value_counts()"
   ]
  },
  {
   "cell_type": "markdown",
   "metadata": {
    "id": "N4rFAzWytsrl"
   },
   "source": [
    "## **Data balancing**"
   ]
  },
  {
   "cell_type": "markdown",
   "metadata": {
    "id": "NyZW_Nd_tsrl"
   },
   "source": [
    "### **Random Oversampling**"
   ]
  },
  {
   "cell_type": "code",
   "execution_count": 15,
   "metadata": {
    "id": "RI8yGfqutsrl"
   },
   "outputs": [],
   "source": [
    "from imblearn.over_sampling import RandomOverSampler\n",
    "\n",
    "# create an oversampler object with a 1:1 ratio of positive to negative samples\n",
    "ros = RandomOverSampler(sampling_strategy='minority')\n",
    "\n",
    "# fit and apply the oversampler to the training data\n",
    "X_train_ros, y_train_ros = ros.fit_resample(X_train, y_train)"
   ]
  },
  {
   "cell_type": "markdown",
   "metadata": {
    "id": "gwO-v_JItsrl"
   },
   "source": [
    "### **SMOTE**"
   ]
  },
  {
   "cell_type": "code",
   "execution_count": 16,
   "metadata": {
    "id": "9MVK0C2ptsrl"
   },
   "outputs": [],
   "source": [
    "from imblearn.over_sampling import SMOTE\n",
    "\n",
    "# Perform oversampling on the minority class in the training set\n",
    "sm = SMOTE(random_state=seed)\n",
    "\n",
    "# fit and apply the oversampler to the training data\n",
    "X_train_sm, y_train_sm = sm.fit_resample(X_train, y_train)"
   ]
  },
  {
   "cell_type": "markdown",
   "metadata": {
    "id": "4OQ3xLJ0tsrl"
   },
   "source": [
    "### **ADASYN**"
   ]
  },
  {
   "cell_type": "code",
   "execution_count": 17,
   "metadata": {
    "id": "eLwXSD8Ptsrm"
   },
   "outputs": [],
   "source": [
    "from imblearn.over_sampling import ADASYN\n",
    "\n",
    "# Perform oversampling on the minority class in the training set\n",
    "adasyn = ADASYN(random_state=seed)\n",
    "\n",
    "# fit and apply the oversampler to the training data\n",
    "X_train_adasyn, y_train_adasyn = adasyn.fit_resample(X_train, y_train)"
   ]
  },
  {
   "cell_type": "markdown",
   "metadata": {
    "id": "UF-kp8rLhvNB"
   },
   "source": [
    "\n",
    "\n",
    "---\n",
    "\n"
   ]
  },
  {
   "cell_type": "code",
   "execution_count": 18,
   "metadata": {
    "id": "h5K8LAAYtsrm"
   },
   "outputs": [],
   "source": [
    "X_train = X_train.reset_index(drop=True)\n",
    "y_train = y_train.reset_index(drop=True)\n",
    "X_test = X_test.reset_index(drop=True)\n",
    "y_test = y_test.reset_index(drop=True)"
   ]
  },
  {
   "cell_type": "code",
   "execution_count": 19,
   "metadata": {
    "id": "MQvl_xl1AkzX"
   },
   "outputs": [],
   "source": [
    "n_samples, n_classes = X_train.shape[0], 2\n",
    "class_weights = dict(zip(np.unique(y_train), n_samples / (n_classes * np.bincount(y_train))))"
   ]
  },
  {
   "cell_type": "markdown",
   "metadata": {
    "id": "_LJzaixXHFXl"
   },
   "source": [
    "# **GridSearchCV**\n",
    "* cv = 5\n",
    "* 'balanced_accuracy' as a scoring metric to deal with imbalanced datasets. It is defined as the average of recall obtained on each class."
   ]
  },
  {
   "cell_type": "markdown",
   "metadata": {
    "id": "a61e7KdJtsrm"
   },
   "source": [
    "## **ExtraTreesClassifier**"
   ]
  },
  {
   "cell_type": "code",
   "execution_count": 20,
   "metadata": {
    "id": "FwLIZGHytsrm"
   },
   "outputs": [
    {
     "name": "stdout",
     "output_type": "stream",
     "text": [
      "Best hyperparameters:  {'max_depth': 10, 'max_features': 9, 'min_samples_leaf': 5, 'min_samples_split': 2, 'n_estimators': 100}\n",
      "Best mean cross-validation score: 0.83\n",
      "Train Result:\n",
      "================================================\n",
      "Accuracy Score: 94.21%\n",
      "_______________________________________________\n",
      "CLASSIFICATION REPORT:\n",
      "                    0          1  accuracy   macro avg  weighted avg\n",
      "precision    0.991150   0.606061  0.942085    0.798606      0.958440\n",
      "recall       0.945148   0.909091  0.942085    0.927119      0.942085\n",
      "f1-score     0.967603   0.727273  0.942085    0.847438      0.947188\n",
      "support    474.000000  44.000000  0.942085  518.000000    518.000000\n",
      "_______________________________________________\n",
      "Confusion Matrix: \n",
      " [[448  26]\n",
      " [  4  40]]\n",
      "\n",
      "Test Result:\n",
      "================================================\n",
      "Accuracy Score: 88.46%\n",
      "_______________________________________________\n",
      "CLASSIFICATION REPORT:\n",
      "                    0          1  accuracy   macro avg  weighted avg\n",
      "precision    0.955752   0.411765  0.884615    0.683758      0.905538\n",
      "recall       0.915254   0.583333  0.884615    0.749294      0.884615\n",
      "f1-score     0.935065   0.482759  0.884615    0.708912      0.893314\n",
      "support    118.000000  12.000000  0.884615  130.000000    130.000000\n",
      "_______________________________________________\n",
      "Confusion Matrix: \n",
      " [[108  10]\n",
      " [  5   7]]\n",
      "\n"
     ]
    },
    {
     "data": {
      "text/html": [
       "<style type=\"text/css\">\n",
       "</style>\n",
       "<table id=\"T_1253c\">\n",
       "  <thead>\n",
       "    <tr>\n",
       "      <th id=\"T_1253c_level0_col0\" class=\"col_heading level0 col0\" >model</th>\n",
       "      <th id=\"T_1253c_level0_col1\" class=\"col_heading level0 col1\" >f1_score</th>\n",
       "      <th id=\"T_1253c_level0_col2\" class=\"col_heading level0 col2\" >auc</th>\n",
       "      <th id=\"T_1253c_level0_col3\" class=\"col_heading level0 col3\" >auc_pr</th>\n",
       "      <th id=\"T_1253c_level0_col4\" class=\"col_heading level0 col4\" >recall_classe(0)</th>\n",
       "      <th id=\"T_1253c_level0_col5\" class=\"col_heading level0 col5\" >recall_classe(1)</th>\n",
       "      <th id=\"T_1253c_level0_col6\" class=\"col_heading level0 col6\" >precision_classe(0)</th>\n",
       "      <th id=\"T_1253c_level0_col7\" class=\"col_heading level0 col7\" >precision_classe(1)</th>\n",
       "    </tr>\n",
       "  </thead>\n",
       "  <tbody>\n",
       "    <tr>\n",
       "      <td id=\"T_1253c_row0_col0\" class=\"data row0 col0\" >ExtraTreesClassifier</td>\n",
       "      <td id=\"T_1253c_row0_col1\" class=\"data row0 col1\" >0.482759</td>\n",
       "      <td id=\"T_1253c_row0_col2\" class=\"data row0 col2\" >0.732345</td>\n",
       "      <td id=\"T_1253c_row0_col3\" class=\"data row0 col3\" >0.226136</td>\n",
       "      <td id=\"T_1253c_row0_col4\" class=\"data row0 col4\" >0.915254</td>\n",
       "      <td id=\"T_1253c_row0_col5\" class=\"data row0 col5\" >0.583333</td>\n",
       "      <td id=\"T_1253c_row0_col6\" class=\"data row0 col6\" >0.955752</td>\n",
       "      <td id=\"T_1253c_row0_col7\" class=\"data row0 col7\" >0.411765</td>\n",
       "    </tr>\n",
       "  </tbody>\n",
       "</table>\n"
      ],
      "text/plain": [
       "<pandas.io.formats.style.Styler at 0x175ff92fcd0>"
      ]
     },
     "execution_count": 20,
     "metadata": {},
     "output_type": "execute_result"
    }
   ],
   "source": [
    "clf1 = ExtraTreesClassifier(random_state=seed, class_weight='balanced')\n",
    "param_grid = {'n_estimators': [100, 500, 1000],\n",
    "              'max_depth': [10, 25, 50, 100],\n",
    "              'max_features': [int(sqrt(X.shape[1])), int(log2(X.shape[1]))],\n",
    "              'min_samples_split' : [2, 5, 10], \n",
    "              'min_samples_leaf' : [1, 5, 10]}\n",
    "\n",
    "# Define the GridSearchCV object with 5-fold cross-validation\n",
    "grid_search = GridSearchCV(clf1, param_grid=param_grid, cv=5, scoring='balanced_accuracy', n_jobs=-1)\n",
    "\n",
    "# Fit the GridSearchCV object with the training data\n",
    "grid_search.fit(X_train, y_train)\n",
    "\n",
    "# Print the best hyperparameters and the corresponding mean cross-validation score\n",
    "print(\"Best hyperparameters: \", grid_search.best_params_)\n",
    "print(\"Best mean cross-validation score: {:.2f}\".format(grid_search.best_score_))\n",
    "\n",
    "# Use the best hyperparameters to fit the model to the training data\n",
    "clf_best = ExtraTreesClassifier(**grid_search.best_params_, random_state=seed, class_weight='balanced')\n",
    "model1 = clf_best.fit(X_train, y_train)\n",
    "\n",
    "clf1 = print_auc(model1, X_train, y_train, X_test, y_test, 'ExtraTreesClassifier')\n",
    "df1 = pd.DataFrame(data=[['ExtraTreesClassifier', clf1['f1'], clf1['auc'], clf1['auc_pr'], clf1['recall_sc'][0], clf1['recall_sc'][1], clf1['precision_sc'][0], clf1['precision_sc'][1]]], \n",
    "                          columns=['model', 'f1_score', 'auc', 'auc_pr', 'recall_classe(0)', 'recall_classe(1)', 'precision_classe(0)', 'precision_classe(1)'])\n",
    "df1.style.hide_index()"
   ]
  },
  {
   "cell_type": "markdown",
   "metadata": {
    "id": "QQCRXaiWtsrp"
   },
   "source": [
    "## **XGBClassifier**"
   ]
  },
  {
   "cell_type": "code",
   "execution_count": null,
   "metadata": {},
   "outputs": [],
   "source": [
    "clf2 = xgb.XGBClassifier(objective='binary:logistic')\n",
    "param_grid = {'learning_rate' : [0.01, 0.1, 0.2],\n",
    "              'max_depth' : [3, 10, 25],\n",
    "              'gamma' : [0.1, 0.5, 1.0],\n",
    "              'subsample': [0.5, 0.8, 1.0],\n",
    "              'colsample_bytree': [0.5, 0.8, 1.0],\n",
    "              'scale_pos_weight': [1, imbalance_ratio]}\n",
    "\n",
    "# Define the GridSearchCV object with 5-fold cross-validation\n",
    "grid_search = GridSearchCV(clf2, param_grid=param_grid, cv=5, scoring='balanced_accuracy', n_jobs=-1)\n",
    "\n",
    "# Fit the GridSearchCV object with the training data\n",
    "grid_search.fit(X_train, y_train)\n",
    "\n",
    "# Print the best hyperparameters and the corresponding mean cross-validation score\n",
    "print(\"Best hyperparameters: \", grid_search.best_params_)\n",
    "print(\"Best mean cross-validation score: {:.2f}\".format(grid_search.best_score_))\n",
    "\n",
    "# Use the best hyperparameters to fit the model to the training data\n",
    "clf_best = xgb.XGBClassifier(**grid_search.best_params_, objective='binary:logistic')\n",
    "model2 = clf_best.fit(X_train, y_train)\n",
    "\n",
    "clf2 = print_auc(model2, X_train, y_train, X_test, y_test, 'XGBClassifier')\n",
    "df2 = pd.DataFrame(data=[['XGBClassifier', clf2['f1'], clf2['auc'], clf2['auc_pr'], clf2['recall_sc'][0], clf2['recall_sc'][1], clf2['precision_sc'][0], clf2['precision_sc'][1]]], \n",
    "                          columns=['model', 'f1_score', 'auc', 'auc_pr', 'recall_classe(0)', 'recall_classe(1)', 'precision_classe(0)', 'precision_classe(1)'])\n",
    "df2.style.hide_index()"
   ]
  },
  {
   "cell_type": "markdown",
   "metadata": {},
   "source": [
    "## **AdaBoostClassifier**"
   ]
  },
  {
   "cell_type": "code",
   "execution_count": null,
   "metadata": {
    "id": "Zae2H2ZiJ6fg"
   },
   "outputs": [],
   "source": [
    "clf3 = AdaBoostClassifier(random_state=seed)\n",
    "param_grid = {'n_estimators': [50, 100, 200],\n",
    "              'learning_rate': [0.01, 0.1, 0.2],\n",
    "              'base_estimator': [DecisionTreeClassifier(max_depth=1), DecisionTreeClassifier(max_depth=3)],\n",
    "              'base_estimator__max_depth': [1, 3, 5]}\n",
    "\n",
    "# Define the GridSearchCV object with 5-fold cross-validation\n",
    "grid_search = GridSearchCV(clf3, param_grid=param_grid, cv=5, scoring='balanced_accuracy', n_jobs=-1)\n",
    "\n",
    "# Fit the GridSearchCV object with the training data\n",
    "grid_search.fit(X_train, y_train)\n",
    "\n",
    "# Print the best hyperparameters and the corresponding mean cross-validation score\n",
    "print(\"Best hyperparameters: \", grid_search.best_params_)\n",
    "print(\"Best mean cross-validation score: {:.2f}\".format(grid_search.best_score_))\n",
    "\n",
    "# Use the best hyperparameters to fit the model to the training data\n",
    "clf_best = AdaBoostClassifier(**grid_search.best_params_, random_state=seed)\n",
    "model3 = clf_best.fit(X_train, y_train)\n",
    "\n",
    "clf3 = print_auc(model3, X_train, y_train, X_test, y_test, 'AdaBoostClassifier')\n",
    "df3 = pd.DataFrame(data=[['AdaBoostClassifier', clf3['f1'], clf3['auc'], clf3['auc_pr'], clf3['recall_sc'][0], clf3['recall_sc'][1], clf3['precision_sc'][0], clf3['precision_sc'][1]]], \n",
    "                          columns=['model', 'f1_score', 'auc', 'auc_pr', 'recall_classe(0)', 'recall_classe(1)', 'precision_classe(0)', 'precision_classe(1)'])\n",
    "df3.style.hide_index()"
   ]
  },
  {
   "cell_type": "markdown",
   "metadata": {
    "id": "AFc-ALhpSAJ-"
   },
   "source": [
    "## **DecisionTreeClassifier**"
   ]
  },
  {
   "cell_type": "code",
   "execution_count": null,
   "metadata": {
    "id": "2UXnbmeSSKP7"
   },
   "outputs": [],
   "source": [
    "clf4 = DecisionTreeClassifier(random_state=seed)\n",
    "param_grid = {'min_samples_split': [2, 5, 10, 20],\n",
    "              'max_depth': [2, 3, 4, 5, None],\n",
    "              'min_samples_leaf': [1, 2, 4, 8],\n",
    "              'criterion' : ['gini', 'entropy', 'log_loss'],\n",
    "              'max_features': ['auto', int(sqrt(X.shape[1])), int(log2(X.shape[1]))]}\n",
    "\n",
    "# Define the GridSearchCV object with 5-fold cross-validation\n",
    "grid_search = GridSearchCV(clf4, param_grid=param_grid, cv=5, scoring='balanced_accuracy', n_jobs=-1)\n",
    "\n",
    "# Fit the GridSearchCV object with the training data\n",
    "grid_search.fit(X_train, y_train)\n",
    "\n",
    "# Print the best hyperparameters and the corresponding mean cross-validation score\n",
    "print(\"Best hyperparameters: \", grid_search.best_params_)\n",
    "print(\"Best mean cross-validation score: {:.2f}\".format(grid_search.best_score_))\n",
    "\n",
    "# Use the best hyperparameters to fit the model to the training data\n",
    "clf_best = DecisionTreeClassifier(**grid_search.best_params_, random_state=seed)\n",
    "model4 = clf_best.fit(X_train, y_train)\n",
    "\n",
    "clf4 = print_auc(model4, X_train, y_train, X_test, y_test, 'DecisionTreeClassifier')\n",
    "df4 = pd.DataFrame(data=[['DecisionTreeClassifier', clf4['f1'], clf4['auc'], clf4['auc_pr'], clf4['recall_sc'][0], clf4['recall_sc'][1], clf4['precision_sc'][0], clf4['precision_sc'][1]]], \n",
    "                          columns=['model', 'f1_score', 'auc', 'auc_pr', 'recall_classe(0)', 'recall_classe(1)', 'precision_classe(0)', 'precision_classe(1)'])\n",
    "df4.style.hide_index()"
   ]
  },
  {
   "cell_type": "markdown",
   "metadata": {
    "id": "KIIIZFOcVuhP"
   },
   "source": [
    "## **GaussianNB**"
   ]
  },
  {
   "cell_type": "code",
   "execution_count": null,
   "metadata": {
    "id": "NkL_8QXOX8fO"
   },
   "outputs": [],
   "source": [
    "clf5 = GaussianNB()\n",
    "param_grid = {'var_smoothing': [1e-9, 1e-8, 1e-7, 1e-6, 1e-5]}\n",
    "\n",
    "# Define the GridSearchCV object with 5-fold cross-validation\n",
    "grid_search = GridSearchCV(clf5, param_grid=param_grid, cv=5, scoring='balanced_accuracy', n_jobs=-1)\n",
    "\n",
    "# Fit the GridSearchCV object with the training data\n",
    "grid_search.fit(X_train, y_train)\n",
    "\n",
    "# Print the best hyperparameters and the corresponding mean cross-validation score\n",
    "print(\"Best hyperparameters: \", grid_search.best_params_)\n",
    "print(\"Best mean cross-validation score: {:.2f}\".format(grid_search.best_score_))\n",
    "\n",
    "# Use the best hyperparameters to fit the model to the training data\n",
    "clf_best = GaussianNB(**grid_search.best_params_)\n",
    "model5 = clf_best.fit(X_train, y_train)\n",
    "\n",
    "clf5 = print_auc(model5, X_train, y_train, X_test, y_test, 'GaussianNB')\n",
    "df5 = pd.DataFrame(data=[['GaussianNB', clf5['f1'], clf5['auc'], clf5['auc_pr'], clf5['recall_sc'][0], clf5['recall_sc'][1], clf5['precision_sc'][0], clf5['precision_sc'][1]]], \n",
    "                          columns=['model', 'f1_score', 'auc', 'auc_pr', 'recall_classe(0)', 'recall_classe(1)', 'precision_classe(0)', 'precision_classe(1)'])\n",
    "df5.style.hide_index()"
   ]
  },
  {
   "cell_type": "markdown",
   "metadata": {
    "id": "qj2YVJ9XZcIY"
   },
   "source": [
    "## **LGBMClassifier**"
   ]
  },
  {
   "cell_type": "code",
   "execution_count": null,
   "metadata": {
    "id": "oqzDidPvZbB9"
   },
   "outputs": [],
   "source": [
    "clf6 = lgb.LGBMClassifier()\n",
    "param_grid = {'num_leaves': [10, 20, 30],\n",
    "              'max_depth': [3, 5, 7],\n",
    "              'learning_rate': [0.01, 0.1],\n",
    "              'n_estimators': [50, 100, 200],\n",
    "              'min_child_samples': [10, 20, 30],\n",
    "              'subsample': [0.8, 0.9, 1.0],\n",
    "              'colsample_bytree': [0.8, 0.9, 1.0],\n",
    "              'class_weight' : ['balanced', None]}\n",
    "         \n",
    "# Define the GridSearchCV object with 5-fold cross-validation\n",
    "grid_search = GridSearchCV(clf6, param_grid=param_grid, cv=5, scoring='balanced_accuracy', n_jobs=-1)\n",
    "\n",
    "# Fit the GridSearchCV object with the training data\n",
    "grid_search.fit(X_train, y_train)\n",
    "\n",
    "# Print the best hyperparameters and the corresponding mean cross-validation score\n",
    "print(\"Best hyperparameters: \", grid_search.best_params_)\n",
    "print(\"Best mean cross-validation score: {:.2f}\".format(grid_search.best_score_))\n",
    "\n",
    "# Use the best hyperparameters to fit the model to the training data\n",
    "clf_best = lgb.LGBMClassifier(**grid_search.best_params_)\n",
    "model6 = clf_best.fit(X_train, y_train)\n",
    "\n",
    "clf6 = print_auc(model6, X_train, y_train, X_test, y_test, 'LGBMClassifier')\n",
    "df6 = pd.DataFrame(data=[['LGBMClassifier', clf6['f1'], clf6['auc'], clf6['auc_pr'], clf6['recall_sc'][0], clf6['recall_sc'][1], clf6['precision_sc'][0], clf6['precision_sc'][1]]], \n",
    "                          columns=['model', 'f1_score', 'auc', 'auc_pr', 'recall_classe(0)', 'recall_classe(1)', 'precision_classe(0)', 'precision_classe(1)'])\n",
    "df6.style.hide_index()"
   ]
  },
  {
   "cell_type": "markdown",
   "metadata": {
    "id": "tAN365LxheXY"
   },
   "source": [
    "## **KNeighborsClassifier**"
   ]
  },
  {
   "cell_type": "code",
   "execution_count": null,
   "metadata": {
    "id": "_QTUZs-HhtEf"
   },
   "outputs": [],
   "source": [
    "clf7 = KNeighborsClassifier()\n",
    "param_grid = {'n_neighbors': [3, 5, 7],\n",
    "              'weights': ['uniform', 'distance'],\n",
    "              'p': [1, 2],\n",
    "              'algorithm': ['brute'],\n",
    "              'leaf_size': [10, 30, 50]}\n",
    "\n",
    "# Define the GridSearchCV object with 5-fold cross-validation\n",
    "grid_search = GridSearchCV(clf7, param_grid=param_grid, cv=5, scoring='balanced_accuracy', n_jobs=-1)\n",
    "\n",
    "# Fit the GridSearchCV object with the training data\n",
    "grid_search.fit(X_train, y_train)\n",
    "\n",
    "# Print the best hyperparameters and the corresponding mean cross-validation score\n",
    "print(\"Best hyperparameters: \", grid_search.best_params_)\n",
    "print(\"Best mean cross-validation score: {:.2f}\".format(grid_search.best_score_))\n",
    "\n",
    "# Use the best hyperparameters to fit the model to the training data\n",
    "clf_best = KNeighborsClassifier(**grid_search.best_params_)\n",
    "model7 = clf_best.fit(X_train, y_train)\n",
    "\n",
    "clf7 = print_auc(model7, X_train, y_train, X_test, y_test, 'KNeiborsClassifier')\n",
    "df7 = pd.DataFrame(data=[['KNeiborsClassifier', clf7['f1'], clf7['auc'], clf7['auc_pr'], clf7['recall_sc'][0], clf7['recall_sc'][1], clf7['precision_sc'][0], clf7['precision_sc'][1]]], \n",
    "                          columns=['model', 'f1_score', 'auc', 'auc_pr', 'recall_classe(0)', 'recall_classe(1)', 'precision_classe(0)', 'precision_classe(1)'])\n",
    "df7.style.hide_index()"
   ]
  },
  {
   "cell_type": "markdown",
   "metadata": {
    "id": "QHWcEGBUrLFm"
   },
   "source": [
    "## **RandomForestClassifier**"
   ]
  },
  {
   "cell_type": "code",
   "execution_count": null,
   "metadata": {
    "id": "PFkOjSCzrTaT"
   },
   "outputs": [],
   "source": [
    "clf8 = RandomForestClassifier(random_state=seed)\n",
    "param_grid = {'n_estimators': [50, 100, 200],\n",
    "              'max_depth': [3, 5, 7],\n",
    "              'min_samples_split': [2, 5, 10],\n",
    "              'min_samples_leaf': [1, 2, 4],\n",
    "              'max_features': ['sqrt', 'log2'],\n",
    "              'criterion': ['gini', 'entropy']}\n",
    "\n",
    "# Define the GridSearchCV object with 5-fold cross-validation\n",
    "grid_search = GridSearchCV(clf8, param_grid=param_grid, cv=5, scoring='balanced_accuracy', n_jobs=-1)\n",
    "\n",
    "# Fit the GridSearchCV object with the training data\n",
    "grid_search.fit(X_train, y_train)\n",
    "\n",
    "# Print the best hyperparameters and the corresponding mean cross-validation score\n",
    "print(\"Best hyperparameters: \", grid_search.best_params_)\n",
    "print(\"Best mean cross-validation score: {:.2f}\".format(grid_search.best_score_))\n",
    "\n",
    "# Use the best hyperparameters to fit the model to the training data\n",
    "clf_best = RandomForestClassifier(**grid_search.best_params_, random_state=seed)\n",
    "model8 = clf_best.fit(X_train, y_train)\n",
    "\n",
    "clf8 = print_auc(model8, X_train, y_train, X_test, y_test, 'RandomForestClassifier')\n",
    "df8 = pd.DataFrame(data=[['RandomForestClassifier', clf8['f1'], clf8['auc'], clf8['auc_pr'], clf8['recall_sc'][0], clf8['recall_sc'][1], clf8['precision_sc'][0], clf8['precision_sc'][1]]], \n",
    "                          columns=['model', 'f1_score', 'auc', 'auc_pr', 'recall_classe(0)', 'recall_classe(1)', 'precision_classe(0)', 'precision_classe(1)'])\n",
    "df8.style.hide_index()"
   ]
  },
  {
   "cell_type": "markdown",
   "metadata": {
    "id": "naDCYmAFvWpV"
   },
   "source": [
    "## **SVC**"
   ]
  },
  {
   "cell_type": "code",
   "execution_count": null,
   "metadata": {
    "id": "xkoMquuFvrwg"
   },
   "outputs": [],
   "source": [
    "clf9 = SVC(probability=True)\n",
    "param_grid = {'C': [0.1, 1, 10],\n",
    "              'kernel': ['linear', 'poly', 'rbf'],\n",
    "              'degree': [2, 3, 4],\n",
    "              'gamma': ['scale', 'auto'],\n",
    "              'class_weight': [None, 'balanced']}\n",
    "\n",
    "# Define the GridSearchCV object with 5-fold cross-validation\n",
    "grid_search = GridSearchCV(clf9, param_grid=param_grid, cv=5, scoring='balanced_accuracy', n_jobs=-1)\n",
    "\n",
    "# Fit the GridSearchCV object with the training data\n",
    "grid_search.fit(X_train, y_train)\n",
    "\n",
    "# Print the best hyperparameters and the corresponding mean cross-validation score\n",
    "print(\"Best hyperparameters: \", grid_search.best_params_)\n",
    "print(\"Best mean cross-validation score: {:.2f}\".format(grid_search.best_score_))\n",
    "\n",
    "# Use the best hyperparameters to fit the model to the training data\n",
    "clf_best = SVC(**grid_search.best_params_, probability=True)\n",
    "model9 = clf_best.fit(X_train, y_train)\n",
    "\n",
    "clf9 = print_auc(model9, X_train, y_train, X_test, y_test, 'SVM')\n",
    "df9 = pd.DataFrame(data=[['SVM', clf9['f1'], clf9['auc'], clf9['auc_pr'], clf9['recall_sc'][0], clf9['recall_sc'][1], clf9['precision_sc'][0], clf9['precision_sc'][1]]], \n",
    "                          columns=['model', 'f1_score', 'auc', 'auc_pr', 'recall_classe(0)', 'recall_classe(1)', 'precision_classe(0)', 'precision_classe(1)'])\n",
    "df9.style.hide_index()"
   ]
  },
  {
   "cell_type": "markdown",
   "metadata": {
    "id": "trgFN6rWy8Ws"
   },
   "source": [
    "## **MLPClassifier**"
   ]
  },
  {
   "cell_type": "code",
   "execution_count": null,
   "metadata": {
    "id": "jByhlu6xzBkq"
   },
   "outputs": [],
   "source": [
    "clf10 = MLPClassifier(random_state=seed)\n",
    "param_grid = {'hidden_layer_sizes': [(50,), (100,), (50, 50), (100, 100)],\n",
    "              'activation': ['relu', 'sigmoid', 'tanh'],\n",
    "              'solver': ['adam', 'lbfgs', 'sgd'],\n",
    "              'alpha': [0.0001, 0.001, 0.01],\n",
    "              'learning_rate_init': [0.001, 0.01, 0.1],\n",
    "              'max_iter': [100, 200, 500]}\n",
    "\n",
    "# Define the GridSearchCV object with 5-fold cross-validation\n",
    "grid_search = GridSearchCV(clf10, param_grid=param_grid, cv=5, scoring='balanced_accuracy', n_jobs=-1)\n",
    "\n",
    "# Fit the GridSearchCV object with the training data\n",
    "grid_search.fit(X_train, y_train)\n",
    "\n",
    "# Print the best hyperparameters and the corresponding mean cross-validation score\n",
    "print(\"Best hyperparameters: \", grid_search.best_params_)\n",
    "print(\"Best mean cross-validation score: {:.2f}\".format(grid_search.best_score_))\n",
    "\n",
    "# Use the best hyperparameters to fit the model to the training data\n",
    "clf_best = MLPClassifier(**grid_search.best_params_, random_state=seed)\n",
    "model10 = clf_best.fit(X_train, y_train)\n",
    "\n",
    "clf10 = print_auc(model10, X_train, y_train, X_test, y_test, 'MLPClassifier')\n",
    "df10 = pd.DataFrame(data=[['MLPClassifier', clf10['f1'], clf10['auc'], clf10['auc_pr'], clf10['recall_sc'][0], clf10['recall_sc'][1], clf10['precision_sc'][0], clf10['precision_sc'][1]]], \n",
    "                          columns=['model', 'f1_score', 'auc', 'auc_pr', 'recall_classe(0)', 'recall_classe(1)', 'precision_classe(0)', 'precision_classe(1)'])\n",
    "df10.style.hide_index()"
   ]
  },
  {
   "cell_type": "markdown",
   "metadata": {
    "id": "kmHpsfue3oxS"
   },
   "source": [
    "## **LogisticRegression**"
   ]
  },
  {
   "cell_type": "code",
   "execution_count": null,
   "metadata": {
    "id": "I-Ysl9qN3taq"
   },
   "outputs": [],
   "source": [
    "clf11 = LogisticRegression()\n",
    "param_grid = {'penalty': ['l1', 'l2'],\n",
    "              'C': [0.1, 1, 10],\n",
    "              'solver': ['liblinear', 'lbfgs', 'newton-cg', 'sag'],\n",
    "              'max_iter': [100, 200, 500],\n",
    "              'class_weight': [None, 'balanced']}\n",
    "\n",
    "# Define the GridSearchCV object with 5-fold cross-validation\n",
    "grid_search = GridSearchCV(clf11, param_grid=param_grid, cv=5, scoring='balanced_accuracy', n_jobs=-1)\n",
    "\n",
    "# Fit the GridSearchCV object with the training data\n",
    "grid_search.fit(X_train, y_train)\n",
    "\n",
    "# Print the best hyperparameters and the corresponding mean cross-validation score\n",
    "print(\"Best hyperparameters: \", grid_search.best_params_)\n",
    "print(\"Best mean cross-validation score: {:.2f}\".format(grid_search.best_score_))\n",
    "\n",
    "# Use the best hyperparameters to fit the model to the training data\n",
    "clf_best = LogisticRegression(**grid_search.best_params_, class_weight='balanced')\n",
    "model11 = clf_best.fit(X_train, y_train)\n",
    "\n",
    "clf11 = print_auc(model11, X_train, y_train, X_test, y_test, 'LogisticRegression')\n",
    "df11 = pd.DataFrame(data=[['LogisticRegression', clf11['f1'], clf11['auc'], clf11['auc_pr'], clf11['recall_sc'][0], clf11['recall_sc'][1], clf11['precision_sc'][0], clf11['precision_sc'][1]]], \n",
    "                          columns=['model', 'f1_score', 'auc', 'auc_pr', 'recall_classe(0)', 'recall_classe(1)', 'precision_classe(0)', 'precision_classe(1)'])\n",
    "df11.style.hide_index()"
   ]
  },
  {
   "cell_type": "code",
   "execution_count": null,
   "metadata": {
    "id": "idFcRaGqEizz"
   },
   "outputs": [],
   "source": [
    "df = [df1, df2, df3, df4, df5, df6, df7, df8, df9, df10, df11]\n",
    "df_finale = pd.concat(df).style.hide_index()\n",
    "df_finale"
   ]
  },
  {
   "cell_type": "code",
   "execution_count": null,
   "metadata": {
    "id": "hEIYI-NQMhy-"
   },
   "outputs": [],
   "source": [
    "plt.rcParams[\"figure.figsize\"] = [16, 9]\n",
    "plt.plot(clf6[\"fpr\"], clf6[\"tpr\"], label=\"LGBMClassifier, auc=\"+str(clf10[\"auc\"]))\n",
    "plt.plot(clf11[\"fpr\"], clf11[\"tpr\"], label=\"LR, auc=\"+str(clf1[\"auc\"]))\n",
    "plt.plot(clf9[\"fpr\"], clf9[\"tpr\"], label=\"SVM, auc=\"+str(clf2[\"auc\"]))\n",
    "plt.plot(clf5[\"fpr\"], clf5[\"tpr\"], label=\"GaussianNB, auc=\"+str(clf3[\"auc\"]))\n",
    "plt.plot(clf1[\"fpr\"], clf1[\"tpr\"], label=\"ExtraTrees, auc=\"+str(clf6[\"auc\"]))\n",
    "plt.plot(clf7[\"fpr\"], clf7[\"tpr\"], label=\"KNN, auc=\"+str(clf5[\"auc\"]))\n",
    "plt.plot(clf4[\"fpr\"], clf4[\"tpr\"], label=\"DT, auc=\"+str(clf8[\"auc\"]))\n",
    "plt.plot(clf10[\"fpr\"], clf10[\"tpr\"], label=\"MLP, auc=\"+str(clf9[\"auc\"]))\n",
    "plt.plot(clf8[\"fpr\"], clf8[\"tpr\"], label=\"RF, auc=\"+str(clf4[\"auc\"]))\n",
    "plt.plot(clf3[\"fpr\"], clf3[\"tpr\"], label=\"AdaBoost, auc=\"+str(clf7[\"auc\"]))\n",
    "plt.plot(clf2[\"fpr\"], clf2[\"tpr\"], label=\"XGB, auc=\"+str(clf11[\"auc\"]))\n",
    "\n",
    "plt.xlabel(\"tpr\")\n",
    "plt.ylabel(\"fpr\")\n",
    "plt.legend(loc=4)\n",
    "plt.show()"
   ]
  },
  {
   "cell_type": "markdown",
   "metadata": {},
   "source": [
    "plot_confusion_matrix(best_model, fingerprints_test, bioactivity_test)"
   ]
  },
  {
   "cell_type": "markdown",
   "metadata": {},
   "source": [
    "joblib.dump(best_model, 'best_model.sav')"
   ]
  }
 ],
 "metadata": {
  "accelerator": "GPU",
  "colab": {
   "gpuType": "T4",
   "private_outputs": true,
   "provenance": []
  },
  "kernelspec": {
   "display_name": "Python 3 (ipykernel)",
   "language": "python",
   "name": "python3"
  },
  "language_info": {
   "codemirror_mode": {
    "name": "ipython",
    "version": 3
   },
   "file_extension": ".py",
   "mimetype": "text/x-python",
   "name": "python",
   "nbconvert_exporter": "python",
   "pygments_lexer": "ipython3",
   "version": "3.10.9"
  },
  "toc": {
   "nav_menu": {},
   "number_sections": true,
   "sideBar": true,
   "skip_h1_title": false,
   "title_cell": "Table of Contents",
   "title_sidebar": "Contents",
   "toc_cell": false,
   "toc_position": {},
   "toc_section_display": true,
   "toc_window_display": false
  }
 },
 "nbformat": 4,
 "nbformat_minor": 1
}
