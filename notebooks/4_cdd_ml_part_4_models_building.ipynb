{
 "cells": [
  {
   "attachments": {},
   "cell_type": "markdown",
   "metadata": {
    "id": "JQMyebI0OLqv"
   },
   "source": [
    "# **Bioinformatics Project - Computational Drug Discovery [Part 4] Classification Models Building**\n",
    "\n",
    "**MOUNSIF EL ATOUCH**\n",
    "\n",
    "In this Jupyter notebook, we will be building a machine learning model using the ChEMBL bioactivity data.\n",
    "\n",
    "In **Part 4**, we will be building classification models\n",
    "\n",
    "---"
   ]
  },
  {
   "attachments": {},
   "cell_type": "markdown",
   "metadata": {
    "id": "bMhHx_CmOTPD"
   },
   "source": [
    "## **Importing libraries**"
   ]
  },
  {
   "cell_type": "code",
   "execution_count": 86,
   "metadata": {
    "id": "o-MeyPj2tsrb"
   },
   "outputs": [],
   "source": [
    "import os\n",
    "import pandas as pd\n",
    "\n",
    "from scipy.spatial.distance import *\n",
    "import numpy as np\n",
    "\n",
    "import matplotlib.pyplot as plt\n",
    "%matplotlib inline\n",
    "import seaborn as sns\n",
    "\n",
    "seed = 42\n",
    "\n",
    "from sklearn.model_selection import *\n",
    "from sklearn.preprocessing import StandardScaler\n",
    "from sklearn.feature_selection import VarianceThreshold\n",
    "from sklearn.metrics import *\n",
    "\n",
    "from scipy import interp\n",
    "from math import *\n",
    "from sklearn.metrics import RocCurveDisplay\n",
    "\n",
    "import warnings\n",
    "warnings.filterwarnings('ignore')"
   ]
  },
  {
   "cell_type": "code",
   "execution_count": 87,
   "metadata": {
    "id": "UqPr6idQPgiF"
   },
   "outputs": [],
   "source": [
    "from sklearn.ensemble import ExtraTreesClassifier\n",
    "import xgboost as xgb\n",
    "from sklearn.ensemble import AdaBoostClassifier\n",
    "from sklearn.tree import DecisionTreeClassifier\n",
    "from sklearn.naive_bayes import GaussianNB\n",
    "import lightgbm as lgb\n",
    "from sklearn.neighbors import KNeighborsClassifier\n",
    "from sklearn.ensemble import RandomForestClassifier\n",
    "\n",
    "from sklearn.svm import SVC  \n",
    "from sklearn.neural_network import MLPClassifier\n",
    "from sklearn.linear_model import LogisticRegression"
   ]
  },
  {
   "cell_type": "code",
   "execution_count": 88,
   "metadata": {
    "id": "pyKg-HQhtsre"
   },
   "outputs": [],
   "source": [
    "def print_score(clf, X_train, y_train, X_test, y_test, train=True):\n",
    "    if train:\n",
    "        pred = clf.predict(X_train)\n",
    "        clf_report = pd.DataFrame(classification_report(y_train, pred, output_dict=True))\n",
    "        print(\"Train Result:\\n================================================\")\n",
    "        print(f\"Accuracy Score: {accuracy_score(y_train, pred) * 100:.2f}%\")\n",
    "        print(\"_______________________________________________\")\n",
    "        print(f\"CLASSIFICATION REPORT:\\n{clf_report}\")\n",
    "        print(\"_______________________________________________\")\n",
    "        print(f\"Confusion Matrix: \\n {confusion_matrix(y_train, pred)}\\n\")\n",
    "        \n",
    "    elif train==False:\n",
    "        pred = clf.predict(X_test)\n",
    "        clf_report = pd.DataFrame(classification_report(y_test, pred, output_dict=True))\n",
    "        print(\"Test Result:\\n================================================\")        \n",
    "        print(f\"Accuracy Score: {accuracy_score(y_test, pred) * 100:.2f}%\")\n",
    "        print(\"_______________________________________________\")\n",
    "        print(f\"CLASSIFICATION REPORT:\\n{clf_report}\")\n",
    "        print(\"_______________________________________________\")\n",
    "        print(f\"Confusion Matrix: \\n {confusion_matrix(y_test, pred)}\\n\")"
   ]
  },
  {
   "cell_type": "code",
   "execution_count": 89,
   "metadata": {
    "id": "KW7CP2Hwtsre"
   },
   "outputs": [],
   "source": [
    "def print_auc(clf, X_train, y_train, X_test, y_test, model_name) :\n",
    "    \n",
    "    clf = clf.fit(X_train, y_train)\n",
    "    y_pred_proba = clf.predict_proba(X_test)[::,1]\n",
    "    fpr, tpr, thr = roc_curve(y_test,  y_pred_proba)\n",
    "    roc_auc = roc_auc_score(y_test, y_pred_proba)\n",
    "    #plt.plot(fpr, tpr, label=model_name+\" auc=\"+str(roc_auc))\n",
    "    #plt.legend(loc=4)\n",
    "    #plt.title(\"ROC curve\")\n",
    "\n",
    "    #plt.show()\n",
    "    # Data to plot precision - recall curve\n",
    "    precision, recall, thresholds_log = precision_recall_curve(y_test, y_pred_proba)\n",
    "    # Use AUC function to calculate the area under the curve of precision recall curve\n",
    "    auc_precision_recall = auc(recall, precision)\n",
    "    \n",
    "    #plt.plot(recall, precision, label=model_name+\" auc_prc=\"+str(auc_precision_recall))\n",
    "    #plt.xlabel(\"Recall\")\n",
    "    #plt.ylabel(\"Precision\")\n",
    "    #plt.legend(loc=4)\n",
    "    #plt.title(\"Precision-Recall Curve\")\n",
    "\n",
    "    #plt.show()\n",
    "    precision_sc=precision_score(y_test, clf.predict(X_test), average=None)\n",
    "    recall_sc = recall_score(y_test, clf.predict(X_test), average=None)\n",
    "    test_score = accuracy_score(y_test, clf.predict(X_test)) * 100\n",
    "    train_score = accuracy_score(y_train, clf.predict(X_train)) * 100\n",
    "    f1 = f1_score(y_test, clf.predict(X_test))\n",
    "    print_score(clf, X_train, y_train, X_test, y_test, train=True)\n",
    "    print_score(clf, X_train, y_train, X_test, y_test, train=False)\n",
    "    metriques = {\"fpr\" : fpr, \"recall_sc\" : recall_sc, \"precision_sc\" : precision_sc, \"tpr\" : tpr,\n",
    "                 \"test_score\" : test_score, \"train_score\" : train_score, \"f1\" : f1,\n",
    "                 \"auc_pr\" : auc_precision_recall, \"auc\": roc_auc}\n",
    "    return metriques"
   ]
  },
  {
   "attachments": {},
   "cell_type": "markdown",
   "metadata": {
    "id": "nLtPCIKXtsrf"
   },
   "source": [
    "## **Load the data set**"
   ]
  },
  {
   "cell_type": "code",
   "execution_count": 90,
   "metadata": {
    "id": "absK-NcdwMa9",
    "scrolled": true
   },
   "outputs": [
    {
     "name": "stderr",
     "output_type": "stream",
     "text": [
      "--2023-06-03 01:23:54--  https://raw.githubusercontent.com/mounsifelatouch/cdd/master/data/bioactivity_data_PubchemFingerprinter.csv\n",
      "Resolving raw.githubusercontent.com (raw.githubusercontent.com)... 185.199.109.133, 185.199.110.133, 185.199.111.133, ...\n",
      "Connecting to raw.githubusercontent.com (raw.githubusercontent.com)|185.199.109.133|:443... connected.\n",
      "HTTP request sent, awaiting response... 200 OK\n",
      "Length: 1154424 (1.1M) [text/plain]\n",
      "Saving to: 'bioactivity_data_PubchemFingerprinter.csv'\n",
      "\n",
      "     0K .......... .......... .......... .......... ..........  4%  149K 7s\n",
      "    50K .......... .......... .......... .......... ..........  8% 11.4K 49s\n",
      "   100K .......... .......... .......... .......... .......... 13% 9.17K 66s\n",
      "   150K .......... .......... .......... .......... .......... 17% 14.8K 63s\n",
      "   200K .......... .......... .......... .......... .......... 22% 30.5K 53s\n",
      "   250K .......... .......... .......... .......... .......... 26% 30.9K 46s\n",
      "   300K .......... .......... .......... .......... .......... 31% 26.0K 42s\n",
      "   350K .......... .......... .......... .......... .......... 35% 27.3K 37s\n",
      "   400K .......... .......... .......... .......... .......... 39% 25.0K 34s\n",
      "   450K .......... .......... .......... .......... .......... 44% 28.2K 31s\n",
      "   500K .......... .......... .......... .......... .......... 48% 38.6K 27s\n",
      "   550K .......... .......... .......... .......... .......... 53% 13.5K 26s\n",
      "   600K .......... .......... .......... .......... .......... 57% 13.6K 24s\n",
      "   650K .......... .......... .......... .......... .......... 62% 37.1K 21s\n",
      "   700K .......... .......... .......... .......... .......... 66% 85.3K 18s\n",
      "   750K .......... .......... .......... .......... .......... 70% 39.9K 15s\n",
      "   800K .......... .......... .......... .......... .......... 75% 39.6K 12s\n",
      "   850K .......... .......... .......... .......... .......... 79% 20.1K 10s\n",
      "   900K .......... .......... .......... .......... .......... 84% 43.1K 8s\n",
      "   950K .......... .......... .......... .......... .......... 88% 37.5K 5s\n",
      "  1000K .......... .......... .......... .......... .......... 93% 47.5K 3s\n",
      "  1050K .......... .......... .......... .......... .......... 97% 34.7K 1s\n",
      "  1100K .......... .......... .......                         100% 30.7K=46s\n",
      "\n",
      "2023-06-03 01:24:41 (24.6 KB/s) - 'bioactivity_data_PubchemFingerprinter.csv' saved [1154424/1154424]\n",
      "\n"
     ]
    }
   ],
   "source": [
    "! wget https://raw.githubusercontent.com/mounsifelatouch/cdd/master/data/bioactivity_data_PubchemFingerprinter.csv"
   ]
  },
  {
   "cell_type": "code",
   "execution_count": 91,
   "metadata": {
    "id": "VqaS8i8ytsrh"
   },
   "outputs": [
    {
     "data": {
      "text/html": [
       "<div>\n",
       "<style scoped>\n",
       "    .dataframe tbody tr th:only-of-type {\n",
       "        vertical-align: middle;\n",
       "    }\n",
       "\n",
       "    .dataframe tbody tr th {\n",
       "        vertical-align: top;\n",
       "    }\n",
       "\n",
       "    .dataframe thead th {\n",
       "        text-align: right;\n",
       "    }\n",
       "</style>\n",
       "<table border=\"1\" class=\"dataframe\">\n",
       "  <thead>\n",
       "    <tr style=\"text-align: right;\">\n",
       "      <th></th>\n",
       "      <th>PubchemFP0</th>\n",
       "      <th>PubchemFP1</th>\n",
       "      <th>PubchemFP2</th>\n",
       "      <th>PubchemFP3</th>\n",
       "      <th>PubchemFP4</th>\n",
       "      <th>PubchemFP5</th>\n",
       "      <th>PubchemFP6</th>\n",
       "      <th>PubchemFP7</th>\n",
       "      <th>PubchemFP8</th>\n",
       "      <th>PubchemFP9</th>\n",
       "      <th>...</th>\n",
       "      <th>PubchemFP872</th>\n",
       "      <th>PubchemFP873</th>\n",
       "      <th>PubchemFP874</th>\n",
       "      <th>PubchemFP875</th>\n",
       "      <th>PubchemFP876</th>\n",
       "      <th>PubchemFP877</th>\n",
       "      <th>PubchemFP878</th>\n",
       "      <th>PubchemFP879</th>\n",
       "      <th>PubchemFP880</th>\n",
       "      <th>Activity</th>\n",
       "    </tr>\n",
       "  </thead>\n",
       "  <tbody>\n",
       "    <tr>\n",
       "      <th>0</th>\n",
       "      <td>1</td>\n",
       "      <td>1</td>\n",
       "      <td>0</td>\n",
       "      <td>0</td>\n",
       "      <td>0</td>\n",
       "      <td>0</td>\n",
       "      <td>0</td>\n",
       "      <td>0</td>\n",
       "      <td>0</td>\n",
       "      <td>1</td>\n",
       "      <td>...</td>\n",
       "      <td>0</td>\n",
       "      <td>0</td>\n",
       "      <td>0</td>\n",
       "      <td>0</td>\n",
       "      <td>0</td>\n",
       "      <td>0</td>\n",
       "      <td>0</td>\n",
       "      <td>0</td>\n",
       "      <td>0</td>\n",
       "      <td>0</td>\n",
       "    </tr>\n",
       "    <tr>\n",
       "      <th>1</th>\n",
       "      <td>1</td>\n",
       "      <td>1</td>\n",
       "      <td>0</td>\n",
       "      <td>0</td>\n",
       "      <td>0</td>\n",
       "      <td>0</td>\n",
       "      <td>0</td>\n",
       "      <td>0</td>\n",
       "      <td>0</td>\n",
       "      <td>1</td>\n",
       "      <td>...</td>\n",
       "      <td>0</td>\n",
       "      <td>0</td>\n",
       "      <td>0</td>\n",
       "      <td>0</td>\n",
       "      <td>0</td>\n",
       "      <td>0</td>\n",
       "      <td>0</td>\n",
       "      <td>0</td>\n",
       "      <td>0</td>\n",
       "      <td>0</td>\n",
       "    </tr>\n",
       "    <tr>\n",
       "      <th>2</th>\n",
       "      <td>1</td>\n",
       "      <td>1</td>\n",
       "      <td>1</td>\n",
       "      <td>0</td>\n",
       "      <td>0</td>\n",
       "      <td>0</td>\n",
       "      <td>0</td>\n",
       "      <td>0</td>\n",
       "      <td>0</td>\n",
       "      <td>1</td>\n",
       "      <td>...</td>\n",
       "      <td>0</td>\n",
       "      <td>0</td>\n",
       "      <td>0</td>\n",
       "      <td>0</td>\n",
       "      <td>0</td>\n",
       "      <td>0</td>\n",
       "      <td>0</td>\n",
       "      <td>0</td>\n",
       "      <td>0</td>\n",
       "      <td>0</td>\n",
       "    </tr>\n",
       "    <tr>\n",
       "      <th>3</th>\n",
       "      <td>1</td>\n",
       "      <td>1</td>\n",
       "      <td>1</td>\n",
       "      <td>0</td>\n",
       "      <td>0</td>\n",
       "      <td>0</td>\n",
       "      <td>0</td>\n",
       "      <td>0</td>\n",
       "      <td>0</td>\n",
       "      <td>1</td>\n",
       "      <td>...</td>\n",
       "      <td>0</td>\n",
       "      <td>0</td>\n",
       "      <td>0</td>\n",
       "      <td>0</td>\n",
       "      <td>0</td>\n",
       "      <td>0</td>\n",
       "      <td>0</td>\n",
       "      <td>0</td>\n",
       "      <td>0</td>\n",
       "      <td>0</td>\n",
       "    </tr>\n",
       "    <tr>\n",
       "      <th>4</th>\n",
       "      <td>1</td>\n",
       "      <td>1</td>\n",
       "      <td>0</td>\n",
       "      <td>0</td>\n",
       "      <td>0</td>\n",
       "      <td>0</td>\n",
       "      <td>0</td>\n",
       "      <td>0</td>\n",
       "      <td>0</td>\n",
       "      <td>1</td>\n",
       "      <td>...</td>\n",
       "      <td>0</td>\n",
       "      <td>0</td>\n",
       "      <td>0</td>\n",
       "      <td>0</td>\n",
       "      <td>0</td>\n",
       "      <td>0</td>\n",
       "      <td>0</td>\n",
       "      <td>0</td>\n",
       "      <td>0</td>\n",
       "      <td>0</td>\n",
       "    </tr>\n",
       "    <tr>\n",
       "      <th>...</th>\n",
       "      <td>...</td>\n",
       "      <td>...</td>\n",
       "      <td>...</td>\n",
       "      <td>...</td>\n",
       "      <td>...</td>\n",
       "      <td>...</td>\n",
       "      <td>...</td>\n",
       "      <td>...</td>\n",
       "      <td>...</td>\n",
       "      <td>...</td>\n",
       "      <td>...</td>\n",
       "      <td>...</td>\n",
       "      <td>...</td>\n",
       "      <td>...</td>\n",
       "      <td>...</td>\n",
       "      <td>...</td>\n",
       "      <td>...</td>\n",
       "      <td>...</td>\n",
       "      <td>...</td>\n",
       "      <td>...</td>\n",
       "      <td>...</td>\n",
       "    </tr>\n",
       "    <tr>\n",
       "      <th>643</th>\n",
       "      <td>1</td>\n",
       "      <td>1</td>\n",
       "      <td>1</td>\n",
       "      <td>0</td>\n",
       "      <td>0</td>\n",
       "      <td>0</td>\n",
       "      <td>0</td>\n",
       "      <td>0</td>\n",
       "      <td>0</td>\n",
       "      <td>1</td>\n",
       "      <td>...</td>\n",
       "      <td>0</td>\n",
       "      <td>0</td>\n",
       "      <td>0</td>\n",
       "      <td>0</td>\n",
       "      <td>0</td>\n",
       "      <td>0</td>\n",
       "      <td>0</td>\n",
       "      <td>0</td>\n",
       "      <td>0</td>\n",
       "      <td>0</td>\n",
       "    </tr>\n",
       "    <tr>\n",
       "      <th>644</th>\n",
       "      <td>1</td>\n",
       "      <td>1</td>\n",
       "      <td>1</td>\n",
       "      <td>0</td>\n",
       "      <td>0</td>\n",
       "      <td>0</td>\n",
       "      <td>0</td>\n",
       "      <td>0</td>\n",
       "      <td>0</td>\n",
       "      <td>1</td>\n",
       "      <td>...</td>\n",
       "      <td>0</td>\n",
       "      <td>0</td>\n",
       "      <td>0</td>\n",
       "      <td>0</td>\n",
       "      <td>0</td>\n",
       "      <td>0</td>\n",
       "      <td>0</td>\n",
       "      <td>0</td>\n",
       "      <td>0</td>\n",
       "      <td>0</td>\n",
       "    </tr>\n",
       "    <tr>\n",
       "      <th>645</th>\n",
       "      <td>1</td>\n",
       "      <td>1</td>\n",
       "      <td>1</td>\n",
       "      <td>0</td>\n",
       "      <td>0</td>\n",
       "      <td>0</td>\n",
       "      <td>0</td>\n",
       "      <td>0</td>\n",
       "      <td>0</td>\n",
       "      <td>1</td>\n",
       "      <td>...</td>\n",
       "      <td>0</td>\n",
       "      <td>0</td>\n",
       "      <td>0</td>\n",
       "      <td>0</td>\n",
       "      <td>0</td>\n",
       "      <td>0</td>\n",
       "      <td>0</td>\n",
       "      <td>0</td>\n",
       "      <td>0</td>\n",
       "      <td>0</td>\n",
       "    </tr>\n",
       "    <tr>\n",
       "      <th>646</th>\n",
       "      <td>1</td>\n",
       "      <td>1</td>\n",
       "      <td>1</td>\n",
       "      <td>0</td>\n",
       "      <td>0</td>\n",
       "      <td>0</td>\n",
       "      <td>0</td>\n",
       "      <td>0</td>\n",
       "      <td>0</td>\n",
       "      <td>1</td>\n",
       "      <td>...</td>\n",
       "      <td>0</td>\n",
       "      <td>0</td>\n",
       "      <td>0</td>\n",
       "      <td>0</td>\n",
       "      <td>0</td>\n",
       "      <td>0</td>\n",
       "      <td>0</td>\n",
       "      <td>0</td>\n",
       "      <td>0</td>\n",
       "      <td>0</td>\n",
       "    </tr>\n",
       "    <tr>\n",
       "      <th>647</th>\n",
       "      <td>1</td>\n",
       "      <td>1</td>\n",
       "      <td>0</td>\n",
       "      <td>0</td>\n",
       "      <td>0</td>\n",
       "      <td>0</td>\n",
       "      <td>0</td>\n",
       "      <td>0</td>\n",
       "      <td>0</td>\n",
       "      <td>1</td>\n",
       "      <td>...</td>\n",
       "      <td>0</td>\n",
       "      <td>0</td>\n",
       "      <td>0</td>\n",
       "      <td>0</td>\n",
       "      <td>0</td>\n",
       "      <td>0</td>\n",
       "      <td>0</td>\n",
       "      <td>0</td>\n",
       "      <td>0</td>\n",
       "      <td>0</td>\n",
       "    </tr>\n",
       "  </tbody>\n",
       "</table>\n",
       "<p>648 rows × 882 columns</p>\n",
       "</div>"
      ],
      "text/plain": [
       "     PubchemFP0  PubchemFP1  PubchemFP2  PubchemFP3  PubchemFP4  PubchemFP5  \\\n",
       "0             1           1           0           0           0           0   \n",
       "1             1           1           0           0           0           0   \n",
       "2             1           1           1           0           0           0   \n",
       "3             1           1           1           0           0           0   \n",
       "4             1           1           0           0           0           0   \n",
       "..          ...         ...         ...         ...         ...         ...   \n",
       "643           1           1           1           0           0           0   \n",
       "644           1           1           1           0           0           0   \n",
       "645           1           1           1           0           0           0   \n",
       "646           1           1           1           0           0           0   \n",
       "647           1           1           0           0           0           0   \n",
       "\n",
       "     PubchemFP6  PubchemFP7  PubchemFP8  PubchemFP9  ...  PubchemFP872  \\\n",
       "0             0           0           0           1  ...             0   \n",
       "1             0           0           0           1  ...             0   \n",
       "2             0           0           0           1  ...             0   \n",
       "3             0           0           0           1  ...             0   \n",
       "4             0           0           0           1  ...             0   \n",
       "..          ...         ...         ...         ...  ...           ...   \n",
       "643           0           0           0           1  ...             0   \n",
       "644           0           0           0           1  ...             0   \n",
       "645           0           0           0           1  ...             0   \n",
       "646           0           0           0           1  ...             0   \n",
       "647           0           0           0           1  ...             0   \n",
       "\n",
       "     PubchemFP873  PubchemFP874  PubchemFP875  PubchemFP876  PubchemFP877  \\\n",
       "0               0             0             0             0             0   \n",
       "1               0             0             0             0             0   \n",
       "2               0             0             0             0             0   \n",
       "3               0             0             0             0             0   \n",
       "4               0             0             0             0             0   \n",
       "..            ...           ...           ...           ...           ...   \n",
       "643             0             0             0             0             0   \n",
       "644             0             0             0             0             0   \n",
       "645             0             0             0             0             0   \n",
       "646             0             0             0             0             0   \n",
       "647             0             0             0             0             0   \n",
       "\n",
       "     PubchemFP878  PubchemFP879  PubchemFP880  Activity  \n",
       "0               0             0             0         0  \n",
       "1               0             0             0         0  \n",
       "2               0             0             0         0  \n",
       "3               0             0             0         0  \n",
       "4               0             0             0         0  \n",
       "..            ...           ...           ...       ...  \n",
       "643             0             0             0         0  \n",
       "644             0             0             0         0  \n",
       "645             0             0             0         0  \n",
       "646             0             0             0         0  \n",
       "647             0             0             0         0  \n",
       "\n",
       "[648 rows x 882 columns]"
      ]
     },
     "execution_count": 91,
     "metadata": {},
     "output_type": "execute_result"
    }
   ],
   "source": [
    "df = pd.read_csv('bioactivity_data_PubchemFingerprinter.csv')\n",
    "df"
   ]
  },
  {
   "attachments": {},
   "cell_type": "markdown",
   "metadata": {
    "id": "dYZ6-KJNtsrh"
   },
   "source": [
    "## **Input features**"
   ]
  },
  {
   "attachments": {},
   "cell_type": "markdown",
   "metadata": {
    "id": "gQVFKOCetsri"
   },
   "source": [
    "### **Input features**"
   ]
  },
  {
   "cell_type": "code",
   "execution_count": 92,
   "metadata": {
    "id": "rPa_Zev-tsri"
   },
   "outputs": [],
   "source": [
    "X = df.drop('Activity', axis=1)"
   ]
  },
  {
   "attachments": {},
   "cell_type": "markdown",
   "metadata": {
    "id": "9fJkeKehtsri"
   },
   "source": [
    "### **Output features**"
   ]
  },
  {
   "cell_type": "code",
   "execution_count": 93,
   "metadata": {
    "id": "JlkQHZzKtsri"
   },
   "outputs": [],
   "source": [
    "y = df['Activity']"
   ]
  },
  {
   "cell_type": "code",
   "execution_count": 94,
   "metadata": {
    "id": "EHo7xgLmtsrj"
   },
   "outputs": [],
   "source": [
    "# count the number of instances in each class\n",
    "counts = y.value_counts()\n",
    "\n",
    "# calculate the ratio of the negative class to the positive class\n",
    "imbalance_ratio = counts[0] / counts[1]"
   ]
  },
  {
   "attachments": {},
   "cell_type": "markdown",
   "metadata": {
    "id": "_fdRGAIltsrj"
   },
   "source": [
    "### **Let's examine the data dimension**"
   ]
  },
  {
   "cell_type": "code",
   "execution_count": 95,
   "metadata": {
    "id": "GZFGmQwRtsrj"
   },
   "outputs": [
    {
     "data": {
      "text/plain": [
       "((648, 881), (648,))"
      ]
     },
     "execution_count": 95,
     "metadata": {},
     "output_type": "execute_result"
    }
   ],
   "source": [
    "X.shape, y.shape"
   ]
  },
  {
   "attachments": {},
   "cell_type": "markdown",
   "metadata": {},
   "source": [
    "### **Remove low variance features**"
   ]
  },
  {
   "cell_type": "code",
   "execution_count": 96,
   "metadata": {},
   "outputs": [
    {
     "name": "stdout",
     "output_type": "stream",
     "text": [
      "Defaulting to user installation because normal site-packages is not writeable\n",
      "Requirement already satisfied: statsmodels in c:\\users\\pc\\appdata\\roaming\\python\\python311\\site-packages (0.14.0)\n",
      "Requirement already satisfied: numpy>=1.18 in c:\\users\\pc\\appdata\\roaming\\python\\python311\\site-packages (from statsmodels) (1.23.5)\n",
      "Requirement already satisfied: scipy!=1.9.2,>=1.4 in c:\\users\\pc\\appdata\\roaming\\python\\python311\\site-packages (from statsmodels) (1.9.3)\n",
      "Requirement already satisfied: pandas>=1.0 in c:\\users\\pc\\appdata\\roaming\\python\\python311\\site-packages (from statsmodels) (1.5.2)\n",
      "Requirement already satisfied: patsy>=0.5.2 in c:\\users\\pc\\appdata\\roaming\\python\\python311\\site-packages (from statsmodels) (0.5.3)\n",
      "Requirement already satisfied: packaging>=21.3 in c:\\users\\pc\\appdata\\roaming\\python\\python311\\site-packages (from statsmodels) (21.3)\n",
      "Requirement already satisfied: pyparsing!=3.0.5,>=2.0.2 in c:\\users\\pc\\appdata\\roaming\\python\\python311\\site-packages (from packaging>=21.3->statsmodels) (3.0.9)\n",
      "Requirement already satisfied: python-dateutil>=2.8.1 in c:\\users\\pc\\appdata\\roaming\\python\\python311\\site-packages (from pandas>=1.0->statsmodels) (2.8.2)\n",
      "Requirement already satisfied: pytz>=2020.1 in c:\\users\\pc\\appdata\\roaming\\python\\python311\\site-packages (from pandas>=1.0->statsmodels) (2022.6)\n",
      "Requirement already satisfied: six in c:\\users\\pc\\appdata\\roaming\\python\\python311\\site-packages (from patsy>=0.5.2->statsmodels) (1.16.0)\n"
     ]
    }
   ],
   "source": [
    "! pip install statsmodels"
   ]
  },
  {
   "cell_type": "code",
   "execution_count": 97,
   "metadata": {},
   "outputs": [],
   "source": [
    "import statsmodels.api as sm\n",
    "\n",
    "def forward_selection(data, target, significance_level=0.05):\n",
    "    initial_features = data.columns.tolist()\n",
    "    best_features = []\n",
    "    while (len(initial_features)>0):\n",
    "        remaining_features = list(set(initial_features)-set(best_features))\n",
    "        new_pval = pd.Series(index=remaining_features)\n",
    "        for new_column in remaining_features:\n",
    "            model = sm.OLS(target, sm.add_constant(data[best_features+[new_column]])).fit()\n",
    "            new_pval[new_column] = model.pvalues[new_column]\n",
    "        min_p_value = new_pval.min()\n",
    "        if(min_p_value<significance_level):\n",
    "            best_features.append(new_pval.idxmin())\n",
    "        else:\n",
    "            break\n",
    "    return best_features"
   ]
  },
  {
   "cell_type": "code",
   "execution_count": 98,
   "metadata": {},
   "outputs": [],
   "source": [
    "best_features = forward_selection(X, y)"
   ]
  },
  {
   "cell_type": "code",
   "execution_count": 99,
   "metadata": {},
   "outputs": [
    {
     "data": {
      "text/plain": [
       "71"
      ]
     },
     "execution_count": 99,
     "metadata": {},
     "output_type": "execute_result"
    }
   ],
   "source": [
    "len(best_features)"
   ]
  },
  {
   "cell_type": "code",
   "execution_count": 100,
   "metadata": {},
   "outputs": [],
   "source": [
    "X = X[best_features]"
   ]
  },
  {
   "cell_type": "code",
   "execution_count": 101,
   "metadata": {},
   "outputs": [
    {
     "data": {
      "text/plain": [
       "(648, 71)"
      ]
     },
     "execution_count": 101,
     "metadata": {},
     "output_type": "execute_result"
    }
   ],
   "source": [
    "X.shape"
   ]
  },
  {
   "attachments": {},
   "cell_type": "markdown",
   "metadata": {
    "id": "-svjbOfutsrk"
   },
   "source": [
    "## **Data split (80/20 ratio)**"
   ]
  },
  {
   "cell_type": "code",
   "execution_count": 102,
   "metadata": {
    "id": "jF52tbMYw1z5"
   },
   "outputs": [],
   "source": [
    "n = np.arange(len(X))\n",
    "idx_train, idx_test = train_test_split(n, test_size=.2, random_state=seed)"
   ]
  },
  {
   "cell_type": "code",
   "execution_count": 103,
   "metadata": {
    "id": "nMw13QDQtsrk"
   },
   "outputs": [],
   "source": [
    "X_train, y_train = X.loc[idx_train], y.loc[idx_train]\n",
    "X_test, y_test = X.loc[idx_test], y.loc[idx_test]"
   ]
  },
  {
   "cell_type": "code",
   "execution_count": 104,
   "metadata": {
    "id": "vej1D8zrtsrk"
   },
   "outputs": [
    {
     "data": {
      "text/plain": [
       "((518, 71), (518,))"
      ]
     },
     "execution_count": 104,
     "metadata": {},
     "output_type": "execute_result"
    }
   ],
   "source": [
    "X_train.shape, y_train.shape"
   ]
  },
  {
   "cell_type": "code",
   "execution_count": 105,
   "metadata": {},
   "outputs": [
    {
     "data": {
      "text/plain": [
       "0    118\n",
       "1     12\n",
       "Name: Activity, dtype: int64"
      ]
     },
     "execution_count": 105,
     "metadata": {},
     "output_type": "execute_result"
    }
   ],
   "source": [
    "y_test.value_counts()"
   ]
  },
  {
   "attachments": {},
   "cell_type": "markdown",
   "metadata": {
    "id": "N4rFAzWytsrl"
   },
   "source": [
    "## **Data balancing**"
   ]
  },
  {
   "attachments": {},
   "cell_type": "markdown",
   "metadata": {
    "id": "NyZW_Nd_tsrl"
   },
   "source": [
    "### **Random Oversampling**"
   ]
  },
  {
   "cell_type": "code",
   "execution_count": 106,
   "metadata": {
    "id": "RI8yGfqutsrl"
   },
   "outputs": [],
   "source": [
    "from imblearn.over_sampling import RandomOverSampler\n",
    "\n",
    "# create an oversampler object with a 1:1 ratio of positive to negative samples\n",
    "ros = RandomOverSampler(sampling_strategy='minority')\n",
    "\n",
    "# fit and apply the oversampler to the training data\n",
    "X_train_ros, y_train_ros = ros.fit_resample(X_train, y_train)"
   ]
  },
  {
   "attachments": {},
   "cell_type": "markdown",
   "metadata": {
    "id": "gwO-v_JItsrl"
   },
   "source": [
    "### **SMOTE**"
   ]
  },
  {
   "cell_type": "code",
   "execution_count": 107,
   "metadata": {
    "id": "9MVK0C2ptsrl"
   },
   "outputs": [],
   "source": [
    "from imblearn.over_sampling import SMOTE\n",
    "\n",
    "# Perform oversampling on the minority class in the training set\n",
    "sm = SMOTE(random_state=seed)\n",
    "\n",
    "# fit and apply the oversampler to the training data\n",
    "X_train_sm, y_train_sm = sm.fit_resample(X_train, y_train)"
   ]
  },
  {
   "attachments": {},
   "cell_type": "markdown",
   "metadata": {
    "id": "4OQ3xLJ0tsrl"
   },
   "source": [
    "### **ADASYN**"
   ]
  },
  {
   "cell_type": "code",
   "execution_count": 108,
   "metadata": {
    "id": "eLwXSD8Ptsrm"
   },
   "outputs": [],
   "source": [
    "from imblearn.over_sampling import ADASYN\n",
    "\n",
    "# Perform oversampling on the minority class in the training set\n",
    "adasyn = ADASYN(random_state=seed)\n",
    "\n",
    "# fit and apply the oversampler to the training data\n",
    "X_train_adasyn, y_train_adasyn = adasyn.fit_resample(X_train, y_train)"
   ]
  },
  {
   "attachments": {},
   "cell_type": "markdown",
   "metadata": {
    "id": "UF-kp8rLhvNB"
   },
   "source": [
    "\n",
    "\n",
    "---\n",
    "\n"
   ]
  },
  {
   "cell_type": "code",
   "execution_count": 109,
   "metadata": {
    "id": "h5K8LAAYtsrm"
   },
   "outputs": [],
   "source": [
    "X_train = X_train.reset_index(drop=True)\n",
    "y_train = y_train.reset_index(drop=True)\n",
    "X_test = X_test.reset_index(drop=True)\n",
    "y_test = y_test.reset_index(drop=True)"
   ]
  },
  {
   "cell_type": "code",
   "execution_count": 110,
   "metadata": {
    "id": "MQvl_xl1AkzX"
   },
   "outputs": [],
   "source": [
    "n_samples, n_classes = X_train.shape[0], 2\n",
    "class_weights = dict(zip(np.unique(y_train), n_samples / (n_classes * np.bincount(y_train))))"
   ]
  },
  {
   "attachments": {},
   "cell_type": "markdown",
   "metadata": {
    "id": "_LJzaixXHFXl"
   },
   "source": [
    "# **GridSearchCV**\n",
    "* cv = 10\n",
    "* *`'balanced_accuracy'`* as a scoring metric to deal with imbalanced datasets. It is defined as the average of recall obtained on each class."
   ]
  },
  {
   "cell_type": "code",
   "execution_count": 111,
   "metadata": {},
   "outputs": [],
   "source": [
    "best_params = []"
   ]
  },
  {
   "attachments": {},
   "cell_type": "markdown",
   "metadata": {
    "id": "a61e7KdJtsrm"
   },
   "source": [
    "## **ExtraTreesClassifier**"
   ]
  },
  {
   "cell_type": "code",
   "execution_count": 114,
   "metadata": {
    "id": "FwLIZGHytsrm"
   },
   "outputs": [
    {
     "name": "stdout",
     "output_type": "stream",
     "text": [
      "Best hyperparameters:  {'class_weight': 'balanced', 'max_depth': 25, 'max_features': 8, 'min_samples_leaf': 1, 'min_samples_split': 5, 'n_estimators': 500}\n",
      "Best mean cross-validation score: 0.82\n",
      "Train Result:\n",
      "================================================\n",
      "Accuracy Score: 91.31%\n",
      "_______________________________________________\n",
      "CLASSIFICATION REPORT:\n",
      "                    0          1  accuracy   macro avg  weighted avg\n",
      "precision    0.990847   0.493827  0.913127    0.742337      0.948629\n",
      "recall       0.913502   0.909091  0.913127    0.911297      0.913127\n",
      "f1-score     0.950604   0.640000  0.913127    0.795302      0.924220\n",
      "support    474.000000  44.000000  0.913127  518.000000    518.000000\n",
      "_______________________________________________\n",
      "Confusion Matrix: \n",
      " [[433  41]\n",
      " [  4  40]]\n",
      "\n",
      "Test Result:\n",
      "================================================\n",
      "Accuracy Score: 80.00%\n",
      "_______________________________________________\n",
      "CLASSIFICATION REPORT:\n",
      "                    0          1  accuracy   macro avg  weighted avg\n",
      "precision    0.950980   0.250000       0.8    0.600490      0.886275\n",
      "recall       0.822034   0.583333       0.8    0.702684      0.800000\n",
      "f1-score     0.881818   0.350000       0.8    0.615909      0.832727\n",
      "support    118.000000  12.000000       0.8  130.000000    130.000000\n",
      "_______________________________________________\n",
      "Confusion Matrix: \n",
      " [[97 21]\n",
      " [ 5  7]]\n",
      "\n"
     ]
    },
    {
     "data": {
      "text/html": [
       "<style type=\"text/css\">\n",
       "</style>\n",
       "<table id=\"T_070dc\">\n",
       "  <thead>\n",
       "    <tr>\n",
       "      <th id=\"T_070dc_level0_col0\" class=\"col_heading level0 col0\" >model</th>\n",
       "      <th id=\"T_070dc_level0_col1\" class=\"col_heading level0 col1\" >f1_score</th>\n",
       "      <th id=\"T_070dc_level0_col2\" class=\"col_heading level0 col2\" >auc</th>\n",
       "      <th id=\"T_070dc_level0_col3\" class=\"col_heading level0 col3\" >auc_pr</th>\n",
       "      <th id=\"T_070dc_level0_col4\" class=\"col_heading level0 col4\" >recall_classe(0)</th>\n",
       "      <th id=\"T_070dc_level0_col5\" class=\"col_heading level0 col5\" >recall_classe(1)</th>\n",
       "      <th id=\"T_070dc_level0_col6\" class=\"col_heading level0 col6\" >precision_classe(0)</th>\n",
       "      <th id=\"T_070dc_level0_col7\" class=\"col_heading level0 col7\" >precision_classe(1)</th>\n",
       "    </tr>\n",
       "  </thead>\n",
       "  <tbody>\n",
       "    <tr>\n",
       "      <td id=\"T_070dc_row0_col0\" class=\"data row0 col0\" >ExtraTreesClassifier</td>\n",
       "      <td id=\"T_070dc_row0_col1\" class=\"data row0 col1\" >0.350000</td>\n",
       "      <td id=\"T_070dc_row0_col2\" class=\"data row0 col2\" >0.743997</td>\n",
       "      <td id=\"T_070dc_row0_col3\" class=\"data row0 col3\" >0.505599</td>\n",
       "      <td id=\"T_070dc_row0_col4\" class=\"data row0 col4\" >0.822034</td>\n",
       "      <td id=\"T_070dc_row0_col5\" class=\"data row0 col5\" >0.583333</td>\n",
       "      <td id=\"T_070dc_row0_col6\" class=\"data row0 col6\" >0.950980</td>\n",
       "      <td id=\"T_070dc_row0_col7\" class=\"data row0 col7\" >0.250000</td>\n",
       "    </tr>\n",
       "  </tbody>\n",
       "</table>\n"
      ],
      "text/plain": [
       "<pandas.io.formats.style.Styler at 0x22a83117a50>"
      ]
     },
     "execution_count": 114,
     "metadata": {},
     "output_type": "execute_result"
    }
   ],
   "source": [
    "clf1 = ExtraTreesClassifier(random_state=seed, class_weight='balanced')\n",
    "param_grid = {'n_estimators': [100, 500, 1000],\n",
    "              'max_depth': [10, 25, 50, 100],\n",
    "              'max_features': [int(sqrt(X.shape[1])), int(log2(X.shape[1]))],\n",
    "              'min_samples_split' : [2, 5, 10], \n",
    "              'min_samples_leaf' : [1, 5, 10],\n",
    "              'class_weight' : ['balanced', None]}\n",
    "\n",
    "# Define the GridSearchCV object with 5-fold cross-validation\n",
    "grid_search = GridSearchCV(clf1, param_grid=param_grid, cv=10, scoring='balanced_accuracy', n_jobs=-1)\n",
    "\n",
    "# Fit the GridSearchCV object with the training data\n",
    "grid_search.fit(X_train, y_train)\n",
    "best_params.append(grid_search.best_params_)\n",
    "\n",
    "# Print the best hyperparameters and the corresponding mean cross-validation score\n",
    "print(\"Best hyperparameters: \", grid_search.best_params_)\n",
    "print(\"Best mean cross-validation score: {:.2f}\".format(grid_search.best_score_))\n",
    "\n",
    "# Use the best hyperparameters to fit the model to the training data\n",
    "clf_best = ExtraTreesClassifier(**grid_search.best_params_, random_state=seed)\n",
    "model1 = clf_best.fit(X_train, y_train)\n",
    "\n",
    "clf1 = print_auc(model1, X_train, y_train, X_test, y_test, 'ExtraTreesClassifier')\n",
    "df1 = pd.DataFrame(data=[['ExtraTreesClassifier', clf1['f1'], clf1['auc'], clf1['auc_pr'], clf1['recall_sc'][0], clf1['recall_sc'][1], clf1['precision_sc'][0], clf1['precision_sc'][1]]], \n",
    "                          columns=['model', 'f1_score', 'auc', 'auc_pr', 'recall_classe(0)', 'recall_classe(1)', 'precision_classe(0)', 'precision_classe(1)'])\n",
    "df1.style.hide_index()"
   ]
  },
  {
   "attachments": {},
   "cell_type": "markdown",
   "metadata": {
    "id": "QQCRXaiWtsrp"
   },
   "source": [
    "## **XGBClassifier**"
   ]
  },
  {
   "cell_type": "code",
   "execution_count": 115,
   "metadata": {},
   "outputs": [
    {
     "name": "stdout",
     "output_type": "stream",
     "text": [
      "Best hyperparameters:  {'colsample_bytree': 1.0, 'gamma': 0.5, 'learning_rate': 0.2, 'max_depth': 10, 'scale_pos_weight': 10.571428571428571, 'subsample': 0.5}\n",
      "Best mean cross-validation score: 0.85\n",
      "Train Result:\n",
      "================================================\n",
      "Accuracy Score: 91.31%\n",
      "_______________________________________________\n",
      "CLASSIFICATION REPORT:\n",
      "                    0          1  accuracy   macro avg  weighted avg\n",
      "precision    0.990847   0.493827  0.913127    0.742337      0.948629\n",
      "recall       0.913502   0.909091  0.913127    0.911297      0.913127\n",
      "f1-score     0.950604   0.640000  0.913127    0.795302      0.924220\n",
      "support    474.000000  44.000000  0.913127  518.000000    518.000000\n",
      "_______________________________________________\n",
      "Confusion Matrix: \n",
      " [[433  41]\n",
      " [  4  40]]\n",
      "\n",
      "Test Result:\n",
      "================================================\n",
      "Accuracy Score: 85.38%\n",
      "_______________________________________________\n",
      "CLASSIFICATION REPORT:\n",
      "                    0          1  accuracy   macro avg  weighted avg\n",
      "precision    0.954128   0.333333  0.853846    0.643731      0.896824\n",
      "recall       0.881356   0.583333  0.853846    0.732345      0.853846\n",
      "f1-score     0.916300   0.424242  0.853846    0.670271      0.870879\n",
      "support    118.000000  12.000000  0.853846  130.000000    130.000000\n",
      "_______________________________________________\n",
      "Confusion Matrix: \n",
      " [[104  14]\n",
      " [  5   7]]\n",
      "\n"
     ]
    },
    {
     "data": {
      "text/html": [
       "<style type=\"text/css\">\n",
       "</style>\n",
       "<table id=\"T_509db\">\n",
       "  <thead>\n",
       "    <tr>\n",
       "      <th id=\"T_509db_level0_col0\" class=\"col_heading level0 col0\" >model</th>\n",
       "      <th id=\"T_509db_level0_col1\" class=\"col_heading level0 col1\" >f1_score</th>\n",
       "      <th id=\"T_509db_level0_col2\" class=\"col_heading level0 col2\" >auc</th>\n",
       "      <th id=\"T_509db_level0_col3\" class=\"col_heading level0 col3\" >auc_pr</th>\n",
       "      <th id=\"T_509db_level0_col4\" class=\"col_heading level0 col4\" >recall_classe(0)</th>\n",
       "      <th id=\"T_509db_level0_col5\" class=\"col_heading level0 col5\" >recall_classe(1)</th>\n",
       "      <th id=\"T_509db_level0_col6\" class=\"col_heading level0 col6\" >precision_classe(0)</th>\n",
       "      <th id=\"T_509db_level0_col7\" class=\"col_heading level0 col7\" >precision_classe(1)</th>\n",
       "    </tr>\n",
       "  </thead>\n",
       "  <tbody>\n",
       "    <tr>\n",
       "      <td id=\"T_509db_row0_col0\" class=\"data row0 col0\" >XGBClassifier</td>\n",
       "      <td id=\"T_509db_row0_col1\" class=\"data row0 col1\" >0.424242</td>\n",
       "      <td id=\"T_509db_row0_col2\" class=\"data row0 col2\" >0.793079</td>\n",
       "      <td id=\"T_509db_row0_col3\" class=\"data row0 col3\" >0.498210</td>\n",
       "      <td id=\"T_509db_row0_col4\" class=\"data row0 col4\" >0.881356</td>\n",
       "      <td id=\"T_509db_row0_col5\" class=\"data row0 col5\" >0.583333</td>\n",
       "      <td id=\"T_509db_row0_col6\" class=\"data row0 col6\" >0.954128</td>\n",
       "      <td id=\"T_509db_row0_col7\" class=\"data row0 col7\" >0.333333</td>\n",
       "    </tr>\n",
       "  </tbody>\n",
       "</table>\n"
      ],
      "text/plain": [
       "<pandas.io.formats.style.Styler at 0x22a83383b50>"
      ]
     },
     "execution_count": 115,
     "metadata": {},
     "output_type": "execute_result"
    }
   ],
   "source": [
    "clf2 = xgb.XGBClassifier(objective='binary:logistic')\n",
    "param_grid = {'learning_rate' : [0.01, 0.1, 0.2],\n",
    "              'max_depth' : [3, 10, 25],\n",
    "              'gamma' : [0.1, 0.5, 1.0],\n",
    "              'subsample': [0.5, 0.8, 1.0],\n",
    "              'colsample_bytree': [0.5, 0.8, 1.0],\n",
    "              'scale_pos_weight': [1, imbalance_ratio]}\n",
    "\n",
    "# Define the GridSearchCV object with 5-fold cross-validation\n",
    "grid_search = GridSearchCV(clf2, param_grid=param_grid, cv=10, scoring='balanced_accuracy', n_jobs=-1)\n",
    "\n",
    "# Fit the GridSearchCV object with the training data\n",
    "grid_search.fit(X_train, y_train)\n",
    "best_params.append(grid_search.best_params_)\n",
    "\n",
    "# Print the best hyperparameters and the corresponding mean cross-validation score\n",
    "print(\"Best hyperparameters: \", grid_search.best_params_)\n",
    "print(\"Best mean cross-validation score: {:.2f}\".format(grid_search.best_score_))\n",
    "\n",
    "# Use the best hyperparameters to fit the model to the training data\n",
    "clf_best = xgb.XGBClassifier(**grid_search.best_params_, objective='binary:logistic')\n",
    "model2 = clf_best.fit(X_train, y_train)\n",
    "\n",
    "clf2 = print_auc(model2, X_train, y_train, X_test, y_test, 'XGBClassifier')\n",
    "df2 = pd.DataFrame(data=[['XGBClassifier', clf2['f1'], clf2['auc'], clf2['auc_pr'], clf2['recall_sc'][0], clf2['recall_sc'][1], clf2['precision_sc'][0], clf2['precision_sc'][1]]], \n",
    "                          columns=['model', 'f1_score', 'auc', 'auc_pr', 'recall_classe(0)', 'recall_classe(1)', 'precision_classe(0)', 'precision_classe(1)'])\n",
    "df2.style.hide_index()"
   ]
  },
  {
   "attachments": {},
   "cell_type": "markdown",
   "metadata": {},
   "source": [
    "## **AdaBoostClassifier**"
   ]
  },
  {
   "cell_type": "code",
   "execution_count": 116,
   "metadata": {
    "id": "Zae2H2ZiJ6fg"
   },
   "outputs": [
    {
     "name": "stdout",
     "output_type": "stream",
     "text": [
      "Best hyperparameters:  {'base_estimator': DecisionTreeClassifier(max_depth=3), 'learning_rate': 0.2, 'n_estimators': 200}\n",
      "Best mean cross-validation score: 0.74\n",
      "Train Result:\n",
      "================================================\n",
      "Accuracy Score: 96.72%\n",
      "_______________________________________________\n",
      "CLASSIFICATION REPORT:\n",
      "                    0          1  accuracy   macro avg  weighted avg\n",
      "precision    0.971134   0.909091  0.967181    0.940112      0.965864\n",
      "recall       0.993671   0.681818  0.967181    0.837745      0.967181\n",
      "f1-score     0.982273   0.779221  0.967181    0.880747      0.965026\n",
      "support    474.000000  44.000000  0.967181  518.000000    518.000000\n",
      "_______________________________________________\n",
      "Confusion Matrix: \n",
      " [[471   3]\n",
      " [ 14  30]]\n",
      "\n",
      "Test Result:\n",
      "================================================\n",
      "Accuracy Score: 91.54%\n",
      "_______________________________________________\n",
      "CLASSIFICATION REPORT:\n",
      "                    0          1  accuracy   macro avg  weighted avg\n",
      "precision    0.942149   0.555556  0.915385    0.748852      0.906463\n",
      "recall       0.966102   0.416667  0.915385    0.691384      0.915385\n",
      "f1-score     0.953975   0.476190  0.915385    0.715083      0.909872\n",
      "support    118.000000  12.000000  0.915385  130.000000    130.000000\n",
      "_______________________________________________\n",
      "Confusion Matrix: \n",
      " [[114   4]\n",
      " [  7   5]]\n",
      "\n"
     ]
    },
    {
     "data": {
      "text/html": [
       "<style type=\"text/css\">\n",
       "</style>\n",
       "<table id=\"T_26bbc\">\n",
       "  <thead>\n",
       "    <tr>\n",
       "      <th id=\"T_26bbc_level0_col0\" class=\"col_heading level0 col0\" >model</th>\n",
       "      <th id=\"T_26bbc_level0_col1\" class=\"col_heading level0 col1\" >f1_score</th>\n",
       "      <th id=\"T_26bbc_level0_col2\" class=\"col_heading level0 col2\" >auc</th>\n",
       "      <th id=\"T_26bbc_level0_col3\" class=\"col_heading level0 col3\" >auc_pr</th>\n",
       "      <th id=\"T_26bbc_level0_col4\" class=\"col_heading level0 col4\" >recall_classe(0)</th>\n",
       "      <th id=\"T_26bbc_level0_col5\" class=\"col_heading level0 col5\" >recall_classe(1)</th>\n",
       "      <th id=\"T_26bbc_level0_col6\" class=\"col_heading level0 col6\" >precision_classe(0)</th>\n",
       "      <th id=\"T_26bbc_level0_col7\" class=\"col_heading level0 col7\" >precision_classe(1)</th>\n",
       "    </tr>\n",
       "  </thead>\n",
       "  <tbody>\n",
       "    <tr>\n",
       "      <td id=\"T_26bbc_row0_col0\" class=\"data row0 col0\" >AdaBoostClassifier</td>\n",
       "      <td id=\"T_26bbc_row0_col1\" class=\"data row0 col1\" >0.476190</td>\n",
       "      <td id=\"T_26bbc_row0_col2\" class=\"data row0 col2\" >0.585452</td>\n",
       "      <td id=\"T_26bbc_row0_col3\" class=\"data row0 col3\" >0.283489</td>\n",
       "      <td id=\"T_26bbc_row0_col4\" class=\"data row0 col4\" >0.966102</td>\n",
       "      <td id=\"T_26bbc_row0_col5\" class=\"data row0 col5\" >0.416667</td>\n",
       "      <td id=\"T_26bbc_row0_col6\" class=\"data row0 col6\" >0.942149</td>\n",
       "      <td id=\"T_26bbc_row0_col7\" class=\"data row0 col7\" >0.555556</td>\n",
       "    </tr>\n",
       "  </tbody>\n",
       "</table>\n"
      ],
      "text/plain": [
       "<pandas.io.formats.style.Styler at 0x22a83139950>"
      ]
     },
     "execution_count": 116,
     "metadata": {},
     "output_type": "execute_result"
    }
   ],
   "source": [
    "clf3 = AdaBoostClassifier(random_state=seed)\n",
    "param_grid = {'n_estimators': [50, 100, 200],\n",
    "              'learning_rate': [0.01, 0.1, 0.2],\n",
    "              'base_estimator': [DecisionTreeClassifier(max_depth=1), DecisionTreeClassifier(max_depth=3)]}\n",
    "\n",
    "# Define the GridSearchCV object with 5-fold cross-validation\n",
    "grid_search = GridSearchCV(clf3, param_grid=param_grid, cv=10, scoring='balanced_accuracy', n_jobs=-1)\n",
    "\n",
    "# Fit the GridSearchCV object with the training data\n",
    "grid_search.fit(X_train, y_train)\n",
    "best_params.append(grid_search.best_params_)\n",
    "\n",
    "# Print the best hyperparameters and the corresponding mean cross-validation score\n",
    "print(\"Best hyperparameters: \", grid_search.best_params_)\n",
    "print(\"Best mean cross-validation score: {:.2f}\".format(grid_search.best_score_))\n",
    "\n",
    "# Use the best hyperparameters to fit the model to the training data\n",
    "clf_best = AdaBoostClassifier(**grid_search.best_params_, random_state=seed)\n",
    "model3 = clf_best.fit(X_train, y_train)\n",
    "\n",
    "clf3 = print_auc(model3, X_train, y_train, X_test, y_test, 'AdaBoostClassifier')\n",
    "df3 = pd.DataFrame(data=[['AdaBoostClassifier', clf3['f1'], clf3['auc'], clf3['auc_pr'], clf3['recall_sc'][0], clf3['recall_sc'][1], clf3['precision_sc'][0], clf3['precision_sc'][1]]], \n",
    "                          columns=['model', 'f1_score', 'auc', 'auc_pr', 'recall_classe(0)', 'recall_classe(1)', 'precision_classe(0)', 'precision_classe(1)'])\n",
    "df3.style.hide_index()"
   ]
  },
  {
   "attachments": {},
   "cell_type": "markdown",
   "metadata": {
    "id": "AFc-ALhpSAJ-"
   },
   "source": [
    "## **DecisionTreeClassifier**"
   ]
  },
  {
   "cell_type": "code",
   "execution_count": 117,
   "metadata": {
    "id": "2UXnbmeSSKP7"
   },
   "outputs": [
    {
     "name": "stdout",
     "output_type": "stream",
     "text": [
      "Best hyperparameters:  {'criterion': 'gini', 'max_depth': None, 'max_features': 6, 'min_samples_leaf': 1, 'min_samples_split': 2}\n",
      "Best mean cross-validation score: 0.68\n",
      "Train Result:\n",
      "================================================\n",
      "Accuracy Score: 96.72%\n",
      "_______________________________________________\n",
      "CLASSIFICATION REPORT:\n",
      "                    0          1  accuracy   macro avg  weighted avg\n",
      "precision    0.969199   0.935484  0.967181    0.952342      0.966335\n",
      "recall       0.995781   0.659091  0.967181    0.827436      0.967181\n",
      "f1-score     0.982310   0.773333  0.967181    0.877822      0.964559\n",
      "support    474.000000  44.000000  0.967181  518.000000    518.000000\n",
      "_______________________________________________\n",
      "Confusion Matrix: \n",
      " [[472   2]\n",
      " [ 15  29]]\n",
      "\n",
      "Test Result:\n",
      "================================================\n",
      "Accuracy Score: 92.31%\n",
      "_______________________________________________\n",
      "CLASSIFICATION REPORT:\n",
      "                    0          1  accuracy   macro avg  weighted avg\n",
      "precision    0.942623   0.625000  0.923077    0.783811      0.913304\n",
      "recall       0.974576   0.416667  0.923077    0.695621      0.923077\n",
      "f1-score     0.958333   0.500000  0.923077    0.729167      0.916026\n",
      "support    118.000000  12.000000  0.923077  130.000000    130.000000\n",
      "_______________________________________________\n",
      "Confusion Matrix: \n",
      " [[115   3]\n",
      " [  7   5]]\n",
      "\n"
     ]
    },
    {
     "data": {
      "text/html": [
       "<style type=\"text/css\">\n",
       "</style>\n",
       "<table id=\"T_14d4b\">\n",
       "  <thead>\n",
       "    <tr>\n",
       "      <th id=\"T_14d4b_level0_col0\" class=\"col_heading level0 col0\" >model</th>\n",
       "      <th id=\"T_14d4b_level0_col1\" class=\"col_heading level0 col1\" >f1_score</th>\n",
       "      <th id=\"T_14d4b_level0_col2\" class=\"col_heading level0 col2\" >auc</th>\n",
       "      <th id=\"T_14d4b_level0_col3\" class=\"col_heading level0 col3\" >auc_pr</th>\n",
       "      <th id=\"T_14d4b_level0_col4\" class=\"col_heading level0 col4\" >recall_classe(0)</th>\n",
       "      <th id=\"T_14d4b_level0_col5\" class=\"col_heading level0 col5\" >recall_classe(1)</th>\n",
       "      <th id=\"T_14d4b_level0_col6\" class=\"col_heading level0 col6\" >precision_classe(0)</th>\n",
       "      <th id=\"T_14d4b_level0_col7\" class=\"col_heading level0 col7\" >precision_classe(1)</th>\n",
       "    </tr>\n",
       "  </thead>\n",
       "  <tbody>\n",
       "    <tr>\n",
       "      <td id=\"T_14d4b_row0_col0\" class=\"data row0 col0\" >DecisionTreeClassifier</td>\n",
       "      <td id=\"T_14d4b_row0_col1\" class=\"data row0 col1\" >0.500000</td>\n",
       "      <td id=\"T_14d4b_row0_col2\" class=\"data row0 col2\" >0.651130</td>\n",
       "      <td id=\"T_14d4b_row0_col3\" class=\"data row0 col3\" >0.461142</td>\n",
       "      <td id=\"T_14d4b_row0_col4\" class=\"data row0 col4\" >0.974576</td>\n",
       "      <td id=\"T_14d4b_row0_col5\" class=\"data row0 col5\" >0.416667</td>\n",
       "      <td id=\"T_14d4b_row0_col6\" class=\"data row0 col6\" >0.942623</td>\n",
       "      <td id=\"T_14d4b_row0_col7\" class=\"data row0 col7\" >0.625000</td>\n",
       "    </tr>\n",
       "  </tbody>\n",
       "</table>\n"
      ],
      "text/plain": [
       "<pandas.io.formats.style.Styler at 0x22a87c6c4d0>"
      ]
     },
     "execution_count": 117,
     "metadata": {},
     "output_type": "execute_result"
    }
   ],
   "source": [
    "clf4 = DecisionTreeClassifier(random_state=seed)\n",
    "param_grid = {'min_samples_split': [2, 5, 10, 20],\n",
    "              'max_depth': [2, 3, 4, 5, None],\n",
    "              'min_samples_leaf': [1, 2, 4, 8],\n",
    "              'criterion' : ['gini', 'entropy', 'log_loss'],\n",
    "              'max_features': ['auto', int(sqrt(X.shape[1])), int(log2(X.shape[1]))]}\n",
    "\n",
    "# Define the GridSearchCV object with 5-fold cross-validation\n",
    "grid_search = GridSearchCV(clf4, param_grid=param_grid, cv=10, scoring='balanced_accuracy', n_jobs=-1)\n",
    "\n",
    "# Fit the GridSearchCV object with the training data\n",
    "grid_search.fit(X_train, y_train)\n",
    "best_params.append(grid_search.best_params_)\n",
    "\n",
    "# Print the best hyperparameters and the corresponding mean cross-validation score\n",
    "print(\"Best hyperparameters: \", grid_search.best_params_)\n",
    "print(\"Best mean cross-validation score: {:.2f}\".format(grid_search.best_score_))\n",
    "\n",
    "# Use the best hyperparameters to fit the model to the training data\n",
    "clf_best = DecisionTreeClassifier(**grid_search.best_params_, random_state=seed)\n",
    "model4 = clf_best.fit(X_train, y_train)\n",
    "\n",
    "clf4 = print_auc(model4, X_train, y_train, X_test, y_test, 'DecisionTreeClassifier')\n",
    "df4 = pd.DataFrame(data=[['DecisionTreeClassifier', clf4['f1'], clf4['auc'], clf4['auc_pr'], clf4['recall_sc'][0], clf4['recall_sc'][1], clf4['precision_sc'][0], clf4['precision_sc'][1]]], \n",
    "                          columns=['model', 'f1_score', 'auc', 'auc_pr', 'recall_classe(0)', 'recall_classe(1)', 'precision_classe(0)', 'precision_classe(1)'])\n",
    "df4.style.hide_index()"
   ]
  },
  {
   "attachments": {},
   "cell_type": "markdown",
   "metadata": {
    "id": "KIIIZFOcVuhP"
   },
   "source": [
    "## **GaussianNB**"
   ]
  },
  {
   "cell_type": "code",
   "execution_count": 118,
   "metadata": {
    "id": "NkL_8QXOX8fO"
   },
   "outputs": [
    {
     "name": "stdout",
     "output_type": "stream",
     "text": [
      "Best hyperparameters:  {'var_smoothing': 1e-05}\n",
      "Best mean cross-validation score: 0.68\n",
      "Train Result:\n",
      "================================================\n",
      "Accuracy Score: 82.43%\n",
      "_______________________________________________\n",
      "CLASSIFICATION REPORT:\n",
      "                    0          1  accuracy   macro avg  weighted avg\n",
      "precision    0.957041   0.262626  0.824324    0.609833      0.898056\n",
      "recall       0.845992   0.590909  0.824324    0.718450      0.824324\n",
      "f1-score     0.898096   0.363636  0.824324    0.630866      0.852698\n",
      "support    474.000000  44.000000  0.824324  518.000000    518.000000\n",
      "_______________________________________________\n",
      "Confusion Matrix: \n",
      " [[401  73]\n",
      " [ 18  26]]\n",
      "\n",
      "Test Result:\n",
      "================================================\n",
      "Accuracy Score: 67.69%\n",
      "_______________________________________________\n",
      "CLASSIFICATION REPORT:\n",
      "                    0          1  accuracy   macro avg  weighted avg\n",
      "precision    0.922222   0.125000  0.676923    0.523611      0.848632\n",
      "recall       0.703390   0.416667  0.676923    0.560028      0.676923\n",
      "f1-score     0.798077   0.192308  0.676923    0.495192      0.742160\n",
      "support    118.000000  12.000000  0.676923  130.000000    130.000000\n",
      "_______________________________________________\n",
      "Confusion Matrix: \n",
      " [[83 35]\n",
      " [ 7  5]]\n",
      "\n"
     ]
    },
    {
     "data": {
      "text/html": [
       "<style type=\"text/css\">\n",
       "</style>\n",
       "<table id=\"T_c210c\">\n",
       "  <thead>\n",
       "    <tr>\n",
       "      <th id=\"T_c210c_level0_col0\" class=\"col_heading level0 col0\" >model</th>\n",
       "      <th id=\"T_c210c_level0_col1\" class=\"col_heading level0 col1\" >f1_score</th>\n",
       "      <th id=\"T_c210c_level0_col2\" class=\"col_heading level0 col2\" >auc</th>\n",
       "      <th id=\"T_c210c_level0_col3\" class=\"col_heading level0 col3\" >auc_pr</th>\n",
       "      <th id=\"T_c210c_level0_col4\" class=\"col_heading level0 col4\" >recall_classe(0)</th>\n",
       "      <th id=\"T_c210c_level0_col5\" class=\"col_heading level0 col5\" >recall_classe(1)</th>\n",
       "      <th id=\"T_c210c_level0_col6\" class=\"col_heading level0 col6\" >precision_classe(0)</th>\n",
       "      <th id=\"T_c210c_level0_col7\" class=\"col_heading level0 col7\" >precision_classe(1)</th>\n",
       "    </tr>\n",
       "  </thead>\n",
       "  <tbody>\n",
       "    <tr>\n",
       "      <td id=\"T_c210c_row0_col0\" class=\"data row0 col0\" >GaussianNB</td>\n",
       "      <td id=\"T_c210c_row0_col1\" class=\"data row0 col1\" >0.192308</td>\n",
       "      <td id=\"T_c210c_row0_col2\" class=\"data row0 col2\" >0.700565</td>\n",
       "      <td id=\"T_c210c_row0_col3\" class=\"data row0 col3\" >0.293542</td>\n",
       "      <td id=\"T_c210c_row0_col4\" class=\"data row0 col4\" >0.703390</td>\n",
       "      <td id=\"T_c210c_row0_col5\" class=\"data row0 col5\" >0.416667</td>\n",
       "      <td id=\"T_c210c_row0_col6\" class=\"data row0 col6\" >0.922222</td>\n",
       "      <td id=\"T_c210c_row0_col7\" class=\"data row0 col7\" >0.125000</td>\n",
       "    </tr>\n",
       "  </tbody>\n",
       "</table>\n"
      ],
      "text/plain": [
       "<pandas.io.formats.style.Styler at 0x22a87c6d250>"
      ]
     },
     "execution_count": 118,
     "metadata": {},
     "output_type": "execute_result"
    }
   ],
   "source": [
    "clf5 = GaussianNB()\n",
    "param_grid = {'var_smoothing': [1e-9, 1e-8, 1e-7, 1e-6, 1e-5]}\n",
    "\n",
    "# Define the GridSearchCV object with 5-fold cross-validation\n",
    "grid_search = GridSearchCV(clf5, param_grid=param_grid, cv=10, scoring='balanced_accuracy', n_jobs=-1)\n",
    "\n",
    "# Fit the GridSearchCV object with the training data\n",
    "grid_search.fit(X_train, y_train)\n",
    "best_params.append(grid_search.best_params_)\n",
    "\n",
    "# Print the best hyperparameters and the corresponding mean cross-validation score\n",
    "print(\"Best hyperparameters: \", grid_search.best_params_)\n",
    "print(\"Best mean cross-validation score: {:.2f}\".format(grid_search.best_score_))\n",
    "\n",
    "# Use the best hyperparameters to fit the model to the training data\n",
    "clf_best = GaussianNB(**grid_search.best_params_)\n",
    "model5 = clf_best.fit(X_train, y_train)\n",
    "\n",
    "clf5 = print_auc(model5, X_train, y_train, X_test, y_test, 'GaussianNB')\n",
    "df5 = pd.DataFrame(data=[['GaussianNB', clf5['f1'], clf5['auc'], clf5['auc_pr'], clf5['recall_sc'][0], clf5['recall_sc'][1], clf5['precision_sc'][0], clf5['precision_sc'][1]]], \n",
    "                          columns=['model', 'f1_score', 'auc', 'auc_pr', 'recall_classe(0)', 'recall_classe(1)', 'precision_classe(0)', 'precision_classe(1)'])\n",
    "df5.style.hide_index()"
   ]
  },
  {
   "attachments": {},
   "cell_type": "markdown",
   "metadata": {
    "id": "qj2YVJ9XZcIY"
   },
   "source": [
    "## **LGBMClassifier**"
   ]
  },
  {
   "cell_type": "code",
   "execution_count": 120,
   "metadata": {
    "id": "oqzDidPvZbB9"
   },
   "outputs": [
    {
     "name": "stdout",
     "output_type": "stream",
     "text": [
      "Best hyperparameters:  {'class_weight': 'balanced', 'colsample_bytree': 0.9, 'learning_rate': 0.1, 'max_depth': 7, 'min_child_samples': 10, 'n_estimators': 50, 'num_leaves': 10, 'subsample': 0.8}\n",
      "Best mean cross-validation score: 0.86\n",
      "Train Result:\n",
      "================================================\n",
      "Accuracy Score: 90.54%\n",
      "_______________________________________________\n",
      "CLASSIFICATION REPORT:\n",
      "                    0          1  accuracy   macro avg  weighted avg\n",
      "precision    0.990762   0.470588  0.905405    0.730675      0.946577\n",
      "recall       0.905063   0.909091  0.905405    0.907077      0.905405\n",
      "f1-score     0.945976   0.620155  0.905405    0.783065      0.918300\n",
      "support    474.000000  44.000000  0.905405  518.000000    518.000000\n",
      "_______________________________________________\n",
      "Confusion Matrix: \n",
      " [[429  45]\n",
      " [  4  40]]\n",
      "\n",
      "Test Result:\n",
      "================================================\n",
      "Accuracy Score: 82.31%\n",
      "_______________________________________________\n",
      "CLASSIFICATION REPORT:\n",
      "                    0          1  accuracy   macro avg  weighted avg\n",
      "precision    0.952381   0.280000  0.823077    0.616190      0.890315\n",
      "recall       0.847458   0.583333  0.823077    0.715395      0.823077\n",
      "f1-score     0.896861   0.378378  0.823077    0.637620      0.849001\n",
      "support    118.000000  12.000000  0.823077  130.000000    130.000000\n",
      "_______________________________________________\n",
      "Confusion Matrix: \n",
      " [[100  18]\n",
      " [  5   7]]\n",
      "\n"
     ]
    },
    {
     "data": {
      "text/html": [
       "<style type=\"text/css\">\n",
       "</style>\n",
       "<table id=\"T_c4d84\">\n",
       "  <thead>\n",
       "    <tr>\n",
       "      <th id=\"T_c4d84_level0_col0\" class=\"col_heading level0 col0\" >model</th>\n",
       "      <th id=\"T_c4d84_level0_col1\" class=\"col_heading level0 col1\" >f1_score</th>\n",
       "      <th id=\"T_c4d84_level0_col2\" class=\"col_heading level0 col2\" >auc</th>\n",
       "      <th id=\"T_c4d84_level0_col3\" class=\"col_heading level0 col3\" >auc_pr</th>\n",
       "      <th id=\"T_c4d84_level0_col4\" class=\"col_heading level0 col4\" >recall_classe(0)</th>\n",
       "      <th id=\"T_c4d84_level0_col5\" class=\"col_heading level0 col5\" >recall_classe(1)</th>\n",
       "      <th id=\"T_c4d84_level0_col6\" class=\"col_heading level0 col6\" >precision_classe(0)</th>\n",
       "      <th id=\"T_c4d84_level0_col7\" class=\"col_heading level0 col7\" >precision_classe(1)</th>\n",
       "    </tr>\n",
       "  </thead>\n",
       "  <tbody>\n",
       "    <tr>\n",
       "      <td id=\"T_c4d84_row0_col0\" class=\"data row0 col0\" >LGBMClassifier</td>\n",
       "      <td id=\"T_c4d84_row0_col1\" class=\"data row0 col1\" >0.378378</td>\n",
       "      <td id=\"T_c4d84_row0_col2\" class=\"data row0 col2\" >0.753531</td>\n",
       "      <td id=\"T_c4d84_row0_col3\" class=\"data row0 col3\" >0.492538</td>\n",
       "      <td id=\"T_c4d84_row0_col4\" class=\"data row0 col4\" >0.847458</td>\n",
       "      <td id=\"T_c4d84_row0_col5\" class=\"data row0 col5\" >0.583333</td>\n",
       "      <td id=\"T_c4d84_row0_col6\" class=\"data row0 col6\" >0.952381</td>\n",
       "      <td id=\"T_c4d84_row0_col7\" class=\"data row0 col7\" >0.280000</td>\n",
       "    </tr>\n",
       "  </tbody>\n",
       "</table>\n"
      ],
      "text/plain": [
       "<pandas.io.formats.style.Styler at 0x22a8772dc90>"
      ]
     },
     "execution_count": 120,
     "metadata": {},
     "output_type": "execute_result"
    }
   ],
   "source": [
    "clf6 = lgb.LGBMClassifier()\n",
    "param_grid = {'num_leaves': [10, 20, 30],\n",
    "              'max_depth': [3, 5, 7],\n",
    "              'learning_rate': [0.01, 0.1],\n",
    "              'n_estimators': [50, 100, 200],\n",
    "              'min_child_samples': [10, 20, 30],\n",
    "              'subsample': [0.8, 0.9, 1.0],\n",
    "              'colsample_bytree': [0.8, 0.9, 1.0],\n",
    "              'class_weight' : ['balanced', None, class_weights]}\n",
    "         \n",
    "# Define the GridSearchCV object with 5-fold cross-validation\n",
    "grid_search = GridSearchCV(clf6, param_grid=param_grid, cv=10, scoring='balanced_accuracy', n_jobs=-1)\n",
    "\n",
    "# Fit the GridSearchCV object with the training data\n",
    "grid_search.fit(X_train, y_train)\n",
    "best_params.append(grid_search.best_params_)\n",
    "\n",
    "# Print the best hyperparameters and the corresponding mean cross-validation score\n",
    "print(\"Best hyperparameters: \", grid_search.best_params_)\n",
    "print(\"Best mean cross-validation score: {:.2f}\".format(grid_search.best_score_))\n",
    "\n",
    "# Use the best hyperparameters to fit the model to the training data\n",
    "clf_best = lgb.LGBMClassifier(**grid_search.best_params_)\n",
    "model6 = clf_best.fit(X_train, y_train)\n",
    "\n",
    "clf6 = print_auc(model6, X_train, y_train, X_test, y_test, 'LGBMClassifier')\n",
    "df6 = pd.DataFrame(data=[['LGBMClassifier', clf6['f1'], clf6['auc'], clf6['auc_pr'], clf6['recall_sc'][0], clf6['recall_sc'][1], clf6['precision_sc'][0], clf6['precision_sc'][1]]], \n",
    "                          columns=['model', 'f1_score', 'auc', 'auc_pr', 'recall_classe(0)', 'recall_classe(1)', 'precision_classe(0)', 'precision_classe(1)'])\n",
    "df6.style.hide_index()"
   ]
  },
  {
   "attachments": {},
   "cell_type": "markdown",
   "metadata": {
    "id": "tAN365LxheXY"
   },
   "source": [
    "## **KNeighborsClassifier**"
   ]
  },
  {
   "cell_type": "code",
   "execution_count": 121,
   "metadata": {
    "id": "_QTUZs-HhtEf"
   },
   "outputs": [
    {
     "name": "stdout",
     "output_type": "stream",
     "text": [
      "Best hyperparameters:  {'algorithm': 'brute', 'leaf_size': 10, 'n_neighbors': 5, 'p': 1, 'weights': 'distance'}\n",
      "Best mean cross-validation score: 0.66\n",
      "Train Result:\n",
      "================================================\n",
      "Accuracy Score: 96.72%\n",
      "_______________________________________________\n",
      "CLASSIFICATION REPORT:\n",
      "                    0          1  accuracy   macro avg  weighted avg\n",
      "precision    0.969199   0.935484  0.967181    0.952342      0.966335\n",
      "recall       0.995781   0.659091  0.967181    0.827436      0.967181\n",
      "f1-score     0.982310   0.773333  0.967181    0.877822      0.964559\n",
      "support    474.000000  44.000000  0.967181  518.000000    518.000000\n",
      "_______________________________________________\n",
      "Confusion Matrix: \n",
      " [[472   2]\n",
      " [ 15  29]]\n",
      "\n",
      "Test Result:\n",
      "================================================\n",
      "Accuracy Score: 93.08%\n",
      "_______________________________________________\n",
      "CLASSIFICATION REPORT:\n",
      "                    0          1  accuracy   macro avg  weighted avg\n",
      "precision    0.943089   0.714286  0.930769    0.828688      0.921969\n",
      "recall       0.983051   0.416667  0.930769    0.699859      0.930769\n",
      "f1-score     0.962656   0.526316  0.930769    0.744486      0.922378\n",
      "support    118.000000  12.000000  0.930769  130.000000    130.000000\n",
      "_______________________________________________\n",
      "Confusion Matrix: \n",
      " [[116   2]\n",
      " [  7   5]]\n",
      "\n"
     ]
    },
    {
     "data": {
      "text/html": [
       "<style type=\"text/css\">\n",
       "</style>\n",
       "<table id=\"T_34e85\">\n",
       "  <thead>\n",
       "    <tr>\n",
       "      <th id=\"T_34e85_level0_col0\" class=\"col_heading level0 col0\" >model</th>\n",
       "      <th id=\"T_34e85_level0_col1\" class=\"col_heading level0 col1\" >f1_score</th>\n",
       "      <th id=\"T_34e85_level0_col2\" class=\"col_heading level0 col2\" >auc</th>\n",
       "      <th id=\"T_34e85_level0_col3\" class=\"col_heading level0 col3\" >auc_pr</th>\n",
       "      <th id=\"T_34e85_level0_col4\" class=\"col_heading level0 col4\" >recall_classe(0)</th>\n",
       "      <th id=\"T_34e85_level0_col5\" class=\"col_heading level0 col5\" >recall_classe(1)</th>\n",
       "      <th id=\"T_34e85_level0_col6\" class=\"col_heading level0 col6\" >precision_classe(0)</th>\n",
       "      <th id=\"T_34e85_level0_col7\" class=\"col_heading level0 col7\" >precision_classe(1)</th>\n",
       "    </tr>\n",
       "  </thead>\n",
       "  <tbody>\n",
       "    <tr>\n",
       "      <td id=\"T_34e85_row0_col0\" class=\"data row0 col0\" >KNeiborsClassifier</td>\n",
       "      <td id=\"T_34e85_row0_col1\" class=\"data row0 col1\" >0.526316</td>\n",
       "      <td id=\"T_34e85_row0_col2\" class=\"data row0 col2\" >0.766949</td>\n",
       "      <td id=\"T_34e85_row0_col3\" class=\"data row0 col3\" >0.585534</td>\n",
       "      <td id=\"T_34e85_row0_col4\" class=\"data row0 col4\" >0.983051</td>\n",
       "      <td id=\"T_34e85_row0_col5\" class=\"data row0 col5\" >0.416667</td>\n",
       "      <td id=\"T_34e85_row0_col6\" class=\"data row0 col6\" >0.943089</td>\n",
       "      <td id=\"T_34e85_row0_col7\" class=\"data row0 col7\" >0.714286</td>\n",
       "    </tr>\n",
       "  </tbody>\n",
       "</table>\n"
      ],
      "text/plain": [
       "<pandas.io.formats.style.Styler at 0x22a831d3cd0>"
      ]
     },
     "execution_count": 121,
     "metadata": {},
     "output_type": "execute_result"
    }
   ],
   "source": [
    "clf7 = KNeighborsClassifier()\n",
    "param_grid = {'n_neighbors': [3, 5, 7],\n",
    "              'weights': ['uniform', 'distance'],\n",
    "              'p': [1, 2],\n",
    "              'algorithm': ['brute'],\n",
    "              'leaf_size': [10, 30, 50]}\n",
    "\n",
    "# Define the GridSearchCV object with 5-fold cross-validation\n",
    "grid_search = GridSearchCV(clf7, param_grid=param_grid, cv=10, scoring='balanced_accuracy', n_jobs=-1)\n",
    "\n",
    "# Fit the GridSearchCV object with the training data\n",
    "grid_search.fit(X_train, y_train)\n",
    "best_params.append(grid_search.best_params_)\n",
    "\n",
    "# Print the best hyperparameters and the corresponding mean cross-validation score\n",
    "print(\"Best hyperparameters: \", grid_search.best_params_)\n",
    "print(\"Best mean cross-validation score: {:.2f}\".format(grid_search.best_score_))\n",
    "\n",
    "# Use the best hyperparameters to fit the model to the training data\n",
    "clf_best = KNeighborsClassifier(**grid_search.best_params_)\n",
    "model7 = clf_best.fit(X_train, y_train)\n",
    "\n",
    "clf7 = print_auc(model7, X_train, y_train, X_test, y_test, 'KNeiborsClassifier')\n",
    "df7 = pd.DataFrame(data=[['KNeiborsClassifier', clf7['f1'], clf7['auc'], clf7['auc_pr'], clf7['recall_sc'][0], clf7['recall_sc'][1], clf7['precision_sc'][0], clf7['precision_sc'][1]]], \n",
    "                          columns=['model', 'f1_score', 'auc', 'auc_pr', 'recall_classe(0)', 'recall_classe(1)', 'precision_classe(0)', 'precision_classe(1)'])\n",
    "df7.style.hide_index()"
   ]
  },
  {
   "attachments": {},
   "cell_type": "markdown",
   "metadata": {
    "id": "QHWcEGBUrLFm"
   },
   "source": [
    "## **RandomForestClassifier**"
   ]
  },
  {
   "cell_type": "code",
   "execution_count": 122,
   "metadata": {
    "id": "PFkOjSCzrTaT"
   },
   "outputs": [
    {
     "name": "stdout",
     "output_type": "stream",
     "text": [
      "Best hyperparameters:  {'criterion': 'entropy', 'max_depth': 7, 'max_features': 'sqrt', 'min_samples_leaf': 4, 'min_samples_split': 2, 'n_estimators': 100}\n",
      "Best mean cross-validation score: 0.65\n",
      "Train Result:\n",
      "================================================\n",
      "Accuracy Score: 93.82%\n",
      "_______________________________________________\n",
      "CLASSIFICATION REPORT:\n",
      "                    0          1  accuracy   macro avg  weighted avg\n",
      "precision    0.942000   0.833333  0.938224    0.887667      0.932770\n",
      "recall       0.993671   0.340909  0.938224    0.667290      0.938224\n",
      "f1-score     0.967146   0.483871  0.938224    0.725508      0.926095\n",
      "support    474.000000  44.000000  0.938224  518.000000    518.000000\n",
      "_______________________________________________\n",
      "Confusion Matrix: \n",
      " [[471   3]\n",
      " [ 29  15]]\n",
      "\n",
      "Test Result:\n",
      "================================================\n",
      "Accuracy Score: 93.08%\n",
      "_______________________________________________\n",
      "CLASSIFICATION REPORT:\n",
      "                    0          1  accuracy   macro avg  weighted avg\n",
      "precision    0.950413   0.666667  0.930769    0.808540      0.924221\n",
      "recall       0.974576   0.500000  0.930769    0.737288      0.930769\n",
      "f1-score     0.962343   0.571429  0.930769    0.766886      0.926259\n",
      "support    118.000000  12.000000  0.930769  130.000000    130.000000\n",
      "_______________________________________________\n",
      "Confusion Matrix: \n",
      " [[115   3]\n",
      " [  6   6]]\n",
      "\n"
     ]
    },
    {
     "data": {
      "text/html": [
       "<style type=\"text/css\">\n",
       "</style>\n",
       "<table id=\"T_4b9da\">\n",
       "  <thead>\n",
       "    <tr>\n",
       "      <th id=\"T_4b9da_level0_col0\" class=\"col_heading level0 col0\" >model</th>\n",
       "      <th id=\"T_4b9da_level0_col1\" class=\"col_heading level0 col1\" >f1_score</th>\n",
       "      <th id=\"T_4b9da_level0_col2\" class=\"col_heading level0 col2\" >auc</th>\n",
       "      <th id=\"T_4b9da_level0_col3\" class=\"col_heading level0 col3\" >auc_pr</th>\n",
       "      <th id=\"T_4b9da_level0_col4\" class=\"col_heading level0 col4\" >recall_classe(0)</th>\n",
       "      <th id=\"T_4b9da_level0_col5\" class=\"col_heading level0 col5\" >recall_classe(1)</th>\n",
       "      <th id=\"T_4b9da_level0_col6\" class=\"col_heading level0 col6\" >precision_classe(0)</th>\n",
       "      <th id=\"T_4b9da_level0_col7\" class=\"col_heading level0 col7\" >precision_classe(1)</th>\n",
       "    </tr>\n",
       "  </thead>\n",
       "  <tbody>\n",
       "    <tr>\n",
       "      <td id=\"T_4b9da_row0_col0\" class=\"data row0 col0\" >RandomForestClassifier</td>\n",
       "      <td id=\"T_4b9da_row0_col1\" class=\"data row0 col1\" >0.571429</td>\n",
       "      <td id=\"T_4b9da_row0_col2\" class=\"data row0 col2\" >0.783192</td>\n",
       "      <td id=\"T_4b9da_row0_col3\" class=\"data row0 col3\" >0.505365</td>\n",
       "      <td id=\"T_4b9da_row0_col4\" class=\"data row0 col4\" >0.974576</td>\n",
       "      <td id=\"T_4b9da_row0_col5\" class=\"data row0 col5\" >0.500000</td>\n",
       "      <td id=\"T_4b9da_row0_col6\" class=\"data row0 col6\" >0.950413</td>\n",
       "      <td id=\"T_4b9da_row0_col7\" class=\"data row0 col7\" >0.666667</td>\n",
       "    </tr>\n",
       "  </tbody>\n",
       "</table>\n"
      ],
      "text/plain": [
       "<pandas.io.formats.style.Styler at 0x22a830dd490>"
      ]
     },
     "execution_count": 122,
     "metadata": {},
     "output_type": "execute_result"
    }
   ],
   "source": [
    "clf8 = RandomForestClassifier(random_state=seed)\n",
    "param_grid = {'n_estimators': [50, 100, 200],\n",
    "              'max_depth': [3, 5, 7],\n",
    "              'min_samples_split': [2, 5, 10],\n",
    "              'min_samples_leaf': [1, 2, 4],\n",
    "              'max_features': ['sqrt', 'log2'],\n",
    "              'criterion': ['gini', 'entropy']}\n",
    "\n",
    "# Define the GridSearchCV object with 5-fold cross-validation\n",
    "grid_search = GridSearchCV(clf8, param_grid=param_grid, cv=10, scoring='balanced_accuracy', n_jobs=-1)\n",
    "\n",
    "# Fit the GridSearchCV object with the training data\n",
    "grid_search.fit(X_train, y_train)\n",
    "best_params.append(grid_search.best_params_)\n",
    "\n",
    "# Print the best hyperparameters and the corresponding mean cross-validation score\n",
    "print(\"Best hyperparameters: \", grid_search.best_params_)\n",
    "print(\"Best mean cross-validation score: {:.2f}\".format(grid_search.best_score_))\n",
    "\n",
    "# Use the best hyperparameters to fit the model to the training data\n",
    "clf_best = RandomForestClassifier(**grid_search.best_params_, random_state=seed)\n",
    "model8 = clf_best.fit(X_train, y_train)\n",
    "\n",
    "clf8 = print_auc(model8, X_train, y_train, X_test, y_test, 'RandomForestClassifier')\n",
    "df8 = pd.DataFrame(data=[['RandomForestClassifier', clf8['f1'], clf8['auc'], clf8['auc_pr'], clf8['recall_sc'][0], clf8['recall_sc'][1], clf8['precision_sc'][0], clf8['precision_sc'][1]]], \n",
    "                          columns=['model', 'f1_score', 'auc', 'auc_pr', 'recall_classe(0)', 'recall_classe(1)', 'precision_classe(0)', 'precision_classe(1)'])\n",
    "df8.style.hide_index()"
   ]
  },
  {
   "attachments": {},
   "cell_type": "markdown",
   "metadata": {
    "id": "naDCYmAFvWpV"
   },
   "source": [
    "## **SVC**"
   ]
  },
  {
   "cell_type": "code",
   "execution_count": 123,
   "metadata": {
    "id": "xkoMquuFvrwg"
   },
   "outputs": [
    {
     "name": "stdout",
     "output_type": "stream",
     "text": [
      "Best hyperparameters:  {'C': 10, 'class_weight': 'balanced', 'degree': 2, 'gamma': 'scale', 'kernel': 'linear'}\n",
      "Best mean cross-validation score: 0.84\n",
      "Train Result:\n",
      "================================================\n",
      "Accuracy Score: 91.70%\n",
      "_______________________________________________\n",
      "CLASSIFICATION REPORT:\n",
      "                    0          1  accuracy   macro avg  weighted avg\n",
      "precision    0.990888   0.506329  0.916988    0.748609      0.949729\n",
      "recall       0.917722   0.909091  0.916988    0.913406      0.916988\n",
      "f1-score     0.952903   0.650407  0.916988    0.801655      0.927208\n",
      "support    474.000000  44.000000  0.916988  518.000000    518.000000\n",
      "_______________________________________________\n",
      "Confusion Matrix: \n",
      " [[435  39]\n",
      " [  4  40]]\n",
      "\n",
      "Test Result:\n",
      "================================================\n",
      "Accuracy Score: 86.92%\n",
      "_______________________________________________\n",
      "CLASSIFICATION REPORT:\n",
      "                    0          1  accuracy   macro avg  weighted avg\n",
      "precision    0.963303   0.380952  0.869231    0.672128      0.909547\n",
      "recall       0.889831   0.666667  0.869231    0.778249      0.869231\n",
      "f1-score     0.925110   0.484848  0.869231    0.704979      0.884471\n",
      "support    118.000000  12.000000  0.869231  130.000000    130.000000\n",
      "_______________________________________________\n",
      "Confusion Matrix: \n",
      " [[105  13]\n",
      " [  4   8]]\n",
      "\n"
     ]
    },
    {
     "data": {
      "text/html": [
       "<style type=\"text/css\">\n",
       "</style>\n",
       "<table id=\"T_0d91d\">\n",
       "  <thead>\n",
       "    <tr>\n",
       "      <th id=\"T_0d91d_level0_col0\" class=\"col_heading level0 col0\" >model</th>\n",
       "      <th id=\"T_0d91d_level0_col1\" class=\"col_heading level0 col1\" >f1_score</th>\n",
       "      <th id=\"T_0d91d_level0_col2\" class=\"col_heading level0 col2\" >auc</th>\n",
       "      <th id=\"T_0d91d_level0_col3\" class=\"col_heading level0 col3\" >auc_pr</th>\n",
       "      <th id=\"T_0d91d_level0_col4\" class=\"col_heading level0 col4\" >recall_classe(0)</th>\n",
       "      <th id=\"T_0d91d_level0_col5\" class=\"col_heading level0 col5\" >recall_classe(1)</th>\n",
       "      <th id=\"T_0d91d_level0_col6\" class=\"col_heading level0 col6\" >precision_classe(0)</th>\n",
       "      <th id=\"T_0d91d_level0_col7\" class=\"col_heading level0 col7\" >precision_classe(1)</th>\n",
       "    </tr>\n",
       "  </thead>\n",
       "  <tbody>\n",
       "    <tr>\n",
       "      <td id=\"T_0d91d_row0_col0\" class=\"data row0 col0\" >SVM</td>\n",
       "      <td id=\"T_0d91d_row0_col1\" class=\"data row0 col1\" >0.484848</td>\n",
       "      <td id=\"T_0d91d_row0_col2\" class=\"data row0 col2\" >0.814266</td>\n",
       "      <td id=\"T_0d91d_row0_col3\" class=\"data row0 col3\" >0.554175</td>\n",
       "      <td id=\"T_0d91d_row0_col4\" class=\"data row0 col4\" >0.889831</td>\n",
       "      <td id=\"T_0d91d_row0_col5\" class=\"data row0 col5\" >0.666667</td>\n",
       "      <td id=\"T_0d91d_row0_col6\" class=\"data row0 col6\" >0.963303</td>\n",
       "      <td id=\"T_0d91d_row0_col7\" class=\"data row0 col7\" >0.380952</td>\n",
       "    </tr>\n",
       "  </tbody>\n",
       "</table>\n"
      ],
      "text/plain": [
       "<pandas.io.formats.style.Styler at 0x22a87657a90>"
      ]
     },
     "execution_count": 123,
     "metadata": {},
     "output_type": "execute_result"
    }
   ],
   "source": [
    "clf9 = SVC(probability=True)\n",
    "param_grid = {'C': [0.1, 1, 10],\n",
    "              'kernel': ['linear', 'poly', 'rbf'],\n",
    "              'degree': [2, 3, 4],\n",
    "              'gamma': ['scale', 'auto'],\n",
    "              'class_weight': [None, 'balanced']}\n",
    "\n",
    "# Define the GridSearchCV object with 5-fold cross-validation\n",
    "grid_search = GridSearchCV(clf9, param_grid=param_grid, cv=10, scoring='balanced_accuracy', n_jobs=-1)\n",
    "\n",
    "# Fit the GridSearchCV object with the training data\n",
    "grid_search.fit(X_train, y_train)\n",
    "best_params.append(grid_search.best_params_)\n",
    "\n",
    "# Print the best hyperparameters and the corresponding mean cross-validation score\n",
    "print(\"Best hyperparameters: \", grid_search.best_params_)\n",
    "print(\"Best mean cross-validation score: {:.2f}\".format(grid_search.best_score_))\n",
    "\n",
    "# Use the best hyperparameters to fit the model to the training data\n",
    "clf_best = SVC(**grid_search.best_params_, probability=True)\n",
    "model9 = clf_best.fit(X_train, y_train)\n",
    "\n",
    "clf9 = print_auc(model9, X_train, y_train, X_test, y_test, 'SVM')\n",
    "df9 = pd.DataFrame(data=[['SVM', clf9['f1'], clf9['auc'], clf9['auc_pr'], clf9['recall_sc'][0], clf9['recall_sc'][1], clf9['precision_sc'][0], clf9['precision_sc'][1]]], \n",
    "                          columns=['model', 'f1_score', 'auc', 'auc_pr', 'recall_classe(0)', 'recall_classe(1)', 'precision_classe(0)', 'precision_classe(1)'])\n",
    "df9.style.hide_index()"
   ]
  },
  {
   "attachments": {},
   "cell_type": "markdown",
   "metadata": {
    "id": "trgFN6rWy8Ws"
   },
   "source": [
    "## **LogisticRegression**"
   ]
  },
  {
   "cell_type": "code",
   "execution_count": 124,
   "metadata": {
    "id": "jByhlu6xzBkq"
   },
   "outputs": [
    {
     "name": "stdout",
     "output_type": "stream",
     "text": [
      "Best hyperparameters:  {'C': 10, 'class_weight': 'balanced', 'max_iter': 100, 'penalty': 'l2', 'solver': 'liblinear'}\n",
      "Best mean cross-validation score: 0.83\n",
      "Train Result:\n",
      "================================================\n",
      "Accuracy Score: 91.51%\n",
      "_______________________________________________\n",
      "CLASSIFICATION REPORT:\n",
      "                    0          1  accuracy   macro avg  weighted avg\n",
      "precision    0.990868   0.500000  0.915058    0.745434      0.949172\n",
      "recall       0.915612   0.909091  0.915058    0.912351      0.915058\n",
      "f1-score     0.951754   0.645161  0.915058    0.798458      0.925712\n",
      "support    474.000000  44.000000  0.915058  518.000000    518.000000\n",
      "_______________________________________________\n",
      "Confusion Matrix: \n",
      " [[434  40]\n",
      " [  4  40]]\n",
      "\n",
      "Test Result:\n",
      "================================================\n",
      "Accuracy Score: 86.15%\n",
      "_______________________________________________\n",
      "CLASSIFICATION REPORT:\n",
      "                    0          1  accuracy   macro avg  weighted avg\n",
      "precision    0.962963   0.363636  0.861538    0.663300      0.907641\n",
      "recall       0.881356   0.666667  0.861538    0.774011      0.861538\n",
      "f1-score     0.920354   0.470588  0.861538    0.695471      0.878837\n",
      "support    118.000000  12.000000  0.861538  130.000000    130.000000\n",
      "_______________________________________________\n",
      "Confusion Matrix: \n",
      " [[104  14]\n",
      " [  4   8]]\n",
      "\n"
     ]
    },
    {
     "data": {
      "text/html": [
       "<style type=\"text/css\">\n",
       "</style>\n",
       "<table id=\"T_7d7ed\">\n",
       "  <thead>\n",
       "    <tr>\n",
       "      <th id=\"T_7d7ed_level0_col0\" class=\"col_heading level0 col0\" >model</th>\n",
       "      <th id=\"T_7d7ed_level0_col1\" class=\"col_heading level0 col1\" >f1_score</th>\n",
       "      <th id=\"T_7d7ed_level0_col2\" class=\"col_heading level0 col2\" >auc</th>\n",
       "      <th id=\"T_7d7ed_level0_col3\" class=\"col_heading level0 col3\" >auc_pr</th>\n",
       "      <th id=\"T_7d7ed_level0_col4\" class=\"col_heading level0 col4\" >recall_classe(0)</th>\n",
       "      <th id=\"T_7d7ed_level0_col5\" class=\"col_heading level0 col5\" >recall_classe(1)</th>\n",
       "      <th id=\"T_7d7ed_level0_col6\" class=\"col_heading level0 col6\" >precision_classe(0)</th>\n",
       "      <th id=\"T_7d7ed_level0_col7\" class=\"col_heading level0 col7\" >precision_classe(1)</th>\n",
       "    </tr>\n",
       "  </thead>\n",
       "  <tbody>\n",
       "    <tr>\n",
       "      <td id=\"T_7d7ed_row0_col0\" class=\"data row0 col0\" >LogisticRegression</td>\n",
       "      <td id=\"T_7d7ed_row0_col1\" class=\"data row0 col1\" >0.470588</td>\n",
       "      <td id=\"T_7d7ed_row0_col2\" class=\"data row0 col2\" >0.818503</td>\n",
       "      <td id=\"T_7d7ed_row0_col3\" class=\"data row0 col3\" >0.610812</td>\n",
       "      <td id=\"T_7d7ed_row0_col4\" class=\"data row0 col4\" >0.881356</td>\n",
       "      <td id=\"T_7d7ed_row0_col5\" class=\"data row0 col5\" >0.666667</td>\n",
       "      <td id=\"T_7d7ed_row0_col6\" class=\"data row0 col6\" >0.962963</td>\n",
       "      <td id=\"T_7d7ed_row0_col7\" class=\"data row0 col7\" >0.363636</td>\n",
       "    </tr>\n",
       "  </tbody>\n",
       "</table>\n"
      ],
      "text/plain": [
       "<pandas.io.formats.style.Styler at 0x22a870495d0>"
      ]
     },
     "execution_count": 124,
     "metadata": {},
     "output_type": "execute_result"
    }
   ],
   "source": [
    "clf10 = LogisticRegression()\n",
    "param_grid = {'penalty': ['l1', 'l2'],\n",
    "              'C': [0.1, 1, 10],\n",
    "              'solver': ['liblinear', 'lbfgs', 'newton-cg', 'sag'],\n",
    "              'max_iter': [100, 200, 500],\n",
    "              'class_weight': [None, 'balanced']}\n",
    "\n",
    "grid_search = GridSearchCV(clf10, param_grid=param_grid, cv=10, scoring='balanced_accuracy', n_jobs=-1)\n",
    "\n",
    "# Fit the GridSearchCV object with the training data\n",
    "grid_search.fit(X_train, y_train)\n",
    "best_params.append(grid_search.best_params_)\n",
    "\n",
    "# Print the best hyperparameters and the corresponding mean cross-validation score\n",
    "print(\"Best hyperparameters: \", grid_search.best_params_)\n",
    "print(\"Best mean cross-validation score: {:.2f}\".format(grid_search.best_score_))\n",
    "\n",
    "# Use the best hyperparameters to fit the model to the training data\n",
    "clf_best = LogisticRegression(**grid_search.best_params_, random_state=seed)\n",
    "model10 = clf_best.fit(X_train, y_train)\n",
    "\n",
    "clf10 = print_auc(model10, X_train, y_train, X_test, y_test, 'LogisticRegression')\n",
    "df10 = pd.DataFrame(data=[['LogisticRegression', clf10['f1'], clf10['auc'], clf10['auc_pr'], clf10['recall_sc'][0], clf10['recall_sc'][1], clf10['precision_sc'][0], clf10['precision_sc'][1]]], \n",
    "                          columns=['model', 'f1_score', 'auc', 'auc_pr', 'recall_classe(0)', 'recall_classe(1)', 'precision_classe(0)', 'precision_classe(1)'])\n",
    "df10.style.hide_index()"
   ]
  },
  {
   "cell_type": "code",
   "execution_count": 125,
   "metadata": {
    "id": "idFcRaGqEizz"
   },
   "outputs": [
    {
     "data": {
      "text/html": [
       "<div>\n",
       "<style scoped>\n",
       "    .dataframe tbody tr th:only-of-type {\n",
       "        vertical-align: middle;\n",
       "    }\n",
       "\n",
       "    .dataframe tbody tr th {\n",
       "        vertical-align: top;\n",
       "    }\n",
       "\n",
       "    .dataframe thead th {\n",
       "        text-align: right;\n",
       "    }\n",
       "</style>\n",
       "<table border=\"1\" class=\"dataframe\">\n",
       "  <thead>\n",
       "    <tr style=\"text-align: right;\">\n",
       "      <th></th>\n",
       "      <th>model</th>\n",
       "      <th>f1_score</th>\n",
       "      <th>auc</th>\n",
       "      <th>auc_pr</th>\n",
       "      <th>recall_classe(0)</th>\n",
       "      <th>recall_classe(1)</th>\n",
       "      <th>precision_classe(0)</th>\n",
       "      <th>precision_classe(1)</th>\n",
       "    </tr>\n",
       "  </thead>\n",
       "  <tbody>\n",
       "    <tr>\n",
       "      <th>0</th>\n",
       "      <td>ExtraTreesClassifier</td>\n",
       "      <td>0.350000</td>\n",
       "      <td>0.743997</td>\n",
       "      <td>0.505599</td>\n",
       "      <td>0.822034</td>\n",
       "      <td>0.583333</td>\n",
       "      <td>0.950980</td>\n",
       "      <td>0.250000</td>\n",
       "    </tr>\n",
       "    <tr>\n",
       "      <th>0</th>\n",
       "      <td>XGBClassifier</td>\n",
       "      <td>0.424242</td>\n",
       "      <td>0.793079</td>\n",
       "      <td>0.498210</td>\n",
       "      <td>0.881356</td>\n",
       "      <td>0.583333</td>\n",
       "      <td>0.954128</td>\n",
       "      <td>0.333333</td>\n",
       "    </tr>\n",
       "    <tr>\n",
       "      <th>0</th>\n",
       "      <td>AdaBoostClassifier</td>\n",
       "      <td>0.476190</td>\n",
       "      <td>0.585452</td>\n",
       "      <td>0.283489</td>\n",
       "      <td>0.966102</td>\n",
       "      <td>0.416667</td>\n",
       "      <td>0.942149</td>\n",
       "      <td>0.555556</td>\n",
       "    </tr>\n",
       "    <tr>\n",
       "      <th>0</th>\n",
       "      <td>DecisionTreeClassifier</td>\n",
       "      <td>0.500000</td>\n",
       "      <td>0.651130</td>\n",
       "      <td>0.461142</td>\n",
       "      <td>0.974576</td>\n",
       "      <td>0.416667</td>\n",
       "      <td>0.942623</td>\n",
       "      <td>0.625000</td>\n",
       "    </tr>\n",
       "    <tr>\n",
       "      <th>0</th>\n",
       "      <td>GaussianNB</td>\n",
       "      <td>0.192308</td>\n",
       "      <td>0.700565</td>\n",
       "      <td>0.293542</td>\n",
       "      <td>0.703390</td>\n",
       "      <td>0.416667</td>\n",
       "      <td>0.922222</td>\n",
       "      <td>0.125000</td>\n",
       "    </tr>\n",
       "    <tr>\n",
       "      <th>0</th>\n",
       "      <td>LGBMClassifier</td>\n",
       "      <td>0.378378</td>\n",
       "      <td>0.753531</td>\n",
       "      <td>0.492538</td>\n",
       "      <td>0.847458</td>\n",
       "      <td>0.583333</td>\n",
       "      <td>0.952381</td>\n",
       "      <td>0.280000</td>\n",
       "    </tr>\n",
       "    <tr>\n",
       "      <th>0</th>\n",
       "      <td>KNeiborsClassifier</td>\n",
       "      <td>0.526316</td>\n",
       "      <td>0.766949</td>\n",
       "      <td>0.585534</td>\n",
       "      <td>0.983051</td>\n",
       "      <td>0.416667</td>\n",
       "      <td>0.943089</td>\n",
       "      <td>0.714286</td>\n",
       "    </tr>\n",
       "    <tr>\n",
       "      <th>0</th>\n",
       "      <td>RandomForestClassifier</td>\n",
       "      <td>0.571429</td>\n",
       "      <td>0.783192</td>\n",
       "      <td>0.505365</td>\n",
       "      <td>0.974576</td>\n",
       "      <td>0.500000</td>\n",
       "      <td>0.950413</td>\n",
       "      <td>0.666667</td>\n",
       "    </tr>\n",
       "    <tr>\n",
       "      <th>0</th>\n",
       "      <td>SVM</td>\n",
       "      <td>0.484848</td>\n",
       "      <td>0.814266</td>\n",
       "      <td>0.554175</td>\n",
       "      <td>0.889831</td>\n",
       "      <td>0.666667</td>\n",
       "      <td>0.963303</td>\n",
       "      <td>0.380952</td>\n",
       "    </tr>\n",
       "    <tr>\n",
       "      <th>0</th>\n",
       "      <td>LogisticRegression</td>\n",
       "      <td>0.470588</td>\n",
       "      <td>0.818503</td>\n",
       "      <td>0.610812</td>\n",
       "      <td>0.881356</td>\n",
       "      <td>0.666667</td>\n",
       "      <td>0.962963</td>\n",
       "      <td>0.363636</td>\n",
       "    </tr>\n",
       "  </tbody>\n",
       "</table>\n",
       "</div>"
      ],
      "text/plain": [
       "                    model  f1_score       auc    auc_pr  recall_classe(0)  \\\n",
       "0    ExtraTreesClassifier  0.350000  0.743997  0.505599          0.822034   \n",
       "0           XGBClassifier  0.424242  0.793079  0.498210          0.881356   \n",
       "0      AdaBoostClassifier  0.476190  0.585452  0.283489          0.966102   \n",
       "0  DecisionTreeClassifier  0.500000  0.651130  0.461142          0.974576   \n",
       "0              GaussianNB  0.192308  0.700565  0.293542          0.703390   \n",
       "0          LGBMClassifier  0.378378  0.753531  0.492538          0.847458   \n",
       "0      KNeiborsClassifier  0.526316  0.766949  0.585534          0.983051   \n",
       "0  RandomForestClassifier  0.571429  0.783192  0.505365          0.974576   \n",
       "0                     SVM  0.484848  0.814266  0.554175          0.889831   \n",
       "0      LogisticRegression  0.470588  0.818503  0.610812          0.881356   \n",
       "\n",
       "   recall_classe(1)  precision_classe(0)  precision_classe(1)  \n",
       "0          0.583333             0.950980             0.250000  \n",
       "0          0.583333             0.954128             0.333333  \n",
       "0          0.416667             0.942149             0.555556  \n",
       "0          0.416667             0.942623             0.625000  \n",
       "0          0.416667             0.922222             0.125000  \n",
       "0          0.583333             0.952381             0.280000  \n",
       "0          0.416667             0.943089             0.714286  \n",
       "0          0.500000             0.950413             0.666667  \n",
       "0          0.666667             0.963303             0.380952  \n",
       "0          0.666667             0.962963             0.363636  "
      ]
     },
     "execution_count": 125,
     "metadata": {},
     "output_type": "execute_result"
    }
   ],
   "source": [
    "df = [df1, df2, df3, df4, df5, df6, df7, df8, df9, df10]\n",
    "df_finale = pd.concat(df)\n",
    "df_finale"
   ]
  },
  {
   "cell_type": "code",
   "execution_count": 126,
   "metadata": {},
   "outputs": [],
   "source": [
    "df_finale.to_csv('df_finale.csv', index=False)"
   ]
  },
  {
   "cell_type": "code",
   "execution_count": 127,
   "metadata": {
    "id": "hEIYI-NQMhy-"
   },
   "outputs": [
    {
     "data": {
      "image/png": "[encoded data removed]",
      "text/plain": [
       "<Figure size 1600x900 with 1 Axes>"
      ]
     },
     "metadata": {},
     "output_type": "display_data"
    }
   ],
   "source": [
    "plt.rcParams[\"figure.figsize\"] = [16, 9]\n",
    "plt.plot(clf6[\"fpr\"], clf6[\"tpr\"], label=\"LGBMClassifier, auc=\"+str(clf10[\"auc\"]))\n",
    "plt.plot(clf9[\"fpr\"], clf9[\"tpr\"], label=\"SVM, auc=\"+str(clf2[\"auc\"]))\n",
    "plt.plot(clf5[\"fpr\"], clf5[\"tpr\"], label=\"GaussianNB, auc=\"+str(clf3[\"auc\"]))\n",
    "plt.plot(clf1[\"fpr\"], clf1[\"tpr\"], label=\"ExtraTrees, auc=\"+str(clf6[\"auc\"]))\n",
    "plt.plot(clf7[\"fpr\"], clf7[\"tpr\"], label=\"KNN, auc=\"+str(clf5[\"auc\"]))\n",
    "plt.plot(clf4[\"fpr\"], clf4[\"tpr\"], label=\"DT, auc=\"+str(clf8[\"auc\"]))\n",
    "plt.plot(clf10[\"fpr\"], clf10[\"tpr\"], label=\"LR, auc=\"+str(clf9[\"auc\"]))\n",
    "plt.plot(clf8[\"fpr\"], clf8[\"tpr\"], label=\"RF, auc=\"+str(clf4[\"auc\"]))\n",
    "plt.plot(clf3[\"fpr\"], clf3[\"tpr\"], label=\"AdaBoost, auc=\"+str(clf7[\"auc\"]))\n",
    "plt.plot(clf2[\"fpr\"], clf2[\"tpr\"], label=\"XGB, auc=\"+str(clf2[\"auc\"]))\n",
    "\n",
    "plt.xlabel(\"tpr\")\n",
    "plt.ylabel(\"fpr\")\n",
    "plt.legend(loc=4)\n",
    "plt.show()"
   ]
  },
  {
   "attachments": {},
   "cell_type": "markdown",
   "metadata": {},
   "source": [
    "# **RandomOverSampling**"
   ]
  },
  {
   "cell_type": "code",
   "execution_count": 128,
   "metadata": {},
   "outputs": [],
   "source": [
    "X_train = X_train_ros.reset_index(drop=True)\n",
    "y_train = y_train_ros.reset_index(drop=True)\n",
    "X_test = X_test.reset_index(drop=True)\n",
    "y_test = y_test.reset_index(drop=True)"
   ]
  },
  {
   "cell_type": "code",
   "execution_count": 129,
   "metadata": {},
   "outputs": [],
   "source": [
    "n_samples, n_classes = X_train.shape[0], 2\n",
    "class_weights = dict(zip(np.unique(y_train), n_samples / (n_classes * np.bincount(y_train))))"
   ]
  },
  {
   "cell_type": "code",
   "execution_count": 130,
   "metadata": {},
   "outputs": [],
   "source": [
    "best_params_ros = []"
   ]
  },
  {
   "attachments": {},
   "cell_type": "markdown",
   "metadata": {},
   "source": [
    "## **ExtraTreesClassifier**"
   ]
  },
  {
   "cell_type": "code",
   "execution_count": 131,
   "metadata": {},
   "outputs": [],
   "source": [
    "clf1 = ExtraTreesClassifier(random_state=seed, class_weight='balanced')\n",
    "param_grid = {'n_estimators': [100, 500, 1000],\n",
    "              'max_depth': [10, 25, 50, 100],\n",
    "              'max_features': [int(sqrt(X.shape[1])), int(log2(X.shape[1]))],\n",
    "              'min_samples_split' : [2, 5, 10], \n",
    "              'min_samples_leaf' : [1, 5, 10],\n",
    "              'class_weight' : ['balanced', None]}\n",
    "\n",
    "# Define the GridSearchCV object with 5-fold cross-validation\n",
    "grid_search = GridSearchCV(clf1, param_grid=param_grid, cv=10, scoring='balanced_accuracy', n_jobs=-1)\n",
    "\n",
    "# Fit the GridSearchCV object with the training data\n",
    "grid_search.fit(X_train, y_train)\n",
    "best_params_ros.append(grid_search.best_params_)\n",
    "\n",
    "# Print the best hyperparameters and the corresponding mean cross-validation score\n",
    "print(\"Best hyperparameters: \", grid_search.best_params_)\n",
    "print(\"Best mean cross-validation score: {:.2f}\".format(grid_search.best_score_))\n",
    "\n",
    "# Use the best hyperparameters to fit the model to the training data\n",
    "clf_best = ExtraTreesClassifier(**grid_search.best_params_, random_state=seed)\n",
    "model1 = clf_best.fit(X_train, y_train)\n",
    "\n",
    "clf1 = print_auc(model1, X_train, y_train, X_test, y_test, 'ExtraTreesClassifier')\n",
    "df1 = pd.DataFrame(data=[['ExtraTreesClassifier', clf1['f1'], clf1['auc'], clf1['auc_pr'], clf1['recall_sc'][0], clf1['recall_sc'][1], clf1['precision_sc'][0], clf1['precision_sc'][1]]], \n",
    "                          columns=['model', 'f1_score', 'auc', 'auc_pr', 'recall_classe(0)', 'recall_classe(1)', 'precision_classe(0)', 'precision_classe(1)'])\n",
    "df1.style.hide_index()"
   ]
  },
  {
   "attachments": {},
   "cell_type": "markdown",
   "metadata": {},
   "source": [
    "## **XGBClassifier**"
   ]
  },
  {
   "cell_type": "code",
   "execution_count": null,
   "metadata": {},
   "outputs": [
    {
     "name": "stdout",
     "output_type": "stream",
     "text": [
      "Best hyperparameters:  {'colsample_bytree': 1.0, 'gamma': 0.5, 'learning_rate': 0.2, 'max_depth': 10, 'scale_pos_weight': 10.571428571428571, 'subsample': 0.5}\n",
      "Best mean cross-validation score: 0.85\n",
      "Train Result:\n",
      "================================================\n",
      "Accuracy Score: 91.31%\n",
      "_______________________________________________\n",
      "CLASSIFICATION REPORT:\n",
      "                    0          1  accuracy   macro avg  weighted avg\n",
      "precision    0.990847   0.493827  0.913127    0.742337      0.948629\n",
      "recall       0.913502   0.909091  0.913127    0.911297      0.913127\n",
      "f1-score     0.950604   0.640000  0.913127    0.795302      0.924220\n",
      "support    474.000000  44.000000  0.913127  518.000000    518.000000\n",
      "_______________________________________________\n",
      "Confusion Matrix: \n",
      " [[433  41]\n",
      " [  4  40]]\n",
      "\n",
      "Test Result:\n",
      "================================================\n",
      "Accuracy Score: 85.38%\n",
      "_______________________________________________\n",
      "CLASSIFICATION REPORT:\n",
      "                    0          1  accuracy   macro avg  weighted avg\n",
      "precision    0.954128   0.333333  0.853846    0.643731      0.896824\n",
      "recall       0.881356   0.583333  0.853846    0.732345      0.853846\n",
      "f1-score     0.916300   0.424242  0.853846    0.670271      0.870879\n",
      "support    118.000000  12.000000  0.853846  130.000000    130.000000\n",
      "_______________________________________________\n",
      "Confusion Matrix: \n",
      " [[104  14]\n",
      " [  5   7]]\n",
      "\n"
     ]
    },
    {
     "data": {
      "text/html": [
       "<style type=\"text/css\">\n",
       "</style>\n",
       "<table id=\"T_509db\">\n",
       "  <thead>\n",
       "    <tr>\n",
       "      <th id=\"T_509db_level0_col0\" class=\"col_heading level0 col0\" >model</th>\n",
       "      <th id=\"T_509db_level0_col1\" class=\"col_heading level0 col1\" >f1_score</th>\n",
       "      <th id=\"T_509db_level0_col2\" class=\"col_heading level0 col2\" >auc</th>\n",
       "      <th id=\"T_509db_level0_col3\" class=\"col_heading level0 col3\" >auc_pr</th>\n",
       "      <th id=\"T_509db_level0_col4\" class=\"col_heading level0 col4\" >recall_classe(0)</th>\n",
       "      <th id=\"T_509db_level0_col5\" class=\"col_heading level0 col5\" >recall_classe(1)</th>\n",
       "      <th id=\"T_509db_level0_col6\" class=\"col_heading level0 col6\" >precision_classe(0)</th>\n",
       "      <th id=\"T_509db_level0_col7\" class=\"col_heading level0 col7\" >precision_classe(1)</th>\n",
       "    </tr>\n",
       "  </thead>\n",
       "  <tbody>\n",
       "    <tr>\n",
       "      <td id=\"T_509db_row0_col0\" class=\"data row0 col0\" >XGBClassifier</td>\n",
       "      <td id=\"T_509db_row0_col1\" class=\"data row0 col1\" >0.424242</td>\n",
       "      <td id=\"T_509db_row0_col2\" class=\"data row0 col2\" >0.793079</td>\n",
       "      <td id=\"T_509db_row0_col3\" class=\"data row0 col3\" >0.498210</td>\n",
       "      <td id=\"T_509db_row0_col4\" class=\"data row0 col4\" >0.881356</td>\n",
       "      <td id=\"T_509db_row0_col5\" class=\"data row0 col5\" >0.583333</td>\n",
       "      <td id=\"T_509db_row0_col6\" class=\"data row0 col6\" >0.954128</td>\n",
       "      <td id=\"T_509db_row0_col7\" class=\"data row0 col7\" >0.333333</td>\n",
       "    </tr>\n",
       "  </tbody>\n",
       "</table>\n"
      ],
      "text/plain": [
       "<pandas.io.formats.style.Styler at 0x22a83383b50>"
      ]
     },
     "metadata": {},
     "output_type": "display_data"
    }
   ],
   "source": [
    "clf2 = xgb.XGBClassifier(objective='binary:logistic')\n",
    "param_grid = {'learning_rate' : [0.01, 0.1, 0.2],\n",
    "              'max_depth' : [3, 10, 25],\n",
    "              'gamma' : [0.1, 0.5, 1.0],\n",
    "              'subsample': [0.5, 0.8, 1.0],\n",
    "              'colsample_bytree': [0.5, 0.8, 1.0],\n",
    "              'scale_pos_weight': [1, imbalance_ratio]}\n",
    "\n",
    "# Define the GridSearchCV object with 5-fold cross-validation\n",
    "grid_search = GridSearchCV(clf2, param_grid=param_grid, cv=10, scoring='balanced_accuracy', n_jobs=-1)\n",
    "\n",
    "# Fit the GridSearchCV object with the training data\n",
    "grid_search.fit(X_train, y_train)\n",
    "best_params_ros.append(grid_search.best_params_)\n",
    "\n",
    "# Print the best hyperparameters and the corresponding mean cross-validation score\n",
    "print(\"Best hyperparameters: \", grid_search.best_params_)\n",
    "print(\"Best mean cross-validation score: {:.2f}\".format(grid_search.best_score_))\n",
    "\n",
    "# Use the best hyperparameters to fit the model to the training data\n",
    "clf_best = xgb.XGBClassifier(**grid_search.best_params_, objective='binary:logistic')\n",
    "model2 = clf_best.fit(X_train, y_train)\n",
    "\n",
    "clf2 = print_auc(model2, X_train, y_train, X_test, y_test, 'XGBClassifier')\n",
    "df2 = pd.DataFrame(data=[['XGBClassifier', clf2['f1'], clf2['auc'], clf2['auc_pr'], clf2['recall_sc'][0], clf2['recall_sc'][1], clf2['precision_sc'][0], clf2['precision_sc'][1]]], \n",
    "                          columns=['model', 'f1_score', 'auc', 'auc_pr', 'recall_classe(0)', 'recall_classe(1)', 'precision_classe(0)', 'precision_classe(1)'])\n",
    "df2.style.hide_index()"
   ]
  },
  {
   "attachments": {},
   "cell_type": "markdown",
   "metadata": {},
   "source": [
    "## **AdaBoostClassifier**"
   ]
  },
  {
   "cell_type": "code",
   "execution_count": null,
   "metadata": {},
   "outputs": [
    {
     "name": "stdout",
     "output_type": "stream",
     "text": [
      "Best hyperparameters:  {'base_estimator': DecisionTreeClassifier(max_depth=3), 'learning_rate': 0.2, 'n_estimators': 200}\n",
      "Best mean cross-validation score: 0.74\n",
      "Train Result:\n",
      "================================================\n",
      "Accuracy Score: 96.72%\n",
      "_______________________________________________\n",
      "CLASSIFICATION REPORT:\n",
      "                    0          1  accuracy   macro avg  weighted avg\n",
      "precision    0.971134   0.909091  0.967181    0.940112      0.965864\n",
      "recall       0.993671   0.681818  0.967181    0.837745      0.967181\n",
      "f1-score     0.982273   0.779221  0.967181    0.880747      0.965026\n",
      "support    474.000000  44.000000  0.967181  518.000000    518.000000\n",
      "_______________________________________________\n",
      "Confusion Matrix: \n",
      " [[471   3]\n",
      " [ 14  30]]\n",
      "\n",
      "Test Result:\n",
      "================================================\n",
      "Accuracy Score: 91.54%\n",
      "_______________________________________________\n",
      "CLASSIFICATION REPORT:\n",
      "                    0          1  accuracy   macro avg  weighted avg\n",
      "precision    0.942149   0.555556  0.915385    0.748852      0.906463\n",
      "recall       0.966102   0.416667  0.915385    0.691384      0.915385\n",
      "f1-score     0.953975   0.476190  0.915385    0.715083      0.909872\n",
      "support    118.000000  12.000000  0.915385  130.000000    130.000000\n",
      "_______________________________________________\n",
      "Confusion Matrix: \n",
      " [[114   4]\n",
      " [  7   5]]\n",
      "\n"
     ]
    },
    {
     "data": {
      "text/html": [
       "<style type=\"text/css\">\n",
       "</style>\n",
       "<table id=\"T_26bbc\">\n",
       "  <thead>\n",
       "    <tr>\n",
       "      <th id=\"T_26bbc_level0_col0\" class=\"col_heading level0 col0\" >model</th>\n",
       "      <th id=\"T_26bbc_level0_col1\" class=\"col_heading level0 col1\" >f1_score</th>\n",
       "      <th id=\"T_26bbc_level0_col2\" class=\"col_heading level0 col2\" >auc</th>\n",
       "      <th id=\"T_26bbc_level0_col3\" class=\"col_heading level0 col3\" >auc_pr</th>\n",
       "      <th id=\"T_26bbc_level0_col4\" class=\"col_heading level0 col4\" >recall_classe(0)</th>\n",
       "      <th id=\"T_26bbc_level0_col5\" class=\"col_heading level0 col5\" >recall_classe(1)</th>\n",
       "      <th id=\"T_26bbc_level0_col6\" class=\"col_heading level0 col6\" >precision_classe(0)</th>\n",
       "      <th id=\"T_26bbc_level0_col7\" class=\"col_heading level0 col7\" >precision_classe(1)</th>\n",
       "    </tr>\n",
       "  </thead>\n",
       "  <tbody>\n",
       "    <tr>\n",
       "      <td id=\"T_26bbc_row0_col0\" class=\"data row0 col0\" >AdaBoostClassifier</td>\n",
       "      <td id=\"T_26bbc_row0_col1\" class=\"data row0 col1\" >0.476190</td>\n",
       "      <td id=\"T_26bbc_row0_col2\" class=\"data row0 col2\" >0.585452</td>\n",
       "      <td id=\"T_26bbc_row0_col3\" class=\"data row0 col3\" >0.283489</td>\n",
       "      <td id=\"T_26bbc_row0_col4\" class=\"data row0 col4\" >0.966102</td>\n",
       "      <td id=\"T_26bbc_row0_col5\" class=\"data row0 col5\" >0.416667</td>\n",
       "      <td id=\"T_26bbc_row0_col6\" class=\"data row0 col6\" >0.942149</td>\n",
       "      <td id=\"T_26bbc_row0_col7\" class=\"data row0 col7\" >0.555556</td>\n",
       "    </tr>\n",
       "  </tbody>\n",
       "</table>\n"
      ],
      "text/plain": [
       "<pandas.io.formats.style.Styler at 0x22a83139950>"
      ]
     },
     "metadata": {},
     "output_type": "display_data"
    }
   ],
   "source": [
    "clf3 = AdaBoostClassifier(random_state=seed)\n",
    "param_grid = {'n_estimators': [50, 100, 200],\n",
    "              'learning_rate': [0.01, 0.1, 0.2],\n",
    "              'base_estimator': [DecisionTreeClassifier(max_depth=1), DecisionTreeClassifier(max_depth=3)]}\n",
    "\n",
    "# Define the GridSearchCV object with 5-fold cross-validation\n",
    "grid_search = GridSearchCV(clf3, param_grid=param_grid, cv=10, scoring='balanced_accuracy', n_jobs=-1)\n",
    "\n",
    "# Fit the GridSearchCV object with the training data\n",
    "grid_search.fit(X_train, y_train)\n",
    "best_params_ros.append(grid_search.best_params_)\n",
    "\n",
    "# Print the best hyperparameters and the corresponding mean cross-validation score\n",
    "print(\"Best hyperparameters: \", grid_search.best_params_)\n",
    "print(\"Best mean cross-validation score: {:.2f}\".format(grid_search.best_score_))\n",
    "\n",
    "# Use the best hyperparameters to fit the model to the training data\n",
    "clf_best = AdaBoostClassifier(**grid_search.best_params_, random_state=seed)\n",
    "model3 = clf_best.fit(X_train, y_train)\n",
    "\n",
    "clf3 = print_auc(model3, X_train, y_train, X_test, y_test, 'AdaBoostClassifier')\n",
    "df3 = pd.DataFrame(data=[['AdaBoostClassifier', clf3['f1'], clf3['auc'], clf3['auc_pr'], clf3['recall_sc'][0], clf3['recall_sc'][1], clf3['precision_sc'][0], clf3['precision_sc'][1]]], \n",
    "                          columns=['model', 'f1_score', 'auc', 'auc_pr', 'recall_classe(0)', 'recall_classe(1)', 'precision_classe(0)', 'precision_classe(1)'])\n",
    "df3.style.hide_index()"
   ]
  },
  {
   "attachments": {},
   "cell_type": "markdown",
   "metadata": {},
   "source": [
    "## **DecisionTreeClassifier**"
   ]
  },
  {
   "cell_type": "code",
   "execution_count": null,
   "metadata": {},
   "outputs": [
    {
     "name": "stdout",
     "output_type": "stream",
     "text": [
      "Best hyperparameters:  {'criterion': 'gini', 'max_depth': None, 'max_features': 6, 'min_samples_leaf': 1, 'min_samples_split': 2}\n",
      "Best mean cross-validation score: 0.68\n",
      "Train Result:\n",
      "================================================\n",
      "Accuracy Score: 96.72%\n",
      "_______________________________________________\n",
      "CLASSIFICATION REPORT:\n",
      "                    0          1  accuracy   macro avg  weighted avg\n",
      "precision    0.969199   0.935484  0.967181    0.952342      0.966335\n",
      "recall       0.995781   0.659091  0.967181    0.827436      0.967181\n",
      "f1-score     0.982310   0.773333  0.967181    0.877822      0.964559\n",
      "support    474.000000  44.000000  0.967181  518.000000    518.000000\n",
      "_______________________________________________\n",
      "Confusion Matrix: \n",
      " [[472   2]\n",
      " [ 15  29]]\n",
      "\n",
      "Test Result:\n",
      "================================================\n",
      "Accuracy Score: 92.31%\n",
      "_______________________________________________\n",
      "CLASSIFICATION REPORT:\n",
      "                    0          1  accuracy   macro avg  weighted avg\n",
      "precision    0.942623   0.625000  0.923077    0.783811      0.913304\n",
      "recall       0.974576   0.416667  0.923077    0.695621      0.923077\n",
      "f1-score     0.958333   0.500000  0.923077    0.729167      0.916026\n",
      "support    118.000000  12.000000  0.923077  130.000000    130.000000\n",
      "_______________________________________________\n",
      "Confusion Matrix: \n",
      " [[115   3]\n",
      " [  7   5]]\n",
      "\n"
     ]
    },
    {
     "data": {
      "text/html": [
       "<style type=\"text/css\">\n",
       "</style>\n",
       "<table id=\"T_14d4b\">\n",
       "  <thead>\n",
       "    <tr>\n",
       "      <th id=\"T_14d4b_level0_col0\" class=\"col_heading level0 col0\" >model</th>\n",
       "      <th id=\"T_14d4b_level0_col1\" class=\"col_heading level0 col1\" >f1_score</th>\n",
       "      <th id=\"T_14d4b_level0_col2\" class=\"col_heading level0 col2\" >auc</th>\n",
       "      <th id=\"T_14d4b_level0_col3\" class=\"col_heading level0 col3\" >auc_pr</th>\n",
       "      <th id=\"T_14d4b_level0_col4\" class=\"col_heading level0 col4\" >recall_classe(0)</th>\n",
       "      <th id=\"T_14d4b_level0_col5\" class=\"col_heading level0 col5\" >recall_classe(1)</th>\n",
       "      <th id=\"T_14d4b_level0_col6\" class=\"col_heading level0 col6\" >precision_classe(0)</th>\n",
       "      <th id=\"T_14d4b_level0_col7\" class=\"col_heading level0 col7\" >precision_classe(1)</th>\n",
       "    </tr>\n",
       "  </thead>\n",
       "  <tbody>\n",
       "    <tr>\n",
       "      <td id=\"T_14d4b_row0_col0\" class=\"data row0 col0\" >DecisionTreeClassifier</td>\n",
       "      <td id=\"T_14d4b_row0_col1\" class=\"data row0 col1\" >0.500000</td>\n",
       "      <td id=\"T_14d4b_row0_col2\" class=\"data row0 col2\" >0.651130</td>\n",
       "      <td id=\"T_14d4b_row0_col3\" class=\"data row0 col3\" >0.461142</td>\n",
       "      <td id=\"T_14d4b_row0_col4\" class=\"data row0 col4\" >0.974576</td>\n",
       "      <td id=\"T_14d4b_row0_col5\" class=\"data row0 col5\" >0.416667</td>\n",
       "      <td id=\"T_14d4b_row0_col6\" class=\"data row0 col6\" >0.942623</td>\n",
       "      <td id=\"T_14d4b_row0_col7\" class=\"data row0 col7\" >0.625000</td>\n",
       "    </tr>\n",
       "  </tbody>\n",
       "</table>\n"
      ],
      "text/plain": [
       "<pandas.io.formats.style.Styler at 0x22a87c6c4d0>"
      ]
     },
     "metadata": {},
     "output_type": "display_data"
    }
   ],
   "source": [
    "clf4 = DecisionTreeClassifier(random_state=seed)\n",
    "param_grid = {'min_samples_split': [2, 5, 10, 20],\n",
    "              'max_depth': [2, 3, 4, 5, None],\n",
    "              'min_samples_leaf': [1, 2, 4, 8],\n",
    "              'criterion' : ['gini', 'entropy', 'log_loss'],\n",
    "              'max_features': ['auto', int(sqrt(X.shape[1])), int(log2(X.shape[1]))]}\n",
    "\n",
    "# Define the GridSearchCV object with 5-fold cross-validation\n",
    "grid_search = GridSearchCV(clf4, param_grid=param_grid, cv=10, scoring='balanced_accuracy', n_jobs=-1)\n",
    "\n",
    "# Fit the GridSearchCV object with the training data\n",
    "grid_search.fit(X_train, y_train)\n",
    "best_params_ros.append(grid_search.best_params_)\n",
    "\n",
    "# Print the best hyperparameters and the corresponding mean cross-validation score\n",
    "print(\"Best hyperparameters: \", grid_search.best_params_)\n",
    "print(\"Best mean cross-validation score: {:.2f}\".format(grid_search.best_score_))\n",
    "\n",
    "# Use the best hyperparameters to fit the model to the training data\n",
    "clf_best = DecisionTreeClassifier(**grid_search.best_params_, random_state=seed)\n",
    "model4 = clf_best.fit(X_train, y_train)\n",
    "\n",
    "clf4 = print_auc(model4, X_train, y_train, X_test, y_test, 'DecisionTreeClassifier')\n",
    "df4 = pd.DataFrame(data=[['DecisionTreeClassifier', clf4['f1'], clf4['auc'], clf4['auc_pr'], clf4['recall_sc'][0], clf4['recall_sc'][1], clf4['precision_sc'][0], clf4['precision_sc'][1]]], \n",
    "                          columns=['model', 'f1_score', 'auc', 'auc_pr', 'recall_classe(0)', 'recall_classe(1)', 'precision_classe(0)', 'precision_classe(1)'])\n",
    "df4.style.hide_index()"
   ]
  },
  {
   "attachments": {},
   "cell_type": "markdown",
   "metadata": {},
   "source": [
    "## **GaussianNB**"
   ]
  },
  {
   "cell_type": "code",
   "execution_count": null,
   "metadata": {},
   "outputs": [
    {
     "name": "stdout",
     "output_type": "stream",
     "text": [
      "Best hyperparameters:  {'var_smoothing': 1e-05}\n",
      "Best mean cross-validation score: 0.68\n",
      "Train Result:\n",
      "================================================\n",
      "Accuracy Score: 82.43%\n",
      "_______________________________________________\n",
      "CLASSIFICATION REPORT:\n",
      "                    0          1  accuracy   macro avg  weighted avg\n",
      "precision    0.957041   0.262626  0.824324    0.609833      0.898056\n",
      "recall       0.845992   0.590909  0.824324    0.718450      0.824324\n",
      "f1-score     0.898096   0.363636  0.824324    0.630866      0.852698\n",
      "support    474.000000  44.000000  0.824324  518.000000    518.000000\n",
      "_______________________________________________\n",
      "Confusion Matrix: \n",
      " [[401  73]\n",
      " [ 18  26]]\n",
      "\n",
      "Test Result:\n",
      "================================================\n",
      "Accuracy Score: 67.69%\n",
      "_______________________________________________\n",
      "CLASSIFICATION REPORT:\n",
      "                    0          1  accuracy   macro avg  weighted avg\n",
      "precision    0.922222   0.125000  0.676923    0.523611      0.848632\n",
      "recall       0.703390   0.416667  0.676923    0.560028      0.676923\n",
      "f1-score     0.798077   0.192308  0.676923    0.495192      0.742160\n",
      "support    118.000000  12.000000  0.676923  130.000000    130.000000\n",
      "_______________________________________________\n",
      "Confusion Matrix: \n",
      " [[83 35]\n",
      " [ 7  5]]\n",
      "\n"
     ]
    },
    {
     "data": {
      "text/html": [
       "<style type=\"text/css\">\n",
       "</style>\n",
       "<table id=\"T_c210c\">\n",
       "  <thead>\n",
       "    <tr>\n",
       "      <th id=\"T_c210c_level0_col0\" class=\"col_heading level0 col0\" >model</th>\n",
       "      <th id=\"T_c210c_level0_col1\" class=\"col_heading level0 col1\" >f1_score</th>\n",
       "      <th id=\"T_c210c_level0_col2\" class=\"col_heading level0 col2\" >auc</th>\n",
       "      <th id=\"T_c210c_level0_col3\" class=\"col_heading level0 col3\" >auc_pr</th>\n",
       "      <th id=\"T_c210c_level0_col4\" class=\"col_heading level0 col4\" >recall_classe(0)</th>\n",
       "      <th id=\"T_c210c_level0_col5\" class=\"col_heading level0 col5\" >recall_classe(1)</th>\n",
       "      <th id=\"T_c210c_level0_col6\" class=\"col_heading level0 col6\" >precision_classe(0)</th>\n",
       "      <th id=\"T_c210c_level0_col7\" class=\"col_heading level0 col7\" >precision_classe(1)</th>\n",
       "    </tr>\n",
       "  </thead>\n",
       "  <tbody>\n",
       "    <tr>\n",
       "      <td id=\"T_c210c_row0_col0\" class=\"data row0 col0\" >GaussianNB</td>\n",
       "      <td id=\"T_c210c_row0_col1\" class=\"data row0 col1\" >0.192308</td>\n",
       "      <td id=\"T_c210c_row0_col2\" class=\"data row0 col2\" >0.700565</td>\n",
       "      <td id=\"T_c210c_row0_col3\" class=\"data row0 col3\" >0.293542</td>\n",
       "      <td id=\"T_c210c_row0_col4\" class=\"data row0 col4\" >0.703390</td>\n",
       "      <td id=\"T_c210c_row0_col5\" class=\"data row0 col5\" >0.416667</td>\n",
       "      <td id=\"T_c210c_row0_col6\" class=\"data row0 col6\" >0.922222</td>\n",
       "      <td id=\"T_c210c_row0_col7\" class=\"data row0 col7\" >0.125000</td>\n",
       "    </tr>\n",
       "  </tbody>\n",
       "</table>\n"
      ],
      "text/plain": [
       "<pandas.io.formats.style.Styler at 0x22a87c6d250>"
      ]
     },
     "metadata": {},
     "output_type": "display_data"
    }
   ],
   "source": [
    "clf5 = GaussianNB()\n",
    "param_grid = {'var_smoothing': [1e-9, 1e-8, 1e-7, 1e-6, 1e-5]}\n",
    "\n",
    "# Define the GridSearchCV object with 5-fold cross-validation\n",
    "grid_search = GridSearchCV(clf5, param_grid=param_grid, cv=10, scoring='balanced_accuracy', n_jobs=-1)\n",
    "\n",
    "# Fit the GridSearchCV object with the training data\n",
    "grid_search.fit(X_train, y_train)\n",
    "best_params_ros.append(grid_search.best_params_)\n",
    "\n",
    "# Print the best hyperparameters and the corresponding mean cross-validation score\n",
    "print(\"Best hyperparameters: \", grid_search.best_params_)\n",
    "print(\"Best mean cross-validation score: {:.2f}\".format(grid_search.best_score_))\n",
    "\n",
    "# Use the best hyperparameters to fit the model to the training data\n",
    "clf_best = GaussianNB(**grid_search.best_params_)\n",
    "model5 = clf_best.fit(X_train, y_train)\n",
    "\n",
    "clf5 = print_auc(model5, X_train, y_train, X_test, y_test, 'GaussianNB')\n",
    "df5 = pd.DataFrame(data=[['GaussianNB', clf5['f1'], clf5['auc'], clf5['auc_pr'], clf5['recall_sc'][0], clf5['recall_sc'][1], clf5['precision_sc'][0], clf5['precision_sc'][1]]], \n",
    "                          columns=['model', 'f1_score', 'auc', 'auc_pr', 'recall_classe(0)', 'recall_classe(1)', 'precision_classe(0)', 'precision_classe(1)'])\n",
    "df5.style.hide_index()"
   ]
  },
  {
   "attachments": {},
   "cell_type": "markdown",
   "metadata": {},
   "source": [
    "## **LGBMClassifier**"
   ]
  },
  {
   "cell_type": "code",
   "execution_count": null,
   "metadata": {},
   "outputs": [
    {
     "name": "stdout",
     "output_type": "stream",
     "text": [
      "Best hyperparameters:  {'class_weight': 'balanced', 'colsample_bytree': 0.9, 'learning_rate': 0.1, 'max_depth': 7, 'min_child_samples': 10, 'n_estimators': 50, 'num_leaves': 10, 'subsample': 0.8}\n",
      "Best mean cross-validation score: 0.86\n",
      "Train Result:\n",
      "================================================\n",
      "Accuracy Score: 90.54%\n",
      "_______________________________________________\n",
      "CLASSIFICATION REPORT:\n",
      "                    0          1  accuracy   macro avg  weighted avg\n",
      "precision    0.990762   0.470588  0.905405    0.730675      0.946577\n",
      "recall       0.905063   0.909091  0.905405    0.907077      0.905405\n",
      "f1-score     0.945976   0.620155  0.905405    0.783065      0.918300\n",
      "support    474.000000  44.000000  0.905405  518.000000    518.000000\n",
      "_______________________________________________\n",
      "Confusion Matrix: \n",
      " [[429  45]\n",
      " [  4  40]]\n",
      "\n",
      "Test Result:\n",
      "================================================\n",
      "Accuracy Score: 82.31%\n",
      "_______________________________________________\n",
      "CLASSIFICATION REPORT:\n",
      "                    0          1  accuracy   macro avg  weighted avg\n",
      "precision    0.952381   0.280000  0.823077    0.616190      0.890315\n",
      "recall       0.847458   0.583333  0.823077    0.715395      0.823077\n",
      "f1-score     0.896861   0.378378  0.823077    0.637620      0.849001\n",
      "support    118.000000  12.000000  0.823077  130.000000    130.000000\n",
      "_______________________________________________\n",
      "Confusion Matrix: \n",
      " [[100  18]\n",
      " [  5   7]]\n",
      "\n"
     ]
    },
    {
     "data": {
      "text/html": [
       "<style type=\"text/css\">\n",
       "</style>\n",
       "<table id=\"T_c4d84\">\n",
       "  <thead>\n",
       "    <tr>\n",
       "      <th id=\"T_c4d84_level0_col0\" class=\"col_heading level0 col0\" >model</th>\n",
       "      <th id=\"T_c4d84_level0_col1\" class=\"col_heading level0 col1\" >f1_score</th>\n",
       "      <th id=\"T_c4d84_level0_col2\" class=\"col_heading level0 col2\" >auc</th>\n",
       "      <th id=\"T_c4d84_level0_col3\" class=\"col_heading level0 col3\" >auc_pr</th>\n",
       "      <th id=\"T_c4d84_level0_col4\" class=\"col_heading level0 col4\" >recall_classe(0)</th>\n",
       "      <th id=\"T_c4d84_level0_col5\" class=\"col_heading level0 col5\" >recall_classe(1)</th>\n",
       "      <th id=\"T_c4d84_level0_col6\" class=\"col_heading level0 col6\" >precision_classe(0)</th>\n",
       "      <th id=\"T_c4d84_level0_col7\" class=\"col_heading level0 col7\" >precision_classe(1)</th>\n",
       "    </tr>\n",
       "  </thead>\n",
       "  <tbody>\n",
       "    <tr>\n",
       "      <td id=\"T_c4d84_row0_col0\" class=\"data row0 col0\" >LGBMClassifier</td>\n",
       "      <td id=\"T_c4d84_row0_col1\" class=\"data row0 col1\" >0.378378</td>\n",
       "      <td id=\"T_c4d84_row0_col2\" class=\"data row0 col2\" >0.753531</td>\n",
       "      <td id=\"T_c4d84_row0_col3\" class=\"data row0 col3\" >0.492538</td>\n",
       "      <td id=\"T_c4d84_row0_col4\" class=\"data row0 col4\" >0.847458</td>\n",
       "      <td id=\"T_c4d84_row0_col5\" class=\"data row0 col5\" >0.583333</td>\n",
       "      <td id=\"T_c4d84_row0_col6\" class=\"data row0 col6\" >0.952381</td>\n",
       "      <td id=\"T_c4d84_row0_col7\" class=\"data row0 col7\" >0.280000</td>\n",
       "    </tr>\n",
       "  </tbody>\n",
       "</table>\n"
      ],
      "text/plain": [
       "<pandas.io.formats.style.Styler at 0x22a8772dc90>"
      ]
     },
     "metadata": {},
     "output_type": "display_data"
    }
   ],
   "source": [
    "clf6 = lgb.LGBMClassifier()\n",
    "param_grid = {'num_leaves': [10, 20, 30],\n",
    "              'max_depth': [3, 5, 7],\n",
    "              'learning_rate': [0.01, 0.1],\n",
    "              'n_estimators': [50, 100, 200],\n",
    "              'min_child_samples': [10, 20, 30],\n",
    "              'subsample': [0.8, 0.9, 1.0],\n",
    "              'colsample_bytree': [0.8, 0.9, 1.0],\n",
    "              'class_weight' : ['balanced', None, class_weights]}\n",
    "         \n",
    "# Define the GridSearchCV object with 5-fold cross-validation\n",
    "grid_search = GridSearchCV(clf6, param_grid=param_grid, cv=10, scoring='balanced_accuracy', n_jobs=-1)\n",
    "\n",
    "# Fit the GridSearchCV object with the training data\n",
    "grid_search.fit(X_train, y_train)\n",
    "best_params_ros.append(grid_search.best_params_)\n",
    "\n",
    "# Print the best hyperparameters and the corresponding mean cross-validation score\n",
    "print(\"Best hyperparameters: \", grid_search.best_params_)\n",
    "print(\"Best mean cross-validation score: {:.2f}\".format(grid_search.best_score_))\n",
    "\n",
    "# Use the best hyperparameters to fit the model to the training data\n",
    "clf_best = lgb.LGBMClassifier(**grid_search.best_params_)\n",
    "model6 = clf_best.fit(X_train, y_train)\n",
    "\n",
    "clf6 = print_auc(model6, X_train, y_train, X_test, y_test, 'LGBMClassifier')\n",
    "df6 = pd.DataFrame(data=[['LGBMClassifier', clf6['f1'], clf6['auc'], clf6['auc_pr'], clf6['recall_sc'][0], clf6['recall_sc'][1], clf6['precision_sc'][0], clf6['precision_sc'][1]]], \n",
    "                          columns=['model', 'f1_score', 'auc', 'auc_pr', 'recall_classe(0)', 'recall_classe(1)', 'precision_classe(0)', 'precision_classe(1)'])\n",
    "df6.style.hide_index()"
   ]
  },
  {
   "attachments": {},
   "cell_type": "markdown",
   "metadata": {},
   "source": [
    "## **KNeighborsClassifier**"
   ]
  },
  {
   "cell_type": "code",
   "execution_count": null,
   "metadata": {},
   "outputs": [
    {
     "name": "stdout",
     "output_type": "stream",
     "text": [
      "Best hyperparameters:  {'algorithm': 'brute', 'leaf_size': 10, 'n_neighbors': 5, 'p': 1, 'weights': 'distance'}\n",
      "Best mean cross-validation score: 0.66\n",
      "Train Result:\n",
      "================================================\n",
      "Accuracy Score: 96.72%\n",
      "_______________________________________________\n",
      "CLASSIFICATION REPORT:\n",
      "                    0          1  accuracy   macro avg  weighted avg\n",
      "precision    0.969199   0.935484  0.967181    0.952342      0.966335\n",
      "recall       0.995781   0.659091  0.967181    0.827436      0.967181\n",
      "f1-score     0.982310   0.773333  0.967181    0.877822      0.964559\n",
      "support    474.000000  44.000000  0.967181  518.000000    518.000000\n",
      "_______________________________________________\n",
      "Confusion Matrix: \n",
      " [[472   2]\n",
      " [ 15  29]]\n",
      "\n",
      "Test Result:\n",
      "================================================\n",
      "Accuracy Score: 93.08%\n",
      "_______________________________________________\n",
      "CLASSIFICATION REPORT:\n",
      "                    0          1  accuracy   macro avg  weighted avg\n",
      "precision    0.943089   0.714286  0.930769    0.828688      0.921969\n",
      "recall       0.983051   0.416667  0.930769    0.699859      0.930769\n",
      "f1-score     0.962656   0.526316  0.930769    0.744486      0.922378\n",
      "support    118.000000  12.000000  0.930769  130.000000    130.000000\n",
      "_______________________________________________\n",
      "Confusion Matrix: \n",
      " [[116   2]\n",
      " [  7   5]]\n",
      "\n"
     ]
    },
    {
     "data": {
      "text/html": [
       "<style type=\"text/css\">\n",
       "</style>\n",
       "<table id=\"T_34e85\">\n",
       "  <thead>\n",
       "    <tr>\n",
       "      <th id=\"T_34e85_level0_col0\" class=\"col_heading level0 col0\" >model</th>\n",
       "      <th id=\"T_34e85_level0_col1\" class=\"col_heading level0 col1\" >f1_score</th>\n",
       "      <th id=\"T_34e85_level0_col2\" class=\"col_heading level0 col2\" >auc</th>\n",
       "      <th id=\"T_34e85_level0_col3\" class=\"col_heading level0 col3\" >auc_pr</th>\n",
       "      <th id=\"T_34e85_level0_col4\" class=\"col_heading level0 col4\" >recall_classe(0)</th>\n",
       "      <th id=\"T_34e85_level0_col5\" class=\"col_heading level0 col5\" >recall_classe(1)</th>\n",
       "      <th id=\"T_34e85_level0_col6\" class=\"col_heading level0 col6\" >precision_classe(0)</th>\n",
       "      <th id=\"T_34e85_level0_col7\" class=\"col_heading level0 col7\" >precision_classe(1)</th>\n",
       "    </tr>\n",
       "  </thead>\n",
       "  <tbody>\n",
       "    <tr>\n",
       "      <td id=\"T_34e85_row0_col0\" class=\"data row0 col0\" >KNeiborsClassifier</td>\n",
       "      <td id=\"T_34e85_row0_col1\" class=\"data row0 col1\" >0.526316</td>\n",
       "      <td id=\"T_34e85_row0_col2\" class=\"data row0 col2\" >0.766949</td>\n",
       "      <td id=\"T_34e85_row0_col3\" class=\"data row0 col3\" >0.585534</td>\n",
       "      <td id=\"T_34e85_row0_col4\" class=\"data row0 col4\" >0.983051</td>\n",
       "      <td id=\"T_34e85_row0_col5\" class=\"data row0 col5\" >0.416667</td>\n",
       "      <td id=\"T_34e85_row0_col6\" class=\"data row0 col6\" >0.943089</td>\n",
       "      <td id=\"T_34e85_row0_col7\" class=\"data row0 col7\" >0.714286</td>\n",
       "    </tr>\n",
       "  </tbody>\n",
       "</table>\n"
      ],
      "text/plain": [
       "<pandas.io.formats.style.Styler at 0x22a831d3cd0>"
      ]
     },
     "metadata": {},
     "output_type": "display_data"
    }
   ],
   "source": [
    "clf7 = KNeighborsClassifier()\n",
    "param_grid = {'n_neighbors': [3, 5, 7],\n",
    "              'weights': ['uniform', 'distance'],\n",
    "              'p': [1, 2],\n",
    "              'algorithm': ['brute'],\n",
    "              'leaf_size': [10, 30, 50]}\n",
    "\n",
    "# Define the GridSearchCV object with 5-fold cross-validation\n",
    "grid_search = GridSearchCV(clf7, param_grid=param_grid, cv=10, scoring='balanced_accuracy', n_jobs=-1)\n",
    "\n",
    "# Fit the GridSearchCV object with the training data\n",
    "grid_search.fit(X_train, y_train)\n",
    "best_params_ros.append(grid_search.best_params_)\n",
    "\n",
    "# Print the best hyperparameters and the corresponding mean cross-validation score\n",
    "print(\"Best hyperparameters: \", grid_search.best_params_)\n",
    "print(\"Best mean cross-validation score: {:.2f}\".format(grid_search.best_score_))\n",
    "\n",
    "# Use the best hyperparameters to fit the model to the training data\n",
    "clf_best = KNeighborsClassifier(**grid_search.best_params_)\n",
    "model7 = clf_best.fit(X_train, y_train)\n",
    "\n",
    "clf7 = print_auc(model7, X_train, y_train, X_test, y_test, 'KNeiborsClassifier')\n",
    "df7 = pd.DataFrame(data=[['KNeiborsClassifier', clf7['f1'], clf7['auc'], clf7['auc_pr'], clf7['recall_sc'][0], clf7['recall_sc'][1], clf7['precision_sc'][0], clf7['precision_sc'][1]]], \n",
    "                          columns=['model', 'f1_score', 'auc', 'auc_pr', 'recall_classe(0)', 'recall_classe(1)', 'precision_classe(0)', 'precision_classe(1)'])\n",
    "df7.style.hide_index()"
   ]
  },
  {
   "attachments": {},
   "cell_type": "markdown",
   "metadata": {},
   "source": [
    "## **RandomForestClassifier**"
   ]
  },
  {
   "cell_type": "code",
   "execution_count": null,
   "metadata": {},
   "outputs": [
    {
     "name": "stdout",
     "output_type": "stream",
     "text": [
      "Best hyperparameters:  {'criterion': 'entropy', 'max_depth': 7, 'max_features': 'sqrt', 'min_samples_leaf': 4, 'min_samples_split': 2, 'n_estimators': 100}\n",
      "Best mean cross-validation score: 0.65\n",
      "Train Result:\n",
      "================================================\n",
      "Accuracy Score: 93.82%\n",
      "_______________________________________________\n",
      "CLASSIFICATION REPORT:\n",
      "                    0          1  accuracy   macro avg  weighted avg\n",
      "precision    0.942000   0.833333  0.938224    0.887667      0.932770\n",
      "recall       0.993671   0.340909  0.938224    0.667290      0.938224\n",
      "f1-score     0.967146   0.483871  0.938224    0.725508      0.926095\n",
      "support    474.000000  44.000000  0.938224  518.000000    518.000000\n",
      "_______________________________________________\n",
      "Confusion Matrix: \n",
      " [[471   3]\n",
      " [ 29  15]]\n",
      "\n",
      "Test Result:\n",
      "================================================\n",
      "Accuracy Score: 93.08%\n",
      "_______________________________________________\n",
      "CLASSIFICATION REPORT:\n",
      "                    0          1  accuracy   macro avg  weighted avg\n",
      "precision    0.950413   0.666667  0.930769    0.808540      0.924221\n",
      "recall       0.974576   0.500000  0.930769    0.737288      0.930769\n",
      "f1-score     0.962343   0.571429  0.930769    0.766886      0.926259\n",
      "support    118.000000  12.000000  0.930769  130.000000    130.000000\n",
      "_______________________________________________\n",
      "Confusion Matrix: \n",
      " [[115   3]\n",
      " [  6   6]]\n",
      "\n"
     ]
    },
    {
     "data": {
      "text/html": [
       "<style type=\"text/css\">\n",
       "</style>\n",
       "<table id=\"T_4b9da\">\n",
       "  <thead>\n",
       "    <tr>\n",
       "      <th id=\"T_4b9da_level0_col0\" class=\"col_heading level0 col0\" >model</th>\n",
       "      <th id=\"T_4b9da_level0_col1\" class=\"col_heading level0 col1\" >f1_score</th>\n",
       "      <th id=\"T_4b9da_level0_col2\" class=\"col_heading level0 col2\" >auc</th>\n",
       "      <th id=\"T_4b9da_level0_col3\" class=\"col_heading level0 col3\" >auc_pr</th>\n",
       "      <th id=\"T_4b9da_level0_col4\" class=\"col_heading level0 col4\" >recall_classe(0)</th>\n",
       "      <th id=\"T_4b9da_level0_col5\" class=\"col_heading level0 col5\" >recall_classe(1)</th>\n",
       "      <th id=\"T_4b9da_level0_col6\" class=\"col_heading level0 col6\" >precision_classe(0)</th>\n",
       "      <th id=\"T_4b9da_level0_col7\" class=\"col_heading level0 col7\" >precision_classe(1)</th>\n",
       "    </tr>\n",
       "  </thead>\n",
       "  <tbody>\n",
       "    <tr>\n",
       "      <td id=\"T_4b9da_row0_col0\" class=\"data row0 col0\" >RandomForestClassifier</td>\n",
       "      <td id=\"T_4b9da_row0_col1\" class=\"data row0 col1\" >0.571429</td>\n",
       "      <td id=\"T_4b9da_row0_col2\" class=\"data row0 col2\" >0.783192</td>\n",
       "      <td id=\"T_4b9da_row0_col3\" class=\"data row0 col3\" >0.505365</td>\n",
       "      <td id=\"T_4b9da_row0_col4\" class=\"data row0 col4\" >0.974576</td>\n",
       "      <td id=\"T_4b9da_row0_col5\" class=\"data row0 col5\" >0.500000</td>\n",
       "      <td id=\"T_4b9da_row0_col6\" class=\"data row0 col6\" >0.950413</td>\n",
       "      <td id=\"T_4b9da_row0_col7\" class=\"data row0 col7\" >0.666667</td>\n",
       "    </tr>\n",
       "  </tbody>\n",
       "</table>\n"
      ],
      "text/plain": [
       "<pandas.io.formats.style.Styler at 0x22a830dd490>"
      ]
     },
     "metadata": {},
     "output_type": "display_data"
    }
   ],
   "source": [
    "clf8 = RandomForestClassifier(random_state=seed)\n",
    "param_grid = {'n_estimators': [50, 100, 200],\n",
    "              'max_depth': [3, 5, 7],\n",
    "              'min_samples_split': [2, 5, 10],\n",
    "              'min_samples_leaf': [1, 2, 4],\n",
    "              'max_features': ['sqrt', 'log2'],\n",
    "              'criterion': ['gini', 'entropy']}\n",
    "\n",
    "# Define the GridSearchCV object with 5-fold cross-validation\n",
    "grid_search = GridSearchCV(clf8, param_grid=param_grid, cv=10, scoring='balanced_accuracy', n_jobs=-1)\n",
    "\n",
    "# Fit the GridSearchCV object with the training data\n",
    "grid_search.fit(X_train, y_train)\n",
    "best_params_ros.append(grid_search.best_params_)\n",
    "\n",
    "# Print the best hyperparameters and the corresponding mean cross-validation score\n",
    "print(\"Best hyperparameters: \", grid_search.best_params_)\n",
    "print(\"Best mean cross-validation score: {:.2f}\".format(grid_search.best_score_))\n",
    "\n",
    "# Use the best hyperparameters to fit the model to the training data\n",
    "clf_best = RandomForestClassifier(**grid_search.best_params_, random_state=seed)\n",
    "model8 = clf_best.fit(X_train, y_train)\n",
    "\n",
    "clf8 = print_auc(model8, X_train, y_train, X_test, y_test, 'RandomForestClassifier')\n",
    "df8 = pd.DataFrame(data=[['RandomForestClassifier', clf8['f1'], clf8['auc'], clf8['auc_pr'], clf8['recall_sc'][0], clf8['recall_sc'][1], clf8['precision_sc'][0], clf8['precision_sc'][1]]], \n",
    "                          columns=['model', 'f1_score', 'auc', 'auc_pr', 'recall_classe(0)', 'recall_classe(1)', 'precision_classe(0)', 'precision_classe(1)'])\n",
    "df8.style.hide_index()"
   ]
  },
  {
   "attachments": {},
   "cell_type": "markdown",
   "metadata": {},
   "source": [
    "## **SVC**"
   ]
  },
  {
   "cell_type": "code",
   "execution_count": null,
   "metadata": {},
   "outputs": [
    {
     "name": "stdout",
     "output_type": "stream",
     "text": [
      "Best hyperparameters:  {'C': 10, 'class_weight': 'balanced', 'degree': 2, 'gamma': 'scale', 'kernel': 'linear'}\n",
      "Best mean cross-validation score: 0.84\n",
      "Train Result:\n",
      "================================================\n",
      "Accuracy Score: 91.70%\n",
      "_______________________________________________\n",
      "CLASSIFICATION REPORT:\n",
      "                    0          1  accuracy   macro avg  weighted avg\n",
      "precision    0.990888   0.506329  0.916988    0.748609      0.949729\n",
      "recall       0.917722   0.909091  0.916988    0.913406      0.916988\n",
      "f1-score     0.952903   0.650407  0.916988    0.801655      0.927208\n",
      "support    474.000000  44.000000  0.916988  518.000000    518.000000\n",
      "_______________________________________________\n",
      "Confusion Matrix: \n",
      " [[435  39]\n",
      " [  4  40]]\n",
      "\n",
      "Test Result:\n",
      "================================================\n",
      "Accuracy Score: 86.92%\n",
      "_______________________________________________\n",
      "CLASSIFICATION REPORT:\n",
      "                    0          1  accuracy   macro avg  weighted avg\n",
      "precision    0.963303   0.380952  0.869231    0.672128      0.909547\n",
      "recall       0.889831   0.666667  0.869231    0.778249      0.869231\n",
      "f1-score     0.925110   0.484848  0.869231    0.704979      0.884471\n",
      "support    118.000000  12.000000  0.869231  130.000000    130.000000\n",
      "_______________________________________________\n",
      "Confusion Matrix: \n",
      " [[105  13]\n",
      " [  4   8]]\n",
      "\n"
     ]
    },
    {
     "data": {
      "text/html": [
       "<style type=\"text/css\">\n",
       "</style>\n",
       "<table id=\"T_0d91d\">\n",
       "  <thead>\n",
       "    <tr>\n",
       "      <th id=\"T_0d91d_level0_col0\" class=\"col_heading level0 col0\" >model</th>\n",
       "      <th id=\"T_0d91d_level0_col1\" class=\"col_heading level0 col1\" >f1_score</th>\n",
       "      <th id=\"T_0d91d_level0_col2\" class=\"col_heading level0 col2\" >auc</th>\n",
       "      <th id=\"T_0d91d_level0_col3\" class=\"col_heading level0 col3\" >auc_pr</th>\n",
       "      <th id=\"T_0d91d_level0_col4\" class=\"col_heading level0 col4\" >recall_classe(0)</th>\n",
       "      <th id=\"T_0d91d_level0_col5\" class=\"col_heading level0 col5\" >recall_classe(1)</th>\n",
       "      <th id=\"T_0d91d_level0_col6\" class=\"col_heading level0 col6\" >precision_classe(0)</th>\n",
       "      <th id=\"T_0d91d_level0_col7\" class=\"col_heading level0 col7\" >precision_classe(1)</th>\n",
       "    </tr>\n",
       "  </thead>\n",
       "  <tbody>\n",
       "    <tr>\n",
       "      <td id=\"T_0d91d_row0_col0\" class=\"data row0 col0\" >SVM</td>\n",
       "      <td id=\"T_0d91d_row0_col1\" class=\"data row0 col1\" >0.484848</td>\n",
       "      <td id=\"T_0d91d_row0_col2\" class=\"data row0 col2\" >0.814266</td>\n",
       "      <td id=\"T_0d91d_row0_col3\" class=\"data row0 col3\" >0.554175</td>\n",
       "      <td id=\"T_0d91d_row0_col4\" class=\"data row0 col4\" >0.889831</td>\n",
       "      <td id=\"T_0d91d_row0_col5\" class=\"data row0 col5\" >0.666667</td>\n",
       "      <td id=\"T_0d91d_row0_col6\" class=\"data row0 col6\" >0.963303</td>\n",
       "      <td id=\"T_0d91d_row0_col7\" class=\"data row0 col7\" >0.380952</td>\n",
       "    </tr>\n",
       "  </tbody>\n",
       "</table>\n"
      ],
      "text/plain": [
       "<pandas.io.formats.style.Styler at 0x22a87657a90>"
      ]
     },
     "metadata": {},
     "output_type": "display_data"
    }
   ],
   "source": [
    "clf9 = SVC(probability=True)\n",
    "param_grid = {'C': [0.1, 1, 10],\n",
    "              'kernel': ['linear', 'poly', 'rbf'],\n",
    "              'degree': [2, 3, 4],\n",
    "              'gamma': ['scale', 'auto'],\n",
    "              'class_weight': [None, 'balanced']}\n",
    "\n",
    "# Define the GridSearchCV object with 5-fold cross-validation\n",
    "grid_search = GridSearchCV(clf9, param_grid=param_grid, cv=10, scoring='balanced_accuracy', n_jobs=-1)\n",
    "\n",
    "# Fit the GridSearchCV object with the training data\n",
    "grid_search.fit(X_train, y_train)\n",
    "best_params_ros.append(grid_search.best_params_)\n",
    "\n",
    "# Print the best hyperparameters and the corresponding mean cross-validation score\n",
    "print(\"Best hyperparameters: \", grid_search.best_params_)\n",
    "print(\"Best mean cross-validation score: {:.2f}\".format(grid_search.best_score_))\n",
    "\n",
    "# Use the best hyperparameters to fit the model to the training data\n",
    "clf_best = SVC(**grid_search.best_params_, probability=True)\n",
    "model9 = clf_best.fit(X_train, y_train)\n",
    "\n",
    "clf9 = print_auc(model9, X_train, y_train, X_test, y_test, 'SVM')\n",
    "df9 = pd.DataFrame(data=[['SVM', clf9['f1'], clf9['auc'], clf9['auc_pr'], clf9['recall_sc'][0], clf9['recall_sc'][1], clf9['precision_sc'][0], clf9['precision_sc'][1]]], \n",
    "                          columns=['model', 'f1_score', 'auc', 'auc_pr', 'recall_classe(0)', 'recall_classe(1)', 'precision_classe(0)', 'precision_classe(1)'])\n",
    "df9.style.hide_index()"
   ]
  },
  {
   "attachments": {},
   "cell_type": "markdown",
   "metadata": {},
   "source": [
    "## **LogisticRegression**"
   ]
  },
  {
   "cell_type": "code",
   "execution_count": null,
   "metadata": {},
   "outputs": [
    {
     "name": "stdout",
     "output_type": "stream",
     "text": [
      "Best hyperparameters:  {'C': 10, 'class_weight': 'balanced', 'max_iter': 100, 'penalty': 'l2', 'solver': 'liblinear'}\n",
      "Best mean cross-validation score: 0.83\n",
      "Train Result:\n",
      "================================================\n",
      "Accuracy Score: 91.51%\n",
      "_______________________________________________\n",
      "CLASSIFICATION REPORT:\n",
      "                    0          1  accuracy   macro avg  weighted avg\n",
      "precision    0.990868   0.500000  0.915058    0.745434      0.949172\n",
      "recall       0.915612   0.909091  0.915058    0.912351      0.915058\n",
      "f1-score     0.951754   0.645161  0.915058    0.798458      0.925712\n",
      "support    474.000000  44.000000  0.915058  518.000000    518.000000\n",
      "_______________________________________________\n",
      "Confusion Matrix: \n",
      " [[434  40]\n",
      " [  4  40]]\n",
      "\n",
      "Test Result:\n",
      "================================================\n",
      "Accuracy Score: 86.15%\n",
      "_______________________________________________\n",
      "CLASSIFICATION REPORT:\n",
      "                    0          1  accuracy   macro avg  weighted avg\n",
      "precision    0.962963   0.363636  0.861538    0.663300      0.907641\n",
      "recall       0.881356   0.666667  0.861538    0.774011      0.861538\n",
      "f1-score     0.920354   0.470588  0.861538    0.695471      0.878837\n",
      "support    118.000000  12.000000  0.861538  130.000000    130.000000\n",
      "_______________________________________________\n",
      "Confusion Matrix: \n",
      " [[104  14]\n",
      " [  4   8]]\n",
      "\n"
     ]
    },
    {
     "data": {
      "text/html": [
       "<style type=\"text/css\">\n",
       "</style>\n",
       "<table id=\"T_7d7ed\">\n",
       "  <thead>\n",
       "    <tr>\n",
       "      <th id=\"T_7d7ed_level0_col0\" class=\"col_heading level0 col0\" >model</th>\n",
       "      <th id=\"T_7d7ed_level0_col1\" class=\"col_heading level0 col1\" >f1_score</th>\n",
       "      <th id=\"T_7d7ed_level0_col2\" class=\"col_heading level0 col2\" >auc</th>\n",
       "      <th id=\"T_7d7ed_level0_col3\" class=\"col_heading level0 col3\" >auc_pr</th>\n",
       "      <th id=\"T_7d7ed_level0_col4\" class=\"col_heading level0 col4\" >recall_classe(0)</th>\n",
       "      <th id=\"T_7d7ed_level0_col5\" class=\"col_heading level0 col5\" >recall_classe(1)</th>\n",
       "      <th id=\"T_7d7ed_level0_col6\" class=\"col_heading level0 col6\" >precision_classe(0)</th>\n",
       "      <th id=\"T_7d7ed_level0_col7\" class=\"col_heading level0 col7\" >precision_classe(1)</th>\n",
       "    </tr>\n",
       "  </thead>\n",
       "  <tbody>\n",
       "    <tr>\n",
       "      <td id=\"T_7d7ed_row0_col0\" class=\"data row0 col0\" >LogisticRegression</td>\n",
       "      <td id=\"T_7d7ed_row0_col1\" class=\"data row0 col1\" >0.470588</td>\n",
       "      <td id=\"T_7d7ed_row0_col2\" class=\"data row0 col2\" >0.818503</td>\n",
       "      <td id=\"T_7d7ed_row0_col3\" class=\"data row0 col3\" >0.610812</td>\n",
       "      <td id=\"T_7d7ed_row0_col4\" class=\"data row0 col4\" >0.881356</td>\n",
       "      <td id=\"T_7d7ed_row0_col5\" class=\"data row0 col5\" >0.666667</td>\n",
       "      <td id=\"T_7d7ed_row0_col6\" class=\"data row0 col6\" >0.962963</td>\n",
       "      <td id=\"T_7d7ed_row0_col7\" class=\"data row0 col7\" >0.363636</td>\n",
       "    </tr>\n",
       "  </tbody>\n",
       "</table>\n"
      ],
      "text/plain": [
       "<pandas.io.formats.style.Styler at 0x22a870495d0>"
      ]
     },
     "metadata": {},
     "output_type": "display_data"
    }
   ],
   "source": [
    "clf10 = LogisticRegression()\n",
    "param_grid = {'penalty': ['l1', 'l2'],\n",
    "              'C': [0.1, 1, 10],\n",
    "              'solver': ['liblinear', 'lbfgs', 'newton-cg', 'sag'],\n",
    "              'max_iter': [100, 200, 500],\n",
    "              'class_weight': [None, 'balanced']}\n",
    "\n",
    "grid_search = GridSearchCV(clf10, param_grid=param_grid, cv=10, scoring='balanced_accuracy', n_jobs=-1)\n",
    "\n",
    "# Fit the GridSearchCV object with the training data\n",
    "grid_search.fit(X_train, y_train)\n",
    "best_params_ros.append(grid_search.best_params_)\n",
    "\n",
    "# Print the best hyperparameters and the corresponding mean cross-validation score\n",
    "print(\"Best hyperparameters: \", grid_search.best_params_)\n",
    "print(\"Best mean cross-validation score: {:.2f}\".format(grid_search.best_score_))\n",
    "\n",
    "# Use the best hyperparameters to fit the model to the training data\n",
    "clf_best = LogisticRegression(**grid_search.best_params_, random_state=seed)\n",
    "model10 = clf_best.fit(X_train, y_train)\n",
    "\n",
    "clf10 = print_auc(model10, X_train, y_train, X_test, y_test, 'LogisticRegression')\n",
    "df10 = pd.DataFrame(data=[['LogisticRegression', clf10['f1'], clf10['auc'], clf10['auc_pr'], clf10['recall_sc'][0], clf10['recall_sc'][1], clf10['precision_sc'][0], clf10['precision_sc'][1]]], \n",
    "                          columns=['model', 'f1_score', 'auc', 'auc_pr', 'recall_classe(0)', 'recall_classe(1)', 'precision_classe(0)', 'precision_classe(1)'])\n",
    "df10.style.hide_index()"
   ]
  },
  {
   "cell_type": "code",
   "execution_count": null,
   "metadata": {},
   "outputs": [
    {
     "data": {
      "text/html": [
       "<div>\n",
       "<style scoped>\n",
       "    .dataframe tbody tr th:only-of-type {\n",
       "        vertical-align: middle;\n",
       "    }\n",
       "\n",
       "    .dataframe tbody tr th {\n",
       "        vertical-align: top;\n",
       "    }\n",
       "\n",
       "    .dataframe thead th {\n",
       "        text-align: right;\n",
       "    }\n",
       "</style>\n",
       "<table border=\"1\" class=\"dataframe\">\n",
       "  <thead>\n",
       "    <tr style=\"text-align: right;\">\n",
       "      <th></th>\n",
       "      <th>model</th>\n",
       "      <th>f1_score</th>\n",
       "      <th>auc</th>\n",
       "      <th>auc_pr</th>\n",
       "      <th>recall_classe(0)</th>\n",
       "      <th>recall_classe(1)</th>\n",
       "      <th>precision_classe(0)</th>\n",
       "      <th>precision_classe(1)</th>\n",
       "    </tr>\n",
       "  </thead>\n",
       "  <tbody>\n",
       "    <tr>\n",
       "      <th>0</th>\n",
       "      <td>ExtraTreesClassifier</td>\n",
       "      <td>0.350000</td>\n",
       "      <td>0.743997</td>\n",
       "      <td>0.505599</td>\n",
       "      <td>0.822034</td>\n",
       "      <td>0.583333</td>\n",
       "      <td>0.950980</td>\n",
       "      <td>0.250000</td>\n",
       "    </tr>\n",
       "    <tr>\n",
       "      <th>0</th>\n",
       "      <td>XGBClassifier</td>\n",
       "      <td>0.424242</td>\n",
       "      <td>0.793079</td>\n",
       "      <td>0.498210</td>\n",
       "      <td>0.881356</td>\n",
       "      <td>0.583333</td>\n",
       "      <td>0.954128</td>\n",
       "      <td>0.333333</td>\n",
       "    </tr>\n",
       "    <tr>\n",
       "      <th>0</th>\n",
       "      <td>AdaBoostClassifier</td>\n",
       "      <td>0.476190</td>\n",
       "      <td>0.585452</td>\n",
       "      <td>0.283489</td>\n",
       "      <td>0.966102</td>\n",
       "      <td>0.416667</td>\n",
       "      <td>0.942149</td>\n",
       "      <td>0.555556</td>\n",
       "    </tr>\n",
       "    <tr>\n",
       "      <th>0</th>\n",
       "      <td>DecisionTreeClassifier</td>\n",
       "      <td>0.500000</td>\n",
       "      <td>0.651130</td>\n",
       "      <td>0.461142</td>\n",
       "      <td>0.974576</td>\n",
       "      <td>0.416667</td>\n",
       "      <td>0.942623</td>\n",
       "      <td>0.625000</td>\n",
       "    </tr>\n",
       "    <tr>\n",
       "      <th>0</th>\n",
       "      <td>GaussianNB</td>\n",
       "      <td>0.192308</td>\n",
       "      <td>0.700565</td>\n",
       "      <td>0.293542</td>\n",
       "      <td>0.703390</td>\n",
       "      <td>0.416667</td>\n",
       "      <td>0.922222</td>\n",
       "      <td>0.125000</td>\n",
       "    </tr>\n",
       "    <tr>\n",
       "      <th>0</th>\n",
       "      <td>LGBMClassifier</td>\n",
       "      <td>0.378378</td>\n",
       "      <td>0.753531</td>\n",
       "      <td>0.492538</td>\n",
       "      <td>0.847458</td>\n",
       "      <td>0.583333</td>\n",
       "      <td>0.952381</td>\n",
       "      <td>0.280000</td>\n",
       "    </tr>\n",
       "    <tr>\n",
       "      <th>0</th>\n",
       "      <td>KNeiborsClassifier</td>\n",
       "      <td>0.526316</td>\n",
       "      <td>0.766949</td>\n",
       "      <td>0.585534</td>\n",
       "      <td>0.983051</td>\n",
       "      <td>0.416667</td>\n",
       "      <td>0.943089</td>\n",
       "      <td>0.714286</td>\n",
       "    </tr>\n",
       "    <tr>\n",
       "      <th>0</th>\n",
       "      <td>RandomForestClassifier</td>\n",
       "      <td>0.571429</td>\n",
       "      <td>0.783192</td>\n",
       "      <td>0.505365</td>\n",
       "      <td>0.974576</td>\n",
       "      <td>0.500000</td>\n",
       "      <td>0.950413</td>\n",
       "      <td>0.666667</td>\n",
       "    </tr>\n",
       "    <tr>\n",
       "      <th>0</th>\n",
       "      <td>SVM</td>\n",
       "      <td>0.484848</td>\n",
       "      <td>0.814266</td>\n",
       "      <td>0.554175</td>\n",
       "      <td>0.889831</td>\n",
       "      <td>0.666667</td>\n",
       "      <td>0.963303</td>\n",
       "      <td>0.380952</td>\n",
       "    </tr>\n",
       "    <tr>\n",
       "      <th>0</th>\n",
       "      <td>LogisticRegression</td>\n",
       "      <td>0.470588</td>\n",
       "      <td>0.818503</td>\n",
       "      <td>0.610812</td>\n",
       "      <td>0.881356</td>\n",
       "      <td>0.666667</td>\n",
       "      <td>0.962963</td>\n",
       "      <td>0.363636</td>\n",
       "    </tr>\n",
       "  </tbody>\n",
       "</table>\n",
       "</div>"
      ],
      "text/plain": [
       "                    model  f1_score       auc    auc_pr  recall_classe(0)  \\\n",
       "0    ExtraTreesClassifier  0.350000  0.743997  0.505599          0.822034   \n",
       "0           XGBClassifier  0.424242  0.793079  0.498210          0.881356   \n",
       "0      AdaBoostClassifier  0.476190  0.585452  0.283489          0.966102   \n",
       "0  DecisionTreeClassifier  0.500000  0.651130  0.461142          0.974576   \n",
       "0              GaussianNB  0.192308  0.700565  0.293542          0.703390   \n",
       "0          LGBMClassifier  0.378378  0.753531  0.492538          0.847458   \n",
       "0      KNeiborsClassifier  0.526316  0.766949  0.585534          0.983051   \n",
       "0  RandomForestClassifier  0.571429  0.783192  0.505365          0.974576   \n",
       "0                     SVM  0.484848  0.814266  0.554175          0.889831   \n",
       "0      LogisticRegression  0.470588  0.818503  0.610812          0.881356   \n",
       "\n",
       "   recall_classe(1)  precision_classe(0)  precision_classe(1)  \n",
       "0          0.583333             0.950980             0.250000  \n",
       "0          0.583333             0.954128             0.333333  \n",
       "0          0.416667             0.942149             0.555556  \n",
       "0          0.416667             0.942623             0.625000  \n",
       "0          0.416667             0.922222             0.125000  \n",
       "0          0.583333             0.952381             0.280000  \n",
       "0          0.416667             0.943089             0.714286  \n",
       "0          0.500000             0.950413             0.666667  \n",
       "0          0.666667             0.963303             0.380952  \n",
       "0          0.666667             0.962963             0.363636  "
      ]
     },
     "metadata": {},
     "output_type": "display_data"
    }
   ],
   "source": [
    "df_ros = [df1, df2, df3, df4, df5, df6, df7, df8, df9, df10]\n",
    "df_finale_ros = pd.concat(df)\n",
    "df_finale_ros"
   ]
  },
  {
   "cell_type": "code",
   "execution_count": null,
   "metadata": {},
   "outputs": [],
   "source": [
    "df_finale_ros.to_csv('df_finale_ros.csv', index=False)"
   ]
  },
  {
   "attachments": {},
   "cell_type": "markdown",
   "metadata": {},
   "source": [
    "# **SMOTE**"
   ]
  },
  {
   "cell_type": "code",
   "execution_count": null,
   "metadata": {},
   "outputs": [],
   "source": [
    "X_train = X_train_sm.reset_index(drop=True)\n",
    "y_train = y_train_sm.reset_index(drop=True)\n",
    "X_test = X_test.reset_index(drop=True)\n",
    "y_test = y_test.reset_index(drop=True)"
   ]
  },
  {
   "cell_type": "code",
   "execution_count": null,
   "metadata": {},
   "outputs": [],
   "source": [
    "n_samples, n_classes = X_train.shape[0], 2\n",
    "class_weights = dict(zip(np.unique(y_train), n_samples / (n_classes * np.bincount(y_train))))"
   ]
  },
  {
   "cell_type": "code",
   "execution_count": null,
   "metadata": {},
   "outputs": [],
   "source": [
    "best_para_sm = []"
   ]
  },
  {
   "attachments": {},
   "cell_type": "markdown",
   "metadata": {},
   "source": [
    "## **ExtraTreesClassifier**"
   ]
  },
  {
   "cell_type": "code",
   "execution_count": null,
   "metadata": {},
   "outputs": [],
   "source": [
    "clf1 = ExtraTreesClassifier(random_state=seed, class_weight='balanced')\n",
    "param_grid = {'n_estimators': [100, 500, 1000],\n",
    "              'max_depth': [10, 25, 50, 100],\n",
    "              'max_features': [int(sqrt(X.shape[1])), int(log2(X.shape[1]))],\n",
    "              'min_samples_split' : [2, 5, 10], \n",
    "              'min_samples_leaf' : [1, 5, 10],\n",
    "              'class_weight' : ['balanced', None]}\n",
    "\n",
    "# Define the GridSearchCV object with 5-fold cross-validation\n",
    "grid_search = GridSearchCV(clf1, param_grid=param_grid, cv=10, scoring='balanced_accuracy', n_jobs=-1)\n",
    "\n",
    "# Fit the GridSearchCV object with the training data\n",
    "grid_search.fit(X_train, y_train)\n",
    "best_params_sm.append(grid_search.best_params_)\n",
    "\n",
    "# Print the best hyperparameters and the corresponding mean cross-validation score\n",
    "print(\"Best hyperparameters: \", grid_search.best_params_)\n",
    "print(\"Best mean cross-validation score: {:.2f}\".format(grid_search.best_score_))\n",
    "\n",
    "# Use the best hyperparameters to fit the model to the training data\n",
    "clf_best = ExtraTreesClassifier(**grid_search.best_params_, random_state=seed)\n",
    "model1 = clf_best.fit(X_train, y_train)\n",
    "\n",
    "clf1 = print_auc(model1, X_train, y_train, X_test, y_test, 'ExtraTreesClassifier')\n",
    "df1 = pd.DataFrame(data=[['ExtraTreesClassifier', clf1['f1'], clf1['auc'], clf1['auc_pr'], clf1['recall_sc'][0], clf1['recall_sc'][1], clf1['precision_sc'][0], clf1['precision_sc'][1]]], \n",
    "                          columns=['model', 'f1_score', 'auc', 'auc_pr', 'recall_classe(0)', 'recall_classe(1)', 'precision_classe(0)', 'precision_classe(1)'])\n",
    "df1.style.hide_index()"
   ]
  },
  {
   "attachments": {},
   "cell_type": "markdown",
   "metadata": {},
   "source": [
    "## **XGBClassifier**"
   ]
  },
  {
   "cell_type": "code",
   "execution_count": null,
   "metadata": {},
   "outputs": [
    {
     "name": "stdout",
     "output_type": "stream",
     "text": [
      "Best hyperparameters:  {'colsample_bytree': 1.0, 'gamma': 0.5, 'learning_rate': 0.2, 'max_depth': 10, 'scale_pos_weight': 10.571428571428571, 'subsample': 0.5}\n",
      "Best mean cross-validation score: 0.85\n",
      "Train Result:\n",
      "================================================\n",
      "Accuracy Score: 91.31%\n",
      "_______________________________________________\n",
      "CLASSIFICATION REPORT:\n",
      "                    0          1  accuracy   macro avg  weighted avg\n",
      "precision    0.990847   0.493827  0.913127    0.742337      0.948629\n",
      "recall       0.913502   0.909091  0.913127    0.911297      0.913127\n",
      "f1-score     0.950604   0.640000  0.913127    0.795302      0.924220\n",
      "support    474.000000  44.000000  0.913127  518.000000    518.000000\n",
      "_______________________________________________\n",
      "Confusion Matrix: \n",
      " [[433  41]\n",
      " [  4  40]]\n",
      "\n",
      "Test Result:\n",
      "================================================\n",
      "Accuracy Score: 85.38%\n",
      "_______________________________________________\n",
      "CLASSIFICATION REPORT:\n",
      "                    0          1  accuracy   macro avg  weighted avg\n",
      "precision    0.954128   0.333333  0.853846    0.643731      0.896824\n",
      "recall       0.881356   0.583333  0.853846    0.732345      0.853846\n",
      "f1-score     0.916300   0.424242  0.853846    0.670271      0.870879\n",
      "support    118.000000  12.000000  0.853846  130.000000    130.000000\n",
      "_______________________________________________\n",
      "Confusion Matrix: \n",
      " [[104  14]\n",
      " [  5   7]]\n",
      "\n"
     ]
    },
    {
     "data": {
      "text/html": [
       "<style type=\"text/css\">\n",
       "</style>\n",
       "<table id=\"T_509db\">\n",
       "  <thead>\n",
       "    <tr>\n",
       "      <th id=\"T_509db_level0_col0\" class=\"col_heading level0 col0\" >model</th>\n",
       "      <th id=\"T_509db_level0_col1\" class=\"col_heading level0 col1\" >f1_score</th>\n",
       "      <th id=\"T_509db_level0_col2\" class=\"col_heading level0 col2\" >auc</th>\n",
       "      <th id=\"T_509db_level0_col3\" class=\"col_heading level0 col3\" >auc_pr</th>\n",
       "      <th id=\"T_509db_level0_col4\" class=\"col_heading level0 col4\" >recall_classe(0)</th>\n",
       "      <th id=\"T_509db_level0_col5\" class=\"col_heading level0 col5\" >recall_classe(1)</th>\n",
       "      <th id=\"T_509db_level0_col6\" class=\"col_heading level0 col6\" >precision_classe(0)</th>\n",
       "      <th id=\"T_509db_level0_col7\" class=\"col_heading level0 col7\" >precision_classe(1)</th>\n",
       "    </tr>\n",
       "  </thead>\n",
       "  <tbody>\n",
       "    <tr>\n",
       "      <td id=\"T_509db_row0_col0\" class=\"data row0 col0\" >XGBClassifier</td>\n",
       "      <td id=\"T_509db_row0_col1\" class=\"data row0 col1\" >0.424242</td>\n",
       "      <td id=\"T_509db_row0_col2\" class=\"data row0 col2\" >0.793079</td>\n",
       "      <td id=\"T_509db_row0_col3\" class=\"data row0 col3\" >0.498210</td>\n",
       "      <td id=\"T_509db_row0_col4\" class=\"data row0 col4\" >0.881356</td>\n",
       "      <td id=\"T_509db_row0_col5\" class=\"data row0 col5\" >0.583333</td>\n",
       "      <td id=\"T_509db_row0_col6\" class=\"data row0 col6\" >0.954128</td>\n",
       "      <td id=\"T_509db_row0_col7\" class=\"data row0 col7\" >0.333333</td>\n",
       "    </tr>\n",
       "  </tbody>\n",
       "</table>\n"
      ],
      "text/plain": [
       "<pandas.io.formats.style.Styler at 0x22a83383b50>"
      ]
     },
     "metadata": {},
     "output_type": "display_data"
    }
   ],
   "source": [
    "clf2 = xgb.XGBClassifier(objective='binary:logistic')\n",
    "param_grid = {'learning_rate' : [0.01, 0.1, 0.2],\n",
    "              'max_depth' : [3, 10, 25],\n",
    "              'gamma' : [0.1, 0.5, 1.0],\n",
    "              'subsample': [0.5, 0.8, 1.0],\n",
    "              'colsample_bytree': [0.5, 0.8, 1.0],\n",
    "              'scale_pos_weight': [1, imbalance_ratio]}\n",
    "\n",
    "# Define the GridSearchCV object with 5-fold cross-validation\n",
    "grid_search = GridSearchCV(clf2, param_grid=param_grid, cv=10, scoring='balanced_accuracy', n_jobs=-1)\n",
    "\n",
    "# Fit the GridSearchCV object with the training data\n",
    "grid_search.fit(X_train, y_train)\n",
    "best_params_sm.append(grid_search.best_params_)\n",
    "\n",
    "# Print the best hyperparameters and the corresponding mean cross-validation score\n",
    "print(\"Best hyperparameters: \", grid_search.best_params_)\n",
    "print(\"Best mean cross-validation score: {:.2f}\".format(grid_search.best_score_))\n",
    "\n",
    "# Use the best hyperparameters to fit the model to the training data\n",
    "clf_best = xgb.XGBClassifier(**grid_search.best_params_, objective='binary:logistic')\n",
    "model2 = clf_best.fit(X_train, y_train)\n",
    "\n",
    "clf2 = print_auc(model2, X_train, y_train, X_test, y_test, 'XGBClassifier')\n",
    "df2 = pd.DataFrame(data=[['XGBClassifier', clf2['f1'], clf2['auc'], clf2['auc_pr'], clf2['recall_sc'][0], clf2['recall_sc'][1], clf2['precision_sc'][0], clf2['precision_sc'][1]]], \n",
    "                          columns=['model', 'f1_score', 'auc', 'auc_pr', 'recall_classe(0)', 'recall_classe(1)', 'precision_classe(0)', 'precision_classe(1)'])\n",
    "df2.style.hide_index()"
   ]
  },
  {
   "attachments": {},
   "cell_type": "markdown",
   "metadata": {},
   "source": [
    "## **AdaBoostClassifier**"
   ]
  },
  {
   "cell_type": "code",
   "execution_count": null,
   "metadata": {},
   "outputs": [
    {
     "name": "stdout",
     "output_type": "stream",
     "text": [
      "Best hyperparameters:  {'base_estimator': DecisionTreeClassifier(max_depth=3), 'learning_rate': 0.2, 'n_estimators': 200}\n",
      "Best mean cross-validation score: 0.74\n",
      "Train Result:\n",
      "================================================\n",
      "Accuracy Score: 96.72%\n",
      "_______________________________________________\n",
      "CLASSIFICATION REPORT:\n",
      "                    0          1  accuracy   macro avg  weighted avg\n",
      "precision    0.971134   0.909091  0.967181    0.940112      0.965864\n",
      "recall       0.993671   0.681818  0.967181    0.837745      0.967181\n",
      "f1-score     0.982273   0.779221  0.967181    0.880747      0.965026\n",
      "support    474.000000  44.000000  0.967181  518.000000    518.000000\n",
      "_______________________________________________\n",
      "Confusion Matrix: \n",
      " [[471   3]\n",
      " [ 14  30]]\n",
      "\n",
      "Test Result:\n",
      "================================================\n",
      "Accuracy Score: 91.54%\n",
      "_______________________________________________\n",
      "CLASSIFICATION REPORT:\n",
      "                    0          1  accuracy   macro avg  weighted avg\n",
      "precision    0.942149   0.555556  0.915385    0.748852      0.906463\n",
      "recall       0.966102   0.416667  0.915385    0.691384      0.915385\n",
      "f1-score     0.953975   0.476190  0.915385    0.715083      0.909872\n",
      "support    118.000000  12.000000  0.915385  130.000000    130.000000\n",
      "_______________________________________________\n",
      "Confusion Matrix: \n",
      " [[114   4]\n",
      " [  7   5]]\n",
      "\n"
     ]
    },
    {
     "data": {
      "text/html": [
       "<style type=\"text/css\">\n",
       "</style>\n",
       "<table id=\"T_26bbc\">\n",
       "  <thead>\n",
       "    <tr>\n",
       "      <th id=\"T_26bbc_level0_col0\" class=\"col_heading level0 col0\" >model</th>\n",
       "      <th id=\"T_26bbc_level0_col1\" class=\"col_heading level0 col1\" >f1_score</th>\n",
       "      <th id=\"T_26bbc_level0_col2\" class=\"col_heading level0 col2\" >auc</th>\n",
       "      <th id=\"T_26bbc_level0_col3\" class=\"col_heading level0 col3\" >auc_pr</th>\n",
       "      <th id=\"T_26bbc_level0_col4\" class=\"col_heading level0 col4\" >recall_classe(0)</th>\n",
       "      <th id=\"T_26bbc_level0_col5\" class=\"col_heading level0 col5\" >recall_classe(1)</th>\n",
       "      <th id=\"T_26bbc_level0_col6\" class=\"col_heading level0 col6\" >precision_classe(0)</th>\n",
       "      <th id=\"T_26bbc_level0_col7\" class=\"col_heading level0 col7\" >precision_classe(1)</th>\n",
       "    </tr>\n",
       "  </thead>\n",
       "  <tbody>\n",
       "    <tr>\n",
       "      <td id=\"T_26bbc_row0_col0\" class=\"data row0 col0\" >AdaBoostClassifier</td>\n",
       "      <td id=\"T_26bbc_row0_col1\" class=\"data row0 col1\" >0.476190</td>\n",
       "      <td id=\"T_26bbc_row0_col2\" class=\"data row0 col2\" >0.585452</td>\n",
       "      <td id=\"T_26bbc_row0_col3\" class=\"data row0 col3\" >0.283489</td>\n",
       "      <td id=\"T_26bbc_row0_col4\" class=\"data row0 col4\" >0.966102</td>\n",
       "      <td id=\"T_26bbc_row0_col5\" class=\"data row0 col5\" >0.416667</td>\n",
       "      <td id=\"T_26bbc_row0_col6\" class=\"data row0 col6\" >0.942149</td>\n",
       "      <td id=\"T_26bbc_row0_col7\" class=\"data row0 col7\" >0.555556</td>\n",
       "    </tr>\n",
       "  </tbody>\n",
       "</table>\n"
      ],
      "text/plain": [
       "<pandas.io.formats.style.Styler at 0x22a83139950>"
      ]
     },
     "metadata": {},
     "output_type": "display_data"
    }
   ],
   "source": [
    "clf3 = AdaBoostClassifier(random_state=seed)\n",
    "param_grid = {'n_estimators': [50, 100, 200],\n",
    "              'learning_rate': [0.01, 0.1, 0.2],\n",
    "              'base_estimator': [DecisionTreeClassifier(max_depth=1), DecisionTreeClassifier(max_depth=3)]}\n",
    "\n",
    "# Define the GridSearchCV object with 5-fold cross-validation\n",
    "grid_search = GridSearchCV(clf3, param_grid=param_grid, cv=10, scoring='balanced_accuracy', n_jobs=-1)\n",
    "\n",
    "# Fit the GridSearchCV object with the training data\n",
    "grid_search.fit(X_train, y_train)\n",
    "best_params_sm.append(grid_search.best_params_)\n",
    "\n",
    "# Print the best hyperparameters and the corresponding mean cross-validation score\n",
    "print(\"Best hyperparameters: \", grid_search.best_params_)\n",
    "print(\"Best mean cross-validation score: {:.2f}\".format(grid_search.best_score_))\n",
    "\n",
    "# Use the best hyperparameters to fit the model to the training data\n",
    "clf_best = AdaBoostClassifier(**grid_search.best_params_, random_state=seed)\n",
    "model3 = clf_best.fit(X_train, y_train)\n",
    "\n",
    "clf3 = print_auc(model3, X_train, y_train, X_test, y_test, 'AdaBoostClassifier')\n",
    "df3 = pd.DataFrame(data=[['AdaBoostClassifier', clf3['f1'], clf3['auc'], clf3['auc_pr'], clf3['recall_sc'][0], clf3['recall_sc'][1], clf3['precision_sc'][0], clf3['precision_sc'][1]]], \n",
    "                          columns=['model', 'f1_score', 'auc', 'auc_pr', 'recall_classe(0)', 'recall_classe(1)', 'precision_classe(0)', 'precision_classe(1)'])\n",
    "df3.style.hide_index()"
   ]
  },
  {
   "attachments": {},
   "cell_type": "markdown",
   "metadata": {},
   "source": [
    "## **DecisionTreeClassifier**"
   ]
  },
  {
   "cell_type": "code",
   "execution_count": null,
   "metadata": {},
   "outputs": [
    {
     "name": "stdout",
     "output_type": "stream",
     "text": [
      "Best hyperparameters:  {'criterion': 'gini', 'max_depth': None, 'max_features': 6, 'min_samples_leaf': 1, 'min_samples_split': 2}\n",
      "Best mean cross-validation score: 0.68\n",
      "Train Result:\n",
      "================================================\n",
      "Accuracy Score: 96.72%\n",
      "_______________________________________________\n",
      "CLASSIFICATION REPORT:\n",
      "                    0          1  accuracy   macro avg  weighted avg\n",
      "precision    0.969199   0.935484  0.967181    0.952342      0.966335\n",
      "recall       0.995781   0.659091  0.967181    0.827436      0.967181\n",
      "f1-score     0.982310   0.773333  0.967181    0.877822      0.964559\n",
      "support    474.000000  44.000000  0.967181  518.000000    518.000000\n",
      "_______________________________________________\n",
      "Confusion Matrix: \n",
      " [[472   2]\n",
      " [ 15  29]]\n",
      "\n",
      "Test Result:\n",
      "================================================\n",
      "Accuracy Score: 92.31%\n",
      "_______________________________________________\n",
      "CLASSIFICATION REPORT:\n",
      "                    0          1  accuracy   macro avg  weighted avg\n",
      "precision    0.942623   0.625000  0.923077    0.783811      0.913304\n",
      "recall       0.974576   0.416667  0.923077    0.695621      0.923077\n",
      "f1-score     0.958333   0.500000  0.923077    0.729167      0.916026\n",
      "support    118.000000  12.000000  0.923077  130.000000    130.000000\n",
      "_______________________________________________\n",
      "Confusion Matrix: \n",
      " [[115   3]\n",
      " [  7   5]]\n",
      "\n"
     ]
    },
    {
     "data": {
      "text/html": [
       "<style type=\"text/css\">\n",
       "</style>\n",
       "<table id=\"T_14d4b\">\n",
       "  <thead>\n",
       "    <tr>\n",
       "      <th id=\"T_14d4b_level0_col0\" class=\"col_heading level0 col0\" >model</th>\n",
       "      <th id=\"T_14d4b_level0_col1\" class=\"col_heading level0 col1\" >f1_score</th>\n",
       "      <th id=\"T_14d4b_level0_col2\" class=\"col_heading level0 col2\" >auc</th>\n",
       "      <th id=\"T_14d4b_level0_col3\" class=\"col_heading level0 col3\" >auc_pr</th>\n",
       "      <th id=\"T_14d4b_level0_col4\" class=\"col_heading level0 col4\" >recall_classe(0)</th>\n",
       "      <th id=\"T_14d4b_level0_col5\" class=\"col_heading level0 col5\" >recall_classe(1)</th>\n",
       "      <th id=\"T_14d4b_level0_col6\" class=\"col_heading level0 col6\" >precision_classe(0)</th>\n",
       "      <th id=\"T_14d4b_level0_col7\" class=\"col_heading level0 col7\" >precision_classe(1)</th>\n",
       "    </tr>\n",
       "  </thead>\n",
       "  <tbody>\n",
       "    <tr>\n",
       "      <td id=\"T_14d4b_row0_col0\" class=\"data row0 col0\" >DecisionTreeClassifier</td>\n",
       "      <td id=\"T_14d4b_row0_col1\" class=\"data row0 col1\" >0.500000</td>\n",
       "      <td id=\"T_14d4b_row0_col2\" class=\"data row0 col2\" >0.651130</td>\n",
       "      <td id=\"T_14d4b_row0_col3\" class=\"data row0 col3\" >0.461142</td>\n",
       "      <td id=\"T_14d4b_row0_col4\" class=\"data row0 col4\" >0.974576</td>\n",
       "      <td id=\"T_14d4b_row0_col5\" class=\"data row0 col5\" >0.416667</td>\n",
       "      <td id=\"T_14d4b_row0_col6\" class=\"data row0 col6\" >0.942623</td>\n",
       "      <td id=\"T_14d4b_row0_col7\" class=\"data row0 col7\" >0.625000</td>\n",
       "    </tr>\n",
       "  </tbody>\n",
       "</table>\n"
      ],
      "text/plain": [
       "<pandas.io.formats.style.Styler at 0x22a87c6c4d0>"
      ]
     },
     "metadata": {},
     "output_type": "display_data"
    }
   ],
   "source": [
    "clf4 = DecisionTreeClassifier(random_state=seed)\n",
    "param_grid = {'min_samples_split': [2, 5, 10, 20],\n",
    "              'max_depth': [2, 3, 4, 5, None],\n",
    "              'min_samples_leaf': [1, 2, 4, 8],\n",
    "              'criterion' : ['gini', 'entropy', 'log_loss'],\n",
    "              'max_features': ['auto', int(sqrt(X.shape[1])), int(log2(X.shape[1]))]}\n",
    "\n",
    "# Define the GridSearchCV object with 5-fold cross-validation\n",
    "grid_search = GridSearchCV(clf4, param_grid=param_grid, cv=10, scoring='balanced_accuracy', n_jobs=-1)\n",
    "\n",
    "# Fit the GridSearchCV object with the training data\n",
    "grid_search.fit(X_train, y_train)\n",
    "best_params_sm.append(grid_search.best_params_)\n",
    "\n",
    "# Print the best hyperparameters and the corresponding mean cross-validation score\n",
    "print(\"Best hyperparameters: \", grid_search.best_params_)\n",
    "print(\"Best mean cross-validation score: {:.2f}\".format(grid_search.best_score_))\n",
    "\n",
    "# Use the best hyperparameters to fit the model to the training data\n",
    "clf_best = DecisionTreeClassifier(**grid_search.best_params_, random_state=seed)\n",
    "model4 = clf_best.fit(X_train, y_train)\n",
    "\n",
    "clf4 = print_auc(model4, X_train, y_train, X_test, y_test, 'DecisionTreeClassifier')\n",
    "df4 = pd.DataFrame(data=[['DecisionTreeClassifier', clf4['f1'], clf4['auc'], clf4['auc_pr'], clf4['recall_sc'][0], clf4['recall_sc'][1], clf4['precision_sc'][0], clf4['precision_sc'][1]]], \n",
    "                          columns=['model', 'f1_score', 'auc', 'auc_pr', 'recall_classe(0)', 'recall_classe(1)', 'precision_classe(0)', 'precision_classe(1)'])\n",
    "df4.style.hide_index()"
   ]
  },
  {
   "attachments": {},
   "cell_type": "markdown",
   "metadata": {},
   "source": [
    "## **GaussianNB**"
   ]
  },
  {
   "cell_type": "code",
   "execution_count": null,
   "metadata": {},
   "outputs": [
    {
     "name": "stdout",
     "output_type": "stream",
     "text": [
      "Best hyperparameters:  {'var_smoothing': 1e-05}\n",
      "Best mean cross-validation score: 0.68\n",
      "Train Result:\n",
      "================================================\n",
      "Accuracy Score: 82.43%\n",
      "_______________________________________________\n",
      "CLASSIFICATION REPORT:\n",
      "                    0          1  accuracy   macro avg  weighted avg\n",
      "precision    0.957041   0.262626  0.824324    0.609833      0.898056\n",
      "recall       0.845992   0.590909  0.824324    0.718450      0.824324\n",
      "f1-score     0.898096   0.363636  0.824324    0.630866      0.852698\n",
      "support    474.000000  44.000000  0.824324  518.000000    518.000000\n",
      "_______________________________________________\n",
      "Confusion Matrix: \n",
      " [[401  73]\n",
      " [ 18  26]]\n",
      "\n",
      "Test Result:\n",
      "================================================\n",
      "Accuracy Score: 67.69%\n",
      "_______________________________________________\n",
      "CLASSIFICATION REPORT:\n",
      "                    0          1  accuracy   macro avg  weighted avg\n",
      "precision    0.922222   0.125000  0.676923    0.523611      0.848632\n",
      "recall       0.703390   0.416667  0.676923    0.560028      0.676923\n",
      "f1-score     0.798077   0.192308  0.676923    0.495192      0.742160\n",
      "support    118.000000  12.000000  0.676923  130.000000    130.000000\n",
      "_______________________________________________\n",
      "Confusion Matrix: \n",
      " [[83 35]\n",
      " [ 7  5]]\n",
      "\n"
     ]
    },
    {
     "data": {
      "text/html": [
       "<style type=\"text/css\">\n",
       "</style>\n",
       "<table id=\"T_c210c\">\n",
       "  <thead>\n",
       "    <tr>\n",
       "      <th id=\"T_c210c_level0_col0\" class=\"col_heading level0 col0\" >model</th>\n",
       "      <th id=\"T_c210c_level0_col1\" class=\"col_heading level0 col1\" >f1_score</th>\n",
       "      <th id=\"T_c210c_level0_col2\" class=\"col_heading level0 col2\" >auc</th>\n",
       "      <th id=\"T_c210c_level0_col3\" class=\"col_heading level0 col3\" >auc_pr</th>\n",
       "      <th id=\"T_c210c_level0_col4\" class=\"col_heading level0 col4\" >recall_classe(0)</th>\n",
       "      <th id=\"T_c210c_level0_col5\" class=\"col_heading level0 col5\" >recall_classe(1)</th>\n",
       "      <th id=\"T_c210c_level0_col6\" class=\"col_heading level0 col6\" >precision_classe(0)</th>\n",
       "      <th id=\"T_c210c_level0_col7\" class=\"col_heading level0 col7\" >precision_classe(1)</th>\n",
       "    </tr>\n",
       "  </thead>\n",
       "  <tbody>\n",
       "    <tr>\n",
       "      <td id=\"T_c210c_row0_col0\" class=\"data row0 col0\" >GaussianNB</td>\n",
       "      <td id=\"T_c210c_row0_col1\" class=\"data row0 col1\" >0.192308</td>\n",
       "      <td id=\"T_c210c_row0_col2\" class=\"data row0 col2\" >0.700565</td>\n",
       "      <td id=\"T_c210c_row0_col3\" class=\"data row0 col3\" >0.293542</td>\n",
       "      <td id=\"T_c210c_row0_col4\" class=\"data row0 col4\" >0.703390</td>\n",
       "      <td id=\"T_c210c_row0_col5\" class=\"data row0 col5\" >0.416667</td>\n",
       "      <td id=\"T_c210c_row0_col6\" class=\"data row0 col6\" >0.922222</td>\n",
       "      <td id=\"T_c210c_row0_col7\" class=\"data row0 col7\" >0.125000</td>\n",
       "    </tr>\n",
       "  </tbody>\n",
       "</table>\n"
      ],
      "text/plain": [
       "<pandas.io.formats.style.Styler at 0x22a87c6d250>"
      ]
     },
     "metadata": {},
     "output_type": "display_data"
    }
   ],
   "source": [
    "clf5 = GaussianNB()\n",
    "param_grid = {'var_smoothing': [1e-9, 1e-8, 1e-7, 1e-6, 1e-5]}\n",
    "\n",
    "# Define the GridSearchCV object with 5-fold cross-validation\n",
    "grid_search = GridSearchCV(clf5, param_grid=param_grid, cv=10, scoring='balanced_accuracy', n_jobs=-1)\n",
    "\n",
    "# Fit the GridSearchCV object with the training data\n",
    "grid_search.fit(X_train, y_train)\n",
    "best_params_sm.append(grid_search.best_params_)\n",
    "\n",
    "# Print the best hyperparameters and the corresponding mean cross-validation score\n",
    "print(\"Best hyperparameters: \", grid_search.best_params_)\n",
    "print(\"Best mean cross-validation score: {:.2f}\".format(grid_search.best_score_))\n",
    "\n",
    "# Use the best hyperparameters to fit the model to the training data\n",
    "clf_best = GaussianNB(**grid_search.best_params_)\n",
    "model5 = clf_best.fit(X_train, y_train)\n",
    "\n",
    "clf5 = print_auc(model5, X_train, y_train, X_test, y_test, 'GaussianNB')\n",
    "df5 = pd.DataFrame(data=[['GaussianNB', clf5['f1'], clf5['auc'], clf5['auc_pr'], clf5['recall_sc'][0], clf5['recall_sc'][1], clf5['precision_sc'][0], clf5['precision_sc'][1]]], \n",
    "                          columns=['model', 'f1_score', 'auc', 'auc_pr', 'recall_classe(0)', 'recall_classe(1)', 'precision_classe(0)', 'precision_classe(1)'])\n",
    "df5.style.hide_index()"
   ]
  },
  {
   "attachments": {},
   "cell_type": "markdown",
   "metadata": {},
   "source": [
    "## **LGBMClassifier**"
   ]
  },
  {
   "cell_type": "code",
   "execution_count": null,
   "metadata": {},
   "outputs": [
    {
     "name": "stdout",
     "output_type": "stream",
     "text": [
      "Best hyperparameters:  {'class_weight': 'balanced', 'colsample_bytree': 0.9, 'learning_rate': 0.1, 'max_depth': 7, 'min_child_samples': 10, 'n_estimators': 50, 'num_leaves': 10, 'subsample': 0.8}\n",
      "Best mean cross-validation score: 0.86\n",
      "Train Result:\n",
      "================================================\n",
      "Accuracy Score: 90.54%\n",
      "_______________________________________________\n",
      "CLASSIFICATION REPORT:\n",
      "                    0          1  accuracy   macro avg  weighted avg\n",
      "precision    0.990762   0.470588  0.905405    0.730675      0.946577\n",
      "recall       0.905063   0.909091  0.905405    0.907077      0.905405\n",
      "f1-score     0.945976   0.620155  0.905405    0.783065      0.918300\n",
      "support    474.000000  44.000000  0.905405  518.000000    518.000000\n",
      "_______________________________________________\n",
      "Confusion Matrix: \n",
      " [[429  45]\n",
      " [  4  40]]\n",
      "\n",
      "Test Result:\n",
      "================================================\n",
      "Accuracy Score: 82.31%\n",
      "_______________________________________________\n",
      "CLASSIFICATION REPORT:\n",
      "                    0          1  accuracy   macro avg  weighted avg\n",
      "precision    0.952381   0.280000  0.823077    0.616190      0.890315\n",
      "recall       0.847458   0.583333  0.823077    0.715395      0.823077\n",
      "f1-score     0.896861   0.378378  0.823077    0.637620      0.849001\n",
      "support    118.000000  12.000000  0.823077  130.000000    130.000000\n",
      "_______________________________________________\n",
      "Confusion Matrix: \n",
      " [[100  18]\n",
      " [  5   7]]\n",
      "\n"
     ]
    },
    {
     "data": {
      "text/html": [
       "<style type=\"text/css\">\n",
       "</style>\n",
       "<table id=\"T_c4d84\">\n",
       "  <thead>\n",
       "    <tr>\n",
       "      <th id=\"T_c4d84_level0_col0\" class=\"col_heading level0 col0\" >model</th>\n",
       "      <th id=\"T_c4d84_level0_col1\" class=\"col_heading level0 col1\" >f1_score</th>\n",
       "      <th id=\"T_c4d84_level0_col2\" class=\"col_heading level0 col2\" >auc</th>\n",
       "      <th id=\"T_c4d84_level0_col3\" class=\"col_heading level0 col3\" >auc_pr</th>\n",
       "      <th id=\"T_c4d84_level0_col4\" class=\"col_heading level0 col4\" >recall_classe(0)</th>\n",
       "      <th id=\"T_c4d84_level0_col5\" class=\"col_heading level0 col5\" >recall_classe(1)</th>\n",
       "      <th id=\"T_c4d84_level0_col6\" class=\"col_heading level0 col6\" >precision_classe(0)</th>\n",
       "      <th id=\"T_c4d84_level0_col7\" class=\"col_heading level0 col7\" >precision_classe(1)</th>\n",
       "    </tr>\n",
       "  </thead>\n",
       "  <tbody>\n",
       "    <tr>\n",
       "      <td id=\"T_c4d84_row0_col0\" class=\"data row0 col0\" >LGBMClassifier</td>\n",
       "      <td id=\"T_c4d84_row0_col1\" class=\"data row0 col1\" >0.378378</td>\n",
       "      <td id=\"T_c4d84_row0_col2\" class=\"data row0 col2\" >0.753531</td>\n",
       "      <td id=\"T_c4d84_row0_col3\" class=\"data row0 col3\" >0.492538</td>\n",
       "      <td id=\"T_c4d84_row0_col4\" class=\"data row0 col4\" >0.847458</td>\n",
       "      <td id=\"T_c4d84_row0_col5\" class=\"data row0 col5\" >0.583333</td>\n",
       "      <td id=\"T_c4d84_row0_col6\" class=\"data row0 col6\" >0.952381</td>\n",
       "      <td id=\"T_c4d84_row0_col7\" class=\"data row0 col7\" >0.280000</td>\n",
       "    </tr>\n",
       "  </tbody>\n",
       "</table>\n"
      ],
      "text/plain": [
       "<pandas.io.formats.style.Styler at 0x22a8772dc90>"
      ]
     },
     "metadata": {},
     "output_type": "display_data"
    }
   ],
   "source": [
    "clf6 = lgb.LGBMClassifier()\n",
    "param_grid = {'num_leaves': [10, 20, 30],\n",
    "              'max_depth': [3, 5, 7],\n",
    "              'learning_rate': [0.01, 0.1],\n",
    "              'n_estimators': [50, 100, 200],\n",
    "              'min_child_samples': [10, 20, 30],\n",
    "              'subsample': [0.8, 0.9, 1.0],\n",
    "              'colsample_bytree': [0.8, 0.9, 1.0],\n",
    "              'class_weight' : ['balanced', None, class_weights]}\n",
    "         \n",
    "# Define the GridSearchCV object with 5-fold cross-validation\n",
    "grid_search = GridSearchCV(clf6, param_grid=param_grid, cv=10, scoring='balanced_accuracy', n_jobs=-1)\n",
    "\n",
    "# Fit the GridSearchCV object with the training data\n",
    "grid_search.fit(X_train, y_train)\n",
    "best_params_sm.append(grid_search.best_params_)\n",
    "\n",
    "# Print the best hyperparameters and the corresponding mean cross-validation score\n",
    "print(\"Best hyperparameters: \", grid_search.best_params_)\n",
    "print(\"Best mean cross-validation score: {:.2f}\".format(grid_search.best_score_))\n",
    "\n",
    "# Use the best hyperparameters to fit the model to the training data\n",
    "clf_best = lgb.LGBMClassifier(**grid_search.best_params_)\n",
    "model6 = clf_best.fit(X_train, y_train)\n",
    "\n",
    "clf6 = print_auc(model6, X_train, y_train, X_test, y_test, 'LGBMClassifier')\n",
    "df6 = pd.DataFrame(data=[['LGBMClassifier', clf6['f1'], clf6['auc'], clf6['auc_pr'], clf6['recall_sc'][0], clf6['recall_sc'][1], clf6['precision_sc'][0], clf6['precision_sc'][1]]], \n",
    "                          columns=['model', 'f1_score', 'auc', 'auc_pr', 'recall_classe(0)', 'recall_classe(1)', 'precision_classe(0)', 'precision_classe(1)'])\n",
    "df6.style.hide_index()"
   ]
  },
  {
   "attachments": {},
   "cell_type": "markdown",
   "metadata": {},
   "source": [
    "## **KNeighborsClassifier**"
   ]
  },
  {
   "cell_type": "code",
   "execution_count": null,
   "metadata": {},
   "outputs": [
    {
     "name": "stdout",
     "output_type": "stream",
     "text": [
      "Best hyperparameters:  {'algorithm': 'brute', 'leaf_size': 10, 'n_neighbors': 5, 'p': 1, 'weights': 'distance'}\n",
      "Best mean cross-validation score: 0.66\n",
      "Train Result:\n",
      "================================================\n",
      "Accuracy Score: 96.72%\n",
      "_______________________________________________\n",
      "CLASSIFICATION REPORT:\n",
      "                    0          1  accuracy   macro avg  weighted avg\n",
      "precision    0.969199   0.935484  0.967181    0.952342      0.966335\n",
      "recall       0.995781   0.659091  0.967181    0.827436      0.967181\n",
      "f1-score     0.982310   0.773333  0.967181    0.877822      0.964559\n",
      "support    474.000000  44.000000  0.967181  518.000000    518.000000\n",
      "_______________________________________________\n",
      "Confusion Matrix: \n",
      " [[472   2]\n",
      " [ 15  29]]\n",
      "\n",
      "Test Result:\n",
      "================================================\n",
      "Accuracy Score: 93.08%\n",
      "_______________________________________________\n",
      "CLASSIFICATION REPORT:\n",
      "                    0          1  accuracy   macro avg  weighted avg\n",
      "precision    0.943089   0.714286  0.930769    0.828688      0.921969\n",
      "recall       0.983051   0.416667  0.930769    0.699859      0.930769\n",
      "f1-score     0.962656   0.526316  0.930769    0.744486      0.922378\n",
      "support    118.000000  12.000000  0.930769  130.000000    130.000000\n",
      "_______________________________________________\n",
      "Confusion Matrix: \n",
      " [[116   2]\n",
      " [  7   5]]\n",
      "\n"
     ]
    },
    {
     "data": {
      "text/html": [
       "<style type=\"text/css\">\n",
       "</style>\n",
       "<table id=\"T_34e85\">\n",
       "  <thead>\n",
       "    <tr>\n",
       "      <th id=\"T_34e85_level0_col0\" class=\"col_heading level0 col0\" >model</th>\n",
       "      <th id=\"T_34e85_level0_col1\" class=\"col_heading level0 col1\" >f1_score</th>\n",
       "      <th id=\"T_34e85_level0_col2\" class=\"col_heading level0 col2\" >auc</th>\n",
       "      <th id=\"T_34e85_level0_col3\" class=\"col_heading level0 col3\" >auc_pr</th>\n",
       "      <th id=\"T_34e85_level0_col4\" class=\"col_heading level0 col4\" >recall_classe(0)</th>\n",
       "      <th id=\"T_34e85_level0_col5\" class=\"col_heading level0 col5\" >recall_classe(1)</th>\n",
       "      <th id=\"T_34e85_level0_col6\" class=\"col_heading level0 col6\" >precision_classe(0)</th>\n",
       "      <th id=\"T_34e85_level0_col7\" class=\"col_heading level0 col7\" >precision_classe(1)</th>\n",
       "    </tr>\n",
       "  </thead>\n",
       "  <tbody>\n",
       "    <tr>\n",
       "      <td id=\"T_34e85_row0_col0\" class=\"data row0 col0\" >KNeiborsClassifier</td>\n",
       "      <td id=\"T_34e85_row0_col1\" class=\"data row0 col1\" >0.526316</td>\n",
       "      <td id=\"T_34e85_row0_col2\" class=\"data row0 col2\" >0.766949</td>\n",
       "      <td id=\"T_34e85_row0_col3\" class=\"data row0 col3\" >0.585534</td>\n",
       "      <td id=\"T_34e85_row0_col4\" class=\"data row0 col4\" >0.983051</td>\n",
       "      <td id=\"T_34e85_row0_col5\" class=\"data row0 col5\" >0.416667</td>\n",
       "      <td id=\"T_34e85_row0_col6\" class=\"data row0 col6\" >0.943089</td>\n",
       "      <td id=\"T_34e85_row0_col7\" class=\"data row0 col7\" >0.714286</td>\n",
       "    </tr>\n",
       "  </tbody>\n",
       "</table>\n"
      ],
      "text/plain": [
       "<pandas.io.formats.style.Styler at 0x22a831d3cd0>"
      ]
     },
     "metadata": {},
     "output_type": "display_data"
    }
   ],
   "source": [
    "clf7 = KNeighborsClassifier()\n",
    "param_grid = {'n_neighbors': [3, 5, 7],\n",
    "              'weights': ['uniform', 'distance'],\n",
    "              'p': [1, 2],\n",
    "              'algorithm': ['brute'],\n",
    "              'leaf_size': [10, 30, 50]}\n",
    "\n",
    "# Define the GridSearchCV object with 5-fold cross-validation\n",
    "grid_search = GridSearchCV(clf7, param_grid=param_grid, cv=10, scoring='balanced_accuracy', n_jobs=-1)\n",
    "\n",
    "# Fit the GridSearchCV object with the training data\n",
    "grid_search.fit(X_train, y_train)\n",
    "best_params_sm.append(grid_search.best_params_)\n",
    "\n",
    "# Print the best hyperparameters and the corresponding mean cross-validation score\n",
    "print(\"Best hyperparameters: \", grid_search.best_params_)\n",
    "print(\"Best mean cross-validation score: {:.2f}\".format(grid_search.best_score_))\n",
    "\n",
    "# Use the best hyperparameters to fit the model to the training data\n",
    "clf_best = KNeighborsClassifier(**grid_search.best_params_)\n",
    "model7 = clf_best.fit(X_train, y_train)\n",
    "\n",
    "clf7 = print_auc(model7, X_train, y_train, X_test, y_test, 'KNeiborsClassifier')\n",
    "df7 = pd.DataFrame(data=[['KNeiborsClassifier', clf7['f1'], clf7['auc'], clf7['auc_pr'], clf7['recall_sc'][0], clf7['recall_sc'][1], clf7['precision_sc'][0], clf7['precision_sc'][1]]], \n",
    "                          columns=['model', 'f1_score', 'auc', 'auc_pr', 'recall_classe(0)', 'recall_classe(1)', 'precision_classe(0)', 'precision_classe(1)'])\n",
    "df7.style.hide_index()"
   ]
  },
  {
   "attachments": {},
   "cell_type": "markdown",
   "metadata": {},
   "source": [
    "## **RandomForestClassifier**"
   ]
  },
  {
   "cell_type": "code",
   "execution_count": null,
   "metadata": {},
   "outputs": [
    {
     "name": "stdout",
     "output_type": "stream",
     "text": [
      "Best hyperparameters:  {'criterion': 'entropy', 'max_depth': 7, 'max_features': 'sqrt', 'min_samples_leaf': 4, 'min_samples_split': 2, 'n_estimators': 100}\n",
      "Best mean cross-validation score: 0.65\n",
      "Train Result:\n",
      "================================================\n",
      "Accuracy Score: 93.82%\n",
      "_______________________________________________\n",
      "CLASSIFICATION REPORT:\n",
      "                    0          1  accuracy   macro avg  weighted avg\n",
      "precision    0.942000   0.833333  0.938224    0.887667      0.932770\n",
      "recall       0.993671   0.340909  0.938224    0.667290      0.938224\n",
      "f1-score     0.967146   0.483871  0.938224    0.725508      0.926095\n",
      "support    474.000000  44.000000  0.938224  518.000000    518.000000\n",
      "_______________________________________________\n",
      "Confusion Matrix: \n",
      " [[471   3]\n",
      " [ 29  15]]\n",
      "\n",
      "Test Result:\n",
      "================================================\n",
      "Accuracy Score: 93.08%\n",
      "_______________________________________________\n",
      "CLASSIFICATION REPORT:\n",
      "                    0          1  accuracy   macro avg  weighted avg\n",
      "precision    0.950413   0.666667  0.930769    0.808540      0.924221\n",
      "recall       0.974576   0.500000  0.930769    0.737288      0.930769\n",
      "f1-score     0.962343   0.571429  0.930769    0.766886      0.926259\n",
      "support    118.000000  12.000000  0.930769  130.000000    130.000000\n",
      "_______________________________________________\n",
      "Confusion Matrix: \n",
      " [[115   3]\n",
      " [  6   6]]\n",
      "\n"
     ]
    },
    {
     "data": {
      "text/html": [
       "<style type=\"text/css\">\n",
       "</style>\n",
       "<table id=\"T_4b9da\">\n",
       "  <thead>\n",
       "    <tr>\n",
       "      <th id=\"T_4b9da_level0_col0\" class=\"col_heading level0 col0\" >model</th>\n",
       "      <th id=\"T_4b9da_level0_col1\" class=\"col_heading level0 col1\" >f1_score</th>\n",
       "      <th id=\"T_4b9da_level0_col2\" class=\"col_heading level0 col2\" >auc</th>\n",
       "      <th id=\"T_4b9da_level0_col3\" class=\"col_heading level0 col3\" >auc_pr</th>\n",
       "      <th id=\"T_4b9da_level0_col4\" class=\"col_heading level0 col4\" >recall_classe(0)</th>\n",
       "      <th id=\"T_4b9da_level0_col5\" class=\"col_heading level0 col5\" >recall_classe(1)</th>\n",
       "      <th id=\"T_4b9da_level0_col6\" class=\"col_heading level0 col6\" >precision_classe(0)</th>\n",
       "      <th id=\"T_4b9da_level0_col7\" class=\"col_heading level0 col7\" >precision_classe(1)</th>\n",
       "    </tr>\n",
       "  </thead>\n",
       "  <tbody>\n",
       "    <tr>\n",
       "      <td id=\"T_4b9da_row0_col0\" class=\"data row0 col0\" >RandomForestClassifier</td>\n",
       "      <td id=\"T_4b9da_row0_col1\" class=\"data row0 col1\" >0.571429</td>\n",
       "      <td id=\"T_4b9da_row0_col2\" class=\"data row0 col2\" >0.783192</td>\n",
       "      <td id=\"T_4b9da_row0_col3\" class=\"data row0 col3\" >0.505365</td>\n",
       "      <td id=\"T_4b9da_row0_col4\" class=\"data row0 col4\" >0.974576</td>\n",
       "      <td id=\"T_4b9da_row0_col5\" class=\"data row0 col5\" >0.500000</td>\n",
       "      <td id=\"T_4b9da_row0_col6\" class=\"data row0 col6\" >0.950413</td>\n",
       "      <td id=\"T_4b9da_row0_col7\" class=\"data row0 col7\" >0.666667</td>\n",
       "    </tr>\n",
       "  </tbody>\n",
       "</table>\n"
      ],
      "text/plain": [
       "<pandas.io.formats.style.Styler at 0x22a830dd490>"
      ]
     },
     "metadata": {},
     "output_type": "display_data"
    }
   ],
   "source": [
    "clf8 = RandomForestClassifier(random_state=seed)\n",
    "param_grid = {'n_estimators': [50, 100, 200],\n",
    "              'max_depth': [3, 5, 7],\n",
    "              'min_samples_split': [2, 5, 10],\n",
    "              'min_samples_leaf': [1, 2, 4],\n",
    "              'max_features': ['sqrt', 'log2'],\n",
    "              'criterion': ['gini', 'entropy']}\n",
    "\n",
    "# Define the GridSearchCV object with 5-fold cross-validation\n",
    "grid_search = GridSearchCV(clf8, param_grid=param_grid, cv=10, scoring='balanced_accuracy', n_jobs=-1)\n",
    "\n",
    "# Fit the GridSearchCV object with the training data\n",
    "grid_search.fit(X_train, y_train)\n",
    "best_params_sm.append(grid_search.best_params_)\n",
    "\n",
    "# Print the best hyperparameters and the corresponding mean cross-validation score\n",
    "print(\"Best hyperparameters: \", grid_search.best_params_)\n",
    "print(\"Best mean cross-validation score: {:.2f}\".format(grid_search.best_score_))\n",
    "\n",
    "# Use the best hyperparameters to fit the model to the training data\n",
    "clf_best = RandomForestClassifier(**grid_search.best_params_, random_state=seed)\n",
    "model8 = clf_best.fit(X_train, y_train)\n",
    "\n",
    "clf8 = print_auc(model8, X_train, y_train, X_test, y_test, 'RandomForestClassifier')\n",
    "df8 = pd.DataFrame(data=[['RandomForestClassifier', clf8['f1'], clf8['auc'], clf8['auc_pr'], clf8['recall_sc'][0], clf8['recall_sc'][1], clf8['precision_sc'][0], clf8['precision_sc'][1]]], \n",
    "                          columns=['model', 'f1_score', 'auc', 'auc_pr', 'recall_classe(0)', 'recall_classe(1)', 'precision_classe(0)', 'precision_classe(1)'])\n",
    "df8.style.hide_index()"
   ]
  },
  {
   "attachments": {},
   "cell_type": "markdown",
   "metadata": {},
   "source": [
    "## **SVC**"
   ]
  },
  {
   "cell_type": "code",
   "execution_count": null,
   "metadata": {},
   "outputs": [
    {
     "name": "stdout",
     "output_type": "stream",
     "text": [
      "Best hyperparameters:  {'C': 10, 'class_weight': 'balanced', 'degree': 2, 'gamma': 'scale', 'kernel': 'linear'}\n",
      "Best mean cross-validation score: 0.84\n",
      "Train Result:\n",
      "================================================\n",
      "Accuracy Score: 91.70%\n",
      "_______________________________________________\n",
      "CLASSIFICATION REPORT:\n",
      "                    0          1  accuracy   macro avg  weighted avg\n",
      "precision    0.990888   0.506329  0.916988    0.748609      0.949729\n",
      "recall       0.917722   0.909091  0.916988    0.913406      0.916988\n",
      "f1-score     0.952903   0.650407  0.916988    0.801655      0.927208\n",
      "support    474.000000  44.000000  0.916988  518.000000    518.000000\n",
      "_______________________________________________\n",
      "Confusion Matrix: \n",
      " [[435  39]\n",
      " [  4  40]]\n",
      "\n",
      "Test Result:\n",
      "================================================\n",
      "Accuracy Score: 86.92%\n",
      "_______________________________________________\n",
      "CLASSIFICATION REPORT:\n",
      "                    0          1  accuracy   macro avg  weighted avg\n",
      "precision    0.963303   0.380952  0.869231    0.672128      0.909547\n",
      "recall       0.889831   0.666667  0.869231    0.778249      0.869231\n",
      "f1-score     0.925110   0.484848  0.869231    0.704979      0.884471\n",
      "support    118.000000  12.000000  0.869231  130.000000    130.000000\n",
      "_______________________________________________\n",
      "Confusion Matrix: \n",
      " [[105  13]\n",
      " [  4   8]]\n",
      "\n"
     ]
    },
    {
     "data": {
      "text/html": [
       "<style type=\"text/css\">\n",
       "</style>\n",
       "<table id=\"T_0d91d\">\n",
       "  <thead>\n",
       "    <tr>\n",
       "      <th id=\"T_0d91d_level0_col0\" class=\"col_heading level0 col0\" >model</th>\n",
       "      <th id=\"T_0d91d_level0_col1\" class=\"col_heading level0 col1\" >f1_score</th>\n",
       "      <th id=\"T_0d91d_level0_col2\" class=\"col_heading level0 col2\" >auc</th>\n",
       "      <th id=\"T_0d91d_level0_col3\" class=\"col_heading level0 col3\" >auc_pr</th>\n",
       "      <th id=\"T_0d91d_level0_col4\" class=\"col_heading level0 col4\" >recall_classe(0)</th>\n",
       "      <th id=\"T_0d91d_level0_col5\" class=\"col_heading level0 col5\" >recall_classe(1)</th>\n",
       "      <th id=\"T_0d91d_level0_col6\" class=\"col_heading level0 col6\" >precision_classe(0)</th>\n",
       "      <th id=\"T_0d91d_level0_col7\" class=\"col_heading level0 col7\" >precision_classe(1)</th>\n",
       "    </tr>\n",
       "  </thead>\n",
       "  <tbody>\n",
       "    <tr>\n",
       "      <td id=\"T_0d91d_row0_col0\" class=\"data row0 col0\" >SVM</td>\n",
       "      <td id=\"T_0d91d_row0_col1\" class=\"data row0 col1\" >0.484848</td>\n",
       "      <td id=\"T_0d91d_row0_col2\" class=\"data row0 col2\" >0.814266</td>\n",
       "      <td id=\"T_0d91d_row0_col3\" class=\"data row0 col3\" >0.554175</td>\n",
       "      <td id=\"T_0d91d_row0_col4\" class=\"data row0 col4\" >0.889831</td>\n",
       "      <td id=\"T_0d91d_row0_col5\" class=\"data row0 col5\" >0.666667</td>\n",
       "      <td id=\"T_0d91d_row0_col6\" class=\"data row0 col6\" >0.963303</td>\n",
       "      <td id=\"T_0d91d_row0_col7\" class=\"data row0 col7\" >0.380952</td>\n",
       "    </tr>\n",
       "  </tbody>\n",
       "</table>\n"
      ],
      "text/plain": [
       "<pandas.io.formats.style.Styler at 0x22a87657a90>"
      ]
     },
     "metadata": {},
     "output_type": "display_data"
    }
   ],
   "source": [
    "clf9 = SVC(probability=True)\n",
    "param_grid = {'C': [0.1, 1, 10],\n",
    "              'kernel': ['linear', 'poly', 'rbf'],\n",
    "              'degree': [2, 3, 4],\n",
    "              'gamma': ['scale', 'auto'],\n",
    "              'class_weight': [None, 'balanced']}\n",
    "\n",
    "# Define the GridSearchCV object with 5-fold cross-validation\n",
    "grid_search = GridSearchCV(clf9, param_grid=param_grid, cv=10, scoring='balanced_accuracy', n_jobs=-1)\n",
    "\n",
    "# Fit the GridSearchCV object with the training data\n",
    "grid_search.fit(X_train, y_train)\n",
    "best_params_sm.append(grid_search.best_params_)\n",
    "\n",
    "# Print the best hyperparameters and the corresponding mean cross-validation score\n",
    "print(\"Best hyperparameters: \", grid_search.best_params_)\n",
    "print(\"Best mean cross-validation score: {:.2f}\".format(grid_search.best_score_))\n",
    "\n",
    "# Use the best hyperparameters to fit the model to the training data\n",
    "clf_best = SVC(**grid_search.best_params_, probability=True)\n",
    "model9 = clf_best.fit(X_train, y_train)\n",
    "\n",
    "clf9 = print_auc(model9, X_train, y_train, X_test, y_test, 'SVM')\n",
    "df9 = pd.DataFrame(data=[['SVM', clf9['f1'], clf9['auc'], clf9['auc_pr'], clf9['recall_sc'][0], clf9['recall_sc'][1], clf9['precision_sc'][0], clf9['precision_sc'][1]]], \n",
    "                          columns=['model', 'f1_score', 'auc', 'auc_pr', 'recall_classe(0)', 'recall_classe(1)', 'precision_classe(0)', 'precision_classe(1)'])\n",
    "df9.style.hide_index()"
   ]
  },
  {
   "attachments": {},
   "cell_type": "markdown",
   "metadata": {},
   "source": [
    "## **LogisticRegression**"
   ]
  },
  {
   "cell_type": "code",
   "execution_count": null,
   "metadata": {},
   "outputs": [
    {
     "name": "stdout",
     "output_type": "stream",
     "text": [
      "Best hyperparameters:  {'C': 10, 'class_weight': 'balanced', 'max_iter': 100, 'penalty': 'l2', 'solver': 'liblinear'}\n",
      "Best mean cross-validation score: 0.83\n",
      "Train Result:\n",
      "================================================\n",
      "Accuracy Score: 91.51%\n",
      "_______________________________________________\n",
      "CLASSIFICATION REPORT:\n",
      "                    0          1  accuracy   macro avg  weighted avg\n",
      "precision    0.990868   0.500000  0.915058    0.745434      0.949172\n",
      "recall       0.915612   0.909091  0.915058    0.912351      0.915058\n",
      "f1-score     0.951754   0.645161  0.915058    0.798458      0.925712\n",
      "support    474.000000  44.000000  0.915058  518.000000    518.000000\n",
      "_______________________________________________\n",
      "Confusion Matrix: \n",
      " [[434  40]\n",
      " [  4  40]]\n",
      "\n",
      "Test Result:\n",
      "================================================\n",
      "Accuracy Score: 86.15%\n",
      "_______________________________________________\n",
      "CLASSIFICATION REPORT:\n",
      "                    0          1  accuracy   macro avg  weighted avg\n",
      "precision    0.962963   0.363636  0.861538    0.663300      0.907641\n",
      "recall       0.881356   0.666667  0.861538    0.774011      0.861538\n",
      "f1-score     0.920354   0.470588  0.861538    0.695471      0.878837\n",
      "support    118.000000  12.000000  0.861538  130.000000    130.000000\n",
      "_______________________________________________\n",
      "Confusion Matrix: \n",
      " [[104  14]\n",
      " [  4   8]]\n",
      "\n"
     ]
    },
    {
     "data": {
      "text/html": [
       "<style type=\"text/css\">\n",
       "</style>\n",
       "<table id=\"T_7d7ed\">\n",
       "  <thead>\n",
       "    <tr>\n",
       "      <th id=\"T_7d7ed_level0_col0\" class=\"col_heading level0 col0\" >model</th>\n",
       "      <th id=\"T_7d7ed_level0_col1\" class=\"col_heading level0 col1\" >f1_score</th>\n",
       "      <th id=\"T_7d7ed_level0_col2\" class=\"col_heading level0 col2\" >auc</th>\n",
       "      <th id=\"T_7d7ed_level0_col3\" class=\"col_heading level0 col3\" >auc_pr</th>\n",
       "      <th id=\"T_7d7ed_level0_col4\" class=\"col_heading level0 col4\" >recall_classe(0)</th>\n",
       "      <th id=\"T_7d7ed_level0_col5\" class=\"col_heading level0 col5\" >recall_classe(1)</th>\n",
       "      <th id=\"T_7d7ed_level0_col6\" class=\"col_heading level0 col6\" >precision_classe(0)</th>\n",
       "      <th id=\"T_7d7ed_level0_col7\" class=\"col_heading level0 col7\" >precision_classe(1)</th>\n",
       "    </tr>\n",
       "  </thead>\n",
       "  <tbody>\n",
       "    <tr>\n",
       "      <td id=\"T_7d7ed_row0_col0\" class=\"data row0 col0\" >LogisticRegression</td>\n",
       "      <td id=\"T_7d7ed_row0_col1\" class=\"data row0 col1\" >0.470588</td>\n",
       "      <td id=\"T_7d7ed_row0_col2\" class=\"data row0 col2\" >0.818503</td>\n",
       "      <td id=\"T_7d7ed_row0_col3\" class=\"data row0 col3\" >0.610812</td>\n",
       "      <td id=\"T_7d7ed_row0_col4\" class=\"data row0 col4\" >0.881356</td>\n",
       "      <td id=\"T_7d7ed_row0_col5\" class=\"data row0 col5\" >0.666667</td>\n",
       "      <td id=\"T_7d7ed_row0_col6\" class=\"data row0 col6\" >0.962963</td>\n",
       "      <td id=\"T_7d7ed_row0_col7\" class=\"data row0 col7\" >0.363636</td>\n",
       "    </tr>\n",
       "  </tbody>\n",
       "</table>\n"
      ],
      "text/plain": [
       "<pandas.io.formats.style.Styler at 0x22a870495d0>"
      ]
     },
     "metadata": {},
     "output_type": "display_data"
    }
   ],
   "source": [
    "clf10 = LogisticRegression()\n",
    "param_grid = {'penalty': ['l1', 'l2'],\n",
    "              'C': [0.1, 1, 10],\n",
    "              'solver': ['liblinear', 'lbfgs', 'newton-cg', 'sag'],\n",
    "              'max_iter': [100, 200, 500],\n",
    "              'class_weight': [None, 'balanced']}\n",
    "\n",
    "grid_search = GridSearchCV(clf10, param_grid=param_grid, cv=10, scoring='balanced_accuracy', n_jobs=-1)\n",
    "\n",
    "# Fit the GridSearchCV object with the training data\n",
    "grid_search.fit(X_train, y_train)\n",
    "best_params_sm.append(grid_search.best_params_)\n",
    "\n",
    "# Print the best hyperparameters and the corresponding mean cross-validation score\n",
    "print(\"Best hyperparameters: \", grid_search.best_params_)\n",
    "print(\"Best mean cross-validation score: {:.2f}\".format(grid_search.best_score_))\n",
    "\n",
    "# Use the best hyperparameters to fit the model to the training data\n",
    "clf_best = LogisticRegression(**grid_search.best_params_, random_state=seed)\n",
    "model10 = clf_best.fit(X_train, y_train)\n",
    "\n",
    "clf10 = print_auc(model10, X_train, y_train, X_test, y_test, 'LogisticRegression')\n",
    "df10 = pd.DataFrame(data=[['LogisticRegression', clf10['f1'], clf10['auc'], clf10['auc_pr'], clf10['recall_sc'][0], clf10['recall_sc'][1], clf10['precision_sc'][0], clf10['precision_sc'][1]]], \n",
    "                          columns=['model', 'f1_score', 'auc', 'auc_pr', 'recall_classe(0)', 'recall_classe(1)', 'precision_classe(0)', 'precision_classe(1)'])\n",
    "df10.style.hide_index()"
   ]
  },
  {
   "cell_type": "code",
   "execution_count": null,
   "metadata": {},
   "outputs": [
    {
     "data": {
      "text/html": [
       "<div>\n",
       "<style scoped>\n",
       "    .dataframe tbody tr th:only-of-type {\n",
       "        vertical-align: middle;\n",
       "    }\n",
       "\n",
       "    .dataframe tbody tr th {\n",
       "        vertical-align: top;\n",
       "    }\n",
       "\n",
       "    .dataframe thead th {\n",
       "        text-align: right;\n",
       "    }\n",
       "</style>\n",
       "<table border=\"1\" class=\"dataframe\">\n",
       "  <thead>\n",
       "    <tr style=\"text-align: right;\">\n",
       "      <th></th>\n",
       "      <th>model</th>\n",
       "      <th>f1_score</th>\n",
       "      <th>auc</th>\n",
       "      <th>auc_pr</th>\n",
       "      <th>recall_classe(0)</th>\n",
       "      <th>recall_classe(1)</th>\n",
       "      <th>precision_classe(0)</th>\n",
       "      <th>precision_classe(1)</th>\n",
       "    </tr>\n",
       "  </thead>\n",
       "  <tbody>\n",
       "    <tr>\n",
       "      <th>0</th>\n",
       "      <td>ExtraTreesClassifier</td>\n",
       "      <td>0.350000</td>\n",
       "      <td>0.743997</td>\n",
       "      <td>0.505599</td>\n",
       "      <td>0.822034</td>\n",
       "      <td>0.583333</td>\n",
       "      <td>0.950980</td>\n",
       "      <td>0.250000</td>\n",
       "    </tr>\n",
       "    <tr>\n",
       "      <th>0</th>\n",
       "      <td>XGBClassifier</td>\n",
       "      <td>0.424242</td>\n",
       "      <td>0.793079</td>\n",
       "      <td>0.498210</td>\n",
       "      <td>0.881356</td>\n",
       "      <td>0.583333</td>\n",
       "      <td>0.954128</td>\n",
       "      <td>0.333333</td>\n",
       "    </tr>\n",
       "    <tr>\n",
       "      <th>0</th>\n",
       "      <td>AdaBoostClassifier</td>\n",
       "      <td>0.476190</td>\n",
       "      <td>0.585452</td>\n",
       "      <td>0.283489</td>\n",
       "      <td>0.966102</td>\n",
       "      <td>0.416667</td>\n",
       "      <td>0.942149</td>\n",
       "      <td>0.555556</td>\n",
       "    </tr>\n",
       "    <tr>\n",
       "      <th>0</th>\n",
       "      <td>DecisionTreeClassifier</td>\n",
       "      <td>0.500000</td>\n",
       "      <td>0.651130</td>\n",
       "      <td>0.461142</td>\n",
       "      <td>0.974576</td>\n",
       "      <td>0.416667</td>\n",
       "      <td>0.942623</td>\n",
       "      <td>0.625000</td>\n",
       "    </tr>\n",
       "    <tr>\n",
       "      <th>0</th>\n",
       "      <td>GaussianNB</td>\n",
       "      <td>0.192308</td>\n",
       "      <td>0.700565</td>\n",
       "      <td>0.293542</td>\n",
       "      <td>0.703390</td>\n",
       "      <td>0.416667</td>\n",
       "      <td>0.922222</td>\n",
       "      <td>0.125000</td>\n",
       "    </tr>\n",
       "    <tr>\n",
       "      <th>0</th>\n",
       "      <td>LGBMClassifier</td>\n",
       "      <td>0.378378</td>\n",
       "      <td>0.753531</td>\n",
       "      <td>0.492538</td>\n",
       "      <td>0.847458</td>\n",
       "      <td>0.583333</td>\n",
       "      <td>0.952381</td>\n",
       "      <td>0.280000</td>\n",
       "    </tr>\n",
       "    <tr>\n",
       "      <th>0</th>\n",
       "      <td>KNeiborsClassifier</td>\n",
       "      <td>0.526316</td>\n",
       "      <td>0.766949</td>\n",
       "      <td>0.585534</td>\n",
       "      <td>0.983051</td>\n",
       "      <td>0.416667</td>\n",
       "      <td>0.943089</td>\n",
       "      <td>0.714286</td>\n",
       "    </tr>\n",
       "    <tr>\n",
       "      <th>0</th>\n",
       "      <td>RandomForestClassifier</td>\n",
       "      <td>0.571429</td>\n",
       "      <td>0.783192</td>\n",
       "      <td>0.505365</td>\n",
       "      <td>0.974576</td>\n",
       "      <td>0.500000</td>\n",
       "      <td>0.950413</td>\n",
       "      <td>0.666667</td>\n",
       "    </tr>\n",
       "    <tr>\n",
       "      <th>0</th>\n",
       "      <td>SVM</td>\n",
       "      <td>0.484848</td>\n",
       "      <td>0.814266</td>\n",
       "      <td>0.554175</td>\n",
       "      <td>0.889831</td>\n",
       "      <td>0.666667</td>\n",
       "      <td>0.963303</td>\n",
       "      <td>0.380952</td>\n",
       "    </tr>\n",
       "    <tr>\n",
       "      <th>0</th>\n",
       "      <td>LogisticRegression</td>\n",
       "      <td>0.470588</td>\n",
       "      <td>0.818503</td>\n",
       "      <td>0.610812</td>\n",
       "      <td>0.881356</td>\n",
       "      <td>0.666667</td>\n",
       "      <td>0.962963</td>\n",
       "      <td>0.363636</td>\n",
       "    </tr>\n",
       "  </tbody>\n",
       "</table>\n",
       "</div>"
      ],
      "text/plain": [
       "                    model  f1_score       auc    auc_pr  recall_classe(0)  \\\n",
       "0    ExtraTreesClassifier  0.350000  0.743997  0.505599          0.822034   \n",
       "0           XGBClassifier  0.424242  0.793079  0.498210          0.881356   \n",
       "0      AdaBoostClassifier  0.476190  0.585452  0.283489          0.966102   \n",
       "0  DecisionTreeClassifier  0.500000  0.651130  0.461142          0.974576   \n",
       "0              GaussianNB  0.192308  0.700565  0.293542          0.703390   \n",
       "0          LGBMClassifier  0.378378  0.753531  0.492538          0.847458   \n",
       "0      KNeiborsClassifier  0.526316  0.766949  0.585534          0.983051   \n",
       "0  RandomForestClassifier  0.571429  0.783192  0.505365          0.974576   \n",
       "0                     SVM  0.484848  0.814266  0.554175          0.889831   \n",
       "0      LogisticRegression  0.470588  0.818503  0.610812          0.881356   \n",
       "\n",
       "   recall_classe(1)  precision_classe(0)  precision_classe(1)  \n",
       "0          0.583333             0.950980             0.250000  \n",
       "0          0.583333             0.954128             0.333333  \n",
       "0          0.416667             0.942149             0.555556  \n",
       "0          0.416667             0.942623             0.625000  \n",
       "0          0.416667             0.922222             0.125000  \n",
       "0          0.583333             0.952381             0.280000  \n",
       "0          0.416667             0.943089             0.714286  \n",
       "0          0.500000             0.950413             0.666667  \n",
       "0          0.666667             0.963303             0.380952  \n",
       "0          0.666667             0.962963             0.363636  "
      ]
     },
     "metadata": {},
     "output_type": "display_data"
    }
   ],
   "source": [
    "df_sm = [df1, df2, df3, df4, df5, df6, df7, df8, df9, df10]\n",
    "df_finale_sm = pd.concat(df)\n",
    "df_finale_sm"
   ]
  },
  {
   "cell_type": "code",
   "execution_count": null,
   "metadata": {},
   "outputs": [],
   "source": [
    "df_finale_sm.to_csv('df_finalef_sm.csv', index=False)"
   ]
  }
 ],
 "metadata": {
  "accelerator": "GPU",
  "colab": {
   "gpuType": "T4",
   "private_outputs": true,
   "provenance": []
  },
  "kernelspec": {
   "display_name": "Python 3 (ipykernel)",
   "language": "python",
   "name": "python3"
  },
  "language_info": {
   "codemirror_mode": {
    "name": "ipython",
    "version": 3
   },
   "file_extension": ".py",
   "mimetype": "text/x-python",
   "name": "python",
   "nbconvert_exporter": "python",
   "pygments_lexer": "ipython3",
   "version": "3.11.3"
  },
  "toc": {
   "nav_menu": {},
   "number_sections": true,
   "sideBar": true,
   "skip_h1_title": false,
   "title_cell": "Table of Contents",
   "title_sidebar": "Contents",
   "toc_cell": false,
   "toc_position": {},
   "toc_section_display": true,
   "toc_window_display": false
  }
 },
 "nbformat": 4,
 "nbformat_minor": 1
}
