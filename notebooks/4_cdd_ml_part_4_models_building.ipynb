{
 "cells": [
  {
   "cell_type": "markdown",
   "metadata": {
    "id": "JQMyebI0OLqv"
   },
   "source": [
    "# **Bioinformatics Project - Computational Drug Discovery [Part 4] Classification Models Building**\n",
    "\n",
    "**MOUNSIF EL ATOUCH**\n",
    "\n",
    "In this Jupyter notebook, we will be building a machine learning model using the ChEMBL bioactivity data.\n",
    "\n",
    "In **Part 4**, we will be building classification models\n",
    "\n",
    "---"
   ]
  },
  {
   "cell_type": "markdown",
   "metadata": {
    "id": "bMhHx_CmOTPD"
   },
   "source": [
    "## **Importing libraries**"
   ]
  },
  {
   "cell_type": "code",
   "execution_count": 1,
   "metadata": {
    "id": "o-MeyPj2tsrb"
   },
   "outputs": [],
   "source": [
    "import os\n",
    "import pandas as pd\n",
    "\n",
    "from scipy.spatial.distance import *\n",
    "import numpy as np\n",
    "\n",
    "import matplotlib.pyplot as plt\n",
    "%matplotlib inline\n",
    "import seaborn as sns\n",
    "\n",
    "seed = 42\n",
    "\n",
    "from sklearn.model_selection import *\n",
    "from sklearn.preprocessing import StandardScaler\n",
    "from sklearn.feature_selection import VarianceThreshold\n",
    "from sklearn.metrics import *\n",
    "\n",
    "from scipy import interp\n",
    "from math import *\n",
    "from sklearn.metrics import RocCurveDisplay\n",
    "\n",
    "import warnings\n",
    "warnings.filterwarnings('ignore')"
   ]
  },
  {
   "cell_type": "code",
   "execution_count": 4,
   "metadata": {
    "id": "UqPr6idQPgiF"
   },
   "outputs": [],
   "source": [
    "from sklearn.ensemble import ExtraTreesClassifier\n",
    "import xgboost as xgb\n",
    "from sklearn.ensemble import AdaBoostClassifier\n",
    "from sklearn.tree import DecisionTreeClassifier\n",
    "from sklearn.naive_bayes import GaussianNB\n",
    "import lightgbm as lgb\n",
    "from sklearn.neighbors import KNeighborsClassifier\n",
    "from sklearn.ensemble import RandomForestClassifier\n",
    "\n",
    "from sklearn.svm import SVC  \n",
    "from sklearn.neural_network import MLPClassifier\n",
    "from sklearn.linear_model import LogisticRegression"
   ]
  },
  {
   "cell_type": "code",
   "execution_count": 5,
   "metadata": {
    "id": "pyKg-HQhtsre"
   },
   "outputs": [],
   "source": [
    "def print_score(clf, X_train, y_train, X_test, y_test, train=True):\n",
    "    if train:\n",
    "        pred = clf.predict(X_train)\n",
    "        clf_report = pd.DataFrame(classification_report(y_train, pred, output_dict=True))\n",
    "        print(\"Train Result:\\n================================================\")\n",
    "        print(f\"Accuracy Score: {accuracy_score(y_train, pred) * 100:.2f}%\")\n",
    "        print(\"_______________________________________________\")\n",
    "        print(f\"CLASSIFICATION REPORT:\\n{clf_report}\")\n",
    "        print(\"_______________________________________________\")\n",
    "        print(f\"Confusion Matrix: \\n {confusion_matrix(y_train, pred)}\\n\")\n",
    "        \n",
    "    elif train==False:\n",
    "        pred = clf.predict(X_test)\n",
    "        clf_report = pd.DataFrame(classification_report(y_test, pred, output_dict=True))\n",
    "        print(\"Test Result:\\n================================================\")        \n",
    "        print(f\"Accuracy Score: {accuracy_score(y_test, pred) * 100:.2f}%\")\n",
    "        print(\"_______________________________________________\")\n",
    "        print(f\"CLASSIFICATION REPORT:\\n{clf_report}\")\n",
    "        print(\"_______________________________________________\")\n",
    "        print(f\"Confusion Matrix: \\n {confusion_matrix(y_test, pred)}\\n\")"
   ]
  },
  {
   "cell_type": "code",
   "execution_count": 6,
   "metadata": {
    "id": "KW7CP2Hwtsre"
   },
   "outputs": [],
   "source": [
    "def print_auc(clf, X_train, y_train, X_test, y_test, model_name) :\n",
    "    \n",
    "    clf = clf.fit(X_train, y_train)\n",
    "    y_pred_proba = clf.predict_proba(X_test)[::,1]\n",
    "    fpr, tpr, thr = roc_curve(y_test,  y_pred_proba)\n",
    "    roc_auc = roc_auc_score(y_test, y_pred_proba)\n",
    "    #plt.plot(fpr, tpr, label=model_name+\" auc=\"+str(roc_auc))\n",
    "    #plt.legend(loc=4)\n",
    "    #plt.title(\"ROC curve\")\n",
    "\n",
    "    #plt.show()\n",
    "    # Data to plot precision - recall curve\n",
    "    precision, recall, thresholds_log = precision_recall_curve(y_test, y_pred_proba)\n",
    "    # Use AUC function to calculate the area under the curve of precision recall curve\n",
    "    auc_precision_recall = auc(recall, precision)\n",
    "    \n",
    "    #plt.plot(recall, precision, label=model_name+\" auc_prc=\"+str(auc_precision_recall))\n",
    "    #plt.xlabel(\"Recall\")\n",
    "    #plt.ylabel(\"Precision\")\n",
    "    #plt.legend(loc=4)\n",
    "    #plt.title(\"Precision-Recall Curve\")\n",
    "\n",
    "    #plt.show()\n",
    "    #print_score(clf, X_train, y_train, X_test, y_test, train=True)\n",
    "    precision_sc=precision_score(y_test, clf.predict(X_test), average=None)\n",
    "    recall_sc = recall_score(y_test, clf.predict(X_test), average=None)\n",
    "    test_score = accuracy_score(y_test, clf.predict(X_test)) * 100\n",
    "    train_score = accuracy_score(y_train, clf.predict(X_train)) * 100\n",
    "    f1 = f1_score(y_test, clf.predict(X_test))\n",
    "    #print_score(clf, X_train, y_train, X_test, y_test, train=True)\n",
    "    #print_score(clf, X_train, y_train, X_test, y_test, train=False)\n",
    "    metriques = {\"fpr\" : fpr, \"recall_sc\" : recall_sc, \"precision_sc\" : precision_sc, \"tpr\" : tpr,\n",
    "                 \"test_score\" : test_score, \"train_score\" : train_score, \"f1\" : f1,\n",
    "                 \"auc_pr\" : auc_precision_recall, \"auc\": roc_auc}\n",
    "    return metriques"
   ]
  },
  {
   "cell_type": "markdown",
   "metadata": {
    "id": "nLtPCIKXtsrf"
   },
   "source": [
    "## **Load the data set**"
   ]
  },
  {
   "cell_type": "code",
   "execution_count": 7,
   "metadata": {
    "id": "absK-NcdwMa9",
    "scrolled": true
   },
   "outputs": [
    {
     "name": "stderr",
     "output_type": "stream",
     "text": [
      "--2023-06-01 09:21:12--  https://raw.githubusercontent.com/mounsifelatouch/cdd/master/data/bioactivity_data_GraphOnlyFingerprinter.csv\n",
      "Resolving raw.githubusercontent.com (raw.githubusercontent.com)... 185.199.111.133, 185.199.108.133, 185.199.109.133, ...\n",
      "Connecting to raw.githubusercontent.com (raw.githubusercontent.com)|185.199.111.133|:443... connected.\n",
      "HTTP request sent, awaiting response... 200 OK\n",
      "Length: 1339590 (1.3M) [text/plain]\n",
      "Saving to: 'bioactivity_data_GraphOnlyFingerprinter.csv.1'\n",
      "\n",
      "     0K .......... .......... .......... .......... ..........  3%  131K 10s\n",
      "    50K .......... .......... .......... .......... ..........  7%  249K 7s\n",
      "   100K .......... .......... .......... .......... .......... 11%  476K 5s\n",
      "   150K .......... .......... .......... .......... .......... 15%  740K 4s\n",
      "   200K .......... .......... .......... .......... .......... 19%  239K 4s\n",
      "   250K .......... .......... .......... .......... .......... 22%  751K 3s\n",
      "   300K .......... .......... .......... .......... .......... 26%  340K 3s\n",
      "   350K .......... .......... .......... .......... .......... 30%  410K 3s\n",
      "   400K .......... .......... .......... .......... .......... 34%  728K 3s\n",
      "   450K .......... .......... .......... .......... .......... 38%  756K 2s\n",
      "   500K .......... .......... .......... .......... .......... 42%  730K 2s\n",
      "   550K .......... .......... .......... .......... .......... 45%  747K 2s\n",
      "   600K .......... .......... .......... .......... .......... 49%  615K 2s\n",
      "   650K .......... .......... .......... .......... .......... 53%  742K 1s\n",
      "   700K .......... .......... .......... .......... .......... 57%  734K 1s\n",
      "   750K .......... .......... .......... .......... .......... 61%  753K 1s\n",
      "   800K .......... .......... .......... .......... .......... 64%  719K 1s\n",
      "   850K .......... .......... .......... .......... .......... 68%  615K 1s\n",
      "   900K .......... .......... .......... .......... .......... 72%  751K 1s\n",
      "   950K .......... .......... .......... .......... .......... 76%  743K 1s\n",
      "  1000K .......... .......... .......... .......... .......... 80%  401K 1s\n",
      "  1050K .......... .......... .......... .......... .......... 84%  529K 0s\n",
      "  1100K .......... .......... .......... .......... .......... 87%  444K 0s\n",
      "  1150K .......... .......... .......... .......... .......... 91%  630K 0s\n",
      "  1200K .......... .......... .......... .......... .......... 95% 1.02M 0s\n",
      "  1250K .......... .......... .......... .......... .......... 99%  737K 0s\n",
      "  1300K ........                                              100% 18.6M=2.7s\n",
      "\n",
      "2023-06-01 09:21:18 (491 KB/s) - 'bioactivity_data_GraphOnlyFingerprinter.csv.1' saved [1339590/1339590]\n",
      "\n"
     ]
    }
   ],
   "source": [
    "! wget https://raw.githubusercontent.com/mounsifelatouch/cdd/master/data/bioactivity_data_GraphOnlyFingerprinter.csv"
   ]
  },
  {
   "cell_type": "markdown",
   "metadata": {},
   "source": [
    "In your case, if missing an active compound has significant consequences (e.g., lost opportunity to develop a potential drug), you may want to prioritize recall for the positive (active) class. This ensures that the model is able to correctly identify as many active compounds as possible, even if it means accepting a higher rate of false positives.\n",
    "\n",
    "However, you should also consider the precision of the positive class, since false positives could be costly in terms of wasted resources and effort. For example, if a computational chemist or a medicinal chemist is tasked with synthesizing and testing a large number of predicted active compounds, a high rate of false positives could result in wasted resources and effort.\n",
    "\n",
    "Therefore, you may want to aim for a balanced precision and recall for the positive positive class, where the model is able to correctly identify most of the active compounds while minimizing the false positive rate. This can be achieved by using a suitable evaluation metric, such as F1-score, which balances precision and recall.\n",
    "\n",
    "In addition, you may want to consider the class imbalance in your dataset and use techniques such as oversampling, undersampling, or the SMOTE algorithm to balance the class distribution and improve the performance of the model for the positive class."
   ]
  },
  {
   "cell_type": "code",
   "execution_count": 8,
   "metadata": {
    "id": "VqaS8i8ytsrh"
   },
   "outputs": [
    {
     "data": {
      "text/html": [
       "<div>\n",
       "<style scoped>\n",
       "    .dataframe tbody tr th:only-of-type {\n",
       "        vertical-align: middle;\n",
       "    }\n",
       "\n",
       "    .dataframe tbody tr th {\n",
       "        vertical-align: top;\n",
       "    }\n",
       "\n",
       "    .dataframe thead th {\n",
       "        text-align: right;\n",
       "    }\n",
       "</style>\n",
       "<table border=\"1\" class=\"dataframe\">\n",
       "  <thead>\n",
       "    <tr style=\"text-align: right;\">\n",
       "      <th></th>\n",
       "      <th>GraphFP1</th>\n",
       "      <th>GraphFP2</th>\n",
       "      <th>GraphFP3</th>\n",
       "      <th>GraphFP4</th>\n",
       "      <th>GraphFP5</th>\n",
       "      <th>GraphFP6</th>\n",
       "      <th>GraphFP7</th>\n",
       "      <th>GraphFP8</th>\n",
       "      <th>GraphFP9</th>\n",
       "      <th>GraphFP10</th>\n",
       "      <th>...</th>\n",
       "      <th>GraphFP1016</th>\n",
       "      <th>GraphFP1017</th>\n",
       "      <th>GraphFP1018</th>\n",
       "      <th>GraphFP1019</th>\n",
       "      <th>GraphFP1020</th>\n",
       "      <th>GraphFP1021</th>\n",
       "      <th>GraphFP1022</th>\n",
       "      <th>GraphFP1023</th>\n",
       "      <th>GraphFP1024</th>\n",
       "      <th>Activity</th>\n",
       "    </tr>\n",
       "  </thead>\n",
       "  <tbody>\n",
       "    <tr>\n",
       "      <th>0</th>\n",
       "      <td>0</td>\n",
       "      <td>0</td>\n",
       "      <td>0</td>\n",
       "      <td>0</td>\n",
       "      <td>0</td>\n",
       "      <td>0</td>\n",
       "      <td>0</td>\n",
       "      <td>0</td>\n",
       "      <td>0</td>\n",
       "      <td>0</td>\n",
       "      <td>...</td>\n",
       "      <td>0</td>\n",
       "      <td>0</td>\n",
       "      <td>0</td>\n",
       "      <td>0</td>\n",
       "      <td>0</td>\n",
       "      <td>0</td>\n",
       "      <td>0</td>\n",
       "      <td>0</td>\n",
       "      <td>0</td>\n",
       "      <td>0</td>\n",
       "    </tr>\n",
       "    <tr>\n",
       "      <th>1</th>\n",
       "      <td>0</td>\n",
       "      <td>0</td>\n",
       "      <td>0</td>\n",
       "      <td>0</td>\n",
       "      <td>0</td>\n",
       "      <td>0</td>\n",
       "      <td>0</td>\n",
       "      <td>0</td>\n",
       "      <td>0</td>\n",
       "      <td>0</td>\n",
       "      <td>...</td>\n",
       "      <td>0</td>\n",
       "      <td>0</td>\n",
       "      <td>0</td>\n",
       "      <td>0</td>\n",
       "      <td>0</td>\n",
       "      <td>0</td>\n",
       "      <td>0</td>\n",
       "      <td>0</td>\n",
       "      <td>0</td>\n",
       "      <td>0</td>\n",
       "    </tr>\n",
       "    <tr>\n",
       "      <th>2</th>\n",
       "      <td>0</td>\n",
       "      <td>0</td>\n",
       "      <td>0</td>\n",
       "      <td>0</td>\n",
       "      <td>0</td>\n",
       "      <td>0</td>\n",
       "      <td>0</td>\n",
       "      <td>0</td>\n",
       "      <td>0</td>\n",
       "      <td>0</td>\n",
       "      <td>...</td>\n",
       "      <td>0</td>\n",
       "      <td>0</td>\n",
       "      <td>0</td>\n",
       "      <td>0</td>\n",
       "      <td>0</td>\n",
       "      <td>0</td>\n",
       "      <td>0</td>\n",
       "      <td>0</td>\n",
       "      <td>0</td>\n",
       "      <td>0</td>\n",
       "    </tr>\n",
       "    <tr>\n",
       "      <th>3</th>\n",
       "      <td>0</td>\n",
       "      <td>0</td>\n",
       "      <td>0</td>\n",
       "      <td>0</td>\n",
       "      <td>0</td>\n",
       "      <td>0</td>\n",
       "      <td>0</td>\n",
       "      <td>0</td>\n",
       "      <td>0</td>\n",
       "      <td>0</td>\n",
       "      <td>...</td>\n",
       "      <td>0</td>\n",
       "      <td>0</td>\n",
       "      <td>0</td>\n",
       "      <td>0</td>\n",
       "      <td>0</td>\n",
       "      <td>0</td>\n",
       "      <td>0</td>\n",
       "      <td>0</td>\n",
       "      <td>0</td>\n",
       "      <td>0</td>\n",
       "    </tr>\n",
       "    <tr>\n",
       "      <th>4</th>\n",
       "      <td>0</td>\n",
       "      <td>0</td>\n",
       "      <td>0</td>\n",
       "      <td>0</td>\n",
       "      <td>0</td>\n",
       "      <td>0</td>\n",
       "      <td>0</td>\n",
       "      <td>0</td>\n",
       "      <td>0</td>\n",
       "      <td>0</td>\n",
       "      <td>...</td>\n",
       "      <td>0</td>\n",
       "      <td>0</td>\n",
       "      <td>0</td>\n",
       "      <td>0</td>\n",
       "      <td>0</td>\n",
       "      <td>0</td>\n",
       "      <td>0</td>\n",
       "      <td>0</td>\n",
       "      <td>0</td>\n",
       "      <td>0</td>\n",
       "    </tr>\n",
       "    <tr>\n",
       "      <th>...</th>\n",
       "      <td>...</td>\n",
       "      <td>...</td>\n",
       "      <td>...</td>\n",
       "      <td>...</td>\n",
       "      <td>...</td>\n",
       "      <td>...</td>\n",
       "      <td>...</td>\n",
       "      <td>...</td>\n",
       "      <td>...</td>\n",
       "      <td>...</td>\n",
       "      <td>...</td>\n",
       "      <td>...</td>\n",
       "      <td>...</td>\n",
       "      <td>...</td>\n",
       "      <td>...</td>\n",
       "      <td>...</td>\n",
       "      <td>...</td>\n",
       "      <td>...</td>\n",
       "      <td>...</td>\n",
       "      <td>...</td>\n",
       "      <td>...</td>\n",
       "    </tr>\n",
       "    <tr>\n",
       "      <th>643</th>\n",
       "      <td>0</td>\n",
       "      <td>0</td>\n",
       "      <td>1</td>\n",
       "      <td>0</td>\n",
       "      <td>0</td>\n",
       "      <td>0</td>\n",
       "      <td>0</td>\n",
       "      <td>0</td>\n",
       "      <td>0</td>\n",
       "      <td>0</td>\n",
       "      <td>...</td>\n",
       "      <td>0</td>\n",
       "      <td>0</td>\n",
       "      <td>0</td>\n",
       "      <td>0</td>\n",
       "      <td>0</td>\n",
       "      <td>0</td>\n",
       "      <td>0</td>\n",
       "      <td>0</td>\n",
       "      <td>0</td>\n",
       "      <td>0</td>\n",
       "    </tr>\n",
       "    <tr>\n",
       "      <th>644</th>\n",
       "      <td>0</td>\n",
       "      <td>0</td>\n",
       "      <td>1</td>\n",
       "      <td>0</td>\n",
       "      <td>0</td>\n",
       "      <td>0</td>\n",
       "      <td>0</td>\n",
       "      <td>0</td>\n",
       "      <td>0</td>\n",
       "      <td>0</td>\n",
       "      <td>...</td>\n",
       "      <td>0</td>\n",
       "      <td>0</td>\n",
       "      <td>0</td>\n",
       "      <td>0</td>\n",
       "      <td>0</td>\n",
       "      <td>0</td>\n",
       "      <td>0</td>\n",
       "      <td>0</td>\n",
       "      <td>0</td>\n",
       "      <td>0</td>\n",
       "    </tr>\n",
       "    <tr>\n",
       "      <th>645</th>\n",
       "      <td>0</td>\n",
       "      <td>0</td>\n",
       "      <td>1</td>\n",
       "      <td>0</td>\n",
       "      <td>0</td>\n",
       "      <td>0</td>\n",
       "      <td>0</td>\n",
       "      <td>0</td>\n",
       "      <td>0</td>\n",
       "      <td>0</td>\n",
       "      <td>...</td>\n",
       "      <td>0</td>\n",
       "      <td>0</td>\n",
       "      <td>0</td>\n",
       "      <td>0</td>\n",
       "      <td>0</td>\n",
       "      <td>0</td>\n",
       "      <td>0</td>\n",
       "      <td>0</td>\n",
       "      <td>0</td>\n",
       "      <td>0</td>\n",
       "    </tr>\n",
       "    <tr>\n",
       "      <th>646</th>\n",
       "      <td>0</td>\n",
       "      <td>0</td>\n",
       "      <td>1</td>\n",
       "      <td>0</td>\n",
       "      <td>0</td>\n",
       "      <td>0</td>\n",
       "      <td>0</td>\n",
       "      <td>0</td>\n",
       "      <td>0</td>\n",
       "      <td>0</td>\n",
       "      <td>...</td>\n",
       "      <td>0</td>\n",
       "      <td>0</td>\n",
       "      <td>0</td>\n",
       "      <td>0</td>\n",
       "      <td>0</td>\n",
       "      <td>0</td>\n",
       "      <td>0</td>\n",
       "      <td>0</td>\n",
       "      <td>0</td>\n",
       "      <td>0</td>\n",
       "    </tr>\n",
       "    <tr>\n",
       "      <th>647</th>\n",
       "      <td>0</td>\n",
       "      <td>0</td>\n",
       "      <td>1</td>\n",
       "      <td>0</td>\n",
       "      <td>0</td>\n",
       "      <td>0</td>\n",
       "      <td>0</td>\n",
       "      <td>0</td>\n",
       "      <td>0</td>\n",
       "      <td>0</td>\n",
       "      <td>...</td>\n",
       "      <td>0</td>\n",
       "      <td>0</td>\n",
       "      <td>0</td>\n",
       "      <td>0</td>\n",
       "      <td>0</td>\n",
       "      <td>0</td>\n",
       "      <td>0</td>\n",
       "      <td>0</td>\n",
       "      <td>0</td>\n",
       "      <td>0</td>\n",
       "    </tr>\n",
       "  </tbody>\n",
       "</table>\n",
       "<p>648 rows × 1025 columns</p>\n",
       "</div>"
      ],
      "text/plain": [
       "     GraphFP1  GraphFP2  GraphFP3  GraphFP4  GraphFP5  GraphFP6  GraphFP7  \\\n",
       "0           0         0         0         0         0         0         0   \n",
       "1           0         0         0         0         0         0         0   \n",
       "2           0         0         0         0         0         0         0   \n",
       "3           0         0         0         0         0         0         0   \n",
       "4           0         0         0         0         0         0         0   \n",
       "..        ...       ...       ...       ...       ...       ...       ...   \n",
       "643         0         0         1         0         0         0         0   \n",
       "644         0         0         1         0         0         0         0   \n",
       "645         0         0         1         0         0         0         0   \n",
       "646         0         0         1         0         0         0         0   \n",
       "647         0         0         1         0         0         0         0   \n",
       "\n",
       "     GraphFP8  GraphFP9  GraphFP10  ...  GraphFP1016  GraphFP1017  \\\n",
       "0           0         0          0  ...            0            0   \n",
       "1           0         0          0  ...            0            0   \n",
       "2           0         0          0  ...            0            0   \n",
       "3           0         0          0  ...            0            0   \n",
       "4           0         0          0  ...            0            0   \n",
       "..        ...       ...        ...  ...          ...          ...   \n",
       "643         0         0          0  ...            0            0   \n",
       "644         0         0          0  ...            0            0   \n",
       "645         0         0          0  ...            0            0   \n",
       "646         0         0          0  ...            0            0   \n",
       "647         0         0          0  ...            0            0   \n",
       "\n",
       "     GraphFP1018  GraphFP1019  GraphFP1020  GraphFP1021  GraphFP1022  \\\n",
       "0              0            0            0            0            0   \n",
       "1              0            0            0            0            0   \n",
       "2              0            0            0            0            0   \n",
       "3              0            0            0            0            0   \n",
       "4              0            0            0            0            0   \n",
       "..           ...          ...          ...          ...          ...   \n",
       "643            0            0            0            0            0   \n",
       "644            0            0            0            0            0   \n",
       "645            0            0            0            0            0   \n",
       "646            0            0            0            0            0   \n",
       "647            0            0            0            0            0   \n",
       "\n",
       "     GraphFP1023  GraphFP1024  Activity  \n",
       "0              0            0         0  \n",
       "1              0            0         0  \n",
       "2              0            0         0  \n",
       "3              0            0         0  \n",
       "4              0            0         0  \n",
       "..           ...          ...       ...  \n",
       "643            0            0         0  \n",
       "644            0            0         0  \n",
       "645            0            0         0  \n",
       "646            0            0         0  \n",
       "647            0            0         0  \n",
       "\n",
       "[648 rows x 1025 columns]"
      ]
     },
     "execution_count": 8,
     "metadata": {},
     "output_type": "execute_result"
    }
   ],
   "source": [
    "df = pd.read_csv('bioactivity_data_GraphOnlyFingerprinter.csv')\n",
    "df"
   ]
  },
  {
   "cell_type": "markdown",
   "metadata": {
    "id": "dYZ6-KJNtsrh"
   },
   "source": [
    "## **Input features**"
   ]
  },
  {
   "cell_type": "markdown",
   "metadata": {
    "id": "gQVFKOCetsri"
   },
   "source": [
    "### **Input features**"
   ]
  },
  {
   "cell_type": "code",
   "execution_count": 9,
   "metadata": {
    "id": "rPa_Zev-tsri"
   },
   "outputs": [],
   "source": [
    "X = df.drop('Activity', axis=1)"
   ]
  },
  {
   "cell_type": "markdown",
   "metadata": {
    "id": "9fJkeKehtsri"
   },
   "source": [
    "### **Output features**"
   ]
  },
  {
   "cell_type": "code",
   "execution_count": 10,
   "metadata": {
    "id": "JlkQHZzKtsri"
   },
   "outputs": [],
   "source": [
    "y = df['Activity']"
   ]
  },
  {
   "cell_type": "code",
   "execution_count": 11,
   "metadata": {
    "id": "EHo7xgLmtsrj"
   },
   "outputs": [],
   "source": [
    "# count the number of instances in each class\n",
    "counts = y.value_counts()\n",
    "\n",
    "# calculate the ratio of the negative class to the positive class\n",
    "imbalance_ratio = counts[0] / counts[1]"
   ]
  },
  {
   "cell_type": "markdown",
   "metadata": {
    "id": "_fdRGAIltsrj"
   },
   "source": [
    "### **Let's examine the data dimension**"
   ]
  },
  {
   "cell_type": "code",
   "execution_count": 12,
   "metadata": {
    "id": "GZFGmQwRtsrj"
   },
   "outputs": [
    {
     "data": {
      "text/plain": [
       "((648, 1024), (648,))"
      ]
     },
     "execution_count": 12,
     "metadata": {},
     "output_type": "execute_result"
    }
   ],
   "source": [
    "X.shape, y.shape"
   ]
  },
  {
   "cell_type": "markdown",
   "metadata": {
    "id": "-svjbOfutsrk"
   },
   "source": [
    "## **Data split (80/20 ratio)**"
   ]
  },
  {
   "cell_type": "code",
   "execution_count": 13,
   "metadata": {
    "id": "jF52tbMYw1z5"
   },
   "outputs": [],
   "source": [
    "idx_train, idx_test = train_test_split(np.arange(len(X)), stratify=y, test_size=.2)"
   ]
  },
  {
   "cell_type": "code",
   "execution_count": 14,
   "metadata": {
    "id": "nMw13QDQtsrk"
   },
   "outputs": [],
   "source": [
    "X_train, y_train = X.loc[idx_train], y.loc[idx_train]\n",
    "X_test, y_test = X.loc[idx_test], y.loc[idx_test]"
   ]
  },
  {
   "cell_type": "code",
   "execution_count": 15,
   "metadata": {
    "id": "vej1D8zrtsrk"
   },
   "outputs": [
    {
     "data": {
      "text/plain": [
       "((518, 1024), (518,))"
      ]
     },
     "execution_count": 15,
     "metadata": {},
     "output_type": "execute_result"
    }
   ],
   "source": [
    "X_train.shape, y_train.shape"
   ]
  },
  {
   "cell_type": "markdown",
   "metadata": {
    "id": "N4rFAzWytsrl"
   },
   "source": [
    "## **Data balancing**"
   ]
  },
  {
   "cell_type": "markdown",
   "metadata": {
    "id": "NyZW_Nd_tsrl"
   },
   "source": [
    "### **Random Oversampling**"
   ]
  },
  {
   "cell_type": "code",
   "execution_count": 16,
   "metadata": {
    "id": "RI8yGfqutsrl"
   },
   "outputs": [],
   "source": [
    "from imblearn.over_sampling import RandomOverSampler\n",
    "\n",
    "# create an oversampler object with a 1:1 ratio of positive to negative samples\n",
    "ros = RandomOverSampler(sampling_strategy='minority')\n",
    "\n",
    "# fit and apply the oversampler to the training data\n",
    "X_train_ros, y_train_ros = ros.fit_resample(X_train, y_train)"
   ]
  },
  {
   "cell_type": "markdown",
   "metadata": {
    "id": "gwO-v_JItsrl"
   },
   "source": [
    "### **SMOTE**"
   ]
  },
  {
   "cell_type": "code",
   "execution_count": 17,
   "metadata": {
    "id": "9MVK0C2ptsrl"
   },
   "outputs": [],
   "source": [
    "from imblearn.over_sampling import SMOTE\n",
    "\n",
    "# Perform oversampling on the minority class in the training set\n",
    "sm = SMOTE(random_state=seed)\n",
    "\n",
    "# fit and apply the oversampler to the training data\n",
    "X_train_sm, y_train_sm = sm.fit_resample(X_train, y_train)"
   ]
  },
  {
   "cell_type": "markdown",
   "metadata": {
    "id": "4OQ3xLJ0tsrl"
   },
   "source": [
    "### **ADASYN**"
   ]
  },
  {
   "cell_type": "code",
   "execution_count": 18,
   "metadata": {
    "id": "eLwXSD8Ptsrm"
   },
   "outputs": [],
   "source": [
    "from imblearn.over_sampling import ADASYN\n",
    "\n",
    "# Perform oversampling on the minority class in the training set\n",
    "adasyn = ADASYN(random_state=seed)\n",
    "\n",
    "# fit and apply the oversampler to the training data\n",
    "X_train_adasyn, y_train_adasyn = adasyn.fit_resample(X_train, y_train)"
   ]
  },
  {
   "cell_type": "markdown",
   "metadata": {
    "id": "UF-kp8rLhvNB"
   },
   "source": [
    "\n",
    "\n",
    "---\n",
    "\n"
   ]
  },
  {
   "cell_type": "code",
   "execution_count": 19,
   "metadata": {
    "id": "h5K8LAAYtsrm"
   },
   "outputs": [],
   "source": [
    "X_train = X_train.reset_index(drop=True)\n",
    "y_train = y_train.reset_index(drop=True)\n",
    "X_test = X_test.reset_index(drop=True)\n",
    "y_test = y_test.reset_index(drop=True)"
   ]
  },
  {
   "cell_type": "code",
   "execution_count": 20,
   "metadata": {
    "id": "MQvl_xl1AkzX"
   },
   "outputs": [],
   "source": [
    "n_samples, n_classes = 518, 2\n",
    "class_weights = dict(zip(np.unique(y_train), n_samples / (n_classes * np.bincount(y_train))))"
   ]
  },
  {
   "cell_type": "markdown",
   "metadata": {
    "id": "_LJzaixXHFXl"
   },
   "source": [
    "# **GridSearchCV**\n",
    "* cv = 10\n",
    "* 'balanced_accuracy' as a scoring metric to deal with imbalanced datasets. It is defined as the average of recall obtained on each class."
   ]
  },
  {
   "cell_type": "code",
   "execution_count": 21,
   "metadata": {
    "id": "6C6onOMSHKDA"
   },
   "outputs": [],
   "source": [
    "def gridsearch_cv(clf, X_train, y_train, param_grid):\n",
    "    \n",
    "    # Create a GridSearchCV object and fit the data\n",
    "    clf_random = GridSearchCV(clf, param_grid, cv=10, scoring='balanced_accuracy', n_jobs=2)\n",
    "    clf_random.fit(X_train, y_train)\n",
    "\n",
    "    # Print the best hyperparameters and the corresponding mean cross-validation score\n",
    "    print('--------------------------------------------------------------------')\n",
    "    print(\"Best hyperparameters:\", clf_random.best_params_)\n",
    "    print(\"Best score:\", clf_random.best_score_)\n",
    "\n",
    "    pred_proba = clf_random.predict_proba(X_test) \n",
    "\n",
    "    precision, recall, _ = precision_recall_curve(y_test, pred_proba[:, 1])\n",
    "    pr_auc = auc(recall, precision)\n",
    "\n",
    "    y_train_pred = clf_random.predict(X_train)\n",
    "    train_accuracy = np.mean(y_train_pred.ravel() == y_train.ravel())*100\n",
    "    y_test_pred = clf_random.predict(X_test)\n",
    "    test_accuracy = np.mean(y_test_pred.ravel() == y_test.ravel())*100\n",
    "\n",
    "    acc = accuracy_score(y_test, y_test_pred) \n",
    "    prec = precision_score(y_test, y_test_pred)\n",
    "    rec = recall_score(y_test, y_test_pred)   \n",
    "    f1 = f1_score(y_test, y_test_pred)  \n",
    "    roc_auc = roc_auc_score(y_test, y_test_pred)\n",
    "    print(f'Accuracy: {acc}, Precision: {prec}, Recall: {rec}, f1_score: {f1}, ROC AUC: {roc_auc}')"
   ]
  },
  {
   "cell_type": "markdown",
   "metadata": {
    "id": "a61e7KdJtsrm"
   },
   "source": [
    "## **ExtraTreesClassifier**"
   ]
  },
  {
   "cell_type": "code",
   "execution_count": 22,
   "metadata": {
    "id": "FwLIZGHytsrm"
   },
   "outputs": [
    {
     "name": "stdout",
     "output_type": "stream",
     "text": [
      "--------------------------------------------------------------------\n",
      "Best hyperparameters: {'max_depth': 10, 'max_features': 10, 'n_estimators': 100}\n",
      "Best score: 0.7414539007092198\n",
      "Accuracy: 0.9384615384615385, Precision: 0.6153846153846154, Recall: 0.7272727272727273, f1_score: 0.6666666666666667, ROC AUC: 0.8426279602750191\n"
     ]
    }
   ],
   "source": [
    "clf1 = ExtraTreesClassifier(random_state=seed, class_weight=class_weights)\n",
    "param_grid1 = {'n_estimators': [100, 500, 1000],\n",
    "        'max_depth': [10, 25, 40, 50],\n",
    "        'max_features': [int(sqrt(X.shape[1])), int(log2(X.shape[1]))]}\n",
    "\n",
    "gridsearch_cv(clf1, X_train, y_train, param_grid1)"
   ]
  },
  {
   "cell_type": "code",
   "execution_count": 23,
   "metadata": {
    "id": "pAxiRswGtsro",
    "scrolled": true
   },
   "outputs": [
    {
     "data": {
      "text/html": [
       "<style type=\"text/css\">\n",
       "</style>\n",
       "<table id=\"T_55122\">\n",
       "  <thead>\n",
       "    <tr>\n",
       "      <th id=\"T_55122_level0_col0\" class=\"col_heading level0 col0\" >model</th>\n",
       "      <th id=\"T_55122_level0_col1\" class=\"col_heading level0 col1\" >f1_score</th>\n",
       "      <th id=\"T_55122_level0_col2\" class=\"col_heading level0 col2\" >auc</th>\n",
       "      <th id=\"T_55122_level0_col3\" class=\"col_heading level0 col3\" >auc_pr</th>\n",
       "      <th id=\"T_55122_level0_col4\" class=\"col_heading level0 col4\" >recall_classe(0)</th>\n",
       "      <th id=\"T_55122_level0_col5\" class=\"col_heading level0 col5\" >recall_classe(1)</th>\n",
       "      <th id=\"T_55122_level0_col6\" class=\"col_heading level0 col6\" >precision_classe(0)</th>\n",
       "      <th id=\"T_55122_level0_col7\" class=\"col_heading level0 col7\" >precision_classe(1)</th>\n",
       "    </tr>\n",
       "  </thead>\n",
       "  <tbody>\n",
       "    <tr>\n",
       "      <td id=\"T_55122_row0_col0\" class=\"data row0 col0\" >ExtraTreesClassifier</td>\n",
       "      <td id=\"T_55122_row0_col1\" class=\"data row0 col1\" >0.666667</td>\n",
       "      <td id=\"T_55122_row0_col2\" class=\"data row0 col2\" >0.902215</td>\n",
       "      <td id=\"T_55122_row0_col3\" class=\"data row0 col3\" >0.718749</td>\n",
       "      <td id=\"T_55122_row0_col4\" class=\"data row0 col4\" >0.957983</td>\n",
       "      <td id=\"T_55122_row0_col5\" class=\"data row0 col5\" >0.727273</td>\n",
       "      <td id=\"T_55122_row0_col6\" class=\"data row0 col6\" >0.974359</td>\n",
       "      <td id=\"T_55122_row0_col7\" class=\"data row0 col7\" >0.615385</td>\n",
       "    </tr>\n",
       "  </tbody>\n",
       "</table>\n"
      ],
      "text/plain": [
       "<pandas.io.formats.style.Styler at 0x240f1cb1d80>"
      ]
     },
     "execution_count": 23,
     "metadata": {},
     "output_type": "execute_result"
    }
   ],
   "source": [
    "model1 = ExtraTreesClassifier(random_state=seed, max_depth=10, n_estimators=100, class_weight=class_weights, max_features=10).fit(X_train, y_train)\n",
    "clf1 = print_auc(model1, X_train, y_train, X_test, y_test, 'ExtraTreesClassifier')\n",
    "df1 = pd.DataFrame(data=[['ExtraTreesClassifier', clf1['f1'], clf1['auc'], clf1['auc_pr'], clf1['recall_sc'][0], clf1['recall_sc'][1], clf1['precision_sc'][0], clf1['precision_sc'][1]]], \n",
    "                          columns=['model', 'f1_score', 'auc', 'auc_pr', 'recall_classe(0)', 'recall_classe(1)', 'precision_classe(0)', 'precision_classe(1)'])\n",
    "df1.style.hide_index()"
   ]
  },
  {
   "cell_type": "markdown",
   "metadata": {
    "id": "QQCRXaiWtsrp"
   },
   "source": [
    "## **XGBClassifier**"
   ]
  },
  {
   "cell_type": "code",
   "execution_count": 24,
   "metadata": {
    "id": "jBR0m1_Otsrp"
   },
   "outputs": [
    {
     "name": "stdout",
     "output_type": "stream",
     "text": [
      "--------------------------------------------------------------------\n",
      "Best hyperparameters: {'gamma': 0.1, 'learning_rate': 0.001, 'max_depth': 3}\n",
      "Best score: 0.7622828014184397\n",
      "Accuracy: 0.8692307692307693, Precision: 0.36363636363636365, Recall: 0.7272727272727273, f1_score: 0.4848484848484849, ROC AUC: 0.8048128342245988\n"
     ]
    }
   ],
   "source": [
    "clf2 = xgb.XGBClassifier(objective='binary:logistic', scale_pos_weight=imbalance_ratio)\n",
    "param_grid2 = {'learning_rate' : [0.001, 0.1, 1.0],\n",
    "        'max_depth' : [3, 7, 25, 100],\n",
    "        'gamma' : [0.1, 0.5, 1.0]}\n",
    "\n",
    "gridsearch_cv(clf2, X_train, y_train, param_grid2)"
   ]
  },
  {
   "cell_type": "code",
   "execution_count": 35,
   "metadata": {
    "id": "tQ4tjaFxtsrp"
   },
   "outputs": [
    {
     "data": {
      "text/html": [
       "<style type=\"text/css\">\n",
       "</style>\n",
       "<table id=\"T_0a266\">\n",
       "  <thead>\n",
       "    <tr>\n",
       "      <th id=\"T_0a266_level0_col0\" class=\"col_heading level0 col0\" >model</th>\n",
       "      <th id=\"T_0a266_level0_col1\" class=\"col_heading level0 col1\" >f1_score</th>\n",
       "      <th id=\"T_0a266_level0_col2\" class=\"col_heading level0 col2\" >auc</th>\n",
       "      <th id=\"T_0a266_level0_col3\" class=\"col_heading level0 col3\" >auc_pr</th>\n",
       "      <th id=\"T_0a266_level0_col4\" class=\"col_heading level0 col4\" >recall_classe(0)</th>\n",
       "      <th id=\"T_0a266_level0_col5\" class=\"col_heading level0 col5\" >recall_classe(1)</th>\n",
       "      <th id=\"T_0a266_level0_col6\" class=\"col_heading level0 col6\" >precision_classe(0)</th>\n",
       "      <th id=\"T_0a266_level0_col7\" class=\"col_heading level0 col7\" >precision_classe(1)</th>\n",
       "    </tr>\n",
       "  </thead>\n",
       "  <tbody>\n",
       "    <tr>\n",
       "      <td id=\"T_0a266_row0_col0\" class=\"data row0 col0\" >XGBClassifier</td>\n",
       "      <td id=\"T_0a266_row0_col1\" class=\"data row0 col1\" >0.750000</td>\n",
       "      <td id=\"T_0a266_row0_col2\" class=\"data row0 col2\" >0.918258</td>\n",
       "      <td id=\"T_0a266_row0_col3\" class=\"data row0 col3\" >0.724134</td>\n",
       "      <td id=\"T_0a266_row0_col4\" class=\"data row0 col4\" >0.966387</td>\n",
       "      <td id=\"T_0a266_row0_col5\" class=\"data row0 col5\" >0.818182</td>\n",
       "      <td id=\"T_0a266_row0_col6\" class=\"data row0 col6\" >0.982906</td>\n",
       "      <td id=\"T_0a266_row0_col7\" class=\"data row0 col7\" >0.692308</td>\n",
       "    </tr>\n",
       "  </tbody>\n",
       "</table>\n"
      ],
      "text/plain": [
       "<pandas.io.formats.style.Styler at 0x240f2b97cd0>"
      ]
     },
     "execution_count": 35,
     "metadata": {},
     "output_type": "execute_result"
    }
   ],
   "source": [
    "model2 = xgb.XGBClassifier(learning_rate=1.0, max_depth=25, gamma=0.1, subsample=0.8, colsample_bytree=0.8, \n",
    "                           objective='binary:logistic', scale_pos_weight=imbalance_ratio).fit(X_train, y_train)\n",
    "clf2 = print_auc(model2, X_train, y_train, X_test, y_test, 'XGBClassifier')\n",
    "df2 = pd.DataFrame(data=[['XGBClassifier', clf2['f1'], clf2['auc'], clf2['auc_pr'], clf2['recall_sc'][0], clf2['recall_sc'][1], clf2['precision_sc'][0], clf2['precision_sc'][1]]], \n",
    "                          columns=['model', 'f1_score', 'auc', 'auc_pr', 'recall_classe(0)', 'recall_classe(1)', 'precision_classe(0)', 'precision_classe(1)'])\n",
    "df2.style.hide_index()"
   ]
  },
  {
   "cell_type": "markdown",
   "metadata": {
    "id": "SyBnVEU4Jppr"
   },
   "source": [
    "## **AdaBoostClassifier**"
   ]
  },
  {
   "cell_type": "code",
   "execution_count": 29,
   "metadata": {
    "id": "Zae2H2ZiJ6fg"
   },
   "outputs": [
    {
     "name": "stdout",
     "output_type": "stream",
     "text": [
      "--------------------------------------------------------------------\n",
      "Best hyperparameters: {'n_estimators': 50}\n",
      "Best score: 0.7059397163120568\n",
      "Accuracy: 0.9384615384615385, Precision: 0.7142857142857143, Recall: 0.45454545454545453, f1_score: 0.5555555555555556, ROC AUC: 0.7188693659281895\n"
     ]
    }
   ],
   "source": [
    "clf3 = AdaBoostClassifier(random_state=seed)\n",
    "param_grid3 = {'n_estimators' : [25, 50, 100]}\n",
    "\n",
    "gridsearch_cv(clf3, X_train, y_train, param_grid3)"
   ]
  },
  {
   "cell_type": "code",
   "execution_count": 38,
   "metadata": {
    "id": "oNayI2qhNSu1"
   },
   "outputs": [
    {
     "data": {
      "text/html": [
       "<style type=\"text/css\">\n",
       "</style>\n",
       "<table id=\"T_6f8f4\">\n",
       "  <thead>\n",
       "    <tr>\n",
       "      <th id=\"T_6f8f4_level0_col0\" class=\"col_heading level0 col0\" >model</th>\n",
       "      <th id=\"T_6f8f4_level0_col1\" class=\"col_heading level0 col1\" >f1_score</th>\n",
       "      <th id=\"T_6f8f4_level0_col2\" class=\"col_heading level0 col2\" >auc</th>\n",
       "      <th id=\"T_6f8f4_level0_col3\" class=\"col_heading level0 col3\" >auc_pr</th>\n",
       "      <th id=\"T_6f8f4_level0_col4\" class=\"col_heading level0 col4\" >recall_classe(0)</th>\n",
       "      <th id=\"T_6f8f4_level0_col5\" class=\"col_heading level0 col5\" >recall_classe(1)</th>\n",
       "      <th id=\"T_6f8f4_level0_col6\" class=\"col_heading level0 col6\" >precision_classe(0)</th>\n",
       "      <th id=\"T_6f8f4_level0_col7\" class=\"col_heading level0 col7\" >precision_classe(1)</th>\n",
       "    </tr>\n",
       "  </thead>\n",
       "  <tbody>\n",
       "    <tr>\n",
       "      <td id=\"T_6f8f4_row0_col0\" class=\"data row0 col0\" >AdaBoostClassifier</td>\n",
       "      <td id=\"T_6f8f4_row0_col1\" class=\"data row0 col1\" >0.727273</td>\n",
       "      <td id=\"T_6f8f4_row0_col2\" class=\"data row0 col2\" >0.955309</td>\n",
       "      <td id=\"T_6f8f4_row0_col3\" class=\"data row0 col3\" >0.800975</td>\n",
       "      <td id=\"T_6f8f4_row0_col4\" class=\"data row0 col4\" >0.974790</td>\n",
       "      <td id=\"T_6f8f4_row0_col5\" class=\"data row0 col5\" >0.727273</td>\n",
       "      <td id=\"T_6f8f4_row0_col6\" class=\"data row0 col6\" >0.974790</td>\n",
       "      <td id=\"T_6f8f4_row0_col7\" class=\"data row0 col7\" >0.727273</td>\n",
       "    </tr>\n",
       "  </tbody>\n",
       "</table>\n"
      ],
      "text/plain": [
       "<pandas.io.formats.style.Styler at 0x240f2b97550>"
      ]
     },
     "execution_count": 38,
     "metadata": {},
     "output_type": "execute_result"
    }
   ],
   "source": [
    "model3 = AdaBoostClassifier(random_state=seed, n_estimators=100).fit(X_train, y_train)\n",
    "clf3 = print_auc(model3, X_train, y_train, X_test, y_test, 'AdaBoostClassifier')\n",
    "df3 = pd.DataFrame(data=[['AdaBoostClassifier', clf3['f1'], clf3['auc'], clf3['auc_pr'], clf3['recall_sc'][0], clf3['recall_sc'][1], clf3['precision_sc'][0], clf3['precision_sc'][1]]], \n",
    "                          columns=['model', 'f1_score', 'auc', 'auc_pr', 'recall_classe(0)', 'recall_classe(1)', 'precision_classe(0)', 'precision_classe(1)'])\n",
    "df3.style.hide_index()"
   ]
  },
  {
   "cell_type": "markdown",
   "metadata": {
    "id": "AFc-ALhpSAJ-"
   },
   "source": [
    "## **DecisionTreeClassifier**"
   ]
  },
  {
   "cell_type": "code",
   "execution_count": 39,
   "metadata": {
    "id": "2UXnbmeSSKP7"
   },
   "outputs": [
    {
     "name": "stdout",
     "output_type": "stream",
     "text": [
      "--------------------------------------------------------------------\n",
      "Best hyperparameters: {'criterion': 'entropy', 'max_depth': 10, 'min_samples_leaf': 7}\n",
      "Best score: 0.7094060283687943\n",
      "Accuracy: 0.9307692307692308, Precision: 0.6, Recall: 0.5454545454545454, f1_score: 0.5714285714285713, ROC AUC: 0.755920550038197\n"
     ]
    }
   ],
   "source": [
    "clf4 = DecisionTreeClassifier(random_state=seed)\n",
    "param_grid4 = {'min_samples_leaf' : [2, 5, 7],\n",
    "         'max_depth' : [10, 25, 50],\n",
    "         'criterion' : ['gini', 'entropy', 'log_loss']}\n",
    "\n",
    "gridsearch_cv(clf4, X_train, y_train, param_grid4)"
   ]
  },
  {
   "cell_type": "code",
   "execution_count": 75,
   "metadata": {
    "id": "EBtWCZZ-Sgcp"
   },
   "outputs": [
    {
     "data": {
      "text/html": [
       "<style type=\"text/css\">\n",
       "</style>\n",
       "<table id=\"T_82b03\">\n",
       "  <thead>\n",
       "    <tr>\n",
       "      <th id=\"T_82b03_level0_col0\" class=\"col_heading level0 col0\" >model</th>\n",
       "      <th id=\"T_82b03_level0_col1\" class=\"col_heading level0 col1\" >f1_score</th>\n",
       "      <th id=\"T_82b03_level0_col2\" class=\"col_heading level0 col2\" >auc</th>\n",
       "      <th id=\"T_82b03_level0_col3\" class=\"col_heading level0 col3\" >auc_pr</th>\n",
       "      <th id=\"T_82b03_level0_col4\" class=\"col_heading level0 col4\" >recall_classe(0)</th>\n",
       "      <th id=\"T_82b03_level0_col5\" class=\"col_heading level0 col5\" >recall_classe(1)</th>\n",
       "      <th id=\"T_82b03_level0_col6\" class=\"col_heading level0 col6\" >precision_classe(0)</th>\n",
       "      <th id=\"T_82b03_level0_col7\" class=\"col_heading level0 col7\" >precision_classe(1)</th>\n",
       "    </tr>\n",
       "  </thead>\n",
       "  <tbody>\n",
       "    <tr>\n",
       "      <td id=\"T_82b03_row0_col0\" class=\"data row0 col0\" >DecisionTreeClassifier</td>\n",
       "      <td id=\"T_82b03_row0_col1\" class=\"data row0 col1\" >0.761905</td>\n",
       "      <td id=\"T_82b03_row0_col2\" class=\"data row0 col2\" >0.890374</td>\n",
       "      <td id=\"T_82b03_row0_col3\" class=\"data row0 col3\" >0.726039</td>\n",
       "      <td id=\"T_82b03_row0_col4\" class=\"data row0 col4\" >0.983193</td>\n",
       "      <td id=\"T_82b03_row0_col5\" class=\"data row0 col5\" >0.727273</td>\n",
       "      <td id=\"T_82b03_row0_col6\" class=\"data row0 col6\" >0.975000</td>\n",
       "      <td id=\"T_82b03_row0_col7\" class=\"data row0 col7\" >0.800000</td>\n",
       "    </tr>\n",
       "  </tbody>\n",
       "</table>\n"
      ],
      "text/plain": [
       "<pandas.io.formats.style.Styler at 0x240f74bfb20>"
      ]
     },
     "execution_count": 75,
     "metadata": {},
     "output_type": "execute_result"
    }
   ],
   "source": [
    "model4 = DecisionTreeClassifier(random_state=seed, min_samples_leaf=2, max_depth=25, criterion='gini').fit(X_train, y_train)\n",
    "clf4 = print_auc(model4, X_train, y_train, X_test, y_test, 'DecisionTreeClassifier')\n",
    "df4 = pd.DataFrame(data=[['DecisionTreeClassifier', clf4['f1'], clf4['auc'], clf4['auc_pr'], clf4['recall_sc'][0], clf4['recall_sc'][1], clf4['precision_sc'][0], clf4['precision_sc'][1]]], \n",
    "                          columns=['model', 'f1_score', 'auc', 'auc_pr', 'recall_classe(0)', 'recall_classe(1)', 'precision_classe(0)', 'precision_classe(1)'])\n",
    "df4.style.hide_index()"
   ]
  },
  {
   "cell_type": "markdown",
   "metadata": {
    "id": "KIIIZFOcVuhP"
   },
   "source": [
    "## **GaussianNB**"
   ]
  },
  {
   "cell_type": "code",
   "execution_count": 61,
   "metadata": {
    "id": "NkL_8QXOX8fO"
   },
   "outputs": [
    {
     "name": "stdout",
     "output_type": "stream",
     "text": [
      "--------------------------------------------------------------------\n",
      "Best hyperparameters: {'var_smoothing': 1}\n",
      "Best score: 0.7518351063829788\n",
      "Accuracy: 0.7923076923076923, Precision: 0.25, Recall: 0.7272727272727273, f1_score: 0.37209302325581395, ROC AUC: 0.7627960275019099\n"
     ]
    }
   ],
   "source": [
    "clf5 = GaussianNB()\n",
    "param_grid5 = {'var_smoothing': [1, 3, 5, 8]}\n",
    "\n",
    "gridsearch_cv(clf5, X_train, y_train, param_grid5)"
   ]
  },
  {
   "cell_type": "code",
   "execution_count": 81,
   "metadata": {
    "id": "ikOAnpKTYINF"
   },
   "outputs": [
    {
     "data": {
      "text/html": [
       "<style type=\"text/css\">\n",
       "</style>\n",
       "<table id=\"T_819fb\">\n",
       "  <thead>\n",
       "    <tr>\n",
       "      <th id=\"T_819fb_level0_col0\" class=\"col_heading level0 col0\" >model</th>\n",
       "      <th id=\"T_819fb_level0_col1\" class=\"col_heading level0 col1\" >f1_score</th>\n",
       "      <th id=\"T_819fb_level0_col2\" class=\"col_heading level0 col2\" >auc</th>\n",
       "      <th id=\"T_819fb_level0_col3\" class=\"col_heading level0 col3\" >auc_pr</th>\n",
       "      <th id=\"T_819fb_level0_col4\" class=\"col_heading level0 col4\" >recall_classe(0)</th>\n",
       "      <th id=\"T_819fb_level0_col5\" class=\"col_heading level0 col5\" >recall_classe(1)</th>\n",
       "      <th id=\"T_819fb_level0_col6\" class=\"col_heading level0 col6\" >precision_classe(0)</th>\n",
       "      <th id=\"T_819fb_level0_col7\" class=\"col_heading level0 col7\" >precision_classe(1)</th>\n",
       "    </tr>\n",
       "  </thead>\n",
       "  <tbody>\n",
       "    <tr>\n",
       "      <td id=\"T_819fb_row0_col0\" class=\"data row0 col0\" >GaussianNB</td>\n",
       "      <td id=\"T_819fb_row0_col1\" class=\"data row0 col1\" >0.533333</td>\n",
       "      <td id=\"T_819fb_row0_col2\" class=\"data row0 col2\" >0.858671</td>\n",
       "      <td id=\"T_819fb_row0_col3\" class=\"data row0 col3\" >0.484149</td>\n",
       "      <td id=\"T_819fb_row0_col4\" class=\"data row0 col4\" >0.907563</td>\n",
       "      <td id=\"T_819fb_row0_col5\" class=\"data row0 col5\" >0.727273</td>\n",
       "      <td id=\"T_819fb_row0_col6\" class=\"data row0 col6\" >0.972973</td>\n",
       "      <td id=\"T_819fb_row0_col7\" class=\"data row0 col7\" >0.421053</td>\n",
       "    </tr>\n",
       "  </tbody>\n",
       "</table>\n"
      ],
      "text/plain": [
       "<pandas.io.formats.style.Styler at 0x240f2ec23e0>"
      ]
     },
     "execution_count": 81,
     "metadata": {},
     "output_type": "execute_result"
    }
   ],
   "source": [
    "model5 = GaussianNB(var_smoothing=8).fit(X_train, y_train)\n",
    "clf5 = print_auc(model5, X_train, y_train, X_test, y_test, 'GaussianNB')\n",
    "df5 = pd.DataFrame(data=[['GaussianNB', clf5['f1'], clf5['auc'], clf5['auc_pr'], clf5['recall_sc'][0], clf5['recall_sc'][1], clf5['precision_sc'][0], clf5['precision_sc'][1]]], \n",
    "                          columns=['model', 'f1_score', 'auc', 'auc_pr', 'recall_classe(0)', 'recall_classe(1)', 'precision_classe(0)', 'precision_classe(1)'])\n",
    "df5.style.hide_index()"
   ]
  },
  {
   "cell_type": "markdown",
   "metadata": {
    "id": "qj2YVJ9XZcIY"
   },
   "source": [
    "## **LGBMClassifier**"
   ]
  },
  {
   "cell_type": "code",
   "execution_count": 82,
   "metadata": {
    "id": "oqzDidPvZbB9"
   },
   "outputs": [
    {
     "name": "stdout",
     "output_type": "stream",
     "text": [
      "[LightGBM] [Warning] min_data_in_leaf is set=50, min_child_samples=20 will be ignored. Current value: min_data_in_leaf=50\n",
      "--------------------------------------------------------------------\n",
      "Best hyperparameters: {'max_depth': 7, 'min_data_in_leaf': 50, 'num_leaves': 20, 'reg_alpha': 0.1, 'scale_pos_weight': 10}\n",
      "Best score: 0.7899157801418439\n",
      "Accuracy: 0.9153846153846154, Precision: 0.5, Recall: 0.8181818181818182, f1_score: 0.6206896551724137, ROC AUC: 0.871275783040489\n"
     ]
    }
   ],
   "source": [
    "clf6 = lgb.LGBMClassifier(class_weight='balanced')\n",
    "param_grid6 = {'num_leaves' : [20, 40, 80, 100],\n",
    "         'reg_alpha' : [0.1, 0.5],\n",
    "         'min_data_in_leaf' : [10, 30, 50],\n",
    "         'scale_pos_weight' : [10],\n",
    "         'max_depth' : [7, 10]}\n",
    "         \n",
    "gridsearch_cv(clf6, X_train, y_train, param_grid6)"
   ]
  },
  {
   "cell_type": "code",
   "execution_count": 88,
   "metadata": {
    "id": "ZcWlr9hTarFV"
   },
   "outputs": [
    {
     "name": "stdout",
     "output_type": "stream",
     "text": [
      "[LightGBM] [Warning] min_data_in_leaf is set=10, min_child_samples=20 will be ignored. Current value: min_data_in_leaf=10\n"
     ]
    },
    {
     "data": {
      "text/html": [
       "<style type=\"text/css\">\n",
       "</style>\n",
       "<table id=\"T_12136\">\n",
       "  <thead>\n",
       "    <tr>\n",
       "      <th id=\"T_12136_level0_col0\" class=\"col_heading level0 col0\" >model</th>\n",
       "      <th id=\"T_12136_level0_col1\" class=\"col_heading level0 col1\" >f1_score</th>\n",
       "      <th id=\"T_12136_level0_col2\" class=\"col_heading level0 col2\" >auc</th>\n",
       "      <th id=\"T_12136_level0_col3\" class=\"col_heading level0 col3\" >auc_pr</th>\n",
       "      <th id=\"T_12136_level0_col4\" class=\"col_heading level0 col4\" >recall_classe(0)</th>\n",
       "      <th id=\"T_12136_level0_col5\" class=\"col_heading level0 col5\" >recall_classe(1)</th>\n",
       "      <th id=\"T_12136_level0_col6\" class=\"col_heading level0 col6\" >precision_classe(0)</th>\n",
       "      <th id=\"T_12136_level0_col7\" class=\"col_heading level0 col7\" >precision_classe(1)</th>\n",
       "    </tr>\n",
       "  </thead>\n",
       "  <tbody>\n",
       "    <tr>\n",
       "      <td id=\"T_12136_row0_col0\" class=\"data row0 col0\" >LGBMClassifier</td>\n",
       "      <td id=\"T_12136_row0_col1\" class=\"data row0 col1\" >0.727273</td>\n",
       "      <td id=\"T_12136_row0_col2\" class=\"data row0 col2\" >0.932009</td>\n",
       "      <td id=\"T_12136_row0_col3\" class=\"data row0 col3\" >0.708025</td>\n",
       "      <td id=\"T_12136_row0_col4\" class=\"data row0 col4\" >0.974790</td>\n",
       "      <td id=\"T_12136_row0_col5\" class=\"data row0 col5\" >0.727273</td>\n",
       "      <td id=\"T_12136_row0_col6\" class=\"data row0 col6\" >0.974790</td>\n",
       "      <td id=\"T_12136_row0_col7\" class=\"data row0 col7\" >0.727273</td>\n",
       "    </tr>\n",
       "  </tbody>\n",
       "</table>\n"
      ],
      "text/plain": [
       "<pandas.io.formats.style.Styler at 0x240f755a0e0>"
      ]
     },
     "execution_count": 88,
     "metadata": {},
     "output_type": "execute_result"
    }
   ],
   "source": [
    "model6 = lgb.LGBMClassifier(num_leaves=20, reg_alpha=0.1, min_data_in_leaf=10, scale_pos_weight=10, max_depth=7).fit(X_train, y_train)\n",
    "clf6 = print_auc(model6, X_train, y_train, X_test, y_test, 'LGBMClassifier')\n",
    "df6 = pd.DataFrame(data=[['LGBMClassifier', clf6['f1'], clf6['auc'], clf6['auc_pr'], clf6['recall_sc'][0], clf6['recall_sc'][1], clf6['precision_sc'][0], clf6['precision_sc'][1]]], \n",
    "                          columns=['model', 'f1_score', 'auc', 'auc_pr', 'recall_classe(0)', 'recall_classe(1)', 'precision_classe(0)', 'precision_classe(1)'])\n",
    "df6.style.hide_index()"
   ]
  },
  {
   "cell_type": "markdown",
   "metadata": {
    "id": "tAN365LxheXY"
   },
   "source": [
    "## **KNeighborsClassifier**"
   ]
  },
  {
   "cell_type": "code",
   "execution_count": 89,
   "metadata": {
    "id": "_QTUZs-HhtEf"
   },
   "outputs": [
    {
     "name": "stdout",
     "output_type": "stream",
     "text": [
      "--------------------------------------------------------------------\n",
      "Best hyperparameters: {'algorithm': 'brute', 'metric': 'euclidean', 'n_neighbors': 3, 'weights': 'distance'}\n",
      "Best score: 0.6820035460992908\n",
      "Accuracy: 0.9615384615384616, Precision: 0.8, Recall: 0.7272727272727273, f1_score: 0.761904761904762, ROC AUC: 0.8552330022918258\n"
     ]
    }
   ],
   "source": [
    "clf7 = KNeighborsClassifier()\n",
    "param_grid7 = {'n_neighbors' : [3, 5, 7],\n",
    "         'weights': ['distance'],\n",
    "         'metric' : ['euclidean', 'manhattan'],\n",
    "         'algorithm' : ['brute']}\n",
    "\n",
    "gridsearch_cv(clf7, X_train, y_train, param_grid7)"
   ]
  },
  {
   "cell_type": "code",
   "execution_count": 92,
   "metadata": {
    "id": "vC7wm2Luh2T8"
   },
   "outputs": [
    {
     "data": {
      "text/html": [
       "<style type=\"text/css\">\n",
       "</style>\n",
       "<table id=\"T_b1dbd\">\n",
       "  <thead>\n",
       "    <tr>\n",
       "      <th id=\"T_b1dbd_level0_col0\" class=\"col_heading level0 col0\" >model</th>\n",
       "      <th id=\"T_b1dbd_level0_col1\" class=\"col_heading level0 col1\" >f1_score</th>\n",
       "      <th id=\"T_b1dbd_level0_col2\" class=\"col_heading level0 col2\" >auc</th>\n",
       "      <th id=\"T_b1dbd_level0_col3\" class=\"col_heading level0 col3\" >auc_pr</th>\n",
       "      <th id=\"T_b1dbd_level0_col4\" class=\"col_heading level0 col4\" >recall_classe(0)</th>\n",
       "      <th id=\"T_b1dbd_level0_col5\" class=\"col_heading level0 col5\" >recall_classe(1)</th>\n",
       "      <th id=\"T_b1dbd_level0_col6\" class=\"col_heading level0 col6\" >precision_classe(0)</th>\n",
       "      <th id=\"T_b1dbd_level0_col7\" class=\"col_heading level0 col7\" >precision_classe(1)</th>\n",
       "    </tr>\n",
       "  </thead>\n",
       "  <tbody>\n",
       "    <tr>\n",
       "      <td id=\"T_b1dbd_row0_col0\" class=\"data row0 col0\" >KNeiborsClassifier</td>\n",
       "      <td id=\"T_b1dbd_row0_col1\" class=\"data row0 col1\" >0.761905</td>\n",
       "      <td id=\"T_b1dbd_row0_col2\" class=\"data row0 col2\" >0.944232</td>\n",
       "      <td id=\"T_b1dbd_row0_col3\" class=\"data row0 col3\" >0.869955</td>\n",
       "      <td id=\"T_b1dbd_row0_col4\" class=\"data row0 col4\" >0.983193</td>\n",
       "      <td id=\"T_b1dbd_row0_col5\" class=\"data row0 col5\" >0.727273</td>\n",
       "      <td id=\"T_b1dbd_row0_col6\" class=\"data row0 col6\" >0.975000</td>\n",
       "      <td id=\"T_b1dbd_row0_col7\" class=\"data row0 col7\" >0.800000</td>\n",
       "    </tr>\n",
       "  </tbody>\n",
       "</table>\n"
      ],
      "text/plain": [
       "<pandas.io.formats.style.Styler at 0x240f755c4f0>"
      ]
     },
     "execution_count": 92,
     "metadata": {},
     "output_type": "execute_result"
    }
   ],
   "source": [
    "model7 = KNeighborsClassifier(n_neighbors=3, weights='distance', metric='euclidean', algorithm='brute').fit(X_train, y_train)\n",
    "clf7 = print_auc(model7, X_train, y_train, X_test, y_test, 'KNeiborsClassifier')\n",
    "df7 = pd.DataFrame(data=[['KNeiborsClassifier', clf7['f1'], clf7['auc'], clf7['auc_pr'], clf7['recall_sc'][0], clf7['recall_sc'][1], clf7['precision_sc'][0], clf7['precision_sc'][1]]], \n",
    "                          columns=['model', 'f1_score', 'auc', 'auc_pr', 'recall_classe(0)', 'recall_classe(1)', 'precision_classe(0)', 'precision_classe(1)'])\n",
    "df7.style.hide_index()"
   ]
  },
  {
   "cell_type": "markdown",
   "metadata": {
    "id": "QHWcEGBUrLFm"
   },
   "source": [
    "## **RandomForestClassifier**"
   ]
  },
  {
   "cell_type": "code",
   "execution_count": 93,
   "metadata": {
    "id": "PFkOjSCzrTaT"
   },
   "outputs": [
    {
     "name": "stdout",
     "output_type": "stream",
     "text": [
      "--------------------------------------------------------------------\n",
      "Best hyperparameters: {'bootstrap': False, 'max_depth': 10, 'n_estimators': 750}\n",
      "Best score: 0.6876507092198582\n",
      "Accuracy: 0.9615384615384616, Precision: 0.8, Recall: 0.7272727272727273, f1_score: 0.761904761904762, ROC AUC: 0.8552330022918258\n"
     ]
    }
   ],
   "source": [
    "clf8 = RandomForestClassifier(random_state=seed)\n",
    "param_grid8 = {'n_estimators' : [500, 750, 1000],\n",
    "         'max_depth' : [10, 12, 20],\n",
    "         'bootstrap' : [True, False]}\n",
    "\n",
    "gridsearch_cv(clf8, X_train, y_train, param_grid8)"
   ]
  },
  {
   "cell_type": "code",
   "execution_count": 95,
   "metadata": {
    "id": "3nYXAaI5rmze"
   },
   "outputs": [
    {
     "data": {
      "text/html": [
       "<style type=\"text/css\">\n",
       "</style>\n",
       "<table id=\"T_20abd\">\n",
       "  <thead>\n",
       "    <tr>\n",
       "      <th id=\"T_20abd_level0_col0\" class=\"col_heading level0 col0\" >model</th>\n",
       "      <th id=\"T_20abd_level0_col1\" class=\"col_heading level0 col1\" >f1_score</th>\n",
       "      <th id=\"T_20abd_level0_col2\" class=\"col_heading level0 col2\" >auc</th>\n",
       "      <th id=\"T_20abd_level0_col3\" class=\"col_heading level0 col3\" >auc_pr</th>\n",
       "      <th id=\"T_20abd_level0_col4\" class=\"col_heading level0 col4\" >recall_classe(0)</th>\n",
       "      <th id=\"T_20abd_level0_col5\" class=\"col_heading level0 col5\" >recall_classe(1)</th>\n",
       "      <th id=\"T_20abd_level0_col6\" class=\"col_heading level0 col6\" >precision_classe(0)</th>\n",
       "      <th id=\"T_20abd_level0_col7\" class=\"col_heading level0 col7\" >precision_classe(1)</th>\n",
       "    </tr>\n",
       "  </thead>\n",
       "  <tbody>\n",
       "    <tr>\n",
       "      <td id=\"T_20abd_row0_col0\" class=\"data row0 col0\" >RandomForestClassifier</td>\n",
       "      <td id=\"T_20abd_row0_col1\" class=\"data row0 col1\" >0.761905</td>\n",
       "      <td id=\"T_20abd_row0_col2\" class=\"data row0 col2\" >0.925134</td>\n",
       "      <td id=\"T_20abd_row0_col3\" class=\"data row0 col3\" >0.768241</td>\n",
       "      <td id=\"T_20abd_row0_col4\" class=\"data row0 col4\" >0.983193</td>\n",
       "      <td id=\"T_20abd_row0_col5\" class=\"data row0 col5\" >0.727273</td>\n",
       "      <td id=\"T_20abd_row0_col6\" class=\"data row0 col6\" >0.975000</td>\n",
       "      <td id=\"T_20abd_row0_col7\" class=\"data row0 col7\" >0.800000</td>\n",
       "    </tr>\n",
       "  </tbody>\n",
       "</table>\n"
      ],
      "text/plain": [
       "<pandas.io.formats.style.Styler at 0x240f755ed70>"
      ]
     },
     "execution_count": 95,
     "metadata": {},
     "output_type": "execute_result"
    }
   ],
   "source": [
    "model8 = RandomForestClassifier(random_state=seed, n_estimators=750, max_depth=10, bootstrap=False).fit(X_train, y_train)\n",
    "clf8 = print_auc(model8, X_train, y_train, X_test, y_test, 'RandomForestClassifier')\n",
    "df8 = pd.DataFrame(data=[['RandomForestClassifier', clf8['f1'], clf8['auc'], clf8['auc_pr'], clf8['recall_sc'][0], clf8['recall_sc'][1], clf8['precision_sc'][0], clf8['precision_sc'][1]]], \n",
    "                          columns=['model', 'f1_score', 'auc', 'auc_pr', 'recall_classe(0)', 'recall_classe(1)', 'precision_classe(0)', 'precision_classe(1)'])\n",
    "df8.style.hide_index()"
   ]
  },
  {
   "cell_type": "markdown",
   "metadata": {
    "id": "naDCYmAFvWpV"
   },
   "source": [
    "## **SVC**"
   ]
  },
  {
   "cell_type": "code",
   "execution_count": null,
   "metadata": {
    "id": "xkoMquuFvrwg"
   },
   "outputs": [],
   "source": [
    "clf9 = SVC(probability=True, class_weight='balanced')\n",
    "param_grid9 = {'C' : [10, 100], \n",
    "         'gamma' : [10, 100, 500],\n",
    "         'kernel' : ['rbf', 'poly'],\n",
    "         'shrinking' : [False, True]}\n",
    "\n",
    "gridsearch_cv(clf9, X_train, y_train, param_grid9)"
   ]
  },
  {
   "cell_type": "code",
   "execution_count": null,
   "metadata": {
    "id": "sn_27ImVwBD1"
   },
   "outputs": [],
   "source": [
    "model9 = SVC(C=10, kernel='poly', gamma=20, class_weight='balanced', probability=True).fit(X_train, y_train)\n",
    "clf9 = print_auc(model9, X_train, y_train, X_test, y_test, 'SVM')\n",
    "df9 = pd.DataFrame(data=[['SVM', clf9['f1'], clf9['auc'], clf9['auc_pr'], clf9['recall_sc'][0], clf9['recall_sc'][1], clf9['precision_sc'][0], clf9['precision_sc'][1]]], \n",
    "                          columns=['model', 'f1_score', 'auc', 'auc_pr', 'recall_classe(0)', 'recall_classe(1)', 'precision_classe(0)', 'precision_classe(1)'])\n",
    "df9.style.hide_index()"
   ]
  },
  {
   "cell_type": "markdown",
   "metadata": {
    "id": "trgFN6rWy8Ws"
   },
   "source": [
    "## **MLPClassifier**"
   ]
  },
  {
   "cell_type": "code",
   "execution_count": null,
   "metadata": {
    "id": "jByhlu6xzBkq"
   },
   "outputs": [],
   "source": [
    "clf10 = MLPClassifier(random_state=seed)\n",
    "param_grid10 = {'hidden_layer_sizes' : [30, 50],\n",
    "          'alpha' : [0.0001, 0.05],\n",
    "          'solver' : ['adam'],\n",
    "          'learning_rate' : ['invscaling', 'adaptive'],\n",
    "          'activation' : ['logistic', 'tanh']}\n",
    "\n",
    "gridsearch_cv(clf10, X_train, y_train, param_grid10)"
   ]
  },
  {
   "cell_type": "code",
   "execution_count": null,
   "metadata": {
    "id": "vQZe0YsVzTA6"
   },
   "outputs": [],
   "source": [
    "model10 = MLPClassifier(random_state=seed, alpha=0.0001, solver='adam', hidden_layer_sizes=50, activation='logistic').fit(X_train, y_train)\n",
    "clf10 = print_auc(model10, X_train, y_train, X_test, y_test, 'MLPClassifier')\n",
    "df10 = pd.DataFrame(data=[['MLPClassifier', clf10['f1'], clf10['auc'], clf10['auc_pr'], clf10['recall_sc'][0], clf10['recall_sc'][1], clf10['precision_sc'][0], clf10['precision_sc'][1]]], \n",
    "                          columns=['model', 'f1_score', 'auc', 'auc_pr', 'recall_classe(0)', 'recall_classe(1)', 'precision_classe(0)', 'precision_classe(1)'])\n",
    "df10.style.hide_index()"
   ]
  },
  {
   "cell_type": "markdown",
   "metadata": {
    "id": "kmHpsfue3oxS"
   },
   "source": [
    "## **LogisticRegression**"
   ]
  },
  {
   "cell_type": "code",
   "execution_count": null,
   "metadata": {
    "id": "I-Ysl9qN3taq"
   },
   "outputs": [],
   "source": [
    "clf11 = LogisticRegression(class_weight='balanced')\n",
    "param_grid11 = {'penalty' : ['none', 'l1', 'l2', 'elasticnet'],\n",
    "          'C':[0.001, 0.009, 0.01, .09, 1, 5, 10, 25]}\n",
    "\n",
    "gridsearch_cv(clf11, X_train, y_train, param_grid11)"
   ]
  },
  {
   "cell_type": "code",
   "execution_count": null,
   "metadata": {
    "id": "J40wyedO35vd"
   },
   "outputs": [],
   "source": [
    "model11 = LogisticRegression(class_weight='balanced', C=0.001, penalty='l2').fit(X_train, y_train)\n",
    "clf11 = print_auc(model11, X_train, y_train, X_test, y_test, 'LogisticRegression')\n",
    "df11 = pd.DataFrame(data=[['LogisticRegression', clf11['f1'], clf11['auc'], clf11['auc_pr'], clf11['recall_sc'][0], clf11['recall_sc'][1], clf11['precision_sc'][0], clf11['precision_sc'][1]]], \n",
    "                          columns=['model', 'f1_score', 'auc', 'auc_pr', 'recall_classe(0)', 'recall_classe(1)', 'precision_classe(0)', 'precision_classe(1)'])\n",
    "df11.style.hide_index()"
   ]
  },
  {
   "cell_type": "code",
   "execution_count": null,
   "metadata": {
    "id": "idFcRaGqEizz"
   },
   "outputs": [],
   "source": [
    "df = [df1, df2, df3, df4, df5, df6, df7, df8, df9, df10, df11]\n",
    "df_finale = pd.concat(df).style.hide_index()\n",
    "df_finale"
   ]
  },
  {
   "cell_type": "code",
   "execution_count": null,
   "metadata": {
    "id": "hEIYI-NQMhy-"
   },
   "outputs": [],
   "source": [
    "plt.rcParams[\"figure.figsize\"] = [16, 9]\n",
    "plt.plot(clf6[\"fpr\"], clf6[\"tpr\"], label=\"LGBMClassifier, auc=\"+str(clf10[\"auc\"]))\n",
    "plt.plot(clf11[\"fpr\"], clf11[\"tpr\"], label=\"LR, auc=\"+str(clf1[\"auc\"]))\n",
    "plt.plot(clf9[\"fpr\"], clf9[\"tpr\"], label=\"SVM, auc=\"+str(clf2[\"auc\"]))\n",
    "plt.plot(clf5[\"fpr\"], clf5[\"tpr\"], label=\"GaussianNB, auc=\"+str(clf3[\"auc\"]))\n",
    "plt.plot(clf1[\"fpr\"], clf1[\"tpr\"], label=\"ExtraTrees, auc=\"+str(clf6[\"auc\"]))\n",
    "plt.plot(clf7[\"fpr\"], clf7[\"tpr\"], label=\"KNN, auc=\"+str(clf5[\"auc\"]))\n",
    "plt.plot(clf4[\"fpr\"], clf4[\"tpr\"], label=\"DT, auc=\"+str(clf8[\"auc\"]))\n",
    "plt.plot(clf10[\"fpr\"], clf10[\"tpr\"], label=\"MLP, auc=\"+str(clf9[\"auc\"]))\n",
    "plt.plot(clf8[\"fpr\"], clf8[\"tpr\"], label=\"RF, auc=\"+str(clf4[\"auc\"]))\n",
    "plt.plot(clf3[\"fpr\"], clf3[\"tpr\"], label=\"AdaBoost, auc=\"+str(clf7[\"auc\"]))\n",
    "plt.plot(clf2[\"fpr\"], clf2[\"tpr\"], label=\"XGB, auc=\"+str(clf11[\"auc\"]))\n",
    "\n",
    "plt.xlabel(\"tpr\")\n",
    "plt.ylabel(\"fpr\")\n",
    "plt.legend(loc=4)\n",
    "plt.show()"
   ]
  }
 ],
 "metadata": {
  "accelerator": "GPU",
  "colab": {
   "gpuType": "T4",
   "private_outputs": true,
   "provenance": []
  },
  "kernelspec": {
   "display_name": "Python 3 (ipykernel)",
   "language": "python",
   "name": "python3"
  },
  "language_info": {
   "codemirror_mode": {
    "name": "ipython",
    "version": 3
   },
   "file_extension": ".py",
   "mimetype": "text/x-python",
   "name": "python",
   "nbconvert_exporter": "python",
   "pygments_lexer": "ipython3",
   "version": "3.10.9"
  },
  "toc": {
   "nav_menu": {},
   "number_sections": true,
   "sideBar": true,
   "skip_h1_title": false,
   "title_cell": "Table of Contents",
   "title_sidebar": "Contents",
   "toc_cell": false,
   "toc_position": {},
   "toc_section_display": true,
   "toc_window_display": false
  }
 },
 "nbformat": 4,
 "nbformat_minor": 1
}
