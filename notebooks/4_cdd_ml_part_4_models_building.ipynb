{
  "cells": [
    {
      "cell_type": "markdown",
      "metadata": {
        "id": "view-in-github",
        "colab_type": "text"
      },
      "source": [
        "<a href=\"https://colab.research.google.com/github/mounsifelatouch/cdd/blob/master/notebooks/4_cdd_ml_part_4_models_building.ipynb\" target=\"_parent\"><img src=\"https://colab.research.google.com/assets/colab-badge.svg\" alt=\"Open In Colab\"/></a>"
      ]
    },
    {
      "cell_type": "markdown",
      "metadata": {
        "id": "JQMyebI0OLqv"
      },
      "source": [
        "# **Bioinformatics Project - Computational Drug Discovery [Part 4] Classification Models Building**\n",
        "\n",
        "**MOUNSIF EL ATOUCH**\n",
        "\n",
        "In this Jupyter notebook, we will be building a machine learning model using the ChEMBL bioactivity data.\n",
        "\n",
        "In **Part 4**, we will be building classification models\n",
        "\n",
        "---"
      ]
    },
    {
      "cell_type": "markdown",
      "metadata": {
        "id": "bMhHx_CmOTPD"
      },
      "source": [
        "## **Importing libraries**"
      ]
    },
    {
      "cell_type": "code",
      "execution_count": null,
      "metadata": {
        "id": "o-MeyPj2tsrb"
      },
      "outputs": [],
      "source": [
        "import os\n",
        "import pandas as pd\n",
        "\n",
        "from scipy.spatial.distance import *\n",
        "import numpy as np\n",
        "\n",
        "import matplotlib.pyplot as plt\n",
        "%matplotlib inline\n",
        "import seaborn as sns\n",
        "\n",
        "seed = 42\n",
        "\n",
        "from sklearn.model_selection import *\n",
        "from sklearn.preprocessing import StandardScaler\n",
        "from sklearn.feature_selection import VarianceThreshold\n",
        "from sklearn.metrics import *\n",
        "\n",
        "from scipy import interp\n",
        "from math import *\n",
        "from sklearn.metrics import RocCurveDisplay\n",
        "\n",
        "import warnings\n",
        "warnings.filterwarnings('ignore')"
      ]
    },
    {
      "cell_type": "code",
      "source": [
        "from sklearn.ensemble import ExtraTreesClassifier\n",
        "import xgboost as xgb\n",
        "from sklearn.ensemble import AdaBoostClassifier\n",
        "from sklearn.tree import DecisionTreeClassifier\n",
        "from sklearn.naive_bayes import GaussianNB\n",
        "import lightgbm as lgb\n",
        "from sklearn.neighbors import KNeighborsClassifier\n",
        "from sklearn.ensemble import RandomForestClassifier\n",
        "from sklearn.svm import SVC  \n",
        "from sklearn.neural_network import MLPClassifier\n",
        "from sklearn.linear_model import LogisticRegression"
      ],
      "metadata": {
        "id": "UqPr6idQPgiF"
      },
      "execution_count": null,
      "outputs": []
    },
    {
      "cell_type": "code",
      "execution_count": null,
      "metadata": {
        "id": "pyKg-HQhtsre"
      },
      "outputs": [],
      "source": [
        "def print_score(clf, X_train, y_train, X_test, y_test, train=True):\n",
        "    if train:\n",
        "        pred = clf.predict(X_train)\n",
        "        clf_report = pd.DataFrame(classification_report(y_train, pred, output_dict=True))\n",
        "        print(\"Train Result:\\n================================================\")\n",
        "        print(f\"Accuracy Score: {accuracy_score(y_train, pred) * 100:.2f}%\")\n",
        "        print(\"_______________________________________________\")\n",
        "        print(f\"CLASSIFICATION REPORT:\\n{clf_report}\")\n",
        "        print(\"_______________________________________________\")\n",
        "        print(f\"Confusion Matrix: \\n {confusion_matrix(y_train, pred)}\\n\")\n",
        "        \n",
        "    elif train==False:\n",
        "        pred = clf.predict(X_test)\n",
        "        clf_report = pd.DataFrame(classification_report(y_test, pred, output_dict=True))\n",
        "        print(\"Test Result:\\n================================================\")        \n",
        "        print(f\"Accuracy Score: {accuracy_score(y_test, pred) * 100:.2f}%\")\n",
        "        print(\"_______________________________________________\")\n",
        "        print(f\"CLASSIFICATION REPORT:\\n{clf_report}\")\n",
        "        print(\"_______________________________________________\")\n",
        "        print(f\"Confusion Matrix: \\n {confusion_matrix(y_test, pred)}\\n\")"
      ]
    },
    {
      "cell_type": "code",
      "execution_count": null,
      "metadata": {
        "id": "KW7CP2Hwtsre"
      },
      "outputs": [],
      "source": [
        "def print_auc(clf, X_train, y_train, X_test, y_test, model_name) :\n",
        "    \n",
        "    clf = clf.fit(X_train, y_train)\n",
        "    y_pred_proba = clf.predict_proba(X_test)[::,1]\n",
        "    fpr, tpr, thr = roc_curve(y_test,  y_pred_proba)\n",
        "    roc_auc = roc_auc_score(y_test, y_pred_proba)\n",
        "    #plt.plot(fpr, tpr, label=model_name+\" auc=\"+str(roc_auc))\n",
        "    #plt.legend(loc=4)\n",
        "    #plt.title(\"ROC curve\")\n",
        "\n",
        "    #plt.show()\n",
        "    # Data to plot precision - recall curve\n",
        "    precision, recall, thresholds_log = precision_recall_curve(y_test, y_pred_proba)\n",
        "    # Use AUC function to calculate the area under the curve of precision recall curve\n",
        "    auc_precision_recall = auc(recall, precision)\n",
        "    \n",
        "    #plt.plot(recall, precision, label=model_name+\" auc_prc=\"+str(auc_precision_recall))\n",
        "    #plt.xlabel(\"Recall\")\n",
        "    #plt.ylabel(\"Precision\")\n",
        "    #plt.legend(loc=4)\n",
        "    #plt.title(\"Precision-Recall Curve\")\n",
        "\n",
        "    #plt.show()\n",
        "    #print_score(clf, X_train, y_train, X_test, y_test, train=True)\n",
        "    precision_sc=precision_score(y_test, clf.predict(X_test), average=None)\n",
        "    recall_sc = recall_score(y_test, clf.predict(X_test), average=None)\n",
        "    test_score = accuracy_score(y_test, clf.predict(X_test)) * 100\n",
        "    train_score = accuracy_score(y_train, clf.predict(X_train)) * 100\n",
        "    f1 = f1_score(y_test, clf.predict(X_test))\n",
        "    #print_score(clf, X_train, y_train, X_test, y_test, train=True)\n",
        "    #print_score(clf, X_train, y_train, X_test, y_test, train=False)\n",
        "    metriques = {\"fpr\" : fpr, \"recall_sc\" : recall_sc, \"precision_sc\" : precision_sc, \"tpr\" : tpr,\n",
        "                 \"test_score\" : test_score, \"train_score\" : train_score, \"f1\" : f1,\n",
        "                 \"auc_pr\" : auc_precision_recall, \"auc\": roc_auc}\n",
        "    return metriques"
      ]
    },
    {
      "cell_type": "markdown",
      "metadata": {
        "id": "nLtPCIKXtsrf"
      },
      "source": [
        "## **Load the data set**"
      ]
    },
    {
      "cell_type": "code",
      "execution_count": null,
      "metadata": {
        "id": "absK-NcdwMa9"
      },
      "outputs": [],
      "source": [
        "! wget https://raw.githubusercontent.com/mounsifelatouch/cdd/master/data/bioactivity_data_GraphOnlyFingerprinter.csv"
      ]
    },
    {
      "cell_type": "code",
      "execution_count": null,
      "metadata": {
        "id": "VqaS8i8ytsrh"
      },
      "outputs": [],
      "source": [
        "df = pd.read_csv('bioactivity_data_GraphOnlyFingerprinter.csv')\n",
        "df"
      ]
    },
    {
      "cell_type": "markdown",
      "metadata": {
        "id": "dYZ6-KJNtsrh"
      },
      "source": [
        "## **Input features**"
      ]
    },
    {
      "cell_type": "markdown",
      "metadata": {
        "id": "gQVFKOCetsri"
      },
      "source": [
        "### **Input features**"
      ]
    },
    {
      "cell_type": "code",
      "execution_count": null,
      "metadata": {
        "id": "rPa_Zev-tsri"
      },
      "outputs": [],
      "source": [
        "X = df.drop('Activity', axis=1)"
      ]
    },
    {
      "cell_type": "markdown",
      "metadata": {
        "id": "9fJkeKehtsri"
      },
      "source": [
        "### **Output features**"
      ]
    },
    {
      "cell_type": "code",
      "execution_count": null,
      "metadata": {
        "id": "JlkQHZzKtsri"
      },
      "outputs": [],
      "source": [
        "y = df['Activity']"
      ]
    },
    {
      "cell_type": "code",
      "execution_count": null,
      "metadata": {
        "id": "EHo7xgLmtsrj"
      },
      "outputs": [],
      "source": [
        "# count the number of instances in each class\n",
        "counts = y.value_counts()\n",
        "\n",
        "# calculate the ratio of the negative class to the positive class\n",
        "imbalance_ratio = counts[0] / counts[1]"
      ]
    },
    {
      "cell_type": "markdown",
      "metadata": {
        "id": "_fdRGAIltsrj"
      },
      "source": [
        "### **Let's examine the data dimension**"
      ]
    },
    {
      "cell_type": "code",
      "execution_count": null,
      "metadata": {
        "id": "GZFGmQwRtsrj"
      },
      "outputs": [],
      "source": [
        "X.shape, y.shape"
      ]
    },
    {
      "cell_type": "markdown",
      "metadata": {
        "id": "-svjbOfutsrk"
      },
      "source": [
        "## **Data split (80/20 ratio)**"
      ]
    },
    {
      "cell_type": "code",
      "execution_count": null,
      "metadata": {
        "id": "jF52tbMYw1z5"
      },
      "outputs": [],
      "source": [
        "idx_train, idx_test = train_test_split(np.arange(len(X)), stratify=y, test_size=.2)"
      ]
    },
    {
      "cell_type": "code",
      "execution_count": null,
      "metadata": {
        "id": "nMw13QDQtsrk"
      },
      "outputs": [],
      "source": [
        "X_train, y_train = X.loc[idx_train], y.loc[idx_train]\n",
        "X_test, y_test = X.loc[idx_test], y.loc[idx_test]"
      ]
    },
    {
      "cell_type": "code",
      "execution_count": null,
      "metadata": {
        "id": "vej1D8zrtsrk"
      },
      "outputs": [],
      "source": [
        "X_train.shape, y_train.shape"
      ]
    },
    {
      "cell_type": "markdown",
      "metadata": {
        "id": "N4rFAzWytsrl"
      },
      "source": [
        "## **Data balancing**"
      ]
    },
    {
      "cell_type": "markdown",
      "metadata": {
        "id": "NyZW_Nd_tsrl"
      },
      "source": [
        "### **Random Oversampling**"
      ]
    },
    {
      "cell_type": "code",
      "execution_count": null,
      "metadata": {
        "id": "RI8yGfqutsrl"
      },
      "outputs": [],
      "source": [
        "from imblearn.over_sampling import RandomOverSampler\n",
        "\n",
        "# create an oversampler object with a 1:1 ratio of positive to negative samples\n",
        "ros = RandomOverSampler(sampling_strategy='minority')\n",
        "\n",
        "# fit and apply the oversampler to the training data\n",
        "X_train_ros, y_train_ros = ros.fit_resample(X_train, y_train)"
      ]
    },
    {
      "cell_type": "markdown",
      "metadata": {
        "id": "gwO-v_JItsrl"
      },
      "source": [
        "### **SMOTE**"
      ]
    },
    {
      "cell_type": "code",
      "execution_count": null,
      "metadata": {
        "id": "9MVK0C2ptsrl"
      },
      "outputs": [],
      "source": [
        "from imblearn.over_sampling import SMOTE\n",
        "\n",
        "# Perform oversampling on the minority class in the training set\n",
        "sm = SMOTE(random_state=seed)\n",
        "\n",
        "# fit and apply the oversampler to the training data\n",
        "X_train_sm, y_train_sm = sm.fit_resample(X_train, y_train)"
      ]
    },
    {
      "cell_type": "markdown",
      "metadata": {
        "id": "4OQ3xLJ0tsrl"
      },
      "source": [
        "### **ADASYN**"
      ]
    },
    {
      "cell_type": "code",
      "execution_count": null,
      "metadata": {
        "id": "eLwXSD8Ptsrm"
      },
      "outputs": [],
      "source": [
        "from imblearn.over_sampling import ADASYN\n",
        "\n",
        "# Perform oversampling on the minority class in the training set\n",
        "adasyn = ADASYN(random_state=seed)\n",
        "\n",
        "# fit and apply the oversampler to the training data\n",
        "X_train_adasyn, y_train_adasyn = adasyn.fit_resample(X_train, y_train)"
      ]
    },
    {
      "cell_type": "markdown",
      "source": [
        "\n",
        "\n",
        "---\n",
        "\n"
      ],
      "metadata": {
        "id": "UF-kp8rLhvNB"
      }
    },
    {
      "cell_type": "code",
      "execution_count": null,
      "metadata": {
        "id": "h5K8LAAYtsrm"
      },
      "outputs": [],
      "source": [
        "X_train = X_train.reset_index(drop=True)\n",
        "y_train = y_train.reset_index(drop=True)\n",
        "X_test = X_test.reset_index(drop=True)\n",
        "y_test = y_test.reset_index(drop=True)"
      ]
    },
    {
      "cell_type": "code",
      "execution_count": null,
      "metadata": {
        "id": "MQvl_xl1AkzX"
      },
      "outputs": [],
      "source": [
        "n_samples, n_classes = 518, 2\n",
        "class_weights = dict(zip(np.unique(y_train), n_samples / (n_classes * np.bincount(y_train))))"
      ]
    },
    {
      "cell_type": "markdown",
      "metadata": {
        "id": "_LJzaixXHFXl"
      },
      "source": [
        "# **Stratified 5-Fold CV**"
      ]
    },
    {
      "cell_type": "code",
      "execution_count": null,
      "metadata": {
        "id": "6C6onOMSHKDA"
      },
      "outputs": [],
      "source": [
        "def gridsearch_cv(clf, X_train, y_train, param_grid):\n",
        "    \n",
        "    # Create a GridSearchCV object and fit the data\n",
        "    clf_random = GridSearchCV(clf, param_grid1, cv=5, verbose=2, scoring='f1', n_jobs=-1)\n",
        "    clf_random.fit(X_train, y_train)\n",
        "\n",
        "    # Print the best hyperparameters and the corresponding mean cross-validation score\n",
        "    print('--------------------------------------------------------------------')\n",
        "    print(\"Best hyperparameters:\", clf_random.best_params_)\n",
        "    print(\"Best score:\", clf_random.best_score_)\n",
        "\n",
        "    pred_proba = clf_random.predict_proba(X_test) \n",
        "\n",
        "    precision, recall, _ = precision_recall_curve(y_test, pred_proba[:, 1])\n",
        "    pr_auc = auc(recall, precision)\n",
        "\n",
        "    y_train_pred = clf_random.predict(X_train)\n",
        "    train_accuracy = np.mean(y_train_pred.ravel() == y_train.ravel())*100\n",
        "    y_test_pred = clf_random.predict(X_test)\n",
        "    test_accuracy = np.mean(y_test_pred.ravel() == y_test.ravel())*100\n",
        "\n",
        "    acc = accuracy_score(y_test, y_test_pred) \n",
        "    prec = precision_score(y_test, y_test_pred)\n",
        "    rec = recall_score(y_test, y_test_pred)   \n",
        "    f1 = f1_score(y_test, y_test_pred)  \n",
        "    roc_auc = roc_auc_score(y_test, y_test_pred)\n",
        "    print(f'Accuracy: {acc}, Precision: {prec}, Recall: {rec}, f1_score: {f1}, ROC AUC: {roc_auc}')"
      ]
    },
    {
      "cell_type": "markdown",
      "metadata": {
        "id": "a61e7KdJtsrm"
      },
      "source": [
        "## **ExtraTreesClassifier**"
      ]
    },
    {
      "cell_type": "code",
      "execution_count": null,
      "metadata": {
        "id": "FwLIZGHytsrm"
      },
      "outputs": [],
      "source": [
        "clf1 = ExtraTreesClassifier(random_state=seed, class_weight=class_weights)\n",
        "param_grid1 = {'n_estimators': [100, 500, 1000],\n",
        "        'max_depth': [10, 25, 40, 50],\n",
        "        'max_features': [int(sqrt(X.shape[1])), int(log2(X.shape[1]))]}\n",
        "\n",
        "gridsearch_cv(clf1, X_train, y_train, param_grid1)"
      ]
    },
    {
      "cell_type": "code",
      "execution_count": null,
      "metadata": {
        "id": "pAxiRswGtsro"
      },
      "outputs": [],
      "source": [
        "model1 = ExtraTreesClassifier(random_state=seed, max_depth=10, n_estimators=1000, class_weight=class_weights, max_features=10).fit(X_train, y_train)\n",
        "clf1 = print_auc(model1, X_train, y_train, X_test, y_test, 'ExtraTreesClassifier')\n",
        "df1 = pd.DataFrame(data=[['ExtraTreesClassifier', clf1['f1'], clf1['auc'], clf1['auc_pr'], clf1['recall_sc'][0], clf1['recall_sc'][1], clf1['precision_sc'][0], clf1['precision_sc'][1]]], \n",
        "                          columns=['model', 'f1_score', 'auc', 'auc_pr', 'recall_classe(0)', 'recall_classe(1)', 'precision_classe(0)', 'precision_classe(1)'])\n",
        "df1"
      ]
    },
    {
      "cell_type": "markdown",
      "metadata": {
        "id": "QQCRXaiWtsrp"
      },
      "source": [
        "## **XGBClassifier**"
      ]
    },
    {
      "cell_type": "code",
      "execution_count": null,
      "metadata": {
        "id": "jBR0m1_Otsrp"
      },
      "outputs": [],
      "source": [
        "clf2 = xgb.XGBClassifier(objective='binary:logistic', scale_pos_weight=imbalance_ratio)\n",
        "grid2 = {'learning_rate' : [0.001, 0.1, 1.0],\n",
        "        'max_depth' : [3, 7, 25, 100],\n",
        "        'gamma' : [0.1, 0.5, 1.0]}\n",
        "\n",
        "stratified_5_fold(clf2, grid2)"
      ]
    },
    {
      "cell_type": "code",
      "execution_count": null,
      "metadata": {
        "id": "tQ4tjaFxtsrp"
      },
      "outputs": [],
      "source": [
        "model2 = xgb.XGBClassifier(learning_rate=1.0, max_depth=25, gamma=0.1, subsample=0.8, colsample_bytree=0.8, \n",
        "                           objective='binary:logistic', scale_pos_weight=imbalance_ratio).fit(X1_train, y1_train)\n",
        "clf2 = print_auc(model2, X1_train, y1_train, X1_test, y1_test, 'XGBClassifier')\n",
        "df2 = pd.DataFrame(data=[['XGBClassifier', clf2['f1'], clf2['auc'], clf2['auc_pr'], clf2['recall_sc'][0], clf2['recall_sc'][1], clf2['precision_sc'][0], clf2['precision_sc'][1]]], \n",
        "                          columns=['model', 'f1_score', 'auc', 'auc_pr', 'recall_classe(0)', 'recall_classe(1)', 'precision_classe(0)', 'precision_classe(1)'])\n",
        "df2"
      ]
    },
    {
      "cell_type": "markdown",
      "metadata": {
        "id": "SyBnVEU4Jppr"
      },
      "source": [
        "## **AdaBoostClassifier**"
      ]
    },
    {
      "cell_type": "code",
      "execution_count": null,
      "metadata": {
        "id": "Zae2H2ZiJ6fg"
      },
      "outputs": [],
      "source": [
        "clf3 = AdaBoostClassifier(random_state=seed)\n",
        "grid3 = {'n_estimators' : [25, 50, 100]}\n",
        "\n",
        "stratified_5_fold(clf3, grid3)"
      ]
    },
    {
      "cell_type": "code",
      "execution_count": null,
      "metadata": {
        "id": "oNayI2qhNSu1"
      },
      "outputs": [],
      "source": [
        "model3 = AdaBoostClassifier(random_state=seed, n_estimators=100).fit(X1_train, y1_train)\n",
        "clf3 = print_auc(model3, X1_train, y1_train, X1_test, y1_test, 'AdaBoostClassifier')\n",
        "df3 = pd.DataFrame(data=[['AdaBoostClassifier', clf3['f1'], clf3['auc'], clf3['auc_pr'], clf3['recall_sc'][0], clf3['recall_sc'][1], clf3['precision_sc'][0], clf3['precision_sc'][1]]], \n",
        "                          columns=['model', 'f1_score', 'auc', 'auc_pr', 'recall_classe(0)', 'recall_classe(1)', 'precision_classe(0)', 'precision_classe(1)'])\n",
        "df3"
      ]
    },
    {
      "cell_type": "markdown",
      "metadata": {
        "id": "AFc-ALhpSAJ-"
      },
      "source": [
        "## **DecisionTreeClassifier**"
      ]
    },
    {
      "cell_type": "code",
      "execution_count": null,
      "metadata": {
        "id": "2UXnbmeSSKP7"
      },
      "outputs": [],
      "source": [
        "clf4 = DecisionTreeClassifier(random_state=seed)\n",
        "grid4 = {'min_samples_leaf' : [2, 5, 7],\n",
        "         'max_depth' : [10, 25, 50],\n",
        "         'criterion' : ['gini', 'entropy', 'log_loss']}\n",
        "\n",
        "stratified_5_fold(clf4, grid4)"
      ]
    },
    {
      "cell_type": "code",
      "execution_count": null,
      "metadata": {
        "id": "EBtWCZZ-Sgcp"
      },
      "outputs": [],
      "source": [
        "model4 = DecisionTreeClassifier(random_state=seed, min_samples_leaf=5, max_depth=25, criterion='gini').fit(X1_train, y1_train)\n",
        "clf4 = print_auc(model4, X1_train, y1_train, X1_test, y1_test, 'DecisionTreeClassifier')\n",
        "df4 = pd.DataFrame(data=[['DecisionTreeClassifier', clf4['f1'], clf4['auc'], clf4['auc_pr'], clf4['recall_sc'][0], clf4['recall_sc'][1], clf4['precision_sc'][0], clf4['precision_sc'][1]]], \n",
        "                          columns=['model', 'f1_score', 'auc', 'auc_pr', 'recall_classe(0)', 'recall_classe(1)', 'precision_classe(0)', 'precision_classe(1)'])\n",
        "df4"
      ]
    },
    {
      "cell_type": "markdown",
      "metadata": {
        "id": "KIIIZFOcVuhP"
      },
      "source": [
        "## **GaussianNB**"
      ]
    },
    {
      "cell_type": "code",
      "execution_count": null,
      "metadata": {
        "id": "NkL_8QXOX8fO"
      },
      "outputs": [],
      "source": [
        "clf5 = GaussianNB()\n",
        "\n",
        "grid5 = {'var_smoothing': [1, 3, 5]}\n",
        "\n",
        "stratified_5_fold(clf5, grid5)"
      ]
    },
    {
      "cell_type": "code",
      "execution_count": null,
      "metadata": {
        "id": "ikOAnpKTYINF"
      },
      "outputs": [],
      "source": [
        "model5 = GaussianNB(var_smoothing=5).fit(X1_train, y1_train)\n",
        "clf5 = print_auc(model5, X1_train, y1_train, X1_test, y1_test, 'GaussianNB')\n",
        "df5 = pd.DataFrame(data=[['GaussianNB', clf5['f1'], clf5['auc'], clf5['auc_pr'], clf5['recall_sc'][0], clf5['recall_sc'][1], clf5['precision_sc'][0], clf5['precision_sc'][1]]], \n",
        "                          columns=['model', 'f1_score', 'auc', 'auc_pr', 'recall_classe(0)', 'recall_classe(1)', 'precision_classe(0)', 'precision_classe(1)'])\n",
        "df5"
      ]
    },
    {
      "cell_type": "markdown",
      "metadata": {
        "id": "qj2YVJ9XZcIY"
      },
      "source": [
        "## **LGBMClassifier**"
      ]
    },
    {
      "cell_type": "code",
      "execution_count": null,
      "metadata": {
        "id": "oqzDidPvZbB9"
      },
      "outputs": [],
      "source": [
        "clf6 = lgb.LGBMClassifier(class_weight='balanced')\n",
        "grid6 = {'num_leaves' : [20, 40, 80, 100],\n",
        "         'reg_alpha' : [0.1, 0.5],\n",
        "         'min_data_in_leaf' : [10, 30, 50],\n",
        "         'scale_pos_weight' : [10],\n",
        "         'max_depth' : [7, 10]}\n",
        "         \n",
        "stratified_5_fold(clf6, grid6)"
      ]
    },
    {
      "cell_type": "code",
      "execution_count": null,
      "metadata": {
        "id": "ZcWlr9hTarFV"
      },
      "outputs": [],
      "source": [
        "model6 = lgb.LGBMClassifier(num_leaves=20, reg_alpha=0.1, min_data_in_leaf=10, scale_pos_weight=10, max_depth=7).fit(X1_train, y1_train)\n",
        "clf6 = print_auc(model6, X1_train, y1_train, X1_test, y1_test, 'LGBMClassifier')\n",
        "df6 = pd.DataFrame(data=[['LGBMClassifier', clf6['f1'], clf6['auc'], clf6['auc_pr'], clf6['recall_sc'][0], clf6['recall_sc'][1], clf6['precision_sc'][0], clf6['precision_sc'][1]]], \n",
        "                          columns=['model', 'f1_score', 'auc', 'auc_pr', 'recall_classe(0)', 'recall_classe(1)', 'precision_classe(0)', 'precision_classe(1)'])\n",
        "df6"
      ]
    },
    {
      "cell_type": "markdown",
      "metadata": {
        "id": "tAN365LxheXY"
      },
      "source": [
        "## **KNeighborsClassifier**"
      ]
    },
    {
      "cell_type": "code",
      "execution_count": null,
      "metadata": {
        "id": "_QTUZs-HhtEf"
      },
      "outputs": [],
      "source": [
        "clf7 = KNeighborsClassifier()\n",
        "grid7 = {'n_neighbors' : [3, 5, 7],\n",
        "         'weights': ['distance'],\n",
        "         'metric' : ['euclidean', 'manhattan'],\n",
        "         'algorithm' : ['brute']}\n",
        "\n",
        "stratified_5_fold(clf7, grid7)"
      ]
    },
    {
      "cell_type": "code",
      "execution_count": null,
      "metadata": {
        "id": "vC7wm2Luh2T8"
      },
      "outputs": [],
      "source": [
        "model7 = KNeighborsClassifier(n_neighbors=7, weights='distance', metric='euclidean', algorithm='brute').fit(X1_train, y1_train)\n",
        "clf7 = print_auc(model7, X1_train, y1_train, X1_test, y1_test, 'KNeiborsClassifier')\n",
        "df7 = pd.DataFrame(data=[['KNeiborsClassifier', clf7['f1'], clf7['auc'], clf7['auc_pr'], clf7['recall_sc'][0], clf7['recall_sc'][1], clf7['precision_sc'][0], clf7['precision_sc'][1]]], \n",
        "                          columns=['model', 'f1_score', 'auc', 'auc_pr', 'recall_classe(0)', 'recall_classe(1)', 'precision_classe(0)', 'precision_classe(1)'])\n",
        "df7"
      ]
    },
    {
      "cell_type": "markdown",
      "metadata": {
        "id": "QHWcEGBUrLFm"
      },
      "source": [
        "## **RandomForestClassifier**"
      ]
    },
    {
      "cell_type": "code",
      "execution_count": null,
      "metadata": {
        "id": "PFkOjSCzrTaT"
      },
      "outputs": [],
      "source": [
        "clf8 = RandomForestClassifier(random_state=seed)\n",
        "grid8 = {'n_estimators' : [500, 750, 1000],\n",
        "         'max_depth' : [10, 12, 20],\n",
        "         'bootstrap' : [True, False]}\n",
        "\n",
        "stratified_5_fold(clf8, grid8)"
      ]
    },
    {
      "cell_type": "code",
      "execution_count": null,
      "metadata": {
        "id": "3nYXAaI5rmze"
      },
      "outputs": [],
      "source": [
        "model8 = RandomForestClassifier(random_state=seed, n_estimators=500, max_depth=12, bootstrap=True).fit(X1_train, y1_train)\n",
        "clf8 = print_auc(model8, X1_train, y1_train, X1_test, y1_test, 'RandomForestClassifier')\n",
        "df8 = pd.DataFrame(data=[['RandomForestClassifier', clf8['f1'], clf8['auc'], clf8['auc_pr'], clf8['recall_sc'][0], clf8['recall_sc'][1], clf8['precision_sc'][0], clf8['precision_sc'][1]]], \n",
        "                          columns=['model', 'f1_score', 'auc', 'auc_pr', 'recall_classe(0)', 'recall_classe(1)', 'precision_classe(0)', 'precision_classe(1)'])\n",
        "df8"
      ]
    },
    {
      "cell_type": "markdown",
      "metadata": {
        "id": "naDCYmAFvWpV"
      },
      "source": [
        "## **SVC**"
      ]
    },
    {
      "cell_type": "code",
      "execution_count": null,
      "metadata": {
        "id": "xkoMquuFvrwg"
      },
      "outputs": [],
      "source": [
        "clf9 = SVC(probability=True, class_weight='balanced')\n",
        "grid9 = {'C' : [10, 100, 1000], \n",
        "         'gamma' : [10, 100, 500],\n",
        "         'kernel' : ['rbf', 'poly'],\n",
        "         'shrinking' : [False, True]}\n",
        "\n",
        "stratified_5_fold(clf9, grid9)"
      ]
    },
    {
      "cell_type": "code",
      "execution_count": null,
      "metadata": {
        "id": "sn_27ImVwBD1"
      },
      "outputs": [],
      "source": [
        "model9 = SVC(C=10, kernel='poly', gamma=20, class_weight='balanced', probability=True).fit(X1_train, y1_train)\n",
        "clf9 = print_auc(model9, X1_train, y1_train, X1_test, y1_test, 'SVM')\n",
        "df9 = pd.DataFrame(data=[['SVM', clf9['f1'], clf9['auc'], clf9['auc_pr'], clf9['recall_sc'][0], clf9['recall_sc'][1], clf9['precision_sc'][0], clf9['precision_sc'][1]]], \n",
        "                          columns=['model', 'f1_score', 'auc', 'auc_pr', 'recall_classe(0)', 'recall_classe(1)', 'precision_classe(0)', 'precision_classe(1)'])\n",
        "df9"
      ]
    },
    {
      "cell_type": "markdown",
      "metadata": {
        "id": "trgFN6rWy8Ws"
      },
      "source": [
        "## **MLPClassifier**"
      ]
    },
    {
      "cell_type": "code",
      "execution_count": null,
      "metadata": {
        "id": "jByhlu6xzBkq"
      },
      "outputs": [],
      "source": [
        "clf10 = MLPClassifier(random_state=seed)\n",
        "grid10 = {'hidden_layer_sizes' : [30, 50],\n",
        "          'alpha' : [0.0001, 0.05],\n",
        "          'solver' : ['adam'],\n",
        "          'learning_rate' : ['invscaling', 'adaptive'],\n",
        "          'activation' : ['logistic', 'tanh']}\n",
        "\n",
        "stratified_5_fold(clf10, grid10)"
      ]
    },
    {
      "cell_type": "code",
      "execution_count": null,
      "metadata": {
        "id": "vQZe0YsVzTA6"
      },
      "outputs": [],
      "source": [
        "model10 = MLPClassifier(random_state=seed, alpha=0.0001, solver='adam', hidden_layer_sizes=50, activation='logistic').fit(X1_train, y1_train)\n",
        "clf10 = print_auc(model10, X1_train, y1_train, X1_test, y1_test, 'MLPClassifier')\n",
        "df10 = pd.DataFrame(data=[['MLPClassifier', clf10['f1'], clf10['auc'], clf10['auc_pr'], clf10['recall_sc'][0], clf10['recall_sc'][1], clf10['precision_sc'][0], clf10['precision_sc'][1]]], \n",
        "                          columns=['model', 'f1_score', 'auc', 'auc_pr', 'recall_classe(0)', 'recall_classe(1)', 'precision_classe(0)', 'precision_classe(1)'])\n",
        "df10"
      ]
    },
    {
      "cell_type": "markdown",
      "metadata": {
        "id": "kmHpsfue3oxS"
      },
      "source": [
        "## **LogisticRegression**"
      ]
    },
    {
      "cell_type": "code",
      "execution_count": null,
      "metadata": {
        "id": "I-Ysl9qN3taq"
      },
      "outputs": [],
      "source": [
        "clf11 = LogisticRegression(class_weight='balanced')\n",
        "grid11 = {'penalty' : ['none', 'l1', 'l2', 'elasticnet'],\n",
        "          'C':[0.001, 0.009, 0.01, .09, 1, 5, 10, 25]}\n",
        "\n",
        "stratified_5_fold(clf11, grid11)"
      ]
    },
    {
      "cell_type": "code",
      "execution_count": null,
      "metadata": {
        "id": "J40wyedO35vd"
      },
      "outputs": [],
      "source": [
        "model11 = LogisticRegression(class_weight='balanced', C=0.001, penalty='l2').fit(X1_train, y1_train)\n",
        "clf11 = print_auc(model11, X1_train, y1_train, X1_test, y1_test, 'LogisticRegression')\n",
        "df11 = pd.DataFrame(data=[['LogisticRegression', clf11['f1'], clf11['auc'], clf11['auc_pr'], clf11['recall_sc'][0], clf11['recall_sc'][1], clf11['precision_sc'][0], clf11['precision_sc'][1]]], \n",
        "                          columns=['model', 'f1_score', 'auc', 'auc_pr', 'recall_classe(0)', 'recall_classe(1)', 'precision_classe(0)', 'precision_classe(1)'])\n",
        "df11"
      ]
    },
    {
      "cell_type": "code",
      "execution_count": null,
      "metadata": {
        "id": "idFcRaGqEizz"
      },
      "outputs": [],
      "source": [
        "df = [df1, df2, df3, df4, df5, df6, df7, df8, df9, df10, df11]\n",
        "df_finale = pd.concat(df).style.hide_index()\n",
        "df_finale"
      ]
    },
    {
      "cell_type": "code",
      "execution_count": null,
      "metadata": {
        "id": "hEIYI-NQMhy-"
      },
      "outputs": [],
      "source": [
        "plt.rcParams[\"figure.figsize\"] = [16, 9]\n",
        "plt.plot(clf6[\"fpr\"], clf6[\"tpr\"], label=\"LGBMClassifier, auc=\"+str(clf10[\"auc\"]))\n",
        "plt.plot(clf11[\"fpr\"], clf11[\"tpr\"], label=\"LR, auc=\"+str(clf1[\"auc\"]))\n",
        "plt.plot(clf9[\"fpr\"], clf9[\"tpr\"], label=\"SVM, auc=\"+str(clf2[\"auc\"]))\n",
        "plt.plot(clf5[\"fpr\"], clf5[\"tpr\"], label=\"GaussianNB, auc=\"+str(clf3[\"auc\"]))\n",
        "plt.plot(clf1[\"fpr\"], clf1[\"tpr\"], label=\"ExtraTrees, auc=\"+str(clf6[\"auc\"]))\n",
        "plt.plot(clf7[\"fpr\"], clf7[\"tpr\"], label=\"KNN, auc=\"+str(clf5[\"auc\"]))\n",
        "plt.plot(clf4[\"fpr\"], clf4[\"tpr\"], label=\"DT, auc=\"+str(clf8[\"auc\"]))\n",
        "plt.plot(clf10[\"fpr\"], clf10[\"tpr\"], label=\"MLP, auc=\"+str(clf9[\"auc\"]))\n",
        "plt.plot(clf8[\"fpr\"], clf8[\"tpr\"], label=\"RF, auc=\"+str(clf4[\"auc\"]))\n",
        "plt.plot(clf3[\"fpr\"], clf3[\"tpr\"], label=\"AdaBoost, auc=\"+str(clf7[\"auc\"]))\n",
        "plt.plot(clf2[\"fpr\"], clf2[\"tpr\"], label=\"XGB, auc=\"+str(clf11[\"auc\"]))\n",
        "\n",
        "plt.xlabel(\"tpr\")\n",
        "plt.ylabel(\"fpr\")\n",
        "plt.legend(loc=4)\n",
        "plt.show()"
      ]
    }
  ],
  "metadata": {
    "colab": {
      "provenance": [],
      "private_outputs": true,
      "gpuType": "T4",
      "include_colab_link": true
    },
    "kernelspec": {
      "display_name": "Python 3",
      "name": "python3"
    },
    "language_info": {
      "codemirror_mode": {
        "name": "ipython",
        "version": 3
      },
      "file_extension": ".py",
      "mimetype": "text/x-python",
      "name": "python",
      "nbconvert_exporter": "python",
      "pygments_lexer": "ipython3",
      "version": "3.10.6"
    },
    "accelerator": "GPU"
  },
  "nbformat": 4,
  "nbformat_minor": 0
}