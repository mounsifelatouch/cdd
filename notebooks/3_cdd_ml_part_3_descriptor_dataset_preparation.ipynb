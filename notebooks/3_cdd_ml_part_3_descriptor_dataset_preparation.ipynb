{
  "cells": [
    {
      "cell_type": "markdown",
      "metadata": {
        "id": "view-in-github",
        "colab_type": "text"
      },
      "source": [
        "<a href=\"https://colab.research.google.com/github/mounsifelatouch/cdd/blob/master/notebooks/3_cdd_ml_part_3_descriptor_dataset_preparation.ipynb\" target=\"_parent\"><img src=\"https://colab.research.google.com/assets/colab-badge.svg\" alt=\"Open In Colab\"/></a>"
      ]
    },
    {
      "cell_type": "markdown",
      "metadata": {
        "id": "l0Y7_lgN4jzM"
      },
      "source": [
        "# **Bioinformatics Project - Computational Drug Discovery [Part 3] Descriptor Calculation and Dataset Preparation**\n",
        "\n",
        "**MOUNSIF EL ATOUCH**\n",
        "\n",
        "In this Jupyter notebook, we will be building a machine learning model using the ChEMBL bioactivity data.\n",
        "\n",
        "In **Part 3**, we will be calculating molecular descriptors that are essentially quantitative description of the compounds in the dataset. Finally, we will be preparing this into a dataset for subsequent model building in Part 4.\n",
        "\n",
        "---"
      ]
    },
    {
      "cell_type": "markdown",
      "metadata": {
        "id": "o-4IOizard4P"
      },
      "source": [
        "## **Download PaDEL-Descriptor**"
      ]
    },
    {
      "cell_type": "code",
      "execution_count": 1,
      "metadata": {
        "colab": {
          "base_uri": "https://localhost:8080/"
        },
        "id": "H0mjQ2PcrSe5",
        "outputId": "6c1f0159-8395-4f7d-bc09-60132f761ef0"
      },
      "outputs": [
        {
          "output_type": "stream",
          "name": "stdout",
          "text": [
            "--2023-06-04 01:22:03--  https://raw.githubusercontent.com/mounsifelatouch/cdd/master/padel/padel.zip\n",
            "Resolving raw.githubusercontent.com (raw.githubusercontent.com)... 185.199.108.133, 185.199.109.133, 185.199.110.133, ...\n",
            "Connecting to raw.githubusercontent.com (raw.githubusercontent.com)|185.199.108.133|:443... connected.\n",
            "HTTP request sent, awaiting response... 200 OK\n",
            "Length: 25768637 (25M) [application/zip]\n",
            "Saving to: ‘padel.zip’\n",
            "\n",
            "\rpadel.zip             0%[                    ]       0  --.-KB/s               \rpadel.zip           100%[===================>]  24.57M   161MB/s    in 0.2s    \n",
            "\n",
            "2023-06-04 01:22:03 (161 MB/s) - ‘padel.zip’ saved [25768637/25768637]\n",
            "\n",
            "--2023-06-04 01:22:03--  https://raw.githubusercontent.com/mounsifelatouch/cdd/master/padel/padel.sh\n",
            "Resolving raw.githubusercontent.com (raw.githubusercontent.com)... 185.199.108.133, 185.199.109.133, 185.199.110.133, ...\n",
            "Connecting to raw.githubusercontent.com (raw.githubusercontent.com)|185.199.108.133|:443... connected.\n",
            "HTTP request sent, awaiting response... 200 OK\n",
            "Length: 231 [text/plain]\n",
            "Saving to: ‘padel.sh’\n",
            "\n",
            "padel.sh            100%[===================>]     231  --.-KB/s    in 0s      \n",
            "\n",
            "2023-06-04 01:22:03 (4.56 MB/s) - ‘padel.sh’ saved [231/231]\n",
            "\n"
          ]
        }
      ],
      "source": [
        "! wget https://raw.githubusercontent.com/mounsifelatouch/cdd/master/padel/padel.zip\n",
        "! wget https://raw.githubusercontent.com/mounsifelatouch/cdd/master/padel/padel.sh"
      ]
    },
    {
      "cell_type": "code",
      "source": [
        "! unzip padel.zip"
      ],
      "metadata": {
        "colab": {
          "base_uri": "https://localhost:8080/"
        },
        "id": "-5XPYubCNC2M",
        "outputId": "ea6ec443-deef-445b-919a-a0e33ea6acb7"
      },
      "execution_count": 2,
      "outputs": [
        {
          "output_type": "stream",
          "name": "stdout",
          "text": [
            "Archive:  padel.zip\n",
            "   creating: PaDEL-Descriptor/\n",
            "  inflating: __MACOSX/._PaDEL-Descriptor  \n",
            "  inflating: PaDEL-Descriptor/MACCSFingerprinter.xml  \n",
            "  inflating: __MACOSX/PaDEL-Descriptor/._MACCSFingerprinter.xml  \n",
            "  inflating: PaDEL-Descriptor/AtomPairs2DFingerprinter.xml  \n",
            "  inflating: __MACOSX/PaDEL-Descriptor/._AtomPairs2DFingerprinter.xml  \n",
            "  inflating: PaDEL-Descriptor/EStateFingerprinter.xml  \n",
            "  inflating: __MACOSX/PaDEL-Descriptor/._EStateFingerprinter.xml  \n",
            "  inflating: PaDEL-Descriptor/Fingerprinter.xml  \n",
            "  inflating: __MACOSX/PaDEL-Descriptor/._Fingerprinter.xml  \n",
            "  inflating: PaDEL-Descriptor/.DS_Store  \n",
            "  inflating: __MACOSX/PaDEL-Descriptor/._.DS_Store  \n",
            "   creating: PaDEL-Descriptor/license/\n",
            "  inflating: __MACOSX/PaDEL-Descriptor/._license  \n",
            "  inflating: PaDEL-Descriptor/KlekotaRothFingerprintCount.xml  \n",
            "  inflating: __MACOSX/PaDEL-Descriptor/._KlekotaRothFingerprintCount.xml  \n",
            "  inflating: PaDEL-Descriptor/config  \n",
            "  inflating: __MACOSX/PaDEL-Descriptor/._config  \n",
            "  inflating: PaDEL-Descriptor/PubchemFingerprinter.xml  \n",
            "  inflating: __MACOSX/PaDEL-Descriptor/._PubchemFingerprinter.xml  \n",
            "  inflating: PaDEL-Descriptor/ExtendedFingerprinter.xml  \n",
            "  inflating: __MACOSX/PaDEL-Descriptor/._ExtendedFingerprinter.xml  \n",
            "  inflating: PaDEL-Descriptor/KlekotaRothFingerprinter.xml  \n",
            "  inflating: __MACOSX/PaDEL-Descriptor/._KlekotaRothFingerprinter.xml  \n",
            "  inflating: PaDEL-Descriptor/GraphOnlyFingerprinter.xml  \n",
            "  inflating: __MACOSX/PaDEL-Descriptor/._GraphOnlyFingerprinter.xml  \n",
            "  inflating: PaDEL-Descriptor/SubstructureFingerprinter.xml  \n",
            "  inflating: __MACOSX/PaDEL-Descriptor/._SubstructureFingerprinter.xml  \n",
            "  inflating: PaDEL-Descriptor/Descriptors.xls  \n",
            "  inflating: __MACOSX/PaDEL-Descriptor/._Descriptors.xls  \n",
            "   creating: PaDEL-Descriptor/lib/\n",
            "  inflating: __MACOSX/PaDEL-Descriptor/._lib  \n",
            "  inflating: PaDEL-Descriptor/PaDEL-Descriptor.jar  \n",
            "  inflating: __MACOSX/PaDEL-Descriptor/._PaDEL-Descriptor.jar  \n",
            "  inflating: PaDEL-Descriptor/SubstructureFingerprintCount.xml  \n",
            "  inflating: __MACOSX/PaDEL-Descriptor/._SubstructureFingerprintCount.xml  \n",
            "  inflating: PaDEL-Descriptor/AtomPairs2DFingerprintCount.xml  \n",
            "  inflating: __MACOSX/PaDEL-Descriptor/._AtomPairs2DFingerprintCount.xml  \n",
            "  inflating: PaDEL-Descriptor/descriptors.xml  \n",
            "  inflating: __MACOSX/PaDEL-Descriptor/._descriptors.xml  \n",
            "  inflating: PaDEL-Descriptor/license/lgpl-2.1.txt  \n",
            "  inflating: __MACOSX/PaDEL-Descriptor/license/._lgpl-2.1.txt  \n",
            "  inflating: PaDEL-Descriptor/license/LICENSE.txt  \n",
            "  inflating: __MACOSX/PaDEL-Descriptor/license/._LICENSE.txt  \n",
            "  inflating: PaDEL-Descriptor/license/README - CDK  \n",
            "  inflating: __MACOSX/PaDEL-Descriptor/license/._README - CDK  \n",
            "  inflating: PaDEL-Descriptor/license/lgpl.license  \n",
            "  inflating: __MACOSX/PaDEL-Descriptor/license/._lgpl.license  \n",
            "  inflating: PaDEL-Descriptor/lib/ambit2-core-2.4.7-SNAPSHOT(3).jar  \n",
            "  inflating: __MACOSX/PaDEL-Descriptor/lib/._ambit2-core-2.4.7-SNAPSHOT(3).jar  \n",
            "  inflating: PaDEL-Descriptor/lib/libPaDEL-Jobs(6).jar  \n",
            "  inflating: __MACOSX/PaDEL-Descriptor/lib/._libPaDEL-Jobs(6).jar  \n",
            "  inflating: PaDEL-Descriptor/lib/libPaDEL.jar  \n",
            "  inflating: __MACOSX/PaDEL-Descriptor/lib/._libPaDEL.jar  \n",
            "  inflating: PaDEL-Descriptor/lib/jgrapht-0.6.0(4).jar  \n",
            "  inflating: __MACOSX/PaDEL-Descriptor/lib/._jgrapht-0.6.0(4).jar  \n",
            "  inflating: PaDEL-Descriptor/lib/commons-cli-1.2(2).jar  \n",
            "  inflating: __MACOSX/PaDEL-Descriptor/lib/._commons-cli-1.2(2).jar  \n",
            "  inflating: PaDEL-Descriptor/lib/xom-1.1(1).jar  \n",
            "  inflating: __MACOSX/PaDEL-Descriptor/lib/._xom-1.1(1).jar  \n",
            "  inflating: PaDEL-Descriptor/lib/swing-worker-1.1.jar  \n",
            "  inflating: __MACOSX/PaDEL-Descriptor/lib/._swing-worker-1.1.jar  \n",
            "  inflating: PaDEL-Descriptor/lib/commons-cli-1.2(3).jar  \n",
            "  inflating: __MACOSX/PaDEL-Descriptor/lib/._commons-cli-1.2(3).jar  \n",
            "  inflating: PaDEL-Descriptor/lib/jgrapht-0.6.0(5).jar  \n",
            "  inflating: __MACOSX/PaDEL-Descriptor/lib/._jgrapht-0.6.0(5).jar  \n",
            "  inflating: PaDEL-Descriptor/lib/jama(1).jar  \n",
            "  inflating: __MACOSX/PaDEL-Descriptor/lib/._jama(1).jar  \n",
            "  inflating: PaDEL-Descriptor/lib/appframework-1.0.3.jar  \n",
            "  inflating: __MACOSX/PaDEL-Descriptor/lib/._appframework-1.0.3.jar  \n",
            "  inflating: PaDEL-Descriptor/lib/libPaDEL-Jobs(7).jar  \n",
            "  inflating: __MACOSX/PaDEL-Descriptor/lib/._libPaDEL-Jobs(7).jar  \n",
            "  inflating: PaDEL-Descriptor/lib/vecmath1.2-1.14.jar  \n",
            "  inflating: __MACOSX/PaDEL-Descriptor/lib/._vecmath1.2-1.14.jar  \n",
            "  inflating: PaDEL-Descriptor/lib/ambit2-smarts-2.4.7-SNAPSHOT(6).jar  \n",
            "  inflating: __MACOSX/PaDEL-Descriptor/lib/._ambit2-smarts-2.4.7-SNAPSHOT(6).jar  \n",
            "  inflating: PaDEL-Descriptor/lib/ambit2-core-2.4.7-SNAPSHOT(2).jar  \n",
            "  inflating: __MACOSX/PaDEL-Descriptor/lib/._ambit2-core-2.4.7-SNAPSHOT(2).jar  \n",
            "  inflating: PaDEL-Descriptor/lib/jama(6).jar  \n",
            "  inflating: __MACOSX/PaDEL-Descriptor/lib/._jama(6).jar  \n",
            "  inflating: PaDEL-Descriptor/lib/jgrapht-0.6.0(2).jar  \n",
            "  inflating: __MACOSX/PaDEL-Descriptor/lib/._jgrapht-0.6.0(2).jar  \n",
            "  inflating: PaDEL-Descriptor/lib/libPaDEL-Descriptor(3).jar  \n",
            "  inflating: __MACOSX/PaDEL-Descriptor/lib/._libPaDEL-Descriptor(3).jar  \n",
            "  inflating: PaDEL-Descriptor/lib/commons-cli-1.2(4).jar  \n",
            "  inflating: __MACOSX/PaDEL-Descriptor/lib/._commons-cli-1.2(4).jar  \n",
            "  inflating: PaDEL-Descriptor/lib/ambit2-base-2.4.7-SNAPSHOT.jar  \n",
            "  inflating: __MACOSX/PaDEL-Descriptor/lib/._ambit2-base-2.4.7-SNAPSHOT.jar  \n",
            "  inflating: PaDEL-Descriptor/lib/ambit2-smarts-2.4.7-SNAPSHOT(1).jar  \n",
            "  inflating: __MACOSX/PaDEL-Descriptor/lib/._ambit2-smarts-2.4.7-SNAPSHOT(1).jar  \n",
            "  inflating: PaDEL-Descriptor/lib/commons-cli-1.2.jar  \n",
            "  inflating: __MACOSX/PaDEL-Descriptor/lib/._commons-cli-1.2.jar  \n",
            "  inflating: PaDEL-Descriptor/lib/commons-cli-1.2(8).jar  \n",
            "  inflating: __MACOSX/PaDEL-Descriptor/lib/._commons-cli-1.2(8).jar  \n",
            "  inflating: PaDEL-Descriptor/lib/jgrapht-0.6.0.jar  \n",
            "  inflating: __MACOSX/PaDEL-Descriptor/lib/._jgrapht-0.6.0.jar  \n",
            "  inflating: PaDEL-Descriptor/lib/libPaDEL-Jobs(1).jar  \n",
            "  inflating: __MACOSX/PaDEL-Descriptor/lib/._libPaDEL-Jobs(1).jar  \n",
            "  inflating: PaDEL-Descriptor/lib/libPaDEL-Jobs.jar  \n",
            "  inflating: __MACOSX/PaDEL-Descriptor/lib/._libPaDEL-Jobs.jar  \n",
            "  inflating: PaDEL-Descriptor/lib/ambit2-core-2.4.7-SNAPSHOT(4).jar  \n",
            "  inflating: __MACOSX/PaDEL-Descriptor/lib/._ambit2-core-2.4.7-SNAPSHOT(4).jar  \n",
            "  inflating: PaDEL-Descriptor/lib/xom-1.1.jar  \n",
            "  inflating: __MACOSX/PaDEL-Descriptor/lib/._xom-1.1.jar  \n",
            "  inflating: PaDEL-Descriptor/lib/commons-cli-1.2(5).jar  \n",
            "  inflating: __MACOSX/PaDEL-Descriptor/lib/._commons-cli-1.2(5).jar  \n",
            "  inflating: PaDEL-Descriptor/lib/libPaDEL-Descriptor(2).jar  \n",
            "  inflating: __MACOSX/PaDEL-Descriptor/lib/._libPaDEL-Descriptor(2).jar  \n",
            "  inflating: PaDEL-Descriptor/lib/jgrapht-0.6.0(3).jar  \n",
            "  inflating: __MACOSX/PaDEL-Descriptor/lib/._jgrapht-0.6.0(3).jar  \n",
            "  inflating: PaDEL-Descriptor/lib/jama(7).jar  \n",
            "  inflating: __MACOSX/PaDEL-Descriptor/lib/._jama(7).jar  \n",
            "  inflating: PaDEL-Descriptor/lib/ambit2-core-2.4.7-SNAPSHOT.jar  \n",
            "  inflating: __MACOSX/PaDEL-Descriptor/lib/._ambit2-core-2.4.7-SNAPSHOT.jar  \n",
            "  inflating: PaDEL-Descriptor/lib/commons-cli-1.2(6).jar  \n",
            "  inflating: __MACOSX/PaDEL-Descriptor/lib/._commons-cli-1.2(6).jar  \n",
            "  inflating: PaDEL-Descriptor/lib/libPaDEL-Descriptor(1).jar  \n",
            "  inflating: __MACOSX/PaDEL-Descriptor/lib/._libPaDEL-Descriptor(1).jar  \n",
            "  inflating: PaDEL-Descriptor/lib/jama(4).jar  \n",
            "  inflating: __MACOSX/PaDEL-Descriptor/lib/._jama(4).jar  \n",
            "  inflating: PaDEL-Descriptor/lib/libPaDEL-Jobs(2).jar  \n",
            "  inflating: __MACOSX/PaDEL-Descriptor/lib/._libPaDEL-Jobs(2).jar  \n",
            "  inflating: PaDEL-Descriptor/lib/ambit2-smarts-2.4.7-SNAPSHOT(3).jar  \n",
            "  inflating: __MACOSX/PaDEL-Descriptor/lib/._ambit2-smarts-2.4.7-SNAPSHOT(3).jar  \n",
            "  inflating: PaDEL-Descriptor/lib/ambit2-smarts-2.4.7-SNAPSHOT(2).jar  \n",
            "  inflating: __MACOSX/PaDEL-Descriptor/lib/._ambit2-smarts-2.4.7-SNAPSHOT(2).jar  \n",
            "  inflating: PaDEL-Descriptor/lib/ambit2-smarts-2.4.7-SNAPSHOT.jar  \n",
            "  inflating: __MACOSX/PaDEL-Descriptor/lib/._ambit2-smarts-2.4.7-SNAPSHOT.jar  \n",
            "  inflating: PaDEL-Descriptor/lib/libPaDEL-Jobs(3).jar  \n",
            "  inflating: __MACOSX/PaDEL-Descriptor/lib/._libPaDEL-Jobs(3).jar  \n",
            "  inflating: PaDEL-Descriptor/lib/l2fprod-common-all(1).jar  \n",
            "  inflating: __MACOSX/PaDEL-Descriptor/lib/._l2fprod-common-all(1).jar  \n",
            "  inflating: PaDEL-Descriptor/lib/jama.jar  \n",
            "  inflating: __MACOSX/PaDEL-Descriptor/lib/._jama.jar  \n",
            "  inflating: PaDEL-Descriptor/lib/l2fprod-common-all.jar  \n",
            "  inflating: __MACOSX/PaDEL-Descriptor/lib/._l2fprod-common-all.jar  \n",
            "  inflating: PaDEL-Descriptor/lib/jama(5).jar  \n",
            "  inflating: __MACOSX/PaDEL-Descriptor/lib/._jama(5).jar  \n",
            "  inflating: PaDEL-Descriptor/lib/jgrapht-0.6.0(1).jar  \n",
            "  inflating: __MACOSX/PaDEL-Descriptor/lib/._jgrapht-0.6.0(1).jar  \n",
            "  inflating: PaDEL-Descriptor/lib/commons-cli-1.2(7).jar  \n",
            "  inflating: __MACOSX/PaDEL-Descriptor/lib/._commons-cli-1.2(7).jar  \n",
            "  inflating: PaDEL-Descriptor/lib/libPaDEL-Descriptor.jar  \n",
            "  inflating: __MACOSX/PaDEL-Descriptor/lib/._libPaDEL-Descriptor.jar  \n",
            "  inflating: PaDEL-Descriptor/lib/libPaDEL-Jobs(4).jar  \n",
            "  inflating: __MACOSX/PaDEL-Descriptor/lib/._libPaDEL-Jobs(4).jar  \n",
            "  inflating: PaDEL-Descriptor/lib/cdk-1.4.15.jar  \n",
            "  inflating: __MACOSX/PaDEL-Descriptor/lib/._cdk-1.4.15.jar  \n",
            "  inflating: PaDEL-Descriptor/lib/ambit2-smarts-2.4.7-SNAPSHOT(5).jar  \n",
            "  inflating: __MACOSX/PaDEL-Descriptor/lib/._ambit2-smarts-2.4.7-SNAPSHOT(5).jar  \n",
            "  inflating: PaDEL-Descriptor/lib/ambit2-core-2.4.7-SNAPSHOT(1).jar  \n",
            "  inflating: __MACOSX/PaDEL-Descriptor/lib/._ambit2-core-2.4.7-SNAPSHOT(1).jar  \n",
            "  inflating: PaDEL-Descriptor/lib/libPaDEL-Jobs(8).jar  \n",
            "  inflating: __MACOSX/PaDEL-Descriptor/lib/._libPaDEL-Jobs(8).jar  \n",
            "  inflating: PaDEL-Descriptor/lib/jgrapht-0.6.0(6).jar  \n",
            "  inflating: __MACOSX/PaDEL-Descriptor/lib/._jgrapht-0.6.0(6).jar  \n",
            "  inflating: PaDEL-Descriptor/lib/jama(2).jar  \n",
            "  inflating: __MACOSX/PaDEL-Descriptor/lib/._jama(2).jar  \n",
            "  inflating: PaDEL-Descriptor/lib/jama(3).jar  \n",
            "  inflating: __MACOSX/PaDEL-Descriptor/lib/._jama(3).jar  \n",
            "  inflating: PaDEL-Descriptor/lib/commons-cli-1.2(1).jar  \n",
            "  inflating: __MACOSX/PaDEL-Descriptor/lib/._commons-cli-1.2(1).jar  \n",
            "  inflating: PaDEL-Descriptor/lib/guava-17.0.jar  \n",
            "  inflating: __MACOSX/PaDEL-Descriptor/lib/._guava-17.0.jar  \n",
            "  inflating: PaDEL-Descriptor/lib/ambit2-smarts-2.4.7-SNAPSHOT(4).jar  \n",
            "  inflating: __MACOSX/PaDEL-Descriptor/lib/._ambit2-smarts-2.4.7-SNAPSHOT(4).jar  \n",
            "  inflating: PaDEL-Descriptor/lib/libPaDEL-Jobs(5).jar  \n",
            "  inflating: __MACOSX/PaDEL-Descriptor/lib/._libPaDEL-Jobs(5).jar  \n"
          ]
        }
      ]
    },
    {
      "cell_type": "markdown",
      "source": [
        "## **Installing librairies**"
      ],
      "metadata": {
        "id": "MdVNp4nJI0Q1"
      }
    },
    {
      "cell_type": "code",
      "source": [
        "! pip install rdkit"
      ],
      "metadata": {
        "colab": {
          "base_uri": "https://localhost:8080/"
        },
        "id": "pQ_mKBrnI5gb",
        "outputId": "1e3cbd78-1347-4fd9-ef39-f31c20a32e2b"
      },
      "execution_count": 3,
      "outputs": [
        {
          "output_type": "stream",
          "name": "stdout",
          "text": [
            "Looking in indexes: https://pypi.org/simple, https://us-python.pkg.dev/colab-wheels/public/simple/\n",
            "Collecting rdkit\n",
            "  Downloading rdkit-2023.3.1-cp310-cp310-manylinux_2_17_x86_64.manylinux2014_x86_64.whl (29.7 MB)\n",
            "\u001b[2K     \u001b[90m━━━━━━━━━━━━━━━━━━━━━━━━━━━━━━━━━━━━━━━━\u001b[0m \u001b[32m29.7/29.7 MB\u001b[0m \u001b[31m23.6 MB/s\u001b[0m eta \u001b[36m0:00:00\u001b[0m\n",
            "\u001b[?25hRequirement already satisfied: numpy in /usr/local/lib/python3.10/dist-packages (from rdkit) (1.22.4)\n",
            "Requirement already satisfied: Pillow in /usr/local/lib/python3.10/dist-packages (from rdkit) (8.4.0)\n",
            "Installing collected packages: rdkit\n",
            "Successfully installed rdkit-2023.3.1\n"
          ]
        }
      ]
    },
    {
      "cell_type": "markdown",
      "source": [
        "## **Importing libraires**"
      ],
      "metadata": {
        "id": "EcGvyQGgIi6T"
      }
    },
    {
      "cell_type": "code",
      "source": [
        "import pandas as pd\n",
        "import warnings\n",
        "warnings.filterwarnings('ignore')"
      ],
      "metadata": {
        "id": "JPsWPSrWIpXi"
      },
      "execution_count": 4,
      "outputs": []
    },
    {
      "cell_type": "markdown",
      "metadata": {
        "id": "QmxXXFa4wTNG"
      },
      "source": [
        "## **Load bioactivity data**"
      ]
    },
    {
      "cell_type": "markdown",
      "metadata": {
        "id": "fcBvxkPWKFRV"
      },
      "source": [
        "Download the curated ChEMBL bioactivity data that has been pre-processed from Parts 1 and 2 of this Bioinformatics Project series. Here we will be using the **bioactivity_data_2class.csv** file that essentially contain the pIC50 values that we will be using for building a classification model."
      ]
    },
    {
      "cell_type": "code",
      "source": [
        "! wget https://raw.githubusercontent.com/mounsifelatouch/cdd/master/data/bioactivity_data_2class.csv"
      ],
      "metadata": {
        "colab": {
          "base_uri": "https://localhost:8080/"
        },
        "id": "inD63_Ctbxu4",
        "outputId": "69ff2884-d9b7-4bfa-8961-0085f43f92c5"
      },
      "execution_count": 5,
      "outputs": [
        {
          "output_type": "stream",
          "name": "stdout",
          "text": [
            "--2023-06-04 01:22:16--  https://raw.githubusercontent.com/mounsifelatouch/cdd/master/data/bioactivity_data_2class.csv\n",
            "Resolving raw.githubusercontent.com (raw.githubusercontent.com)... 185.199.108.133, 185.199.109.133, 185.199.110.133, ...\n",
            "Connecting to raw.githubusercontent.com (raw.githubusercontent.com)|185.199.108.133|:443... connected.\n",
            "HTTP request sent, awaiting response... 200 OK\n",
            "Length: 42418 (41K) [text/plain]\n",
            "Saving to: ‘bioactivity_data_2class.csv’\n",
            "\n",
            "bioactivity_data_2c 100%[===================>]  41.42K  --.-KB/s    in 0.01s   \n",
            "\n",
            "2023-06-04 01:22:17 (4.02 MB/s) - ‘bioactivity_data_2class.csv’ saved [42418/42418]\n",
            "\n"
          ]
        }
      ]
    },
    {
      "cell_type": "code",
      "execution_count": 6,
      "metadata": {
        "id": "GCcE8J5XwjtB"
      },
      "outputs": [],
      "source": [
        "df = pd.read_csv('bioactivity_data_2class.csv')"
      ]
    },
    {
      "cell_type": "code",
      "source": [
        "selection = ['canonical_smiles','chembl_id']\n",
        "df_selection = df[selection]\n",
        "df_selection.to_csv('molecule.smi', sep='\\t', index=False, header=False)"
      ],
      "metadata": {
        "id": "vFFu8I-RMXxm"
      },
      "execution_count": 7,
      "outputs": []
    },
    {
      "cell_type": "code",
      "source": [
        "! cat molecule.smi | head -5"
      ],
      "metadata": {
        "colab": {
          "base_uri": "https://localhost:8080/"
        },
        "id": "1B7zfgxeMfEN",
        "outputId": "a5f380f7-6ea9-443c-c752-7f504fbf74e2"
      },
      "execution_count": 8,
      "outputs": [
        {
          "output_type": "stream",
          "name": "stdout",
          "text": [
            "O=c1oc2ccccc2c(O)c1Cc1c(O)c2ccccc2oc1=O\tCHEMBL1466\n",
            "O=c1oc2ccccc2c(O)c1C(c1ccc[nH]1)c1c(O)c2ccccc2oc1=O\tCHEMBL260998\n",
            "CCOc1cc(C(c2c(O)c3ccccc3oc2=O)c2c(O)c3ccccc3oc2=O)ccc1O\tCHEMBL260997\n",
            "O=c1oc2ccccc2c(O)c1C(c1c(O)c2ccccc2oc1=O)c1c[nH]c2ccccc12\tCHEMBL258733\n",
            "O=c1c(C(c2ccc([N+](=O)[O-])cc2)c2c(O)oc3ccccc3c2=O)c(O)oc2ccccc12\tCHEMBL81935\n"
          ]
        }
      ]
    },
    {
      "cell_type": "markdown",
      "metadata": {
        "id": "YzN_S4Quro5S"
      },
      "source": [
        "## **Calculate fingerprint descriptors**\n"
      ]
    },
    {
      "cell_type": "markdown",
      "metadata": {
        "id": "JsgTV-ByxdMa"
      },
      "source": [
        "### **Calculate PaDEL descriptors**"
      ]
    },
    {
      "cell_type": "code",
      "source": [
        "! cat padel.sh"
      ],
      "metadata": {
        "colab": {
          "base_uri": "https://localhost:8080/"
        },
        "id": "NFNFCcxQKVWa",
        "outputId": "c5a66f01-e59b-42e4-ef8c-b1f702fe9285"
      },
      "execution_count": 9,
      "outputs": [
        {
          "output_type": "stream",
          "name": "stdout",
          "text": [
            "java -Xms1G -Xmx1G -Djava.awt.headless=true -jar ./PaDEL-Descriptor/PaDEL-Descriptor.jar -removesalt -standardizenitro -fingerprints -descriptortypes ./PaDEL-Descriptor/PubchemFingerprinter.xml -dir ./ -file descriptors_output.csv\n"
          ]
        }
      ]
    },
    {
      "cell_type": "code",
      "source": [
        "%%time\n",
        "! bash padel.sh;"
      ],
      "metadata": {
        "colab": {
          "base_uri": "https://localhost:8080/"
        },
        "id": "upzslb8JMqho",
        "outputId": "d7558d3f-c60d-489a-a66f-87295c64c954"
      },
      "execution_count": 10,
      "outputs": [
        {
          "output_type": "stream",
          "name": "stdout",
          "text": [
            "Processing CHEMBL1466 in molecule.smi (1/508). \n",
            "Processing CHEMBL260998 in molecule.smi (2/508). \n",
            "Processing CHEMBL260997 in molecule.smi (3/508). Average speed: 5.25 s/mol.\n",
            "Processing CHEMBL258733 in molecule.smi (4/508). Average speed: 3.45 s/mol.\n",
            "Processing CHEMBL81935 in molecule.smi (5/508). Average speed: 3.71 s/mol.\n",
            "Processing CHEMBL409739 in molecule.smi (6/508). Average speed: 3.06 s/mol.\n",
            "Processing CHEMBL430228 in molecule.smi (7/508). Average speed: 3.10 s/mol.\n",
            "Processing CHEMBL409439 in molecule.smi (8/508). Average speed: 2.69 s/mol.\n",
            "Processing CHEMBL259477 in molecule.smi (9/508). Average speed: 2.48 s/mol.\n",
            "Processing CHEMBL259153 in molecule.smi (10/508). Average speed: 2.18 s/mol.\n",
            "Processing CHEMBL259154 in molecule.smi (11/508). Average speed: 2.05 s/mol.\n",
            "Processing CHEMBL409740 in molecule.smi (12/508). Average speed: 1.85 s/mol.\n",
            "Processing CHEMBL261558 in molecule.smi (13/508). Average speed: 1.94 s/mol.\n",
            "Processing CHEMBL261789 in molecule.smi (14/508). Average speed: 1.62 s/mol.\n",
            "Processing CHEMBL1904453 in molecule.smi (15/508). Average speed: 1.55 s/mol.\n",
            "Processing CHEMBL410266 in molecule.smi (16/508). Average speed: 1.61 s/mol.\n",
            "Processing CHEMBL412094 in molecule.smi (17/508). Average speed: 1.45 s/mol.\n",
            "Processing CHEMBL258768 in molecule.smi (18/508). Average speed: 1.37 s/mol.\n",
            "Processing CHEMBL238294 in molecule.smi (19/508). Average speed: 1.34 s/mol.\n",
            "Processing CHEMBL265181 in molecule.smi (21/508). Average speed: 1.25 s/mol.\n",
            "Processing CHEMBL264936 in molecule.smi (20/508). Average speed: 1.27 s/mol.\n",
            "Processing CHEMBL407834 in molecule.smi (23/508). Average speed: 1.18 s/mol.\n",
            "Processing CHEMBL409884 in molecule.smi (22/508). Average speed: 1.21 s/mol.\n",
            "Processing CHEMBL259975 in molecule.smi (24/508). Average speed: 1.16 s/mol.\n",
            "Processing CHEMBL262114 in molecule.smi (25/508). Average speed: 1.11 s/mol.\n",
            "Processing CHEMBL260178 in molecule.smi (26/508). Average speed: 1.10 s/mol.\n",
            "Processing CHEMBL130567 in molecule.smi (27/508). Average speed: 1.06 s/mol.\n",
            "Processing CHEMBL312008 in molecule.smi (29/508). Average speed: 1.09 s/mol.\n",
            "Processing CHEMBL411046 in molecule.smi (28/508). Average speed: 1.08 s/mol.\n",
            "Processing CHEMBL734 in molecule.smi (31/508). Average speed: 1.03 s/mol.\n",
            "Processing CHEMBL402459 in molecule.smi (30/508). Average speed: 1.06 s/mol.\n",
            "Processing CHEMBL490506 in molecule.smi (32/508). Average speed: 1.00 s/mol.\n",
            "Processing CHEMBL1277360 in molecule.smi (33/508). Average speed: 0.99 s/mol.\n",
            "Processing CHEMBL1275864 in molecule.smi (34/508). Average speed: 0.97 s/mol.\n",
            "Processing CHEMBL1277450 in molecule.smi (35/508). Average speed: 0.95 s/mol.\n",
            "Processing CHEMBL1277546 in molecule.smi (37/508). Average speed: 0.91 s/mol.\n",
            "Processing CHEMBL1277452 in molecule.smi (36/508). Average speed: 0.93 s/mol.\n",
            "Processing CHEMBL1277548 in molecule.smi (38/508). Average speed: 0.91 s/mol.\n",
            "Processing CHEMBL1277639 in molecule.smi (40/508). Average speed: 0.85 s/mol.\n",
            "Processing CHEMBL1277638 in molecule.smi (39/508). Average speed: 0.87 s/mol.\n",
            "Processing CHEMBL1277640 in molecule.smi (42/508). Average speed: 0.84 s/mol.\n",
            "Processing CHEMBL1275865 in molecule.smi (41/508). Average speed: 0.83 s/mol.\n",
            "Processing CHEMBL239452 in molecule.smi (43/508). Average speed: 0.80 s/mol.\n",
            "Processing CHEMBL1269725 in molecule.smi (44/508). Average speed: 0.78 s/mol.\n",
            "Processing CHEMBL391982 in molecule.smi (45/508). Average speed: 0.77 s/mol.\n",
            "Processing CHEMBL91844 in molecule.smi (46/508). Average speed: 0.75 s/mol.\n",
            "Processing CHEMBL1910220 in molecule.smi (47/508). Average speed: 0.74 s/mol.\n",
            "Processing CHEMBL193804 in molecule.smi (49/508). Average speed: 0.71 s/mol.\n",
            "Processing CHEMBL193474 in molecule.smi (48/508). Average speed: 0.72 s/mol.\n",
            "Processing CHEMBL398206 in molecule.smi (51/508). Average speed: 0.68 s/mol.\n",
            "Processing CHEMBL241894 in molecule.smi (50/508). Average speed: 0.70 s/mol.\n",
            "Processing CHEMBL499789 in molecule.smi (52/508). Average speed: 0.69 s/mol.\n",
            "Processing CHEMBL241902 in molecule.smi (53/508). Average speed: 0.66 s/mol.\n",
            "Processing CHEMBL1910221 in molecule.smi (55/508). Average speed: 0.64 s/mol.\n",
            "Processing CHEMBL1276230 in molecule.smi (54/508). Average speed: 0.65 s/mol.\n",
            "Processing CHEMBL1910222 in molecule.smi (56/508). Average speed: 0.63 s/mol.\n",
            "Processing CHEMBL242113 in molecule.smi (57/508). Average speed: 0.62 s/mol.\n",
            "Processing CHEMBL1910223 in molecule.smi (58/508). Average speed: 0.61 s/mol.\n",
            "Processing CHEMBL1910224 in molecule.smi (59/508). Average speed: 0.60 s/mol.\n",
            "Processing CHEMBL1910225 in molecule.smi (60/508). Average speed: 0.59 s/mol.\n",
            "Processing CHEMBL260876 in molecule.smi (61/508). Average speed: 0.59 s/mol.\n",
            "Processing CHEMBL1968195 in molecule.smi (62/508). Average speed: 0.57 s/mol.\n",
            "Processing CHEMBL2235389 in molecule.smi (63/508). Average speed: 0.56 s/mol.\n",
            "Processing CHEMBL2285978 in molecule.smi (65/508). Average speed: 0.55 s/mol.\n",
            "Processing CHEMBL1828958 in molecule.smi (64/508). Average speed: 0.55 s/mol.\n",
            "Processing CHEMBL2285979 in molecule.smi (66/508). Average speed: 0.54 s/mol.\n",
            "Processing CHEMBL2285980 in molecule.smi (67/508). Average speed: 0.54 s/mol.\n",
            "Processing CHEMBL2285981 in molecule.smi (68/508). Average speed: 0.53 s/mol.\n",
            "Processing CHEMBL2285982 in molecule.smi (69/508). Average speed: 0.53 s/mol.\n",
            "Processing CHEMBL2285984 in molecule.smi (70/508). Average speed: 0.52 s/mol.\n",
            "Processing CHEMBL2285985 in molecule.smi (71/508). Average speed: 0.52 s/mol.\n",
            "Processing CHEMBL1915702 in molecule.smi (72/508). Average speed: 0.51 s/mol.\n",
            "Processing CHEMBL2285987 in molecule.smi (73/508). Average speed: 0.51 s/mol.\n",
            "Processing CHEMBL2285989 in molecule.smi (74/508). Average speed: 0.50 s/mol.\n",
            "Processing CHEMBL2285990 in molecule.smi (76/508). Average speed: 0.49 s/mol.\n",
            "Processing CHEMBL2285991 in molecule.smi (75/508). Average speed: 0.50 s/mol.\n",
            "Processing CHEMBL2285994 in molecule.smi (78/508). Average speed: 0.48 s/mol.\n",
            "Processing CHEMBL2285993 in molecule.smi (77/508). Average speed: 0.49 s/mol.\n",
            "Processing CHEMBL2285995 in molecule.smi (79/508). Average speed: 0.48 s/mol.\n",
            "Processing CHEMBL375922 in molecule.smi (80/508). Average speed: 0.48 s/mol.\n",
            "Processing CHEMBL2417806 in molecule.smi (81/508). Average speed: 0.47 s/mol.\n",
            "Processing CHEMBL2436676 in molecule.smi (82/508). Average speed: 0.48 s/mol.\n",
            "Processing CHEMBL3087542 in molecule.smi (83/508). Average speed: 0.47 s/mol.\n",
            "Processing CHEMBL1555726 in molecule.smi (84/508). Average speed: 0.46 s/mol.\n",
            "Processing CHEMBL1478462 in molecule.smi (85/508). Average speed: 0.46 s/mol.\n",
            "Processing CHEMBL3087557 in molecule.smi (87/508). Average speed: 0.45 s/mol.\n",
            "Processing CHEMBL3087538 in molecule.smi (86/508). Average speed: 0.46 s/mol.\n",
            "Processing CHEMBL3087556 in molecule.smi (88/508). Average speed: 0.45 s/mol.\n",
            "Processing CHEMBL3087555 in molecule.smi (89/508). Average speed: 0.45 s/mol.\n",
            "Processing CHEMBL3087554 in molecule.smi (90/508). Average speed: 0.44 s/mol.\n",
            "Processing CHEMBL3087551 in molecule.smi (91/508). Average speed: 0.44 s/mol.\n",
            "Processing CHEMBL3087549 in molecule.smi (93/508). Average speed: 0.43 s/mol.\n",
            "Processing CHEMBL3087550 in molecule.smi (92/508). Average speed: 0.44 s/mol.\n",
            "Processing CHEMBL3087545 in molecule.smi (95/508). Average speed: 0.43 s/mol.\n",
            "Processing CHEMBL3087546 in molecule.smi (94/508). Average speed: 0.43 s/mol.\n",
            "Processing CHEMBL3087544 in molecule.smi (97/508). Average speed: 0.42 s/mol.\n",
            "Processing CHEMBL1450561 in molecule.smi (96/508). Average speed: 0.42 s/mol.\n",
            "Processing CHEMBL3087543 in molecule.smi (98/508). Average speed: 0.42 s/mol.\n",
            "Processing CHEMBL1834362 in molecule.smi (99/508). Average speed: 0.42 s/mol.\n",
            "Processing CHEMBL1872118 in molecule.smi (100/508). Average speed: 0.41 s/mol.\n",
            "Processing CHEMBL2391569 in molecule.smi (101/508). Average speed: 0.41 s/mol.\n",
            "Processing CHEMBL3120556 in molecule.smi (102/508). Average speed: 0.41 s/mol.\n",
            "Processing CHEMBL1558086 in molecule.smi (103/508). Average speed: 0.41 s/mol.\n",
            "Processing CHEMBL3120555 in molecule.smi (104/508). Average speed: 0.41 s/mol.\n",
            "Processing CHEMBL3120554 in molecule.smi (105/508). Average speed: 0.40 s/mol.\n",
            "Processing CHEMBL3120553 in molecule.smi (106/508). Average speed: 0.40 s/mol.\n",
            "Processing CHEMBL1971338 in molecule.smi (107/508). Average speed: 0.40 s/mol.\n",
            "Processing CHEMBL1334348 in molecule.smi (108/508). Average speed: 0.40 s/mol.\n",
            "Processing CHEMBL3120551 in molecule.smi (109/508). Average speed: 0.39 s/mol.\n",
            "Processing CHEMBL1576403 in molecule.smi (110/508). Average speed: 0.39 s/mol.\n",
            "Processing CHEMBL1304942 in molecule.smi (111/508). Average speed: 0.39 s/mol.\n",
            "Processing CHEMBL1500153 in molecule.smi (113/508). Average speed: 0.39 s/mol.\n",
            "Processing CHEMBL1436412 in molecule.smi (112/508). Average speed: 0.39 s/mol.\n",
            "Processing CHEMBL3120549 in molecule.smi (115/508). Average speed: 0.39 s/mol.\n",
            "Processing CHEMBL1400695 in molecule.smi (114/508). Average speed: 0.38 s/mol.\n",
            "Processing CHEMBL3120548 in molecule.smi (116/508). Average speed: 0.38 s/mol.\n",
            "Processing CHEMBL3120574 in molecule.smi (117/508). Average speed: 0.38 s/mol.\n",
            "Processing CHEMBL3120572 in molecule.smi (119/508). Average speed: 0.38 s/mol.\n",
            "Processing CHEMBL3120573 in molecule.smi (118/508). Average speed: 0.38 s/mol.\n",
            "Processing CHEMBL1544729 in molecule.smi (120/508). Average speed: 0.37 s/mol.\n",
            "Processing CHEMBL3120571 in molecule.smi (121/508). Average speed: 0.38 s/mol.\n",
            "Processing CHEMBL3120570 in molecule.smi (122/508). Average speed: 0.37 s/mol.\n",
            "Processing CHEMBL3120569 in molecule.smi (123/508). Average speed: 0.37 s/mol.\n",
            "Processing CHEMBL3120568 in molecule.smi (124/508). Average speed: 0.37 s/mol.\n",
            "Processing CHEMBL3120567 in molecule.smi (125/508). Average speed: 0.37 s/mol.\n",
            "Processing CHEMBL3120566 in molecule.smi (126/508). Average speed: 0.36 s/mol.\n",
            "Processing CHEMBL3120565 in molecule.smi (127/508). Average speed: 0.36 s/mol.\n",
            "Processing CHEMBL3120564 in molecule.smi (128/508). Average speed: 0.36 s/mol.\n",
            "Processing CHEMBL3120563 in molecule.smi (129/508). Average speed: 0.36 s/mol.\n",
            "Processing CHEMBL3120562 in molecule.smi (130/508). Average speed: 0.36 s/mol.\n",
            "Processing CHEMBL3120561 in molecule.smi (131/508). Average speed: 0.35 s/mol.\n",
            "Processing CHEMBL3120560 in molecule.smi (132/508). Average speed: 0.35 s/mol.\n",
            "Processing CHEMBL3120559 in molecule.smi (133/508). Average speed: 0.35 s/mol.\n",
            "Processing CHEMBL3344256 in molecule.smi (135/508). Average speed: 0.35 s/mol.\n",
            "Processing CHEMBL3120558 in molecule.smi (134/508). Average speed: 0.35 s/mol.\n",
            "Processing CHEMBL3344258 in molecule.smi (137/508). Average speed: 0.35 s/mol.\n",
            "Processing CHEMBL3344257 in molecule.smi (136/508). Average speed: 0.35 s/mol.\n",
            "Processing CHEMBL3344246 in molecule.smi (138/508). Average speed: 0.35 s/mol.\n",
            "Processing CHEMBL3344247 in molecule.smi (139/508). Average speed: 0.35 s/mol.\n",
            "Processing CHEMBL3344248 in molecule.smi (140/508). Average speed: 0.35 s/mol.\n",
            "Processing CHEMBL3344249 in molecule.smi (141/508). Average speed: 0.35 s/mol.\n",
            "Processing CHEMBL3344250 in molecule.smi (142/508). Average speed: 0.35 s/mol.\n",
            "Processing CHEMBL3344251 in molecule.smi (143/508). Average speed: 0.35 s/mol.\n",
            "Processing CHEMBL3344252 in molecule.smi (144/508). Average speed: 0.35 s/mol.\n",
            "Processing CHEMBL3344253 in molecule.smi (145/508). Average speed: 0.35 s/mol.\n",
            "Processing CHEMBL3344254 in molecule.smi (146/508). Average speed: 0.36 s/mol.\n",
            "Processing CHEMBL3344255 in molecule.smi (147/508). Average speed: 0.35 s/mol.\n",
            "Processing CHEMBL3344245 in molecule.smi (148/508). Average speed: 0.36 s/mol.\n",
            "Processing CHEMBL3344259 in molecule.smi (149/508). Average speed: 0.35 s/mol.\n",
            "Processing CHEMBL3344260 in molecule.smi (150/508). Average speed: 0.36 s/mol.\n",
            "Processing CHEMBL3344288 in molecule.smi (151/508). Average speed: 0.36 s/mol.\n",
            "Processing CHEMBL3344289 in molecule.smi (152/508). Average speed: 0.36 s/mol.\n",
            "Processing CHEMBL3344290 in molecule.smi (153/508). Average speed: 0.36 s/mol.\n",
            "Processing CHEMBL3344291 in molecule.smi (154/508). Average speed: 0.37 s/mol.\n",
            "Processing CHEMBL3344292 in molecule.smi (155/508). Average speed: 0.37 s/mol.\n",
            "Processing CHEMBL3344293 in molecule.smi (156/508). Average speed: 0.37 s/mol.\n",
            "Processing CHEMBL3344294 in molecule.smi (157/508). Average speed: 0.37 s/mol.\n",
            "Processing CHEMBL3600575 in molecule.smi (159/508). Average speed: 0.37 s/mol.\n",
            "Processing CHEMBL3344295 in molecule.smi (158/508). Average speed: 0.37 s/mol.\n",
            "Processing CHEMBL3600652 in molecule.smi (160/508). Average speed: 0.37 s/mol.\n",
            "Processing CHEMBL3600649 in molecule.smi (162/508). Average speed: 0.37 s/mol.\n",
            "Processing CHEMBL3600650 in molecule.smi (161/508). Average speed: 0.37 s/mol.\n",
            "Processing CHEMBL3600647 in molecule.smi (164/508). Average speed: 0.37 s/mol.\n",
            "Processing CHEMBL3600648 in molecule.smi (163/508). Average speed: 0.37 s/mol.\n",
            "Processing CHEMBL3600646 in molecule.smi (165/508). Average speed: 0.37 s/mol.\n",
            "Processing CHEMBL3600645 in molecule.smi (166/508). Average speed: 0.37 s/mol.\n",
            "Processing CHEMBL3600644 in molecule.smi (167/508). Average speed: 0.37 s/mol.\n",
            "Processing CHEMBL3600643 in molecule.smi (168/508). Average speed: 0.37 s/mol.\n",
            "Processing CHEMBL3600642 in molecule.smi (169/508). Average speed: 0.37 s/mol.\n",
            "Processing CHEMBL3600582 in molecule.smi (171/508). Average speed: 0.37 s/mol.\n",
            "Processing CHEMBL3600583 in molecule.smi (170/508). Average speed: 0.37 s/mol.\n",
            "Processing CHEMBL3600581 in molecule.smi (172/508). Average speed: 0.37 s/mol.\n",
            "Processing CHEMBL3600580 in molecule.smi (173/508). Average speed: 0.37 s/mol.\n",
            "Processing CHEMBL3600578 in molecule.smi (175/508). Average speed: 0.37 s/mol.\n",
            "Processing CHEMBL3600579 in molecule.smi (174/508). Average speed: 0.37 s/mol.\n",
            "Processing CHEMBL3600576 in molecule.smi (177/508). Average speed: 0.36 s/mol.\n",
            "Processing CHEMBL3600577 in molecule.smi (176/508). Average speed: 0.37 s/mol.\n",
            "Processing CHEMBL3601773 in molecule.smi (178/508). Average speed: 0.37 s/mol.\n",
            "Processing CHEMBL3601772 in molecule.smi (179/508). Average speed: 0.36 s/mol.\n",
            "Processing CHEMBL3601771 in molecule.smi (180/508). Average speed: 0.36 s/mol.\n",
            "Processing CHEMBL3601770 in molecule.smi (181/508). Average speed: 0.36 s/mol.\n",
            "Processing CHEMBL3601769 in molecule.smi (182/508). Average speed: 0.36 s/mol.\n",
            "Processing CHEMBL3601768 in molecule.smi (183/508). Average speed: 0.36 s/mol.\n",
            "Processing CHEMBL3601767 in molecule.smi (184/508). Average speed: 0.36 s/mol.\n",
            "Processing CHEMBL3601766 in molecule.smi (185/508). Average speed: 0.35 s/mol.\n",
            "Processing CHEMBL3601765 in molecule.smi (186/508). Average speed: 0.35 s/mol.\n",
            "Processing CHEMBL3601764 in molecule.smi (187/508). Average speed: 0.35 s/mol.\n",
            "Processing CHEMBL3601762 in molecule.smi (189/508). Average speed: 0.35 s/mol.\n",
            "Processing CHEMBL3601763 in molecule.smi (188/508). Average speed: 0.35 s/mol.\n",
            "Processing CHEMBL3601758 in molecule.smi (191/508). Average speed: 0.35 s/mol.\n",
            "Processing CHEMBL3601760 in molecule.smi (190/508). Average speed: 0.35 s/mol.\n",
            "Processing CHEMBL3601756 in molecule.smi (193/508). Average speed: 0.34 s/mol.\n",
            "Processing CHEMBL3601757 in molecule.smi (192/508). Average speed: 0.34 s/mol.\n",
            "Processing CHEMBL3622693 in molecule.smi (195/508). Average speed: 0.34 s/mol.\n",
            "Processing CHEMBL3601372 in molecule.smi (194/508). Average speed: 0.34 s/mol.\n",
            "Processing CHEMBL3622691 in molecule.smi (196/508). Average speed: 0.34 s/mol.\n",
            "Processing CHEMBL3622690 in molecule.smi (197/508). Average speed: 0.34 s/mol.\n",
            "Processing CHEMBL3622689 in molecule.smi (198/508). Average speed: 0.34 s/mol.\n",
            "Processing CHEMBL3622686 in molecule.smi (200/508). Average speed: 0.35 s/mol.\n",
            "Processing CHEMBL3622688 in molecule.smi (199/508). Average speed: 0.35 s/mol.\n",
            "Processing CHEMBL3622685 in molecule.smi (201/508). Average speed: 0.36 s/mol.\n",
            "Processing CHEMBL3622680 in molecule.smi (202/508). Average speed: 0.36 s/mol.\n",
            "Processing CHEMBL3629551 in molecule.smi (203/508). Average speed: 0.36 s/mol.\n",
            "Processing CHEMBL3629550 in molecule.smi (204/508). Average speed: 0.36 s/mol.\n",
            "Processing CHEMBL3629547 in molecule.smi (205/508). Average speed: 0.36 s/mol.\n",
            "Processing CHEMBL3629545 in molecule.smi (206/508). Average speed: 0.36 s/mol.\n",
            "Processing CHEMBL3629081 in molecule.smi (207/508). Average speed: 0.36 s/mol.\n",
            "Processing CHEMBL3629080 in molecule.smi (208/508). Average speed: 0.36 s/mol.\n",
            "Processing CHEMBL3629079 in molecule.smi (209/508). Average speed: 0.36 s/mol.\n",
            "Processing CHEMBL3629072 in molecule.smi (210/508). Average speed: 0.36 s/mol.\n",
            "Processing CHEMBL3818613 in molecule.smi (211/508). Average speed: 0.36 s/mol.\n",
            "Processing CHEMBL3818885 in molecule.smi (212/508). Average speed: 0.36 s/mol.\n",
            "Processing CHEMBL3818010 in molecule.smi (213/508). Average speed: 0.36 s/mol.\n",
            "Processing CHEMBL3818469 in molecule.smi (214/508). Average speed: 0.36 s/mol.\n",
            "Processing CHEMBL3827717 in molecule.smi (215/508). Average speed: 0.36 s/mol.\n",
            "Processing CHEMBL3827287 in molecule.smi (216/508). Average speed: 0.36 s/mol.\n",
            "Processing CHEMBL3827087 in molecule.smi (217/508). Average speed: 0.36 s/mol.\n",
            "Processing CHEMBL3828203 in molecule.smi (218/508). Average speed: 0.36 s/mol.\n",
            "Processing CHEMBL3827841 in molecule.smi (219/508). Average speed: 0.36 s/mol.\n",
            "Processing CHEMBL1448267 in molecule.smi (220/508). Average speed: 0.35 s/mol.\n",
            "Processing CHEMBL3828702 in molecule.smi (221/508). Average speed: 0.35 s/mol.\n",
            "Processing CHEMBL3895168 in molecule.smi (222/508). Average speed: 0.35 s/mol.\n",
            "Processing CHEMBL3949937 in molecule.smi (223/508). Average speed: 0.35 s/mol.\n",
            "Processing CHEMBL3913173 in molecule.smi (224/508). Average speed: 0.35 s/mol.\n",
            "Processing CHEMBL329507 in molecule.smi (225/508). Average speed: 0.35 s/mol.\n",
            "Processing CHEMBL3916754 in molecule.smi (226/508). Average speed: 0.35 s/mol.\n",
            "Processing CHEMBL3896410 in molecule.smi (227/508). Average speed: 0.35 s/mol.\n",
            "Processing CHEMBL3891684 in molecule.smi (228/508). Average speed: 0.35 s/mol.\n",
            "Processing CHEMBL3891706 in molecule.smi (229/508). Average speed: 0.35 s/mol.\n",
            "Processing CHEMBL3960696 in molecule.smi (230/508). Average speed: 0.35 s/mol.\n",
            "Processing CHEMBL3975502 in molecule.smi (231/508). Average speed: 0.34 s/mol.\n",
            "Processing CHEMBL95373 in molecule.smi (232/508). Average speed: 0.34 s/mol.\n",
            "Processing CHEMBL3892224 in molecule.smi (233/508). Average speed: 0.34 s/mol.\n",
            "Processing CHEMBL3950151 in molecule.smi (234/508). Average speed: 0.34 s/mol.\n",
            "Processing CHEMBL3963643 in molecule.smi (235/508). Average speed: 0.34 s/mol.\n",
            "Processing CHEMBL3917674 in molecule.smi (236/508). Average speed: 0.34 s/mol.\n",
            "Processing CHEMBL3890494 in molecule.smi (237/508). Average speed: 0.34 s/mol.\n",
            "Processing CHEMBL3968055 in molecule.smi (238/508). Average speed: 0.34 s/mol.\n",
            "Processing CHEMBL3893425 in molecule.smi (239/508). Average speed: 0.34 s/mol.\n",
            "Processing CHEMBL3976030 in molecule.smi (240/508). Average speed: 0.34 s/mol.\n",
            "Processing CHEMBL3893677 in molecule.smi (241/508). Average speed: 0.34 s/mol.\n",
            "Processing CHEMBL4070510 in molecule.smi (242/508). Average speed: 0.34 s/mol.\n",
            "Processing CHEMBL4100084 in molecule.smi (243/508). Average speed: 0.34 s/mol.\n",
            "Processing CHEMBL4085244 in molecule.smi (244/508). Average speed: 0.33 s/mol.\n",
            "Processing CHEMBL4103174 in molecule.smi (245/508). Average speed: 0.33 s/mol.\n",
            "Processing CHEMBL4074987 in molecule.smi (246/508). Average speed: 0.33 s/mol.\n",
            "Processing CHEMBL4100705 in molecule.smi (247/508). Average speed: 0.33 s/mol.\n",
            "Processing CHEMBL4092986 in molecule.smi (248/508). Average speed: 0.33 s/mol.\n",
            "Processing CHEMBL4092021 in molecule.smi (249/508). Average speed: 0.33 s/mol.\n",
            "Processing CHEMBL4071196 in molecule.smi (250/508). Average speed: 0.33 s/mol.\n",
            "Processing CHEMBL4065321 in molecule.smi (251/508). Average speed: 0.33 s/mol.\n",
            "Processing CHEMBL4202962 in molecule.smi (252/508). Average speed: 0.33 s/mol.\n",
            "Processing CHEMBL4214144 in molecule.smi (253/508). Average speed: 0.33 s/mol.\n",
            "Processing CHEMBL4208211 in molecule.smi (254/508). Average speed: 0.34 s/mol.\n",
            "Processing CHEMBL4211100 in molecule.smi (255/508). Average speed: 0.34 s/mol.\n",
            "Processing CHEMBL4204156 in molecule.smi (257/508). Average speed: 0.34 s/mol.\n",
            "Processing CHEMBL4209771 in molecule.smi (256/508). Average speed: 0.34 s/mol.\n",
            "Processing CHEMBL4438182 in molecule.smi (258/508). Average speed: 0.35 s/mol.\n",
            "Processing CHEMBL4440032 in molecule.smi (259/508). Average speed: 0.35 s/mol.\n",
            "Processing CHEMBL3600661 in molecule.smi (260/508). Average speed: 0.35 s/mol.\n",
            "Processing CHEMBL1549559 in molecule.smi (261/508). Average speed: 0.35 s/mol.\n",
            "Processing CHEMBL4573263 in molecule.smi (262/508). Average speed: 0.34 s/mol.\n",
            "Processing CHEMBL4472939 in molecule.smi (263/508). Average speed: 0.34 s/mol.\n",
            "Processing CHEMBL4796023 in molecule.smi (264/508). Average speed: 0.34 s/mol.\n",
            "Processing CHEMBL4778537 in molecule.smi (265/508). Average speed: 0.34 s/mol.\n",
            "Processing CHEMBL4777883 in molecule.smi (266/508). Average speed: 0.34 s/mol.\n",
            "Processing CHEMBL4784552 in molecule.smi (267/508). Average speed: 0.34 s/mol.\n",
            "Processing CHEMBL4779235 in molecule.smi (268/508). Average speed: 0.34 s/mol.\n",
            "Processing CHEMBL4525654 in molecule.smi (269/508). Average speed: 0.34 s/mol.\n",
            "Processing CHEMBL4443209 in molecule.smi (270/508). Average speed: 0.34 s/mol.\n",
            "Processing CHEMBL4536222 in molecule.smi (271/508). Average speed: 0.34 s/mol.\n",
            "Processing CHEMBL4555860 in molecule.smi (272/508). Average speed: 0.34 s/mol.\n",
            "Processing CHEMBL4574235 in molecule.smi (273/508). Average speed: 0.34 s/mol.\n",
            "Processing CHEMBL4521852 in molecule.smi (274/508). Average speed: 0.34 s/mol.\n",
            "Processing CHEMBL4568517 in molecule.smi (275/508). Average speed: 0.34 s/mol.\n",
            "Processing CHEMBL4572204 in molecule.smi (277/508). Average speed: 0.34 s/mol.\n",
            "Processing CHEMBL4446149 in molecule.smi (276/508). Average speed: 0.34 s/mol.\n",
            "Processing CHEMBL4474805 in molecule.smi (279/508). Average speed: 0.34 s/mol.\n",
            "Processing CHEMBL4592281 in molecule.smi (278/508). Average speed: 0.34 s/mol.\n",
            "Processing CHEMBL4587997 in molecule.smi (281/508). Average speed: 0.34 s/mol.\n",
            "Processing CHEMBL4557719 in molecule.smi (280/508). Average speed: 0.34 s/mol.\n",
            "Processing CHEMBL4436232 in molecule.smi (282/508). Average speed: 0.34 s/mol.\n",
            "Processing CHEMBL462481 in molecule.smi (283/508). Average speed: 0.34 s/mol.\n",
            "Processing CHEMBL4126448 in molecule.smi (284/508). Average speed: 0.34 s/mol.\n",
            "Processing CHEMBL4126307 in molecule.smi (285/508). Average speed: 0.33 s/mol.\n",
            "Processing CHEMBL4127682 in molecule.smi (286/508). Average speed: 0.34 s/mol.\n",
            "Processing CHEMBL4127272 in molecule.smi (287/508). Average speed: 0.34 s/mol.\n",
            "Processing CHEMBL4128510 in molecule.smi (288/508). Average speed: 0.34 s/mol.\n",
            "Processing CHEMBL4129880 in molecule.smi (289/508). Average speed: 0.34 s/mol.\n",
            "Processing CHEMBL4126727 in molecule.smi (290/508). Average speed: 0.34 s/mol.\n",
            "Processing CHEMBL4127102 in molecule.smi (291/508). Average speed: 0.34 s/mol.\n",
            "Processing CHEMBL4291305 in molecule.smi (292/508). Average speed: 0.34 s/mol.\n",
            "Processing CHEMBL4286810 in molecule.smi (293/508). Average speed: 0.34 s/mol.\n",
            "Processing CHEMBL4294712 in molecule.smi (294/508). Average speed: 0.34 s/mol.\n",
            "Processing CHEMBL4281503 in molecule.smi (295/508). Average speed: 0.34 s/mol.\n",
            "Processing CHEMBL4289384 in molecule.smi (296/508). Average speed: 0.34 s/mol.\n",
            "Processing CHEMBL4290913 in molecule.smi (298/508). Average speed: 0.33 s/mol.\n",
            "Processing CHEMBL4279579 in molecule.smi (297/508). Average speed: 0.33 s/mol.\n",
            "Processing CHEMBL4283043 in molecule.smi (299/508). Average speed: 0.33 s/mol.\n",
            "Processing CHEMBL4294307 in molecule.smi (300/508). Average speed: 0.33 s/mol.\n",
            "Processing CHEMBL4279161 in molecule.smi (301/508). Average speed: 0.33 s/mol.\n",
            "Processing CHEMBL4289842 in molecule.smi (302/508). Average speed: 0.33 s/mol.\n",
            "Processing CHEMBL4293217 in molecule.smi (303/508). Average speed: 0.33 s/mol.\n",
            "Processing CHEMBL4289523 in molecule.smi (304/508). Average speed: 0.33 s/mol.\n",
            "Processing CHEMBL4293995 in molecule.smi (305/508). Average speed: 0.33 s/mol.\n",
            "Processing CHEMBL4285715 in molecule.smi (306/508). Average speed: 0.33 s/mol.\n",
            "Processing CHEMBL243822 in molecule.smi (307/508). Average speed: 0.33 s/mol.\n",
            "Processing CHEMBL242739 in molecule.smi (308/508). Average speed: 0.33 s/mol.\n",
            "Processing CHEMBL412199 in molecule.smi (310/508). Average speed: 0.33 s/mol.\n",
            "Processing CHEMBL503157 in molecule.smi (309/508). Average speed: 0.33 s/mol.\n",
            "Processing CHEMBL595619 in molecule.smi (312/508). Average speed: 0.33 s/mol.\n",
            "Processing CHEMBL593513 in molecule.smi (311/508). Average speed: 0.33 s/mol.\n",
            "Processing CHEMBL1276206 in molecule.smi (313/508). Average speed: 0.33 s/mol.\n",
            "Processing CHEMBL1276207 in molecule.smi (314/508). Average speed: 0.32 s/mol.\n",
            "Processing CHEMBL1276035 in molecule.smi (315/508). Average speed: 0.32 s/mol.\n",
            "Processing CHEMBL1276036 in molecule.smi (316/508). Average speed: 0.32 s/mol.\n",
            "Processing CHEMBL1276037 in molecule.smi (317/508). Average speed: 0.32 s/mol.\n",
            "Processing CHEMBL1276338 in molecule.smi (318/508). Average speed: 0.32 s/mol.\n",
            "Processing CHEMBL1276359 in molecule.smi (319/508). Average speed: 0.32 s/mol.\n",
            "Processing CHEMBL1276108 in molecule.smi (320/508). Average speed: 0.32 s/mol.\n",
            "Processing CHEMBL1276131 in molecule.smi (321/508). Average speed: 0.32 s/mol.\n",
            "Processing CHEMBL1276132 in molecule.smi (322/508). Average speed: 0.32 s/mol.\n",
            "Processing CHEMBL1276133 in molecule.smi (323/508). Average speed: 0.32 s/mol.\n",
            "Processing CHEMBL1276360 in molecule.smi (325/508). Average speed: 0.32 s/mol.\n",
            "Processing CHEMBL1276134 in molecule.smi (324/508). Average speed: 0.32 s/mol.\n",
            "Processing CHEMBL1276107 in molecule.smi (327/508). Average speed: 0.32 s/mol.\n",
            "Processing CHEMBL1276361 in molecule.smi (326/508). Average speed: 0.32 s/mol.\n",
            "Processing CHEMBL1276239 in molecule.smi (328/508). Average speed: 0.32 s/mol.\n",
            "Processing CHEMBL1276240 in molecule.smi (329/508). Average speed: 0.31 s/mol.\n",
            "Processing CHEMBL1276284 in molecule.smi (330/508). Average speed: 0.31 s/mol.\n",
            "Processing CHEMBL1276285 in molecule.smi (331/508). Average speed: 0.31 s/mol.\n",
            "Processing CHEMBL1276286 in molecule.smi (333/508). Average speed: 0.31 s/mol.\n",
            "Processing CHEMBL472762 in molecule.smi (332/508). Average speed: 0.31 s/mol.\n",
            "Processing CHEMBL1275656 in molecule.smi (335/508). Average speed: 0.31 s/mol.\n",
            "Processing CHEMBL1276287 in molecule.smi (334/508). Average speed: 0.31 s/mol.\n",
            "Processing CHEMBL2058477 in molecule.smi (336/508). Average speed: 0.31 s/mol.\n",
            "Processing CHEMBL2058480 in molecule.smi (338/508). Average speed: 0.31 s/mol.\n",
            "Processing CHEMBL2058478 in molecule.smi (337/508). Average speed: 0.31 s/mol.\n",
            "Processing CHEMBL206452 in molecule.smi (339/508). Average speed: 0.31 s/mol.\n",
            "Processing CHEMBL275391 in molecule.smi (341/508). Average speed: 0.31 s/mol.\n",
            "Processing CHEMBL117 in molecule.smi (340/508). Average speed: 0.31 s/mol.\n",
            "Processing CHEMBL8260 in molecule.smi (343/508). Average speed: 0.31 s/mol.\n",
            "Processing CHEMBL151 in molecule.smi (342/508). Average speed: 0.31 s/mol.\n",
            "Processing CHEMBL12658 in molecule.smi (345/508). Average speed: 0.31 s/mol.\n",
            "Processing CHEMBL8145 in molecule.smi (344/508). Average speed: 0.31 s/mol.\n",
            "Processing CHEMBL73930 in molecule.smi (347/508). Average speed: 0.30 s/mol.\n",
            "Processing CHEMBL242341 in molecule.smi (346/508). Average speed: 0.30 s/mol.\n",
            "Processing CHEMBL28 in molecule.smi (349/508). Average speed: 0.30 s/mol.\n",
            "Processing CHEMBL50 in molecule.smi (348/508). Average speed: 0.30 s/mol.\n",
            "Processing CHEMBL2377270 in molecule.smi (350/508). Average speed: 0.30 s/mol.\n",
            "Processing CHEMBL486009 in molecule.smi (351/508). Average speed: 0.30 s/mol.\n",
            "Processing CHEMBL492166 in molecule.smi (352/508). Average speed: 0.30 s/mol.\n",
            "Processing CHEMBL104255 in molecule.smi (353/508). Average speed: 0.30 s/mol.\n",
            "Processing CHEMBL2377165 in molecule.smi (354/508). Average speed: 0.30 s/mol.\n",
            "Processing CHEMBL2377164 in molecule.smi (355/508). Average speed: 0.30 s/mol.\n",
            "Processing CHEMBL2377163 in molecule.smi (356/508). Average speed: 0.30 s/mol.\n",
            "Processing CHEMBL2377162 in molecule.smi (357/508). Average speed: 0.30 s/mol.\n",
            "Processing CHEMBL453016 in molecule.smi (358/508). Average speed: 0.30 s/mol.\n",
            "Processing CHEMBL1957037 in molecule.smi (359/508). Average speed: 0.30 s/mol.\n",
            "Processing CHEMBL2377161 in molecule.smi (360/508). Average speed: 0.30 s/mol.\n",
            "Processing CHEMBL2377160 in molecule.smi (361/508). Average speed: 0.30 s/mol.\n",
            "Processing CHEMBL1373918 in molecule.smi (362/508). Average speed: 0.30 s/mol.\n",
            "Processing CHEMBL2377158 in molecule.smi (364/508). Average speed: 0.30 s/mol.\n",
            "Processing CHEMBL2377159 in molecule.smi (363/508). Average speed: 0.30 s/mol.\n",
            "Processing CHEMBL2377157 in molecule.smi (365/508). Average speed: 0.30 s/mol.\n",
            "Processing CHEMBL337309 in molecule.smi (366/508). Average speed: 0.30 s/mol.\n",
            "Processing CHEMBL32571 in molecule.smi (367/508). Average speed: 0.30 s/mol.\n",
            "Processing CHEMBL2425480 in molecule.smi (368/508). Average speed: 0.30 s/mol.\n",
            "Processing CHEMBL2425478 in molecule.smi (369/508). Average speed: 0.29 s/mol.\n",
            "Processing CHEMBL2425470 in molecule.smi (370/508). Average speed: 0.29 s/mol.\n",
            "Processing CHEMBL2425469 in molecule.smi (371/508). Average speed: 0.29 s/mol.\n",
            "Processing CHEMBL2425483 in molecule.smi (372/508). Average speed: 0.29 s/mol.\n",
            "Processing CHEMBL2425481 in molecule.smi (373/508). Average speed: 0.29 s/mol.\n",
            "Processing CHEMBL2425473 in molecule.smi (374/508). Average speed: 0.29 s/mol.\n",
            "Processing CHEMBL2425472 in molecule.smi (375/508). Average speed: 0.29 s/mol.\n",
            "Processing CHEMBL2425468 in molecule.smi (376/508). Average speed: 0.29 s/mol.\n",
            "Processing CHEMBL2425467 in molecule.smi (377/508). Average speed: 0.29 s/mol.\n",
            "Processing CHEMBL2425464 in molecule.smi (378/508). Average speed: 0.29 s/mol.\n",
            "Processing CHEMBL2425463 in molecule.smi (379/508). Average speed: 0.29 s/mol.\n",
            "Processing CHEMBL3594252 in molecule.smi (381/508). Average speed: 0.29 s/mol.\n",
            "Processing CHEMBL3594253 in molecule.smi (380/508). Average speed: 0.29 s/mol.\n",
            "Processing CHEMBL3593638 in molecule.smi (383/508). Average speed: 0.29 s/mol.\n",
            "Processing CHEMBL3594251 in molecule.smi (382/508). Average speed: 0.29 s/mol.\n",
            "Processing CHEMBL3594268 in molecule.smi (385/508). Average speed: 0.29 s/mol.\n",
            "Processing CHEMBL3593637 in molecule.smi (384/508). Average speed: 0.29 s/mol.\n",
            "Processing CHEMBL3594267 in molecule.smi (386/508). Average speed: 0.29 s/mol.\n",
            "Processing CHEMBL3594266 in molecule.smi (387/508). Average speed: 0.29 s/mol.\n",
            "Processing CHEMBL3594265 in molecule.smi (388/508). Average speed: 0.29 s/mol.\n",
            "Processing CHEMBL3594264 in molecule.smi (389/508). Average speed: 0.29 s/mol.\n",
            "Processing CHEMBL3594263 in molecule.smi (390/508). Average speed: 0.29 s/mol.\n",
            "Processing CHEMBL3594262 in molecule.smi (391/508). Average speed: 0.29 s/mol.\n",
            "Processing CHEMBL3594261 in molecule.smi (392/508). Average speed: 0.29 s/mol.\n",
            "Processing CHEMBL3594260 in molecule.smi (393/508). Average speed: 0.29 s/mol.\n",
            "Processing CHEMBL3594259 in molecule.smi (394/508). Average speed: 0.29 s/mol.\n",
            "Processing CHEMBL3594258 in molecule.smi (395/508). Average speed: 0.29 s/mol.\n",
            "Processing CHEMBL3594257 in molecule.smi (396/508). Average speed: 0.29 s/mol.\n",
            "Processing CHEMBL3594256 in molecule.smi (397/508). Average speed: 0.28 s/mol.\n",
            "Processing CHEMBL3594255 in molecule.smi (398/508). Average speed: 0.28 s/mol.\n",
            "Processing CHEMBL3601582 in molecule.smi (399/508). Average speed: 0.28 s/mol.\n",
            "Processing CHEMBL3601583 in molecule.smi (400/508). Average speed: 0.28 s/mol.\n",
            "Processing CHEMBL3601584 in molecule.smi (401/508). Average speed: 0.28 s/mol.\n",
            "Processing CHEMBL3601585 in molecule.smi (402/508). Average speed: 0.28 s/mol.\n",
            "Processing CHEMBL3601586 in molecule.smi (403/508). Average speed: 0.28 s/mol.\n",
            "Processing CHEMBL3601587 in molecule.smi (404/508). Average speed: 0.28 s/mol.\n",
            "Processing CHEMBL3601588 in molecule.smi (405/508). Average speed: 0.28 s/mol.\n",
            "Processing CHEMBL3601589 in molecule.smi (406/508). Average speed: 0.28 s/mol.\n",
            "Processing CHEMBL3601591 in molecule.smi (408/508). Average speed: 0.28 s/mol.\n",
            "Processing CHEMBL3601590 in molecule.smi (407/508). Average speed: 0.28 s/mol.\n",
            "Processing CHEMBL3601593 in molecule.smi (410/508). Average speed: 0.28 s/mol.\n",
            "Processing CHEMBL3601592 in molecule.smi (409/508). Average speed: 0.28 s/mol.\n",
            "Processing CHEMBL3601594 in molecule.smi (411/508). Average speed: 0.28 s/mol.\n",
            "Processing CHEMBL3601595 in molecule.smi (412/508). Average speed: 0.28 s/mol.\n",
            "Processing CHEMBL3601596 in molecule.smi (413/508). Average speed: 0.28 s/mol.\n",
            "Processing CHEMBL3601616 in molecule.smi (414/508). Average speed: 0.28 s/mol.\n",
            "Processing CHEMBL3601617 in molecule.smi (415/508). Average speed: 0.28 s/mol.\n",
            "Processing CHEMBL3601618 in molecule.smi (416/508). Average speed: 0.27 s/mol.\n",
            "Processing CHEMBL3601619 in molecule.smi (417/508). Average speed: 0.27 s/mol.\n",
            "Processing CHEMBL3601620 in molecule.smi (418/508). Average speed: 0.27 s/mol.\n",
            "Processing CHEMBL4177368 in molecule.smi (419/508). Average speed: 0.27 s/mol.\n",
            "Processing CHEMBL4173599 in molecule.smi (420/508). Average speed: 0.27 s/mol.\n",
            "Processing CHEMBL4176964 in molecule.smi (421/508). Average speed: 0.27 s/mol.\n",
            "Processing CHEMBL4170188 in molecule.smi (422/508). Average speed: 0.27 s/mol.\n",
            "Processing CHEMBL4159556 in molecule.smi (423/508). Average speed: 0.27 s/mol.\n",
            "Processing CHEMBL4169795 in molecule.smi (424/508). Average speed: 0.27 s/mol.\n",
            "Processing CHEMBL4176993 in molecule.smi (425/508). Average speed: 0.27 s/mol.\n",
            "Processing CHEMBL4172924 in molecule.smi (426/508). Average speed: 0.27 s/mol.\n",
            "Processing CHEMBL4163886 in molecule.smi (427/508). Average speed: 0.27 s/mol.\n",
            "Processing CHEMBL4161538 in molecule.smi (428/508). Average speed: 0.27 s/mol.\n",
            "Processing CHEMBL4171725 in molecule.smi (429/508). Average speed: 0.27 s/mol.\n",
            "Processing CHEMBL4166733 in molecule.smi (430/508). Average speed: 0.27 s/mol.\n",
            "Processing CHEMBL4172409 in molecule.smi (431/508). Average speed: 0.27 s/mol.\n",
            "Processing CHEMBL4167961 in molecule.smi (432/508). Average speed: 0.27 s/mol.\n",
            "Processing CHEMBL4160701 in molecule.smi (433/508). Average speed: 0.27 s/mol.\n",
            "Processing CHEMBL4171297 in molecule.smi (434/508). Average speed: 0.27 s/mol.\n",
            "Processing CHEMBL4164106 in molecule.smi (435/508). Average speed: 0.27 s/mol.\n",
            "Processing CHEMBL4166373 in molecule.smi (436/508). Average speed: 0.26 s/mol.\n",
            "Processing CHEMBL4162250 in molecule.smi (437/508). Average speed: 0.26 s/mol.\n",
            "Processing CHEMBL4169118 in molecule.smi (438/508). Average speed: 0.26 s/mol.\n",
            "Processing CHEMBL4241971 in molecule.smi (439/508). Average speed: 0.26 s/mol.\n",
            "Processing CHEMBL4243350 in molecule.smi (440/508). Average speed: 0.26 s/mol.\n",
            "Processing CHEMBL4245850 in molecule.smi (441/508). Average speed: 0.26 s/mol.\n",
            "Processing CHEMBL2094349 in molecule.smi (442/508). Average speed: 0.26 s/mol.\n",
            "Processing CHEMBL4239073 in molecule.smi (443/508). Average speed: 0.26 s/mol.\n",
            "Processing CHEMBL4239299 in molecule.smi (444/508). Average speed: 0.26 s/mol.\n",
            "Processing CHEMBL4239124 in molecule.smi (445/508). Average speed: 0.26 s/mol.\n",
            "Processing CHEMBL4239571 in molecule.smi (446/508). Average speed: 0.26 s/mol.\n",
            "Processing CHEMBL4249219 in molecule.smi (447/508). Average speed: 0.26 s/mol.\n",
            "Processing CHEMBL4250127 in molecule.smi (448/508). Average speed: 0.26 s/mol.\n",
            "Processing CHEMBL4242065 in molecule.smi (449/508). Average speed: 0.26 s/mol.\n",
            "Processing CHEMBL4238560 in molecule.smi (450/508). Average speed: 0.26 s/mol.\n",
            "Processing CHEMBL4242735 in molecule.smi (451/508). Average speed: 0.26 s/mol.\n",
            "Processing CHEMBL4245086 in molecule.smi (452/508). Average speed: 0.26 s/mol.\n",
            "Processing CHEMBL4245261 in molecule.smi (453/508). Average speed: 0.26 s/mol.\n",
            "Processing CHEMBL4250489 in molecule.smi (454/508). Average speed: 0.26 s/mol.\n",
            "Processing CHEMBL4245439 in molecule.smi (455/508). Average speed: 0.26 s/mol.\n",
            "Processing CHEMBL4239970 in molecule.smi (456/508). Average speed: 0.26 s/mol.\n",
            "Processing CHEMBL4238717 in molecule.smi (457/508). Average speed: 0.25 s/mol.\n",
            "Processing CHEMBL4247495 in molecule.smi (458/508). Average speed: 0.25 s/mol.\n",
            "Processing CHEMBL4245159 in molecule.smi (459/508). Average speed: 0.25 s/mol.\n",
            "Processing CHEMBL4246997 in molecule.smi (460/508). Average speed: 0.25 s/mol.\n",
            "Processing CHEMBL569422 in molecule.smi (461/508). Average speed: 0.25 s/mol.\n",
            "Processing CHEMBL4590676 in molecule.smi (462/508). Average speed: 0.25 s/mol.\n",
            "Processing CHEMBL4568283 in molecule.smi (463/508). Average speed: 0.25 s/mol.\n",
            "Processing CHEMBL4469655 in molecule.smi (464/508). Average speed: 0.25 s/mol.\n",
            "Processing CHEMBL4476469 in molecule.smi (466/508). Average speed: 0.25 s/mol.\n",
            "Processing CHEMBL4447735 in molecule.smi (465/508). Average speed: 0.25 s/mol.\n",
            "Processing CHEMBL4530689 in molecule.smi (468/508). Average speed: 0.25 s/mol.\n",
            "Processing CHEMBL4531553 in molecule.smi (467/508). Average speed: 0.25 s/mol.\n",
            "Processing CHEMBL4579243 in molecule.smi (469/508). Average speed: 0.25 s/mol.\n",
            "Processing CHEMBL4545901 in molecule.smi (470/508). Average speed: 0.25 s/mol.\n",
            "Processing CHEMBL4472402 in molecule.smi (471/508). Average speed: 0.25 s/mol.\n",
            "Processing CHEMBL4440368 in molecule.smi (472/508). Average speed: 0.25 s/mol.\n",
            "Processing CHEMBL4534392 in molecule.smi (473/508). Average speed: 0.25 s/mol.\n",
            "Processing CHEMBL4437504 in molecule.smi (474/508). Average speed: 0.25 s/mol.\n",
            "Processing CHEMBL4454777 in molecule.smi (475/508). Average speed: 0.25 s/mol.\n",
            "Processing CHEMBL4461397 in molecule.smi (476/508). Average speed: 0.25 s/mol.\n",
            "Processing CHEMBL4473012 in molecule.smi (477/508). Average speed: 0.25 s/mol.\n",
            "Processing CHEMBL4439781 in molecule.smi (478/508). Average speed: 0.25 s/mol.\n",
            "Processing CHEMBL4535418 in molecule.smi (479/508). Average speed: 0.25 s/mol.\n",
            "Processing CHEMBL4470787 in molecule.smi (480/508). Average speed: 0.25 s/mol.\n",
            "Processing CHEMBL4516908 in molecule.smi (481/508). Average speed: 0.25 s/mol.\n",
            "Processing CHEMBL4585313 in molecule.smi (482/508). Average speed: 0.25 s/mol.\n",
            "Processing CHEMBL4539763 in molecule.smi (483/508). Average speed: 0.24 s/mol.\n",
            "Processing CHEMBL4555761 in molecule.smi (484/508). Average speed: 0.24 s/mol.\n",
            "Processing CHEMBL1219 in molecule.smi (485/508). Average speed: 0.24 s/mol.\n",
            "Processing CHEMBL3655716 in molecule.smi (486/508). Average speed: 0.24 s/mol.\n",
            "Processing CHEMBL51085 in molecule.smi (487/508). Average speed: 0.24 s/mol.\n",
            "Processing CHEMBL4469439 in molecule.smi (488/508). Average speed: 0.24 s/mol.\n",
            "Processing CHEMBL4592440 in molecule.smi (489/508). Average speed: 0.24 s/mol.\n",
            "Processing CHEMBL4463967 in molecule.smi (490/508). Average speed: 0.24 s/mol.\n",
            "Processing CHEMBL4520558 in molecule.smi (491/508). Average speed: 0.24 s/mol.\n",
            "Processing CHEMBL4444989 in molecule.smi (492/508). Average speed: 0.24 s/mol.\n",
            "Processing CHEMBL4089739 in molecule.smi (493/508). Average speed: 0.24 s/mol.\n",
            "Processing CHEMBL4563587 in molecule.smi (494/508). Average speed: 0.24 s/mol.\n",
            "Processing CHEMBL4563580 in molecule.smi (495/508). Average speed: 0.24 s/mol.\n",
            "Processing CHEMBL4444060 in molecule.smi (496/508). Average speed: 0.24 s/mol.\n",
            "Processing CHEMBL4469463 in molecule.smi (497/508). Average speed: 0.24 s/mol.\n",
            "Processing CHEMBL385817 in molecule.smi (498/508). Average speed: 0.24 s/mol.\n",
            "Processing CHEMBL3747547 in molecule.smi (499/508). Average speed: 0.24 s/mol.\n",
            "Processing CHEMBL3747132 in molecule.smi (500/508). Average speed: 0.24 s/mol.\n",
            "Processing CHEMBL4524305 in molecule.smi (501/508). Average speed: 0.24 s/mol.\n",
            "Processing CHEMBL4534596 in molecule.smi (502/508). Average speed: 0.24 s/mol.\n",
            "Processing CHEMBL4552531 in molecule.smi (503/508). Average speed: 0.24 s/mol.\n",
            "Processing CHEMBL4539240 in molecule.smi (504/508). Average speed: 0.24 s/mol.\n",
            "Processing CHEMBL4461450 in molecule.smi (505/508). Average speed: 0.24 s/mol.\n",
            "Processing CHEMBL4471428 in molecule.smi (506/508). Average speed: 0.24 s/mol.\n",
            "Processing CHEMBL4575318 in molecule.smi (507/508). Average speed: 0.24 s/mol.\n",
            "Processing CHEMBL1976884 in molecule.smi (508/508). Average speed: 0.24 s/mol.\n",
            "Descriptor calculation completed in 2 mins 0.791 secs . Average speed: 0.24 s/mol.\n",
            "CPU times: user 1.33 s, sys: 143 ms, total: 1.47 s\n",
            "Wall time: 2min 4s\n"
          ]
        }
      ]
    },
    {
      "cell_type": "markdown",
      "source": [
        "## **Preparing the X and Y Data Matrices**"
      ],
      "metadata": {
        "id": "FqDbeDlUNPC_"
      }
    },
    {
      "cell_type": "markdown",
      "source": [
        "### **X data matrix**"
      ],
      "metadata": {
        "id": "4dT3uZMMNTl6"
      }
    },
    {
      "cell_type": "code",
      "source": [
        "df_X = pd.read_csv('descriptors_output.csv')"
      ],
      "metadata": {
        "id": "OKpuFiaUNVd8"
      },
      "execution_count": 11,
      "outputs": []
    },
    {
      "cell_type": "code",
      "source": [
        "df_X = df_X.drop(columns=['Name'])"
      ],
      "metadata": {
        "id": "IFTWVUGANa2j"
      },
      "execution_count": 12,
      "outputs": []
    },
    {
      "cell_type": "markdown",
      "source": [
        "## **Y variable: Transformation into a binary variable**\n",
        "The bioactivity data is in the pIC50 unit. Compounds having values of >= 6 will be considered to be **active = `1`** while those <= 5 will be considered to be **inactive = `0`**."
      ],
      "metadata": {
        "id": "vZGdDJG7Nn_j"
      }
    },
    {
      "cell_type": "code",
      "source": [
        "def get_class(y, thres1=6, thres2=5):\n",
        "  labels = {0: '0', 1: '1'}\n",
        "  if y >= thres1:\n",
        "    return labels[1]\n",
        "  elif y <= thres2:\n",
        "    return labels[0]"
      ],
      "metadata": {
        "id": "6S_KTzeMZhXO"
      },
      "execution_count": 13,
      "outputs": []
    },
    {
      "cell_type": "code",
      "source": [
        "df_Y = df['pIC50']"
      ],
      "metadata": {
        "id": "5_CadMjmOX88"
      },
      "execution_count": 14,
      "outputs": []
    },
    {
      "cell_type": "code",
      "source": [
        "df_Y"
      ],
      "metadata": {
        "colab": {
          "base_uri": "https://localhost:8080/"
        },
        "id": "x_ygVVVwPQiR",
        "outputId": "b46225cc-637d-4b42-a061-71584401ba46"
      },
      "execution_count": 15,
      "outputs": [
        {
          "output_type": "execute_result",
          "data": {
            "text/plain": [
              "0      4.820000\n",
              "1      4.330000\n",
              "2      4.040000\n",
              "3      4.210000\n",
              "4      4.150000\n",
              "         ...   \n",
              "503    3.966576\n",
              "504    4.450997\n",
              "505    4.070581\n",
              "506    4.696804\n",
              "507    3.100179\n",
              "Name: pIC50, Length: 508, dtype: float64"
            ]
          },
          "metadata": {},
          "execution_count": 15
        }
      ]
    },
    {
      "cell_type": "code",
      "source": [
        "df_Y = df_Y.apply(get_class)"
      ],
      "metadata": {
        "id": "Xs-pYxheZmlN"
      },
      "execution_count": 16,
      "outputs": []
    },
    {
      "cell_type": "markdown",
      "source": [
        "## **Combining X and Y variable**"
      ],
      "metadata": {
        "id": "pd1fZqZCPlyp"
      }
    },
    {
      "cell_type": "code",
      "source": [
        "data = pd.concat([df_X, df_Y], axis=1)"
      ],
      "metadata": {
        "id": "u52CHe_1Pn13"
      },
      "execution_count": 17,
      "outputs": []
    },
    {
      "cell_type": "code",
      "source": [
        "data = data.rename(columns={'pIC50': 'Activity'})"
      ],
      "metadata": {
        "id": "pBxL90Q7Px9x"
      },
      "execution_count": 18,
      "outputs": []
    },
    {
      "cell_type": "code",
      "source": [
        "data.to_csv('bioactivity_data_PubchemFingerprinter.csv', index=False)"
      ],
      "metadata": {
        "id": "bw0Ef0rQP0-K"
      },
      "execution_count": 19,
      "outputs": []
    },
    {
      "cell_type": "code",
      "source": [
        "! zip lab3.zip *"
      ],
      "metadata": {
        "colab": {
          "base_uri": "https://localhost:8080/"
        },
        "id": "206Q2n9Ftuos",
        "outputId": "b8b51eba-cf27-47f8-952c-316ca29db5e2"
      },
      "execution_count": 20,
      "outputs": [
        {
          "output_type": "stream",
          "name": "stdout",
          "text": [
            "  adding: bioactivity_data_2class.csv (deflated 76%)\n",
            "  adding: bioactivity_data_PubchemFingerprinter.csv (deflated 96%)\n",
            "  adding: descriptors_output.csv (deflated 96%)\n",
            "  adding: __MACOSX/ (stored 0%)\n",
            "  adding: molecule.smi (deflated 82%)\n",
            "  adding: PaDEL-Descriptor/ (stored 0%)\n",
            "  adding: padel.sh (deflated 36%)\n",
            "  adding: padel.zip (stored 0%)\n",
            "  adding: sample_data/ (stored 0%)\n"
          ]
        }
      ]
    }
  ],
  "metadata": {
    "colab": {
      "provenance": [],
      "include_colab_link": true
    },
    "kernelspec": {
      "display_name": "Python 3 (ipykernel)",
      "language": "python",
      "name": "python3"
    },
    "language_info": {
      "codemirror_mode": {
        "name": "ipython",
        "version": 3
      },
      "file_extension": ".py",
      "mimetype": "text/x-python",
      "name": "python",
      "nbconvert_exporter": "python",
      "pygments_lexer": "ipython3",
      "version": "3.11.3"
    }
  },
  "nbformat": 4,
  "nbformat_minor": 0
}