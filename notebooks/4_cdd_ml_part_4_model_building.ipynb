{
  "cells": [
    {
      "cell_type": "markdown",
      "metadata": {
        "id": "view-in-github",
        "colab_type": "text"
      },
      "source": [
        "<a href=\"https://colab.research.google.com/github/mounsifelatouch/cdd/blob/master/notebooks/4_cdd_ml_part_4_model_building.ipynb\" target=\"_parent\"><img src=\"https://colab.research.google.com/assets/colab-badge.svg\" alt=\"Open In Colab\"/></a>"
      ]
    },
    {
      "cell_type": "markdown",
      "metadata": {
        "id": "7AAfh_j7hSwQ"
      },
      "source": [
        "# **Bioinformatics Project - Computational Drug Discovery [Part 4] Classification Models Building**\n",
        "\n",
        "**MOUNSIF EL ATOUCH**\n",
        "\n",
        "In this Jupyter notebook, we will be building a machine learning model using the ChEMBL bioactivity data.\n",
        "\n",
        "In **Part 4**, we will be building classification models\n",
        "\n",
        "---"
      ]
    },
    {
      "cell_type": "markdown",
      "metadata": {
        "id": "SsPbzowRSvzc"
      },
      "source": [
        "## **1. Installing librairies**"
      ]
    },
    {
      "cell_type": "markdown",
      "metadata": {
        "id": "jw7MqTMphSwR"
      },
      "source": [
        "## **2. Importing libraries**"
      ]
    },
    {
      "cell_type": "code",
      "execution_count": 1,
      "metadata": {
        "id": "D3rFTNAIhSwS"
      },
      "outputs": [],
      "source": [
        "import os\n",
        "import pandas as pd\n",
        "\n",
        "from scipy.spatial.distance import *\n",
        "import numpy as np\n",
        "\n",
        "import matplotlib.pyplot as plt\n",
        "%matplotlib inline\n",
        "import seaborn as sns\n",
        "\n",
        "seed = 42\n",
        "\n",
        "from sklearn.model_selection import *\n",
        "from sklearn.feature_selection import VarianceThreshold\n",
        "from sklearn.metrics import *\n",
        "\n",
        "from scipy.stats import randint, uniform\n",
        "\n",
        "from scipy import interp\n",
        "from sklearn.metrics import RocCurveDisplay\n",
        "\n",
        "import warnings\n",
        "warnings.filterwarnings('ignore')"
      ]
    },
    {
      "cell_type": "code",
      "execution_count": 2,
      "metadata": {
        "id": "TWF2oygoUIEX"
      },
      "outputs": [],
      "source": [
        "def print_score(clf, X_train, y_train, X_test, y_test, train=True):\n",
        "    if train:\n",
        "        pred = clf.predict(X_train)\n",
        "        clf_report = pd.DataFrame(classification_report(y_train, pred, output_dict=True))\n",
        "        print(\"Train Result:\\n================================================\")\n",
        "        print(f\"Accuracy Score: {accuracy_score(y_train, pred) * 100:.2f}%\")\n",
        "        print(\"_______________________________________________\")\n",
        "        print(f\"CLASSIFICATION REPORT:\\n{clf_report}\")\n",
        "        print(\"_______________________________________________\")\n",
        "        print(f\"Confusion Matrix: \\n {confusion_matrix(y_train, pred)}\\n\")\n",
        "        \n",
        "    elif train==False:\n",
        "        pred = clf.predict(X_test)\n",
        "        clf_report = pd.DataFrame(classification_report(y_test, pred, output_dict=True))\n",
        "        print(\"Test Result:\\n================================================\")        \n",
        "        print(f\"Accuracy Score: {accuracy_score(y_test, pred) * 100:.2f}%\")\n",
        "        print(\"_______________________________________________\")\n",
        "        print(f\"CLASSIFICATION REPORT:\\n{clf_report}\")\n",
        "        print(\"_______________________________________________\")\n",
        "        print(f\"Confusion Matrix: \\n {confusion_matrix(y_test, pred)}\\n\")"
      ]
    },
    {
      "cell_type": "code",
      "execution_count": 3,
      "metadata": {
        "id": "-ts7qg-SnfZ4"
      },
      "outputs": [],
      "source": [
        "def print_auc(clf, X_train, y_train, X_test, y_test, model_name) :\n",
        "    \n",
        "    clf = clf.fit(X_train, y_train)\n",
        "    y_pred_proba = clf.predict_proba(X_test)[::,1]\n",
        "    fpr, tpr, thr = roc_curve(y_test,  y_pred_proba)\n",
        "    roc_auc = roc_auc_score(y_test, y_pred_proba)\n",
        "    plt.plot(fpr, tpr, label=model_name+\" auc=\"+str(roc_auc))\n",
        "    plt.legend(loc=4)\n",
        "    plt.title(\"ROC curve\")\n",
        "\n",
        "    plt.show()\n",
        "    # Data to plot precision - recall curve\n",
        "    precision, recall, thresholds_log = precision_recall_curve(y_test, y_pred_proba)\n",
        "    # Use AUC function to calculate the area under the curve of precision recall curve\n",
        "    auc_precision_recall = auc(recall, precision)\n",
        "    \n",
        "    plt.plot(recall, precision, label=model_name+\" auc_prc=\"+str(auc_precision_recall))\n",
        "    plt.xlabel(\"Recall\")\n",
        "    plt.ylabel(\"Precision\")\n",
        "    plt.legend(loc=4)\n",
        "    plt.title(\"Precision-Recall Curve\")\n",
        "\n",
        "    plt.show()\n",
        "    print_score(clf, X_train, y_train, X_test, y_test, train=True)\n",
        "    print_score(clf, X_train, y_train, X_test, y_test, train=False)\n",
        "    precision_sc=precision_score(y_test, clf.predict(X_test), average=None)\n",
        "    recall_sc = recall_score(y_test, clf.predict(X_test), average=None)\n",
        "    test_score = accuracy_score(y_test, clf.predict(X_test)) * 100\n",
        "    train_score = accuracy_score(y_train, clf.predict(X_train)) * 100\n",
        "    f1 = f1_score(y_test, clf.predict(X_test))\n",
        "    print_score(clf, X_train, y_train, X_test, y_test, train=True)\n",
        "    metriques = {\"fpr\" : fpr, \"recall_sc\" : recall_sc, \"precision_sc\" : precision_sc, \"tpr\" : tpr,\n",
        "                 \"test_score\" : test_score, \"train_score\" : train_score, \"f1\" : f1,\n",
        "                 \"auc_pr\" : auc_precision_recall, \"auc\": roc_auc}\n",
        "    return metriques"
      ]
    },
    {
      "cell_type": "code",
      "execution_count": 4,
      "metadata": {
        "id": "5E4phmZn-u_n"
      },
      "outputs": [],
      "source": [
        "def metrics(X_train, X_test, y_train, y_test, model):\n",
        "    y_pred = model.predict(X_test)\n",
        "    y_proba = model.predict_proba(X_test)[:, 1]\n",
        "    print(\"Training set accuracy: {:.2f}\".format(model.score(X_train, y_train)))\n",
        "    print(\"Test set accuracy: {:.2f}\".format(model.score(X_test, y_test)))\n",
        "    print(\"Precision: {:.2f}\".format(precision_score(y_test, y_pred)))\n",
        "    print(\"Recall: {:.2f}\".format(recall_score(y_test, y_pred)))\n",
        "    print(\"F1 score: {:.2f}\".format(f1_score(y_test, y_pred)))\n",
        "    print(\"ROC AUC score: {:.2f}\".format(roc_auc_score(y_test, y_proba)))\n",
        "    print(\"Confusion matrix:\\n\", confusion_matrix(y_test, y_pred))\n",
        "    tn, fp, fn, tp = confusion_matrix(y_test, y_pred).ravel()\n",
        "    print(\"True Negatives: {:.0f}\".format(tn))\n",
        "    print(\"False Positives: {:.0f}\".format(fp))\n",
        "    print(\"False Negatives: {:.0f}\".format(fn))\n",
        "    print(\"TruePositives: {:.0f}\".format(tp))\n",
        "    print(\"-------------------------------------\")\n",
        "    return"
      ]
    },
    {
      "cell_type": "markdown",
      "metadata": {
        "id": "0GvT3PArhSwX"
      },
      "source": [
        "## **4. Load the data set**"
      ]
    },
    {
      "cell_type": "code",
      "execution_count": 5,
      "metadata": {
        "id": "stvhigCCaSgS",
        "colab": {
          "base_uri": "https://localhost:8080/"
        },
        "outputId": "ff544995-a81a-448e-dbd2-f61c7b2b864c"
      },
      "outputs": [
        {
          "output_type": "stream",
          "name": "stdout",
          "text": [
            "--2023-06-04 23:59:52--  https://raw.githubusercontent.com/mounsifelatouch/cdd/master/data/bioactivity_data_PubchemFingerprinter.csv\n",
            "Resolving raw.githubusercontent.com (raw.githubusercontent.com)... 185.199.108.133, 185.199.109.133, 185.199.110.133, ...\n",
            "Connecting to raw.githubusercontent.com (raw.githubusercontent.com)|185.199.108.133|:443... connected.\n",
            "HTTP request sent, awaiting response... 200 OK\n",
            "Length: 1090920 (1.0M) [text/plain]\n",
            "Saving to: ‘bioactivity_data_PubchemFingerprinter.csv’\n",
            "\n",
            "bioactivity_data_Pu 100%[===================>]   1.04M  --.-KB/s    in 0.02s   \n",
            "\n",
            "2023-06-04 23:59:52 (50.9 MB/s) - ‘bioactivity_data_PubchemFingerprinter.csv’ saved [1090920/1090920]\n",
            "\n"
          ]
        }
      ],
      "source": [
        "! wget https://raw.githubusercontent.com/mounsifelatouch/cdd/master/data/bioactivity_data_PubchemFingerprinter.csv"
      ]
    },
    {
      "cell_type": "code",
      "execution_count": 6,
      "metadata": {
        "id": "cSgppzqPiR0G"
      },
      "outputs": [],
      "source": [
        "df = pd.read_csv('bioactivity_data_PubchemFingerprinter.csv')"
      ]
    },
    {
      "cell_type": "markdown",
      "metadata": {
        "id": "kuiiC0xthSwb"
      },
      "source": [
        "## **5. Input features**"
      ]
    },
    {
      "cell_type": "markdown",
      "metadata": {
        "id": "iCeQQn0uhSwb"
      },
      "source": [
        "### **5.1. Input features**"
      ]
    },
    {
      "cell_type": "code",
      "execution_count": 8,
      "metadata": {
        "id": "li32nAPohSwc",
        "scrolled": true
      },
      "outputs": [],
      "source": [
        "X = df.drop('activity', axis=1)"
      ]
    },
    {
      "cell_type": "markdown",
      "metadata": {
        "id": "sGQjCQtfhSwg"
      },
      "source": [
        "### **5.2. Output features**"
      ]
    },
    {
      "cell_type": "code",
      "execution_count": 9,
      "metadata": {
        "id": "OWylAtAVhSwh"
      },
      "outputs": [],
      "source": [
        "y = df['activity']"
      ]
    },
    {
      "cell_type": "code",
      "execution_count": 10,
      "metadata": {
        "id": "7nRIG2ts9gnf"
      },
      "outputs": [],
      "source": [
        "# count the number of instances in each class\n",
        "counts = y.value_counts()\n",
        "\n",
        "# calculate the ratio of the negative class to the positive class\n",
        "imbalance_ratio = counts[0] / counts[1]"
      ]
    },
    {
      "cell_type": "markdown",
      "metadata": {
        "id": "E-zGSqXohSwx"
      },
      "source": [
        "### **5.3. Let's examine the data dimension**"
      ]
    },
    {
      "cell_type": "code",
      "execution_count": 11,
      "metadata": {
        "id": "nhT04XtLhSwx",
        "colab": {
          "base_uri": "https://localhost:8080/"
        },
        "outputId": "3f1986d1-aa38-4376-c957-d998e534f407"
      },
      "outputs": [
        {
          "output_type": "execute_result",
          "data": {
            "text/plain": [
              "((612, 881), (612,))"
            ]
          },
          "metadata": {},
          "execution_count": 11
        }
      ],
      "source": [
        "X.shape, y.shape"
      ]
    },
    {
      "cell_type": "markdown",
      "metadata": {
        "id": "AtaFgHI9aSgX"
      },
      "source": [
        "### **5.4. Remove low variance features**"
      ]
    },
    {
      "cell_type": "code",
      "execution_count": 12,
      "metadata": {
        "id": "wHh6_KoBaSgX"
      },
      "outputs": [],
      "source": [
        "# Create a VarianceThreshold object\n",
        "selector = VarianceThreshold(threshold=.01)\n",
        "\n",
        "# Fit the selector to the data and transform the data\n",
        "selector.fit_transform(X)\n",
        "\n",
        "# Get the indices of the selected features\n",
        "selected_indices = selector.get_support(indices=True)\n",
        "\n",
        "# Get the names of the selected features\n",
        "selected_features = X.columns[selected_indices]\n",
        "\n",
        "X_reduced = X[selected_features]"
      ]
    },
    {
      "cell_type": "code",
      "execution_count": 13,
      "metadata": {
        "id": "7A_sKkiiaSgY",
        "colab": {
          "base_uri": "https://localhost:8080/"
        },
        "outputId": "c608ee07-49b8-4bfa-87a4-90d78c542ba2"
      },
      "outputs": [
        {
          "output_type": "execute_result",
          "data": {
            "text/plain": [
              "((612, 881), (612, 428))"
            ]
          },
          "metadata": {},
          "execution_count": 13
        }
      ],
      "source": [
        "X.shape, X_reduced.shape"
      ]
    },
    {
      "cell_type": "markdown",
      "metadata": {
        "id": "AjhOlkOVhSxR"
      },
      "source": [
        "## **6. Data split (80/20 ratio)**"
      ]
    },
    {
      "cell_type": "code",
      "execution_count": 14,
      "metadata": {
        "id": "Be-1xtR_aSgZ"
      },
      "outputs": [],
      "source": [
        "n = np.arange(len(X_reduced))\n",
        "idx_train, idx_test = train_test_split(n, stratify=y, test_size=.2, random_state=seed)"
      ]
    },
    {
      "cell_type": "code",
      "execution_count": 15,
      "metadata": {
        "id": "yO0-rdxraSga"
      },
      "outputs": [],
      "source": [
        "X1_train, y1_train = X_reduced.loc[idx_train], y.loc[idx_train]\n",
        "X1_test, y1_test = X_reduced.loc[idx_test], y.loc[idx_test]"
      ]
    },
    {
      "cell_type": "code",
      "execution_count": 16,
      "metadata": {
        "id": "-mTBEdJzaSga",
        "colab": {
          "base_uri": "https://localhost:8080/"
        },
        "outputId": "3b59df14-fd0e-46bf-b522-598ab0d714cb"
      },
      "outputs": [
        {
          "output_type": "execute_result",
          "data": {
            "text/plain": [
              "((489, 428), (489,))"
            ]
          },
          "metadata": {},
          "execution_count": 16
        }
      ],
      "source": [
        "X1_train.shape, y1_train.shape"
      ]
    },
    {
      "cell_type": "code",
      "execution_count": 17,
      "metadata": {
        "id": "LJnMW1a-aSgb",
        "colab": {
          "base_uri": "https://localhost:8080/"
        },
        "outputId": "f7e5c2bf-caf2-42cc-8e86-e01c36dd40e9"
      },
      "outputs": [
        {
          "output_type": "execute_result",
          "data": {
            "text/plain": [
              "((123, 428), (123,))"
            ]
          },
          "metadata": {},
          "execution_count": 17
        }
      ],
      "source": [
        "X1_test.shape, y1_test.shape"
      ]
    },
    {
      "cell_type": "markdown",
      "metadata": {
        "id": "LKDG3FL2aSgb"
      },
      "source": [
        "\n",
        "\n",
        "---\n",
        "\n"
      ]
    },
    {
      "cell_type": "code",
      "execution_count": 18,
      "metadata": {
        "id": "nuAqsIWUaSgb"
      },
      "outputs": [],
      "source": [
        "X = X1_train.reset_index(drop=True)\n",
        "y = y1_train.reset_index(drop=True)\n",
        "X1_test = X1_test.reset_index(drop=True)\n",
        "y1_test = y1_test.reset_index(drop=True)"
      ]
    },
    {
      "cell_type": "code",
      "execution_count": 19,
      "metadata": {
        "id": "xq6n06GjaSgc"
      },
      "outputs": [],
      "source": [
        "n_samples, n_classes = X.shape[0], 2\n",
        "class_weights = dict(zip(np.unique(y), n_samples / (n_classes * np.bincount(y))))"
      ]
    },
    {
      "cell_type": "markdown",
      "metadata": {
        "id": "6oC9LSpsD9HN"
      },
      "source": [
        "## **7. Modeling**"
      ]
    },
    {
      "cell_type": "markdown",
      "metadata": {
        "id": "qNMPvtib-8aN"
      },
      "source": [
        "## **Logistic Regression**"
      ]
    },
    {
      "cell_type": "code",
      "execution_count": 20,
      "metadata": {
        "id": "fvl__jcwDJr5",
        "colab": {
          "base_uri": "https://localhost:8080/",
          "height": 1000
        },
        "outputId": "dc2c3f61-f51c-41d5-dfc5-2a92428fc6bc"
      },
      "outputs": [
        {
          "output_type": "stream",
          "name": "stdout",
          "text": [
            "Fitting 5 folds for each of 100 candidates, totalling 500 fits\n",
            "--------------------------------------------------------------------\n",
            "Best Score: 0.8548712690817954\n",
            "Best Hyperparameters: {'C': 0.5403916872521951, 'class_weight': 'balanced', 'max_iter': 297, 'penalty': 'l2', 'solver': 'liblinear'}\n",
            "Accuracy: 0.9183673469387755, Precision: 0.8695652173913043, Recall: 0.8, f1_score: 0.8333333333333333\n",
            "Fitting 5 folds for each of 100 candidates, totalling 500 fits\n",
            "--------------------------------------------------------------------\n",
            "Best Score: 0.8550303892409156\n",
            "Best Hyperparameters: {'C': 48.21086911696349, 'class_weight': None, 'max_iter': 187, 'penalty': 'none', 'solver': 'sag'}\n",
            "Accuracy: 0.9183673469387755, Precision: 0.8, Recall: 0.9230769230769231, f1_score: 0.8571428571428571\n",
            "Fitting 5 folds for each of 100 candidates, totalling 500 fits\n",
            "--------------------------------------------------------------------\n",
            "Best Score: 0.8646140536920243\n",
            "Best Hyperparameters: {'C': 76.04943648035129, 'class_weight': {0: 0.6772853185595568, 1: 1.91015625}, 'max_iter': 197, 'penalty': 'l2', 'solver': 'sag'}\n",
            "Accuracy: 0.9387755102040817, Precision: 0.9545454545454546, Recall: 0.8076923076923077, f1_score: 0.875\n",
            "Fitting 5 folds for each of 100 candidates, totalling 500 fits\n",
            "--------------------------------------------------------------------\n",
            "Best Score: 0.8435368850002997\n",
            "Best Hyperparameters: {'C': 2.1111442807251413, 'class_weight': {0: 0.6772853185595568, 1: 1.91015625}, 'max_iter': 222, 'penalty': 'l1', 'solver': 'liblinear'}\n",
            "Accuracy: 0.9285714285714286, Precision: 0.8064516129032258, Recall: 0.9615384615384616, f1_score: 0.8771929824561403\n",
            "Fitting 5 folds for each of 100 candidates, totalling 500 fits\n",
            "--------------------------------------------------------------------\n",
            "Best Score: 0.9041517054878666\n",
            "Best Hyperparameters: {'C': 39.64022033324019, 'class_weight': None, 'max_iter': 193, 'penalty': 'l2', 'solver': 'sag'}\n",
            "Accuracy: 0.8969072164948454, Precision: 0.8260869565217391, Recall: 0.76, f1_score: 0.7916666666666667\n"
          ]
        },
        {
          "output_type": "display_data",
          "data": {
            "text/plain": [
              "<Figure size 550x550 with 1 Axes>"
            ],
            "image/png": "[encoded data removed]"
          },
          "metadata": {}
        },
        {
          "output_type": "display_data",
          "data": {
            "text/plain": [
              "<Figure size 550x550 with 1 Axes>"
            ],
            "image/png": "[encoded data removed]"
          },
          "metadata": {}
        },
        {
          "output_type": "display_data",
          "data": {
            "text/plain": [
              "<Figure size 640x480 with 1 Axes>"
            ],
            "image/png": "[encoded data removed]"
          },
          "metadata": {}
        },
        {
          "output_type": "stream",
          "name": "stdout",
          "text": [
            "List of possible accuracy: \n",
            " [0.8333333333333333, 0.8571428571428571, 0.875, 0.8771929824561403, 0.7916666666666667]\n",
            "Maximum Accuracy That can be obtained from this model is: \n",
            " 87.71929824561403 %\n",
            "Minimum Accuracy: \n",
            " 79.16666666666667 %\n",
            "Overall Accuracy: \n",
            " 84.68671679197995 %\n",
            "Standard Deviation is: \n",
            " 0.035520983496959584\n",
            "List of possible accuracy for trainning: [98.20971867007673, 99.23273657289002, 98.9769820971867, 98.20971867007673, 99.23469387755102]\n",
            "List of possible accuracy for testing: [91.83673469387756, 91.83673469387756, 93.87755102040816, 92.85714285714286, 89.69072164948454]\n",
            "Mean Accuracy: 0.9201977698295813, Mean Precision: 0.8513298482723448, Mean Recall: 0.8504615384615384, Mean f1_score: 0.7916666666666667\n"
          ]
        }
      ],
      "source": [
        "from sklearn.linear_model import LogisticRegression\n",
        "\n",
        "clf1 = LogisticRegression()\n",
        "\n",
        "cross_val = StratifiedKFold(n_splits=5)\n",
        "\n",
        "fig, ax = plt.subplots(figsize=(5.5, 5.5))\n",
        "\n",
        "tprs, aucs, y_real, y_prob, prs = [], [], [], [], []\n",
        "\n",
        "mean_recall = np.linspace(0, 1, 100)\n",
        "    \n",
        "plt.figure(figsize=(5.5 , 5.5))\n",
        "\n",
        "accs, precs, recs, f1_scr = [], [], [], []\n",
        "\n",
        "mean_recall = np.linspace(0, 1, 100)\n",
        "mean_fpr = np.linspace(0, 1, 100)\n",
        "\n",
        "i=0\n",
        "\n",
        "space = dict()\n",
        "space['class_weight'] = [class_weights, None, 'balanced']\n",
        "space['solver'] = ['lbfgs', 'liblinear', 'newton-cg', 'sag']\n",
        "space['penalty'] = ['l1', 'l2', 'none']\n",
        "space['C'] = uniform(0.1, 100)\n",
        "space['max_iter'] = randint(100, 500)\n",
        "\n",
        "\n",
        "train_accuracy_list = []\n",
        "test_accuracy_list = []\n",
        "lst_accu_stratified = []\n",
        "\n",
        "index_iterator = cross_val.split(X, y)\n",
        "\n",
        "clf_random = RandomizedSearchCV(estimator=clf1, param_distributions=space, n_iter=100, scoring='f1', cv=cross_val, verbose=2, n_jobs=-1)\n",
        "for train_index, test_index in index_iterator:\n",
        "    X_train, X_test = X.loc[train_index], X.loc[test_index]\n",
        "    y_train, y_test = y.loc[train_index], y.loc[test_index]\n",
        "  \n",
        "    clf_random.fit(X_train, y_train)\n",
        "    pred_proba = clf_random.predict_proba(X_test)\n",
        "    \n",
        "    precision, recall, _ = precision_recall_curve(y_test, pred_proba[:, 1])\n",
        "    prs.append(interp(mean_recall, precision, recall))\n",
        "    pr_auc = auc(recall, precision)\n",
        "    aucs.append(pr_auc)\n",
        "    plt.plot(recall, precision, lw=3, alpha=0.5, label='Fold %d (AUCPR = %0.2f)' % (i+1, pr_auc))\n",
        "\n",
        "    viz = RocCurveDisplay.from_estimator(clf_random, X_test, y_test, name='ROC fold {}'.format(i+1), ax=ax, alpha=.3)\n",
        "\n",
        "    interp_tpr = np.interp(mean_fpr, viz.fpr, viz.tpr)\n",
        "    interp_tpr[0] = 0.0\n",
        "    tprs.append(interp_tpr)\n",
        "    aucs.append(viz.roc_auc)\n",
        "\n",
        "    lst_accu_stratified.append(clf_random.score(X_test, y_test))\n",
        "    y_train_pred = clf_random.predict(X_train)\n",
        "    train_accuracy = np.mean(y_train_pred.ravel() == y_train.ravel())*100\n",
        "    train_accuracy_list.append(train_accuracy)\n",
        "    y_test_pred = clf_random.predict(X_test)\n",
        "    test_accuracy = np.mean(y_test_pred.ravel() == y_test.ravel())*100\n",
        "    test_accuracy_list.append(test_accuracy)\n",
        "    print('--------------------------------------------------------------------')\n",
        "    print('Best Score: %s'.format(i) % clf_random.best_score_)\n",
        "    print('Best Hyperparameters: %s'.format(i) % clf_random.best_params_)\n",
        "    acc = accuracy_score(y_test, y_test_pred)\n",
        "    prec = precision_score(y_test, y_test_pred)\n",
        "    rec = recall_score(y_test, y_test_pred)\n",
        "    f1 = f1_score(y_test,y_test_pred)\n",
        "    accs.append(acc)\n",
        "    precs.append(prec)\n",
        "    recs.append(rec)\n",
        "    f1_scr.append(f1)\n",
        "    print(f'Accuracy: {acc}, Precision: {prec}, Recall: {rec}, f1_score: {f1}')\n",
        "    i=i+1\n",
        "\n",
        "\n",
        "ax.plot([0, 1], [0, 1], linestyle='--', lw=.7, color='black', label='Chance', alpha=.7)\n",
        "\n",
        "mean_tpr = np.mean(tprs, axis=0)\n",
        "mean_tpr[-1] = 1.0\n",
        "mean_auc = auc(mean_fpr, mean_tpr)\n",
        "std_auc = np.std(aucs)\n",
        "ax.plot(mean_fpr, mean_tpr, color='blue', label=r'Mean ROC (AUC = %0.2f $\\pm$ %0.2f)' % (mean_auc, std_auc), lw=.7, alpha=.7)\n",
        "\n",
        "std_tpr = np.std(tprs, axis=0)\n",
        "tprs_upper = np.minimum(mean_tpr + std_tpr, 1)\n",
        "tprs_lower = np.maximum(mean_tpr - std_tpr, 0)\n",
        "ax.fill_between(mean_fpr, tprs_lower, tprs_upper, color='grey', alpha=.7, label=r'$\\pm$ 1 std. dev.')\n",
        "\n",
        "ax.set(xlim=[-0.05, 1.05], ylim=[-0.05, 1.05], title=\"Receiver operating characteristic for LGBM\")\n",
        "ax.legend(loc=\"lower right\")\n",
        "plt.show()\n",
        "\n",
        "plt.plot([0, 1], [1, 0], linestyle='--', lw=.7, color='k', label='Luck', alpha=.7)\n",
        "mean_precision = np.mean(prs, axis=0)\n",
        "mean_auc = auc(mean_recall, mean_precision)\n",
        "std_auc = np.std(aucs)\n",
        "plt.plot(mean_precision, mean_recall, color='navy',label=r'Mean (AUCPR = %0.3f $\\pm$ %0.2f)' % (mean_auc, std_auc),lw=4)\n",
        "    \n",
        "plt.xlim([-0.05, 1.05])\n",
        "plt.ylim([-0.05, 1.05])\n",
        "plt.xlabel('Recall' ,  fontweight = \"bold\" , fontsize=10)\n",
        "plt.ylabel('Precision',fontweight = \"bold\" , fontsize=10)\n",
        "plt.tick_params(axis='both', which='major', labelsize=10)\n",
        "plt.legend( prop={'size':10} , loc = 0)\n",
        "plt.show()\n",
        "\n",
        "from statistics import mean\n",
        "from statistics import stdev\n",
        "\n",
        "print('List of possible accuracy: \\n', lst_accu_stratified)\n",
        "print('Maximum Accuracy That can be obtained from this model is: \\n', max(lst_accu_stratified)*100, '%')\n",
        "print('Minimum Accuracy: \\n', min(lst_accu_stratified)*100, '%')\n",
        "print('Overall Accuracy: \\n', mean(lst_accu_stratified)*100, '%')\n",
        "print('Standard Deviation is: \\n', stdev(lst_accu_stratified))\n",
        "\n",
        "print('List of possible accuracy for trainning:', train_accuracy_list)\n",
        "print('List of possible accuracy for testing:', test_accuracy_list)\n",
        "\n",
        "print(f'Mean Accuracy: {np.mean(accs)}, Mean Precision: {np.mean(precs)}, Mean Recall: {np.mean(recs)}, Mean f1_score: {np.mean(f1)}')"
      ]
    },
    {
      "cell_type": "code",
      "execution_count": 24,
      "metadata": {
        "id": "8UnaANLsK6YJ"
      },
      "outputs": [],
      "source": [
        "model1 = LogisticRegression(C=2.1111442807251413, class_weight={0: 0.6772853185595568, 1: 1.91015625},\n",
        "                            max_iter=222, penalty='l1', solver='liblinear').fit(X1_train, y1_train)"
      ]
    },
    {
      "cell_type": "code",
      "execution_count": 25,
      "metadata": {
        "id": "gcNsQMtYK3KK",
        "colab": {
          "base_uri": "https://localhost:8080/",
          "height": 1000
        },
        "outputId": "44d3af7e-eff9-436d-e218-9de1d7c3ec7b"
      },
      "outputs": [
        {
          "output_type": "display_data",
          "data": {
            "text/plain": [
              "<Figure size 640x480 with 1 Axes>"
            ],
            "image/png": "[encoded data removed]"
          },
          "metadata": {}
        },
        {
          "output_type": "display_data",
          "data": {
            "text/plain": [
              "<Figure size 640x480 with 1 Axes>"
            ],
            "image/png": "[encoded data removed]"
          },
          "metadata": {}
        },
        {
          "output_type": "stream",
          "name": "stdout",
          "text": [
            "Train Result:\n",
            "================================================\n",
            "Accuracy Score: 97.75%\n",
            "_______________________________________________\n",
            "CLASSIFICATION REPORT:\n",
            "                    0           1  accuracy   macro avg  weighted avg\n",
            "precision    0.997159    0.927007  0.977505    0.962083      0.978796\n",
            "recall       0.972299    0.992188  0.977505    0.982243      0.977505\n",
            "f1-score     0.984572    0.958491  0.977505    0.971531      0.977745\n",
            "support    361.000000  128.000000  0.977505  489.000000    489.000000\n",
            "_______________________________________________\n",
            "Confusion Matrix: \n",
            " [[351  10]\n",
            " [  1 127]]\n",
            "\n",
            "Test Result:\n",
            "================================================\n",
            "Accuracy Score: 92.68%\n",
            "_______________________________________________\n",
            "CLASSIFICATION REPORT:\n",
            "                   0          1  accuracy   macro avg  weighted avg\n",
            "precision   0.976744   0.810811  0.926829    0.893777      0.933575\n",
            "recall      0.923077   0.937500  0.926829    0.930288      0.926829\n",
            "f1-score    0.949153   0.869565  0.926829    0.909359      0.928447\n",
            "support    91.000000  32.000000  0.926829  123.000000    123.000000\n",
            "_______________________________________________\n",
            "Confusion Matrix: \n",
            " [[84  7]\n",
            " [ 2 30]]\n",
            "\n",
            "Train Result:\n",
            "================================================\n",
            "Accuracy Score: 97.75%\n",
            "_______________________________________________\n",
            "CLASSIFICATION REPORT:\n",
            "                    0           1  accuracy   macro avg  weighted avg\n",
            "precision    0.997159    0.927007  0.977505    0.962083      0.978796\n",
            "recall       0.972299    0.992188  0.977505    0.982243      0.977505\n",
            "f1-score     0.984572    0.958491  0.977505    0.971531      0.977745\n",
            "support    361.000000  128.000000  0.977505  489.000000    489.000000\n",
            "_______________________________________________\n",
            "Confusion Matrix: \n",
            " [[351  10]\n",
            " [  1 127]]\n",
            "\n"
          ]
        },
        {
          "output_type": "execute_result",
          "data": {
            "text/plain": [
              "                 Model  f1_score       auc    auc_pr  recall_classe(0)  \\\n",
              "0  Logistic Regression  0.869565  0.939217  0.884575          0.923077   \n",
              "\n",
              "   recall_classe(1)  precision_classe(0)  precision_classe(1)  \n",
              "0            0.9375             0.976744             0.810811  "
            ],
            "text/html": [
              "\n",
              "  <div id=\"df-a5b5bca5-2fb5-41dd-ac68-74100885ce8a\">\n",
              "    <div class=\"colab-df-container\">\n",
              "      <div>\n",
              "<style scoped>\n",
              "    .dataframe tbody tr th:only-of-type {\n",
              "        vertical-align: middle;\n",
              "    }\n",
              "\n",
              "    .dataframe tbody tr th {\n",
              "        vertical-align: top;\n",
              "    }\n",
              "\n",
              "    .dataframe thead th {\n",
              "        text-align: right;\n",
              "    }\n",
              "</style>\n",
              "<table border=\"1\" class=\"dataframe\">\n",
              "  <thead>\n",
              "    <tr style=\"text-align: right;\">\n",
              "      <th></th>\n",
              "      <th>Model</th>\n",
              "      <th>f1_score</th>\n",
              "      <th>auc</th>\n",
              "      <th>auc_pr</th>\n",
              "      <th>recall_classe(0)</th>\n",
              "      <th>recall_classe(1)</th>\n",
              "      <th>precision_classe(0)</th>\n",
              "      <th>precision_classe(1)</th>\n",
              "    </tr>\n",
              "  </thead>\n",
              "  <tbody>\n",
              "    <tr>\n",
              "      <th>0</th>\n",
              "      <td>Logistic Regression</td>\n",
              "      <td>0.869565</td>\n",
              "      <td>0.939217</td>\n",
              "      <td>0.884575</td>\n",
              "      <td>0.923077</td>\n",
              "      <td>0.9375</td>\n",
              "      <td>0.976744</td>\n",
              "      <td>0.810811</td>\n",
              "    </tr>\n",
              "  </tbody>\n",
              "</table>\n",
              "</div>\n",
              "      <button class=\"colab-df-convert\" onclick=\"convertToInteractive('df-a5b5bca5-2fb5-41dd-ac68-74100885ce8a')\"\n",
              "              title=\"Convert this dataframe to an interactive table.\"\n",
              "              style=\"display:none;\">\n",
              "        \n",
              "  <svg xmlns=\"http://www.w3.org/2000/svg\" height=\"24px\"viewBox=\"0 0 24 24\"\n",
              "       width=\"24px\">\n",
              "    <path d=\"M0 0h24v24H0V0z\" fill=\"none\"/>\n",
              "    <path d=\"M18.56 5.44l.94 2.06.94-2.06 2.06-.94-2.06-.94-.94-2.06-.94 2.06-2.06.94zm-11 1L8.5 8.5l.94-2.06 2.06-.94-2.06-.94L8.5 2.5l-.94 2.06-2.06.94zm10 10l.94 2.06.94-2.06 2.06-.94-2.06-.94-.94-2.06-.94 2.06-2.06.94z\"/><path d=\"M17.41 7.96l-1.37-1.37c-.4-.4-.92-.59-1.43-.59-.52 0-1.04.2-1.43.59L10.3 9.45l-7.72 7.72c-.78.78-.78 2.05 0 2.83L4 21.41c.39.39.9.59 1.41.59.51 0 1.02-.2 1.41-.59l7.78-7.78 2.81-2.81c.8-.78.8-2.07 0-2.86zM5.41 20L4 18.59l7.72-7.72 1.47 1.35L5.41 20z\"/>\n",
              "  </svg>\n",
              "      </button>\n",
              "      \n",
              "  <style>\n",
              "    .colab-df-container {\n",
              "      display:flex;\n",
              "      flex-wrap:wrap;\n",
              "      gap: 12px;\n",
              "    }\n",
              "\n",
              "    .colab-df-convert {\n",
              "      background-color: #E8F0FE;\n",
              "      border: none;\n",
              "      border-radius: 50%;\n",
              "      cursor: pointer;\n",
              "      display: none;\n",
              "      fill: #1967D2;\n",
              "      height: 32px;\n",
              "      padding: 0 0 0 0;\n",
              "      width: 32px;\n",
              "    }\n",
              "\n",
              "    .colab-df-convert:hover {\n",
              "      background-color: #E2EBFA;\n",
              "      box-shadow: 0px 1px 2px rgba(60, 64, 67, 0.3), 0px 1px 3px 1px rgba(60, 64, 67, 0.15);\n",
              "      fill: #174EA6;\n",
              "    }\n",
              "\n",
              "    [theme=dark] .colab-df-convert {\n",
              "      background-color: #3B4455;\n",
              "      fill: #D2E3FC;\n",
              "    }\n",
              "\n",
              "    [theme=dark] .colab-df-convert:hover {\n",
              "      background-color: #434B5C;\n",
              "      box-shadow: 0px 1px 3px 1px rgba(0, 0, 0, 0.15);\n",
              "      filter: drop-shadow(0px 1px 2px rgba(0, 0, 0, 0.3));\n",
              "      fill: #FFFFFF;\n",
              "    }\n",
              "  </style>\n",
              "\n",
              "      <script>\n",
              "        const buttonEl =\n",
              "          document.querySelector('#df-a5b5bca5-2fb5-41dd-ac68-74100885ce8a button.colab-df-convert');\n",
              "        buttonEl.style.display =\n",
              "          google.colab.kernel.accessAllowed ? 'block' : 'none';\n",
              "\n",
              "        async function convertToInteractive(key) {\n",
              "          const element = document.querySelector('#df-a5b5bca5-2fb5-41dd-ac68-74100885ce8a');\n",
              "          const dataTable =\n",
              "            await google.colab.kernel.invokeFunction('convertToInteractive',\n",
              "                                                     [key], {});\n",
              "          if (!dataTable) return;\n",
              "\n",
              "          const docLinkHtml = 'Like what you see? Visit the ' +\n",
              "            '<a target=\"_blank\" href=https://colab.research.google.com/notebooks/data_table.ipynb>data table notebook</a>'\n",
              "            + ' to learn more about interactive tables.';\n",
              "          element.innerHTML = '';\n",
              "          dataTable['output_type'] = 'display_data';\n",
              "          await google.colab.output.renderOutput(dataTable, element);\n",
              "          const docLink = document.createElement('div');\n",
              "          docLink.innerHTML = docLinkHtml;\n",
              "          element.appendChild(docLink);\n",
              "        }\n",
              "      </script>\n",
              "    </div>\n",
              "  </div>\n",
              "  "
            ]
          },
          "metadata": {},
          "execution_count": 25
        }
      ],
      "source": [
        "clf = print_auc(model1, X1_train, y1_train, X1_test, y1_test, 'Logistic Regression')\n",
        "results_df = pd.DataFrame(data=[['Logistic Regression', clf['f1'], clf['auc'], clf['auc_pr'], clf['recall_sc'][0], clf['recall_sc'][1], clf['precision_sc'][0], clf['precision_sc'][1]]], \n",
        "                          columns=['Model', 'f1_score', 'auc', 'auc_pr', 'recall_classe(0)', 'recall_classe(1)', 'precision_classe(0)', 'precision_classe(1)'])\n",
        "\n",
        "results_df.style.hide_index()"
      ]
    },
    {
      "cell_type": "markdown",
      "metadata": {
        "id": "zLKEYo31Y18n"
      },
      "source": [
        "## **SVC**"
      ]
    },
    {
      "cell_type": "code",
      "execution_count": 26,
      "metadata": {
        "id": "sdS3wufBZEJn",
        "colab": {
          "base_uri": "https://localhost:8080/",
          "height": 1000
        },
        "outputId": "da99f756-ac73-4f7e-cfda-b29250753600"
      },
      "outputs": [
        {
          "output_type": "stream",
          "name": "stdout",
          "text": [
            "Fitting 5 folds for each of 100 candidates, totalling 500 fits\n",
            "--------------------------------------------------------------------\n",
            "Best Score: 0.8995184055876058\n",
            "Best Hyperparameters: {'C': 84.71206046236264, 'class_weight': 'balanced', 'degree': 4, 'gamma': 'auto'}\n",
            "Accuracy: 0.9285714285714286, Precision: 0.875, Recall: 0.84, f1_score: 0.8571428571428572\n",
            "Fitting 5 folds for each of 100 candidates, totalling 500 fits\n",
            "--------------------------------------------------------------------\n",
            "Best Score: 0.8705461442303548\n",
            "Best Hyperparameters: {'C': 41.5448042408726, 'class_weight': None, 'degree': 4, 'gamma': 'auto'}\n",
            "Accuracy: 0.9387755102040817, Precision: 0.8571428571428571, Recall: 0.9230769230769231, f1_score: 0.888888888888889\n",
            "Fitting 5 folds for each of 100 candidates, totalling 500 fits\n",
            "--------------------------------------------------------------------\n",
            "Best Score: 0.8933562643318741\n",
            "Best Hyperparameters: {'C': 12.712219946447457, 'class_weight': 'balanced', 'degree': 2, 'gamma': 'auto'}\n",
            "Accuracy: 0.9591836734693877, Precision: 1.0, Recall: 0.8461538461538461, f1_score: 0.9166666666666666\n",
            "Fitting 5 folds for each of 100 candidates, totalling 500 fits\n",
            "--------------------------------------------------------------------\n",
            "Best Score: 0.8850652483146761\n",
            "Best Hyperparameters: {'C': 7.551662262662662, 'class_weight': {0: 0.6772853185595568, 1: 1.91015625}, 'degree': 2, 'gamma': 'auto'}\n",
            "Accuracy: 0.9489795918367347, Precision: 0.8888888888888888, Recall: 0.9230769230769231, f1_score: 0.9056603773584906\n",
            "Fitting 5 folds for each of 100 candidates, totalling 500 fits\n",
            "--------------------------------------------------------------------\n",
            "Best Score: 0.9113598734771541\n",
            "Best Hyperparameters: {'C': 9.698763686925693, 'class_weight': 'balanced', 'degree': 4, 'gamma': 'scale'}\n",
            "Accuracy: 0.9072164948453608, Precision: 0.8076923076923077, Recall: 0.84, f1_score: 0.8235294117647058\n"
          ]
        },
        {
          "output_type": "display_data",
          "data": {
            "text/plain": [
              "<Figure size 550x550 with 1 Axes>"
            ],
            "image/png": "[encoded data removed]"
          },
          "metadata": {}
        },
        {
          "output_type": "display_data",
          "data": {
            "text/plain": [
              "<Figure size 550x550 with 1 Axes>"
            ],
            "image/png": "[encoded data removed]"
          },
          "metadata": {}
        },
        {
          "output_type": "display_data",
          "data": {
            "text/plain": [
              "<Figure size 640x480 with 1 Axes>"
            ],
            "image/png": "[encoded data removed]"
          },
          "metadata": {}
        },
        {
          "output_type": "stream",
          "name": "stdout",
          "text": [
            "List of possible accuracy: \n",
            " [0.8571428571428572, 0.888888888888889, 0.9166666666666666, 0.9056603773584906, 0.8235294117647058]\n",
            "Maximum Accuracy That can be obtained from this model is: \n",
            " 91.66666666666666 %\n",
            "Minimum Accuracy: \n",
            " 82.35294117647058 %\n",
            "Overall Accuracy: \n",
            " 87.83776403643219 %\n",
            "Standard Deviation is: \n",
            " 0.03801357592228788\n",
            "List of possible accuracy for trainning: [98.9769820971867, 98.72122762148338, 96.9309462915601, 95.65217391304348, 99.48979591836735]\n",
            "List of possible accuracy for testing: [92.85714285714286, 93.87755102040816, 95.91836734693877, 94.89795918367348, 90.72164948453609]\n",
            "Mean Accuracy: 0.9365453397853987, Mean Precision: 0.8857448107448107, Mean Recall: 0.8744615384615384, Mean f1_score: 0.8235294117647058\n"
          ]
        }
      ],
      "source": [
        "from sklearn.svm import SVC  \n",
        "\n",
        "clf1 = SVC(probability=True)\n",
        "\n",
        "cross_val = StratifiedKFold(n_splits=5)\n",
        "\n",
        "fig, ax = plt.subplots(figsize=(5.5, 5.5))\n",
        "\n",
        "tprs, aucs, y_real, y_prob, prs = [], [], [], [], []\n",
        "\n",
        "mean_recall = np.linspace(0, 1, 100)\n",
        "    \n",
        "plt.figure(figsize=(5.5 , 5.5))\n",
        "\n",
        "accs, precs, recs, f1_scr = [], [], [], []\n",
        "\n",
        "mean_recall = np.linspace(0, 1, 100)\n",
        "mean_fpr = np.linspace(0, 1, 100)\n",
        "\n",
        "i=0\n",
        "\n",
        "param_grid = {'C': uniform(0.1, 100),\n",
        "              'degree': randint(2, 5),\n",
        "              'gamma': ['scale', 'auto'],\n",
        "              'class_weight': [None, 'balanced', class_weights]}\n",
        "\n",
        "train_accuracy_list = []\n",
        "test_accuracy_list = []\n",
        "lst_accu_stratified = []\n",
        "\n",
        "index_iterator = cross_val.split(X, y)\n",
        "\n",
        "clf_random = clf_random = RandomizedSearchCV(estimator=clf1, param_distributions=param_grid, n_iter=100, scoring='f1', cv=cross_val, verbose=2, n_jobs=-1)\n",
        "for train_index, test_index in index_iterator:\n",
        "    X_train, X_test = X.loc[train_index], X.loc[test_index]\n",
        "    y_train, y_test = y.loc[train_index], y.loc[test_index]\n",
        "  \n",
        "    clf_random.fit(X_train, y_train)\n",
        "    pred_proba = clf_random.predict_proba(X_test)\n",
        "    \n",
        "    precision, recall, _ = precision_recall_curve(y_test, pred_proba[:, 1])\n",
        "    prs.append(interp(mean_recall, precision, recall))\n",
        "    pr_auc = auc(recall, precision)\n",
        "    aucs.append(pr_auc)\n",
        "    plt.plot(recall, precision, lw=3, alpha=0.5, label='Fold %d (AUCPR = %0.2f)' % (i+1, pr_auc))\n",
        "\n",
        "    viz = RocCurveDisplay.from_estimator(clf_random, X_test, y_test, name='ROC fold {}'.format(i+1), ax=ax, alpha=.3)\n",
        "\n",
        "    interp_tpr = np.interp(mean_fpr, viz.fpr, viz.tpr)\n",
        "    interp_tpr[0] = 0.0\n",
        "    tprs.append(interp_tpr)\n",
        "    aucs.append(viz.roc_auc)\n",
        "\n",
        "    lst_accu_stratified.append(clf_random.score(X_test, y_test))\n",
        "    y_train_pred = clf_random.predict(X_train)\n",
        "    train_accuracy = np.mean(y_train_pred.ravel() == y_train.ravel())*100\n",
        "    train_accuracy_list.append(train_accuracy)\n",
        "    y_test_pred = clf_random.predict(X_test)\n",
        "    test_accuracy = np.mean(y_test_pred.ravel() == y_test.ravel())*100\n",
        "    test_accuracy_list.append(test_accuracy)\n",
        "    print('--------------------------------------------------------------------')\n",
        "    print('Best Score: %s'.format(i) % clf_random.best_score_)\n",
        "    print('Best Hyperparameters: %s'.format(i) % clf_random.best_params_)\n",
        "    acc = accuracy_score(y_test, y_test_pred)\n",
        "    prec = precision_score(y_test, y_test_pred)\n",
        "    rec = recall_score(y_test, y_test_pred)\n",
        "    f1 = f1_score(y_test,y_test_pred)\n",
        "    accs.append(acc)\n",
        "    precs.append(prec)\n",
        "    recs.append(rec)\n",
        "    f1_scr.append(f1)\n",
        "    print(f'Accuracy: {acc}, Precision: {prec}, Recall: {rec}, f1_score: {f1}')\n",
        "    i=i+1\n",
        "\n",
        "\n",
        "ax.plot([0, 1], [0, 1], linestyle='--', lw=.7, color='black', label='Chance', alpha=.7)\n",
        "\n",
        "mean_tpr = np.mean(tprs, axis=0)\n",
        "mean_tpr[-1] = 1.0\n",
        "mean_auc = auc(mean_fpr, mean_tpr)\n",
        "std_auc = np.std(aucs)\n",
        "ax.plot(mean_fpr, mean_tpr, color='blue', label=r'Mean ROC (AUC = %0.2f $\\pm$ %0.2f)' % (mean_auc, std_auc), lw=.7, alpha=.7)\n",
        "\n",
        "std_tpr = np.std(tprs, axis=0)\n",
        "tprs_upper = np.minimum(mean_tpr + std_tpr, 1)\n",
        "tprs_lower = np.maximum(mean_tpr - std_tpr, 0)\n",
        "ax.fill_between(mean_fpr, tprs_lower, tprs_upper, color='grey', alpha=.7, label=r'$\\pm$ 1 std. dev.')\n",
        "\n",
        "ax.set(xlim=[-0.05, 1.05], ylim=[-0.05, 1.05], title=\"Receiver operating characteristic for LGBM\")\n",
        "ax.legend(loc=\"lower right\")\n",
        "plt.show()\n",
        "\n",
        "plt.plot([0, 1], [1, 0], linestyle='--', lw=.7, color='k', label='Luck', alpha=.7)\n",
        "mean_precision = np.mean(prs, axis=0)\n",
        "mean_auc = auc(mean_recall, mean_precision)\n",
        "std_auc = np.std(aucs)\n",
        "plt.plot(mean_precision, mean_recall, color='navy',label=r'Mean (AUCPR = %0.3f $\\pm$ %0.2f)' % (mean_auc, std_auc),lw=4)\n",
        "    \n",
        "plt.xlim([-0.05, 1.05])\n",
        "plt.ylim([-0.05, 1.05])\n",
        "plt.xlabel('Recall' ,  fontweight = \"bold\" , fontsize=10)\n",
        "plt.ylabel('Precision',fontweight = \"bold\" , fontsize=10)\n",
        "plt.tick_params(axis='both', which='major', labelsize=10)\n",
        "plt.legend( prop={'size':10} , loc = 0)\n",
        "plt.show()\n",
        "\n",
        "from statistics import mean\n",
        "from statistics import stdev\n",
        "\n",
        "print('List of possible accuracy: \\n', lst_accu_stratified)\n",
        "print('Maximum Accuracy That can be obtained from this model is: \\n', max(lst_accu_stratified)*100, '%')\n",
        "print('Minimum Accuracy: \\n', min(lst_accu_stratified)*100, '%')\n",
        "print('Overall Accuracy: \\n', mean(lst_accu_stratified)*100, '%')\n",
        "print('Standard Deviation is: \\n', stdev(lst_accu_stratified))\n",
        "\n",
        "print('List of possible accuracy for trainning:', train_accuracy_list)\n",
        "print('List of possible accuracy for testing:', test_accuracy_list)\n",
        "\n",
        "print(f'Mean Accuracy: {np.mean(accs)}, Mean Precision: {np.mean(precs)}, Mean Recall: {np.mean(recs)}, Mean f1_score: {np.mean(f1)}')"
      ]
    },
    {
      "cell_type": "code",
      "execution_count": 27,
      "metadata": {
        "id": "S-keDIf0c1rY"
      },
      "outputs": [],
      "source": [
        "model2 = SVC(C=12.712219946447457, kernel='rbf', gamma='auto', class_weight='balanced', probability=True, degree=2).fit(X1_train, y1_train)"
      ]
    },
    {
      "cell_type": "code",
      "execution_count": 28,
      "metadata": {
        "id": "NoGvPg8-dMci",
        "colab": {
          "base_uri": "https://localhost:8080/",
          "height": 1000
        },
        "outputId": "163c8b90-a70c-4762-876a-431a1f1eef82"
      },
      "outputs": [
        {
          "output_type": "display_data",
          "data": {
            "text/plain": [
              "<Figure size 640x480 with 1 Axes>"
            ],
            "image/png": "[encoded data removed]"
          },
          "metadata": {}
        },
        {
          "output_type": "display_data",
          "data": {
            "text/plain": [
              "<Figure size 640x480 with 1 Axes>"
            ],
            "image/png": "[encoded data removed]"
          },
          "metadata": {}
        },
        {
          "output_type": "stream",
          "name": "stdout",
          "text": [
            "Train Result:\n",
            "================================================\n",
            "Accuracy Score: 96.32%\n",
            "_______________________________________________\n",
            "CLASSIFICATION REPORT:\n",
            "                    0           1  accuracy   macro avg  weighted avg\n",
            "precision    0.983099    0.910448   0.96319    0.946773      0.964082\n",
            "recall       0.966759    0.953125   0.96319    0.959942      0.963190\n",
            "f1-score     0.974860    0.931298   0.96319    0.953079      0.963457\n",
            "support    361.000000  128.000000   0.96319  489.000000    489.000000\n",
            "_______________________________________________\n",
            "Confusion Matrix: \n",
            " [[349  12]\n",
            " [  6 122]]\n",
            "\n",
            "Test Result:\n",
            "================================================\n",
            "Accuracy Score: 93.50%\n",
            "_______________________________________________\n",
            "CLASSIFICATION REPORT:\n",
            "                   0          1  accuracy   macro avg  weighted avg\n",
            "precision   0.966292   0.852941  0.934959    0.909617      0.936802\n",
            "recall      0.945055   0.906250  0.934959    0.925652      0.934959\n",
            "f1-score    0.955556   0.878788  0.934959    0.917172      0.935583\n",
            "support    91.000000  32.000000  0.934959  123.000000    123.000000\n",
            "_______________________________________________\n",
            "Confusion Matrix: \n",
            " [[86  5]\n",
            " [ 3 29]]\n",
            "\n",
            "Train Result:\n",
            "================================================\n",
            "Accuracy Score: 96.32%\n",
            "_______________________________________________\n",
            "CLASSIFICATION REPORT:\n",
            "                    0           1  accuracy   macro avg  weighted avg\n",
            "precision    0.983099    0.910448   0.96319    0.946773      0.964082\n",
            "recall       0.966759    0.953125   0.96319    0.959942      0.963190\n",
            "f1-score     0.974860    0.931298   0.96319    0.953079      0.963457\n",
            "support    361.000000  128.000000   0.96319  489.000000    489.000000\n",
            "_______________________________________________\n",
            "Confusion Matrix: \n",
            " [[349  12]\n",
            " [  6 122]]\n",
            "\n"
          ]
        },
        {
          "output_type": "execute_result",
          "data": {
            "text/plain": [
              "                 Model  f1_score       auc    auc_pr  recall_classe(0)  \\\n",
              "0  Logistic Regression  0.869565  0.939217  0.884575          0.923077   \n",
              "0                  SVM  0.878788  0.942995  0.932269          0.945055   \n",
              "\n",
              "   recall_classe(1)  precision_classe(0)  precision_classe(1)  \n",
              "0           0.93750             0.976744             0.810811  \n",
              "0           0.90625             0.966292             0.852941  "
            ],
            "text/html": [
              "\n",
              "  <div id=\"df-1f99d50f-1e2b-4e92-a57a-cc9c46777cf2\">\n",
              "    <div class=\"colab-df-container\">\n",
              "      <div>\n",
              "<style scoped>\n",
              "    .dataframe tbody tr th:only-of-type {\n",
              "        vertical-align: middle;\n",
              "    }\n",
              "\n",
              "    .dataframe tbody tr th {\n",
              "        vertical-align: top;\n",
              "    }\n",
              "\n",
              "    .dataframe thead th {\n",
              "        text-align: right;\n",
              "    }\n",
              "</style>\n",
              "<table border=\"1\" class=\"dataframe\">\n",
              "  <thead>\n",
              "    <tr style=\"text-align: right;\">\n",
              "      <th></th>\n",
              "      <th>Model</th>\n",
              "      <th>f1_score</th>\n",
              "      <th>auc</th>\n",
              "      <th>auc_pr</th>\n",
              "      <th>recall_classe(0)</th>\n",
              "      <th>recall_classe(1)</th>\n",
              "      <th>precision_classe(0)</th>\n",
              "      <th>precision_classe(1)</th>\n",
              "    </tr>\n",
              "  </thead>\n",
              "  <tbody>\n",
              "    <tr>\n",
              "      <th>0</th>\n",
              "      <td>Logistic Regression</td>\n",
              "      <td>0.869565</td>\n",
              "      <td>0.939217</td>\n",
              "      <td>0.884575</td>\n",
              "      <td>0.923077</td>\n",
              "      <td>0.93750</td>\n",
              "      <td>0.976744</td>\n",
              "      <td>0.810811</td>\n",
              "    </tr>\n",
              "    <tr>\n",
              "      <th>0</th>\n",
              "      <td>SVM</td>\n",
              "      <td>0.878788</td>\n",
              "      <td>0.942995</td>\n",
              "      <td>0.932269</td>\n",
              "      <td>0.945055</td>\n",
              "      <td>0.90625</td>\n",
              "      <td>0.966292</td>\n",
              "      <td>0.852941</td>\n",
              "    </tr>\n",
              "  </tbody>\n",
              "</table>\n",
              "</div>\n",
              "      <button class=\"colab-df-convert\" onclick=\"convertToInteractive('df-1f99d50f-1e2b-4e92-a57a-cc9c46777cf2')\"\n",
              "              title=\"Convert this dataframe to an interactive table.\"\n",
              "              style=\"display:none;\">\n",
              "        \n",
              "  <svg xmlns=\"http://www.w3.org/2000/svg\" height=\"24px\"viewBox=\"0 0 24 24\"\n",
              "       width=\"24px\">\n",
              "    <path d=\"M0 0h24v24H0V0z\" fill=\"none\"/>\n",
              "    <path d=\"M18.56 5.44l.94 2.06.94-2.06 2.06-.94-2.06-.94-.94-2.06-.94 2.06-2.06.94zm-11 1L8.5 8.5l.94-2.06 2.06-.94-2.06-.94L8.5 2.5l-.94 2.06-2.06.94zm10 10l.94 2.06.94-2.06 2.06-.94-2.06-.94-.94-2.06-.94 2.06-2.06.94z\"/><path d=\"M17.41 7.96l-1.37-1.37c-.4-.4-.92-.59-1.43-.59-.52 0-1.04.2-1.43.59L10.3 9.45l-7.72 7.72c-.78.78-.78 2.05 0 2.83L4 21.41c.39.39.9.59 1.41.59.51 0 1.02-.2 1.41-.59l7.78-7.78 2.81-2.81c.8-.78.8-2.07 0-2.86zM5.41 20L4 18.59l7.72-7.72 1.47 1.35L5.41 20z\"/>\n",
              "  </svg>\n",
              "      </button>\n",
              "      \n",
              "  <style>\n",
              "    .colab-df-container {\n",
              "      display:flex;\n",
              "      flex-wrap:wrap;\n",
              "      gap: 12px;\n",
              "    }\n",
              "\n",
              "    .colab-df-convert {\n",
              "      background-color: #E8F0FE;\n",
              "      border: none;\n",
              "      border-radius: 50%;\n",
              "      cursor: pointer;\n",
              "      display: none;\n",
              "      fill: #1967D2;\n",
              "      height: 32px;\n",
              "      padding: 0 0 0 0;\n",
              "      width: 32px;\n",
              "    }\n",
              "\n",
              "    .colab-df-convert:hover {\n",
              "      background-color: #E2EBFA;\n",
              "      box-shadow: 0px 1px 2px rgba(60, 64, 67, 0.3), 0px 1px 3px 1px rgba(60, 64, 67, 0.15);\n",
              "      fill: #174EA6;\n",
              "    }\n",
              "\n",
              "    [theme=dark] .colab-df-convert {\n",
              "      background-color: #3B4455;\n",
              "      fill: #D2E3FC;\n",
              "    }\n",
              "\n",
              "    [theme=dark] .colab-df-convert:hover {\n",
              "      background-color: #434B5C;\n",
              "      box-shadow: 0px 1px 3px 1px rgba(0, 0, 0, 0.15);\n",
              "      filter: drop-shadow(0px 1px 2px rgba(0, 0, 0, 0.3));\n",
              "      fill: #FFFFFF;\n",
              "    }\n",
              "  </style>\n",
              "\n",
              "      <script>\n",
              "        const buttonEl =\n",
              "          document.querySelector('#df-1f99d50f-1e2b-4e92-a57a-cc9c46777cf2 button.colab-df-convert');\n",
              "        buttonEl.style.display =\n",
              "          google.colab.kernel.accessAllowed ? 'block' : 'none';\n",
              "\n",
              "        async function convertToInteractive(key) {\n",
              "          const element = document.querySelector('#df-1f99d50f-1e2b-4e92-a57a-cc9c46777cf2');\n",
              "          const dataTable =\n",
              "            await google.colab.kernel.invokeFunction('convertToInteractive',\n",
              "                                                     [key], {});\n",
              "          if (!dataTable) return;\n",
              "\n",
              "          const docLinkHtml = 'Like what you see? Visit the ' +\n",
              "            '<a target=\"_blank\" href=https://colab.research.google.com/notebooks/data_table.ipynb>data table notebook</a>'\n",
              "            + ' to learn more about interactive tables.';\n",
              "          element.innerHTML = '';\n",
              "          dataTable['output_type'] = 'display_data';\n",
              "          await google.colab.output.renderOutput(dataTable, element);\n",
              "          const docLink = document.createElement('div');\n",
              "          docLink.innerHTML = docLinkHtml;\n",
              "          element.appendChild(docLink);\n",
              "        }\n",
              "      </script>\n",
              "    </div>\n",
              "  </div>\n",
              "  "
            ]
          },
          "metadata": {},
          "execution_count": 28
        }
      ],
      "source": [
        "clf = print_auc(model2, X1_train, y1_train, X1_test, y1_test, 'SVM')\n",
        "results_df2 = pd.DataFrame(data=[['SVM', clf['f1'], clf['auc'], clf['auc_pr'], clf['recall_sc'][0], clf['recall_sc'][1], clf['precision_sc'][0], clf['precision_sc'][1]]],  \n",
        "                          columns=['Model', 'f1_score', 'auc','auc_pr','recall_classe(0)','recall_classe(1)','precision_classe(0)','precision_classe(1)'])\n",
        "results_df = results_df.append(results_df2)\n",
        "\n",
        "results_df.style.hide_index()"
      ]
    },
    {
      "cell_type": "markdown",
      "metadata": {
        "id": "5r0M0flGeNgv"
      },
      "source": [
        "## **Gradient Boosting Classifier**"
      ]
    },
    {
      "cell_type": "code",
      "execution_count": 29,
      "metadata": {
        "id": "0JuDN4XUeUMf",
        "colab": {
          "base_uri": "https://localhost:8080/",
          "height": 1000
        },
        "outputId": "bac1d65c-3a2b-4c58-8560-def23c085d2a"
      },
      "outputs": [
        {
          "output_type": "stream",
          "name": "stdout",
          "text": [
            "Fitting 5 folds for each of 100 candidates, totalling 500 fits\n",
            "--------------------------------------------------------------------\n",
            "Best Score: 0.8865747702589808\n",
            "Best Hyperparameters: {'learning_rate': 0.7028678761257883, 'max_depth': 6, 'max_features': 'auto', 'n_estimators': 777, 'subsample': 0.8779978991995281}\n",
            "Accuracy: 0.9387755102040817, Precision: 0.9130434782608695, Recall: 0.84, f1_score: 0.8749999999999999\n",
            "Fitting 5 folds for each of 100 candidates, totalling 500 fits\n",
            "--------------------------------------------------------------------\n",
            "Best Score: 0.8586378302681255\n",
            "Best Hyperparameters: {'learning_rate': 0.6531753912244718, 'max_depth': 6, 'max_features': 'sqrt', 'n_estimators': 883, 'subsample': 0.849579765424102}\n",
            "Accuracy: 0.9285714285714286, Precision: 0.8064516129032258, Recall: 0.9615384615384616, f1_score: 0.8771929824561403\n",
            "Fitting 5 folds for each of 100 candidates, totalling 500 fits\n",
            "--------------------------------------------------------------------\n",
            "Best Score: 0.8931123618928497\n",
            "Best Hyperparameters: {'learning_rate': 0.7073768579760241, 'max_depth': 4, 'max_features': 'auto', 'n_estimators': 964, 'subsample': 0.9549011069202819}\n",
            "Accuracy: 0.9285714285714286, Precision: 0.9523809523809523, Recall: 0.7692307692307693, f1_score: 0.8510638297872339\n",
            "Fitting 5 folds for each of 100 candidates, totalling 500 fits\n",
            "--------------------------------------------------------------------\n",
            "Best Score: 0.8728229665071771\n",
            "Best Hyperparameters: {'learning_rate': 0.2558756664074166, 'max_depth': 4, 'max_features': 'auto', 'n_estimators': 301, 'subsample': 0.8231723661903524}\n",
            "Accuracy: 0.9285714285714286, Precision: 0.8064516129032258, Recall: 0.9615384615384616, f1_score: 0.8771929824561403\n",
            "Fitting 5 folds for each of 100 candidates, totalling 500 fits\n",
            "--------------------------------------------------------------------\n",
            "Best Score: 0.8991902609120894\n",
            "Best Hyperparameters: {'learning_rate': 0.7995969798302411, 'max_depth': 9, 'max_features': 'auto', 'n_estimators': 471, 'subsample': 0.8889512954194714}\n",
            "Accuracy: 0.9278350515463918, Precision: 0.8461538461538461, Recall: 0.88, f1_score: 0.8627450980392156\n"
          ]
        },
        {
          "output_type": "display_data",
          "data": {
            "text/plain": [
              "<Figure size 550x550 with 1 Axes>"
            ],
            "image/png": "[encoded data removed]"
          },
          "metadata": {}
        },
        {
          "output_type": "display_data",
          "data": {
            "text/plain": [
              "<Figure size 550x550 with 1 Axes>"
            ],
            "image/png": "[encoded data removed]"
          },
          "metadata": {}
        },
        {
          "output_type": "display_data",
          "data": {
            "text/plain": [
              "<Figure size 640x480 with 1 Axes>"
            ],
            "image/png": "[encoded data removed]"
          },
          "metadata": {}
        },
        {
          "output_type": "stream",
          "name": "stdout",
          "text": [
            "List of possible accuracy: \n",
            " [0.8749999999999999, 0.8771929824561403, 0.8510638297872339, 0.8771929824561403, 0.8627450980392156]\n",
            "Maximum Accuracy That can be obtained from this model is: \n",
            " 87.71929824561403 %\n",
            "Minimum Accuracy: \n",
            " 85.10638297872339 %\n",
            "Overall Accuracy: \n",
            " 86.86389785477459 %\n",
            "Standard Deviation is: \n",
            " 0.011515513894836035\n",
            "List of possible accuracy for trainning: [99.74424552429667, 100.0, 99.74424552429667, 100.0, 99.74489795918367]\n",
            "List of possible accuracy for testing: [93.87755102040816, 92.85714285714286, 92.85714285714286, 92.85714285714286, 92.78350515463917]\n",
            "Mean Accuracy: 0.930464969492952, Mean Precision: 0.8648963005204239, Mean Recall: 0.8824615384615384, Mean f1_score: 0.8627450980392156\n"
          ]
        }
      ],
      "source": [
        "from sklearn.ensemble import GradientBoostingClassifier\n",
        "\n",
        "clf1 = GradientBoostingClassifier()\n",
        "\n",
        "cross_val = StratifiedKFold(n_splits=5)\n",
        "\n",
        "fig, ax = plt.subplots(figsize=(5.5, 5.5))\n",
        "\n",
        "tprs, aucs, y_real, y_prob, prs = [], [], [], [], []\n",
        "\n",
        "mean_recall = np.linspace(0, 1, 100)\n",
        "    \n",
        "plt.figure(figsize=(5.5 , 5.5))\n",
        "\n",
        "accs, precs, recs, f1_scr = [], [], [], []\n",
        "\n",
        "mean_recall = np.linspace(0, 1, 100)\n",
        "mean_fpr = np.linspace(0, 1, 100)\n",
        "\n",
        "i=0\n",
        "\n",
        "param_grid = {'learning_rate': uniform(1e-5, 1),\n",
        "              'subsample': uniform(0.8, 1),\n",
        "              'n_estimators' : randint(100, 1000),\n",
        "              'max_features' : ['log2', 'sqrt', 'auto'],\n",
        "              'max_depth': randint(3, 10)}\n",
        "\n",
        "train_accuracy_list = []\n",
        "test_accuracy_list = []\n",
        "lst_accu_stratified = []\n",
        "\n",
        "index_iterator = cross_val.split(X, y)\n",
        "\n",
        "clf_random = clf_random = RandomizedSearchCV(estimator=clf1, param_distributions=param_grid, n_iter=100, scoring='f1', cv=cross_val, verbose=2, n_jobs=-1)\n",
        "for train_index, test_index in index_iterator:\n",
        "    X_train, X_test = X.loc[train_index], X.loc[test_index]\n",
        "    y_train, y_test = y.loc[train_index], y.loc[test_index]\n",
        "  \n",
        "    clf_random.fit(X_train, y_train)\n",
        "    pred_proba = clf_random.predict_proba(X_test)\n",
        "    \n",
        "    precision, recall, _ = precision_recall_curve(y_test, pred_proba[:, 1])\n",
        "    prs.append(interp(mean_recall, precision, recall))\n",
        "    pr_auc = auc(recall, precision)\n",
        "    aucs.append(pr_auc)\n",
        "    plt.plot(recall, precision, lw=3, alpha=0.5, label='Fold %d (AUCPR = %0.2f)' % (i+1, pr_auc))\n",
        "\n",
        "    viz = RocCurveDisplay.from_estimator(clf_random, X_test, y_test, name='ROC fold {}'.format(i+1), ax=ax, alpha=.3)\n",
        "\n",
        "    interp_tpr = np.interp(mean_fpr, viz.fpr, viz.tpr)\n",
        "    interp_tpr[0] = 0.0\n",
        "    tprs.append(interp_tpr)\n",
        "    aucs.append(viz.roc_auc)\n",
        "\n",
        "    lst_accu_stratified.append(clf_random.score(X_test, y_test))\n",
        "    y_train_pred = clf_random.predict(X_train)\n",
        "    train_accuracy = np.mean(y_train_pred.ravel() == y_train.ravel())*100\n",
        "    train_accuracy_list.append(train_accuracy)\n",
        "    y_test_pred = clf_random.predict(X_test)\n",
        "    test_accuracy = np.mean(y_test_pred.ravel() == y_test.ravel())*100\n",
        "    test_accuracy_list.append(test_accuracy)\n",
        "    print('--------------------------------------------------------------------')\n",
        "    print('Best Score: %s'.format(i) % clf_random.best_score_)\n",
        "    print('Best Hyperparameters: %s'.format(i) % clf_random.best_params_)\n",
        "    acc = accuracy_score(y_test, y_test_pred)\n",
        "    prec = precision_score(y_test, y_test_pred)\n",
        "    rec = recall_score(y_test, y_test_pred)\n",
        "    f1 = f1_score(y_test,y_test_pred)\n",
        "    accs.append(acc)\n",
        "    precs.append(prec)\n",
        "    recs.append(rec)\n",
        "    f1_scr.append(f1)\n",
        "    print(f'Accuracy: {acc}, Precision: {prec}, Recall: {rec}, f1_score: {f1}')\n",
        "    i=i+1\n",
        "\n",
        "\n",
        "ax.plot([0, 1], [0, 1], linestyle='--', lw=.7, color='black', label='Chance', alpha=.7)\n",
        "\n",
        "mean_tpr = np.mean(tprs, axis=0)\n",
        "mean_tpr[-1] = 1.0\n",
        "mean_auc = auc(mean_fpr, mean_tpr)\n",
        "std_auc = np.std(aucs)\n",
        "ax.plot(mean_fpr, mean_tpr, color='blue', label=r'Mean ROC (AUC = %0.2f $\\pm$ %0.2f)' % (mean_auc, std_auc), lw=.7, alpha=.7)\n",
        "\n",
        "std_tpr = np.std(tprs, axis=0)\n",
        "tprs_upper = np.minimum(mean_tpr + std_tpr, 1)\n",
        "tprs_lower = np.maximum(mean_tpr - std_tpr, 0)\n",
        "ax.fill_between(mean_fpr, tprs_lower, tprs_upper, color='grey', alpha=.7, label=r'$\\pm$ 1 std. dev.')\n",
        "\n",
        "ax.set(xlim=[-0.05, 1.05], ylim=[-0.05, 1.05], title=\"Receiver operating characteristic for LGBM\")\n",
        "ax.legend(loc=\"lower right\")\n",
        "plt.show()\n",
        "\n",
        "plt.plot([0, 1], [1, 0], linestyle='--', lw=.7, color='k', label='Luck', alpha=.7)\n",
        "mean_precision = np.mean(prs, axis=0)\n",
        "mean_auc = auc(mean_recall, mean_precision)\n",
        "std_auc = np.std(aucs)\n",
        "plt.plot(mean_precision, mean_recall, color='navy',label=r'Mean (AUCPR = %0.3f $\\pm$ %0.2f)' % (mean_auc, std_auc),lw=4)\n",
        "    \n",
        "plt.xlim([-0.05, 1.05])\n",
        "plt.ylim([-0.05, 1.05])\n",
        "plt.xlabel('Recall' ,  fontweight = \"bold\" , fontsize=10)\n",
        "plt.ylabel('Precision',fontweight = \"bold\" , fontsize=10)\n",
        "plt.tick_params(axis='both', which='major', labelsize=10)\n",
        "plt.legend( prop={'size':10} , loc = 0)\n",
        "plt.show()\n",
        "\n",
        "from statistics import mean\n",
        "from statistics import stdev\n",
        "\n",
        "print('List of possible accuracy: \\n', lst_accu_stratified)\n",
        "print('Maximum Accuracy That can be obtained from this model is: \\n', max(lst_accu_stratified)*100, '%')\n",
        "print('Minimum Accuracy: \\n', min(lst_accu_stratified)*100, '%')\n",
        "print('Overall Accuracy: \\n', mean(lst_accu_stratified)*100, '%')\n",
        "print('Standard Deviation is: \\n', stdev(lst_accu_stratified))\n",
        "\n",
        "print('List of possible accuracy for trainning:', train_accuracy_list)\n",
        "print('List of possible accuracy for testing:', test_accuracy_list)\n",
        "\n",
        "print(f'Mean Accuracy: {np.mean(accs)}, Mean Precision: {np.mean(precs)}, Mean Recall: {np.mean(recs)}, Mean f1_score: {np.mean(f1)}')"
      ]
    },
    {
      "cell_type": "code",
      "execution_count": null,
      "metadata": {
        "id": "1UI7zesRgAl2"
      },
      "outputs": [],
      "source": [
        "model3 = GradientBoostingClassifier(learning_rate=0.02 , subsample=0.2, n_estimators=100, max_features='log2', max_depth=8).fit(X1_train, y1_train)"
      ]
    },
    {
      "cell_type": "code",
      "execution_count": null,
      "metadata": {
        "id": "Mbpk8XlwhKQP"
      },
      "outputs": [],
      "source": [
        "clf = print_auc(model3, X1_train, y1_train, X1_test, y1_test, 'Gradient Boosting')\n",
        "results_df3 = pd.DataFrame(data=[['Gradient Boosting', clf['f1'], clf['auc'], clf['auc_pr'], clf['recall_sc'][0], clf['recall_sc'][1], clf['precision_sc'][0], clf['precision_sc'][1]]], \n",
        "                          columns=['Model', 'f1_score', 'auc','auc_pr','recall_classe(0)','recall_classe(1)','precision_classe(0)','precision_classe(1)'])\n",
        "results_df = results_df.append(results_df3)\n",
        "\n",
        "results_df.style.hide_index()"
      ]
    },
    {
      "cell_type": "markdown",
      "metadata": {
        "id": "XFeYmV1Xp236"
      },
      "source": [
        "## **Random Forest**"
      ]
    },
    {
      "cell_type": "code",
      "execution_count": null,
      "metadata": {
        "id": "I-bD2GOrp1SB"
      },
      "outputs": [],
      "source": [
        "from sklearn.ensemble import RandomForestClassifier\n",
        "\n",
        "clf1 = RandomForestClassifier(random_state=seed)\n",
        "\n",
        "cross_val = StratifiedKFold(n_splits=5)\n",
        "\n",
        "fig, ax = plt.subplots(figsize=(5.5, 5.5))\n",
        "\n",
        "tprs, aucs, y_real, y_prob, prs = [], [], [], [], []\n",
        "\n",
        "mean_recall = np.linspace(0, 1, 100)\n",
        "    \n",
        "plt.figure(figsize=(5.5 , 5.5))\n",
        "\n",
        "accs, precs, recs, f1_scr = [], [], [], []\n",
        "\n",
        "mean_recall = np.linspace(0, 1, 100)\n",
        "mean_fpr = np.linspace(0, 1, 100)\n",
        "\n",
        "i=0\n",
        "\n",
        "param_grid = {'n_estimators': randint(50, 1000),\n",
        "              'max_depth': randint(3, 10),\n",
        "              'min_samples_split': randint(2, 10),\n",
        "              'min_samples_leaf': randint(1, 5),\n",
        "              'max_features': ['sqrt', 'log2', None],\n",
        "              'criterion': ['gini', 'entropy', 'log_loss'],\n",
        "              'class_weight' : ['balanced', None, class_weights]}\n",
        "\n",
        "train_accuracy_list = []\n",
        "test_accuracy_list = []\n",
        "lst_accu_stratified = []\n",
        "\n",
        "index_iterator = cross_val.split(X, y)\n",
        "\n",
        "clf_random = clf_random = RandomizedSearchCV(estimator=clf1, param_distributions=param_grid, n_iter=100, scoring='f1', cv=cross_val, verbose=2, n_jobs=-1)\n",
        "for train_index, test_index in index_iterator:\n",
        "    X_train, X_test = X.loc[train_index], X.loc[test_index]\n",
        "    y_train, y_test = y.loc[train_index], y.loc[test_index]\n",
        "  \n",
        "    clf_random.fit(X_train, y_train)\n",
        "    pred_proba = clf_random.predict_proba(X_test)\n",
        "    \n",
        "    precision, recall, _ = precision_recall_curve(y_test, pred_proba[:, 1])\n",
        "    prs.append(interp(mean_recall, precision, recall))\n",
        "    pr_auc = auc(recall, precision)\n",
        "    aucs.append(pr_auc)\n",
        "    plt.plot(recall, precision, lw=3, alpha=0.5, label='Fold %d (AUCPR = %0.2f)' % (i+1, pr_auc))\n",
        "\n",
        "    viz = RocCurveDisplay.from_estimator(clf_random, X_test, y_test, name='ROC fold {}'.format(i+1), ax=ax, alpha=.3)\n",
        "\n",
        "    interp_tpr = np.interp(mean_fpr, viz.fpr, viz.tpr)\n",
        "    interp_tpr[0] = 0.0\n",
        "    tprs.append(interp_tpr)\n",
        "    aucs.append(viz.roc_auc)\n",
        "\n",
        "    lst_accu_stratified.append(clf_random.score(X_test, y_test))\n",
        "    y_train_pred = clf_random.predict(X_train)\n",
        "    train_accuracy = np.mean(y_train_pred.ravel() == y_train.ravel())*100\n",
        "    train_accuracy_list.append(train_accuracy)\n",
        "    y_test_pred = clf_random.predict(X_test)\n",
        "    test_accuracy = np.mean(y_test_pred.ravel() == y_test.ravel())*100\n",
        "    test_accuracy_list.append(test_accuracy)\n",
        "    print('--------------------------------------------------------------------')\n",
        "    print('Best Score: %s'.format(i) % clf_random.best_score_)\n",
        "    print('Best Hyperparameters: %s'.format(i) % clf_random.best_params_)\n",
        "    acc = accuracy_score(y_test, y_test_pred)\n",
        "    prec = precision_score(y_test, y_test_pred)\n",
        "    rec = recall_score(y_test, y_test_pred)\n",
        "    f1 = f1_score(y_test,y_test_pred)\n",
        "    accs.append(acc)\n",
        "    precs.append(prec)\n",
        "    recs.append(rec)\n",
        "    f1_scr.append(f1)\n",
        "    print(f'Accuracy: {acc}, Precision: {prec}, Recall: {rec}, f1_score: {f1}')\n",
        "    i=i+1\n",
        "\n",
        "\n",
        "ax.plot([0, 1], [0, 1], linestyle='--', lw=.7, color='black', label='Chance', alpha=.7)\n",
        "\n",
        "mean_tpr = np.mean(tprs, axis=0)\n",
        "mean_tpr[-1] = 1.0\n",
        "mean_auc = auc(mean_fpr, mean_tpr)\n",
        "std_auc = np.std(aucs)\n",
        "ax.plot(mean_fpr, mean_tpr, color='blue', label=r'Mean ROC (AUC = %0.2f $\\pm$ %0.2f)' % (mean_auc, std_auc), lw=.7, alpha=.7)\n",
        "\n",
        "std_tpr = np.std(tprs, axis=0)\n",
        "tprs_upper = np.minimum(mean_tpr + std_tpr, 1)\n",
        "tprs_lower = np.maximum(mean_tpr - std_tpr, 0)\n",
        "ax.fill_between(mean_fpr, tprs_lower, tprs_upper, color='grey', alpha=.7, label=r'$\\pm$ 1 std. dev.')\n",
        "\n",
        "ax.set(xlim=[-0.05, 1.05], ylim=[-0.05, 1.05], title=\"Receiver operating characteristic for LGBM\")\n",
        "ax.legend(loc=\"lower right\")\n",
        "plt.show()\n",
        "\n",
        "plt.plot([0, 1], [1, 0], linestyle='--', lw=.7, color='k', label='Luck', alpha=.7)\n",
        "mean_precision = np.mean(prs, axis=0)\n",
        "mean_auc = auc(mean_recall, mean_precision)\n",
        "std_auc = np.std(aucs)\n",
        "plt.plot(mean_precision, mean_recall, color='navy',label=r'Mean (AUCPR = %0.3f $\\pm$ %0.2f)' % (mean_auc, std_auc),lw=4)\n",
        "    \n",
        "plt.xlim([-0.05, 1.05])\n",
        "plt.ylim([-0.05, 1.05])\n",
        "plt.xlabel('Recall' ,  fontweight = \"bold\" , fontsize=10)\n",
        "plt.ylabel('Precision',fontweight = \"bold\" , fontsize=10)\n",
        "plt.tick_params(axis='both', which='major', labelsize=10)\n",
        "plt.legend( prop={'size':10} , loc = 0)\n",
        "plt.show()\n",
        "\n",
        "from statistics import mean\n",
        "from statistics import stdev\n",
        "\n",
        "print('List of possible accuracy:', lst_accu_stratified)\n",
        "print('\\nMaximum Accuracy That can be obtained from this model is:', max(lst_accu_stratified)*100, '%')\n",
        "print('\\nMinimum Accuracy:', min(lst_accu_stratified)*100, '%')\n",
        "print('\\nOverall Accuracy:', mean(lst_accu_stratified)*100, '%')\n",
        "print('\\nStandard Deviation is:', stdev(lst_accu_stratified))\n",
        "\n",
        "print('List of possible accuracy for trainning:', train_accuracy_list)\n",
        "print('List of possible accuracy for testing:', test_accuracy_list)\n",
        "\n",
        "print(f'Mean Accuracy: {np.mean(accs)}, Mean Precision: {np.mean(precs)}, Mean Recall: {np.mean(recs)}, Mean f1_score: {np.mean(f1)}')"
      ]
    },
    {
      "cell_type": "code",
      "execution_count": null,
      "metadata": {
        "id": "o_rGjseAqi5S"
      },
      "outputs": [],
      "source": [
        "model4 = RandomForestClassifier(n_estimators=100, max_features='log2', max_depth=30, criterion='entropy').fit(X1_train, y1_train)"
      ]
    },
    {
      "cell_type": "code",
      "execution_count": null,
      "metadata": {
        "id": "IjAjmpdyqpll"
      },
      "outputs": [],
      "source": [
        "clf = print_auc(model4, X1_train, y1_train, X1_test, y1_test, 'Random Forest')\n",
        "results_df3 = pd.DataFrame(data=[['Random Forest', clf['f1'], clf['auc'], clf['auc_pr'], clf['recall_sc'][0], clf['recall_sc'][1], clf['precision_sc'][0], clf['precision_sc'][1]]], \n",
        "                          columns=['Model', 'f1_score', 'auc', 'auc_pr', 'recall_classe(0)', 'recall_classe(1)', 'precision_classe(0)', 'precision_classe(1)'])\n",
        "results_df = results_df.append(results_df3, ignore_index=True)\n",
        "\n",
        "results_df.style.hide_index()"
      ]
    },
    {
      "cell_type": "markdown",
      "metadata": {
        "id": "A5xG9U11q_xU"
      },
      "source": [
        "## **KNN**"
      ]
    },
    {
      "cell_type": "code",
      "execution_count": null,
      "metadata": {
        "id": "51Xk1zoLrDTw"
      },
      "outputs": [],
      "source": [
        "from sklearn.neighbors import KNeighborsClassifier\n",
        "\n",
        "clf1 = KNeighborsClassifier()\n",
        "\n",
        "cross_val = StratifiedKFold(n_splits=5)\n",
        "\n",
        "fig, ax = plt.subplots(figsize=(5.5, 5.5))\n",
        "\n",
        "tprs, aucs, y_real, y_prob, prs = [], [], [], [], []\n",
        "\n",
        "mean_recall = np.linspace(0, 1, 100)\n",
        "    \n",
        "plt.figure(figsize=(5.5 , 5.5))\n",
        "\n",
        "accs, precs, recs, f1_scr = [], [], [], []\n",
        "\n",
        "mean_recall = np.linspace(0, 1, 100)\n",
        "mean_fpr = np.linspace(0, 1, 100)\n",
        "\n",
        "i=0\n",
        "\n",
        "param_grid = {'n_neighbors': randint(3, 7),\n",
        "              'weights': ['uniform', 'distance'],\n",
        "              'p': [1, 2],\n",
        "              'algorithm': ['brute'],\n",
        "              'leaf_size': randint(10, 50)}\n",
        "\n",
        "train_accuracy_list = []\n",
        "test_accuracy_list = []\n",
        "lst_accu_stratified = []\n",
        "\n",
        "index_iterator = cross_val.split(X, y)\n",
        "\n",
        "clf_random = clf_random = RandomizedSearchCV(estimator=clf1, param_distributions=param_grid, n_iter=100, scoring='f1', cv=cross_val, verbose=2, n_jobs=-1)\n",
        "\n",
        "for train_index, test_index in index_iterator:\n",
        "    X_train, X_test = X.loc[train_index], X.loc[test_index]\n",
        "    y_train, y_test = y.loc[train_index], y.loc[test_index]\n",
        "  \n",
        "    clf_random.fit(X_train, y_train)\n",
        "    pred_proba = clf_random.predict_proba(X_test)\n",
        "    \n",
        "    precision, recall, _ = precision_recall_curve(y_test, pred_proba[:, 1])\n",
        "    prs.append(interp(mean_recall, precision, recall))\n",
        "    pr_auc = auc(recall, precision)\n",
        "    aucs.append(pr_auc)\n",
        "    plt.plot(recall, precision, lw=3, alpha=0.5, label='Fold %d (AUCPR = %0.2f)' % (i+1, pr_auc))\n",
        "\n",
        "    viz = RocCurveDisplay.from_estimator(clf_random, X_test, y_test, name='ROC fold {}'.format(i+1), ax=ax, alpha=.3)\n",
        "\n",
        "    interp_tpr = np.interp(mean_fpr, viz.fpr, viz.tpr)\n",
        "    interp_tpr[0] = 0.0\n",
        "    tprs.append(interp_tpr)\n",
        "    aucs.append(viz.roc_auc)\n",
        "\n",
        "    lst_accu_stratified.append(clf_random.score(X_test, y_test))\n",
        "    y_train_pred = clf_random.predict(X_train)\n",
        "    train_accuracy = np.mean(y_train_pred.ravel() == y_train.ravel())*100\n",
        "    train_accuracy_list.append(train_accuracy)\n",
        "    y_test_pred = clf_random.predict(X_test)\n",
        "    test_accuracy = np.mean(y_test_pred.ravel() == y_test.ravel())*100\n",
        "    test_accuracy_list.append(test_accuracy)\n",
        "    print('--------------------------------------------------------------------')\n",
        "    print('Best Score: %s'.format(i) % clf_random.best_score_)\n",
        "    print('Best Hyperparameters: %s'.format(i) % clf_random.best_params_)\n",
        "    acc = accuracy_score(y_test, y_test_pred)\n",
        "    prec = precision_score(y_test, y_test_pred)\n",
        "    rec = recall_score(y_test, y_test_pred)\n",
        "    f1 = f1_score(y_test,y_test_pred)\n",
        "    accs.append(acc)\n",
        "    precs.append(prec)\n",
        "    recs.append(rec)\n",
        "    f1_scr.append(f1)\n",
        "    print(f'Accuracy: {acc}, Precision: {prec}, Recall: {rec}, f1_score: {f1}')\n",
        "    i=i+1\n",
        "\n",
        "\n",
        "ax.plot([0, 1], [0, 1], linestyle='--', lw=.7, color='black', label='Chance', alpha=.7)\n",
        "\n",
        "mean_tpr = np.mean(tprs, axis=0)\n",
        "mean_tpr[-1] = 1.0\n",
        "mean_auc = auc(mean_fpr, mean_tpr)\n",
        "std_auc = np.std(aucs)\n",
        "ax.plot(mean_fpr, mean_tpr, color='blue', label=r'Mean ROC (AUC = %0.2f $\\pm$ %0.2f)' % (mean_auc, std_auc), lw=.7, alpha=.7)\n",
        "\n",
        "std_tpr = np.std(tprs, axis=0)\n",
        "tprs_upper = np.minimum(mean_tpr + std_tpr, 1)\n",
        "tprs_lower = np.maximum(mean_tpr - std_tpr, 0)\n",
        "ax.fill_between(mean_fpr, tprs_lower, tprs_upper, color='grey', alpha=.7, label=r'$\\pm$ 1 std. dev.')\n",
        "\n",
        "ax.set(xlim=[-0.05, 1.05], ylim=[-0.05, 1.05], title=\"Receiver operating characteristic for LGBM\")\n",
        "ax.legend(loc=\"lower right\")\n",
        "plt.show()\n",
        "\n",
        "plt.plot([0, 1], [1, 0], linestyle='--', lw=.7, color='k', label='Luck', alpha=.7)\n",
        "mean_precision = np.mean(prs, axis=0)\n",
        "mean_auc = auc(mean_recall, mean_precision)\n",
        "std_auc = np.std(aucs)\n",
        "plt.plot(mean_precision, mean_recall, color='navy',label=r'Mean (AUCPR = %0.3f $\\pm$ %0.2f)' % (mean_auc, std_auc),lw=4)\n",
        "    \n",
        "plt.xlim([-0.05, 1.05])\n",
        "plt.ylim([-0.05, 1.05])\n",
        "plt.xlabel('Recall' ,  fontweight = \"bold\" , fontsize=10)\n",
        "plt.ylabel('Precision',fontweight = \"bold\" , fontsize=10)\n",
        "plt.tick_params(axis='both', which='major', labelsize=10)\n",
        "plt.legend( prop={'size':10} , loc = 0)\n",
        "plt.show()\n",
        "\n",
        "from statistics import mean\n",
        "from statistics import stdev\n",
        "\n",
        "print('List of possible accuracy: \\n', lst_accu_stratified)\n",
        "print('Maximum Accuracy That can be obtained from this model is: \\n', max(lst_accu_stratified)*100, '%')\n",
        "print('Minimum Accuracy: \\n', min(lst_accu_stratified)*100, '%')\n",
        "print('Overall Accuracy: \\n', mean(lst_accu_stratified)*100, '%')\n",
        "print('Standard Deviation is: \\n', stdev(lst_accu_stratified))\n",
        "\n",
        "print('List of possible accuracy for trainning:', train_accuracy_list)\n",
        "print('List of possible accuracy for testing:', test_accuracy_list)\n",
        "\n",
        "print(f'Mean Accuracy: {np.mean(accs)}, Mean Precision: {np.mean(precs)}, Mean Recall: {np.mean(recs)}, Mean f1_score: {np.mean(f1)}')"
      ]
    },
    {
      "cell_type": "code",
      "execution_count": null,
      "metadata": {
        "id": "GqEMiUaBraUs"
      },
      "outputs": [],
      "source": [
        "model5 = KNeighborsClassifier(n_neighbors=11, weights='uniform', metric='euclidean').fit(X1_train, y1_train)"
      ]
    },
    {
      "cell_type": "code",
      "execution_count": null,
      "metadata": {
        "id": "wSJWhF2zrvcU"
      },
      "outputs": [],
      "source": [
        "clf = print_auc(model5, X1_train, y1_train, X1_test, y1_test, 'KNeibors Classifier')\n",
        "results_df4 = pd.DataFrame(data=[['KNeibors Classifier', clf['f1'], clf['auc'], clf['auc_pr'], clf['recall_sc'][0], clf['recall_sc'][1], clf['precision_sc'][0], clf['precision_sc'][1]]], \n",
        "                          columns=['Model', 'f1_score', 'auc', 'auc_pr', 'recall_classe(0)', 'recall_classe(1)', 'precision_classe(0)', 'precision_classe(1)'])\n",
        "results_df = results_df.append(results_df4, ignore_index=True)\n",
        "\n",
        "results_df.style.hide_index()"
      ]
    },
    {
      "cell_type": "markdown",
      "metadata": {
        "id": "Syq3lk7pr8ge"
      },
      "source": [
        "## **ExtraTrees**"
      ]
    },
    {
      "cell_type": "code",
      "execution_count": null,
      "metadata": {
        "id": "rWKqryuSsHTY"
      },
      "outputs": [],
      "source": [
        "from sklearn.ensemble import ExtraTreesClassifier\n",
        "\n",
        "clf1 = ExtraTreesClassifier(random_state=0)\n",
        "\n",
        "cross_val = StratifiedKFold(n_splits=5)\n",
        "\n",
        "fig, ax = plt.subplots(figsize=(5.5, 5.5))\n",
        "\n",
        "tprs, aucs, y_real, y_prob, prs = [], [], [], [], []\n",
        "\n",
        "mean_recall = np.linspace(0, 1, 100)\n",
        "    \n",
        "plt.figure(figsize=(5.5 , 5.5))\n",
        "\n",
        "accs, precs, recs, f1_scr = [], [], [], []\n",
        "\n",
        "mean_recall = np.linspace(0, 1, 100)\n",
        "mean_fpr = np.linspace(0, 1, 100)\n",
        "\n",
        "i=0\n",
        "\n",
        "param_grid = {'n_estimators': randint(100, 1000),\n",
        "              'max_depth': randint(10, 100),\n",
        "              'max_features': ['sqrt', 'log2'],\n",
        "              'min_samples_split' : randint(2, 10), \n",
        "              'min_samples_leaf' : randint(1, 10),\n",
        "              'class_weight' : ['balanced', None, class_weights]}\n",
        "\n",
        "train_accuracy_list = []\n",
        "test_accuracy_list = []\n",
        "lst_accu_stratified = []\n",
        "\n",
        "index_iterator = cross_val.split(X, y)\n",
        "\n",
        "clf_random = clf_random = RandomizedSearchCV(estimator=clf1, param_distributions=param_grid, n_iter=100, scoring='f1', cv=cross_val, verbose=2, n_jobs=-1)\n",
        "for train_index, test_index in index_iterator:\n",
        "    X_train, X_test = X.loc[train_index], X.loc[test_index]\n",
        "    y_train, y_test = y.loc[train_index], y.loc[test_index]\n",
        "  \n",
        "    clf_random.fit(X_train, y_train)\n",
        "    pred_proba = clf_random.predict_proba(X_test)\n",
        "    \n",
        "    precision, recall, _ = precision_recall_curve(y_test, pred_proba[:, 1])\n",
        "    prs.append(interp(mean_recall, precision, recall))\n",
        "    pr_auc = auc(recall, precision)\n",
        "    aucs.append(pr_auc)\n",
        "    plt.plot(recall, precision, lw=3, alpha=0.5, label='Fold %d (AUCPR = %0.2f)' % (i+1, pr_auc))\n",
        "\n",
        "    viz = RocCurveDisplay.from_estimator(clf_random, X_test, y_test, name='ROC fold {}'.format(i+1), ax=ax, alpha=.3)\n",
        "\n",
        "    interp_tpr = np.interp(mean_fpr, viz.fpr, viz.tpr)\n",
        "    interp_tpr[0] = 0.0\n",
        "    tprs.append(interp_tpr)\n",
        "    aucs.append(viz.roc_auc)\n",
        "\n",
        "    lst_accu_stratified.append(clf_random.score(X_test, y_test))\n",
        "    y_train_pred = clf_random.predict(X_train)\n",
        "    train_accuracy = np.mean(y_train_pred.ravel() == y_train.ravel())*100\n",
        "    train_accuracy_list.append(train_accuracy)\n",
        "    y_test_pred = clf_random.predict(X_test)\n",
        "    test_accuracy = np.mean(y_test_pred.ravel() == y_test.ravel())*100\n",
        "    test_accuracy_list.append(test_accuracy)\n",
        "    \n",
        "    print('--------------------------------------------------------------------')\n",
        "    print('Best Score: %s'.format(i) % clf_random.best_score_)\n",
        "    print('Best Hyperparameters: %s'.format(i) % clf_random.best_params_)\n",
        "    acc = accuracy_score(y_test, y_test_pred)\n",
        "    prec = precision_score(y_test, y_test_pred)\n",
        "    rec = recall_score(y_test, y_test_pred)\n",
        "    f1 = f1_score(y_test,y_test_pred)\n",
        "    accs.append(acc)\n",
        "    precs.append(prec)\n",
        "    recs.append(rec)\n",
        "    f1_scr.append(f1)\n",
        "    print(f'Accuracy: {acc}, Precision: {prec}, Recall: {rec}, f1_score: {f1}')\n",
        "    i=i+1\n",
        "\n",
        "\n",
        "ax.plot([0, 1], [0, 1], linestyle='--', lw=.7, color='black', label='Chance', alpha=.7)\n",
        "\n",
        "mean_tpr = np.mean(tprs, axis=0)\n",
        "mean_tpr[-1] = 1.0\n",
        "mean_auc = auc(mean_fpr, mean_tpr)\n",
        "std_auc = np.std(aucs)\n",
        "ax.plot(mean_fpr, mean_tpr, color='blue', label=r'Mean ROC (AUC = %0.2f $\\pm$ %0.2f)' % (mean_auc, std_auc), lw=.7, alpha=.7)\n",
        "\n",
        "std_tpr = np.std(tprs, axis=0)\n",
        "tprs_upper = np.minimum(mean_tpr + std_tpr, 1)\n",
        "tprs_lower = np.maximum(mean_tpr - std_tpr, 0)\n",
        "ax.fill_between(mean_fpr, tprs_lower, tprs_upper, color='grey', alpha=.7, label=r'$\\pm$ 1 std. dev.')\n",
        "\n",
        "ax.set(xlim=[-0.05, 1.05], ylim=[-0.05, 1.05], title=\"Receiver operating characteristic for LGBM\")\n",
        "ax.legend(loc=\"lower right\")\n",
        "plt.show()\n",
        "\n",
        "plt.plot([0, 1], [1, 0], linestyle='--', lw=.7, color='k', label='Luck', alpha=.7)\n",
        "mean_precision = np.mean(prs, axis=0)\n",
        "mean_auc = auc(mean_recall, mean_precision)\n",
        "std_auc = np.std(aucs)\n",
        "plt.plot(mean_precision, mean_recall, color='navy',label=r'Mean (AUCPR = %0.3f $\\pm$ %0.2f)' % (mean_auc, std_auc),lw=4)\n",
        "    \n",
        "plt.xlim([-0.05, 1.05])\n",
        "plt.ylim([-0.05, 1.05])\n",
        "plt.xlabel('Recall' ,  fontweight = \"bold\" , fontsize=10)\n",
        "plt.ylabel('Precision',fontweight = \"bold\" , fontsize=10)\n",
        "plt.tick_params(axis='both', which='major', labelsize=10)\n",
        "plt.legend( prop={'size':10} , loc = 0)\n",
        "plt.show()\n",
        "\n",
        "from statistics import mean\n",
        "from statistics import stdev\n",
        "\n",
        "print('List of possible accuracy: \\n', lst_accu_stratified)\n",
        "print('Maximum Accuracy That can be obtained from this model is: \\n', max(lst_accu_stratified)*100, '%')\n",
        "print('Minimum Accuracy: \\n', min(lst_accu_stratified)*100, '%')\n",
        "print('Overall Accuracy: \\n', mean(lst_accu_stratified)*100, '%')\n",
        "print('Standard Deviation is: \\n', stdev(lst_accu_stratified))\n",
        "\n",
        "print('List of possible accuracy for trainning:', train_accuracy_list)\n",
        "print('List of possible accuracy for testing:', test_accuracy_list)\n",
        "\n",
        "print(f'Mean Accuracy: {np.mean(accs)}, Mean Precision: {np.mean(precs)}, Mean Recall: {np.mean(recs)}, Mean f1_score: {np.mean(f1)}')"
      ]
    },
    {
      "cell_type": "code",
      "execution_count": null,
      "metadata": {
        "id": "B_Sw0d2Wsll-"
      },
      "outputs": [],
      "source": [
        "model6 = ExtraTreesClassifier(random_state=1, n_estimators=320, max_depth=25).fit(X1_train, y1_train)"
      ]
    },
    {
      "cell_type": "code",
      "execution_count": null,
      "metadata": {
        "id": "Bv68O4tJsZaR"
      },
      "outputs": [],
      "source": [
        "clf = print_auc(model6, X1_train, y1_train, X1_test, y1_test, 'ExtraTrees Classifier')\n",
        "results_df5 = pd.DataFrame(data=[['ExtraTrees Classifier', clf['f1'], clf['auc'], clf['auc_pr'], clf['recall_sc'][0], clf['recall_sc'][1], clf['precision_sc'][0], clf['precision_sc'][1]]], \n",
        "                          columns=['Model', 'f1_score', 'auc', 'auc_pr', 'recall_classe(0)', 'recall_classe(1)', 'precision_classe(0)', 'precision_classe(1)'])\n",
        "results_df = results_df.append(results_df5, ignore_index=True)\n",
        "\n",
        "results_df.style.hide_index()"
      ]
    },
    {
      "cell_type": "markdown",
      "metadata": {
        "id": "tDVKw76Isvpd"
      },
      "source": [
        "## **AdaBoost**"
      ]
    },
    {
      "cell_type": "code",
      "execution_count": null,
      "metadata": {
        "id": "VioN1uWmsu1N"
      },
      "outputs": [],
      "source": [
        "from sklearn.ensemble import AdaBoostClassifier\n",
        "from sklearn.tree import DecisionTreeClassifier\n",
        "\n",
        "clf1 = AdaBoostClassifier(random_state=0)\n",
        "\n",
        "cross_val = StratifiedKFold(n_splits=5)\n",
        "\n",
        "fig, ax = plt.subplots(figsize=(5.5, 5.5))\n",
        "\n",
        "tprs, aucs, y_real, y_prob, prs = [], [], [], [], []\n",
        "\n",
        "mean_recall = np.linspace(0, 1, 100)\n",
        "    \n",
        "plt.figure(figsize=(5.5 , 5.5))\n",
        "\n",
        "accs, precs, recs, f1_scr = [], [], [], []\n",
        "\n",
        "mean_recall = np.linspace(0, 1, 100)\n",
        "mean_fpr = np.linspace(0, 1, 100)\n",
        "\n",
        "i=0\n",
        "\n",
        "param_grid = {'n_estimators': randint(50, 200),\n",
        "              'learning_rate': uniform(1e-5, 1),\n",
        "              'base_estimator': [DecisionTreeClassifier(max_depth=1), DecisionTreeClassifier(max_depth=3), None]}\n",
        "\n",
        "train_accuracy_list = []\n",
        "test_accuracy_list = []\n",
        "lst_accu_stratified = []\n",
        "\n",
        "index_iterator = cross_val.split(X, y)\n",
        "\n",
        "clf_random = clf_random = RandomizedSearchCV(estimator=clf1, param_distributions=param_grid, n_iter=100, scoring='f1', cv=cross_val, verbose=2, n_jobs=-1)\n",
        "for train_index, test_index in index_iterator:\n",
        "    X_train, X_test = X.loc[train_index], X.loc[test_index]\n",
        "    y_train, y_test = y.loc[train_index], y.loc[test_index]\n",
        "  \n",
        "    clf_random.fit(X_train, y_train)\n",
        "    pred_proba = clf_random.predict_proba(X_test)\n",
        "    \n",
        "    precision, recall, _ = precision_recall_curve(y_test, pred_proba[:, 1])\n",
        "    prs.append(interp(mean_recall, precision, recall))\n",
        "    pr_auc = auc(recall, precision)\n",
        "    aucs.append(pr_auc)\n",
        "    plt.plot(recall, precision, lw=3, alpha=0.5, label='Fold %d (AUCPR = %0.2f)' % (i+1, pr_auc))\n",
        "\n",
        "    viz = RocCurveDisplay.from_estimator(clf_random, X_test, y_test, name='ROC fold {}'.format(i+1), ax=ax, alpha=.3)\n",
        "\n",
        "    interp_tpr = np.interp(mean_fpr, viz.fpr, viz.tpr)\n",
        "    interp_tpr[0] = 0.0\n",
        "    tprs.append(interp_tpr)\n",
        "    aucs.append(viz.roc_auc)\n",
        "\n",
        "    lst_accu_stratified.append(clf_random.score(X_test, y_test))\n",
        "    y_train_pred = clf_random.predict(X_train)\n",
        "    train_accuracy = np.mean(y_train_pred.ravel() == y_train.ravel())*100\n",
        "    train_accuracy_list.append(train_accuracy)\n",
        "    y_test_pred = clf_random.predict(X_test)\n",
        "    test_accuracy = np.mean(y_test_pred.ravel() == y_test.ravel())*100\n",
        "    test_accuracy_list.append(test_accuracy)\n",
        "    print('--------------------------------------------------------------------')\n",
        "    print('Best Score: %s'.format(i) % clf_random.best_score_)\n",
        "    print('Best Hyperparameters: %s'.format(i) % clf_random.best_params_)\n",
        "    acc = accuracy_score(y_test, y_test_pred)\n",
        "    prec = precision_score(y_test, y_test_pred)\n",
        "    rec = recall_score(y_test, y_test_pred)\n",
        "    f1 = f1_score(y_test,y_test_pred)\n",
        "    accs.append(acc)\n",
        "    precs.append(prec)\n",
        "    recs.append(rec)\n",
        "    f1_scr.append(f1)\n",
        "    print(f'Accuracy: {acc}, Precision: {prec}, Recall: {rec}, f1_score: {f1}')\n",
        "    i=i+1\n",
        "\n",
        "\n",
        "ax.plot([0, 1], [0, 1], linestyle='--', lw=.7, color='black', label='Chance', alpha=.7)\n",
        "\n",
        "mean_tpr = np.mean(tprs, axis=0)\n",
        "mean_tpr[-1] = 1.0\n",
        "mean_auc = auc(mean_fpr, mean_tpr)\n",
        "std_auc = np.std(aucs)\n",
        "ax.plot(mean_fpr, mean_tpr, color='blue', label=r'Mean ROC (AUC = %0.2f $\\pm$ %0.2f)' % (mean_auc, std_auc), lw=.7, alpha=.7)\n",
        "\n",
        "std_tpr = np.std(tprs, axis=0)\n",
        "tprs_upper = np.minimum(mean_tpr + std_tpr, 1)\n",
        "tprs_lower = np.maximum(mean_tpr - std_tpr, 0)\n",
        "ax.fill_between(mean_fpr, tprs_lower, tprs_upper, color='grey', alpha=.7, label=r'$\\pm$ 1 std. dev.')\n",
        "\n",
        "ax.set(xlim=[-0.05, 1.05], ylim=[-0.05, 1.05], title=\"Receiver operating characteristic for LGBM\")\n",
        "ax.legend(loc=\"lower right\")\n",
        "plt.show()\n",
        "\n",
        "plt.plot([0, 1], [1, 0], linestyle='--', lw=.7, color='k', label='Luck', alpha=.7)\n",
        "mean_precision = np.mean(prs, axis=0)\n",
        "mean_auc = auc(mean_recall, mean_precision)\n",
        "std_auc = np.std(aucs)\n",
        "plt.plot(mean_precision, mean_recall, color='navy',label=r'Mean (AUCPR = %0.3f $\\pm$ %0.2f)' % (mean_auc, std_auc),lw=4)\n",
        "    \n",
        "plt.xlim([-0.05, 1.05])\n",
        "plt.ylim([-0.05, 1.05])\n",
        "plt.xlabel('Recall' ,  fontweight = \"bold\" , fontsize=10)\n",
        "plt.ylabel('Precision',fontweight = \"bold\" , fontsize=10)\n",
        "plt.tick_params(axis='both', which='major', labelsize=10)\n",
        "plt.legend( prop={'size':10} , loc = 0)\n",
        "plt.show()\n",
        "\n",
        "from statistics import mean\n",
        "from statistics import stdev\n",
        "\n",
        "print('List of possible accuracy: \\n', lst_accu_stratified)\n",
        "print('Maximum Accuracy That can be obtained from this model is \\n max(lst_accu_stratified)*100, '%')\n",
        "print('Minimum Accuracy: \\n', min(lst_accu_stratified)*100, '%')\n",
        "print('Overall Accuracy: \\n', mean(lst_accu_stratified)*100, '%')\n",
        "print('Standard Deviation is: \\n', stdev(lst_accu_stratified))\n",
        "\n",
        "print('List of possible accuracy for trainning:', train_accuracy_list)\n",
        "print('List of possible accuracy for testing:', test_accuracy_list)\n",
        "\n",
        "print(f'Mean Accuracy: {np.mean(accs)}, Mean Precision: {np.mean(precs)}, Mean Recall: {np.mean(recs)}, Mean f1_score: {np.mean(f1)}')"
      ]
    },
    {
      "cell_type": "code",
      "execution_count": null,
      "metadata": {
        "id": "I2P3wCJDtMrU"
      },
      "outputs": [],
      "source": [
        "model7 = AdaBoostClassifier(algorithm='SAMME.R', n_estimators=1000, learning_rate=0.1).fit(X1_train, y1_train)"
      ]
    },
    {
      "cell_type": "code",
      "execution_count": null,
      "metadata": {
        "id": "XnUmGgS2tNUh"
      },
      "outputs": [],
      "source": [
        "clf = print_auc(model7, X1_train, y1_train, X1_test, y1_test, 'AdaBoost Classifier')\n",
        "results_df6 = pd.DataFrame(data=[['AdaBoost Classifier', clf['f1'], clf['auc'], clf['auc_pr'], clf['recall_sc'][0], clf['recall_sc'][1], clf['precision_sc'][0], clf['precision_sc'][1]]], \n",
        "                          columns=['Model', 'f1_score', 'auc', 'auc_pr', 'recall_classe(0)', 'recall_classe(1)', 'precision_classe(0)', 'precision_classe(1)'])\n",
        "results_df = results_df.append(results_df6, ignore_index=True)\n",
        "\n",
        "results_df.style.hide_index()"
      ]
    },
    {
      "cell_type": "markdown",
      "metadata": {
        "id": "efDjm1dBtfZz"
      },
      "source": [
        "## **Decision Tree**"
      ]
    },
    {
      "cell_type": "code",
      "execution_count": null,
      "metadata": {
        "id": "48rr8bz2toDh"
      },
      "outputs": [],
      "source": [
        "from sklearn.tree import DecisionTreeClassifier\n",
        "\n",
        "clf1 = DecisionTreeClassifier(random_state=0)\n",
        "\n",
        "cross_val = StratifiedKFold(n_splits=5)\n",
        "\n",
        "fig, ax = plt.subplots(figsize=(5.5, 5.5))\n",
        "\n",
        "tprs, aucs, y_real, y_prob, prs = [], [], [], [], []\n",
        "\n",
        "mean_recall = np.linspace(0, 1, 100)\n",
        "    \n",
        "plt.figure(figsize=(5.5 , 5.5))\n",
        "\n",
        "accs, precs, recs, f1_scr = [], [], [], []\n",
        "\n",
        "mean_recall = np.linspace(0, 1, 100)\n",
        "mean_fpr = np.linspace(0, 1, 100)\n",
        "\n",
        "i=0\n",
        "\n",
        "param_grid = {'min_samples_split': randint(2, 20),\n",
        "              'max_depth': randint(3, 10),\n",
        "              'min_samples_leaf': randint(2, 10),\n",
        "              'criterion' : ['gini', 'entropy', 'log_loss'],\n",
        "              'max_features': ['auto', 'sqrt', 'log2']}\n",
        "\n",
        "train_accuracy_list = []\n",
        "test_accuracy_list = []\n",
        "lst_accu_stratified = []\n",
        "\n",
        "index_iterator = cross_val.split(X, y)\n",
        "\n",
        "clf_random = clf_random = RandomizedSearchCV(estimator=clf1, param_distributions=param_grid, n_iter=100, scoring='f1', cv=cross_val, verbose=2, n_jobs=-1)\n",
        "for train_index, test_index in index_iterator:\n",
        "    X_train, X_test = X.loc[train_index], X.loc[test_index]\n",
        "    y_train, y_test = y.loc[train_index], y.loc[test_index]\n",
        "  \n",
        "    clf_random.fit(X_train, y_train)\n",
        "    pred_proba = clf_random.predict_proba(X_test)\n",
        "    \n",
        "    precision, recall, _ = precision_recall_curve(y_test, pred_proba[:, 1])\n",
        "    prs.append(interp(mean_recall, precision, recall))\n",
        "    pr_auc = auc(recall, precision)\n",
        "    aucs.append(pr_auc)\n",
        "    plt.plot(recall, precision, lw=3, alpha=0.5, label='Fold %d (AUCPR = %0.2f)' % (i+1, pr_auc))\n",
        "\n",
        "    viz = RocCurveDisplay.from_estimator(clf_random, X_test, y_test, name='ROC fold {}'.format(i+1), ax=ax, alpha=.3)\n",
        "\n",
        "    interp_tpr = np.interp(mean_fpr, viz.fpr, viz.tpr)\n",
        "    interp_tpr[0] = 0.0\n",
        "    tprs.append(interp_tpr)\n",
        "    aucs.append(viz.roc_auc)\n",
        "\n",
        "    lst_accu_stratified.append(clf_random.score(X_test, y_test))\n",
        "    y_train_pred = clf_random.predict(X_train)\n",
        "    train_accuracy = np.mean(y_train_pred.ravel() == y_train.ravel())*100\n",
        "    train_accuracy_list.append(train_accuracy)\n",
        "    y_test_pred = clf_random.predict(X_test)\n",
        "    test_accuracy = np.mean(y_test_pred.ravel() == y_test.ravel())*100\n",
        "    test_accuracy_list.append(test_accuracy)\n",
        "    print('--------------------------------------------------------------------')\n",
        "    print('Best Score: %s'.format(i) % clf_random.best_score_)\n",
        "    print('Best Hyperparameters: %s'.format(i) % clf_random.best_params_)\n",
        "    acc = accuracy_score(y_test, y_test_pred)\n",
        "    prec = precision_score(y_test, y_test_pred)\n",
        "    rec = recall_score(y_test, y_test_pred)\n",
        "    f1 = f1_score(y_test,y_test_pred)\n",
        "    accs.append(acc)\n",
        "    precs.append(prec)\n",
        "    recs.append(rec)\n",
        "    f1_scr.append(f1)\n",
        "    print(f'Accuracy: {acc}, Precision: {prec}, Recall: {rec}, f1_score: {f1}')\n",
        "    i=i+1\n",
        "\n",
        "\n",
        "ax.plot([0, 1], [0, 1], linestyle='--', lw=.7, color='black', label='Chance', alpha=.7)\n",
        "\n",
        "mean_tpr = np.mean(tprs, axis=0)\n",
        "mean_tpr[-1] = 1.0\n",
        "mean_auc = auc(mean_fpr, mean_tpr)\n",
        "std_auc = np.std(aucs)\n",
        "ax.plot(mean_fpr, mean_tpr, color='blue', label=r'Mean ROC (AUC = %0.2f $\\pm$ %0.2f)' % (mean_auc, std_auc), lw=.7, alpha=.7)\n",
        "\n",
        "std_tpr = np.std(tprs, axis=0)\n",
        "tprs_upper = np.minimum(mean_tpr + std_tpr, 1)\n",
        "tprs_lower = np.maximum(mean_tpr - std_tpr, 0)\n",
        "ax.fill_between(mean_fpr, tprs_lower, tprs_upper, color='grey', alpha=.7, label=r'$\\pm$ 1 std. dev.')\n",
        "\n",
        "ax.set(xlim=[-0.05, 1.05], ylim=[-0.05, 1.05], title=\"Receiver operating characteristic for LGBM\")\n",
        "ax.legend(loc=\"lower right\")\n",
        "plt.show()\n",
        "\n",
        "plt.plot([0, 1], [1, 0], linestyle='--', lw=.7, color='k', label='Luck', alpha=.7)\n",
        "mean_precision = np.mean(prs, axis=0)\n",
        "mean_auc = auc(mean_recall, mean_precision)\n",
        "std_auc = np.std(aucs)\n",
        "plt.plot(mean_precision, mean_recall, color='navy',label=r'Mean (AUCPR = %0.3f $\\pm$ %0.2f)' % (mean_auc, std_auc),lw=4)\n",
        "    \n",
        "plt.xlim([-0.05, 1.05])\n",
        "plt.ylim([-0.05, 1.05])\n",
        "plt.xlabel('Recall' ,  fontweight = \"bold\" , fontsize=10)\n",
        "plt.ylabel('Precision',fontweight = \"bold\" , fontsize=10)\n",
        "plt.tick_params(axis='both', which='major', labelsize=10)\n",
        "plt.legend( prop={'size':10} , loc = 0)\n",
        "plt.show()\n",
        "\n",
        "from statistics import mean\n",
        "from statistics import stdev\n",
        "\n",
        "print('List of possible accuracy: \\n', lst_accu_stratified)\n",
        "print('Maximum Accuracy That can be obtained from this model is: \\n', max(lst_accu_stratified)*100, '%')\n",
        "print('Minimum Accuracy: \\n', min(lst_accu_stratified)*100, '%')\n",
        "print('Overall Accuracy: \\n', mean(lst_accu_stratified)*100, '%')\n",
        "print('Standard Deviation is: \\n', stdev(lst_accu_stratified))\n",
        "\n",
        "print('List of possible accuracy for trainning:', train_accuracy_list)\n",
        "print('List of possible accuracy for testing:', test_accuracy_list)\n",
        "\n",
        "print(f'Mean Accuracy: {np.mean(accs)}, Mean Precision: {np.mean(precs)}, Mean Recall: {np.mean(recs)}, Mean f1_score: {np.mean(f1)}')"
      ]
    },
    {
      "cell_type": "code",
      "execution_count": null,
      "metadata": {
        "id": "veO8tTDJuJR9"
      },
      "outputs": [],
      "source": [
        "model8 = DecisionTreeClassifier(min_samples_leaf=20, min_samples_split=3, max_depth=5, criterion='entropy').fit(X1_train, y1_train)"
      ]
    },
    {
      "cell_type": "code",
      "execution_count": null,
      "metadata": {
        "id": "5GaUvPJ4t7Xd"
      },
      "outputs": [],
      "source": [
        "clf = print_auc(model8, X1_train, y1_train, X1_test, y1_test, 'DecisionTree Classifier')\n",
        "results_df7 = pd.DataFrame(data=[['DecisionTree Classifier', clf['f1'], clf['auc'], clf['auc_pr'], clf['recall_sc'][0], clf['recall_sc'][1], clf['precision_sc'][0], clf['precision_sc'][1]]], \n",
        "                          columns=['Model', 'f1_score', 'auc', 'auc_pr', 'recall_classe(0)', 'recall_classe(1)', 'precision_classe(0)', 'precision_classe(1)'])\n",
        "results_df = results_df.append(results_df7, ignore_index=True)\n",
        "\n",
        "results_df.style.hide_index()"
      ]
    },
    {
      "cell_type": "markdown",
      "metadata": {
        "id": "YWaEjF1JuTGW"
      },
      "source": [
        "## **GaussianNB**\n"
      ]
    },
    {
      "cell_type": "code",
      "execution_count": null,
      "metadata": {
        "id": "58Lk3OpnucLZ"
      },
      "outputs": [],
      "source": [
        "from sklearn.naive_bayes import GaussianNB\n",
        "\n",
        "clf1 = GaussianNB()\n",
        "\n",
        "cross_val = StratifiedKFold(n_splits=5)\n",
        "\n",
        "fig, ax = plt.subplots(figsize=(5.5, 5.5))\n",
        "\n",
        "tprs, aucs, y_real, y_prob, prs = [], [], [], [], []\n",
        "\n",
        "mean_recall = np.linspace(0, 1, 100)\n",
        "    \n",
        "plt.figure(figsize=(5.5 , 5.5))\n",
        "\n",
        "accs, precs, recs, f1_scr = [], [], [], []\n",
        "\n",
        "mean_recall = np.linspace(0, 1, 100)\n",
        "mean_fpr = np.linspace(0, 1, 100)\n",
        "\n",
        "i=0\n",
        "\n",
        "param_grid = {'var_smoothing': uniform(1e-9, 1e-6)}\n",
        "\n",
        "train_accuracy_list = []\n",
        "test_accuracy_list = []\n",
        "lst_accu_stratified = []\n",
        "\n",
        "index_iterator = cross_val.split(X, y)\n",
        "\n",
        "clf_random = clf_random = RandomizedSearchCV(estimator=clf1, param_distributions=param_grid, n_iter=100, scoring='f1', cv=cross_val, verbose=2, n_jobs=-1)\n",
        "for train_index, test_index in index_iterator:\n",
        "    X_train, X_test = X.loc[train_index], X.loc[test_index]\n",
        "    y_train, y_test = y.loc[train_index], y.loc[test_index]\n",
        "  \n",
        "    clf_random.fit(X_train, y_train)\n",
        "    pred_proba = clf_random.predict_proba(X_test)\n",
        "    \n",
        "    precision, recall, _ = precision_recall_curve(y_test, pred_proba[:, 1])\n",
        "    prs.append(interp(mean_recall, precision, recall))\n",
        "    pr_auc = auc(recall, precision)\n",
        "    aucs.append(pr_auc)\n",
        "    plt.plot(recall, precision, lw=3, alpha=0.5, label='Fold %d (AUCPR = %0.2f)' % (i+1, pr_auc))\n",
        "\n",
        "    viz = RocCurveDisplay.from_estimator(clf_random, X_test, y_test, name='ROC fold {}'.format(i+1), ax=ax, alpha=.3)\n",
        "\n",
        "    interp_tpr = np.interp(mean_fpr, viz.fpr, viz.tpr)\n",
        "    interp_tpr[0] = 0.0\n",
        "    tprs.append(interp_tpr)\n",
        "    aucs.append(viz.roc_auc)\n",
        "\n",
        "    lst_accu_stratified.append(clf_random.score(X_test, y_test))\n",
        "    y_train_pred = clf_random.predict(X_train)\n",
        "    train_accuracy = np.mean(y_train_pred.ravel() == y_train.ravel())*100\n",
        "    train_accuracy_list.append(train_accuracy)\n",
        "    y_test_pred = clf_random.predict(X_test)\n",
        "    test_accuracy = np.mean(y_test_pred.ravel() == y_test.ravel())*100\n",
        "    test_accuracy_list.append(test_accuracy)\n",
        "    print('--------------------------------------------------------------------')\n",
        "    print('Best Score: %s'.format(i) % clf_random.best_score_)\n",
        "    print('Best Hyperparameters: %s'.format(i) % clf_random.best_params_)\n",
        "    acc = accuracy_score(y_test, y_test_pred)\n",
        "    prec = precision_score(y_test, y_test_pred)\n",
        "    rec = recall_score(y_test, y_test_pred)\n",
        "    f1 = f1_score(y_test,y_test_pred)\n",
        "    accs.append(acc)\n",
        "    precs.append(prec)\n",
        "    recs.append(rec)\n",
        "    f1_scr.append(f1)\n",
        "    print(f'Accuracy: {acc}, Precision: {prec}, Recall: {rec}, f1_score: {f1}')\n",
        "    i=i+1\n",
        "\n",
        "\n",
        "ax.plot([0, 1], [0, 1], linestyle='--', lw=.7, color='black', label='Chance', alpha=.7)\n",
        "\n",
        "mean_tpr = np.mean(tprs, axis=0)\n",
        "mean_tpr[-1] = 1.0\n",
        "mean_auc = auc(mean_fpr, mean_tpr)\n",
        "std_auc = np.std(aucs)\n",
        "ax.plot(mean_fpr, mean_tpr, color='blue', label=r'Mean ROC (AUC = %0.2f $\\pm$ %0.2f)' % (mean_auc, std_auc), lw=.7, alpha=.7)\n",
        "\n",
        "std_tpr = np.std(tprs, axis=0)\n",
        "tprs_upper = np.minimum(mean_tpr + std_tpr, 1)\n",
        "tprs_lower = np.maximum(mean_tpr - std_tpr, 0)\n",
        "ax.fill_between(mean_fpr, tprs_lower, tprs_upper, color='grey', alpha=.7, label=r'$\\pm$ 1 std. dev.')\n",
        "\n",
        "ax.set(xlim=[-0.05, 1.05], ylim=[-0.05, 1.05], title=\"Receiver operating characteristic for LGBM\")\n",
        "ax.legend(loc=\"lower right\")\n",
        "plt.show()\n",
        "\n",
        "plt.plot([0, 1], [1, 0], linestyle='--', lw=.7, color='k', label='Luck', alpha=.7)\n",
        "mean_precision = np.mean(prs, axis=0)\n",
        "mean_auc = auc(mean_recall, mean_precision)\n",
        "std_auc = np.std(aucs)\n",
        "plt.plot(mean_precision, mean_recall, color='navy',label=r'Mean (AUCPR = %0.3f $\\pm$ %0.2f)' % (mean_auc, std_auc),lw=4)\n",
        "    \n",
        "plt.xlim([-0.05, 1.05])\n",
        "plt.ylim([-0.05, 1.05])\n",
        "plt.xlabel('Recall' ,  fontweight = \"bold\" , fontsize=10)\n",
        "plt.ylabel('Precision',fontweight = \"bold\" , fontsize=10)\n",
        "plt.tick_params(axis='both', which='major', labelsize=10)\n",
        "plt.legend( prop={'size':10} , loc = 0)\n",
        "plt.show()\n",
        "\n",
        "from statistics import mean\n",
        "from statistics import stdev\n",
        "\n",
        "print('List of possible accuracy: \\n', lst_accu_stratified)\n",
        "print('Maximum Accuracy That can be obtained from this model is: \\n', max(lst_accu_stratified)*100, '%')\n",
        "print('Minimum Accuracy: \\n', min(lst_accu_stratified)*100, '%')\n",
        "print('Overall Accuracy: \\n', mean(lst_accu_stratified)*100, '%')\n",
        "print('Standard Deviation is: \\n', stdev(lst_accu_stratified))\n",
        "\n",
        "print('List of possible accuracy for trainning:', train_accuracy_list)\n",
        "print('List of possible accuracy for testing:', test_accuracy_list)\n",
        "\n",
        "print(f'Mean Accuracy: {np.mean(accs)}, Mean Precision: {np.mean(precs)}, Mean Recall: {np.mean(recs)}, Mean f1_score: {np.mean(f1)}')"
      ]
    },
    {
      "cell_type": "code",
      "execution_count": null,
      "metadata": {
        "id": "pe8yxKLcuzmc"
      },
      "outputs": [],
      "source": [
        "model9 = GaussianNB(var_smoothing=0.1).fit(X1_train, y1_train)"
      ]
    },
    {
      "cell_type": "code",
      "execution_count": null,
      "metadata": {
        "id": "7baiNO28up42"
      },
      "outputs": [],
      "source": [
        "clf = print_auc(model9, X1_train, y1_train, X1_test, y1_test, 'GaussianNB')\n",
        "results_df8 = pd.DataFrame(data=[['GaussianNB', clf['f1'], clf['auc'], clf['auc_pr'], clf['recall_sc'][0], clf['recall_sc'][1], clf['precision_sc'][0], clf['precision_sc'][1]]], \n",
        "                          columns=['Model', 'f1_score', 'auc', 'auc_pr', 'recall_classe(0)', 'recall_classe(1)', 'precision_classe(0)', 'precision_classe(1)'])\n",
        "results_df = results_df.append(results_df8, ignore_index=True)\n",
        "\n",
        "results_df.style.hide_index()"
      ]
    },
    {
      "cell_type": "markdown",
      "metadata": {
        "id": "uVPPzb2fu3Vx"
      },
      "source": [
        "## **LGBM**"
      ]
    },
    {
      "cell_type": "code",
      "execution_count": null,
      "metadata": {
        "id": "rNrWQQLLvNc5"
      },
      "outputs": [],
      "source": [
        "import lightgbm as lgb\n",
        "\n",
        "clf1 = lgb.LGBMClassifier()\n",
        "\n",
        "cross_val = StratifiedKFold(n_splits=5)\n",
        "\n",
        "fig, ax = plt.subplots(figsize=(5.5, 5.5))\n",
        "\n",
        "tprs, aucs, y_real, y_prob, prs = [], [], [], [], []\n",
        "\n",
        "mean_recall = np.linspace(0, 1, 100)\n",
        "    \n",
        "plt.figure(figsize=(5.5 , 5.5))\n",
        "\n",
        "accs, precs, recs, f1_scr = [], [], [], []\n",
        "\n",
        "mean_recall = np.linspace(0, 1, 100)\n",
        "mean_fpr = np.linspace(0, 1, 100)\n",
        "\n",
        "i=0\n",
        "\n",
        "param_grid = {'num_leaves': randint(10, 30),\n",
        "              'max_depth': randint(3, 10),\n",
        "              'learning_rate': uniform(1e-5, 1),\n",
        "              'n_estimators': randint(50, 200),\n",
        "              'min_child_samples': randint(10, 30),\n",
        "              'subsample': uniform(0.8, 1),\n",
        "              'colsample_bytree': uniform(0.8, 1),\n",
        "              'class_weight' : ['balanced', None, class_weights]}\n",
        "\n",
        "train_accuracy_list = []\n",
        "test_accuracy_list = []\n",
        "lst_accu_stratified = []\n",
        "\n",
        "index_iterator = cross_val.split(X, y)\n",
        "\n",
        "clf_random = clf_random = RandomizedSearchCV(estimator=clf1, param_distributions=param_grid, n_iter=100, scoring='f1', cv=cross_val, verbose=2, n_jobs=-1)\n",
        "for train_index, test_index in index_iterator:\n",
        "    X_train, X_test = X.loc[train_index], X.loc[test_index]\n",
        "    y_train, y_test = y.loc[train_index], y.loc[test_index]\n",
        "  \n",
        "    clf_random.fit(X_train, y_train)\n",
        "    pred_proba = clf_random.predict_proba(X_test)\n",
        "    \n",
        "    precision, recall, _ = precision_recall_curve(y_test, pred_proba[:, 1])\n",
        "    prs.append(interp(mean_recall, precision, recall))\n",
        "    pr_auc = auc(recall, precision)\n",
        "    aucs.append(pr_auc)\n",
        "    plt.plot(recall, precision, lw=3, alpha=0.5, label='Fold %d (AUCPR = %0.2f)' % (i+1, pr_auc))\n",
        "\n",
        "    viz = RocCurveDisplay.from_estimator(clf_random, X_test, y_test, name='ROC fold {}'.format(i+1), ax=ax, alpha=.3)\n",
        "\n",
        "    interp_tpr = np.interp(mean_fpr, viz.fpr, viz.tpr)\n",
        "    interp_tpr[0] = 0.0\n",
        "    tprs.append(interp_tpr)\n",
        "    aucs.append(viz.roc_auc)\n",
        "\n",
        "    lst_accu_stratified.append(clf_random.score(X_test, y_test))\n",
        "    y_train_pred = clf_random.predict(X_train)\n",
        "    train_accuracy = np.mean(y_train_pred.ravel() == y_train.ravel())*100\n",
        "    train_accuracy_list.append(train_accuracy)\n",
        "    y_test_pred = clf_random.predict(X_test)\n",
        "    test_accuracy = np.mean(y_test_pred.ravel() == y_test.ravel())*100\n",
        "    test_accuracy_list.append(test_accuracy)\n",
        "    print('--------------------------------------------------------------------')\n",
        "    print('Best Score: %s'.format(i) % clf_random.best_score_)\n",
        "    print('Best Hyperparameters: %s'.format(i) % clf_random.best_params_)\n",
        "    acc = accuracy_score(y_test, y_test_pred)\n",
        "    prec = precision_score(y_test, y_test_pred)\n",
        "    rec = recall_score(y_test, y_test_pred)\n",
        "    f1 = f1_score(y_test,y_test_pred)\n",
        "    accs.append(acc)\n",
        "    precs.append(prec)\n",
        "    recs.append(rec)\n",
        "    f1_scr.append(f1)\n",
        "    print(f'Accuracy: {acc}, Precision: {prec}, Recall: {rec}, f1_score: {f1}')\n",
        "    i=i+1\n",
        "\n",
        "\n",
        "ax.plot([0, 1], [0, 1], linestyle='--', lw=.7, color='black', label='Chance', alpha=.7)\n",
        "\n",
        "mean_tpr = np.mean(tprs, axis=0)\n",
        "mean_tpr[-1] = 1.0\n",
        "mean_auc = auc(mean_fpr, mean_tpr)\n",
        "std_auc = np.std(aucs)\n",
        "ax.plot(mean_fpr, mean_tpr, color='blue', label=r'Mean ROC (AUC = %0.2f $\\pm$ %0.2f)' % (mean_auc, std_auc), lw=.7, alpha=.7)\n",
        "\n",
        "std_tpr = np.std(tprs, axis=0)\n",
        "tprs_upper = np.minimum(mean_tpr + std_tpr, 1)\n",
        "tprs_lower = np.maximum(mean_tpr - std_tpr, 0)\n",
        "ax.fill_between(mean_fpr, tprs_lower, tprs_upper, color='grey', alpha=.7, label=r'$\\pm$ 1 std. dev.')\n",
        "\n",
        "ax.set(xlim=[-0.05, 1.05], ylim=[-0.05, 1.05], title=\"Receiver operating characteristic for LGBM\")\n",
        "ax.legend(loc=\"lower right\")\n",
        "plt.show()\n",
        "\n",
        "plt.plot([0, 1], [1, 0], linestyle='--', lw=.7, color='k', label='Luck', alpha=.7)\n",
        "mean_precision = np.mean(prs, axis=0)\n",
        "mean_auc = auc(mean_recall, mean_precision)\n",
        "std_auc = np.std(aucs)\n",
        "plt.plot(mean_precision, mean_recall, color='navy',label=r'Mean (AUCPR = %0.3f $\\pm$ %0.2f)' % (mean_auc, std_auc),lw=4)\n",
        "    \n",
        "plt.xlim([-0.05, 1.05])\n",
        "plt.ylim([-0.05, 1.05])\n",
        "plt.xlabel('Recall' ,  fontweight = \"bold\" , fontsize=10)\n",
        "plt.ylabel('Precision',fontweight = \"bold\" , fontsize=10)\n",
        "plt.tick_params(axis='both', which='major', labelsize=10)\n",
        "plt.legend( prop={'size':10} , loc = 0)\n",
        "plt.show()\n",
        "\n",
        "from statistics import mean\n",
        "from statistics import stdev\n",
        "\n",
        "print('List of possible accuracy: \\n', lst_accu_stratified)\n",
        "print('Maximum Accuracy That can be obtained from this model is: \\n', max(lst_accu_stratified)*100, '%')\n",
        "print('Minimum Accuracy: \\n', min(lst_accu_stratified)*100, '%')\n",
        "print('Overall Accuracy: \\n', mean(lst_accu_stratified)*100, '%')\n",
        "print('Standard Deviation is: \\n', stdev(lst_accu_stratified))\n",
        "\n",
        "print('List of possible accuracy for trainning:', train_accuracy_list)\n",
        "print('List of possible accuracy for testing:', test_accuracy_list)\n",
        "\n",
        "print(f'Mean Accuracy: {np.mean(accs)}, Mean Precision: {np.mean(precs)}, Mean Recall: {np.mean(recs)}, Mean f1_score: {np.mean(f1)}')"
      ]
    },
    {
      "cell_type": "code",
      "execution_count": null,
      "metadata": {
        "id": "Bw-Qi6uavE0t"
      },
      "outputs": [],
      "source": [
        "model10 = lgb.LGBMClassifier(num_leaves=31, reg_alpha=0.1, lambda_l1=0, lambda_l2=0, min_data_in_leaf=100 ).fit(X1_train, y1_train)"
      ]
    },
    {
      "cell_type": "code",
      "execution_count": null,
      "metadata": {
        "id": "NyGbhmrEu7Lr"
      },
      "outputs": [],
      "source": [
        "clf = print_auc(model10, X1_train, y1_train, X1_test, y1_test, 'LGBN')\n",
        "results_df9 = pd.DataFrame(data=[['LGBM', clf['f1'], clf['auc'], clf['auc_pr'], clf['recall_sc'][0], clf['recall_sc'][1], clf['precision_sc'][0], clf['precision_sc'][1]]], \n",
        "                          columns=['Model', 'f1_score', 'auc', 'auc_pr', 'recall_classe(0)', 'recall_classe(1)', 'precision_classe(0)', 'precision_classe(1)'])\n",
        "results_df = results_df.append(results_df9, ignore_index=True)\n",
        "\n",
        "results_df.style.hide_index()"
      ]
    },
    {
      "cell_type": "markdown",
      "metadata": {
        "id": "zABwFvKFvgno"
      },
      "source": [
        "## **XGB**"
      ]
    },
    {
      "cell_type": "code",
      "execution_count": null,
      "metadata": {
        "id": "LhfKa_yLvj0-"
      },
      "outputs": [],
      "source": [
        "import xgboost as xgb\n",
        "\n",
        "clf1 = xgb.XGBClassifier(objective='binary:logistic', scale_pos_weight=imbalance_ratio)\n",
        "\n",
        "cross_val = StratifiedKFold(n_splits=5)\n",
        "\n",
        "fig, ax = plt.subplots(figsize=(5.5, 5.5))\n",
        "\n",
        "tprs, aucs, y_real, y_prob, prs = [], [], [], [], []\n",
        "\n",
        "mean_recall = np.linspace(0, 1, 100)\n",
        "    \n",
        "plt.figure(figsize=(5.5 , 5.5))\n",
        "\n",
        "accs, precs, recs, f1_scr = [], [], [], []\n",
        "\n",
        "mean_recall = np.linspace(0, 1, 100)\n",
        "mean_fpr = np.linspace(0, 1, 100)\n",
        "\n",
        "i=0\n",
        "\n",
        "param_grid = {'learning_rate' : uniform(1e-5, 1),\n",
        "              'max_depth' : randint(3, 25),\n",
        "              'gamma' : uniform(0.1, 1),\n",
        "              'subsample': uniform(0.5, 1),\n",
        "              'colsample_bytree': uniform(0.5, 1),\n",
        "              'scale_pos_weight': [1, imbalance_ratio]}\n",
        "\n",
        "train_accuracy_list = []\n",
        "test_accuracy_list = []\n",
        "lst_accu_stratified = []\n",
        "\n",
        "index_iterator = cross_val.split(X, y)\n",
        "\n",
        "clf_random = clf_random = RandomizedSearchCV(estimator=clf1, param_distributions=param_grid, n_iter=100, scoring='f1', cv=cross_val, verbose=2, n_jobs=-1)\n",
        "for train_index, test_index in index_iterator:\n",
        "    X_train, X_test = X.loc[train_index], X.loc[test_index]\n",
        "    y_train, y_test = y.loc[train_index], y.loc[test_index]\n",
        "  \n",
        "    clf_random.fit(X_train, y_train)\n",
        "    pred_proba = clf_random.predict_proba(X_test)\n",
        "    \n",
        "    precision, recall, _ = precision_recall_curve(y_test, pred_proba[:, 1])\n",
        "    prs.append(interp(mean_recall, precision, recall))\n",
        "    pr_auc = auc(recall, precision)\n",
        "    aucs.append(pr_auc)\n",
        "    plt.plot(recall, precision, lw=3, alpha=0.5, label='Fold %d (AUCPR = %0.2f)' % (i+1, pr_auc))\n",
        "\n",
        "    viz = RocCurveDisplay.from_estimator(clf_random, X_test, y_test, name='ROC fold {}'.format(i+1), ax=ax, alpha=.3)\n",
        "\n",
        "    interp_tpr = np.interp(mean_fpr, viz.fpr, viz.tpr)\n",
        "    interp_tpr[0] = 0.0\n",
        "    tprs.append(interp_tpr)\n",
        "    aucs.append(viz.roc_auc)\n",
        "\n",
        "    lst_accu_stratified.append(clf_random.score(X_test, y_test))\n",
        "    y_train_pred = clf_random.predict(X_train)\n",
        "    train_accuracy = np.mean(y_train_pred.ravel() == y_train.ravel())*100\n",
        "    train_accuracy_list.append(train_accuracy)\n",
        "    y_test_pred = clf_random.predict(X_test)\n",
        "    test_accuracy = np.mean(y_test_pred.ravel() == y_test.ravel())*100\n",
        "    test_accuracy_list.append(test_accuracy)\n",
        "    print('--------------------------------------------------------------------')\n",
        "    print('Best Score: %s'.format(i) % clf_random.best_score_)\n",
        "    print('Best Hyperparameters: %s'.format(i) % clf_random.best_params_)\n",
        "    acc = accuracy_score(y_test, y_test_pred)\n",
        "    prec = precision_score(y_test, y_test_pred)\n",
        "    rec = recall_score(y_test, y_test_pred)\n",
        "    f1 = f1_score(y_test,y_test_pred)\n",
        "    accs.append(acc)\n",
        "    precs.append(prec)\n",
        "    recs.append(rec)\n",
        "    f1_scr.append(f1)\n",
        "    print(f'Accuracy: {acc}, Precision: {prec}, Recall: {rec}, f1_score: {f1}')\n",
        "    i=i+1\n",
        "\n",
        "\n",
        "ax.plot([0, 1], [0, 1], linestyle='--', lw=.7, color='black', label='Chance', alpha=.7)\n",
        "\n",
        "mean_tpr = np.mean(tprs, axis=0)\n",
        "mean_tpr[-1] = 1.0\n",
        "mean_auc = auc(mean_fpr, mean_tpr)\n",
        "std_auc = np.std(aucs)\n",
        "ax.plot(mean_fpr, mean_tpr, color='blue', label=r'Mean ROC (AUC = %0.2f $\\pm$ %0.2f)' % (mean_auc, std_auc), lw=.7, alpha=.7)\n",
        "\n",
        "std_tpr = np.std(tprs, axis=0)\n",
        "tprs_upper = np.minimum(mean_tpr + std_tpr, 1)\n",
        "tprs_lower = np.maximum(mean_tpr - std_tpr, 0)\n",
        "ax.fill_between(mean_fpr, tprs_lower, tprs_upper, color='grey', alpha=.7, label=r'$\\pm$ 1 std. dev.')\n",
        "\n",
        "ax.set(xlim=[-0.05, 1.05], ylim=[-0.05, 1.05], title=\"Receiver operating characteristic for LGBM\")\n",
        "ax.legend(loc=\"lower right\")\n",
        "plt.show()\n",
        "\n",
        "plt.plot([0, 1], [1, 0], linestyle='--', lw=.7, color='k', label='Luck', alpha=.7)\n",
        "mean_precision = np.mean(prs, axis=0)\n",
        "mean_auc = auc(mean_recall, mean_precision)\n",
        "std_auc = np.std(aucs)\n",
        "plt.plot(mean_precision, mean_recall, color='navy',label=r'Mean (AUCPR = %0.3f $\\pm$ %0.2f)' % (mean_auc, std_auc),lw=4)\n",
        "    \n",
        "plt.xlim([-0.05, 1.05])\n",
        "plt.ylim([-0.05, 1.05])\n",
        "plt.xlabel('Recall' ,  fontweight = \"bold\" , fontsize=10)\n",
        "plt.ylabel('Precision',fontweight = \"bold\" , fontsize=10)\n",
        "plt.tick_params(axis='both', which='major', labelsize=10)\n",
        "plt.legend( prop={'size':10} , loc = 0)\n",
        "plt.show()\n",
        "\n",
        "from statistics import mean\n",
        "from statistics import stdev\n",
        "\n",
        "print('List of possible accuracy: \\n', lst_accu_stratified)\n",
        "print('Maximum Accuracy That can be obtained from this model is: \\n', max(lst_accu_stratified)*100, '%')\n",
        "print('Minimum Accuracy: \\n', min(lst_accu_stratified)*100, '%')\n",
        "print('Overall Accuracy: \\n', mean(lst_accu_stratified)*100, '%')\n",
        "print('Standard Deviation is: \\n', stdev(lst_accu_stratified))\n",
        "\n",
        "print('List of possible accuracy for trainning:', train_accuracy_list)\n",
        "print('List of possible accuracy for testing:', test_accuracy_list)\n",
        "\n",
        "print(f'Mean Accuracy: {np.mean(accs)}, Mean Precision: {np.mean(precs)}, Mean Recall: {np.mean(recs)}, Mean f1_score: {np.mean(f1)}')"
      ]
    },
    {
      "cell_type": "code",
      "execution_count": null,
      "metadata": {
        "id": "h_PxjO01wyaa"
      },
      "outputs": [],
      "source": [
        "model11 = xgb.XGBClassifier(objective='binary:logistic', scale_pos_weight=imbalance_ratio, learning_rate=, max_depth=, subsample=, colsample_bytree=, reg_alpha=, reg_lambda=).fit(X1_train, y1_train)"
      ]
    },
    {
      "cell_type": "code",
      "execution_count": null,
      "metadata": {
        "id": "ljLl5Wiswmn_"
      },
      "outputs": [],
      "source": [
        "clf = print_auc(model11, X1_train, y1_train, X1_test, y1_test, 'XGB Classifer')\n",
        "results_df10 = pd.DataFrame(data=[['XGB Classifer', clf['f1'], clf['auc'], clf['auc_pr'], clf['recall_sc'][0], clf['recall_sc'][1], clf['precision_sc'][0], clf['precision_sc'][1]]], \n",
        "                          columns=['Model', 'f1_score', 'auc', 'auc_pr', 'recall_classe(0)', 'recall_classe(1)', 'precision_classe(0)', 'precision_classe(1)'])\n",
        "results_df = results_df.append(results_df10, ignore_index=True)\n",
        "\n",
        "results_df.style.hide_index()"
      ]
    },
    {
      "cell_type": "code",
      "execution_count": null,
      "metadata": {
        "id": "L0bBHzo6yHmv"
      },
      "outputs": [],
      "source": [
        "def plot_feature_importances(clf, X_train, y_train=None, top_n=10, figsize=(5.5, 5.5), print_table=False, title=\"Feature Importances\"):\n",
        "    '''\n",
        "    plot feature importances of a tree-based sklearn estimator\n",
        "    \n",
        "    Note: X_train and y_train are pandas DataFrames\n",
        "    \n",
        "    Note: Scikit-plot is a lovely package but I sometimes have issues\n",
        "              1. flexibility/extendibility\n",
        "              2. complicated models/datasets\n",
        "          But for many situations Scikit-plot is the way to go\n",
        "          see https://scikit-plot.readthedocs.io/en/latest/Quickstart.html\n",
        "    \n",
        "    Parameters\n",
        "    ----------\n",
        "        clf         (sklearn estimator) if not fitted, this routine will fit it\n",
        "        \n",
        "        X_train     (pandas DataFrame)\n",
        "        \n",
        "        y_train     (pandas DataFrame)  optional\n",
        "                                        required only if clf has not already been fitted \n",
        "        \n",
        "        top_n       (int)               Plot the top_n most-important features\n",
        "                                        Default: 10\n",
        "                                        \n",
        "        figsize     ((int,int))         The physical size of the plot\n",
        "                                        Default: (8,8)\n",
        "        \n",
        "        print_table (boolean)           If True, print out the table of feature importances\n",
        "                                        Default: False\n",
        "        \n",
        "    Returns\n",
        "    -------\n",
        "        the pandas dataframe with the features and their importance\n",
        "        \n",
        "    Author\n",
        "    ------\n",
        "        George Fisher\n",
        "    '''\n",
        "    \n",
        "    __name__ = \"plot_feature_importances\"\n",
        "    \n",
        "    import pandas as pd\n",
        "    import numpy  as np\n",
        "    import matplotlib.pyplot as plt\n",
        "    \n",
        "    from lightgbm.sklearn import LightGBMError\n",
        "    \n",
        "    try: \n",
        "        if not hasattr(clf, 'feature_importances_'):\n",
        "            clf.fit(X_train.values, y_train.values.ravel())\n",
        "\n",
        "            if not hasattr(clf, 'feature_importances_'):\n",
        "                raise AttributeError(\"{} does not have feature_importances_ attribute\".\n",
        "                                    format(clf.__class__.__name__))\n",
        "                \n",
        "    except (LightGBMError, ValueError):\n",
        "        clf.fit(X_train.values, y_train.values.ravel())\n",
        "            \n",
        "    feat_imp = pd.DataFrame({'importance':clf.feature_importances_})    \n",
        "    feat_imp['feature'] = X_train.columns\n",
        "    feat_imp.sort_values(by='importance', ascending=False, inplace=True)\n",
        "    feat_imp = feat_imp.iloc[:top_n]\n",
        "    \n",
        "    feat_imp.sort_values(by='importance', inplace=True)\n",
        "    feat_imp = feat_imp.set_index('feature', drop=True)\n",
        "    feat_imp.plot.barh(title=title, figsize=figsize)\n",
        "    plt.xlabel('Feature Importance Score')\n",
        "    plt.show()\n",
        "    \n",
        "    if print_table:\n",
        "        from IPython.display import display\n",
        "        print(\"Top {} features in descending order of importance\".format(top_n))\n",
        "        display(feat_imp.sort_values(by='importance', ascending=False))\n",
        "        \n",
        "    return feat_imp"
      ]
    },
    {
      "cell_type": "code",
      "execution_count": null,
      "metadata": {
        "id": "N6TQUgCWzHFj"
      },
      "outputs": [],
      "source": [
        "my_clf = lgb.LGBMClassifier(num_leaves=31, reg_alpha=0.1, lambda_l1=0, lambda_l2=0, min_data_in_leaf=100)"
      ]
    },
    {
      "cell_type": "code",
      "execution_count": null,
      "metadata": {
        "id": "1PhETGlYzNt8"
      },
      "outputs": [],
      "source": [
        "plot_feature_importances(my_clf, X1_train, y1_train, top_n=X1_train.shape[1], title=clf.__class__.__name__)"
      ]
    },
    {
      "cell_type": "code",
      "execution_count": null,
      "metadata": {
        "id": "kB_Kd_gQzmVz"
      },
      "outputs": [],
      "source": [
        "clf1 = print_auc(model1, X1_train, y1_train, X1_test, y1_test, \"Logistic Regression\")\n",
        "clf2 = print_auc(model2, X1_train, y1_train, X1_test, y1_test, \"SVM\")\n",
        "clf3 = print_auc(model3, X1_train, y1_train, X1_test, y1_test, \"Gradient Boosting\")\n",
        "clf4 = print_auc(model4, X1_train, y1_train, X1_test, y1_test, \"Random Forest\")\n",
        "clf5 = print_auc(model5, X1_train, y1_train, X1_test, y1_test, \"KNeighbors Classifier\")\n",
        "clf6 = print_auc(model6, X1_train, y1_train, X1_test, y1_test, \"ExtraTrees Classifier\")\n",
        "clf7 = print_auc(model7, X1_train, y1_train, X1_test, y1_test, \"Adaboost Classifier\")\n",
        "clf8 = print_auc(model8, X1_train, y1_train, X1_test, y1_test, \"DecisionTree  Classifier \")\n",
        "clf9 = print_auc(model9, X1_train, y1_train, X1_test, y1_test, \"GaussianNB\")\n",
        "clf10 = print_auc(model10, X1_train, y1_train, X1_test, y1_test, \"LGBM\")\n",
        "clf11 = print_auc(model10, X1_train, y1_train, X1_test, y1_test, \"XGB\")"
      ]
    },
    {
      "cell_type": "code",
      "execution_count": null,
      "metadata": {
        "id": "acsv-t5q0zh7"
      },
      "outputs": [],
      "source": [
        "plt.rcParams[\"figure.figsize\"] = [16, 8]\n",
        "plt.plot(clf10[\"fpr\"], clf10[\"tpr\"], label=\"LGBM, auc=\"+str(clf10[\"auc\"]))\n",
        "plt.plot(clf1[\"fpr\"], clf1[\"tpr\"], label=\"LR, auc=\"+str(clf1[\"auc\"]))\n",
        "plt.plot(clf2[\"fpr\"], clf2[\"tpr\"], label=\"SVM, auc=\"+str(clf2[\"auc\"]))\n",
        "plt.plot(clf3[\"fpr\"], clf3[\"tpr\"], label=\"GB, auc=\"+str(clf3[\"auc\"]))\n",
        "plt.plot(clf6[\"fpr\"], clf6[\"tpr\"], label=\"ExtraTree, auc=\"+str(clf6[\"auc\"]))\n",
        "plt.plot(clf5[\"fpr\"], clf5[\"tpr\"], label=\"KNN, auc=\"+str(clf5[\"auc\"]))\n",
        "plt.plot(clf8[\"fpr\"], clf8[\"tpr\"], label=\"DT, auc=\"+str(clf8[\"auc\"]))\n",
        "plt.plot(clf9[\"fpr\"], clf9[\"tpr\"], label=\"GaussianNB, auc=\"+str(clf9[\"auc\"]))\n",
        "plt.plot(clf4[\"fpr\"], clf4[\"tpr\"], label=\"RF, auc=\"+str(clf4[\"auc\"]))\n",
        "plt.plot(clf7[\"fpr\"], clf7[\"tpr\"], label=\"AdaBoost, auc=\"+str(clf7[\"auc\"]))\n",
        "plt.plot(clf11[\"fpr\"], clf11[\"tpr\"], label=\"XGB, auc=\"+str(clf11[\"auc\"]))\n",
        "\n",
        "plt.xlabel(\"tpr\")\n",
        "plt.ylabel(\"fpr\")\n",
        "plt.legend(loc=4)\n",
        "plt.savefig('figure.png', dpi=300)\n",
        "plt.show()\n"
      ]
    }
  ],
  "metadata": {
    "colab": {
      "provenance": [],
      "include_colab_link": true
    },
    "kernelspec": {
      "display_name": "Python 3",
      "language": "python",
      "name": "python3"
    },
    "language_info": {
      "codemirror_mode": {
        "name": "ipython",
        "version": 3
      },
      "file_extension": ".py",
      "mimetype": "text/x-python",
      "name": "python",
      "nbconvert_exporter": "python",
      "pygments_lexer": "ipython3",
      "version": "3.11.3"
    }
  },
  "nbformat": 4,
  "nbformat_minor": 0
}