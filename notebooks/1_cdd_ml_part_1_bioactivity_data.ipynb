{
  "cells": [
    {
      "cell_type": "markdown",
      "metadata": {
        "id": "view-in-github",
        "colab_type": "text"
      },
      "source": [
        "<a href=\"https://colab.research.google.com/github/mounsifelatouch/cdd/blob/master/notebooks/1_cdd_ml_part_1_bioactivity_data.ipynb\" target=\"_parent\"><img src=\"https://colab.research.google.com/assets/colab-badge.svg\" alt=\"Open In Colab\"/></a>"
      ]
    },
    {
      "cell_type": "markdown",
      "metadata": {
        "id": "wSFbIMb87cHu"
      },
      "source": [
        "# **Bioinformatics Project - Computational Drug Discovery [Part 1] Download Bioactivity Data**\n",
        "\n",
        "**MOUNSIF EL ATOUCH**\n",
        "\n",
        "\n",
        "In this Jupyter notebook, we will be building a machine learning model using the ChEMBL bioactivity data.\n",
        "\n",
        "In **Part 1**, we will be performing Data Collection and Pre-Processing from the ChEMBL Database.\n"
      ]
    },
    {
      "cell_type": "markdown",
      "metadata": {
        "id": "iryGAwAIQ4yf"
      },
      "source": [
        "## **Installing libraries**"
      ]
    },
    {
      "cell_type": "markdown",
      "metadata": {
        "id": "toGT1U_B7F2i"
      },
      "source": [
        "Install the ChEMBL web service package so that we can retrieve bioactivity data from the ChEMBL Database."
      ]
    },
    {
      "cell_type": "code",
      "execution_count": 1,
      "metadata": {
        "colab": {
          "base_uri": "https://localhost:8080/"
        },
        "id": "cJGExHQBfLh7",
        "outputId": "16855709-156d-454c-cad4-7e7e839458f9"
      },
      "outputs": [
        {
          "output_type": "stream",
          "name": "stdout",
          "text": [
            "Looking in indexes: https://pypi.org/simple, https://us-python.pkg.dev/colab-wheels/public/simple/\n",
            "Collecting chembl_webresource_client\n",
            "  Downloading chembl_webresource_client-0.10.8-py3-none-any.whl (55 kB)\n",
            "\u001b[2K     \u001b[90m━━━━━━━━━━━━━━━━━━━━━━━━━━━━━━━━━━━━━━━━\u001b[0m \u001b[32m55.2/55.2 kB\u001b[0m \u001b[31m2.8 MB/s\u001b[0m eta \u001b[36m0:00:00\u001b[0m\n",
            "\u001b[?25hRequirement already satisfied: urllib3 in /usr/local/lib/python3.10/dist-packages (from chembl_webresource_client) (1.26.15)\n",
            "Requirement already satisfied: requests>=2.18.4 in /usr/local/lib/python3.10/dist-packages (from chembl_webresource_client) (2.27.1)\n",
            "Collecting requests-cache~=0.7.0 (from chembl_webresource_client)\n",
            "  Downloading requests_cache-0.7.5-py3-none-any.whl (39 kB)\n",
            "Requirement already satisfied: easydict in /usr/local/lib/python3.10/dist-packages (from chembl_webresource_client) (1.10)\n",
            "Requirement already satisfied: certifi>=2017.4.17 in /usr/local/lib/python3.10/dist-packages (from requests>=2.18.4->chembl_webresource_client) (2022.12.7)\n",
            "Requirement already satisfied: charset-normalizer~=2.0.0 in /usr/local/lib/python3.10/dist-packages (from requests>=2.18.4->chembl_webresource_client) (2.0.12)\n",
            "Requirement already satisfied: idna<4,>=2.5 in /usr/local/lib/python3.10/dist-packages (from requests>=2.18.4->chembl_webresource_client) (3.4)\n",
            "Collecting attrs<22.0,>=21.2 (from requests-cache~=0.7.0->chembl_webresource_client)\n",
            "  Downloading attrs-21.4.0-py2.py3-none-any.whl (60 kB)\n",
            "\u001b[2K     \u001b[90m━━━━━━━━━━━━━━━━━━━━━━━━━━━━━━━━━━━━━━━━\u001b[0m \u001b[32m60.6/60.6 kB\u001b[0m \u001b[31m5.7 MB/s\u001b[0m eta \u001b[36m0:00:00\u001b[0m\n",
            "\u001b[?25hRequirement already satisfied: itsdangerous>=2.0.1 in /usr/local/lib/python3.10/dist-packages (from requests-cache~=0.7.0->chembl_webresource_client) (2.1.2)\n",
            "Requirement already satisfied: pyyaml>=5.4 in /usr/local/lib/python3.10/dist-packages (from requests-cache~=0.7.0->chembl_webresource_client) (6.0)\n",
            "Collecting url-normalize<2.0,>=1.4 (from requests-cache~=0.7.0->chembl_webresource_client)\n",
            "  Downloading url_normalize-1.4.3-py2.py3-none-any.whl (6.8 kB)\n",
            "Requirement already satisfied: six in /usr/local/lib/python3.10/dist-packages (from url-normalize<2.0,>=1.4->requests-cache~=0.7.0->chembl_webresource_client) (1.16.0)\n",
            "Installing collected packages: url-normalize, attrs, requests-cache, chembl_webresource_client\n",
            "  Attempting uninstall: attrs\n",
            "    Found existing installation: attrs 23.1.0\n",
            "    Uninstalling attrs-23.1.0:\n",
            "      Successfully uninstalled attrs-23.1.0\n",
            "Successfully installed attrs-21.4.0 chembl_webresource_client-0.10.8 requests-cache-0.7.5 url-normalize-1.4.3\n"
          ]
        }
      ],
      "source": [
        "! pip install chembl_webresource_client"
      ]
    },
    {
      "cell_type": "markdown",
      "metadata": {
        "id": "J0kJjL8gb5nX"
      },
      "source": [
        "## **Importing libraries**"
      ]
    },
    {
      "cell_type": "code",
      "execution_count": 3,
      "metadata": {
        "id": "RXoCvMPPfNrv"
      },
      "outputs": [],
      "source": [
        "import pandas as pd #data processing, CSV file I/O (e.g. pd.read_csv)\n",
        "from chembl_webresource_client.new_client import new_client #provides a client interface to the ChEMBL database of bioactive molecules\n",
        "import warnings #ignore warnings\n",
        "warnings.filterwarnings('ignore')\n",
        "import numpy as np #linear algebra\n",
        "import seaborn as sns\n",
        "sns.set(style='ticks')\n",
        "import matplotlib.pyplot as plt"
      ]
    },
    {
      "cell_type": "markdown",
      "metadata": {
        "id": "1FgUai1bfigC"
      },
      "source": [
        "## **Search for Target protein**"
      ]
    },
    {
      "cell_type": "markdown",
      "metadata": {
        "id": "7lBsDrD0gAqH"
      },
      "source": [
        "### **Target search for \"urease\"**"
      ]
    },
    {
      "cell_type": "code",
      "execution_count": 4,
      "metadata": {
        "colab": {
          "base_uri": "https://localhost:8080/",
          "height": 305
        },
        "id": "Vxtp79so4ZjF",
        "outputId": "d07530e0-57e8-4123-bb7d-0abafe5011b7"
      },
      "outputs": [
        {
          "output_type": "execute_result",
          "data": {
            "text/plain": [
              "                                    cross_references  \\\n",
              "0  [{'xref_id': 'P07374', 'xref_name': None, 'xre...   \n",
              "1                                                 []   \n",
              "2  [{'xref_id': 'Q0PXQ5', 'xref_name': None, 'xre...   \n",
              "3                                                 []   \n",
              "\n",
              "                                            organism  \\\n",
              "0                               Canavalia ensiformis   \n",
              "1                                           Bacteria   \n",
              "2                                Helicobacter pylori   \n",
              "3  Helicobacter pylori (strain ATCC 700392 / 2669...   \n",
              "\n",
              "                                  pref_name  score  species_group_flag  \\\n",
              "0                                    Urease   21.0               False   \n",
              "1                          Bacterial urease   19.0                True   \n",
              "2                                    Urease   18.0               False   \n",
              "3  Urease subunit alpha/Urease subunit beta   18.0               False   \n",
              "\n",
              "  target_chembl_id                                  target_components  \\\n",
              "0       CHEMBL4161  [{'accession': 'P07374', 'component_descriptio...   \n",
              "1    CHEMBL2364683  [{'accession': 'Q03282', 'component_descriptio...   \n",
              "2       CHEMBL5325  [{'accession': 'Q0PXQ5', 'component_descriptio...   \n",
              "3    CHEMBL3885651  [{'accession': 'P69996', 'component_descriptio...   \n",
              "\n",
              "       target_type  tax_id  \n",
              "0   SINGLE PROTEIN    3823  \n",
              "1  PROTEIN COMPLEX       2  \n",
              "2   SINGLE PROTEIN     210  \n",
              "3  PROTEIN COMPLEX   85962  "
            ],
            "text/html": [
              "\n",
              "  <div id=\"df-6d53449f-be91-4b30-bdac-8ffb7376ef5d\">\n",
              "    <div class=\"colab-df-container\">\n",
              "      <div>\n",
              "<style scoped>\n",
              "    .dataframe tbody tr th:only-of-type {\n",
              "        vertical-align: middle;\n",
              "    }\n",
              "\n",
              "    .dataframe tbody tr th {\n",
              "        vertical-align: top;\n",
              "    }\n",
              "\n",
              "    .dataframe thead th {\n",
              "        text-align: right;\n",
              "    }\n",
              "</style>\n",
              "<table border=\"1\" class=\"dataframe\">\n",
              "  <thead>\n",
              "    <tr style=\"text-align: right;\">\n",
              "      <th></th>\n",
              "      <th>cross_references</th>\n",
              "      <th>organism</th>\n",
              "      <th>pref_name</th>\n",
              "      <th>score</th>\n",
              "      <th>species_group_flag</th>\n",
              "      <th>target_chembl_id</th>\n",
              "      <th>target_components</th>\n",
              "      <th>target_type</th>\n",
              "      <th>tax_id</th>\n",
              "    </tr>\n",
              "  </thead>\n",
              "  <tbody>\n",
              "    <tr>\n",
              "      <th>0</th>\n",
              "      <td>[{'xref_id': 'P07374', 'xref_name': None, 'xre...</td>\n",
              "      <td>Canavalia ensiformis</td>\n",
              "      <td>Urease</td>\n",
              "      <td>21.0</td>\n",
              "      <td>False</td>\n",
              "      <td>CHEMBL4161</td>\n",
              "      <td>[{'accession': 'P07374', 'component_descriptio...</td>\n",
              "      <td>SINGLE PROTEIN</td>\n",
              "      <td>3823</td>\n",
              "    </tr>\n",
              "    <tr>\n",
              "      <th>1</th>\n",
              "      <td>[]</td>\n",
              "      <td>Bacteria</td>\n",
              "      <td>Bacterial urease</td>\n",
              "      <td>19.0</td>\n",
              "      <td>True</td>\n",
              "      <td>CHEMBL2364683</td>\n",
              "      <td>[{'accession': 'Q03282', 'component_descriptio...</td>\n",
              "      <td>PROTEIN COMPLEX</td>\n",
              "      <td>2</td>\n",
              "    </tr>\n",
              "    <tr>\n",
              "      <th>2</th>\n",
              "      <td>[{'xref_id': 'Q0PXQ5', 'xref_name': None, 'xre...</td>\n",
              "      <td>Helicobacter pylori</td>\n",
              "      <td>Urease</td>\n",
              "      <td>18.0</td>\n",
              "      <td>False</td>\n",
              "      <td>CHEMBL5325</td>\n",
              "      <td>[{'accession': 'Q0PXQ5', 'component_descriptio...</td>\n",
              "      <td>SINGLE PROTEIN</td>\n",
              "      <td>210</td>\n",
              "    </tr>\n",
              "    <tr>\n",
              "      <th>3</th>\n",
              "      <td>[]</td>\n",
              "      <td>Helicobacter pylori (strain ATCC 700392 / 2669...</td>\n",
              "      <td>Urease subunit alpha/Urease subunit beta</td>\n",
              "      <td>18.0</td>\n",
              "      <td>False</td>\n",
              "      <td>CHEMBL3885651</td>\n",
              "      <td>[{'accession': 'P69996', 'component_descriptio...</td>\n",
              "      <td>PROTEIN COMPLEX</td>\n",
              "      <td>85962</td>\n",
              "    </tr>\n",
              "  </tbody>\n",
              "</table>\n",
              "</div>\n",
              "      <button class=\"colab-df-convert\" onclick=\"convertToInteractive('df-6d53449f-be91-4b30-bdac-8ffb7376ef5d')\"\n",
              "              title=\"Convert this dataframe to an interactive table.\"\n",
              "              style=\"display:none;\">\n",
              "        \n",
              "  <svg xmlns=\"http://www.w3.org/2000/svg\" height=\"24px\"viewBox=\"0 0 24 24\"\n",
              "       width=\"24px\">\n",
              "    <path d=\"M0 0h24v24H0V0z\" fill=\"none\"/>\n",
              "    <path d=\"M18.56 5.44l.94 2.06.94-2.06 2.06-.94-2.06-.94-.94-2.06-.94 2.06-2.06.94zm-11 1L8.5 8.5l.94-2.06 2.06-.94-2.06-.94L8.5 2.5l-.94 2.06-2.06.94zm10 10l.94 2.06.94-2.06 2.06-.94-2.06-.94-.94-2.06-.94 2.06-2.06.94z\"/><path d=\"M17.41 7.96l-1.37-1.37c-.4-.4-.92-.59-1.43-.59-.52 0-1.04.2-1.43.59L10.3 9.45l-7.72 7.72c-.78.78-.78 2.05 0 2.83L4 21.41c.39.39.9.59 1.41.59.51 0 1.02-.2 1.41-.59l7.78-7.78 2.81-2.81c.8-.78.8-2.07 0-2.86zM5.41 20L4 18.59l7.72-7.72 1.47 1.35L5.41 20z\"/>\n",
              "  </svg>\n",
              "      </button>\n",
              "      \n",
              "  <style>\n",
              "    .colab-df-container {\n",
              "      display:flex;\n",
              "      flex-wrap:wrap;\n",
              "      gap: 12px;\n",
              "    }\n",
              "\n",
              "    .colab-df-convert {\n",
              "      background-color: #E8F0FE;\n",
              "      border: none;\n",
              "      border-radius: 50%;\n",
              "      cursor: pointer;\n",
              "      display: none;\n",
              "      fill: #1967D2;\n",
              "      height: 32px;\n",
              "      padding: 0 0 0 0;\n",
              "      width: 32px;\n",
              "    }\n",
              "\n",
              "    .colab-df-convert:hover {\n",
              "      background-color: #E2EBFA;\n",
              "      box-shadow: 0px 1px 2px rgba(60, 64, 67, 0.3), 0px 1px 3px 1px rgba(60, 64, 67, 0.15);\n",
              "      fill: #174EA6;\n",
              "    }\n",
              "\n",
              "    [theme=dark] .colab-df-convert {\n",
              "      background-color: #3B4455;\n",
              "      fill: #D2E3FC;\n",
              "    }\n",
              "\n",
              "    [theme=dark] .colab-df-convert:hover {\n",
              "      background-color: #434B5C;\n",
              "      box-shadow: 0px 1px 3px 1px rgba(0, 0, 0, 0.15);\n",
              "      filter: drop-shadow(0px 1px 2px rgba(0, 0, 0, 0.3));\n",
              "      fill: #FFFFFF;\n",
              "    }\n",
              "  </style>\n",
              "\n",
              "      <script>\n",
              "        const buttonEl =\n",
              "          document.querySelector('#df-6d53449f-be91-4b30-bdac-8ffb7376ef5d button.colab-df-convert');\n",
              "        buttonEl.style.display =\n",
              "          google.colab.kernel.accessAllowed ? 'block' : 'none';\n",
              "\n",
              "        async function convertToInteractive(key) {\n",
              "          const element = document.querySelector('#df-6d53449f-be91-4b30-bdac-8ffb7376ef5d');\n",
              "          const dataTable =\n",
              "            await google.colab.kernel.invokeFunction('convertToInteractive',\n",
              "                                                     [key], {});\n",
              "          if (!dataTable) return;\n",
              "\n",
              "          const docLinkHtml = 'Like what you see? Visit the ' +\n",
              "            '<a target=\"_blank\" href=https://colab.research.google.com/notebooks/data_table.ipynb>data table notebook</a>'\n",
              "            + ' to learn more about interactive tables.';\n",
              "          element.innerHTML = '';\n",
              "          dataTable['output_type'] = 'display_data';\n",
              "          await google.colab.output.renderOutput(dataTable, element);\n",
              "          const docLink = document.createElement('div');\n",
              "          docLink.innerHTML = docLinkHtml;\n",
              "          element.appendChild(docLink);\n",
              "        }\n",
              "      </script>\n",
              "    </div>\n",
              "  </div>\n",
              "  "
            ]
          },
          "metadata": {},
          "execution_count": 4
        }
      ],
      "source": [
        "target = new_client.target\n",
        "target_query = target.search('urease')\n",
        "targets = pd.DataFrame.from_dict(target_query)\n",
        "targets"
      ]
    },
    {
      "cell_type": "markdown",
      "metadata": {
        "id": "Y5OPfEALjAfZ"
      },
      "source": [
        "### **Select and retrieve bioactivity data for *Helicobacter pylori urease***"
      ]
    },
    {
      "cell_type": "code",
      "execution_count": 5,
      "metadata": {
        "id": "LeFbV_CsSP8D"
      },
      "outputs": [],
      "source": [
        "activity = new_client.activity\n",
        "res1 = activity.filter(target_chembl_id='CHEMBL4161').filter(standard_type=\"IC50\")\n",
        "d1 = pd.DataFrame.from_dict(res1)"
      ]
    },
    {
      "cell_type": "code",
      "source": [
        "d1.to_csv('d1.csv', index=False)"
      ],
      "metadata": {
        "id": "iIm5lLvQoLx-"
      },
      "execution_count": 6,
      "outputs": []
    },
    {
      "cell_type": "code",
      "execution_count": 7,
      "metadata": {
        "id": "BoQtu29ppxJ-"
      },
      "outputs": [],
      "source": [
        "activity = new_client.activity\n",
        "res2 = activity.filter(target_chembl_id='CHEMBL2364683').filter(standard_type=\"IC50\")\n",
        "d2 = pd.DataFrame.from_dict(res2)"
      ]
    },
    {
      "cell_type": "code",
      "source": [
        "d2.to_csv('d2.csv', index=False)"
      ],
      "metadata": {
        "id": "_olBH9wooUD0"
      },
      "execution_count": 8,
      "outputs": []
    },
    {
      "cell_type": "code",
      "source": [
        "activity = new_client.activity\n",
        "res3 = activity.filter(target_chembl_id='CHEMBL5325').filter(standard_type=\"IC50\")\n",
        "d3 = pd.DataFrame.from_dict(res3)"
      ],
      "metadata": {
        "id": "fkqxOdsPnd5J"
      },
      "execution_count": 9,
      "outputs": []
    },
    {
      "cell_type": "code",
      "source": [
        "d3.to_csv('d3.csv', index=False)"
      ],
      "metadata": {
        "id": "x3Iyy1efoWOd"
      },
      "execution_count": 10,
      "outputs": []
    },
    {
      "cell_type": "code",
      "source": [
        "activity = new_client.activity\n",
        "res4 = activity.filter(target_chembl_id='CHEMBL3885651').filter(standard_type=\"IC50\")\n",
        "d4 = pd.DataFrame.from_dict(res4)"
      ],
      "metadata": {
        "id": "zhDlixBEnfJ7"
      },
      "execution_count": 11,
      "outputs": []
    },
    {
      "cell_type": "code",
      "source": [
        "d4.to_csv('d4.csv', index=False)"
      ],
      "metadata": {
        "id": "sN0edHBCoYbB"
      },
      "execution_count": 12,
      "outputs": []
    },
    {
      "cell_type": "code",
      "source": [
        "data1 = pd.read_csv('d1.csv')\n",
        "data2 = pd.read_csv('d2.csv')\n",
        "data3 = pd.read_csv('d3.csv')\n",
        "data4 = pd.read_csv('d4.csv')"
      ],
      "metadata": {
        "id": "m6ChtNV-obDz"
      },
      "execution_count": 13,
      "outputs": []
    },
    {
      "cell_type": "code",
      "source": [
        "df1 = pd.concat([data1, data2, data3, data4])"
      ],
      "metadata": {
        "id": "_yZ4mfDqple6"
      },
      "execution_count": 14,
      "outputs": []
    },
    {
      "cell_type": "markdown",
      "metadata": {
        "id": "5H4sSFAWhV9B"
      },
      "source": [
        "## **Data pre-processing of the bioactivity data**"
      ]
    },
    {
      "cell_type": "markdown",
      "source": [
        "### **Combine the 3 columns (molecule_chembl_id, canonical_smiles, standard_value = IC50) and bioactivity_class into a DataFrame**"
      ],
      "metadata": {
        "id": "b8aV08uMzwHa"
      }
    },
    {
      "cell_type": "code",
      "source": [
        "selection = ['molecule_chembl_id','canonical_smiles','standard_value']\n",
        "df2 = df1[selection]\n",
        "df2.columns = ['chembl_id', 'canonical_smiles', 'standard_value']"
      ],
      "metadata": {
        "id": "sb1kEMMq0A24"
      },
      "execution_count": 15,
      "outputs": []
    },
    {
      "cell_type": "markdown",
      "metadata": {
        "id": "_GXMpFNUOn_8"
      },
      "source": [
        "### **Handling missing data**"
      ]
    },
    {
      "cell_type": "markdown",
      "metadata": {
        "id": "hf6QwzzLpxJ_"
      },
      "source": [
        "Save data containing compounds with missing value for the **standard_value** "
      ]
    },
    {
      "cell_type": "code",
      "execution_count": 16,
      "metadata": {
        "id": "MoLzwdGtpxJ_"
      },
      "outputs": [],
      "source": [
        "df2[df2.standard_value.isna()].to_csv('bioactivity_data_raw_with_no_IC50_value.csv', index=False)"
      ]
    },
    {
      "cell_type": "markdown",
      "source": [
        "If any compounds has missing value for the **standard_value** and **canonical_smiles** column then drop it"
      ],
      "metadata": {
        "id": "eZKGioUh1KR1"
      }
    },
    {
      "cell_type": "code",
      "source": [
        "df3 = df2[df2.standard_value.notna()]\n",
        "df4 = df3[df3.canonical_smiles.notna()]"
      ],
      "metadata": {
        "id": "kxDCvgR11LDy"
      },
      "execution_count": 17,
      "outputs": []
    },
    {
      "cell_type": "markdown",
      "source": [
        "### **Remove duplicates**\n",
        "Drop duplicate molecules based on their canonical SMILES representation"
      ],
      "metadata": {
        "id": "tJOQn7aQ0k9m"
      }
    },
    {
      "cell_type": "code",
      "execution_count": 18,
      "metadata": {
        "id": "JbAK3K7wclkS"
      },
      "outputs": [],
      "source": [
        "df5 = df4.drop_duplicates(['canonical_smiles'])"
      ]
    },
    {
      "cell_type": "markdown",
      "metadata": {
        "id": "d0ObVWGmkj_L"
      },
      "source": [
        "Saves dataframe to CSV file"
      ]
    },
    {
      "cell_type": "code",
      "execution_count": 19,
      "metadata": {
        "id": "pAzJTVu4kMd_"
      },
      "outputs": [],
      "source": [
        "df5.to_csv('bioactivity_data_preprocessed.csv', index=False)"
      ]
    },
    {
      "cell_type": "markdown",
      "metadata": {
        "id": "tO22XVlzhkXR"
      },
      "source": [
        "### **Labeling compounds as either being active or inactive**\n",
        "The bioactivity data is in the IC50 unit. Compounds having values of <= 1000 nM will be considered to be **active** while those > 1000 nM will be considered to be **inactive**. "
      ]
    },
    {
      "cell_type": "code",
      "execution_count": 20,
      "metadata": {
        "id": "Ck9Z2M9CkRy_"
      },
      "outputs": [],
      "source": [
        "df6 = pd.read_csv('bioactivity_data_preprocessed.csv')"
      ]
    },
    {
      "cell_type": "code",
      "execution_count": 21,
      "metadata": {
        "id": "1E8rz7oMOd-5"
      },
      "outputs": [],
      "source": [
        "bioactivity_threshold = []\n",
        "for i in df6.standard_value:\n",
        "  if float(i) <= 1000:\n",
        "    bioactivity_threshold.append(\"active\")\n",
        "  else:\n",
        "    bioactivity_threshold.append(\"inactive\")"
      ]
    },
    {
      "cell_type": "code",
      "execution_count": 22,
      "metadata": {
        "id": "Li64nUiZQ-y2",
        "scrolled": false
      },
      "outputs": [],
      "source": [
        "bioactivity_class = pd.Series(bioactivity_threshold, name='target')\n",
        "df7 = pd.concat([df6, bioactivity_class], axis=1)"
      ]
    },
    {
      "cell_type": "markdown",
      "source": [
        "### **Convert IC50 to pIC50**\n",
        "To allow **IC50** data to be more uniformly distributed, we will convert **IC50** to the negative logarithmic scale which is essentially **-log10(IC50)**.\n",
        "\n",
        "This custom function pIC50() will accept a DataFrame as input and will:\n",
        "* Take the IC50 values from the ``standard_value`` column and converts it from nM to M by multiplying the value by 10$^{-9}$\n",
        "* Take the molar value and apply -log10\n",
        "* Delete the ``standard_value`` column and create a new ``pIC50`` column"
      ],
      "metadata": {
        "id": "VwRu_1jN88OL"
      }
    },
    {
      "cell_type": "code",
      "source": [
        "plt.figure(figsize=(5.5, 5.5))\n",
        "color = (1, 0.4, 0.4)\n",
        "sns.distplot(df7['standard_value'], color=color, label='IC50')\n",
        "\n",
        "plt.xlabel('Standard Value (IC50)', fontsize=10, fontweight='bold')\n",
        "plt.ylabel('Density', fontsize=10, fontweight='bold')\n",
        "\n",
        "plt.savefig('plot_IC50_distribution.png', dpi=300)"
      ],
      "metadata": {
        "colab": {
          "base_uri": "https://localhost:8080/",
          "height": 524
        },
        "id": "4BDvLRA8F69n",
        "outputId": "e12b424a-2696-4cd1-a590-e7c45cf5f5c2"
      },
      "execution_count": 23,
      "outputs": [
        {
          "output_type": "display_data",
          "data": {
            "text/plain": [
              "<Figure size 550x550 with 1 Axes>"
            ],
            "image/png": "[encoded data removed]"
          },
          "metadata": {}
        }
      ]
    },
    {
      "cell_type": "code",
      "source": [
        "def pIC50(input):\n",
        "    pIC50 = []\n",
        "\n",
        "    for i in input['standard_value']:\n",
        "        molar = i*(10**-9) #converts nM to M\n",
        "        pIC50.append(-np.log10(molar))\n",
        "\n",
        "    input['pIC50'] = pIC50\n",
        "    x = input.drop('standard_value', 1)\n",
        "        \n",
        "    return x"
      ],
      "metadata": {
        "id": "AagKO77c83HN"
      },
      "execution_count": 24,
      "outputs": []
    },
    {
      "cell_type": "code",
      "source": [
        "df_final = pIC50(df7)"
      ],
      "metadata": {
        "id": "nXv28_2E_LUp"
      },
      "execution_count": 25,
      "outputs": []
    },
    {
      "cell_type": "code",
      "source": [
        "plt.figure(figsize=(5.5, 5.5))\n",
        "color = (1, 0.4, 0.4)\n",
        "sns.distplot(df_final['pIC50'], color=color, label='pIC50')\n",
        "\n",
        "plt.xlabel('pIC50', fontsize=10, fontweight='bold')\n",
        "plt.ylabel('Density', fontsize=10, fontweight='bold')\n",
        "\n",
        "plt.savefig('plot_pIC50_distribution.png', dpi=300)"
      ],
      "metadata": {
        "colab": {
          "base_uri": "https://localhost:8080/",
          "height": 508
        },
        "id": "QqyYAEJJHVwC",
        "outputId": "fa0c513e-6343-41ea-c126-42c75803e7dd"
      },
      "execution_count": 26,
      "outputs": [
        {
          "output_type": "display_data",
          "data": {
            "text/plain": [
              "<Figure size 550x550 with 1 Axes>"
            ],
            "image/png": "[encoded data removed]"
          },
          "metadata": {}
        }
      ]
    },
    {
      "cell_type": "markdown",
      "metadata": {
        "id": "9tlgyexWh7YJ"
      },
      "source": [
        "Saves dataframe to CSV file"
      ]
    },
    {
      "cell_type": "code",
      "execution_count": 27,
      "metadata": {
        "id": "nSNia7suXstR"
      },
      "outputs": [],
      "source": [
        "df_final.to_csv('bioactivity_data_curated.csv', index=False)"
      ]
    },
    {
      "cell_type": "code",
      "source": [
        "! zip lab1.zip *"
      ],
      "metadata": {
        "colab": {
          "base_uri": "https://localhost:8080/"
        },
        "id": "nQ1STtYXph6b",
        "outputId": "e63a8602-32d5-4e49-8676-46716d27179b"
      },
      "execution_count": 28,
      "outputs": [
        {
          "output_type": "stream",
          "name": "stdout",
          "text": [
            "  adding: bioactivity_data_curated.csv (deflated 77%)\n",
            "  adding: bioactivity_data_preprocessed.csv (deflated 80%)\n",
            "  adding: bioactivity_data_raw_with_no_IC50_value.csv (deflated 80%)\n",
            "  adding: d1.csv (deflated 91%)\n",
            "  adding: d2.csv (deflated 88%)\n",
            "  adding: d3.csv (deflated 87%)\n",
            "  adding: d4.csv (deflated 94%)\n",
            "  adding: plot_IC50_distribution.png (deflated 26%)\n",
            "  adding: plot_pIC50_distribution.png (deflated 17%)\n",
            "  adding: sample_data/ (stored 0%)\n"
          ]
        }
      ]
    },
    {
      "cell_type": "markdown",
      "source": [
        "\n",
        "\n",
        "---\n",
        "\n"
      ],
      "metadata": {
        "id": "5nQfnG4m2VMb"
      }
    }
  ],
  "metadata": {
    "colab": {
      "provenance": [],
      "include_colab_link": true
    },
    "kernelspec": {
      "display_name": "Python 3 (ipykernel)",
      "language": "python",
      "name": "python3"
    },
    "language_info": {
      "codemirror_mode": {
        "name": "ipython",
        "version": 3
      },
      "file_extension": ".py",
      "mimetype": "text/x-python",
      "name": "python",
      "nbconvert_exporter": "python",
      "pygments_lexer": "ipython3",
      "version": "3.11.3"
    }
  },
  "nbformat": 4,
  "nbformat_minor": 0
}